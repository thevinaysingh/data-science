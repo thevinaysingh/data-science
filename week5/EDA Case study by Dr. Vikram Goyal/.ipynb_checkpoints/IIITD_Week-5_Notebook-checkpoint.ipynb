{
 "cells": [
  {
   "cell_type": "markdown",
   "metadata": {
    "id": "iiMV9joVUzC8"
   },
   "source": [
    "#  Exploratory Data Analysis of Google Store App Rating Data"
   ]
  },
  {
   "cell_type": "markdown",
   "metadata": {
    "id": "4myIa-iGVMYR"
   },
   "source": [
    "## Problem statement"
   ]
  },
  {
   "cell_type": "markdown",
   "metadata": {
    "id": "afCwwcpjj6oV"
   },
   "source": [
    "The Play Store apps data has enormous potential to drive app-making businesses to success. However, many apps are being developed every single day and only a few of them become profitable.  It is important for developers to be able to predict the success of their app and incorporate features which makes an app successful.\n",
    "We can collect app data and user ratings from the app stores and use it to extract insightful information.\n",
    "A machine learning model can be used to predict rating for a given app, which can be used to estimate success and scope of improvement. \n",
    "\n",
    "\n",
    "As part of this exercise we will perform EDA on various features like price, number of reviews, rating, etc.\n",
    "\n"
   ]
  },
  {
   "cell_type": "markdown",
   "metadata": {
    "id": "DW1MreAmVGtm"
   },
   "source": [
    "## Data Set Information"
   ]
  },
  {
   "cell_type": "markdown",
   "metadata": {
    "id": "xKDxI9nOkDn4"
   },
   "source": [
    "Attributes - \n",
    "\n",
    "- App: Application name\n",
    "\n",
    "- Rating: Overall user rating of the app \n",
    "\n",
    "- Reviews: Number of user reviews for the app\n",
    "\n",
    "- Type: Paid or Free\n",
    "\n",
    "- Price: Price of the app \n",
    "\n",
    "- Content Rating: Age group the app is targeted at - Children / Mature 21+ / Adult"
   ]
  },
  {
   "cell_type": "markdown",
   "metadata": {
    "id": "0T-pRRpWD-u2"
   },
   "source": [
    "## Learning Objective\n",
    "1. Statistical analysis of the data\n",
    "2. Missing value identification and treatment\n",
    "    - Create a copy of the dataframe\n",
    "3. Duplicate value identification and treatment\n",
    "    - Drop a columns from the data frame\n",
    "4. Outlier identification and treatment\n",
    "    - Log transformation\n",
    "    - Whisker bound treatment\n",
    "5. Invalid value identification and treatment\n",
    "6. Dealing with categorical features\n",
    "7. Scaling\n",
    "8. Conclusion"
   ]
  },
  {
   "cell_type": "markdown",
   "metadata": {
    "id": "vPN4lw2tDUct"
   },
   "source": [
    "Mount Drive (if using Colab)"
   ]
  },
  {
   "cell_type": "code",
   "execution_count": null,
   "metadata": {
    "id": "O17-dUz9Qllv"
   },
   "outputs": [],
   "source": [
    "#from google.colab import drive\n",
    "#drive.mount('/content/gdrive')"
   ]
  },
  {
   "cell_type": "markdown",
   "metadata": {
    "id": "px7EEjCcZ_6N"
   },
   "source": [
    "## 1. Import Pandas and Read the Dataset"
   ]
  },
  {
   "cell_type": "code",
   "execution_count": null,
   "metadata": {
    "id": "hsgGbUQxDhA0"
   },
   "outputs": [],
   "source": [
    "import pandas as pd\n",
    "import numpy as np\n",
    "import seaborn as sns\n",
    "import matplotlib.pyplot as plt\n",
    "import warnings\n",
    "warnings.filterwarnings('ignore')"
   ]
  },
  {
   "cell_type": "code",
   "execution_count": null,
   "metadata": {
    "id": "7d75tvy4D-u7"
   },
   "outputs": [],
   "source": [
    "df = pd.read_csv('app.csv')"
   ]
  },
  {
   "cell_type": "markdown",
   "metadata": {
    "id": "moX2DYvCVVjj"
   },
   "source": [
    "## 2. EDA and Preprocessing"
   ]
  },
  {
   "cell_type": "markdown",
   "metadata": {
    "id": "ZUhd1WCYo2bP"
   },
   "source": [
    "###  2.1 Check a few samples and info of the dataset"
   ]
  },
  {
   "cell_type": "code",
   "execution_count": null,
   "metadata": {
    "id": "fKzWNJaUD-u8",
    "outputId": "3e30987b-0a8c-4f59-a29e-001778bd25b7"
   },
   "outputs": [
    {
     "data": {
      "text/html": [
       "<div>\n",
       "<style scoped>\n",
       "    .dataframe tbody tr th:only-of-type {\n",
       "        vertical-align: middle;\n",
       "    }\n",
       "\n",
       "    .dataframe tbody tr th {\n",
       "        vertical-align: top;\n",
       "    }\n",
       "\n",
       "    .dataframe thead th {\n",
       "        text-align: right;\n",
       "    }\n",
       "</style>\n",
       "<table border=\"1\" class=\"dataframe\">\n",
       "  <thead>\n",
       "    <tr style=\"text-align: right;\">\n",
       "      <th></th>\n",
       "      <th>App</th>\n",
       "      <th>Rating</th>\n",
       "      <th>Reviews</th>\n",
       "      <th>Type</th>\n",
       "      <th>Price</th>\n",
       "      <th>Content Rating</th>\n",
       "    </tr>\n",
       "  </thead>\n",
       "  <tbody>\n",
       "    <tr>\n",
       "      <th>0</th>\n",
       "      <td>Photo Editor &amp; Candy Camera &amp; Grid &amp; ScrapBook</td>\n",
       "      <td>4.1</td>\n",
       "      <td>159</td>\n",
       "      <td>Free</td>\n",
       "      <td>0</td>\n",
       "      <td>Everyone</td>\n",
       "    </tr>\n",
       "    <tr>\n",
       "      <th>1</th>\n",
       "      <td>Coloring book moana</td>\n",
       "      <td>3.9</td>\n",
       "      <td>967</td>\n",
       "      <td>Free</td>\n",
       "      <td>0</td>\n",
       "      <td>Everyone</td>\n",
       "    </tr>\n",
       "  </tbody>\n",
       "</table>\n",
       "</div>"
      ],
      "text/plain": [
       "                                              App  Rating  Reviews  Type  \\\n",
       "0  Photo Editor & Candy Camera & Grid & ScrapBook     4.1      159  Free   \n",
       "1                             Coloring book moana     3.9      967  Free   \n",
       "\n",
       "  Price Content Rating  \n",
       "0     0       Everyone  \n",
       "1     0       Everyone  "
      ]
     },
     "execution_count": 191,
     "metadata": {},
     "output_type": "execute_result"
    }
   ],
   "source": [
    "df.head(2)"
   ]
  },
  {
   "cell_type": "code",
   "execution_count": null,
   "metadata": {
    "id": "udG9i0w2Di-m",
    "outputId": "12a7fe54-3b26-4f71-a1ef-d2d3f217ec70"
   },
   "outputs": [
    {
     "name": "stdout",
     "output_type": "stream",
     "text": [
      "<class 'pandas.core.frame.DataFrame'>\n",
      "RangeIndex: 9360 entries, 0 to 9359\n",
      "Data columns (total 6 columns):\n",
      " #   Column          Non-Null Count  Dtype  \n",
      "---  ------          --------------  -----  \n",
      " 0   App             9360 non-null   object \n",
      " 1   Rating          9352 non-null   float64\n",
      " 2   Reviews         9360 non-null   int64  \n",
      " 3   Type            9344 non-null   object \n",
      " 4   Price           9360 non-null   object \n",
      " 5   Content Rating  9360 non-null   object \n",
      "dtypes: float64(1), int64(1), object(4)\n",
      "memory usage: 438.9+ KB\n"
     ]
    }
   ],
   "source": [
    "df.info()"
   ]
  },
  {
   "cell_type": "markdown",
   "metadata": {
    "id": "U9dNcZdYD-u9"
   },
   "source": [
    "- There are 6 columns and 9360 rows\n",
    "- Except rating and reviews, other features are of object type\n",
    "- There are some null values"
   ]
  },
  {
   "cell_type": "markdown",
   "metadata": {
    "id": "Jq3sIbx_DuaQ"
   },
   "source": [
    "### 2.2 Check summary Statistics and write your findings"
   ]
  },
  {
   "cell_type": "code",
   "execution_count": null,
   "metadata": {
    "id": "SL2KB6R9Dnrb",
    "outputId": "7116376e-3967-46eb-f686-807cf3a60240",
    "scrolled": true
   },
   "outputs": [
    {
     "data": {
      "text/html": [
       "<div>\n",
       "<style scoped>\n",
       "    .dataframe tbody tr th:only-of-type {\n",
       "        vertical-align: middle;\n",
       "    }\n",
       "\n",
       "    .dataframe tbody tr th {\n",
       "        vertical-align: top;\n",
       "    }\n",
       "\n",
       "    .dataframe thead th {\n",
       "        text-align: right;\n",
       "    }\n",
       "</style>\n",
       "<table border=\"1\" class=\"dataframe\">\n",
       "  <thead>\n",
       "    <tr style=\"text-align: right;\">\n",
       "      <th></th>\n",
       "      <th>Rating</th>\n",
       "      <th>Reviews</th>\n",
       "    </tr>\n",
       "  </thead>\n",
       "  <tbody>\n",
       "    <tr>\n",
       "      <th>count</th>\n",
       "      <td>9352.000000</td>\n",
       "      <td>9.360000e+03</td>\n",
       "    </tr>\n",
       "    <tr>\n",
       "      <th>mean</th>\n",
       "      <td>4.191948</td>\n",
       "      <td>5.143767e+05</td>\n",
       "    </tr>\n",
       "    <tr>\n",
       "      <th>std</th>\n",
       "      <td>0.515403</td>\n",
       "      <td>3.145023e+06</td>\n",
       "    </tr>\n",
       "    <tr>\n",
       "      <th>min</th>\n",
       "      <td>1.000000</td>\n",
       "      <td>1.000000e+00</td>\n",
       "    </tr>\n",
       "    <tr>\n",
       "      <th>25%</th>\n",
       "      <td>4.000000</td>\n",
       "      <td>1.867500e+02</td>\n",
       "    </tr>\n",
       "    <tr>\n",
       "      <th>50%</th>\n",
       "      <td>4.300000</td>\n",
       "      <td>5.955000e+03</td>\n",
       "    </tr>\n",
       "    <tr>\n",
       "      <th>75%</th>\n",
       "      <td>4.500000</td>\n",
       "      <td>8.162750e+04</td>\n",
       "    </tr>\n",
       "    <tr>\n",
       "      <th>max</th>\n",
       "      <td>5.000000</td>\n",
       "      <td>7.815831e+07</td>\n",
       "    </tr>\n",
       "  </tbody>\n",
       "</table>\n",
       "</div>"
      ],
      "text/plain": [
       "            Rating       Reviews\n",
       "count  9352.000000  9.360000e+03\n",
       "mean      4.191948  5.143767e+05\n",
       "std       0.515403  3.145023e+06\n",
       "min       1.000000  1.000000e+00\n",
       "25%       4.000000  1.867500e+02\n",
       "50%       4.300000  5.955000e+03\n",
       "75%       4.500000  8.162750e+04\n",
       "max       5.000000  7.815831e+07"
      ]
     },
     "execution_count": 193,
     "metadata": {},
     "output_type": "execute_result"
    }
   ],
   "source": [
    "df.describe()"
   ]
  },
  {
   "cell_type": "code",
   "execution_count": null,
   "metadata": {
    "id": "NSPs_NZxD-u-",
    "outputId": "79f8cb71-2ea7-491f-8f41-fd72dc23d41c"
   },
   "outputs": [
    {
     "data": {
      "text/html": [
       "<div>\n",
       "<style scoped>\n",
       "    .dataframe tbody tr th:only-of-type {\n",
       "        vertical-align: middle;\n",
       "    }\n",
       "\n",
       "    .dataframe tbody tr th {\n",
       "        vertical-align: top;\n",
       "    }\n",
       "\n",
       "    .dataframe thead th {\n",
       "        text-align: right;\n",
       "    }\n",
       "</style>\n",
       "<table border=\"1\" class=\"dataframe\">\n",
       "  <thead>\n",
       "    <tr style=\"text-align: right;\">\n",
       "      <th></th>\n",
       "      <th>App</th>\n",
       "      <th>Type</th>\n",
       "      <th>Price</th>\n",
       "      <th>Content Rating</th>\n",
       "    </tr>\n",
       "  </thead>\n",
       "  <tbody>\n",
       "    <tr>\n",
       "      <th>count</th>\n",
       "      <td>9360</td>\n",
       "      <td>9344</td>\n",
       "      <td>9360</td>\n",
       "      <td>9360</td>\n",
       "    </tr>\n",
       "    <tr>\n",
       "      <th>unique</th>\n",
       "      <td>8190</td>\n",
       "      <td>2</td>\n",
       "      <td>73</td>\n",
       "      <td>6</td>\n",
       "    </tr>\n",
       "    <tr>\n",
       "      <th>top</th>\n",
       "      <td>ROBLOX</td>\n",
       "      <td>Free</td>\n",
       "      <td>0</td>\n",
       "      <td>Everyone</td>\n",
       "    </tr>\n",
       "    <tr>\n",
       "      <th>freq</th>\n",
       "      <td>9</td>\n",
       "      <td>8700</td>\n",
       "      <td>8715</td>\n",
       "      <td>7414</td>\n",
       "    </tr>\n",
       "  </tbody>\n",
       "</table>\n",
       "</div>"
      ],
      "text/plain": [
       "           App  Type Price Content Rating\n",
       "count     9360  9344  9360           9360\n",
       "unique    8190     2    73              6\n",
       "top     ROBLOX  Free     0       Everyone\n",
       "freq         9  8700  8715           7414"
      ]
     },
     "execution_count": 194,
     "metadata": {},
     "output_type": "execute_result"
    }
   ],
   "source": [
    "df.describe(include='O')"
   ]
  },
  {
   "cell_type": "markdown",
   "metadata": {
    "id": "dwMErIiBD-u-"
   },
   "source": [
    "### Basic observations\n",
    "- App : 9360 unique values. Top value seems to ROBOLOX. We could have duplicate entries here as top app has 9 instances.\n",
    "- Rating - min value is 1 and max is 5\n",
    "- Reviews - there are some apps with zero reviews\n",
    "- Type - Most of the apps are free. There are only three categories here.\n",
    "- Price - More than 8.5k apps are free of cost"
   ]
  },
  {
   "cell_type": "markdown",
   "metadata": {
    "id": "WLwUgN3jD-u_"
   },
   "source": [
    "### Inferences\n",
    "1. App name can be dropped after doing basic analysis\n",
    "\n",
    "2. Type & Content Rating - Convert it to numeric\n",
    "\n",
    "3. Price - The datatype is object type. We should make it numeric\n",
    "\n",
    "4. Type and Price could be highly correlated"
   ]
  },
  {
   "cell_type": "markdown",
   "metadata": {
    "id": "pr1mNr2tD8NW"
   },
   "source": [
    "### 2.3 Check for NaN values and impute them"
   ]
  },
  {
   "cell_type": "code",
   "execution_count": null,
   "metadata": {
    "id": "2TpS1jEIEDGC",
    "outputId": "f526cdb8-ea70-4f3a-e84f-2bfd0eea7b23"
   },
   "outputs": [
    {
     "data": {
      "text/plain": [
       "App               0.00000\n",
       "Rating            0.08547\n",
       "Reviews           0.00000\n",
       "Type              0.17094\n",
       "Price             0.00000\n",
       "Content Rating    0.00000\n",
       "dtype: float64"
      ]
     },
     "execution_count": 195,
     "metadata": {},
     "output_type": "execute_result"
    }
   ],
   "source": [
    "df.isna().sum()/df.shape[0]*100"
   ]
  },
  {
   "cell_type": "markdown",
   "metadata": {
    "id": "Z4MFHPMsD-vA"
   },
   "source": [
    "- There are some missing values in the rating and type features"
   ]
  },
  {
   "cell_type": "code",
   "execution_count": null,
   "metadata": {
    "id": "yjccCR4SD-vA",
    "outputId": "b306639d-9807-4f45-84cd-cecf1ccde22c"
   },
   "outputs": [
    {
     "data": {
      "text/html": [
       "<div>\n",
       "<style scoped>\n",
       "    .dataframe tbody tr th:only-of-type {\n",
       "        vertical-align: middle;\n",
       "    }\n",
       "\n",
       "    .dataframe tbody tr th {\n",
       "        vertical-align: top;\n",
       "    }\n",
       "\n",
       "    .dataframe thead th {\n",
       "        text-align: right;\n",
       "    }\n",
       "</style>\n",
       "<table border=\"1\" class=\"dataframe\">\n",
       "  <thead>\n",
       "    <tr style=\"text-align: right;\">\n",
       "      <th></th>\n",
       "      <th>value</th>\n",
       "      <th>Missing?</th>\n",
       "    </tr>\n",
       "  </thead>\n",
       "  <tbody>\n",
       "    <tr>\n",
       "      <th>250</th>\n",
       "      <td>NaN</td>\n",
       "      <td>True</td>\n",
       "    </tr>\n",
       "    <tr>\n",
       "      <th>251</th>\n",
       "      <td>NaN</td>\n",
       "      <td>True</td>\n",
       "    </tr>\n",
       "    <tr>\n",
       "      <th>420</th>\n",
       "      <td>NaN</td>\n",
       "      <td>True</td>\n",
       "    </tr>\n",
       "    <tr>\n",
       "      <th>542</th>\n",
       "      <td>NaN</td>\n",
       "      <td>True</td>\n",
       "    </tr>\n",
       "    <tr>\n",
       "      <th>543</th>\n",
       "      <td>NaN</td>\n",
       "      <td>True</td>\n",
       "    </tr>\n",
       "    <tr>\n",
       "      <th>756</th>\n",
       "      <td>NaN</td>\n",
       "      <td>True</td>\n",
       "    </tr>\n",
       "    <tr>\n",
       "      <th>9351</th>\n",
       "      <td>NaN</td>\n",
       "      <td>True</td>\n",
       "    </tr>\n",
       "    <tr>\n",
       "      <th>9352</th>\n",
       "      <td>NaN</td>\n",
       "      <td>True</td>\n",
       "    </tr>\n",
       "  </tbody>\n",
       "</table>\n",
       "</div>"
      ],
      "text/plain": [
       "      value  Missing?\n",
       "250     NaN      True\n",
       "251     NaN      True\n",
       "420     NaN      True\n",
       "542     NaN      True\n",
       "543     NaN      True\n",
       "756     NaN      True\n",
       "9351    NaN      True\n",
       "9352    NaN      True"
      ]
     },
     "execution_count": 196,
     "metadata": {},
     "output_type": "execute_result"
    }
   ],
   "source": [
    "# What isnull() function recognises as missing value\n",
    "\n",
    "df_rating = pd.DataFrame({'value' : df['Rating'], 'Missing?' : df['Rating'].isnull()}) \n",
    "df_rating[df_rating['Missing?']==True]"
   ]
  },
  {
   "cell_type": "markdown",
   "metadata": {
    "id": "G1IjJFmvD-vA"
   },
   "source": [
    "- Here, only 'NaN' is recognised as missing value\n",
    "- Depending on the context, we decide what should be a missing value. Like sometimes, zero could considered missing."
   ]
  },
  {
   "cell_type": "markdown",
   "metadata": {
    "id": "A2gGbxBLD-vB"
   },
   "source": [
    "### Impute null values"
   ]
  },
  {
   "cell_type": "code",
   "execution_count": null,
   "metadata": {
    "id": "APIWkN1GD-vB",
    "outputId": "a7f13a4b-6ab0-46bb-805b-3b3780be55c4"
   },
   "outputs": [
    {
     "data": {
      "text/plain": [
       "App               0\n",
       "Rating            0\n",
       "Reviews           0\n",
       "Type              0\n",
       "Price             0\n",
       "Content Rating    0\n",
       "dtype: int64"
      ]
     },
     "execution_count": 197,
     "metadata": {},
     "output_type": "execute_result"
    }
   ],
   "source": [
    "## Method 1 - Drop null values as there are very few of them\n",
    "df1 = df.dropna()\n",
    "df1.isna().sum()"
   ]
  },
  {
   "cell_type": "code",
   "execution_count": null,
   "metadata": {
    "id": "tB30BhkpD-vB",
    "outputId": "389696b5-d981-429d-8157-147bdb953f89"
   },
   "outputs": [
    {
     "data": {
      "text/html": [
       "<div>\n",
       "<style scoped>\n",
       "    .dataframe tbody tr th:only-of-type {\n",
       "        vertical-align: middle;\n",
       "    }\n",
       "\n",
       "    .dataframe tbody tr th {\n",
       "        vertical-align: top;\n",
       "    }\n",
       "\n",
       "    .dataframe thead th {\n",
       "        text-align: right;\n",
       "    }\n",
       "</style>\n",
       "<table border=\"1\" class=\"dataframe\">\n",
       "  <thead>\n",
       "    <tr style=\"text-align: right;\">\n",
       "      <th></th>\n",
       "      <th>App</th>\n",
       "      <th>Rating</th>\n",
       "      <th>Reviews</th>\n",
       "      <th>Type</th>\n",
       "      <th>Price</th>\n",
       "      <th>Content Rating</th>\n",
       "    </tr>\n",
       "  </thead>\n",
       "  <tbody>\n",
       "    <tr>\n",
       "      <th>0</th>\n",
       "      <td>ROBLOX</td>\n",
       "      <td>4.4</td>\n",
       "      <td>2</td>\n",
       "      <td>Free</td>\n",
       "      <td>0</td>\n",
       "      <td>Everyone</td>\n",
       "    </tr>\n",
       "  </tbody>\n",
       "</table>\n",
       "</div>"
      ],
      "text/plain": [
       "      App  Rating  Reviews  Type Price Content Rating\n",
       "0  ROBLOX     4.4        2  Free     0       Everyone"
      ]
     },
     "execution_count": 198,
     "metadata": {},
     "output_type": "execute_result"
    }
   ],
   "source": [
    "df.mode()"
   ]
  },
  {
   "cell_type": "code",
   "execution_count": null,
   "metadata": {
    "id": "l1KU3SS0D-vB",
    "outputId": "6926c6df-2f47-479b-eb9d-a572323db1b5"
   },
   "outputs": [
    {
     "data": {
      "text/plain": [
       "App               0\n",
       "Rating            0\n",
       "Reviews           0\n",
       "Type              0\n",
       "Price             0\n",
       "Content Rating    0\n",
       "dtype: int64"
      ]
     },
     "execution_count": 199,
     "metadata": {},
     "output_type": "execute_result"
    }
   ],
   "source": [
    "## Method 2:- Replace with mode\n",
    "\n",
    "df2 = df.copy() \n",
    "cols = [\"Rating\", \"Type\"]\n",
    "df2[cols]=df[cols].fillna(df.mode().iloc[0])\n",
    "\n",
    "df2.isna().sum()"
   ]
  },
  {
   "cell_type": "code",
   "execution_count": null,
   "metadata": {
    "id": "NJX8z0CoD-vC",
    "outputId": "3e866667-e839-4e17-8c40-93ffa92b4f2e"
   },
   "outputs": [
    {
     "data": {
      "text/plain": [
       "App                0\n",
       "Rating             0\n",
       "Reviews            0\n",
       "Type              16\n",
       "Price              0\n",
       "Content Rating     0\n",
       "dtype: int64"
      ]
     },
     "execution_count": 200,
     "metadata": {},
     "output_type": "execute_result"
    }
   ],
   "source": [
    "## Method 2:- Replace with mean/median for continuos column\n",
    "\n",
    "df3 = df.copy() \n",
    "\n",
    "df3 = df.fillna(df.median())\n",
    "\n",
    "df3.isna().sum()"
   ]
  },
  {
   "cell_type": "code",
   "execution_count": null,
   "metadata": {
    "id": "9c6GFIfbD-vC",
    "outputId": "d093e1f5-ed8e-4f5d-9462-ba2c4c44369e"
   },
   "outputs": [
    {
     "data": {
      "text/plain": [
       "App               0\n",
       "Rating            8\n",
       "Reviews           0\n",
       "Type              0\n",
       "Price             0\n",
       "Content Rating    0\n",
       "dtype: int64"
      ]
     },
     "execution_count": 201,
     "metadata": {},
     "output_type": "execute_result"
    }
   ],
   "source": [
    "## Method - 3 Using sklearn SimpleImputer class for imputing missing values with mean, median, most_frequent or constant in \"strategy\" argument\n",
    "import numpy as np\n",
    "from sklearn.impute import SimpleImputer\n",
    "\n",
    "df4 = df.copy() \n",
    "imputer = SimpleImputer(strategy='most_frequent', missing_values=np.nan)\n",
    "imputer = imputer.fit(df4[[\"Type\"]])\n",
    "df4[[\"Type\"]] = imputer.transform(df4[[\"Type\"]])\n",
    "df4.isna().sum()"
   ]
  },
  {
   "cell_type": "markdown",
   "metadata": {
    "id": "42DUw6DebBXk"
   },
   "source": [
    "### 2.4  Let's look closely at the apps in the data (App Column) and drop duplicates if there are any"
   ]
  },
  {
   "cell_type": "code",
   "execution_count": null,
   "metadata": {
    "id": "nTIbOP6KEPy0",
    "outputId": "89e83685-c7b2-4f91-f92b-97f196f209e8"
   },
   "outputs": [
    {
     "data": {
      "text/plain": [
       "ROBLOX                                                9\n",
       "CBS Sports App - Scores, News, Stats & Watch Live     8\n",
       "Candy Crush Saga                                      7\n",
       "Duolingo: Learn Languages Free                        7\n",
       "8 Ball Pool                                           7\n",
       "ESPN                                                  7\n",
       "Bleacher Report: sports news, scores, & highlights    6\n",
       "Bubble Shooter                                        6\n",
       "Sniper 3D Gun Shooter: Free Shooting Games - FPS      6\n",
       "Bowmasters                                            6\n",
       "Temple Run 2                                          6\n",
       "Subway Surfers                                        6\n",
       "Zombie Catchers                                       6\n",
       "Helix Jump                                            6\n",
       "Nick                                                  6\n",
       "slither.io                                            6\n",
       "Zombie Tsunami                                        5\n",
       "Plants vs. Zombies FREE                               5\n",
       "Yahoo Fantasy Sports - #1 Rated Fantasy App           5\n",
       "MeetMe: Chat & Meet New People                        5\n",
       "Name: App, dtype: int64"
      ]
     },
     "execution_count": 202,
     "metadata": {},
     "output_type": "execute_result"
    }
   ],
   "source": [
    "#Let's look closely at the apps in the data \n",
    "df1['App'].value_counts().head(20)"
   ]
  },
  {
   "cell_type": "markdown",
   "metadata": {
    "id": "ZtBp-xvoD-vD"
   },
   "source": [
    "We see that few apps have more than one entries. Which tells us that there few duplicate entries for these apps.\n",
    "\n",
    "Before we drop the app column, we will verify if these entries are really duplicate and then remove these."
   ]
  },
  {
   "cell_type": "markdown",
   "metadata": {
    "id": "GubUMuckEUcu"
   },
   "source": [
    "Tak 3 sample Apps for exploration (for eg: 'ROBLOX', 'ESPN','Nick')"
   ]
  },
  {
   "cell_type": "code",
   "execution_count": null,
   "metadata": {
    "id": "QbK_Ng70EfLm",
    "outputId": "476e53b9-746b-4cb3-9835-79d4e2c10ce1"
   },
   "outputs": [
    {
     "data": {
      "text/html": [
       "<div>\n",
       "<style scoped>\n",
       "    .dataframe tbody tr th:only-of-type {\n",
       "        vertical-align: middle;\n",
       "    }\n",
       "\n",
       "    .dataframe tbody tr th {\n",
       "        vertical-align: top;\n",
       "    }\n",
       "\n",
       "    .dataframe thead th {\n",
       "        text-align: right;\n",
       "    }\n",
       "</style>\n",
       "<table border=\"1\" class=\"dataframe\">\n",
       "  <thead>\n",
       "    <tr style=\"text-align: right;\">\n",
       "      <th></th>\n",
       "      <th>App</th>\n",
       "      <th>Rating</th>\n",
       "      <th>Reviews</th>\n",
       "      <th>Type</th>\n",
       "      <th>Price</th>\n",
       "      <th>Content Rating</th>\n",
       "    </tr>\n",
       "  </thead>\n",
       "  <tbody>\n",
       "    <tr>\n",
       "      <th>3913</th>\n",
       "      <td>ESPN</td>\n",
       "      <td>4.2</td>\n",
       "      <td>521081</td>\n",
       "      <td>Free</td>\n",
       "      <td>0</td>\n",
       "      <td>Everyone 10+</td>\n",
       "    </tr>\n",
       "    <tr>\n",
       "      <th>2931</th>\n",
       "      <td>ESPN</td>\n",
       "      <td>4.2</td>\n",
       "      <td>521140</td>\n",
       "      <td>Free</td>\n",
       "      <td>0</td>\n",
       "      <td>Everyone 10+</td>\n",
       "    </tr>\n",
       "    <tr>\n",
       "      <th>2919</th>\n",
       "      <td>ESPN</td>\n",
       "      <td>4.2</td>\n",
       "      <td>521140</td>\n",
       "      <td>Free</td>\n",
       "      <td>0</td>\n",
       "      <td>Everyone 10+</td>\n",
       "    </tr>\n",
       "    <tr>\n",
       "      <th>2907</th>\n",
       "      <td>ESPN</td>\n",
       "      <td>4.2</td>\n",
       "      <td>521140</td>\n",
       "      <td>Free</td>\n",
       "      <td>0</td>\n",
       "      <td>Everyone 10+</td>\n",
       "    </tr>\n",
       "    <tr>\n",
       "      <th>2877</th>\n",
       "      <td>ESPN</td>\n",
       "      <td>4.2</td>\n",
       "      <td>521138</td>\n",
       "      <td>Free</td>\n",
       "      <td>0</td>\n",
       "      <td>Everyone 10+</td>\n",
       "    </tr>\n",
       "    <tr>\n",
       "      <th>2869</th>\n",
       "      <td>ESPN</td>\n",
       "      <td>4.2</td>\n",
       "      <td>521138</td>\n",
       "      <td>Free</td>\n",
       "      <td>0</td>\n",
       "      <td>Everyone 10+</td>\n",
       "    </tr>\n",
       "    <tr>\n",
       "      <th>2818</th>\n",
       "      <td>ESPN</td>\n",
       "      <td>4.2</td>\n",
       "      <td>521138</td>\n",
       "      <td>Free</td>\n",
       "      <td>0</td>\n",
       "      <td>Everyone 10+</td>\n",
       "    </tr>\n",
       "    <tr>\n",
       "      <th>864</th>\n",
       "      <td>Nick</td>\n",
       "      <td>4.2</td>\n",
       "      <td>123279</td>\n",
       "      <td>Free</td>\n",
       "      <td>0</td>\n",
       "      <td>Everyone 10+</td>\n",
       "    </tr>\n",
       "    <tr>\n",
       "      <th>2141</th>\n",
       "      <td>Nick</td>\n",
       "      <td>4.2</td>\n",
       "      <td>123322</td>\n",
       "      <td>Free</td>\n",
       "      <td>0</td>\n",
       "      <td>Everyone 10+</td>\n",
       "    </tr>\n",
       "    <tr>\n",
       "      <th>5685</th>\n",
       "      <td>Nick</td>\n",
       "      <td>4.2</td>\n",
       "      <td>123309</td>\n",
       "      <td>Free</td>\n",
       "      <td>0</td>\n",
       "      <td>Everyone 10+</td>\n",
       "    </tr>\n",
       "    <tr>\n",
       "      <th>939</th>\n",
       "      <td>Nick</td>\n",
       "      <td>4.2</td>\n",
       "      <td>123279</td>\n",
       "      <td>Free</td>\n",
       "      <td>0</td>\n",
       "      <td>Everyone 10+</td>\n",
       "    </tr>\n",
       "    <tr>\n",
       "      <th>910</th>\n",
       "      <td>Nick</td>\n",
       "      <td>4.2</td>\n",
       "      <td>123279</td>\n",
       "      <td>Free</td>\n",
       "      <td>0</td>\n",
       "      <td>Everyone 10+</td>\n",
       "    </tr>\n",
       "    <tr>\n",
       "      <th>884</th>\n",
       "      <td>Nick</td>\n",
       "      <td>4.2</td>\n",
       "      <td>123279</td>\n",
       "      <td>Free</td>\n",
       "      <td>0</td>\n",
       "      <td>Everyone 10+</td>\n",
       "    </tr>\n",
       "    <tr>\n",
       "      <th>4339</th>\n",
       "      <td>ROBLOX</td>\n",
       "      <td>4.5</td>\n",
       "      <td>4443407</td>\n",
       "      <td>Free</td>\n",
       "      <td>0</td>\n",
       "      <td>Everyone 10+</td>\n",
       "    </tr>\n",
       "    <tr>\n",
       "      <th>2121</th>\n",
       "      <td>ROBLOX</td>\n",
       "      <td>4.5</td>\n",
       "      <td>4450890</td>\n",
       "      <td>Free</td>\n",
       "      <td>0</td>\n",
       "      <td>Everyone 10+</td>\n",
       "    </tr>\n",
       "    <tr>\n",
       "      <th>1786</th>\n",
       "      <td>ROBLOX</td>\n",
       "      <td>4.5</td>\n",
       "      <td>4449910</td>\n",
       "      <td>Free</td>\n",
       "      <td>0</td>\n",
       "      <td>Everyone 10+</td>\n",
       "    </tr>\n",
       "    <tr>\n",
       "      <th>1757</th>\n",
       "      <td>ROBLOX</td>\n",
       "      <td>4.5</td>\n",
       "      <td>4449882</td>\n",
       "      <td>Free</td>\n",
       "      <td>0</td>\n",
       "      <td>Everyone 10+</td>\n",
       "    </tr>\n",
       "    <tr>\n",
       "      <th>1664</th>\n",
       "      <td>ROBLOX</td>\n",
       "      <td>4.5</td>\n",
       "      <td>4448791</td>\n",
       "      <td>Free</td>\n",
       "      <td>0</td>\n",
       "      <td>Everyone 10+</td>\n",
       "    </tr>\n",
       "    <tr>\n",
       "      <th>1617</th>\n",
       "      <td>ROBLOX</td>\n",
       "      <td>4.5</td>\n",
       "      <td>4447346</td>\n",
       "      <td>Free</td>\n",
       "      <td>0</td>\n",
       "      <td>Everyone 10+</td>\n",
       "    </tr>\n",
       "    <tr>\n",
       "      <th>1569</th>\n",
       "      <td>ROBLOX</td>\n",
       "      <td>4.5</td>\n",
       "      <td>4447388</td>\n",
       "      <td>Free</td>\n",
       "      <td>0</td>\n",
       "      <td>Everyone 10+</td>\n",
       "    </tr>\n",
       "    <tr>\n",
       "      <th>1932</th>\n",
       "      <td>ROBLOX</td>\n",
       "      <td>4.5</td>\n",
       "      <td>4449910</td>\n",
       "      <td>Free</td>\n",
       "      <td>0</td>\n",
       "      <td>Everyone 10+</td>\n",
       "    </tr>\n",
       "    <tr>\n",
       "      <th>2004</th>\n",
       "      <td>ROBLOX</td>\n",
       "      <td>4.5</td>\n",
       "      <td>4450855</td>\n",
       "      <td>Free</td>\n",
       "      <td>0</td>\n",
       "      <td>Everyone 10+</td>\n",
       "    </tr>\n",
       "  </tbody>\n",
       "</table>\n",
       "</div>"
      ],
      "text/plain": [
       "         App  Rating  Reviews  Type Price Content Rating\n",
       "3913    ESPN     4.2   521081  Free     0   Everyone 10+\n",
       "2931    ESPN     4.2   521140  Free     0   Everyone 10+\n",
       "2919    ESPN     4.2   521140  Free     0   Everyone 10+\n",
       "2907    ESPN     4.2   521140  Free     0   Everyone 10+\n",
       "2877    ESPN     4.2   521138  Free     0   Everyone 10+\n",
       "2869    ESPN     4.2   521138  Free     0   Everyone 10+\n",
       "2818    ESPN     4.2   521138  Free     0   Everyone 10+\n",
       "864     Nick     4.2   123279  Free     0   Everyone 10+\n",
       "2141    Nick     4.2   123322  Free     0   Everyone 10+\n",
       "5685    Nick     4.2   123309  Free     0   Everyone 10+\n",
       "939     Nick     4.2   123279  Free     0   Everyone 10+\n",
       "910     Nick     4.2   123279  Free     0   Everyone 10+\n",
       "884     Nick     4.2   123279  Free     0   Everyone 10+\n",
       "4339  ROBLOX     4.5  4443407  Free     0   Everyone 10+\n",
       "2121  ROBLOX     4.5  4450890  Free     0   Everyone 10+\n",
       "1786  ROBLOX     4.5  4449910  Free     0   Everyone 10+\n",
       "1757  ROBLOX     4.5  4449882  Free     0   Everyone 10+\n",
       "1664  ROBLOX     4.5  4448791  Free     0   Everyone 10+\n",
       "1617  ROBLOX     4.5  4447346  Free     0   Everyone 10+\n",
       "1569  ROBLOX     4.5  4447388  Free     0   Everyone 10+\n",
       "1932  ROBLOX     4.5  4449910  Free     0   Everyone 10+\n",
       "2004  ROBLOX     4.5  4450855  Free     0   Everyone 10+"
      ]
     },
     "execution_count": 203,
     "metadata": {},
     "output_type": "execute_result"
    }
   ],
   "source": [
    "#Taking 3 sample Apps for exploration\n",
    "df1[df1['App'].isin(['ROBLOX', 'ESPN','Nick'])].sort_values(by='App')"
   ]
  },
  {
   "cell_type": "markdown",
   "metadata": {
    "id": "FshyMVvEEfUF"
   },
   "source": [
    "#### Drops other duplicate entries keeping the first one"
   ]
  },
  {
   "cell_type": "code",
   "execution_count": null,
   "metadata": {
    "id": "UWAboTYHEhwY"
   },
   "outputs": [],
   "source": [
    "#drops other duplicate entries keeping the App with the highest reviews\n",
    "df1.drop_duplicates('App',inplace=True)"
   ]
  },
  {
   "cell_type": "markdown",
   "metadata": {
    "id": "nOCqg3aAEnZ8"
   },
   "source": [
    "#### verify that duplicates has been removed"
   ]
  },
  {
   "cell_type": "code",
   "execution_count": null,
   "metadata": {
    "id": "gXhF8ayXEmgT",
    "outputId": "654af4e0-6fa8-4b93-8008-cc0230533c0c"
   },
   "outputs": [
    {
     "data": {
      "text/plain": [
       "Justice League Action Run                         1\n",
       "Builder Craft: House Building & Exploration       1\n",
       "Monash Uni Low FODMAP Diet                        1\n",
       "Rized ‼️ Color By Number & Pixel Coloring Book    1\n",
       "Interracial Match Dating App                      1\n",
       "                                                 ..\n",
       "Download Instant DP (Full HD)                     1\n",
       "CF Chat: Connecting Friends                       1\n",
       "Elite Commando Shooting War                       1\n",
       "FK Željezničar                                    1\n",
       "ARuler - AR Ruler app, Measure tools              1\n",
       "Name: App, Length: 8173, dtype: int64"
      ]
     },
     "execution_count": 205,
     "metadata": {},
     "output_type": "execute_result"
    }
   ],
   "source": [
    "#Let's verify that duplicates has been removed\n",
    "df1['App'].value_counts()"
   ]
  },
  {
   "cell_type": "markdown",
   "metadata": {
    "id": "HkdrTxEFEpVz"
   },
   "source": [
    "Check shape of the dataframe"
   ]
  },
  {
   "cell_type": "code",
   "execution_count": null,
   "metadata": {
    "id": "halB-BPhErCA",
    "outputId": "6cdc045c-40fa-4c64-ac54-edb711048b9e"
   },
   "outputs": [
    {
     "data": {
      "text/plain": [
       "(8173, 6)"
      ]
     },
     "execution_count": 206,
     "metadata": {},
     "output_type": "execute_result"
    }
   ],
   "source": [
    "df1.shape"
   ]
  },
  {
   "cell_type": "markdown",
   "metadata": {
    "id": "_Wsw6q0cbPSb"
   },
   "source": [
    "### 2.5 Univariate analysis of numerical features: Rating"
   ]
  },
  {
   "cell_type": "markdown",
   "metadata": {
    "id": "rf4IyOpWFLxL"
   },
   "source": [
    "Check summary statistics of Rating column"
   ]
  },
  {
   "cell_type": "code",
   "execution_count": null,
   "metadata": {
    "id": "dzQh97kqFOPS",
    "outputId": "492b1554-efb7-4055-e6c2-d1e011890516"
   },
   "outputs": [
    {
     "data": {
      "text/plain": [
       "count    8173.000000\n",
       "mean        4.173033\n",
       "std         0.537003\n",
       "min         1.000000\n",
       "25%         4.000000\n",
       "50%         4.300000\n",
       "75%         4.500000\n",
       "max         5.000000\n",
       "Name: Rating, dtype: float64"
      ]
     },
     "execution_count": 207,
     "metadata": {},
     "output_type": "execute_result"
    }
   ],
   "source": [
    "df1['Rating'].describe()"
   ]
  },
  {
   "cell_type": "markdown",
   "metadata": {
    "id": "_c0Zjl26FP23"
   },
   "source": [
    "Check the rating distribution"
   ]
  },
  {
   "cell_type": "code",
   "execution_count": null,
   "metadata": {
    "id": "HQTvyQJ4D-vH",
    "outputId": "b882e661-6f9c-4996-de2c-1cadff5a74dc"
   },
   "outputs": [
    {
     "data": {
      "text/plain": [
       "<matplotlib.axes._subplots.AxesSubplot at 0x25a97f531c0>"
      ]
     },
     "execution_count": 208,
     "metadata": {},
     "output_type": "execute_result"
    },
    {
     "data": {
      "image/png": "[encoded data removed]",
      "text/plain": [
       "<Figure size 432x288 with 1 Axes>"
      ]
     },
     "metadata": {
      "needs_background": "light"
     },
     "output_type": "display_data"
    }
   ],
   "source": [
    "df1['Rating'].plot(kind='hist')"
   ]
  },
  {
   "cell_type": "code",
   "execution_count": null,
   "metadata": {
    "id": "G9IcbN4VD-vH",
    "outputId": "bd59c0fb-f748-4741-9ec1-f8b99084a29a"
   },
   "outputs": [
    {
     "data": {
      "text/plain": [
       "Text(0.5, 1.0, 'Distribution of Rating')"
      ]
     },
     "execution_count": 209,
     "metadata": {},
     "output_type": "execute_result"
    },
    {
     "data": {
      "image/png": "[encoded data removed]",
      "text/plain": [
       "<Figure size 432x288 with 1 Axes>"
      ]
     },
     "metadata": {
      "needs_background": "light"
     },
     "output_type": "display_data"
    }
   ],
   "source": [
    "# rating distibution \n",
    "g = sns.kdeplot(df1.Rating, color=\"Blue\", shade = True)\n",
    "g.set_xlabel(\"Rating\")\n",
    "g.set_ylabel(\"Frequency\")\n",
    "plt.title('Distribution of Rating',size = 20)"
   ]
  },
  {
   "cell_type": "markdown",
   "metadata": {
    "id": "GAhbogXWEXfE"
   },
   "source": [
    "- Rating data is skewed towards left."
   ]
  },
  {
   "cell_type": "markdown",
   "metadata": {
    "id": "EWIHrH4YFduj"
   },
   "source": [
    "### 2.6 Convert ratings to high and low categories(>3.5 is high rest low)"
   ]
  },
  {
   "cell_type": "code",
   "execution_count": null,
   "metadata": {
    "id": "0M2xGklpFpCE",
    "outputId": "9a1c80be-217b-48ba-c8f9-e3e240541bb0"
   },
   "outputs": [
    {
     "data": {
      "text/html": [
       "<div>\n",
       "<style scoped>\n",
       "    .dataframe tbody tr th:only-of-type {\n",
       "        vertical-align: middle;\n",
       "    }\n",
       "\n",
       "    .dataframe tbody tr th {\n",
       "        vertical-align: top;\n",
       "    }\n",
       "\n",
       "    .dataframe thead th {\n",
       "        text-align: right;\n",
       "    }\n",
       "</style>\n",
       "<table border=\"1\" class=\"dataframe\">\n",
       "  <thead>\n",
       "    <tr style=\"text-align: right;\">\n",
       "      <th></th>\n",
       "      <th>App</th>\n",
       "      <th>Rating</th>\n",
       "      <th>Reviews</th>\n",
       "      <th>Type</th>\n",
       "      <th>Price</th>\n",
       "      <th>Content Rating</th>\n",
       "      <th>Rating_cat</th>\n",
       "    </tr>\n",
       "  </thead>\n",
       "  <tbody>\n",
       "    <tr>\n",
       "      <th>0</th>\n",
       "      <td>Photo Editor &amp; Candy Camera &amp; Grid &amp; ScrapBook</td>\n",
       "      <td>4.1</td>\n",
       "      <td>159</td>\n",
       "      <td>Free</td>\n",
       "      <td>0</td>\n",
       "      <td>Everyone</td>\n",
       "      <td>High</td>\n",
       "    </tr>\n",
       "    <tr>\n",
       "      <th>1</th>\n",
       "      <td>Coloring book moana</td>\n",
       "      <td>3.9</td>\n",
       "      <td>967</td>\n",
       "      <td>Free</td>\n",
       "      <td>0</td>\n",
       "      <td>Everyone</td>\n",
       "      <td>High</td>\n",
       "    </tr>\n",
       "    <tr>\n",
       "      <th>2</th>\n",
       "      <td>U Launcher Lite – FREE Live Cool Themes, Hide ...</td>\n",
       "      <td>4.7</td>\n",
       "      <td>87510</td>\n",
       "      <td>Free</td>\n",
       "      <td>0</td>\n",
       "      <td>Everyone</td>\n",
       "      <td>High</td>\n",
       "    </tr>\n",
       "    <tr>\n",
       "      <th>3</th>\n",
       "      <td>Sketch - Draw &amp; Paint</td>\n",
       "      <td>4.5</td>\n",
       "      <td>215644</td>\n",
       "      <td>Free</td>\n",
       "      <td>0</td>\n",
       "      <td>Teen</td>\n",
       "      <td>High</td>\n",
       "    </tr>\n",
       "    <tr>\n",
       "      <th>4</th>\n",
       "      <td>Pixel Draw - Number Art Coloring Book</td>\n",
       "      <td>4.3</td>\n",
       "      <td>967</td>\n",
       "      <td>Free</td>\n",
       "      <td>0</td>\n",
       "      <td>Everyone</td>\n",
       "      <td>High</td>\n",
       "    </tr>\n",
       "  </tbody>\n",
       "</table>\n",
       "</div>"
      ],
      "text/plain": [
       "                                                 App  Rating  Reviews  Type  \\\n",
       "0     Photo Editor & Candy Camera & Grid & ScrapBook     4.1      159  Free   \n",
       "1                                Coloring book moana     3.9      967  Free   \n",
       "2  U Launcher Lite – FREE Live Cool Themes, Hide ...     4.7    87510  Free   \n",
       "3                              Sketch - Draw & Paint     4.5   215644  Free   \n",
       "4              Pixel Draw - Number Art Coloring Book     4.3      967  Free   \n",
       "\n",
       "  Price Content Rating Rating_cat  \n",
       "0     0       Everyone       High  \n",
       "1     0       Everyone       High  \n",
       "2     0       Everyone       High  \n",
       "3     0           Teen       High  \n",
       "4     0       Everyone       High  "
      ]
     },
     "execution_count": 210,
     "metadata": {},
     "output_type": "execute_result"
    }
   ],
   "source": [
    "# Method-1: convert ratings to high and low categories using loops\n",
    "Rating_cat = dict()\n",
    "for i in range(0,len(df1['Rating'])):\n",
    "    if df1['Rating'].iloc[i] >= 3.5:\n",
    "        Rating_cat[i] = 'High'\n",
    "    else: Rating_cat[i] = 'Low'\n",
    "        \n",
    "#Add the categorical column to the data \n",
    "final_df = df1.assign(Rating_cat = pd.Series(Rating_cat).values)\n",
    "final_df.head(5)"
   ]
  },
  {
   "cell_type": "code",
   "execution_count": null,
   "metadata": {
    "id": "oMMqJ4BdD-vI",
    "outputId": "01bef594-7213-43f0-a126-c2840a386679"
   },
   "outputs": [
    {
     "data": {
      "text/html": [
       "<div>\n",
       "<style scoped>\n",
       "    .dataframe tbody tr th:only-of-type {\n",
       "        vertical-align: middle;\n",
       "    }\n",
       "\n",
       "    .dataframe tbody tr th {\n",
       "        vertical-align: top;\n",
       "    }\n",
       "\n",
       "    .dataframe thead th {\n",
       "        text-align: right;\n",
       "    }\n",
       "</style>\n",
       "<table border=\"1\" class=\"dataframe\">\n",
       "  <thead>\n",
       "    <tr style=\"text-align: right;\">\n",
       "      <th></th>\n",
       "      <th>App</th>\n",
       "      <th>Rating</th>\n",
       "      <th>Reviews</th>\n",
       "      <th>Type</th>\n",
       "      <th>Price</th>\n",
       "      <th>Content Rating</th>\n",
       "      <th>cat</th>\n",
       "    </tr>\n",
       "  </thead>\n",
       "  <tbody>\n",
       "    <tr>\n",
       "      <th>65</th>\n",
       "      <td>Ulysse Speedometer</td>\n",
       "      <td>4.3</td>\n",
       "      <td>40211</td>\n",
       "      <td>Free</td>\n",
       "      <td>0</td>\n",
       "      <td>Everyone</td>\n",
       "      <td>high</td>\n",
       "    </tr>\n",
       "    <tr>\n",
       "      <th>4873</th>\n",
       "      <td>AG Subway Simulator Lite</td>\n",
       "      <td>4.4</td>\n",
       "      <td>6738</td>\n",
       "      <td>Free</td>\n",
       "      <td>0</td>\n",
       "      <td>Everyone</td>\n",
       "      <td>high</td>\n",
       "    </tr>\n",
       "    <tr>\n",
       "      <th>2835</th>\n",
       "      <td>CBS Sports App - Scores, News, Stats &amp; Watch Live</td>\n",
       "      <td>4.3</td>\n",
       "      <td>91031</td>\n",
       "      <td>Free</td>\n",
       "      <td>0</td>\n",
       "      <td>Everyone</td>\n",
       "      <td>high</td>\n",
       "    </tr>\n",
       "    <tr>\n",
       "      <th>1769</th>\n",
       "      <td>Choices: Stories You Play</td>\n",
       "      <td>4.6</td>\n",
       "      <td>807338</td>\n",
       "      <td>Free</td>\n",
       "      <td>0</td>\n",
       "      <td>Teen</td>\n",
       "      <td>high</td>\n",
       "    </tr>\n",
       "    <tr>\n",
       "      <th>1777</th>\n",
       "      <td>Summoners War</td>\n",
       "      <td>4.3</td>\n",
       "      <td>2045554</td>\n",
       "      <td>Free</td>\n",
       "      <td>0</td>\n",
       "      <td>Teen</td>\n",
       "      <td>high</td>\n",
       "    </tr>\n",
       "  </tbody>\n",
       "</table>\n",
       "</div>"
      ],
      "text/plain": [
       "                                                    App  Rating  Reviews  \\\n",
       "65                                   Ulysse Speedometer     4.3    40211   \n",
       "4873                           AG Subway Simulator Lite     4.4     6738   \n",
       "2835  CBS Sports App - Scores, News, Stats & Watch Live     4.3    91031   \n",
       "1769                          Choices: Stories You Play     4.6   807338   \n",
       "1777                                      Summoners War     4.3  2045554   \n",
       "\n",
       "      Type Price Content Rating   cat  \n",
       "65    Free     0       Everyone  high  \n",
       "4873  Free     0       Everyone  high  \n",
       "2835  Free     0       Everyone  high  \n",
       "1769  Free     0           Teen  high  \n",
       "1777  Free     0           Teen  high  "
      ]
     },
     "execution_count": 211,
     "metadata": {},
     "output_type": "execute_result"
    }
   ],
   "source": [
    "# Method-2: using lambda function\n",
    "df1['cat'] = df1.apply(lambda x:'high' if (x['Rating'])>3.5 else 'low', axis=1)\n",
    "df1.sample(5)"
   ]
  },
  {
   "cell_type": "markdown",
   "metadata": {
    "id": "ZA9M7eo4Fyzj"
   },
   "source": [
    "Check count of high and low ratings"
   ]
  },
  {
   "cell_type": "code",
   "execution_count": null,
   "metadata": {
    "id": "Ue_Q3W2CD-vI",
    "outputId": "820eacc0-35a2-45a0-8a4a-b454e17fe079"
   },
   "outputs": [
    {
     "data": {
      "text/plain": [
       "high    7300\n",
       "low      873\n",
       "Name: cat, dtype: int64"
      ]
     },
     "execution_count": 212,
     "metadata": {},
     "output_type": "execute_result"
    }
   ],
   "source": [
    "df1['cat'].value_counts()"
   ]
  },
  {
   "cell_type": "code",
   "execution_count": null,
   "metadata": {
    "id": "ZzRRmYdbF6LR",
    "outputId": "9e1ff9be-b66c-4614-8c4f-a99b18c1c7a7"
   },
   "outputs": [
    {
     "data": {
      "text/plain": [
       "<matplotlib.axes._subplots.AxesSubplot at 0x25a97e889a0>"
      ]
     },
     "execution_count": 213,
     "metadata": {},
     "output_type": "execute_result"
    },
    {
     "data": {
      "image/png": "[encoded data removed]",
      "text/plain": [
       "<Figure size 432x288 with 1 Axes>"
      ]
     },
     "metadata": {
      "needs_background": "light"
     },
     "output_type": "display_data"
    }
   ],
   "source": [
    "df1['cat'].value_counts().plot(kind='bar')"
   ]
  },
  {
   "cell_type": "markdown",
   "metadata": {
    "id": "62uHdfZGEPT9"
   },
   "source": [
    "- Raring category is highly imbalanced."
   ]
  },
  {
   "cell_type": "markdown",
   "metadata": {
    "id": "Sh6VuKTKD-vJ"
   },
   "source": [
    "### 2.7 Univariate analysis of numerical features: Review"
   ]
  },
  {
   "cell_type": "code",
   "execution_count": null,
   "metadata": {
    "id": "jAyt4UB7D-vJ",
    "outputId": "de3b340f-763a-4c2c-df54-bda4f639c419"
   },
   "outputs": [
    {
     "data": {
      "text/plain": [
       "<matplotlib.axes._subplots.AxesSubplot at 0x25a97ea52e0>"
      ]
     },
     "execution_count": 214,
     "metadata": {},
     "output_type": "execute_result"
    },
    {
     "data": {
      "image/png": "[encoded data removed]",
      "text/plain": [
       "<Figure size 432x288 with 1 Axes>"
      ]
     },
     "metadata": {
      "needs_background": "light"
     },
     "output_type": "display_data"
    }
   ],
   "source": [
    "sns.boxplot(df1['Reviews'])"
   ]
  },
  {
   "cell_type": "markdown",
   "metadata": {
    "id": "f3vjzHZNFrTa"
   },
   "source": [
    "- There are many outliers"
   ]
  },
  {
   "cell_type": "code",
   "execution_count": null,
   "metadata": {
    "id": "zZcOwsH3GMAq",
    "outputId": "1c3f5eb4-ad0e-438f-ace9-f8d250d11802"
   },
   "outputs": [
    {
     "data": {
      "text/plain": [
       "<matplotlib.axes._subplots.AxesSubplot at 0x25a97fe6880>"
      ]
     },
     "execution_count": 215,
     "metadata": {},
     "output_type": "execute_result"
    },
    {
     "data": {
      "image/png": "[encoded data removed]",
      "text/plain": [
       "<Figure size 432x288 with 1 Axes>"
      ]
     },
     "metadata": {
      "needs_background": "light"
     },
     "output_type": "display_data"
    }
   ],
   "source": [
    "sns.kdeplot(df1.Reviews, color=\"blue\", shade = True)"
   ]
  },
  {
   "cell_type": "code",
   "execution_count": null,
   "metadata": {
    "id": "w4RMSM_GD-vK",
    "outputId": "47ef5934-175c-4212-c2b4-74170fd0eb39"
   },
   "outputs": [
    {
     "data": {
      "text/plain": [
       "(1893, 7)"
      ]
     },
     "execution_count": 216,
     "metadata": {},
     "output_type": "execute_result"
    }
   ],
   "source": [
    "# Let's check samples having review less than 100\n",
    "df1[df1['Reviews'] < 100].shape"
   ]
  },
  {
   "cell_type": "code",
   "execution_count": null,
   "metadata": {
    "id": "_Ery9Jj-D-vK",
    "outputId": "539bc123-f3e6-4f9d-87d7-4f366d77bc04"
   },
   "outputs": [
    {
     "data": {
      "text/plain": [
       "(584, 7)"
      ]
     },
     "execution_count": 217,
     "metadata": {},
     "output_type": "execute_result"
    }
   ],
   "source": [
    "# Let's check samples having review more than 500000\n",
    "df1[df1['Reviews'] > 500000].shape"
   ]
  },
  {
   "cell_type": "markdown",
   "metadata": {
    "id": "OXmyvlOaD-vL"
   },
   "source": [
    "### 2.8 Ways to deal with such features. \n",
    "1. Log Transformation\n",
    "2. Outlier treatment"
   ]
  },
  {
   "cell_type": "code",
   "execution_count": null,
   "metadata": {
    "id": "Y1sq5NwkD-vL",
    "outputId": "8c8599e0-04a8-4f68-a3af-00dd739ded18"
   },
   "outputs": [
    {
     "data": {
      "text/html": [
       "<div>\n",
       "<style scoped>\n",
       "    .dataframe tbody tr th:only-of-type {\n",
       "        vertical-align: middle;\n",
       "    }\n",
       "\n",
       "    .dataframe tbody tr th {\n",
       "        vertical-align: top;\n",
       "    }\n",
       "\n",
       "    .dataframe thead th {\n",
       "        text-align: right;\n",
       "    }\n",
       "</style>\n",
       "<table border=\"1\" class=\"dataframe\">\n",
       "  <thead>\n",
       "    <tr style=\"text-align: right;\">\n",
       "      <th></th>\n",
       "      <th>App</th>\n",
       "      <th>Rating</th>\n",
       "      <th>Reviews</th>\n",
       "      <th>Type</th>\n",
       "      <th>Price</th>\n",
       "      <th>Content Rating</th>\n",
       "      <th>cat</th>\n",
       "    </tr>\n",
       "  </thead>\n",
       "  <tbody>\n",
       "    <tr>\n",
       "      <th>0</th>\n",
       "      <td>Photo Editor &amp; Candy Camera &amp; Grid &amp; ScrapBook</td>\n",
       "      <td>4.1</td>\n",
       "      <td>5.068904</td>\n",
       "      <td>Free</td>\n",
       "      <td>0</td>\n",
       "      <td>Everyone</td>\n",
       "      <td>high</td>\n",
       "    </tr>\n",
       "    <tr>\n",
       "      <th>1</th>\n",
       "      <td>Coloring book moana</td>\n",
       "      <td>3.9</td>\n",
       "      <td>6.874198</td>\n",
       "      <td>Free</td>\n",
       "      <td>0</td>\n",
       "      <td>Everyone</td>\n",
       "      <td>high</td>\n",
       "    </tr>\n",
       "    <tr>\n",
       "      <th>2</th>\n",
       "      <td>U Launcher Lite – FREE Live Cool Themes, Hide ...</td>\n",
       "      <td>4.7</td>\n",
       "      <td>11.379508</td>\n",
       "      <td>Free</td>\n",
       "      <td>0</td>\n",
       "      <td>Everyone</td>\n",
       "      <td>high</td>\n",
       "    </tr>\n",
       "    <tr>\n",
       "      <th>3</th>\n",
       "      <td>Sketch - Draw &amp; Paint</td>\n",
       "      <td>4.5</td>\n",
       "      <td>12.281384</td>\n",
       "      <td>Free</td>\n",
       "      <td>0</td>\n",
       "      <td>Teen</td>\n",
       "      <td>high</td>\n",
       "    </tr>\n",
       "    <tr>\n",
       "      <th>4</th>\n",
       "      <td>Pixel Draw - Number Art Coloring Book</td>\n",
       "      <td>4.3</td>\n",
       "      <td>6.874198</td>\n",
       "      <td>Free</td>\n",
       "      <td>0</td>\n",
       "      <td>Everyone</td>\n",
       "      <td>high</td>\n",
       "    </tr>\n",
       "  </tbody>\n",
       "</table>\n",
       "</div>"
      ],
      "text/plain": [
       "                                                 App  Rating    Reviews  Type  \\\n",
       "0     Photo Editor & Candy Camera & Grid & ScrapBook     4.1   5.068904  Free   \n",
       "1                                Coloring book moana     3.9   6.874198  Free   \n",
       "2  U Launcher Lite – FREE Live Cool Themes, Hide ...     4.7  11.379508  Free   \n",
       "3                              Sketch - Draw & Paint     4.5  12.281384  Free   \n",
       "4              Pixel Draw - Number Art Coloring Book     4.3   6.874198  Free   \n",
       "\n",
       "  Price Content Rating   cat  \n",
       "0     0       Everyone  high  \n",
       "1     0       Everyone  high  \n",
       "2     0       Everyone  high  \n",
       "3     0           Teen  high  \n",
       "4     0       Everyone  high  "
      ]
     },
     "execution_count": 237,
     "metadata": {},
     "output_type": "execute_result"
    }
   ],
   "source": [
    "df_log = df1.copy()\n",
    "df_log['Reviews']  = np.log(df_log['Reviews'])\n",
    "df_log.head()"
   ]
  },
  {
   "cell_type": "code",
   "execution_count": null,
   "metadata": {
    "id": "UeqSR86sD-vL",
    "outputId": "da497741-ef49-4c72-8f1f-dd388731fb16"
   },
   "outputs": [
    {
     "data": {
      "text/plain": [
       "<matplotlib.axes._subplots.AxesSubplot at 0x25a9804e550>"
      ]
     },
     "execution_count": 234,
     "metadata": {},
     "output_type": "execute_result"
    },
    {
     "data": {
      "image/png": "[encoded data removed]",
      "text/plain": [
       "<Figure size 432x288 with 1 Axes>"
      ]
     },
     "metadata": {
      "needs_background": "light"
     },
     "output_type": "display_data"
    }
   ],
   "source": [
    "sns.kdeplot(df_log.Reviews, color=\"blue\", shade = True)"
   ]
  },
  {
   "cell_type": "code",
   "execution_count": null,
   "metadata": {
    "id": "KmhTV2lhD-vL",
    "outputId": "17b1bcb6-16a5-441b-995e-9634b2e2f008"
   },
   "outputs": [
    {
     "data": {
      "text/plain": [
       "<matplotlib.axes._subplots.AxesSubplot at 0x25a99137550>"
      ]
     },
     "execution_count": 236,
     "metadata": {},
     "output_type": "execute_result"
    },
    {
     "data": {
      "image/png": "[encoded data removed]",
      "text/plain": [
       "<Figure size 432x288 with 1 Axes>"
      ]
     },
     "metadata": {
      "needs_background": "light"
     },
     "output_type": "display_data"
    }
   ],
   "source": [
    "sns.boxplot(df_log.Reviews)"
   ]
  },
  {
   "cell_type": "markdown",
   "metadata": {
    "id": "1VKvPMp8D-vM"
   },
   "source": [
    "- Outlier treatment\n",
    "- Remove/replace outliers beyond lower_whisker & upper_whisker"
   ]
  },
  {
   "cell_type": "code",
   "execution_count": null,
   "metadata": {
    "id": "P04OXmS3D-vM",
    "outputId": "0189608c-ce86-49d6-d829-0318934369a8"
   },
   "outputs": [
    {
     "name": "stdout",
     "output_type": "stream",
     "text": [
      "126.0\n",
      "43800.0\n",
      "43674.0\n"
     ]
    }
   ],
   "source": [
    "# Using IQR method\n",
    "Q1 = df1['Reviews'].quantile(0.25)\n",
    "Q3 = df1['Reviews'].quantile(0.75)\n",
    "IQR = Q3-Q1\n",
    "print(Q1)\n",
    "print(Q3)\n",
    "print(IQR)"
   ]
  },
  {
   "cell_type": "markdown",
   "metadata": {
    "id": "bopc92mtD-vM"
   },
   "source": [
    "- The IQR is very high so we lower_whisker and upper_whisker will be extreme in this case. \n",
    "Here, log transformation of z-score scaling would be preferred."
   ]
  },
  {
   "cell_type": "code",
   "execution_count": null,
   "metadata": {
    "id": "SwMEBY0hD-vM",
    "outputId": "368c69c7-6aa0-4d49-e434-e3329bc02a37"
   },
   "outputs": [
    {
     "name": "stdout",
     "output_type": "stream",
     "text": [
      "-65385.0\n",
      "109311.0\n"
     ]
    }
   ],
   "source": [
    "lower_whisker  = Q1-(1.5*IQR)\n",
    "upper_whisker  = Q3+(1.5*IQR)\n",
    "print(lower_whisker)\n",
    "print(upper_whisker)"
   ]
  },
  {
   "cell_type": "code",
   "execution_count": null,
   "metadata": {
    "id": "yNbacCEaD-vM",
    "outputId": "9c66f3d9-0600-4287-9948-c4541cfff0a4"
   },
   "outputs": [
    {
     "data": {
      "text/plain": [
       "(1385, 7)"
      ]
     },
     "execution_count": 242,
     "metadata": {},
     "output_type": "execute_result"
    }
   ],
   "source": [
    "df1[df1['Reviews'] > 109311].shape #1385 instances will be imputed"
   ]
  },
  {
   "cell_type": "code",
   "execution_count": null,
   "metadata": {
    "id": "EhYtt--XD-vN",
    "outputId": "25064995-1e8c-41e2-d690-d89f0a29b1a0"
   },
   "outputs": [
    {
     "data": {
      "text/plain": [
       "(8173, 7)"
      ]
     },
     "execution_count": 251,
     "metadata": {},
     "output_type": "execute_result"
    }
   ],
   "source": [
    "df1.shape"
   ]
  },
  {
   "cell_type": "code",
   "execution_count": null,
   "metadata": {
    "id": "seLJpZiBD-vN",
    "outputId": "69b43410-1c93-4231-cb78-2731cd5cfa0e"
   },
   "outputs": [
    {
     "data": {
      "text/plain": [
       "(6788, 7)"
      ]
     },
     "execution_count": 250,
     "metadata": {},
     "output_type": "execute_result"
    }
   ],
   "source": [
    "df1_out = df1.loc[(df1['Reviews'] < upper_whisker) & (df1['Reviews'] > lower_whisker)] # rows without outliers\n",
    "df1_out.shape"
   ]
  },
  {
   "cell_type": "code",
   "execution_count": null,
   "metadata": {
    "id": "ZOZOPM6ZD-vN",
    "outputId": "a9e3dd21-e7c9-4d11-c5ac-b3bd092bcd5f"
   },
   "outputs": [
    {
     "data": {
      "text/plain": [
       "<matplotlib.axes._subplots.AxesSubplot at 0x25a9918c310>"
      ]
     },
     "execution_count": 252,
     "metadata": {},
     "output_type": "execute_result"
    },
    {
     "data": {
      "image/png": "[encoded data removed]",
      "text/plain": [
       "<Figure size 432x288 with 1 Axes>"
      ]
     },
     "metadata": {
      "needs_background": "light"
     },
     "output_type": "display_data"
    }
   ],
   "source": [
    "sns.boxplot(df1_out.Reviews)"
   ]
  },
  {
   "cell_type": "markdown",
   "metadata": {
    "id": "H-qMzOXAD-vN"
   },
   "source": [
    "- We can see that there are still outliers in the second case\n",
    "- Since the IQR is very high, we can go for log transformation in this case"
   ]
  },
  {
   "cell_type": "markdown",
   "metadata": {
    "id": "dDuAJMS8wjXM"
   },
   "source": [
    "### 2.9 Let's analyse Price column and make it numerical"
   ]
  },
  {
   "cell_type": "markdown",
   "metadata": {
    "id": "W1y1F12cJp4R"
   },
   "source": [
    "Check value counts"
   ]
  },
  {
   "cell_type": "code",
   "execution_count": null,
   "metadata": {
    "id": "fHBql7zZJrWw",
    "outputId": "bb249844-a957-4726-f682-58d34ca3a149"
   },
   "outputs": [
    {
     "data": {
      "text/plain": [
       "0          7572\n",
       "$2.99       109\n",
       "$0.99       103\n",
       "$4.99        68\n",
       "$1.99        59\n",
       "           ... \n",
       "$4.77         1\n",
       "$389.99       1\n",
       "$2.56         1\n",
       "$1.59         1\n",
       "$2.00         1\n",
       "Name: Price, Length: 73, dtype: int64"
      ]
     },
     "execution_count": 254,
     "metadata": {},
     "output_type": "execute_result"
    }
   ],
   "source": [
    "df1['Price'].value_counts()"
   ]
  },
  {
   "cell_type": "markdown",
   "metadata": {
    "id": "z9L2a8aVJrhK"
   },
   "source": [
    "Replace $ with space"
   ]
  },
  {
   "cell_type": "code",
   "execution_count": null,
   "metadata": {
    "id": "ncHu33YZJtwv"
   },
   "outputs": [],
   "source": [
    "df1['Price'] = df1['Price'].str.replace('$', '')"
   ]
  },
  {
   "cell_type": "markdown",
   "metadata": {
    "id": "OvmRvBVzJu-O"
   },
   "source": [
    "convert column to numeric, dropping non numeric values"
   ]
  },
  {
   "cell_type": "code",
   "execution_count": null,
   "metadata": {
    "id": "AcBxTALzJwhI"
   },
   "outputs": [],
   "source": [
    "#convert column to numeric, dropping non numeric values\n",
    "df1['Price'] = pd.to_numeric(df1['Price'], errors = 'coerce')"
   ]
  },
  {
   "cell_type": "markdown",
   "metadata": {
    "id": "mEVp8_gmJwpC"
   },
   "source": [
    "Get summary statistics"
   ]
  },
  {
   "cell_type": "code",
   "execution_count": null,
   "metadata": {
    "id": "ACUTKymfJy_O",
    "outputId": "a17019cf-aa41-4108-b789-9d3f70094c03"
   },
   "outputs": [
    {
     "data": {
      "text/plain": [
       "<matplotlib.axes._subplots.AxesSubplot at 0x25a991ecd60>"
      ]
     },
     "execution_count": 257,
     "metadata": {},
     "output_type": "execute_result"
    },
    {
     "data": {
      "image/png": "[encoded data removed]",
      "text/plain": [
       "<Figure size 432x288 with 1 Axes>"
      ]
     },
     "metadata": {
      "needs_background": "light"
     },
     "output_type": "display_data"
    }
   ],
   "source": [
    "df1['Price'].plot(kind='hist')"
   ]
  },
  {
   "cell_type": "code",
   "execution_count": null,
   "metadata": {
    "id": "g0ez24OlD-vP",
    "outputId": "3d11955c-2846-49c6-de59-70126159dce6"
   },
   "outputs": [
    {
     "data": {
      "text/html": [
       "<div>\n",
       "<style scoped>\n",
       "    .dataframe tbody tr th:only-of-type {\n",
       "        vertical-align: middle;\n",
       "    }\n",
       "\n",
       "    .dataframe tbody tr th {\n",
       "        vertical-align: top;\n",
       "    }\n",
       "\n",
       "    .dataframe thead th {\n",
       "        text-align: right;\n",
       "    }\n",
       "</style>\n",
       "<table border=\"1\" class=\"dataframe\">\n",
       "  <thead>\n",
       "    <tr style=\"text-align: right;\">\n",
       "      <th></th>\n",
       "      <th>App</th>\n",
       "      <th>Rating</th>\n",
       "      <th>Reviews</th>\n",
       "      <th>Type</th>\n",
       "      <th>Price</th>\n",
       "      <th>Content Rating</th>\n",
       "      <th>cat</th>\n",
       "    </tr>\n",
       "  </thead>\n",
       "  <tbody>\n",
       "    <tr>\n",
       "      <th>4036</th>\n",
       "      <td>most expensive app (H)</td>\n",
       "      <td>4.3</td>\n",
       "      <td>6</td>\n",
       "      <td>Paid</td>\n",
       "      <td>399.99</td>\n",
       "      <td>Everyone</td>\n",
       "      <td>high</td>\n",
       "    </tr>\n",
       "    <tr>\n",
       "      <th>4189</th>\n",
       "      <td>💎 I'm rich</td>\n",
       "      <td>3.8</td>\n",
       "      <td>718</td>\n",
       "      <td>Paid</td>\n",
       "      <td>399.99</td>\n",
       "      <td>Everyone</td>\n",
       "      <td>high</td>\n",
       "    </tr>\n",
       "    <tr>\n",
       "      <th>4194</th>\n",
       "      <td>I'm Rich - Trump Edition</td>\n",
       "      <td>3.6</td>\n",
       "      <td>275</td>\n",
       "      <td>Paid</td>\n",
       "      <td>400.00</td>\n",
       "      <td>Everyone</td>\n",
       "      <td>high</td>\n",
       "    </tr>\n",
       "    <tr>\n",
       "      <th>5042</th>\n",
       "      <td>I am rich</td>\n",
       "      <td>3.8</td>\n",
       "      <td>3547</td>\n",
       "      <td>Paid</td>\n",
       "      <td>399.99</td>\n",
       "      <td>Everyone</td>\n",
       "      <td>high</td>\n",
       "    </tr>\n",
       "    <tr>\n",
       "      <th>5045</th>\n",
       "      <td>I am Rich Plus</td>\n",
       "      <td>4.0</td>\n",
       "      <td>856</td>\n",
       "      <td>Paid</td>\n",
       "      <td>399.99</td>\n",
       "      <td>Everyone</td>\n",
       "      <td>high</td>\n",
       "    </tr>\n",
       "    <tr>\n",
       "      <th>5046</th>\n",
       "      <td>I am rich VIP</td>\n",
       "      <td>3.8</td>\n",
       "      <td>411</td>\n",
       "      <td>Paid</td>\n",
       "      <td>299.99</td>\n",
       "      <td>Everyone</td>\n",
       "      <td>high</td>\n",
       "    </tr>\n",
       "    <tr>\n",
       "      <th>5047</th>\n",
       "      <td>I Am Rich Premium</td>\n",
       "      <td>4.1</td>\n",
       "      <td>1867</td>\n",
       "      <td>Paid</td>\n",
       "      <td>399.99</td>\n",
       "      <td>Everyone</td>\n",
       "      <td>high</td>\n",
       "    </tr>\n",
       "    <tr>\n",
       "      <th>5048</th>\n",
       "      <td>I am extremely Rich</td>\n",
       "      <td>2.9</td>\n",
       "      <td>41</td>\n",
       "      <td>Paid</td>\n",
       "      <td>379.99</td>\n",
       "      <td>Everyone</td>\n",
       "      <td>low</td>\n",
       "    </tr>\n",
       "    <tr>\n",
       "      <th>5049</th>\n",
       "      <td>I am Rich!</td>\n",
       "      <td>3.8</td>\n",
       "      <td>93</td>\n",
       "      <td>Paid</td>\n",
       "      <td>399.99</td>\n",
       "      <td>Everyone</td>\n",
       "      <td>high</td>\n",
       "    </tr>\n",
       "    <tr>\n",
       "      <th>5050</th>\n",
       "      <td>I am rich(premium)</td>\n",
       "      <td>3.5</td>\n",
       "      <td>472</td>\n",
       "      <td>Paid</td>\n",
       "      <td>399.99</td>\n",
       "      <td>Everyone</td>\n",
       "      <td>low</td>\n",
       "    </tr>\n",
       "    <tr>\n",
       "      <th>5053</th>\n",
       "      <td>I Am Rich Pro</td>\n",
       "      <td>4.4</td>\n",
       "      <td>201</td>\n",
       "      <td>Paid</td>\n",
       "      <td>399.99</td>\n",
       "      <td>Everyone</td>\n",
       "      <td>high</td>\n",
       "    </tr>\n",
       "    <tr>\n",
       "      <th>5055</th>\n",
       "      <td>I am rich (Most expensive app)</td>\n",
       "      <td>4.1</td>\n",
       "      <td>129</td>\n",
       "      <td>Paid</td>\n",
       "      <td>399.99</td>\n",
       "      <td>Teen</td>\n",
       "      <td>high</td>\n",
       "    </tr>\n",
       "    <tr>\n",
       "      <th>5057</th>\n",
       "      <td>I Am Rich</td>\n",
       "      <td>3.6</td>\n",
       "      <td>217</td>\n",
       "      <td>Paid</td>\n",
       "      <td>389.99</td>\n",
       "      <td>Everyone</td>\n",
       "      <td>high</td>\n",
       "    </tr>\n",
       "    <tr>\n",
       "      <th>5060</th>\n",
       "      <td>I am Rich</td>\n",
       "      <td>4.3</td>\n",
       "      <td>180</td>\n",
       "      <td>Paid</td>\n",
       "      <td>399.99</td>\n",
       "      <td>Everyone</td>\n",
       "      <td>high</td>\n",
       "    </tr>\n",
       "    <tr>\n",
       "      <th>5064</th>\n",
       "      <td>I AM RICH PRO PLUS</td>\n",
       "      <td>4.0</td>\n",
       "      <td>36</td>\n",
       "      <td>Paid</td>\n",
       "      <td>399.99</td>\n",
       "      <td>Everyone</td>\n",
       "      <td>high</td>\n",
       "    </tr>\n",
       "  </tbody>\n",
       "</table>\n",
       "</div>"
      ],
      "text/plain": [
       "                                 App  Rating  Reviews  Type   Price  \\\n",
       "4036          most expensive app (H)     4.3        6  Paid  399.99   \n",
       "4189                      💎 I'm rich     3.8      718  Paid  399.99   \n",
       "4194        I'm Rich - Trump Edition     3.6      275  Paid  400.00   \n",
       "5042                       I am rich     3.8     3547  Paid  399.99   \n",
       "5045                  I am Rich Plus     4.0      856  Paid  399.99   \n",
       "5046                   I am rich VIP     3.8      411  Paid  299.99   \n",
       "5047               I Am Rich Premium     4.1     1867  Paid  399.99   \n",
       "5048             I am extremely Rich     2.9       41  Paid  379.99   \n",
       "5049                      I am Rich!     3.8       93  Paid  399.99   \n",
       "5050              I am rich(premium)     3.5      472  Paid  399.99   \n",
       "5053                   I Am Rich Pro     4.4      201  Paid  399.99   \n",
       "5055  I am rich (Most expensive app)     4.1      129  Paid  399.99   \n",
       "5057                       I Am Rich     3.6      217  Paid  389.99   \n",
       "5060                       I am Rich     4.3      180  Paid  399.99   \n",
       "5064              I AM RICH PRO PLUS     4.0       36  Paid  399.99   \n",
       "\n",
       "     Content Rating   cat  \n",
       "4036       Everyone  high  \n",
       "4189       Everyone  high  \n",
       "4194       Everyone  high  \n",
       "5042       Everyone  high  \n",
       "5045       Everyone  high  \n",
       "5046       Everyone  high  \n",
       "5047       Everyone  high  \n",
       "5048       Everyone   low  \n",
       "5049       Everyone  high  \n",
       "5050       Everyone   low  \n",
       "5053       Everyone  high  \n",
       "5055           Teen  high  \n",
       "5057       Everyone  high  \n",
       "5060       Everyone  high  \n",
       "5064       Everyone  high  "
      ]
     },
     "execution_count": 258,
     "metadata": {},
     "output_type": "execute_result"
    }
   ],
   "source": [
    "df1[df1['Price']>100]"
   ]
  },
  {
   "cell_type": "markdown",
   "metadata": {
    "id": "yoDZO441D-vP"
   },
   "source": [
    "### Different ways to deal with outliers here\n",
    "\n",
    "1. Since these seem valid apps we can create a categories of price:- 0:0, 1:0-5, 2:5-10, 3:10-50 4:50-100, 5:more than 100\n",
    "2. We can drop instances having more than 200 as they are very few in number"
   ]
  },
  {
   "cell_type": "code",
   "execution_count": null,
   "metadata": {
    "id": "oPRZmXS4D-vP",
    "outputId": "c22a339d-e364-4e8b-e42e-0caf9960ae8e"
   },
   "outputs": [
    {
     "data": {
      "text/html": [
       "<div>\n",
       "<style scoped>\n",
       "    .dataframe tbody tr th:only-of-type {\n",
       "        vertical-align: middle;\n",
       "    }\n",
       "\n",
       "    .dataframe tbody tr th {\n",
       "        vertical-align: top;\n",
       "    }\n",
       "\n",
       "    .dataframe thead th {\n",
       "        text-align: right;\n",
       "    }\n",
       "</style>\n",
       "<table border=\"1\" class=\"dataframe\">\n",
       "  <thead>\n",
       "    <tr style=\"text-align: right;\">\n",
       "      <th></th>\n",
       "      <th>App</th>\n",
       "      <th>Rating</th>\n",
       "      <th>Reviews</th>\n",
       "      <th>Type</th>\n",
       "      <th>Price</th>\n",
       "      <th>Content Rating</th>\n",
       "      <th>cat</th>\n",
       "      <th>price_cat</th>\n",
       "    </tr>\n",
       "  </thead>\n",
       "  <tbody>\n",
       "    <tr>\n",
       "      <th>17</th>\n",
       "      <td>FlipaClip - Cartoon animation</td>\n",
       "      <td>4.3</td>\n",
       "      <td>194216</td>\n",
       "      <td>Free</td>\n",
       "      <td>0.00</td>\n",
       "      <td>Everyone</td>\n",
       "      <td>high</td>\n",
       "      <td>0</td>\n",
       "    </tr>\n",
       "    <tr>\n",
       "      <th>3400</th>\n",
       "      <td>Notepad &amp; To do list</td>\n",
       "      <td>4.3</td>\n",
       "      <td>226295</td>\n",
       "      <td>Free</td>\n",
       "      <td>0.00</td>\n",
       "      <td>Everyone</td>\n",
       "      <td>high</td>\n",
       "      <td>0</td>\n",
       "    </tr>\n",
       "    <tr>\n",
       "      <th>9258</th>\n",
       "      <td>FO Bixby</td>\n",
       "      <td>5.0</td>\n",
       "      <td>5</td>\n",
       "      <td>Paid</td>\n",
       "      <td>0.99</td>\n",
       "      <td>Everyone</td>\n",
       "      <td>high</td>\n",
       "      <td>1</td>\n",
       "    </tr>\n",
       "    <tr>\n",
       "      <th>2696</th>\n",
       "      <td>My Photo Keyboard</td>\n",
       "      <td>4.3</td>\n",
       "      <td>56114</td>\n",
       "      <td>Free</td>\n",
       "      <td>0.00</td>\n",
       "      <td>Everyone</td>\n",
       "      <td>high</td>\n",
       "      <td>0</td>\n",
       "    </tr>\n",
       "    <tr>\n",
       "      <th>3205</th>\n",
       "      <td>Applock</td>\n",
       "      <td>4.4</td>\n",
       "      <td>4934130</td>\n",
       "      <td>Free</td>\n",
       "      <td>0.00</td>\n",
       "      <td>Everyone</td>\n",
       "      <td>high</td>\n",
       "      <td>0</td>\n",
       "    </tr>\n",
       "  </tbody>\n",
       "</table>\n",
       "</div>"
      ],
      "text/plain": [
       "                                App  Rating  Reviews  Type  Price  \\\n",
       "17    FlipaClip - Cartoon animation     4.3   194216  Free   0.00   \n",
       "3400           Notepad & To do list     4.3   226295  Free   0.00   \n",
       "9258                       FO Bixby     5.0        5  Paid   0.99   \n",
       "2696              My Photo Keyboard     4.3    56114  Free   0.00   \n",
       "3205                        Applock     4.4  4934130  Free   0.00   \n",
       "\n",
       "     Content Rating   cat  price_cat  \n",
       "17         Everyone  high          0  \n",
       "3400       Everyone  high          0  \n",
       "9258       Everyone  high          1  \n",
       "2696       Everyone  high          0  \n",
       "3205       Everyone  high          0  "
      ]
     },
     "execution_count": 259,
     "metadata": {},
     "output_type": "execute_result"
    }
   ],
   "source": [
    "# Method-1 Create categories using lambda function\n",
    "df1['price_cat'] = df1.apply(lambda x:0 if (x['Price'])==0\n",
    "                             else 1 if (x['Price'])>0 and (x['Price'])<10\n",
    "                            else 2 if (x['Price'])>=10 and (x['Price'])<100\n",
    "                             else 3, axis=1)\n",
    "df1.sample(5)"
   ]
  },
  {
   "cell_type": "code",
   "execution_count": null,
   "metadata": {
    "id": "w_nKJPxDD-vP",
    "outputId": "cb2ac62a-0b39-4d05-9704-bdc31aeedd12"
   },
   "outputs": [
    {
     "data": {
      "text/plain": [
       "0    7572\n",
       "1     543\n",
       "2      43\n",
       "3      15\n",
       "Name: price_cat, dtype: int64"
      ]
     },
     "execution_count": 260,
     "metadata": {},
     "output_type": "execute_result"
    }
   ],
   "source": [
    "df1['price_cat'].value_counts()"
   ]
  },
  {
   "cell_type": "code",
   "execution_count": null,
   "metadata": {
    "id": "1KoNlfFzD-vP",
    "outputId": "9e790010-55f2-42ef-bd56-e39c5073bf70"
   },
   "outputs": [
    {
     "data": {
      "text/plain": [
       "(8158, 8)"
      ]
     },
     "execution_count": 261,
     "metadata": {},
     "output_type": "execute_result"
    }
   ],
   "source": [
    "# Method-2: We can drop instances having more than 200 as they are very few in number\n",
    "df_price = df1[df1['Price']<200]\n",
    "df_price.shape"
   ]
  },
  {
   "cell_type": "markdown",
   "metadata": {
    "id": "LcCLwbetD-vQ"
   },
   "source": [
    "### 2.10 Let's analyze categorical features - Type and Content Rating"
   ]
  },
  {
   "cell_type": "code",
   "execution_count": null,
   "metadata": {
    "id": "_eVt2zBfJgT7",
    "outputId": "f673ca21-09f3-4a48-f943-9f4d6883faa0"
   },
   "outputs": [
    {
     "data": {
      "text/plain": [
       "<matplotlib.axes._subplots.AxesSubplot at 0x25a9926b4f0>"
      ]
     },
     "execution_count": 262,
     "metadata": {},
     "output_type": "execute_result"
    },
    {
     "data": {
      "image/png": "[encoded data removed]",
      "text/plain": [
       "<Figure size 432x288 with 1 Axes>"
      ]
     },
     "metadata": {},
     "output_type": "display_data"
    }
   ],
   "source": [
    "df1['Type'].value_counts().plot(kind='pie',autopct='%1.1f%%')"
   ]
  },
  {
   "cell_type": "code",
   "execution_count": null,
   "metadata": {
    "id": "GXbacNuFD-vQ",
    "outputId": "9d43dc77-d978-4ab0-e602-1ba2c1618a26"
   },
   "outputs": [
    {
     "data": {
      "text/plain": [
       "<matplotlib.axes._subplots.AxesSubplot at 0x25a9927b190>"
      ]
     },
     "execution_count": 263,
     "metadata": {},
     "output_type": "execute_result"
    },
    {
     "data": {
      "image/png": "[encoded data removed]",
      "text/plain": [
       "<Figure size 432x288 with 1 Axes>"
      ]
     },
     "metadata": {},
     "output_type": "display_data"
    }
   ],
   "source": [
    "df1['Content Rating'].value_counts().plot(kind='pie',autopct='%1.1f%%')"
   ]
  },
  {
   "cell_type": "code",
   "execution_count": null,
   "metadata": {
    "id": "SAXYGLJND-vQ",
    "outputId": "34b0daf0-cee0-459c-91b9-fde3755042aa"
   },
   "outputs": [
    {
     "data": {
      "text/html": [
       "<div>\n",
       "<style scoped>\n",
       "    .dataframe tbody tr th:only-of-type {\n",
       "        vertical-align: middle;\n",
       "    }\n",
       "\n",
       "    .dataframe tbody tr th {\n",
       "        vertical-align: top;\n",
       "    }\n",
       "\n",
       "    .dataframe thead th {\n",
       "        text-align: right;\n",
       "    }\n",
       "</style>\n",
       "<table border=\"1\" class=\"dataframe\">\n",
       "  <thead>\n",
       "    <tr style=\"text-align: right;\">\n",
       "      <th></th>\n",
       "      <th>App</th>\n",
       "      <th>Rating</th>\n",
       "      <th>Reviews</th>\n",
       "      <th>Type</th>\n",
       "      <th>Price</th>\n",
       "      <th>Content Rating</th>\n",
       "      <th>cat</th>\n",
       "      <th>price_cat</th>\n",
       "    </tr>\n",
       "  </thead>\n",
       "  <tbody>\n",
       "    <tr>\n",
       "      <th>0</th>\n",
       "      <td>Photo Editor &amp; Candy Camera &amp; Grid &amp; ScrapBook</td>\n",
       "      <td>4.1</td>\n",
       "      <td>159</td>\n",
       "      <td>Free</td>\n",
       "      <td>0.0</td>\n",
       "      <td>Everyone</td>\n",
       "      <td>high</td>\n",
       "      <td>0</td>\n",
       "    </tr>\n",
       "    <tr>\n",
       "      <th>1</th>\n",
       "      <td>Coloring book moana</td>\n",
       "      <td>3.9</td>\n",
       "      <td>967</td>\n",
       "      <td>Free</td>\n",
       "      <td>0.0</td>\n",
       "      <td>Everyone</td>\n",
       "      <td>high</td>\n",
       "      <td>0</td>\n",
       "    </tr>\n",
       "    <tr>\n",
       "      <th>2</th>\n",
       "      <td>U Launcher Lite – FREE Live Cool Themes, Hide ...</td>\n",
       "      <td>4.7</td>\n",
       "      <td>87510</td>\n",
       "      <td>Free</td>\n",
       "      <td>0.0</td>\n",
       "      <td>Everyone</td>\n",
       "      <td>high</td>\n",
       "      <td>0</td>\n",
       "    </tr>\n",
       "    <tr>\n",
       "      <th>3</th>\n",
       "      <td>Sketch - Draw &amp; Paint</td>\n",
       "      <td>4.5</td>\n",
       "      <td>215644</td>\n",
       "      <td>Free</td>\n",
       "      <td>0.0</td>\n",
       "      <td>Teen</td>\n",
       "      <td>high</td>\n",
       "      <td>0</td>\n",
       "    </tr>\n",
       "    <tr>\n",
       "      <th>4</th>\n",
       "      <td>Pixel Draw - Number Art Coloring Book</td>\n",
       "      <td>4.3</td>\n",
       "      <td>967</td>\n",
       "      <td>Free</td>\n",
       "      <td>0.0</td>\n",
       "      <td>Everyone</td>\n",
       "      <td>high</td>\n",
       "      <td>0</td>\n",
       "    </tr>\n",
       "  </tbody>\n",
       "</table>\n",
       "</div>"
      ],
      "text/plain": [
       "                                                 App  Rating  Reviews  Type  \\\n",
       "0     Photo Editor & Candy Camera & Grid & ScrapBook     4.1      159  Free   \n",
       "1                                Coloring book moana     3.9      967  Free   \n",
       "2  U Launcher Lite – FREE Live Cool Themes, Hide ...     4.7    87510  Free   \n",
       "3                              Sketch - Draw & Paint     4.5   215644  Free   \n",
       "4              Pixel Draw - Number Art Coloring Book     4.3      967  Free   \n",
       "\n",
       "   Price Content Rating   cat  price_cat  \n",
       "0    0.0       Everyone  high          0  \n",
       "1    0.0       Everyone  high          0  \n",
       "2    0.0       Everyone  high          0  \n",
       "3    0.0           Teen  high          0  \n",
       "4    0.0       Everyone  high          0  "
      ]
     },
     "execution_count": 264,
     "metadata": {},
     "output_type": "execute_result"
    }
   ],
   "source": [
    "df1.head()"
   ]
  },
  {
   "cell_type": "markdown",
   "metadata": {
    "id": "w9iyNgoQD-vR"
   },
   "source": [
    "### 2.11 Encode categorical features"
   ]
  },
  {
   "cell_type": "code",
   "execution_count": null,
   "metadata": {
    "id": "ylKmfBxpKEt_",
    "outputId": "fb8c5e72-f26c-483e-fc58-845e1711e49e"
   },
   "outputs": [
    {
     "data": {
      "text/html": [
       "<div>\n",
       "<style scoped>\n",
       "    .dataframe tbody tr th:only-of-type {\n",
       "        vertical-align: middle;\n",
       "    }\n",
       "\n",
       "    .dataframe tbody tr th {\n",
       "        vertical-align: top;\n",
       "    }\n",
       "\n",
       "    .dataframe thead th {\n",
       "        text-align: right;\n",
       "    }\n",
       "</style>\n",
       "<table border=\"1\" class=\"dataframe\">\n",
       "  <thead>\n",
       "    <tr style=\"text-align: right;\">\n",
       "      <th></th>\n",
       "      <th>App</th>\n",
       "      <th>Rating</th>\n",
       "      <th>Reviews</th>\n",
       "      <th>Price</th>\n",
       "      <th>price_cat</th>\n",
       "      <th>Type_Paid</th>\n",
       "      <th>cat_low</th>\n",
       "      <th>Content Rating_Everyone</th>\n",
       "      <th>Content Rating_Everyone 10+</th>\n",
       "      <th>Content Rating_Mature 17+</th>\n",
       "      <th>Content Rating_Teen</th>\n",
       "      <th>Content Rating_Unrated</th>\n",
       "    </tr>\n",
       "  </thead>\n",
       "  <tbody>\n",
       "    <tr>\n",
       "      <th>0</th>\n",
       "      <td>Photo Editor &amp; Candy Camera &amp; Grid &amp; ScrapBook</td>\n",
       "      <td>4.1</td>\n",
       "      <td>159</td>\n",
       "      <td>0.0</td>\n",
       "      <td>0</td>\n",
       "      <td>0</td>\n",
       "      <td>0</td>\n",
       "      <td>1</td>\n",
       "      <td>0</td>\n",
       "      <td>0</td>\n",
       "      <td>0</td>\n",
       "      <td>0</td>\n",
       "    </tr>\n",
       "    <tr>\n",
       "      <th>1</th>\n",
       "      <td>Coloring book moana</td>\n",
       "      <td>3.9</td>\n",
       "      <td>967</td>\n",
       "      <td>0.0</td>\n",
       "      <td>0</td>\n",
       "      <td>0</td>\n",
       "      <td>0</td>\n",
       "      <td>1</td>\n",
       "      <td>0</td>\n",
       "      <td>0</td>\n",
       "      <td>0</td>\n",
       "      <td>0</td>\n",
       "    </tr>\n",
       "    <tr>\n",
       "      <th>2</th>\n",
       "      <td>U Launcher Lite – FREE Live Cool Themes, Hide ...</td>\n",
       "      <td>4.7</td>\n",
       "      <td>87510</td>\n",
       "      <td>0.0</td>\n",
       "      <td>0</td>\n",
       "      <td>0</td>\n",
       "      <td>0</td>\n",
       "      <td>1</td>\n",
       "      <td>0</td>\n",
       "      <td>0</td>\n",
       "      <td>0</td>\n",
       "      <td>0</td>\n",
       "    </tr>\n",
       "    <tr>\n",
       "      <th>3</th>\n",
       "      <td>Sketch - Draw &amp; Paint</td>\n",
       "      <td>4.5</td>\n",
       "      <td>215644</td>\n",
       "      <td>0.0</td>\n",
       "      <td>0</td>\n",
       "      <td>0</td>\n",
       "      <td>0</td>\n",
       "      <td>0</td>\n",
       "      <td>0</td>\n",
       "      <td>0</td>\n",
       "      <td>1</td>\n",
       "      <td>0</td>\n",
       "    </tr>\n",
       "    <tr>\n",
       "      <th>4</th>\n",
       "      <td>Pixel Draw - Number Art Coloring Book</td>\n",
       "      <td>4.3</td>\n",
       "      <td>967</td>\n",
       "      <td>0.0</td>\n",
       "      <td>0</td>\n",
       "      <td>0</td>\n",
       "      <td>0</td>\n",
       "      <td>1</td>\n",
       "      <td>0</td>\n",
       "      <td>0</td>\n",
       "      <td>0</td>\n",
       "      <td>0</td>\n",
       "    </tr>\n",
       "  </tbody>\n",
       "</table>\n",
       "</div>"
      ],
      "text/plain": [
       "                                                 App  Rating  Reviews  Price  \\\n",
       "0     Photo Editor & Candy Camera & Grid & ScrapBook     4.1      159    0.0   \n",
       "1                                Coloring book moana     3.9      967    0.0   \n",
       "2  U Launcher Lite – FREE Live Cool Themes, Hide ...     4.7    87510    0.0   \n",
       "3                              Sketch - Draw & Paint     4.5   215644    0.0   \n",
       "4              Pixel Draw - Number Art Coloring Book     4.3      967    0.0   \n",
       "\n",
       "   price_cat  Type_Paid  cat_low  Content Rating_Everyone  \\\n",
       "0          0          0        0                        1   \n",
       "1          0          0        0                        1   \n",
       "2          0          0        0                        1   \n",
       "3          0          0        0                        0   \n",
       "4          0          0        0                        1   \n",
       "\n",
       "   Content Rating_Everyone 10+  Content Rating_Mature 17+  \\\n",
       "0                            0                          0   \n",
       "1                            0                          0   \n",
       "2                            0                          0   \n",
       "3                            0                          0   \n",
       "4                            0                          0   \n",
       "\n",
       "   Content Rating_Teen  Content Rating_Unrated  \n",
       "0                    0                       0  \n",
       "1                    0                       0  \n",
       "2                    0                       0  \n",
       "3                    1                       0  \n",
       "4                    0                       0  "
      ]
     },
     "execution_count": 265,
     "metadata": {},
     "output_type": "execute_result"
    }
   ],
   "source": [
    "df_final = pd.get_dummies(df1, columns= ['Type','cat','Content Rating'], drop_first = True)\n",
    "df_final.head()"
   ]
  },
  {
   "cell_type": "markdown",
   "metadata": {
    "id": "ePCCAwKqD-vR"
   },
   "source": [
    "## 3 Data Preparation"
   ]
  },
  {
   "cell_type": "markdown",
   "metadata": {
    "id": "A--0RzNRJ6UX"
   },
   "source": [
    "### 3.1 Drop irrelevant columns depending on your objective"
   ]
  },
  {
   "cell_type": "code",
   "execution_count": null,
   "metadata": {
    "id": "Kt-2hUcGKET4"
   },
   "outputs": [],
   "source": [
    "dff_final = df_final.drop(['App','Price'], axis = 1)"
   ]
  },
  {
   "cell_type": "code",
   "execution_count": null,
   "metadata": {
    "id": "S8LLeQXYD-vS",
    "outputId": "4cd83229-6203-45c4-f9d2-2860e59dff08"
   },
   "outputs": [
    {
     "data": {
      "text/html": [
       "<div>\n",
       "<style scoped>\n",
       "    .dataframe tbody tr th:only-of-type {\n",
       "        vertical-align: middle;\n",
       "    }\n",
       "\n",
       "    .dataframe tbody tr th {\n",
       "        vertical-align: top;\n",
       "    }\n",
       "\n",
       "    .dataframe thead th {\n",
       "        text-align: right;\n",
       "    }\n",
       "</style>\n",
       "<table border=\"1\" class=\"dataframe\">\n",
       "  <thead>\n",
       "    <tr style=\"text-align: right;\">\n",
       "      <th></th>\n",
       "      <th>Rating</th>\n",
       "      <th>Reviews</th>\n",
       "      <th>price_cat</th>\n",
       "      <th>Type_Paid</th>\n",
       "      <th>cat_low</th>\n",
       "      <th>Content Rating_Everyone</th>\n",
       "      <th>Content Rating_Everyone 10+</th>\n",
       "      <th>Content Rating_Mature 17+</th>\n",
       "      <th>Content Rating_Teen</th>\n",
       "      <th>Content Rating_Unrated</th>\n",
       "    </tr>\n",
       "  </thead>\n",
       "  <tbody>\n",
       "    <tr>\n",
       "      <th>0</th>\n",
       "      <td>4.1</td>\n",
       "      <td>159</td>\n",
       "      <td>0</td>\n",
       "      <td>0</td>\n",
       "      <td>0</td>\n",
       "      <td>1</td>\n",
       "      <td>0</td>\n",
       "      <td>0</td>\n",
       "      <td>0</td>\n",
       "      <td>0</td>\n",
       "    </tr>\n",
       "    <tr>\n",
       "      <th>1</th>\n",
       "      <td>3.9</td>\n",
       "      <td>967</td>\n",
       "      <td>0</td>\n",
       "      <td>0</td>\n",
       "      <td>0</td>\n",
       "      <td>1</td>\n",
       "      <td>0</td>\n",
       "      <td>0</td>\n",
       "      <td>0</td>\n",
       "      <td>0</td>\n",
       "    </tr>\n",
       "    <tr>\n",
       "      <th>2</th>\n",
       "      <td>4.7</td>\n",
       "      <td>87510</td>\n",
       "      <td>0</td>\n",
       "      <td>0</td>\n",
       "      <td>0</td>\n",
       "      <td>1</td>\n",
       "      <td>0</td>\n",
       "      <td>0</td>\n",
       "      <td>0</td>\n",
       "      <td>0</td>\n",
       "    </tr>\n",
       "    <tr>\n",
       "      <th>3</th>\n",
       "      <td>4.5</td>\n",
       "      <td>215644</td>\n",
       "      <td>0</td>\n",
       "      <td>0</td>\n",
       "      <td>0</td>\n",
       "      <td>0</td>\n",
       "      <td>0</td>\n",
       "      <td>0</td>\n",
       "      <td>1</td>\n",
       "      <td>0</td>\n",
       "    </tr>\n",
       "    <tr>\n",
       "      <th>4</th>\n",
       "      <td>4.3</td>\n",
       "      <td>967</td>\n",
       "      <td>0</td>\n",
       "      <td>0</td>\n",
       "      <td>0</td>\n",
       "      <td>1</td>\n",
       "      <td>0</td>\n",
       "      <td>0</td>\n",
       "      <td>0</td>\n",
       "      <td>0</td>\n",
       "    </tr>\n",
       "  </tbody>\n",
       "</table>\n",
       "</div>"
      ],
      "text/plain": [
       "   Rating  Reviews  price_cat  Type_Paid  cat_low  Content Rating_Everyone  \\\n",
       "0     4.1      159          0          0        0                        1   \n",
       "1     3.9      967          0          0        0                        1   \n",
       "2     4.7    87510          0          0        0                        1   \n",
       "3     4.5   215644          0          0        0                        0   \n",
       "4     4.3      967          0          0        0                        1   \n",
       "\n",
       "   Content Rating_Everyone 10+  Content Rating_Mature 17+  \\\n",
       "0                            0                          0   \n",
       "1                            0                          0   \n",
       "2                            0                          0   \n",
       "3                            0                          0   \n",
       "4                            0                          0   \n",
       "\n",
       "   Content Rating_Teen  Content Rating_Unrated  \n",
       "0                    0                       0  \n",
       "1                    0                       0  \n",
       "2                    0                       0  \n",
       "3                    1                       0  \n",
       "4                    0                       0  "
      ]
     },
     "execution_count": 267,
     "metadata": {},
     "output_type": "execute_result"
    }
   ],
   "source": [
    "dff_final.head()"
   ]
  },
  {
   "cell_type": "markdown",
   "metadata": {
    "id": "0gA5L4eBD-vT"
   },
   "source": [
    "### 3.2 Standardize the data.\n",
    "- Here, we need to scale only one column that is 'Reviews'"
   ]
  },
  {
   "cell_type": "code",
   "execution_count": null,
   "metadata": {
    "id": "eMVcVldDD-vT",
    "outputId": "b63097d9-2bf5-4348-d24d-5865eb2ed07d"
   },
   "outputs": [
    {
     "data": {
      "text/html": [
       "<div>\n",
       "<style scoped>\n",
       "    .dataframe tbody tr th:only-of-type {\n",
       "        vertical-align: middle;\n",
       "    }\n",
       "\n",
       "    .dataframe tbody tr th {\n",
       "        vertical-align: top;\n",
       "    }\n",
       "\n",
       "    .dataframe thead th {\n",
       "        text-align: right;\n",
       "    }\n",
       "</style>\n",
       "<table border=\"1\" class=\"dataframe\">\n",
       "  <thead>\n",
       "    <tr style=\"text-align: right;\">\n",
       "      <th></th>\n",
       "      <th>Rating</th>\n",
       "      <th>Reviews</th>\n",
       "      <th>price_cat</th>\n",
       "      <th>Type_Paid</th>\n",
       "      <th>cat_low</th>\n",
       "      <th>Content Rating_Everyone</th>\n",
       "      <th>Content Rating_Everyone 10+</th>\n",
       "      <th>Content Rating_Mature 17+</th>\n",
       "      <th>Content Rating_Teen</th>\n",
       "      <th>Content Rating_Unrated</th>\n",
       "    </tr>\n",
       "  </thead>\n",
       "  <tbody>\n",
       "    <tr>\n",
       "      <th>0</th>\n",
       "      <td>-0.136010</td>\n",
       "      <td>-0.128539</td>\n",
       "      <td>-0.264512</td>\n",
       "      <td>-0.281729</td>\n",
       "      <td>-0.345816</td>\n",
       "      <td>0.488578</td>\n",
       "      <td>-0.196887</td>\n",
       "      <td>-0.213405</td>\n",
       "      <td>-0.353967</td>\n",
       "      <td>-0.011062</td>\n",
       "    </tr>\n",
       "    <tr>\n",
       "      <th>1</th>\n",
       "      <td>-0.508470</td>\n",
       "      <td>-0.128133</td>\n",
       "      <td>-0.264512</td>\n",
       "      <td>-0.281729</td>\n",
       "      <td>-0.345816</td>\n",
       "      <td>0.488578</td>\n",
       "      <td>-0.196887</td>\n",
       "      <td>-0.213405</td>\n",
       "      <td>-0.353967</td>\n",
       "      <td>-0.011062</td>\n",
       "    </tr>\n",
       "    <tr>\n",
       "      <th>2</th>\n",
       "      <td>0.981371</td>\n",
       "      <td>-0.084604</td>\n",
       "      <td>-0.264512</td>\n",
       "      <td>-0.281729</td>\n",
       "      <td>-0.345816</td>\n",
       "      <td>0.488578</td>\n",
       "      <td>-0.196887</td>\n",
       "      <td>-0.213405</td>\n",
       "      <td>-0.353967</td>\n",
       "      <td>-0.011062</td>\n",
       "    </tr>\n",
       "    <tr>\n",
       "      <th>3</th>\n",
       "      <td>0.608911</td>\n",
       "      <td>-0.020156</td>\n",
       "      <td>-0.264512</td>\n",
       "      <td>-0.281729</td>\n",
       "      <td>-0.345816</td>\n",
       "      <td>-2.046755</td>\n",
       "      <td>-0.196887</td>\n",
       "      <td>-0.213405</td>\n",
       "      <td>2.825123</td>\n",
       "      <td>-0.011062</td>\n",
       "    </tr>\n",
       "    <tr>\n",
       "      <th>4</th>\n",
       "      <td>0.236451</td>\n",
       "      <td>-0.128133</td>\n",
       "      <td>-0.264512</td>\n",
       "      <td>-0.281729</td>\n",
       "      <td>-0.345816</td>\n",
       "      <td>0.488578</td>\n",
       "      <td>-0.196887</td>\n",
       "      <td>-0.213405</td>\n",
       "      <td>-0.353967</td>\n",
       "      <td>-0.011062</td>\n",
       "    </tr>\n",
       "  </tbody>\n",
       "</table>\n",
       "</div>"
      ],
      "text/plain": [
       "     Rating   Reviews  price_cat  Type_Paid   cat_low  \\\n",
       "0 -0.136010 -0.128539  -0.264512  -0.281729 -0.345816   \n",
       "1 -0.508470 -0.128133  -0.264512  -0.281729 -0.345816   \n",
       "2  0.981371 -0.084604  -0.264512  -0.281729 -0.345816   \n",
       "3  0.608911 -0.020156  -0.264512  -0.281729 -0.345816   \n",
       "4  0.236451 -0.128133  -0.264512  -0.281729 -0.345816   \n",
       "\n",
       "   Content Rating_Everyone  Content Rating_Everyone 10+  \\\n",
       "0                 0.488578                    -0.196887   \n",
       "1                 0.488578                    -0.196887   \n",
       "2                 0.488578                    -0.196887   \n",
       "3                -2.046755                    -0.196887   \n",
       "4                 0.488578                    -0.196887   \n",
       "\n",
       "   Content Rating_Mature 17+  Content Rating_Teen  Content Rating_Unrated  \n",
       "0                  -0.213405            -0.353967               -0.011062  \n",
       "1                  -0.213405            -0.353967               -0.011062  \n",
       "2                  -0.213405            -0.353967               -0.011062  \n",
       "3                  -0.213405             2.825123               -0.011062  \n",
       "4                  -0.213405            -0.353967               -0.011062  "
      ]
     },
     "execution_count": 268,
     "metadata": {},
     "output_type": "execute_result"
    }
   ],
   "source": [
    "# Method -1: Scale all features using StandardScaler\n",
    "from sklearn.preprocessing import StandardScaler\n",
    "sc = StandardScaler()\n",
    "\n",
    "df_scaled1 = pd.DataFrame(sc.fit_transform(dff_final), columns=dff_final.columns)\n",
    "df_scaled1.head()"
   ]
  },
  {
   "cell_type": "code",
   "execution_count": null,
   "metadata": {
    "id": "t-20-AMbD-vT",
    "outputId": "ff92f809-9745-41fc-b493-3ec3789d6e9d"
   },
   "outputs": [
    {
     "data": {
      "text/html": [
       "<div>\n",
       "<style scoped>\n",
       "    .dataframe tbody tr th:only-of-type {\n",
       "        vertical-align: middle;\n",
       "    }\n",
       "\n",
       "    .dataframe tbody tr th {\n",
       "        vertical-align: top;\n",
       "    }\n",
       "\n",
       "    .dataframe thead th {\n",
       "        text-align: right;\n",
       "    }\n",
       "</style>\n",
       "<table border=\"1\" class=\"dataframe\">\n",
       "  <thead>\n",
       "    <tr style=\"text-align: right;\">\n",
       "      <th></th>\n",
       "      <th>Rating</th>\n",
       "      <th>Reviews</th>\n",
       "      <th>price_cat</th>\n",
       "      <th>Type_Paid</th>\n",
       "      <th>cat_low</th>\n",
       "      <th>Content Rating_Everyone</th>\n",
       "      <th>Content Rating_Everyone 10+</th>\n",
       "      <th>Content Rating_Mature 17+</th>\n",
       "      <th>Content Rating_Teen</th>\n",
       "      <th>Content Rating_Unrated</th>\n",
       "    </tr>\n",
       "  </thead>\n",
       "  <tbody>\n",
       "    <tr>\n",
       "      <th>0</th>\n",
       "      <td>0.775</td>\n",
       "      <td>0.000002</td>\n",
       "      <td>0.0</td>\n",
       "      <td>0.0</td>\n",
       "      <td>0.0</td>\n",
       "      <td>1.0</td>\n",
       "      <td>0.0</td>\n",
       "      <td>0.0</td>\n",
       "      <td>0.0</td>\n",
       "      <td>0.0</td>\n",
       "    </tr>\n",
       "    <tr>\n",
       "      <th>1</th>\n",
       "      <td>0.725</td>\n",
       "      <td>0.000012</td>\n",
       "      <td>0.0</td>\n",
       "      <td>0.0</td>\n",
       "      <td>0.0</td>\n",
       "      <td>1.0</td>\n",
       "      <td>0.0</td>\n",
       "      <td>0.0</td>\n",
       "      <td>0.0</td>\n",
       "      <td>0.0</td>\n",
       "    </tr>\n",
       "    <tr>\n",
       "      <th>2</th>\n",
       "      <td>0.925</td>\n",
       "      <td>0.001120</td>\n",
       "      <td>0.0</td>\n",
       "      <td>0.0</td>\n",
       "      <td>0.0</td>\n",
       "      <td>1.0</td>\n",
       "      <td>0.0</td>\n",
       "      <td>0.0</td>\n",
       "      <td>0.0</td>\n",
       "      <td>0.0</td>\n",
       "    </tr>\n",
       "    <tr>\n",
       "      <th>3</th>\n",
       "      <td>0.875</td>\n",
       "      <td>0.002759</td>\n",
       "      <td>0.0</td>\n",
       "      <td>0.0</td>\n",
       "      <td>0.0</td>\n",
       "      <td>0.0</td>\n",
       "      <td>0.0</td>\n",
       "      <td>0.0</td>\n",
       "      <td>1.0</td>\n",
       "      <td>0.0</td>\n",
       "    </tr>\n",
       "    <tr>\n",
       "      <th>4</th>\n",
       "      <td>0.825</td>\n",
       "      <td>0.000012</td>\n",
       "      <td>0.0</td>\n",
       "      <td>0.0</td>\n",
       "      <td>0.0</td>\n",
       "      <td>1.0</td>\n",
       "      <td>0.0</td>\n",
       "      <td>0.0</td>\n",
       "      <td>0.0</td>\n",
       "      <td>0.0</td>\n",
       "    </tr>\n",
       "  </tbody>\n",
       "</table>\n",
       "</div>"
      ],
      "text/plain": [
       "   Rating   Reviews  price_cat  Type_Paid  cat_low  Content Rating_Everyone  \\\n",
       "0   0.775  0.000002        0.0        0.0      0.0                      1.0   \n",
       "1   0.725  0.000012        0.0        0.0      0.0                      1.0   \n",
       "2   0.925  0.001120        0.0        0.0      0.0                      1.0   \n",
       "3   0.875  0.002759        0.0        0.0      0.0                      0.0   \n",
       "4   0.825  0.000012        0.0        0.0      0.0                      1.0   \n",
       "\n",
       "   Content Rating_Everyone 10+  Content Rating_Mature 17+  \\\n",
       "0                          0.0                        0.0   \n",
       "1                          0.0                        0.0   \n",
       "2                          0.0                        0.0   \n",
       "3                          0.0                        0.0   \n",
       "4                          0.0                        0.0   \n",
       "\n",
       "   Content Rating_Teen  Content Rating_Unrated  \n",
       "0                  0.0                     0.0  \n",
       "1                  0.0                     0.0  \n",
       "2                  0.0                     0.0  \n",
       "3                  1.0                     0.0  \n",
       "4                  0.0                     0.0  "
      ]
     },
     "execution_count": 269,
     "metadata": {},
     "output_type": "execute_result"
    }
   ],
   "source": [
    "# Method -2: Scale all features using MinMaxScaler\n",
    "from sklearn.preprocessing import MinMaxScaler\n",
    "\n",
    "# create an  object\n",
    "min_max = MinMaxScaler()\n",
    "\n",
    "# fit data to find min max values and then transform it\n",
    "df_scaled2 = pd.DataFrame(min_max.fit_transform(dff_final), columns=dff_final.columns)\n",
    "df_scaled2.head()"
   ]
  },
  {
   "cell_type": "markdown",
   "metadata": {
    "id": "rKxi7-qLiJKt"
   },
   "source": [
    "## 4. Conclusion"
   ]
  },
  {
   "cell_type": "markdown",
   "metadata": {
    "id": "O0pMYAkyLF4T"
   },
   "source": [
    "- Here, we started with a simple dataset having 6 features. \n",
    "- We did basic statistical analysis to understand the data and identified multiple issues with features.\n",
    "- We saw various methods to deal with missing values, duplicates, and outliers.\n",
    "- We also did some data manipulation like creating categories, removing '$' sign, etc.\n",
    "- We also saw how to make a copy of dataframe, log transformation, etc.\n",
    "- We converted categorical features into numerical using one hot encoding\n",
    "- We also saw different ways to standardize data\n",
    "- The final data is now suitable for the model building step."
   ]
  },
  {
   "cell_type": "code",
   "execution_count": null,
   "metadata": {
    "id": "eodOF0ZhD-vV"
   },
   "outputs": [],
   "source": []
  }
 ],
 "metadata": {
  "colab": {
   "collapsed_sections": [],
   "name": "IIITD_Week-5_Notebook.ipynb",
   "provenance": []
  },
  "kernelspec": {
   "display_name": "Python 3 (ipykernel)",
   "language": "python",
   "name": "python3"
  },
  "language_info": {
   "codemirror_mode": {
    "name": "ipython",
    "version": 3
   },
   "file_extension": ".py",
   "mimetype": "text/x-python",
   "name": "python",
   "nbconvert_exporter": "python",
   "pygments_lexer": "ipython3",
   "version": "3.9.7"
  }
 },
 "nbformat": 4,
 "nbformat_minor": 1
}
