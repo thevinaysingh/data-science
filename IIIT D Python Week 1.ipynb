{
 "cells": [
  {
   "cell_type": "markdown",
   "id": "3719da91",
   "metadata": {
    "id": "3719da91"
   },
   "source": [
    "# INTRODUCTION TO PYTHON"
   ]
  },
  {
   "cell_type": "markdown",
   "id": "qvu2lj354qaM",
   "metadata": {
    "id": "qvu2lj354qaM"
   },
   "source": [
    "## TOC\n",
    "\n",
    "- Python installation and python version\n",
    "- Comments in python\n",
    "- Basic commands:- \n",
    " - Import libraries\n",
    " - Checking print options\n",
    " - Assigning and storing variables and Checking datatype in Python\n",
    " - Checking a few operators\n",
    " - Lists, Dictionaries and Sets in Python (will learn in detail in later courses)\n",
    "- Packages Overview (will learn in detail in later courses)\n",
    "  - Numpy\n",
    "  - Pandas\n",
    "- Jupyter shortcuts"
   ]
  },
  {
   "cell_type": "markdown",
   "id": "52015530",
   "metadata": {
    "id": "52015530"
   },
   "source": [
    "## Python installation"
   ]
  },
  {
   "cell_type": "markdown",
   "id": "b87a6389",
   "metadata": {
    "id": "b87a6389"
   },
   "source": [
    "- Install Anaconda Individual Edition compatible with your system. \n",
    "- Search for 'Anaconda Navigator' in your system and open it\n",
    "- A navigator window opens up. It shows pre-insalled packages available in anaconda such as JupyterLab, Jupyter Notebook, PyCharm Professional, RStudio, etc. \n",
    "- Laungh the Jupyter Notebook\n",
    "- It will open an editor in the default browser\n",
    "- You can access any ipynb file or create a new one"
   ]
  },
  {
   "cell_type": "markdown",
   "id": "a3ec3d4e",
   "metadata": {
    "id": "a3ec3d4e"
   },
   "source": [
    "We can check version of Python from command prompt using below command:"
   ]
  },
  {
   "cell_type": "code",
   "execution_count": 7,
   "id": "4Mw5hYrH6R15",
   "metadata": {
    "id": "4Mw5hYrH6R15"
   },
   "outputs": [
    {
     "ename": "NameError",
     "evalue": "name 'python' is not defined",
     "output_type": "error",
     "traceback": [
      "\u001b[0;31m---------------------------------------------------------------------------\u001b[0m",
      "\u001b[0;31mNameError\u001b[0m                                 Traceback (most recent call last)",
      "\u001b[0;32m/var/folders/7p/sbv15dnj4nl14hnxcdbv_81w0000gn/T/ipykernel_6245/1576056767.py\u001b[0m in \u001b[0;36m<module>\u001b[0;34m\u001b[0m\n\u001b[0;32m----> 1\u001b[0;31m \u001b[0mpython\u001b[0m \u001b[0;34m-\u001b[0m\u001b[0;34m-\u001b[0m\u001b[0mversion\u001b[0m\u001b[0;34m\u001b[0m\u001b[0;34m\u001b[0m\u001b[0m\n\u001b[0m",
      "\u001b[0;31mNameError\u001b[0m: name 'python' is not defined"
     ]
    }
   ],
   "source": [
    "python --version"
   ]
  },
  {
   "cell_type": "markdown",
   "id": "c31fe027",
   "metadata": {
    "id": "c31fe027"
   },
   "source": [
    "## Comments in Python"
   ]
  },
  {
   "cell_type": "markdown",
   "id": "f2e71956",
   "metadata": {
    "id": "f2e71956"
   },
   "source": [
    "#### Use \"#\" for writing comment"
   ]
  },
  {
   "cell_type": "code",
   "execution_count": null,
   "id": "62c16c1a",
   "metadata": {
    "id": "62c16c1a"
   },
   "outputs": [],
   "source": [
    "# This is python 3.8.8 version"
   ]
  },
  {
   "cell_type": "markdown",
   "id": "cb8059fb",
   "metadata": {
    "id": "cb8059fb"
   },
   "source": [
    "#### Use triple single quotes or triple double quotes for writing multiple/long comments\n",
    "This is also called docstring in python which is generally used inside functions"
   ]
  },
  {
   "cell_type": "code",
   "execution_count": null,
   "id": "90e1a6e1",
   "metadata": {
    "id": "90e1a6e1",
    "outputId": "fc3cbbeb-d3c1-4927-f930-d11ade45ef8b"
   },
   "outputs": [
    {
     "data": {
      "text/plain": [
       "'Python is an interpreted high-level general-purpose programming language. \\nIts design philosophy emphasizes code readability with its use of significant indentation.'"
      ]
     },
     "execution_count": 70,
     "metadata": {},
     "output_type": "execute_result"
    }
   ],
   "source": [
    "\"\"\"Python is an interpreted high-level general-purpose programming language. \n",
    "Its design philosophy emphasizes code readability with its use of significant indentation.\"\"\""
   ]
  },
  {
   "cell_type": "code",
   "execution_count": null,
   "id": "4a6a723b",
   "metadata": {
    "id": "4a6a723b",
    "outputId": "16cd9f38-6c8c-4a9e-d4ce-ca6a9ae26023"
   },
   "outputs": [
    {
     "data": {
      "text/plain": [
       "'Python is an interpreted high-level general-purpose programming language. \\nIts design philosophy emphasizes code readability with its use of significant indentation.'"
      ]
     },
     "execution_count": 71,
     "metadata": {},
     "output_type": "execute_result"
    }
   ],
   "source": [
    "'''Python is an interpreted high-level general-purpose programming language. \n",
    "Its design philosophy emphasizes code readability with its use of significant indentation.'''"
   ]
  },
  {
   "cell_type": "markdown",
   "id": "c1b0373b",
   "metadata": {
    "id": "c1b0373b"
   },
   "source": [
    "## Basic Commands\n",
    "### How to import any library in Python"
   ]
  },
  {
   "cell_type": "code",
   "execution_count": null,
   "id": "807d14a3",
   "metadata": {
    "id": "807d14a3"
   },
   "outputs": [],
   "source": [
    "import pandas as pd"
   ]
  },
  {
   "cell_type": "code",
   "execution_count": null,
   "id": "e37aca8b",
   "metadata": {
    "id": "e37aca8b"
   },
   "outputs": [],
   "source": [
    "import numpy as np"
   ]
  },
  {
   "cell_type": "code",
   "execution_count": null,
   "id": "a3e37dac",
   "metadata": {
    "id": "a3e37dac"
   },
   "outputs": [],
   "source": [
    "import matplotlib as plt"
   ]
  },
  {
   "cell_type": "code",
   "execution_count": null,
   "id": "169cc6c1",
   "metadata": {
    "id": "169cc6c1"
   },
   "outputs": [],
   "source": [
    "import scipy"
   ]
  },
  {
   "cell_type": "markdown",
   "id": "c25c8a6a",
   "metadata": {
    "id": "c25c8a6a"
   },
   "source": [
    "#### If library is not installed in OS: it throws following error"
   ]
  },
  {
   "cell_type": "code",
   "execution_count": null,
   "id": "b456d115",
   "metadata": {
    "id": "b456d115",
    "outputId": "c15029df-7741-4264-f396-73db4c68f0d4"
   },
   "outputs": [
    {
     "ename": "ModuleNotFoundError",
     "evalue": "No module named 'cv'",
     "output_type": "error",
     "traceback": [
      "\u001b[1;31m---------------------------------------------------------------------------\u001b[0m",
      "\u001b[1;31mModuleNotFoundError\u001b[0m                       Traceback (most recent call last)",
      "\u001b[1;32m<ipython-input-68-91a2ffa00be2>\u001b[0m in \u001b[0;36m<module>\u001b[1;34m\u001b[0m\n\u001b[1;32m----> 1\u001b[1;33m \u001b[1;32mimport\u001b[0m \u001b[0mcv\u001b[0m\u001b[1;33m\u001b[0m\u001b[1;33m\u001b[0m\u001b[0m\n\u001b[0m",
      "\u001b[1;31mModuleNotFoundError\u001b[0m: No module named 'cv'"
     ]
    }
   ],
   "source": [
    "import cv2"
   ]
  },
  {
   "cell_type": "markdown",
   "id": "n0_o9lp86XJ3",
   "metadata": {
    "id": "n0_o9lp86XJ3"
   },
   "source": [
    "#### How to install a new library"
   ]
  },
  {
   "cell_type": "code",
   "execution_count": 6,
   "id": "2MnMldbU4ehr",
   "metadata": {
    "id": "2MnMldbU4ehr",
    "scrolled": true
   },
   "outputs": [
    {
     "name": "stdout",
     "output_type": "stream",
     "text": [
      "\u001b[31mERROR: Could not find a version that satisfies the requirement cv2 (from versions: none)\u001b[0m\r\n",
      "\u001b[31mERROR: No matching distribution found for cv2\u001b[0m\r\n"
     ]
    }
   ],
   "source": [
    "!pip install cv2"
   ]
  },
  {
   "cell_type": "markdown",
   "id": "UPK6a78_6jOi",
   "metadata": {
    "id": "UPK6a78_6jOi"
   },
   "source": [
    "### Checking print options"
   ]
  },
  {
   "cell_type": "code",
   "execution_count": null,
   "id": "lYn0mHpT6lKv",
   "metadata": {
    "colab": {
     "base_uri": "https://localhost:8080/"
    },
    "executionInfo": {
     "elapsed": 486,
     "status": "ok",
     "timestamp": 1632136500892,
     "user": {
      "displayName": "Garima Rahangdale",
      "photoUrl": "https://lh3.googleusercontent.com/a/default-user=s64",
      "userId": "12135158262547382026"
     },
     "user_tz": -330
    },
    "id": "lYn0mHpT6lKv",
    "outputId": "692123e3-f2f3-4286-faa4-529fe10c040d"
   },
   "outputs": [
    {
     "name": "stdout",
     "output_type": "stream",
     "text": [
      "Learning python is fun\n"
     ]
    }
   ],
   "source": [
    "print(\"Learning python is fun\")"
   ]
  },
  {
   "cell_type": "code",
   "execution_count": 8,
   "id": "81k_BAWV6pv-",
   "metadata": {
    "colab": {
     "base_uri": "https://localhost:8080/"
    },
    "executionInfo": {
     "elapsed": 508,
     "status": "ok",
     "timestamp": 1632136647008,
     "user": {
      "displayName": "Garima Rahangdale",
      "photoUrl": "https://lh3.googleusercontent.com/a/default-user=s64",
      "userId": "12135158262547382026"
     },
     "user_tz": -330
    },
    "id": "81k_BAWV6pv-",
    "outputId": "297edfd8-3c96-4534-94c5-268d4b177b1c"
   },
   "outputs": [
    {
     "name": "stdout",
     "output_type": "stream",
     "text": [
      "2\n"
     ]
    }
   ],
   "source": [
    "print(2)"
   ]
  },
  {
   "cell_type": "code",
   "execution_count": 9,
   "id": "_FRzyzgu7Ndo",
   "metadata": {
    "colab": {
     "base_uri": "https://localhost:8080/"
    },
    "executionInfo": {
     "elapsed": 453,
     "status": "ok",
     "timestamp": 1632136655589,
     "user": {
      "displayName": "Garima Rahangdale",
      "photoUrl": "https://lh3.googleusercontent.com/a/default-user=s64",
      "userId": "12135158262547382026"
     },
     "user_tz": -330
    },
    "id": "_FRzyzgu7Ndo",
    "outputId": "a005ff2b-68b2-4106-fc7e-84d6d3a716e7"
   },
   "outputs": [
    {
     "name": "stdout",
     "output_type": "stream",
     "text": [
      "34\n"
     ]
    }
   ],
   "source": [
    "print(\"34\")"
   ]
  },
  {
   "cell_type": "markdown",
   "id": "tBpb7xXt65hK",
   "metadata": {
    "id": "tBpb7xXt65hK"
   },
   "source": [
    "### Assigning and storing variables & Checking datatype in Python"
   ]
  },
  {
   "cell_type": "code",
   "execution_count": 10,
   "id": "JEFlFOC18k2x",
   "metadata": {
    "id": "JEFlFOC18k2x"
   },
   "outputs": [],
   "source": [
    "var1 = 16 #int type\n",
    "var2 = 4.0         #float type\n",
    "var3 = 'hello' #string type\n",
    "var4 = '345' #string type\n",
    "var5 = True #bool type"
   ]
  },
  {
   "cell_type": "code",
   "execution_count": 11,
   "id": "QDDbx4SL88RI",
   "metadata": {
    "colab": {
     "base_uri": "https://localhost:8080/"
    },
    "executionInfo": {
     "elapsed": 8,
     "status": "ok",
     "timestamp": 1632140606827,
     "user": {
      "displayName": "Garima Rahangdale",
      "photoUrl": "https://lh3.googleusercontent.com/a/default-user=s64",
      "userId": "12135158262547382026"
     },
     "user_tz": -330
    },
    "id": "QDDbx4SL88RI",
    "outputId": "368b51c6-dab1-4a82-8422-56300cf20329"
   },
   "outputs": [
    {
     "name": "stdout",
     "output_type": "stream",
     "text": [
      "<class 'int'>\n",
      "<class 'float'>\n",
      "<class 'str'>\n",
      "<class 'str'>\n",
      "<class 'bool'>\n"
     ]
    }
   ],
   "source": [
    "# Check data types\n",
    "print(type(var1))\n",
    "print(type(var2))\n",
    "print(type(var3))\n",
    "print(type(var4))\n",
    "print(type(var5))"
   ]
  },
  {
   "cell_type": "markdown",
   "id": "hasCrsax9KE6",
   "metadata": {
    "id": "hasCrsax9KE6"
   },
   "source": [
    "### Checking a few operators"
   ]
  },
  {
   "cell_type": "code",
   "execution_count": null,
   "id": "r9AejDga9LTZ",
   "metadata": {
    "colab": {
     "base_uri": "https://localhost:8080/"
    },
    "executionInfo": {
     "elapsed": 7,
     "status": "ok",
     "timestamp": 1632137317903,
     "user": {
      "displayName": "Garima Rahangdale",
      "photoUrl": "https://lh3.googleusercontent.com/a/default-user=s64",
      "userId": "12135158262547382026"
     },
     "user_tz": -330
    },
    "id": "r9AejDga9LTZ",
    "outputId": "c1583a9f-ee05-4b23-f1fc-964854ae6509"
   },
   "outputs": [
    {
     "name": "stdout",
     "output_type": "stream",
     "text": [
      "20.0\n"
     ]
    }
   ],
   "source": [
    "# Add two numeric variables\n",
    "print(var1+var2)"
   ]
  },
  {
   "cell_type": "code",
   "execution_count": null,
   "id": "4IRbpmnc9kkW",
   "metadata": {
    "colab": {
     "base_uri": "https://localhost:8080/"
    },
    "executionInfo": {
     "elapsed": 14,
     "status": "ok",
     "timestamp": 1632137318446,
     "user": {
      "displayName": "Garima Rahangdale",
      "photoUrl": "https://lh3.googleusercontent.com/a/default-user=s64",
      "userId": "12135158262547382026"
     },
     "user_tz": -330
    },
    "id": "4IRbpmnc9kkW",
    "outputId": "42bad943-0188-4c4b-cd54-74686c0d0493"
   },
   "outputs": [
    {
     "name": "stdout",
     "output_type": "stream",
     "text": [
      "12.0\n"
     ]
    }
   ],
   "source": [
    "# Subtract\n",
    "print(var1-var2)"
   ]
  },
  {
   "cell_type": "code",
   "execution_count": null,
   "id": "eZzQ3m8k9mQo",
   "metadata": {
    "colab": {
     "base_uri": "https://localhost:8080/"
    },
    "executionInfo": {
     "elapsed": 26,
     "status": "ok",
     "timestamp": 1632137318944,
     "user": {
      "displayName": "Garima Rahangdale",
      "photoUrl": "https://lh3.googleusercontent.com/a/default-user=s64",
      "userId": "12135158262547382026"
     },
     "user_tz": -330
    },
    "id": "eZzQ3m8k9mQo",
    "outputId": "3d651313-4e8d-4eab-dbcc-c5b67a6cfc0e"
   },
   "outputs": [
    {
     "name": "stdout",
     "output_type": "stream",
     "text": [
      "64.0\n"
     ]
    }
   ],
   "source": [
    "# Multiplication\n",
    "print(var1*var2)"
   ]
  },
  {
   "cell_type": "code",
   "execution_count": null,
   "id": "gdECC_Hp9rCf",
   "metadata": {
    "colab": {
     "base_uri": "https://localhost:8080/"
    },
    "executionInfo": {
     "elapsed": 15,
     "status": "ok",
     "timestamp": 1632137320824,
     "user": {
      "displayName": "Garima Rahangdale",
      "photoUrl": "https://lh3.googleusercontent.com/a/default-user=s64",
      "userId": "12135158262547382026"
     },
     "user_tz": -330
    },
    "id": "gdECC_Hp9rCf",
    "outputId": "1cc43a04-df52-42fa-f90e-ca8aacbc9574"
   },
   "outputs": [
    {
     "name": "stdout",
     "output_type": "stream",
     "text": [
      "4.0\n"
     ]
    }
   ],
   "source": [
    "# Division\n",
    "print(var1/var2)"
   ]
  },
  {
   "cell_type": "code",
   "execution_count": null,
   "id": "LEmGrUEq9smP",
   "metadata": {
    "colab": {
     "base_uri": "https://localhost:8080/"
    },
    "executionInfo": {
     "elapsed": 666,
     "status": "ok",
     "timestamp": 1632140957056,
     "user": {
      "displayName": "Garima Rahangdale",
      "photoUrl": "https://lh3.googleusercontent.com/a/default-user=s64",
      "userId": "12135158262547382026"
     },
     "user_tz": -330
    },
    "id": "LEmGrUEq9smP",
    "outputId": "0cfb1572-f426-4075-b2f4-7e061a0cd4ea"
   },
   "outputs": [
    {
     "name": "stdout",
     "output_type": "stream",
     "text": [
      "0.0\n"
     ]
    }
   ],
   "source": [
    "# Remainder\n",
    "print(var1%var2)"
   ]
  },
  {
   "cell_type": "code",
   "execution_count": null,
   "id": "jcGTv4yx91Vx",
   "metadata": {
    "colab": {
     "base_uri": "https://localhost:8080/"
    },
    "executionInfo": {
     "elapsed": 543,
     "status": "ok",
     "timestamp": 1632140985241,
     "user": {
      "displayName": "Garima Rahangdale",
      "photoUrl": "https://lh3.googleusercontent.com/a/default-user=s64",
      "userId": "12135158262547382026"
     },
     "user_tz": -330
    },
    "id": "jcGTv4yx91Vx",
    "outputId": "9e8dccd0-638c-4636-8b86-df2ff311c1f5"
   },
   "outputs": [
    {
     "name": "stdout",
     "output_type": "stream",
     "text": [
      "4\n"
     ]
    }
   ],
   "source": [
    "# Square\n",
    "print(2**2)"
   ]
  },
  {
   "cell_type": "code",
   "execution_count": null,
   "id": "OxDU_xpS9T3Q",
   "metadata": {
    "colab": {
     "base_uri": "https://localhost:8080/",
     "height": 167
    },
    "executionInfo": {
     "elapsed": 456,
     "status": "error",
     "timestamp": 1632137226709,
     "user": {
      "displayName": "Garima Rahangdale",
      "photoUrl": "https://lh3.googleusercontent.com/a/default-user=s64",
      "userId": "12135158262547382026"
     },
     "user_tz": -330
    },
    "id": "OxDU_xpS9T3Q",
    "outputId": "46a84975-399f-49d3-9b99-e6207abada79"
   },
   "outputs": [
    {
     "ename": "TypeError",
     "evalue": "ignored",
     "output_type": "error",
     "traceback": [
      "\u001b[0;31m---------------------------------------------------------------------------\u001b[0m",
      "\u001b[0;31mTypeError\u001b[0m                                 Traceback (most recent call last)",
      "\u001b[0;32m<ipython-input-14-b4100eb867ff>\u001b[0m in \u001b[0;36m<module>\u001b[0;34m()\u001b[0m\n\u001b[0;32m----> 1\u001b[0;31m \u001b[0mprint\u001b[0m\u001b[0;34m(\u001b[0m\u001b[0mvar1\u001b[0m\u001b[0;34m+\u001b[0m\u001b[0mvar4\u001b[0m\u001b[0;34m)\u001b[0m \u001b[0;31m## Cannot add a int type and string type feature\u001b[0m\u001b[0;34m\u001b[0m\u001b[0;34m\u001b[0m\u001b[0m\n\u001b[0m",
      "\u001b[0;31mTypeError\u001b[0m: unsupported operand type(s) for +: 'int' and 'str'"
     ]
    }
   ],
   "source": [
    "print(var1+var4) ## Cannot add a int type and string type feature"
   ]
  },
  {
   "cell_type": "code",
   "execution_count": null,
   "id": "_WwljtDH9Yhs",
   "metadata": {
    "colab": {
     "base_uri": "https://localhost:8080/"
    },
    "executionInfo": {
     "elapsed": 7,
     "status": "ok",
     "timestamp": 1632137237517,
     "user": {
      "displayName": "Garima Rahangdale",
      "photoUrl": "https://lh3.googleusercontent.com/a/default-user=s64",
      "userId": "12135158262547382026"
     },
     "user_tz": -330
    },
    "id": "_WwljtDH9Yhs",
    "outputId": "ed04196f-870a-45e8-cc35-6b79c630134f"
   },
   "outputs": [
    {
     "name": "stdout",
     "output_type": "stream",
     "text": [
      "hello345\n"
     ]
    }
   ],
   "source": [
    "print(var3+var4)"
   ]
  },
  {
   "cell_type": "markdown",
   "id": "qUsHhoSHL1cO",
   "metadata": {
    "id": "qUsHhoSHL1cO"
   },
   "source": [
    "### Lists, Dictionaries and Sets in Python"
   ]
  },
  {
   "cell_type": "code",
   "execution_count": null,
   "id": "tgMx-OW0L4eL",
   "metadata": {
    "colab": {
     "base_uri": "https://localhost:8080/"
    },
    "executionInfo": {
     "elapsed": 621,
     "status": "ok",
     "timestamp": 1632141026481,
     "user": {
      "displayName": "Garima Rahangdale",
      "photoUrl": "https://lh3.googleusercontent.com/a/default-user=s64",
      "userId": "12135158262547382026"
     },
     "user_tz": -330
    },
    "id": "tgMx-OW0L4eL",
    "outputId": "8c809b20-b1cf-4778-dd66-a83f24e2dad7"
   },
   "outputs": [
    {
     "name": "stdout",
     "output_type": "stream",
     "text": [
      "['learning', 'Python', 'is fun?', True]\n"
     ]
    }
   ],
   "source": [
    "#Example \n",
    "l1 = ['learning', \"Python\", 'is fun?', True]\n",
    "print(l1)"
   ]
  },
  {
   "cell_type": "code",
   "execution_count": null,
   "id": "N83aV_5KL6oa",
   "metadata": {
    "colab": {
     "base_uri": "https://localhost:8080/"
    },
    "executionInfo": {
     "elapsed": 566,
     "status": "ok",
     "timestamp": 1632141037140,
     "user": {
      "displayName": "Garima Rahangdale",
      "photoUrl": "https://lh3.googleusercontent.com/a/default-user=s64",
      "userId": "12135158262547382026"
     },
     "user_tz": -330
    },
    "id": "N83aV_5KL6oa",
    "outputId": "4c9ca894-906c-42ab-fee6-d59c96e42426"
   },
   "outputs": [
    {
     "name": "stdout",
     "output_type": "stream",
     "text": [
      "['learning', 'for', 'life', True]\n"
     ]
    }
   ],
   "source": [
    "#Example\n",
    "l2 = list((\"learning\", \"for\", \"life\", True))\n",
    "print(l2)"
   ]
  },
  {
   "cell_type": "code",
   "execution_count": null,
   "id": "uQd8bxXUL6qw",
   "metadata": {
    "colab": {
     "base_uri": "https://localhost:8080/"
    },
    "executionInfo": {
     "elapsed": 968,
     "status": "ok",
     "timestamp": 1632141056586,
     "user": {
      "displayName": "Garima Rahangdale",
      "photoUrl": "https://lh3.googleusercontent.com/a/default-user=s64",
      "userId": "12135158262547382026"
     },
     "user_tz": -330
    },
    "id": "uQd8bxXUL6qw",
    "outputId": "b331b1b9-64c7-4875-ea95-1cf9367fdfdf"
   },
   "outputs": [
    {
     "data": {
      "text/plain": [
       "['learning', 'Python', 'is fun?', True, 10]"
      ]
     },
     "execution_count": 35,
     "metadata": {},
     "output_type": "execute_result"
    }
   ],
   "source": [
    "# Add 10 to list l1 given above.\n",
    "l1.append(10)\n",
    "l1"
   ]
  },
  {
   "cell_type": "code",
   "execution_count": null,
   "id": "2S22oMX8MBrw",
   "metadata": {
    "colab": {
     "base_uri": "https://localhost:8080/"
    },
    "executionInfo": {
     "elapsed": 651,
     "status": "ok",
     "timestamp": 1632141079926,
     "user": {
      "displayName": "Garima Rahangdale",
      "photoUrl": "https://lh3.googleusercontent.com/a/default-user=s64",
      "userId": "12135158262547382026"
     },
     "user_tz": -330
    },
    "id": "2S22oMX8MBrw",
    "outputId": "32b4c81f-4be1-47a0-a26f-c00125da58d9"
   },
   "outputs": [
    {
     "data": {
      "text/plain": [
       "['learning', 'Python', 'is fun?', True]"
      ]
     },
     "execution_count": 37,
     "metadata": {},
     "output_type": "execute_result"
    }
   ],
   "source": [
    "#Remove 10 from l1\n",
    "l1.remove(10)\n",
    "l1"
   ]
  },
  {
   "cell_type": "code",
   "execution_count": null,
   "id": "ufuKwpxiMFWw",
   "metadata": {
    "colab": {
     "base_uri": "https://localhost:8080/"
    },
    "executionInfo": {
     "elapsed": 461,
     "status": "ok",
     "timestamp": 1632141095150,
     "user": {
      "displayName": "Garima Rahangdale",
      "photoUrl": "https://lh3.googleusercontent.com/a/default-user=s64",
      "userId": "12135158262547382026"
     },
     "user_tz": -330
    },
    "id": "ufuKwpxiMFWw",
    "outputId": "769984be-7641-44da-b4fd-7e56f4c0a5c8"
   },
   "outputs": [
    {
     "data": {
      "text/plain": [
       "['learning', 'Python', 'is fun?', True, 'learning', 'for', 'life', True]"
      ]
     },
     "execution_count": 38,
     "metadata": {},
     "output_type": "execute_result"
    }
   ],
   "source": [
    "# Join two lists\n",
    "l1 = ['learning', \"Python\", 'is fun?', True]\n",
    "l2 = list((\"learning\", \"for\", \"life\", True))\n",
    "l1+l2"
   ]
  },
  {
   "cell_type": "code",
   "execution_count": null,
   "id": "QxidvaE_MLR7",
   "metadata": {
    "colab": {
     "base_uri": "https://localhost:8080/"
    },
    "executionInfo": {
     "elapsed": 570,
     "status": "ok",
     "timestamp": 1632141131759,
     "user": {
      "displayName": "Garima Rahangdale",
      "photoUrl": "https://lh3.googleusercontent.com/a/default-user=s64",
      "userId": "12135158262547382026"
     },
     "user_tz": -330
    },
    "id": "QxidvaE_MLR7",
    "outputId": "dbeb8e93-1fb7-4f51-e4a7-b5f2237fd31d"
   },
   "outputs": [
    {
     "data": {
      "text/plain": [
       "6"
      ]
     },
     "execution_count": 41,
     "metadata": {},
     "output_type": "execute_result"
    }
   ],
   "source": [
    "#Use standard functions\n",
    "l3 = [2,4,6,8]\n",
    "range = max(l3) - min (l3)\n",
    "range"
   ]
  },
  {
   "cell_type": "code",
   "execution_count": null,
   "id": "nBPSWs3XMUZg",
   "metadata": {
    "colab": {
     "base_uri": "https://localhost:8080/"
    },
    "executionInfo": {
     "elapsed": 611,
     "status": "ok",
     "timestamp": 1632141141127,
     "user": {
      "displayName": "Garima Rahangdale",
      "photoUrl": "https://lh3.googleusercontent.com/a/default-user=s64",
      "userId": "12135158262547382026"
     },
     "user_tz": -330
    },
    "id": "nBPSWs3XMUZg",
    "outputId": "035c9c1b-676f-4fc0-b8ef-e730d7f5dc1b"
   },
   "outputs": [
    {
     "data": {
      "text/plain": [
       "5.0"
      ]
     },
     "execution_count": 42,
     "metadata": {},
     "output_type": "execute_result"
    }
   ],
   "source": [
    "mean = sum(l3)/len(l3)\n",
    "mean"
   ]
  },
  {
   "cell_type": "markdown",
   "id": "fe779f10",
   "metadata": {
    "id": "fe779f10"
   },
   "source": [
    "## Python packages overview"
   ]
  },
  {
   "cell_type": "markdown",
   "id": "fe0ab02d",
   "metadata": {
    "id": "fe0ab02d"
   },
   "source": [
    "### NumPy"
   ]
  },
  {
   "cell_type": "code",
   "execution_count": 13,
   "id": "274ae8fd",
   "metadata": {
    "id": "274ae8fd",
    "outputId": "4d8b3e67-94c4-443b-c1fa-60b5d3765048"
   },
   "outputs": [
    {
     "name": "stdout",
     "output_type": "stream",
     "text": [
      "[101, 102, 103, 104, 105, 106, 107, 108, 109, 110]\n"
     ]
    },
    {
     "data": {
      "text/plain": [
       "list"
      ]
     },
     "execution_count": 13,
     "metadata": {},
     "output_type": "execute_result"
    }
   ],
   "source": [
    "# Numpy array\n",
    "simple_list = [101,102,103,104,105,106,107,108,109,110]\n",
    "print(simple_list)\n",
    "\n",
    "type(simple_list)"
   ]
  },
  {
   "cell_type": "code",
   "execution_count": 16,
   "id": "64d71d30",
   "metadata": {
    "id": "64d71d30",
    "outputId": "15f12575-7d9e-42ec-9d08-5be77fa2b6e3"
   },
   "outputs": [
    {
     "data": {
      "text/plain": [
       "array([101, 102, 103, 104, 105, 106, 107, 108, 109, 110])"
      ]
     },
     "execution_count": 16,
     "metadata": {},
     "output_type": "execute_result"
    }
   ],
   "source": [
    "import numpy as np\n",
    "np.array(simple_list)"
   ]
  },
  {
   "cell_type": "code",
   "execution_count": null,
   "id": "c9c5129f",
   "metadata": {
    "id": "c9c5129f",
    "outputId": "c18ce282-53a2-49f9-d068-0d486288b78d"
   },
   "outputs": [
    {
     "data": {
      "text/plain": [
       "[[10, 11, 12], [20, 21, 22], [30, 31, 32]]"
      ]
     },
     "execution_count": 74,
     "metadata": {},
     "output_type": "execute_result"
    }
   ],
   "source": [
    "simple_list_of_lists = [[10,11,12],[20,21,22],[30,31,32]]\n",
    "simple_list_of_lists"
   ]
  },
  {
   "cell_type": "code",
   "execution_count": null,
   "id": "c679342e",
   "metadata": {
    "id": "c679342e",
    "outputId": "42008585-f831-4daa-ceb9-296d6e619d68"
   },
   "outputs": [
    {
     "data": {
      "text/plain": [
       "array([[10, 11, 12],\n",
       "       [20, 21, 22],\n",
       "       [30, 31, 32]])"
      ]
     },
     "execution_count": 75,
     "metadata": {},
     "output_type": "execute_result"
    }
   ],
   "source": [
    "np.array(simple_list_of_lists)"
   ]
  },
  {
   "cell_type": "code",
   "execution_count": 17,
   "id": "d0ab0e38",
   "metadata": {
    "id": "d0ab0e38",
    "outputId": "30d33b4b-9706-4798-85ec-2726d4814fd6"
   },
   "outputs": [
    {
     "name": "stdout",
     "output_type": "stream",
     "text": [
      "1. [0. 0. 0. 0. 0. 0. 0. 0. 0. 0.]\n",
      "\n",
      "2.\n",
      " [[0. 0. 0.]\n",
      " [0. 0. 0.]\n",
      " [0. 0. 0.]\n",
      " [0. 0. 0.]]\n"
     ]
    }
   ],
   "source": [
    "# 0's - Generate arrays of 0's or 1's\n",
    "\n",
    "print(\"1.\",np.zeros(10))    # Specify the count of 0's required in the array\n",
    "\n",
    "print(\"\\n2.\\n\",np.zeros((4,3))) # Specify the number of rows by columns - 4 rows and 3 cols in this example"
   ]
  },
  {
   "cell_type": "code",
   "execution_count": null,
   "id": "c3c30095",
   "metadata": {
    "id": "c3c30095",
    "outputId": "ae6d1ed3-fd52-4d1c-ea1f-46cc832f74da"
   },
   "outputs": [
    {
     "data": {
      "text/plain": [
       "array([[1., 0., 0., 0., 0.],\n",
       "       [0., 1., 0., 0., 0.],\n",
       "       [0., 0., 1., 0., 0.],\n",
       "       [0., 0., 0., 1., 0.],\n",
       "       [0., 0., 0., 0., 1.]])"
      ]
     },
     "execution_count": 77,
     "metadata": {},
     "output_type": "execute_result"
    }
   ],
   "source": [
    "# Identity matrix\n",
    "np.eye(5)"
   ]
  },
  {
   "cell_type": "markdown",
   "id": "26da610e",
   "metadata": {
    "id": "26da610e"
   },
   "source": [
    "Random numbers\n",
    "1. rand\n",
    "2. randn\n",
    "3. randint"
   ]
  },
  {
   "cell_type": "code",
   "execution_count": null,
   "id": "07adee73",
   "metadata": {
    "id": "07adee73",
    "outputId": "24d9ca41-6c83-49e7-bd00-7a01df5b1b93"
   },
   "outputs": [
    {
     "data": {
      "text/plain": [
       "array([0.90340192, 0.1374747 , 0.13927635, 0.80739129, 0.39767684,\n",
       "       0.1653542 , 0.92750858, 0.34776586, 0.7508121 , 0.72599799])"
      ]
     },
     "execution_count": 78,
     "metadata": {},
     "output_type": "execute_result"
    }
   ],
   "source": [
    "np.random.rand(10)"
   ]
  },
  {
   "cell_type": "code",
   "execution_count": null,
   "id": "41340804",
   "metadata": {
    "id": "41340804",
    "outputId": "737b046f-72b3-4050-c53e-08448a3edbd2"
   },
   "outputs": [
    {
     "data": {
      "text/plain": [
       "array([[0.88330609, 0.62367221],\n",
       "       [0.75094243, 0.34889834],\n",
       "       [0.26992789, 0.89588622]])"
      ]
     },
     "execution_count": 79,
     "metadata": {},
     "output_type": "execute_result"
    }
   ],
   "source": [
    "np.random.rand(3,2)"
   ]
  },
  {
   "cell_type": "markdown",
   "id": "deebbe89",
   "metadata": {
    "id": "deebbe89"
   },
   "source": [
    "### Pandas"
   ]
  },
  {
   "cell_type": "markdown",
   "id": "851cef67",
   "metadata": {
    "id": "851cef67"
   },
   "source": [
    "#### Creating a Series using Pandas\n"
   ]
  },
  {
   "cell_type": "markdown",
   "id": "3e35e0c6",
   "metadata": {
    "id": "3e35e0c6"
   },
   "source": [
    "You could convert a list,numpy array, or dictionary to a Series in the following manner"
   ]
  },
  {
   "cell_type": "code",
   "execution_count": null,
   "id": "a2431a36",
   "metadata": {
    "id": "a2431a36"
   },
   "outputs": [],
   "source": [
    "labels = ['l1','l2','l3','l4']\n",
    "list = [10,20,30,40]\n",
    "array = np.array([10,20,30,40])\n",
    "dict = {'w':10,'x':20,'y':30,'z':40}"
   ]
  },
  {
   "cell_type": "code",
   "execution_count": null,
   "id": "fdcee6e7",
   "metadata": {
    "id": "fdcee6e7",
    "outputId": "8afb87d5-b3e1-4de2-d1bf-8b12e27e17a8"
   },
   "outputs": [
    {
     "data": {
      "text/plain": [
       "0    10\n",
       "1    20\n",
       "2    30\n",
       "3    40\n",
       "dtype: int64"
      ]
     },
     "execution_count": 81,
     "metadata": {},
     "output_type": "execute_result"
    }
   ],
   "source": [
    "pd.Series(data=list)"
   ]
  },
  {
   "cell_type": "code",
   "execution_count": null,
   "id": "5984c6bd",
   "metadata": {
    "id": "5984c6bd",
    "outputId": "c9e00c93-a6f6-468d-fd2f-131e7ab789f2"
   },
   "outputs": [
    {
     "data": {
      "text/plain": [
       "l1    10\n",
       "l2    20\n",
       "l3    30\n",
       "l4    40\n",
       "dtype: int64"
      ]
     },
     "execution_count": 82,
     "metadata": {},
     "output_type": "execute_result"
    }
   ],
   "source": [
    "pd.Series(data=list,index=labels) # named arguments"
   ]
  },
  {
   "cell_type": "code",
   "execution_count": null,
   "id": "6dcf18ee",
   "metadata": {
    "id": "6dcf18ee",
    "outputId": "0ceadc6d-c9e1-40ad-9b56-4f77c2a3a3fe"
   },
   "outputs": [
    {
     "data": {
      "text/plain": [
       "0    10\n",
       "1    20\n",
       "2    30\n",
       "3    40\n",
       "dtype: int32"
      ]
     },
     "execution_count": 83,
     "metadata": {},
     "output_type": "execute_result"
    }
   ],
   "source": [
    "pd.Series(array)"
   ]
  },
  {
   "cell_type": "code",
   "execution_count": null,
   "id": "e42084c5",
   "metadata": {
    "id": "e42084c5",
    "outputId": "14157bf8-fe1a-44d8-d7d2-cc763dd39330"
   },
   "outputs": [
    {
     "data": {
      "text/plain": [
       "w    10\n",
       "x    20\n",
       "y    30\n",
       "z    40\n",
       "dtype: int64"
      ]
     },
     "execution_count": 84,
     "metadata": {},
     "output_type": "execute_result"
    }
   ],
   "source": [
    "pd.Series(dict)"
   ]
  },
  {
   "cell_type": "markdown",
   "id": "c723c26d",
   "metadata": {
    "id": "c723c26d"
   },
   "source": [
    "#### DataFrames"
   ]
  },
  {
   "cell_type": "markdown",
   "id": "e684a793",
   "metadata": {
    "id": "e684a793"
   },
   "source": [
    "DataFrames concept in python is similar to that of R programming language. DataFrame is a collection of Series combined together to share the same index positions."
   ]
  },
  {
   "cell_type": "code",
   "execution_count": 21,
   "id": "69409c03",
   "metadata": {
    "id": "69409c03"
   },
   "outputs": [],
   "source": [
    "from numpy.random import randn\n",
    "np.random.seed(1)"
   ]
  },
  {
   "cell_type": "code",
   "execution_count": 27,
   "id": "ad470a11",
   "metadata": {
    "id": "ad470a11",
    "scrolled": true
   },
   "outputs": [],
   "source": [
    "import pandas as pd\n",
    "dataframe = pd.DataFrame(randn(10,5),index='A B C D E F G H I J'.split(),columns='Score1 Score2 Score3 Score4 Score5'.split())\n"
   ]
  },
  {
   "cell_type": "code",
   "execution_count": 26,
   "id": "9cbb2388",
   "metadata": {
    "id": "9cbb2388",
    "outputId": "925a50bd-0676-40ff-b8d0-d98cf064f65d"
   },
   "outputs": [
    {
     "data": {
      "text/html": [
       "<div>\n",
       "<style scoped>\n",
       "    .dataframe tbody tr th:only-of-type {\n",
       "        vertical-align: middle;\n",
       "    }\n",
       "\n",
       "    .dataframe tbody tr th {\n",
       "        vertical-align: top;\n",
       "    }\n",
       "\n",
       "    .dataframe thead th {\n",
       "        text-align: right;\n",
       "    }\n",
       "</style>\n",
       "<table border=\"1\" class=\"dataframe\">\n",
       "  <thead>\n",
       "    <tr style=\"text-align: right;\">\n",
       "      <th></th>\n",
       "      <th>Score1</th>\n",
       "      <th>Score2</th>\n",
       "      <th>Score3</th>\n",
       "      <th>Score4</th>\n",
       "      <th>Score5</th>\n",
       "    </tr>\n",
       "  </thead>\n",
       "  <tbody>\n",
       "    <tr>\n",
       "      <th>A</th>\n",
       "      <td>1.624345</td>\n",
       "      <td>-0.611756</td>\n",
       "      <td>-0.528172</td>\n",
       "      <td>-1.072969</td>\n",
       "      <td>0.865408</td>\n",
       "    </tr>\n",
       "    <tr>\n",
       "      <th>B</th>\n",
       "      <td>-2.301539</td>\n",
       "      <td>1.744812</td>\n",
       "      <td>-0.761207</td>\n",
       "      <td>0.319039</td>\n",
       "      <td>-0.249370</td>\n",
       "    </tr>\n",
       "    <tr>\n",
       "      <th>C</th>\n",
       "      <td>1.462108</td>\n",
       "      <td>-2.060141</td>\n",
       "      <td>-0.322417</td>\n",
       "      <td>-0.384054</td>\n",
       "      <td>1.133769</td>\n",
       "    </tr>\n",
       "    <tr>\n",
       "      <th>D</th>\n",
       "      <td>-1.099891</td>\n",
       "      <td>-0.172428</td>\n",
       "      <td>-0.877858</td>\n",
       "      <td>0.042214</td>\n",
       "      <td>0.582815</td>\n",
       "    </tr>\n",
       "    <tr>\n",
       "      <th>E</th>\n",
       "      <td>-1.100619</td>\n",
       "      <td>1.144724</td>\n",
       "      <td>0.901591</td>\n",
       "      <td>0.502494</td>\n",
       "      <td>0.900856</td>\n",
       "    </tr>\n",
       "    <tr>\n",
       "      <th>F</th>\n",
       "      <td>-0.683728</td>\n",
       "      <td>-0.122890</td>\n",
       "      <td>-0.935769</td>\n",
       "      <td>-0.267888</td>\n",
       "      <td>0.530355</td>\n",
       "    </tr>\n",
       "    <tr>\n",
       "      <th>G</th>\n",
       "      <td>-0.691661</td>\n",
       "      <td>-0.396754</td>\n",
       "      <td>-0.687173</td>\n",
       "      <td>-0.845206</td>\n",
       "      <td>-0.671246</td>\n",
       "    </tr>\n",
       "    <tr>\n",
       "      <th>H</th>\n",
       "      <td>-0.012665</td>\n",
       "      <td>-1.117310</td>\n",
       "      <td>0.234416</td>\n",
       "      <td>1.659802</td>\n",
       "      <td>0.742044</td>\n",
       "    </tr>\n",
       "    <tr>\n",
       "      <th>I</th>\n",
       "      <td>-0.191836</td>\n",
       "      <td>-0.887629</td>\n",
       "      <td>-0.747158</td>\n",
       "      <td>1.692455</td>\n",
       "      <td>0.050808</td>\n",
       "    </tr>\n",
       "    <tr>\n",
       "      <th>J</th>\n",
       "      <td>-0.636996</td>\n",
       "      <td>0.190915</td>\n",
       "      <td>2.100255</td>\n",
       "      <td>0.120159</td>\n",
       "      <td>0.617203</td>\n",
       "    </tr>\n",
       "  </tbody>\n",
       "</table>\n",
       "</div>"
      ],
      "text/plain": [
       "     Score1    Score2    Score3    Score4    Score5\n",
       "A  1.624345 -0.611756 -0.528172 -1.072969  0.865408\n",
       "B -2.301539  1.744812 -0.761207  0.319039 -0.249370\n",
       "C  1.462108 -2.060141 -0.322417 -0.384054  1.133769\n",
       "D -1.099891 -0.172428 -0.877858  0.042214  0.582815\n",
       "E -1.100619  1.144724  0.901591  0.502494  0.900856\n",
       "F -0.683728 -0.122890 -0.935769 -0.267888  0.530355\n",
       "G -0.691661 -0.396754 -0.687173 -0.845206 -0.671246\n",
       "H -0.012665 -1.117310  0.234416  1.659802  0.742044\n",
       "I -0.191836 -0.887629 -0.747158  1.692455  0.050808\n",
       "J -0.636996  0.190915  2.100255  0.120159  0.617203"
      ]
     },
     "execution_count": 26,
     "metadata": {},
     "output_type": "execute_result"
    }
   ],
   "source": [
    "dataframe"
   ]
  },
  {
   "cell_type": "code",
   "execution_count": null,
   "id": "8d5074bd",
   "metadata": {
    "id": "8d5074bd",
    "outputId": "9d0745ed-8466-4e3f-8487-537e45858531"
   },
   "outputs": [
    {
     "data": {
      "text/html": [
       "<div>\n",
       "<style scoped>\n",
       "    .dataframe tbody tr th:only-of-type {\n",
       "        vertical-align: middle;\n",
       "    }\n",
       "\n",
       "    .dataframe tbody tr th {\n",
       "        vertical-align: top;\n",
       "    }\n",
       "\n",
       "    .dataframe thead th {\n",
       "        text-align: right;\n",
       "    }\n",
       "</style>\n",
       "<table border=\"1\" class=\"dataframe\">\n",
       "  <thead>\n",
       "    <tr style=\"text-align: right;\">\n",
       "      <th></th>\n",
       "      <th>Score2</th>\n",
       "      <th>Score1</th>\n",
       "    </tr>\n",
       "  </thead>\n",
       "  <tbody>\n",
       "    <tr>\n",
       "      <th>A</th>\n",
       "      <td>-0.611756</td>\n",
       "      <td>1.624345</td>\n",
       "    </tr>\n",
       "    <tr>\n",
       "      <th>B</th>\n",
       "      <td>1.744812</td>\n",
       "      <td>-2.301539</td>\n",
       "    </tr>\n",
       "    <tr>\n",
       "      <th>C</th>\n",
       "      <td>-2.060141</td>\n",
       "      <td>1.462108</td>\n",
       "    </tr>\n",
       "    <tr>\n",
       "      <th>D</th>\n",
       "      <td>-0.172428</td>\n",
       "      <td>-1.099891</td>\n",
       "    </tr>\n",
       "    <tr>\n",
       "      <th>E</th>\n",
       "      <td>1.144724</td>\n",
       "      <td>-1.100619</td>\n",
       "    </tr>\n",
       "    <tr>\n",
       "      <th>F</th>\n",
       "      <td>-0.122890</td>\n",
       "      <td>-0.683728</td>\n",
       "    </tr>\n",
       "    <tr>\n",
       "      <th>G</th>\n",
       "      <td>-0.396754</td>\n",
       "      <td>-0.691661</td>\n",
       "    </tr>\n",
       "    <tr>\n",
       "      <th>H</th>\n",
       "      <td>-1.117310</td>\n",
       "      <td>-0.012665</td>\n",
       "    </tr>\n",
       "    <tr>\n",
       "      <th>I</th>\n",
       "      <td>-0.887629</td>\n",
       "      <td>-0.191836</td>\n",
       "    </tr>\n",
       "    <tr>\n",
       "      <th>J</th>\n",
       "      <td>0.190915</td>\n",
       "      <td>-0.636996</td>\n",
       "    </tr>\n",
       "  </tbody>\n",
       "</table>\n",
       "</div>"
      ],
      "text/plain": [
       "     Score2    Score1\n",
       "A -0.611756  1.624345\n",
       "B  1.744812 -2.301539\n",
       "C -2.060141  1.462108\n",
       "D -0.172428 -1.099891\n",
       "E  1.144724 -1.100619\n",
       "F -0.122890 -0.683728\n",
       "G -0.396754 -0.691661\n",
       "H -1.117310 -0.012665\n",
       "I -0.887629 -0.191836\n",
       "J  0.190915 -0.636996"
      ]
     },
     "execution_count": 88,
     "metadata": {},
     "output_type": "execute_result"
    }
   ],
   "source": [
    "# Pass a list of column names in any order necessary\n",
    "dataframe[['Score2','Score1']]"
   ]
  },
  {
   "cell_type": "code",
   "execution_count": 28,
   "id": "f0ee75aa",
   "metadata": {
    "id": "f0ee75aa",
    "outputId": "a0d9ea8c-a366-41d8-dd5b-d4be57f0d255"
   },
   "outputs": [
    {
     "data": {
      "text/plain": [
       "pandas.core.series.Series"
      ]
     },
     "execution_count": 28,
     "metadata": {},
     "output_type": "execute_result"
    }
   ],
   "source": [
    "type(dataframe['Score1'])"
   ]
  },
  {
   "cell_type": "markdown",
   "id": "0c8e0095",
   "metadata": {
    "id": "0c8e0095"
   },
   "source": [
    "### Matplotlib"
   ]
  },
  {
   "cell_type": "markdown",
   "id": "a5bad670",
   "metadata": {
    "id": "a5bad670"
   },
   "source": [
    "Inorder to understand matplotlib plotting, we need to import some data"
   ]
  },
  {
   "cell_type": "code",
   "execution_count": 29,
   "id": "ef0e9e0f",
   "metadata": {
    "id": "ef0e9e0f"
   },
   "outputs": [],
   "source": [
    "import matplotlib.pyplot as plt\n",
    "%matplotlib inline\n",
    "\n",
    "# import some data to play with\n",
    "from sklearn import datasets\n",
    "\n",
    "iris = datasets.load_iris()"
   ]
  },
  {
   "cell_type": "markdown",
   "id": "6b2dbc14",
   "metadata": {
    "id": "6b2dbc14"
   },
   "source": [
    "#### Explore Data"
   ]
  },
  {
   "cell_type": "code",
   "execution_count": 30,
   "id": "a8340838",
   "metadata": {
    "id": "a8340838"
   },
   "outputs": [],
   "source": [
    "X = iris.data[:, :2]  # we only take the first two features.\n",
    "y = iris.target"
   ]
  },
  {
   "cell_type": "code",
   "execution_count": 36,
   "id": "32ZMdQkwOE9Y",
   "metadata": {
    "colab": {
     "base_uri": "https://localhost:8080/"
    },
    "executionInfo": {
     "elapsed": 845,
     "status": "ok",
     "timestamp": 1632141597858,
     "user": {
      "displayName": "Garima Rahangdale",
      "photoUrl": "https://lh3.googleusercontent.com/a/default-user=s64",
      "userId": "12135158262547382026"
     },
     "user_tz": -330
    },
    "id": "32ZMdQkwOE9Y",
    "outputId": "77021991-e946-45b6-ddc7-2e626b218cc4"
   },
   "outputs": [
    {
     "data": {
      "text/plain": [
       "array([0, 0, 0, 0, 0, 0, 0, 0, 0, 0, 0, 0, 0, 0, 0, 0, 0, 0, 0, 0, 0, 0,\n",
       "       0, 0, 0, 0, 0, 0, 0, 0, 0, 0, 0, 0, 0, 0, 0, 0, 0, 0, 0, 0, 0, 0,\n",
       "       0, 0, 0, 0, 0, 0, 1, 1, 1, 1, 1, 1, 1, 1, 1, 1, 1, 1, 1, 1, 1, 1,\n",
       "       1, 1, 1, 1, 1, 1, 1, 1, 1, 1, 1, 1, 1, 1, 1, 1, 1, 1, 1, 1, 1, 1,\n",
       "       1, 1, 1, 1, 1, 1, 1, 1, 1, 1, 1, 1, 2, 2, 2, 2, 2, 2, 2, 2, 2, 2,\n",
       "       2, 2, 2, 2, 2, 2, 2, 2, 2, 2, 2, 2, 2, 2, 2, 2, 2, 2, 2, 2, 2, 2,\n",
       "       2, 2, 2, 2, 2, 2, 2, 2, 2, 2, 2, 2, 2, 2, 2, 2, 2, 2])"
      ]
     },
     "execution_count": 36,
     "metadata": {},
     "output_type": "execute_result"
    }
   ],
   "source": [
    "y"
   ]
  },
  {
   "cell_type": "code",
   "execution_count": 38,
   "id": "ig9wsNkzNSiZ",
   "metadata": {
    "colab": {
     "base_uri": "https://localhost:8080/",
     "height": 264
    },
    "executionInfo": {
     "elapsed": 637,
     "status": "ok",
     "timestamp": 1632141616293,
     "user": {
      "displayName": "Garima Rahangdale",
      "photoUrl": "https://lh3.googleusercontent.com/a/default-user=s64",
      "userId": "12135158262547382026"
     },
     "user_tz": -330
    },
    "id": "ig9wsNkzNSiZ",
    "outputId": "fa384860-4141-47cb-8ec9-99a7c24e567a",
    "scrolled": true
   },
   "outputs": [
    {
     "data": {
      "image/png": "[encoded data removed]",
      "text/plain": [
       "<Figure size 432x288 with 1 Axes>"
      ]
     },
     "metadata": {
      "needs_background": "light"
     },
     "output_type": "display_data"
    }
   ],
   "source": [
    "plt.hist(y)\n",
    "plt.show()"
   ]
  },
  {
   "cell_type": "markdown",
   "id": "17982bd2",
   "metadata": {
    "id": "17982bd2"
   },
   "source": [
    "## Jupyter Notebook Shortcuts"
   ]
  },
  {
   "cell_type": "markdown",
   "id": "ada6e310",
   "metadata": {
    "id": "ada6e310"
   },
   "source": [
    "### Keyboard shortcuts"
   ]
  },
  {
   "cell_type": "markdown",
   "id": "be10d659",
   "metadata": {
    "id": "be10d659"
   },
   "source": [
    "| Command | Description |\n",
    "| --- | --- |\n",
    "| enter  | enter edit mode |\n",
    "| Command +a; Command +c; Command +v  | select all; copy; paste |\n",
    "| Command +z; Command +y | undo; redo |\n",
    "|Command + s | save and checkpoint|\n",
    "|Command + b; Command + a | nsert cell below; insert cell above|\n",
    "|Shift + Enter | run cell, select below|\n",
    "|Shift + m | merge cells|\n",
    "|Command + ]; Command + [| indent; dedent |\n",
    "|Ctrl + Enter | run cell|\n",
    "|Option + Return  | run cell, insert cell below|\n",
    "|Escape | enter command mode|\n",
    "|Escape + d + d  | delete selected cell|\n",
    "|Escape + y | change cell to code|\n",
    "|Escape + m  | change cell to markdown|\n",
    "|Escape + r | change cell to raw|\n",
    "|Escape + 1  | change cell to Heading 1|\n",
    "|Escape + n  | change cell to heading n|\n",
    "|Escape + b | create cell below|\n",
    "|Escape + a  | Insert cell above|"
   ]
  },
  {
   "cell_type": "markdown",
   "id": "dc7dc3a6",
   "metadata": {
    "id": "dc7dc3a6"
   },
   "source": []
  }
 ],
 "metadata": {
  "colab": {
   "collapsed_sections": [
    "52015530",
    "c31fe027"
   ],
   "name": "Python Week 1.ipynb",
   "provenance": []
  },
  "kernelspec": {
   "display_name": "Python 3 (ipykernel)",
   "language": "python",
   "name": "python3"
  },
  "language_info": {
   "codemirror_mode": {
    "name": "ipython",
    "version": 3
   },
   "file_extension": ".py",
   "mimetype": "text/x-python",
   "name": "python",
   "nbconvert_exporter": "python",
   "pygments_lexer": "ipython3",
   "version": "3.9.7"
  }
 },
 "nbformat": 4,
 "nbformat_minor": 5
}
