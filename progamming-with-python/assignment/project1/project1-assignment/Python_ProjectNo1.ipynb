{
 "cells": [
  {
   "cell_type": "markdown",
   "id": "024d9722",
   "metadata": {},
   "source": [
    "## Part 1"
   ]
  },
  {
   "cell_type": "markdown",
   "id": "d24735b2",
   "metadata": {},
   "source": [
    "### Q. 1 Answer the following questions. `(2 points)`"
   ]
  },
  {
   "cell_type": "markdown",
   "id": "c8db7f70",
   "metadata": {},
   "source": [
    "#### a. Given the string 'great', use an appropriate index command that returns 'a' from the string. Given s = ‘great’. `(0.5 point)`\n",
    "Expected output: ‘a’"
   ]
  },
  {
   "cell_type": "code",
   "execution_count": 363,
   "id": "6eb7fc72",
   "metadata": {},
   "outputs": [
    {
     "name": "stdout",
     "output_type": "stream",
     "text": [
      "a\n"
     ]
    }
   ],
   "source": [
    "# Solution\n",
    "p1_q1_a_input = 'great'\n",
    "print(p1_q1_a_input[-2])"
   ]
  },
  {
   "cell_type": "markdown",
   "id": "cdd2615c",
   "metadata": {},
   "source": [
    "#### b. Write a program to find out the second smallest number in the list given below. `(0.5 point)`\n",
    "li=[32, 3, 5, 8, 33, 7] & Expected output: 5"
   ]
  },
  {
   "cell_type": "code",
   "execution_count": 364,
   "id": "8d7a5e7a",
   "metadata": {},
   "outputs": [
    {
     "name": "stdout",
     "output_type": "stream",
     "text": [
      "5\n"
     ]
    }
   ],
   "source": [
    "# Solution\n",
    "p1_q1_b_li = [32, 3, 5, 8, 33, 7]\n",
    "p1_q1_b_li.sort()\n",
    "print(p1_q1_b_li[1])"
   ]
  },
  {
   "cell_type": "markdown",
   "id": "332528d9",
   "metadata": {},
   "source": [
    "#### c. Find out the unique values of the list given below. `(0.5 point)`\n",
    "mylist=[1,1,5,3,3,6,11,11] & Expected output: [1,5,3,6,11]"
   ]
  },
  {
   "cell_type": "code",
   "execution_count": 20,
   "id": "ff7cd307",
   "metadata": {},
   "outputs": [
    {
     "name": "stdout",
     "output_type": "stream",
     "text": [
      "[1, 3, 5, 6, 11]\n"
     ]
    }
   ],
   "source": [
    "# Solution\n",
    "p1_q1_c_li = [1,1,5,3,3,6,11,11]\n",
    "print(list(set(p1_q1_c_li)))"
   ]
  },
  {
   "cell_type": "markdown",
   "id": "e5db4198",
   "metadata": {},
   "source": [
    "#### d. Write a program to print cube root of 216 using appropriate syntax. `(0.5 point)`\n",
    "Expected output: 6"
   ]
  },
  {
   "cell_type": "code",
   "execution_count": 49,
   "id": "4a4e36e3",
   "metadata": {},
   "outputs": [
    {
     "name": "stdout",
     "output_type": "stream",
     "text": [
      "6\n"
     ]
    }
   ],
   "source": [
    "# Solution\n",
    "import math\n",
    "\n",
    "p1_q1_d_input = 216\n",
    "\n",
    "def cbrt(i):\n",
    "    result = i ** (1/3)\n",
    "    \n",
    "    if math.floor(result) ** 3 == i:\n",
    "        return math.floor(result)\n",
    "    \n",
    "    if (math.floor(result) + 1) ** 3 == i:\n",
    "        return math.floor(result) + 1\n",
    "    \n",
    "    return result\n",
    "\n",
    "print(cbrt(p1_q1_d_input))"
   ]
  },
  {
   "cell_type": "markdown",
   "id": "a0d8c9b8",
   "metadata": {},
   "source": [
    "### Q. 2 Replace the value 'hello' in the below nested list with 'bye'. `(1 point)`\n",
    "a = [1, 2, [3, 4, 'hello']] & Expected output: [1, 2, [3, 4, 'bye']]"
   ]
  },
  {
   "cell_type": "code",
   "execution_count": 50,
   "id": "3ffe597d",
   "metadata": {},
   "outputs": [
    {
     "name": "stdout",
     "output_type": "stream",
     "text": [
      "[1, 2, [3, 4, 'bye']]\n"
     ]
    }
   ],
   "source": [
    "p1_q2_input = [1, 2, [3, 4, 'hello']]\n",
    "p1_q2_input[-1][-1] = 'bye'\n",
    "print(p1_q2_input)"
   ]
  },
  {
   "cell_type": "markdown",
   "id": "b01c7488",
   "metadata": {},
   "source": [
    "### Q.3 Given the below dictionary, write a program that returns [‘object0’]. `(1 point)`\n",
    "dict = {'a':9, 'b':(2,3,1), 'c':['object0','object1','object2']}\n",
    "Expected output: [‘object0’]"
   ]
  },
  {
   "cell_type": "code",
   "execution_count": 77,
   "id": "6c9ef891",
   "metadata": {},
   "outputs": [
    {
     "name": "stdout",
     "output_type": "stream",
     "text": [
      "['object0']\n",
      "Find \"object0\" in dict: ['object0']\n"
     ]
    }
   ],
   "source": [
    "p1_q3_input = {'a':9, 'b':(2,3,1), 'c':['object0','object1','object2']}\n",
    "\n",
    "# Solution 1\n",
    "print(p1_q3_input.get('c')[:1])\n",
    "\n",
    "# Solution 2\n",
    "def find_object0(input_dict):\n",
    "    if type(input_dict) is not dict:\n",
    "        return None\n",
    "    \n",
    "    for value in input_dict.values():\n",
    "        if type(value) is list and len(value) > 0:\n",
    "            index = value.index('object0')\n",
    "            return value[index: index + 1]\n",
    "    \n",
    "    return None\n",
    "\n",
    "print('Find \"object0\" in dict:', find_object0(p1_q3_input))"
   ]
  },
  {
   "cell_type": "markdown",
   "id": "c7aa59ac",
   "metadata": {},
   "source": [
    "### Q.4 Write a program to calculate the area of a circle. The program should ask for an appropriate input and print the computed area. `(2 points)`\n",
    "#### a. Input text: Please enter the radius of the circle.\n",
    "#### b. If the user enters a value of 5. The output should be: The area of the circle is 78.54\n",
    "#### c. This program should indicate that the input is invalid if the user enters a character instead of a number as input. For instance if the user enters a value of ‘a’ instead of 5 in the previous example the program should\n",
    "prompt: Invalid input, please enter a number: _"
   ]
  },
  {
   "cell_type": "code",
   "execution_count": 370,
   "id": "89f70dda",
   "metadata": {},
   "outputs": [
    {
     "name": "stdout",
     "output_type": "stream",
     "text": [
      "Please enter the radius of the circle 45\n",
      "Area of circle:  6364.285714285714\n"
     ]
    }
   ],
   "source": [
    "input_radius = input(\"Please enter the radius of the circle \")\n",
    "isvalid = False\n",
    "\n",
    "while isvalid == False:\n",
    "    try:\n",
    "        radius = int(input_radius)\n",
    "        isvalid = True\n",
    "    except:\n",
    "        input_radius = input(\"Invalid input, please enter a number \")\n",
    "        isvalid = False\n",
    "\n",
    "circle_area = (22/7) * radius * radius\n",
    "print('Area of circle: ', circle_area)"
   ]
  },
  {
   "cell_type": "markdown",
   "id": "200301e3",
   "metadata": {},
   "source": [
    "### Q.5 Write a program which will take two lists X & Y as input and it will return a list having all the odd numbers present in the two lists. (Note:- common elements can be repeated) `(2 points)`\n",
    "Input list: X=[1,2,3,4,5] & Y=[5,6,7,8,9]\n",
    "Expected Output: [1,3,5,5,7,9] or [1,3,5,7,9] both are accepted."
   ]
  },
  {
   "cell_type": "code",
   "execution_count": 22,
   "id": "6a3f3410",
   "metadata": {},
   "outputs": [
    {
     "name": "stdout",
     "output_type": "stream",
     "text": [
      "[1, 3, 5, 5, 7, 9]\n"
     ]
    }
   ],
   "source": [
    "# Solution\n",
    "x = [1,2,3,4,5]\n",
    "y = [5,6,7,8,9]\n",
    "\n",
    "total = x + y\n",
    "\n",
    "def is_odd(n):\n",
    "    return n % 2 != 0\n",
    "\n",
    "way1 = list(filter(is_odd, total))\n",
    "way2 = [i for i in total if is_odd(i)]\n",
    "print(way1)"
   ]
  },
  {
   "cell_type": "markdown",
   "id": "8ad07b4b",
   "metadata": {},
   "source": [
    "### Q.6 Write a function that prints the integers from 1 to 15. But for multiples of three print \"GREAT\" instead of the number, and for the multiples of five print \"LEARNING\". For numbers which are multiples of both three and five print \"GREATLEARNING\". `(2 points)`"
   ]
  },
  {
   "cell_type": "code",
   "execution_count": 5,
   "id": "3e115564",
   "metadata": {},
   "outputs": [
    {
     "name": "stdout",
     "output_type": "stream",
     "text": [
      "1\n",
      "2\n",
      "GREAT\n",
      "4\n",
      "LEARNING\n",
      "GREAT\n",
      "7\n",
      "8\n",
      "GREAT\n",
      "LEARNING\n",
      "11\n",
      "GREAT\n",
      "13\n",
      "14\n",
      "GREATLEARNING\n"
     ]
    }
   ],
   "source": [
    "# Solution\n",
    "p1_q6_input = 15\n",
    "\n",
    "for i in range(p1_q6_input):\n",
    "    number = i+1\n",
    "    if number % 3 == 0 and number % 5 == 0:\n",
    "        print(\"GREATLEARNING\")\n",
    "    elif number % 3 == 0:\n",
    "        print(\"GREAT\")\n",
    "    elif number % 5 == 0:\n",
    "        print(\"LEARNING\")\n",
    "    else:\n",
    "        print(number)"
   ]
  },
  {
   "cell_type": "markdown",
   "id": "70309d74",
   "metadata": {},
   "source": [
    "## Part 2\n",
    "### Dataset: Online_sales.csv\n",
    "### Domain: Retail\n",
    "### Objective: Analyzing sales data to understand sales trend"
   ]
  },
  {
   "cell_type": "markdown",
   "id": "e3e3083e",
   "metadata": {},
   "source": [
    "### Q.1 Import necessary libraries and read the provided dataset (online_sales.csv) and check the top 5 and random 5 samples of the dataframe. `(0.5 point)`"
   ]
  },
  {
   "cell_type": "code",
   "execution_count": 317,
   "id": "68514b7a",
   "metadata": {},
   "outputs": [
    {
     "name": "stdout",
     "output_type": "stream",
     "text": [
      "Top 5 rows:\n",
      "   InvoiceNo StockCode                          Description  Quantity  \\\n",
      "0    536365    85123A   WHITE HANGING HEART T-LIGHT HOLDER         6   \n",
      "1    536365     71053                  WHITE METAL LANTERN         6   \n",
      "2    536365    84406B       CREAM CUPID HEARTS COAT HANGER         8   \n",
      "3    536365    84029G  KNITTED UNION FLAG HOT WATER BOTTLE         6   \n",
      "4    536365    84029E       RED WOOLLY HOTTIE WHITE HEART.         6   \n",
      "\n",
      "    InvoiceDate  UnitPrice  CustomerID         Country  \n",
      "0  12/1/10 8:26       2.55     17850.0  United Kingdom  \n",
      "1  12/1/10 8:26       3.39     17850.0  United Kingdom  \n",
      "2  12/1/10 8:26       2.75     17850.0  United Kingdom  \n",
      "3  12/1/10 8:26       3.39     17850.0  United Kingdom  \n",
      "4  12/1/10 8:26       3.39     17850.0  United Kingdom  \n",
      "\n",
      "Random 5 rows:\n",
      "   InvoiceNo StockCode                          Description  Quantity  \\\n",
      "0    536365    85123A   WHITE HANGING HEART T-LIGHT HOLDER         6   \n",
      "1    536365     71053                  WHITE METAL LANTERN         6   \n",
      "2    536365    84406B       CREAM CUPID HEARTS COAT HANGER         8   \n",
      "3    536365    84029G  KNITTED UNION FLAG HOT WATER BOTTLE         6   \n",
      "4    536365    84029E       RED WOOLLY HOTTIE WHITE HEART.         6   \n",
      "\n",
      "    InvoiceDate  UnitPrice  CustomerID         Country  \n",
      "0  12/1/10 8:26       2.55     17850.0  United Kingdom  \n",
      "1  12/1/10 8:26       3.39     17850.0  United Kingdom  \n",
      "2  12/1/10 8:26       2.75     17850.0  United Kingdom  \n",
      "3  12/1/10 8:26       3.39     17850.0  United Kingdom  \n",
      "4  12/1/10 8:26       3.39     17850.0  United Kingdom  \n"
     ]
    }
   ],
   "source": [
    "import pandas as pd\n",
    "import numpy as np\n",
    "\n",
    "sales_file_name = 'online_sales.csv'\n",
    "sdf = pd.read_csv(sales_file_name)\n",
    "\n",
    "# Check top 5\n",
    "top5_rows = sdf[:5]\n",
    "print('Top 5 rows:\\n', top5_rows)\n",
    "\n",
    "# Random 5 samples\n",
    "random5_rows = sdf.sample(5)\n",
    "print('\\nRandom 5 rows:\\n',top5_rows)"
   ]
  },
  {
   "cell_type": "markdown",
   "id": "049a1806",
   "metadata": {},
   "source": [
    "### Q.2 Check info of the dataframe and write your observations. Comment on data types and shape of the dataset. `(0.5 point)`"
   ]
  },
  {
   "cell_type": "code",
   "execution_count": 31,
   "id": "f11f6af3",
   "metadata": {},
   "outputs": [
    {
     "name": "stdout",
     "output_type": "stream",
     "text": [
      "Observation 1\n",
      "We have 240007 rows and 8 columns in sales dataframe.\n"
     ]
    }
   ],
   "source": [
    "# No of rows and colums in dataframe\n",
    "obs_i = 1\n",
    "rows, cols = sdf.shape\n",
    "print(f'Observation {obs_i}')\n",
    "print(f'We have {rows} rows and {cols} columns in sales dataframe.')"
   ]
  },
  {
   "cell_type": "code",
   "execution_count": 37,
   "id": "dd3982b3",
   "metadata": {},
   "outputs": [
    {
     "name": "stdout",
     "output_type": "stream",
     "text": [
      "Observation 2\n",
      "\n",
      "We have below columns in the dataframe:\n",
      "InvoiceNo       object\n",
      "StockCode       object\n",
      "Description     object\n",
      "Quantity         int64\n",
      "InvoiceDate     object\n",
      "UnitPrice      float64\n",
      "CustomerID     float64\n",
      "Country         object\n",
      "dtype: object\n"
     ]
    }
   ],
   "source": [
    "# name of columns with datatype in dataframe\n",
    "obs_i = 2\n",
    "print(f'Observation {obs_i}\\n')\n",
    "print('We have below columns in the dataframe:')\n",
    "print(sdf.dtypes)"
   ]
  },
  {
   "cell_type": "code",
   "execution_count": 46,
   "id": "77c4a7ee",
   "metadata": {},
   "outputs": [
    {
     "name": "stdout",
     "output_type": "stream",
     "text": [
      "Observation 3\n",
      "\n",
      "Below is the valid range of rows index:\n",
      "RangeIndex(start=0, stop=240007, step=1)\n"
     ]
    }
   ],
   "source": [
    "# Valid range of rows\n",
    "obs_i = 3\n",
    "print(f'Observation {obs_i}\\n')\n",
    "print('Below is the valid range of rows index:')\n",
    "print(sdf.index)"
   ]
  },
  {
   "cell_type": "code",
   "execution_count": 52,
   "id": "71385363",
   "metadata": {},
   "outputs": [
    {
     "name": "stdout",
     "output_type": "stream",
     "text": [
      "Observation 4\n",
      "\n",
      "Below is count of total entries in dataframe:\n",
      "1920056\n"
     ]
    }
   ],
   "source": [
    "# Total entries/elements in file\n",
    "obs_i = 4\n",
    "print(f'Observation {obs_i}\\n')\n",
    "print('Below is count of total entries in dataframe:')\n",
    "print(sdf.size)"
   ]
  },
  {
   "cell_type": "code",
   "execution_count": 64,
   "id": "b668616c",
   "metadata": {},
   "outputs": [
    {
     "name": "stdout",
     "output_type": "stream",
     "text": [
      "Observation 4\n",
      "\n",
      "Below is list of memory used by each columns:\n",
      "InvoiceNo      15124791\n",
      "StockCode      14905173\n",
      "Description    19990272\n",
      "Quantity        1920056\n",
      "InvoiceDate    16740946\n",
      "UnitPrice       1920056\n",
      "CustomerID      1920056\n",
      "Country        16898928\n",
      "dtype: int64\n"
     ]
    }
   ],
   "source": [
    "# Memory usage by each cols\n",
    "obs_i = 5\n",
    "print(f'Observation {obs_i}\\n')\n",
    "print('Below is list of memory used by each columns:')\n",
    "print(sdf.memory_usage(index=False, deep=True))"
   ]
  },
  {
   "cell_type": "code",
   "execution_count": 68,
   "id": "94857eb4",
   "metadata": {},
   "outputs": [
    {
     "name": "stdout",
     "output_type": "stream",
     "text": [
      "Observation 5\n",
      "\n",
      "General Information about data file:\n",
      "<class 'pandas.core.frame.DataFrame'>\n",
      "RangeIndex: 240007 entries, 0 to 240006\n",
      "Columns: 8 entries, InvoiceNo to Country\n",
      "dtypes: float64(2), int64(1), object(5)\n",
      "memory usage: 14.6+ MB\n"
     ]
    }
   ],
   "source": [
    "# Dataframe information\n",
    "obs_i = 6\n",
    "print(f'Observation {obs_i}\\n')\n",
    "print('General Information about data file:')\n",
    "sdf.info(verbose=False)"
   ]
  },
  {
   "cell_type": "markdown",
   "id": "6f497ec2",
   "metadata": {},
   "source": [
    "### Q.3 Check for null values and report the percentage of null values of each column. And drop the rows having null values in it. `(1 point)`"
   ]
  },
  {
   "cell_type": "code",
   "execution_count": 106,
   "id": "c384f2d1",
   "metadata": {},
   "outputs": [
    {
     "name": "stdout",
     "output_type": "stream",
     "text": [
      "InvoiceNo          0\n",
      "StockCode          0\n",
      "Description      901\n",
      "Quantity           0\n",
      "InvoiceDate        0\n",
      "UnitPrice          0\n",
      "CustomerID     67225\n",
      "Country            0\n",
      "dtype: int64\n",
      "InvoiceNo       0.000000\n",
      "StockCode       0.000000\n",
      "Description     0.375406\n",
      "Quantity        0.000000\n",
      "InvoiceDate     0.000000\n",
      "UnitPrice       0.000000\n",
      "CustomerID     28.009600\n",
      "Country         0.000000\n",
      "dtype: float64\n",
      "Total rows 240007\n",
      "Dropped rows (null values) 67225\n",
      "Remaining rows 172782\n"
     ]
    }
   ],
   "source": [
    "# Null values in each column\n",
    "nonnull_cols = sdf.notnull().sum()\n",
    "null_cols = sdf.isnull().sum()\n",
    "print(null_cols)\n",
    "\n",
    "# Percentage of null values in each cols\n",
    "null_cols_percentage =  null_cols * 100 / len(sdf)\n",
    "print(null_cols_percentage)\n",
    "\n",
    "# Drop the rows that has null values\n",
    "nn_sdf = sdf.dropna()\n",
    "print('Total rows', rows)\n",
    "print('Dropped rows (null values)', rows - nn_sdf.shape[0])\n",
    "print('Remaining rows', nn_sdf.shape[0])"
   ]
  },
  {
   "cell_type": "markdown",
   "id": "9e010f80",
   "metadata": {},
   "source": [
    "### Q.4 Check the statistical summary of the dataset. (Use inbuilt functions) `(0.5 point)`"
   ]
  },
  {
   "cell_type": "code",
   "execution_count": 111,
   "id": "912b9fdd",
   "metadata": {},
   "outputs": [
    {
     "name": "stdout",
     "output_type": "stream",
     "text": [
      "       InvoiceNo StockCode                         Description    InvoiceDate  \\\n",
      "count     240007    240007                              239106         240007   \n",
      "unique     12468      3645                                3617          11240   \n",
      "top       537434    85123A  WHITE HANGING HEART T-LIGHT HOLDER  12/6/10 16:57   \n",
      "freq         675      1294                                1319            675   \n",
      "\n",
      "               Country  \n",
      "count           240007  \n",
      "unique              38  \n",
      "top     United Kingdom  \n",
      "freq            220279  \n"
     ]
    },
    {
     "data": {
      "text/html": [
       "<div>\n",
       "<style scoped>\n",
       "    .dataframe tbody tr th:only-of-type {\n",
       "        vertical-align: middle;\n",
       "    }\n",
       "\n",
       "    .dataframe tbody tr th {\n",
       "        vertical-align: top;\n",
       "    }\n",
       "\n",
       "    .dataframe thead th {\n",
       "        text-align: right;\n",
       "    }\n",
       "</style>\n",
       "<table border=\"1\" class=\"dataframe\">\n",
       "  <thead>\n",
       "    <tr style=\"text-align: right;\">\n",
       "      <th></th>\n",
       "      <th>InvoiceNo</th>\n",
       "      <th>StockCode</th>\n",
       "      <th>Description</th>\n",
       "      <th>Quantity</th>\n",
       "      <th>InvoiceDate</th>\n",
       "      <th>UnitPrice</th>\n",
       "      <th>CustomerID</th>\n",
       "      <th>Country</th>\n",
       "    </tr>\n",
       "  </thead>\n",
       "  <tbody>\n",
       "    <tr>\n",
       "      <th>count</th>\n",
       "      <td>240007</td>\n",
       "      <td>240007</td>\n",
       "      <td>239106</td>\n",
       "      <td>240007.000000</td>\n",
       "      <td>240007</td>\n",
       "      <td>240007.000000</td>\n",
       "      <td>172782.000000</td>\n",
       "      <td>240007</td>\n",
       "    </tr>\n",
       "    <tr>\n",
       "      <th>unique</th>\n",
       "      <td>12468</td>\n",
       "      <td>3645</td>\n",
       "      <td>3617</td>\n",
       "      <td>NaN</td>\n",
       "      <td>11240</td>\n",
       "      <td>NaN</td>\n",
       "      <td>NaN</td>\n",
       "      <td>38</td>\n",
       "    </tr>\n",
       "    <tr>\n",
       "      <th>top</th>\n",
       "      <td>537434</td>\n",
       "      <td>85123A</td>\n",
       "      <td>WHITE HANGING HEART T-LIGHT HOLDER</td>\n",
       "      <td>NaN</td>\n",
       "      <td>12/6/10 16:57</td>\n",
       "      <td>NaN</td>\n",
       "      <td>NaN</td>\n",
       "      <td>United Kingdom</td>\n",
       "    </tr>\n",
       "    <tr>\n",
       "      <th>freq</th>\n",
       "      <td>675</td>\n",
       "      <td>1294</td>\n",
       "      <td>1319</td>\n",
       "      <td>NaN</td>\n",
       "      <td>675</td>\n",
       "      <td>NaN</td>\n",
       "      <td>NaN</td>\n",
       "      <td>220279</td>\n",
       "    </tr>\n",
       "    <tr>\n",
       "      <th>mean</th>\n",
       "      <td>NaN</td>\n",
       "      <td>NaN</td>\n",
       "      <td>NaN</td>\n",
       "      <td>9.277646</td>\n",
       "      <td>NaN</td>\n",
       "      <td>5.124265</td>\n",
       "      <td>15274.819941</td>\n",
       "      <td>NaN</td>\n",
       "    </tr>\n",
       "    <tr>\n",
       "      <th>std</th>\n",
       "      <td>NaN</td>\n",
       "      <td>NaN</td>\n",
       "      <td>NaN</td>\n",
       "      <td>223.061608</td>\n",
       "      <td>NaN</td>\n",
       "      <td>119.992279</td>\n",
       "      <td>1725.093177</td>\n",
       "      <td>NaN</td>\n",
       "    </tr>\n",
       "    <tr>\n",
       "      <th>min</th>\n",
       "      <td>NaN</td>\n",
       "      <td>NaN</td>\n",
       "      <td>NaN</td>\n",
       "      <td>-74215.000000</td>\n",
       "      <td>NaN</td>\n",
       "      <td>0.000000</td>\n",
       "      <td>12346.000000</td>\n",
       "      <td>NaN</td>\n",
       "    </tr>\n",
       "    <tr>\n",
       "      <th>25%</th>\n",
       "      <td>NaN</td>\n",
       "      <td>NaN</td>\n",
       "      <td>NaN</td>\n",
       "      <td>1.000000</td>\n",
       "      <td>NaN</td>\n",
       "      <td>1.250000</td>\n",
       "      <td>13842.000000</td>\n",
       "      <td>NaN</td>\n",
       "    </tr>\n",
       "    <tr>\n",
       "      <th>50%</th>\n",
       "      <td>NaN</td>\n",
       "      <td>NaN</td>\n",
       "      <td>NaN</td>\n",
       "      <td>3.000000</td>\n",
       "      <td>NaN</td>\n",
       "      <td>2.100000</td>\n",
       "      <td>15132.000000</td>\n",
       "      <td>NaN</td>\n",
       "    </tr>\n",
       "    <tr>\n",
       "      <th>75%</th>\n",
       "      <td>NaN</td>\n",
       "      <td>NaN</td>\n",
       "      <td>NaN</td>\n",
       "      <td>10.000000</td>\n",
       "      <td>NaN</td>\n",
       "      <td>4.210000</td>\n",
       "      <td>16814.000000</td>\n",
       "      <td>NaN</td>\n",
       "    </tr>\n",
       "    <tr>\n",
       "      <th>max</th>\n",
       "      <td>NaN</td>\n",
       "      <td>NaN</td>\n",
       "      <td>NaN</td>\n",
       "      <td>74215.000000</td>\n",
       "      <td>NaN</td>\n",
       "      <td>38970.000000</td>\n",
       "      <td>18287.000000</td>\n",
       "      <td>NaN</td>\n",
       "    </tr>\n",
       "  </tbody>\n",
       "</table>\n",
       "</div>"
      ],
      "text/plain": [
       "       InvoiceNo StockCode                         Description       Quantity  \\\n",
       "count     240007    240007                              239106  240007.000000   \n",
       "unique     12468      3645                                3617            NaN   \n",
       "top       537434    85123A  WHITE HANGING HEART T-LIGHT HOLDER            NaN   \n",
       "freq         675      1294                                1319            NaN   \n",
       "mean         NaN       NaN                                 NaN       9.277646   \n",
       "std          NaN       NaN                                 NaN     223.061608   \n",
       "min          NaN       NaN                                 NaN  -74215.000000   \n",
       "25%          NaN       NaN                                 NaN       1.000000   \n",
       "50%          NaN       NaN                                 NaN       3.000000   \n",
       "75%          NaN       NaN                                 NaN      10.000000   \n",
       "max          NaN       NaN                                 NaN   74215.000000   \n",
       "\n",
       "          InvoiceDate      UnitPrice     CustomerID         Country  \n",
       "count          240007  240007.000000  172782.000000          240007  \n",
       "unique          11240            NaN            NaN              38  \n",
       "top     12/6/10 16:57            NaN            NaN  United Kingdom  \n",
       "freq              675            NaN            NaN          220279  \n",
       "mean              NaN       5.124265   15274.819941             NaN  \n",
       "std               NaN     119.992279    1725.093177             NaN  \n",
       "min               NaN       0.000000   12346.000000             NaN  \n",
       "25%               NaN       1.250000   13842.000000             NaN  \n",
       "50%               NaN       2.100000   15132.000000             NaN  \n",
       "75%               NaN       4.210000   16814.000000             NaN  \n",
       "max               NaN   38970.000000   18287.000000             NaN  "
      ]
     },
     "execution_count": 111,
     "metadata": {},
     "output_type": "execute_result"
    }
   ],
   "source": [
    "# Statistical summary for the columns have object dtype\n",
    "print(sdf.describe(include=['object']))\n",
    "\n",
    "# Statistical summary for each column \n",
    "sdf.describe(include='all')"
   ]
  },
  {
   "cell_type": "markdown",
   "id": "f3d83580",
   "metadata": {},
   "source": [
    "### Q.5 Drop the instances having quantity less than zero. `(1 point)` (Note:- refer to the ‘Quantity’ feature)"
   ]
  },
  {
   "cell_type": "code",
   "execution_count": 121,
   "id": "0dd2c985",
   "metadata": {},
   "outputs": [
    {
     "name": "stdout",
     "output_type": "stream",
     "text": [
      "Total rows before: 234920\n",
      "Total invalid rows 0\n",
      "Total rows after: 234920\n"
     ]
    }
   ],
   "source": [
    "print('Total rows before:', sdf.shape[0])\n",
    "sdf_invalid_quantity = sdf[sdf['Quantity'] <= 0]\n",
    "print('Total invalid rows', sdf_invalid_quantity.shape[0])\n",
    "sdf.drop(index=sdf_invalid_quantity.index, inplace=True)\n",
    "print('Total rows after:', sdf.shape[0])"
   ]
  },
  {
   "cell_type": "markdown",
   "id": "e8ea1076",
   "metadata": {},
   "source": [
    "### Q.6 Check unique values of the country and report the name of the country that has the highest number of instances/rows. `(0.5 point)`"
   ]
  },
  {
   "cell_type": "code",
   "execution_count": 267,
   "id": "9d14a95e",
   "metadata": {},
   "outputs": [
    {
     "name": "stdout",
     "output_type": "stream",
     "text": [
      "Total 38 countries are stored in file under \"Country\" column.\n",
      "United Kingdom          220279\n",
      "Germany                   4208\n",
      "France                    3642\n",
      "EIRE                      3034\n",
      "Spain                     1142\n",
      "Netherlands               1142\n",
      "Belgium                    933\n",
      "Switzerland                708\n",
      "Australia                  642\n",
      "Portugal                   624\n",
      "Norway                     378\n",
      "Channel Islands            368\n",
      "Cyprus                     353\n",
      "Finland                    312\n",
      "Italy                      309\n",
      "Japan                      251\n",
      "Hong Kong                  200\n",
      "Sweden                     200\n",
      "Poland                     187\n",
      "Denmark                    184\n",
      "Austria                    127\n",
      "Singapore                  118\n",
      "Iceland                    102\n",
      "Greece                      85\n",
      "Unspecified                 83\n",
      "Canada                      68\n",
      "Malta                       47\n",
      "Lebanon                     45\n",
      "Israel                      38\n",
      "Lithuania                   35\n",
      "European Community          32\n",
      "Brazil                      32\n",
      "United Arab Emirates        30\n",
      "USA                         22\n",
      "Bahrain                     19\n",
      "Czech Republic              17\n",
      "Saudi Arabia                10\n",
      "Unit                         1\n",
      "Name: Country, dtype: int64\n",
      "Highest rows has United Kingdom\n"
     ]
    }
   ],
   "source": [
    "country_label = 'Country'\n",
    "total_countries = sdf.nunique(axis=0)[country_label]\n",
    "print(f'Total {total_countries} countries are stored in file under \"{country_label}\" column.')\n",
    "\n",
    "# List of countries\n",
    "# print((sdf[country_label].unique()))\n",
    "list_countries = sdf[country_label].value_counts(ascending=False)\n",
    "print(list_countries)\n",
    "\n",
    "# Country that has the highest number of instance/rows\n",
    "print('Highest rows has', list_countries.index[0])"
   ]
  },
  {
   "cell_type": "markdown",
   "id": "7e165d00",
   "metadata": {},
   "source": [
    "### Q.7 Create a new column with the name as ‘sales’ having total sales. The total sales is defined as Quantity * UnitPrice. `(1 point)`"
   ]
  },
  {
   "cell_type": "code",
   "execution_count": 262,
   "id": "c095a8ad",
   "metadata": {},
   "outputs": [
    {
     "data": {
      "text/html": [
       "<div>\n",
       "<style scoped>\n",
       "    .dataframe tbody tr th:only-of-type {\n",
       "        vertical-align: middle;\n",
       "    }\n",
       "\n",
       "    .dataframe tbody tr th {\n",
       "        vertical-align: top;\n",
       "    }\n",
       "\n",
       "    .dataframe thead th {\n",
       "        text-align: right;\n",
       "    }\n",
       "</style>\n",
       "<table border=\"1\" class=\"dataframe\">\n",
       "  <thead>\n",
       "    <tr style=\"text-align: right;\">\n",
       "      <th></th>\n",
       "      <th>InvoiceNo</th>\n",
       "      <th>StockCode</th>\n",
       "      <th>Description</th>\n",
       "      <th>Quantity</th>\n",
       "      <th>InvoiceDate</th>\n",
       "      <th>UnitPrice</th>\n",
       "      <th>CustomerID</th>\n",
       "      <th>Country</th>\n",
       "      <th>Sales</th>\n",
       "    </tr>\n",
       "  </thead>\n",
       "  <tbody>\n",
       "    <tr>\n",
       "      <th>count</th>\n",
       "      <td>240007</td>\n",
       "      <td>240007</td>\n",
       "      <td>239106</td>\n",
       "      <td>240007.000000</td>\n",
       "      <td>240007</td>\n",
       "      <td>240007.000000</td>\n",
       "      <td>172782.000000</td>\n",
       "      <td>240007</td>\n",
       "      <td>240007.000000</td>\n",
       "    </tr>\n",
       "    <tr>\n",
       "      <th>unique</th>\n",
       "      <td>12468</td>\n",
       "      <td>3645</td>\n",
       "      <td>3617</td>\n",
       "      <td>NaN</td>\n",
       "      <td>11240</td>\n",
       "      <td>NaN</td>\n",
       "      <td>NaN</td>\n",
       "      <td>38</td>\n",
       "      <td>NaN</td>\n",
       "    </tr>\n",
       "    <tr>\n",
       "      <th>top</th>\n",
       "      <td>537434</td>\n",
       "      <td>85123A</td>\n",
       "      <td>WHITE HANGING HEART T-LIGHT HOLDER</td>\n",
       "      <td>NaN</td>\n",
       "      <td>12/6/10 16:57</td>\n",
       "      <td>NaN</td>\n",
       "      <td>NaN</td>\n",
       "      <td>United Kingdom</td>\n",
       "      <td>NaN</td>\n",
       "    </tr>\n",
       "    <tr>\n",
       "      <th>freq</th>\n",
       "      <td>675</td>\n",
       "      <td>1294</td>\n",
       "      <td>1319</td>\n",
       "      <td>NaN</td>\n",
       "      <td>675</td>\n",
       "      <td>NaN</td>\n",
       "      <td>NaN</td>\n",
       "      <td>220279</td>\n",
       "      <td>NaN</td>\n",
       "    </tr>\n",
       "    <tr>\n",
       "      <th>mean</th>\n",
       "      <td>NaN</td>\n",
       "      <td>NaN</td>\n",
       "      <td>NaN</td>\n",
       "      <td>9.277646</td>\n",
       "      <td>NaN</td>\n",
       "      <td>5.124265</td>\n",
       "      <td>15274.819941</td>\n",
       "      <td>NaN</td>\n",
       "      <td>17.812580</td>\n",
       "    </tr>\n",
       "    <tr>\n",
       "      <th>std</th>\n",
       "      <td>NaN</td>\n",
       "      <td>NaN</td>\n",
       "      <td>NaN</td>\n",
       "      <td>223.061608</td>\n",
       "      <td>NaN</td>\n",
       "      <td>119.992279</td>\n",
       "      <td>1725.093177</td>\n",
       "      <td>NaN</td>\n",
       "      <td>273.617543</td>\n",
       "    </tr>\n",
       "    <tr>\n",
       "      <th>min</th>\n",
       "      <td>NaN</td>\n",
       "      <td>NaN</td>\n",
       "      <td>NaN</td>\n",
       "      <td>-74215.000000</td>\n",
       "      <td>NaN</td>\n",
       "      <td>0.000000</td>\n",
       "      <td>12346.000000</td>\n",
       "      <td>NaN</td>\n",
       "      <td>-77183.600000</td>\n",
       "    </tr>\n",
       "    <tr>\n",
       "      <th>25%</th>\n",
       "      <td>NaN</td>\n",
       "      <td>NaN</td>\n",
       "      <td>NaN</td>\n",
       "      <td>1.000000</td>\n",
       "      <td>NaN</td>\n",
       "      <td>1.250000</td>\n",
       "      <td>13842.000000</td>\n",
       "      <td>NaN</td>\n",
       "      <td>3.750000</td>\n",
       "    </tr>\n",
       "    <tr>\n",
       "      <th>50%</th>\n",
       "      <td>NaN</td>\n",
       "      <td>NaN</td>\n",
       "      <td>NaN</td>\n",
       "      <td>3.000000</td>\n",
       "      <td>NaN</td>\n",
       "      <td>2.100000</td>\n",
       "      <td>15132.000000</td>\n",
       "      <td>NaN</td>\n",
       "      <td>9.900000</td>\n",
       "    </tr>\n",
       "    <tr>\n",
       "      <th>75%</th>\n",
       "      <td>NaN</td>\n",
       "      <td>NaN</td>\n",
       "      <td>NaN</td>\n",
       "      <td>10.000000</td>\n",
       "      <td>NaN</td>\n",
       "      <td>4.210000</td>\n",
       "      <td>16814.000000</td>\n",
       "      <td>NaN</td>\n",
       "      <td>17.570000</td>\n",
       "    </tr>\n",
       "    <tr>\n",
       "      <th>max</th>\n",
       "      <td>NaN</td>\n",
       "      <td>NaN</td>\n",
       "      <td>NaN</td>\n",
       "      <td>74215.000000</td>\n",
       "      <td>NaN</td>\n",
       "      <td>38970.000000</td>\n",
       "      <td>18287.000000</td>\n",
       "      <td>NaN</td>\n",
       "      <td>77183.600000</td>\n",
       "    </tr>\n",
       "  </tbody>\n",
       "</table>\n",
       "</div>"
      ],
      "text/plain": [
       "       InvoiceNo StockCode                         Description       Quantity  \\\n",
       "count     240007    240007                              239106  240007.000000   \n",
       "unique     12468      3645                                3617            NaN   \n",
       "top       537434    85123A  WHITE HANGING HEART T-LIGHT HOLDER            NaN   \n",
       "freq         675      1294                                1319            NaN   \n",
       "mean         NaN       NaN                                 NaN       9.277646   \n",
       "std          NaN       NaN                                 NaN     223.061608   \n",
       "min          NaN       NaN                                 NaN  -74215.000000   \n",
       "25%          NaN       NaN                                 NaN       1.000000   \n",
       "50%          NaN       NaN                                 NaN       3.000000   \n",
       "75%          NaN       NaN                                 NaN      10.000000   \n",
       "max          NaN       NaN                                 NaN   74215.000000   \n",
       "\n",
       "          InvoiceDate      UnitPrice     CustomerID         Country  \\\n",
       "count          240007  240007.000000  172782.000000          240007   \n",
       "unique          11240            NaN            NaN              38   \n",
       "top     12/6/10 16:57            NaN            NaN  United Kingdom   \n",
       "freq              675            NaN            NaN          220279   \n",
       "mean              NaN       5.124265   15274.819941             NaN   \n",
       "std               NaN     119.992279    1725.093177             NaN   \n",
       "min               NaN       0.000000   12346.000000             NaN   \n",
       "25%               NaN       1.250000   13842.000000             NaN   \n",
       "50%               NaN       2.100000   15132.000000             NaN   \n",
       "75%               NaN       4.210000   16814.000000             NaN   \n",
       "max               NaN   38970.000000   18287.000000             NaN   \n",
       "\n",
       "                Sales  \n",
       "count   240007.000000  \n",
       "unique            NaN  \n",
       "top               NaN  \n",
       "freq              NaN  \n",
       "mean        17.812580  \n",
       "std        273.617543  \n",
       "min     -77183.600000  \n",
       "25%          3.750000  \n",
       "50%          9.900000  \n",
       "75%         17.570000  \n",
       "max      77183.600000  "
      ]
     },
     "execution_count": 262,
     "metadata": {},
     "output_type": "execute_result"
    }
   ],
   "source": [
    "new_sales_col = 'Sales'\n",
    "quantity_label = 'Quantity'\n",
    "unitprice_label = 'UnitPrice'\n",
    "sdf[new_sales_col] = sdf[quantity_label] * sdf[unitprice_label]\n",
    "sdf.describe(include='all')"
   ]
  },
  {
   "cell_type": "markdown",
   "id": "9dc9fa56",
   "metadata": {},
   "source": [
    "### Q.8 Report the top 5 countries in terms of sales. `(2 points)`\n",
    "#### a. Consider the size of sales.\n",
    "#### b. Consider the mean value of sales."
   ]
  },
  {
   "cell_type": "code",
   "execution_count": 302,
   "id": "65d0d281",
   "metadata": {},
   "outputs": [
    {
     "data": {
      "text/plain": [
       "array(['United Kingdom', 'Japan', 'Hong Kong', 'Singapore', 'EIRE'],\n",
       "      dtype=object)"
      ]
     },
     "execution_count": 302,
     "metadata": {},
     "output_type": "execute_result"
    }
   ],
   "source": [
    "sales_sorted_sdf = sdf.sort_values(by =new_sales_col, ascending=False)\n",
    "top5_countries_sales = sales_sorted_sdf.drop_duplicates(subset=[country_label])[:5][country_label]\n",
    "\n",
    "print(top5_countries_sales.values)"
   ]
  },
  {
   "cell_type": "markdown",
   "id": "6587bf39",
   "metadata": {},
   "source": [
    "### Q.9 Report the top 5 products which bring the highest sales. Use StockCode for product information. `(1 point)`"
   ]
  },
  {
   "cell_type": "code",
   "execution_count": 305,
   "id": "cb27ca96",
   "metadata": {},
   "outputs": [
    {
     "name": "stdout",
     "output_type": "stream",
     "text": [
      "61619         23166\n",
      "222680        22502\n",
      "15017     AMAZONFEE\n",
      "173382         POST\n",
      "52711         21108\n",
      "Name: StockCode, dtype: object\n"
     ]
    }
   ],
   "source": [
    "top5_product = sales_sorted_sdf[:5]\n",
    "print(top5_product['StockCode'])"
   ]
  },
  {
   "cell_type": "markdown",
   "id": "9a7fc79e",
   "metadata": {},
   "source": [
    "### Q.10 Convert the ‘InvoiceDate’ into a date format and report the month on which the maximum sales occur? `(2 points)`"
   ]
  },
  {
   "cell_type": "code",
   "execution_count": 362,
   "id": "a087a25b",
   "metadata": {},
   "outputs": [
    {
     "name": "stdout",
     "output_type": "stream",
     "text": [
      "Highest sale product:       InvoiceNo StockCode                     Description  Quantity  \\\n",
      "61619    541431     23166  MEDIUM CERAMIC TOP STORAGE JAR     74215   \n",
      "\n",
      "              InvoiceDate  UnitPrice  CustomerID         Country    Sales  \n",
      "61619 2011-01-18 10:01:00       1.04     12346.0  United Kingdom  77183.6  \n",
      "Month on which the maximum sales occur: January\n"
     ]
    }
   ],
   "source": [
    "invoicedate_label = 'InvoiceDate'\n",
    "# data types\n",
    "# print(sales_sorted_sdf.convert_dtypes().dtypes)\n",
    "\n",
    "# Convert InvoiceDate dtype from object to datetime format\n",
    "sales_sorted_sdf[invoicedate_label]= pd.to_datetime(sales_sorted_sdf[invoicedate_label])\n",
    "\n",
    "highest_sales_product = sales_sorted_sdf.head(1)\n",
    "highest_sales_product_date = highest_sales_product[invoicedate_label].iloc[0]\n",
    "\n",
    "print('Highest sale product:', highest_sales_product)\n",
    "print('Month on which the maximum sales occur:', highest_sales_product_date.month_name())"
   ]
  }
 ],
 "metadata": {
  "kernelspec": {
   "display_name": "Python 3 (ipykernel)",
   "language": "python",
   "name": "python3"
  },
  "language_info": {
   "codemirror_mode": {
    "name": "ipython",
    "version": 3
   },
   "file_extension": ".py",
   "mimetype": "text/x-python",
   "name": "python",
   "nbconvert_exporter": "python",
   "pygments_lexer": "ipython3",
   "version": "3.9.7"
  }
 },
 "nbformat": 4,
 "nbformat_minor": 5
}
