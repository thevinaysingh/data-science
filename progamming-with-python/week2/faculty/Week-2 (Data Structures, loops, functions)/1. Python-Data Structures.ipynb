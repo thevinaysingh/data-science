{
 "cells": [
  {
   "cell_type": "markdown",
   "metadata": {
    "id": "u1Wv46NIYLd7"
   },
   "source": [
    "# Agenda\n",
    "\n",
    "- Data structures in Python\n",
    "- Lists\n",
    "- Tuples\n",
    "- Dictionaries\n",
    "- Sets\n",
    "- Comprehensionin Python"
   ]
  },
  {
   "cell_type": "markdown",
   "metadata": {
    "id": "slVPHDdAfsXC"
   },
   "source": [
    "# 1. Data Structures in Python"
   ]
  },
  {
   "cell_type": "markdown",
   "metadata": {
    "id": "zuaut22vfsts"
   },
   "source": [
    "- Data Structure is a way to store, manage and organize data in order to access it effciently\n",
    "- Python has implicit support for Data structures \n",
    "- Built-in Data Structures are :\n",
    "  - Lists\n",
    "  - Tuples\n",
    "  - Dictionaries\n",
    "  - Sets\n",
    "- These are specific to Python\n",
    "- Python helps to understand these Data structure in much simpler way as compared to other programming languages"
   ]
  },
  {
   "cell_type": "markdown",
   "metadata": {
    "id": "9vw6-m4dYLe2"
   },
   "source": [
    "# 2. Lists in Python"
   ]
  },
  {
   "cell_type": "markdown",
   "metadata": {
    "id": "UBD5ASJFYLe2"
   },
   "source": [
    "- Most widely used data structure\n",
    "- Lists are used to store an ordered collection of items\n",
    "- Lists are represented as  ['a',1,100.0,\"a string\",]\n",
    "- Lists are flexible as it can take different data types\n",
    "\n"
   ]
  },
  {
   "cell_type": "markdown",
   "metadata": {
    "id": "kFlqH8Zcjl6T"
   },
   "source": [
    "## 2.1 List different examples"
   ]
  },
  {
   "cell_type": "markdown",
   "metadata": {
    "id": "VeD3242Hjaat"
   },
   "source": [
    "#### List of numbers"
   ]
  },
  {
   "cell_type": "code",
   "execution_count": 1,
   "metadata": {
    "colab": {
     "base_uri": "https://localhost:8080/"
    },
    "executionInfo": {
     "elapsed": 6,
     "status": "ok",
     "timestamp": 1637900688627,
     "user": {
      "displayName": "Guzayya Sarkhawas",
      "photoUrl": "https://lh3.googleusercontent.com/a-/AOh14Gh6Y3aTn0cCcUgPIhsH6M4pKaXp98WUI7DjcDkY=s64",
      "userId": "11368096894351094299"
     },
     "user_tz": -330
    },
    "id": "nML6y4LLYLe3",
    "outputId": "bf580ff8-47e0-4b17-e753-62222d39f091"
   },
   "outputs": [
    {
     "name": "stdout",
     "output_type": "stream",
     "text": [
      "[1, 2, 3]\n",
      "<class 'list'>\n",
      "3\n"
     ]
    }
   ],
   "source": [
    "mylist0 = [1,2,3]\n",
    "print(mylist0)\n",
    "print(type(mylist0))\n",
    "\n",
    "### length of list\n",
    "print(len(mylist0))"
   ]
  },
  {
   "cell_type": "markdown",
   "metadata": {
    "id": "qXhIEUBOjtk2"
   },
   "source": [
    "#### List of strings"
   ]
  },
  {
   "cell_type": "code",
   "execution_count": null,
   "metadata": {
    "colab": {
     "base_uri": "https://localhost:8080/"
    },
    "executionInfo": {
     "elapsed": 462,
     "status": "ok",
     "timestamp": 1637901862612,
     "user": {
      "displayName": "Guzayya Sarkhawas",
      "photoUrl": "https://lh3.googleusercontent.com/a-/AOh14Gh6Y3aTn0cCcUgPIhsH6M4pKaXp98WUI7DjcDkY=s64",
      "userId": "11368096894351094299"
     },
     "user_tz": -330
    },
    "id": "JHiCwspTYLe4",
    "outputId": "55e98733-09f2-414a-fec9-98035ac4b1cc"
   },
   "outputs": [
    {
     "name": "stdout",
     "output_type": "stream",
     "text": [
      "['a', 'b', 'c']\n",
      "<class 'list'>\n"
     ]
    }
   ],
   "source": [
    "mylist1 = ['a','b','c']\n",
    "print(mylist1)\n",
    "print(type(mylist1))"
   ]
  },
  {
   "cell_type": "markdown",
   "metadata": {
    "id": "V8eE5jbljyY-"
   },
   "source": [
    "#### List of strings, integers and floats"
   ]
  },
  {
   "cell_type": "code",
   "execution_count": 2,
   "metadata": {
    "colab": {
     "base_uri": "https://localhost:8080/"
    },
    "executionInfo": {
     "elapsed": 387,
     "status": "ok",
     "timestamp": 1637901754673,
     "user": {
      "displayName": "Guzayya Sarkhawas",
      "photoUrl": "https://lh3.googleusercontent.com/a-/AOh14Gh6Y3aTn0cCcUgPIhsH6M4pKaXp98WUI7DjcDkY=s64",
      "userId": "11368096894351094299"
     },
     "user_tz": -330
    },
    "id": "fSa2AosQYLe4",
    "outputId": "9f2fbb1c-b53d-4d27-8c60-b0d9db04f9cd"
   },
   "outputs": [
    {
     "name": "stdout",
     "output_type": "stream",
     "text": [
      "[100, 199.99, 'str1', 'C', '112s']\n",
      "<class 'list'>\n"
     ]
    }
   ],
   "source": [
    "mylist2 = [100,199.99,'str1','C','112s']\n",
    "print(mylist2)\n",
    "print(type(mylist2))"
   ]
  },
  {
   "cell_type": "markdown",
   "metadata": {
    "id": "_IJz8PFxkDTc"
   },
   "source": [
    "#### We can have a list within a list (nested lists)"
   ]
  },
  {
   "cell_type": "code",
   "execution_count": 4,
   "metadata": {
    "colab": {
     "base_uri": "https://localhost:8080/"
    },
    "executionInfo": {
     "elapsed": 372,
     "status": "ok",
     "timestamp": 1637902032662,
     "user": {
      "displayName": "Guzayya Sarkhawas",
      "photoUrl": "https://lh3.googleusercontent.com/a-/AOh14Gh6Y3aTn0cCcUgPIhsH6M4pKaXp98WUI7DjcDkY=s64",
      "userId": "11368096894351094299"
     },
     "user_tz": -330
    },
    "id": "pTmDWkBWYLe5",
    "outputId": "f9a8d83f-9867-427b-ebe6-f074c4a97640"
   },
   "outputs": [
    {
     "name": "stdout",
     "output_type": "stream",
     "text": [
      "mylist3 has the values: ['A String', 100.9, 200, [9, 10], ['a', 'b'], [1, 2, 3], ['h', 'i', 'j']] \n",
      "Length of mylist3: 7 \n",
      "Type of mylist3: <class 'list'> \n"
     ]
    }
   ],
   "source": [
    "mylist3 = ['A String',100.9,200,[9,10],['a','b'], [1,2,3],['h','i','j']]\n",
    "print(f\"mylist3 has the values: {mylist3} \")\n",
    "print(f\"Length of mylist3: {len(mylist3)} \")\n",
    "print(f\"Type of mylist3: {type(mylist3)} \")\n"
   ]
  },
  {
   "cell_type": "code",
   "execution_count": 7,
   "metadata": {},
   "outputs": [],
   "source": [
    "### LIST IS MUTABLE\n",
    "### if we want to change the first item in list mylist3 from \"A String\" to 1999 \n",
    "mylist3[0] = 1999"
   ]
  },
  {
   "cell_type": "code",
   "execution_count": 9,
   "metadata": {},
   "outputs": [
    {
     "data": {
      "text/plain": [
       "[1999, 100.9, 200, [9, 10], ['a', 'b'], [1, 2, 3], ['h', 'i', 'j']]"
      ]
     },
     "execution_count": 9,
     "metadata": {},
     "output_type": "execute_result"
    }
   ],
   "source": [
    "mylist3"
   ]
  },
  {
   "cell_type": "markdown",
   "metadata": {
    "id": "obgcw-xflHjt"
   },
   "source": [
    "#### We can also have a tuple within a list"
   ]
  },
  {
   "cell_type": "code",
   "execution_count": null,
   "metadata": {
    "colab": {
     "base_uri": "https://localhost:8080/"
    },
    "executionInfo": {
     "elapsed": 415,
     "status": "ok",
     "timestamp": 1637902073934,
     "user": {
      "displayName": "Guzayya Sarkhawas",
      "photoUrl": "https://lh3.googleusercontent.com/a-/AOh14Gh6Y3aTn0cCcUgPIhsH6M4pKaXp98WUI7DjcDkY=s64",
      "userId": "11368096894351094299"
     },
     "user_tz": -330
    },
    "id": "aW-dAYYGYLe6",
    "outputId": "3edef45a-5526-4967-b9ee-c30620f45c45"
   },
   "outputs": [
    {
     "name": "stdout",
     "output_type": "stream",
     "text": [
      "mylist4 has the values: ['A String', 100.9, 200, (90, 100), ('x', 'z'), [1, 2, 3], ['h', 'i', 'j']] \n",
      "Length of mylist4: 7 \n",
      "Type of mylist4: <class 'list'> \n",
      "7\n"
     ]
    }
   ],
   "source": [
    "mylist4 = ['A String',100.9,200,(90,100),('x','z'), [1,2,3],['h','i','j']]\n",
    "print(f\"mylist4 has the values: {mylist4} \")\n",
    "print(f\"Length of mylist4: {len(mylist4)} \")\n",
    "print(f\"Type of mylist4: {type(mylist4)} \")\n",
    "\n",
    "print(len(mylist4))"
   ]
  },
  {
   "cell_type": "markdown",
   "metadata": {
    "id": "SDj5ZV4qYLe7"
   },
   "source": [
    "## 2.2 List indexing and Slicing \n",
    "- List indexing works similar to that of string indexing. it starts with 0\n",
    "- Can b sliced like that of a string"
   ]
  },
  {
   "cell_type": "code",
   "execution_count": 11,
   "metadata": {
    "colab": {
     "base_uri": "https://localhost:8080/"
    },
    "executionInfo": {
     "elapsed": 649,
     "status": "ok",
     "timestamp": 1637902293358,
     "user": {
      "displayName": "Guzayya Sarkhawas",
      "photoUrl": "https://lh3.googleusercontent.com/a-/AOh14Gh6Y3aTn0cCcUgPIhsH6M4pKaXp98WUI7DjcDkY=s64",
      "userId": "11368096894351094299"
     },
     "user_tz": -330
    },
    "id": "rYRcZIW6YLe7",
    "outputId": "cf974567-1183-40cc-9ea7-e50d3ffa6cb6"
   },
   "outputs": [
    {
     "name": "stdout",
     "output_type": "stream",
     "text": [
      "[1999, 100.9, 200, [9, 10], ['a', 'b'], [1, 2, 3], ['h', 'i', 'j']]\n",
      "7\n"
     ]
    }
   ],
   "source": [
    "print(mylist3)\n",
    "print(len(mylist3))\n",
    "### indexes 0,1,2,3,4,5,6"
   ]
  },
  {
   "cell_type": "code",
   "execution_count": 13,
   "metadata": {},
   "outputs": [
    {
     "data": {
      "text/plain": [
       "1999"
      ]
     },
     "execution_count": 13,
     "metadata": {},
     "output_type": "execute_result"
    }
   ],
   "source": [
    "### extract 1st item of list mylist3\n",
    "mylist3[0]"
   ]
  },
  {
   "cell_type": "code",
   "execution_count": 15,
   "metadata": {},
   "outputs": [
    {
     "data": {
      "text/plain": [
       "[1999, 100.9, 200]"
      ]
     },
     "execution_count": 15,
     "metadata": {},
     "output_type": "execute_result"
    }
   ],
   "source": [
    "### extract 1st to 3r item (including both)\n",
    "\n",
    "mylist3[0:3]"
   ]
  },
  {
   "cell_type": "code",
   "execution_count": 17,
   "metadata": {},
   "outputs": [
    {
     "data": {
      "text/plain": [
       "[[9, 10], ['a', 'b'], [1, 2, 3], ['h', 'i', 'j']]"
      ]
     },
     "execution_count": 17,
     "metadata": {},
     "output_type": "execute_result"
    }
   ],
   "source": [
    "### extract 3rd item to the end of the list\n",
    "mylist3[3:]\n"
   ]
  },
  {
   "cell_type": "code",
   "execution_count": 19,
   "metadata": {},
   "outputs": [
    {
     "data": {
      "text/plain": [
       "['h', 'i', 'j']"
      ]
     },
     "execution_count": 19,
     "metadata": {},
     "output_type": "execute_result"
    }
   ],
   "source": [
    "### reverse index in a list\n",
    "### extract the last element of list mylist33mylist4\n",
    "mylist3[-1]"
   ]
  },
  {
   "cell_type": "code",
   "execution_count": null,
   "metadata": {},
   "outputs": [],
   "source": [
    "### how to find the index of a particular item in a list"
   ]
  },
  {
   "cell_type": "code",
   "execution_count": 20,
   "metadata": {
    "id": "iYIDC9LV1CRm"
   },
   "outputs": [
    {
     "data": {
      "text/plain": [
       "0"
      ]
     },
     "execution_count": 20,
     "metadata": {},
     "output_type": "execute_result"
    }
   ],
   "source": [
    "mylist3.index(1999)"
   ]
  },
  {
   "cell_type": "code",
   "execution_count": null,
   "metadata": {
    "colab": {
     "base_uri": "https://localhost:8080/"
    },
    "executionInfo": {
     "elapsed": 831,
     "status": "ok",
     "timestamp": 1637902329457,
     "user": {
      "displayName": "Guzayya Sarkhawas",
      "photoUrl": "https://lh3.googleusercontent.com/a-/AOh14Gh6Y3aTn0cCcUgPIhsH6M4pKaXp98WUI7DjcDkY=s64",
      "userId": "11368096894351094299"
     },
     "user_tz": -330
    },
    "id": "_44AokFMYLe8",
    "outputId": "9f2021af-e5f9-403f-80a2-8b4604a5d7d6"
   },
   "outputs": [
    {
     "name": "stdout",
     "output_type": "stream",
     "text": [
      "200\n"
     ]
    }
   ],
   "source": [
    "### To grab 200 from mylist3\n",
    "print(mylist3[2])"
   ]
  },
  {
   "cell_type": "markdown",
   "metadata": {
    "id": "i8dizbUtlrFI"
   },
   "source": [
    "#### Here using slice notation (start:stop,step)"
   ]
  },
  {
   "cell_type": "code",
   "execution_count": null,
   "metadata": {
    "colab": {
     "base_uri": "https://localhost:8080/"
    },
    "executionInfo": {
     "elapsed": 433,
     "status": "ok",
     "timestamp": 1637902348278,
     "user": {
      "displayName": "Guzayya Sarkhawas",
      "photoUrl": "https://lh3.googleusercontent.com/a-/AOh14Gh6Y3aTn0cCcUgPIhsH6M4pKaXp98WUI7DjcDkY=s64",
      "userId": "11368096894351094299"
     },
     "user_tz": -330
    },
    "id": "UIaazGahYLe9",
    "outputId": "a279992b-ca34-4b5a-f0ce-b2f826554c89"
   },
   "outputs": [
    {
     "name": "stdout",
     "output_type": "stream",
     "text": [
      "[200, [9, 10]]\n"
     ]
    }
   ],
   "source": [
    "### to grab 200,[9,10]\n",
    "print(mylist3[2:4])"
   ]
  },
  {
   "cell_type": "code",
   "execution_count": null,
   "metadata": {
    "colab": {
     "base_uri": "https://localhost:8080/"
    },
    "executionInfo": {
     "elapsed": 881,
     "status": "ok",
     "timestamp": 1637902438411,
     "user": {
      "displayName": "Guzayya Sarkhawas",
      "photoUrl": "https://lh3.googleusercontent.com/a-/AOh14Gh6Y3aTn0cCcUgPIhsH6M4pKaXp98WUI7DjcDkY=s64",
      "userId": "11368096894351094299"
     },
     "user_tz": -330
    },
    "id": "0OfZaoAkYLe-",
    "outputId": "b7204e6c-9b04-43a9-a754-a7128c23d021"
   },
   "outputs": [
    {
     "name": "stdout",
     "output_type": "stream",
     "text": [
      "['A String', 100.9, 200, [9, 10], ['a', 'b'], [1, 2, 3], ['h', 'i', 'j']]\n",
      "9\n",
      "10\n"
     ]
    }
   ],
   "source": [
    "### to grab the value 9 in the nested list [9,10]\n",
    "print(mylist3)\n",
    "print(mylist3[3][0])\n",
    "print(mylist3[3][1])"
   ]
  },
  {
   "cell_type": "code",
   "execution_count": 30,
   "metadata": {
    "colab": {
     "base_uri": "https://localhost:8080/"
    },
    "executionInfo": {
     "elapsed": 383,
     "status": "ok",
     "timestamp": 1637904874040,
     "user": {
      "displayName": "Guzayya Sarkhawas",
      "photoUrl": "https://lh3.googleusercontent.com/a-/AOh14Gh6Y3aTn0cCcUgPIhsH6M4pKaXp98WUI7DjcDkY=s64",
      "userId": "11368096894351094299"
     },
     "user_tz": -330
    },
    "id": "aDfKbG-UYLfB",
    "outputId": "7f156551-4622-4347-8df7-282f77f19e01"
   },
   "outputs": [
    {
     "name": "stdout",
     "output_type": "stream",
     "text": [
      "['STRING2000', 10]\n"
     ]
    }
   ],
   "source": [
    "### extract 200,10 from mylist3\n",
    "mylist3_temp = [mylist3[2],mylist3[3][1]]\n",
    "print(mylist3_temp)"
   ]
  },
  {
   "cell_type": "code",
   "execution_count": 32,
   "metadata": {},
   "outputs": [
    {
     "data": {
      "text/plain": [
       "[1999, 100.9, 'STRING2000', [9, 10], ['a', 'b'], [1, 2, 3], ['h', 'i', 'j']]"
      ]
     },
     "execution_count": 32,
     "metadata": {},
     "output_type": "execute_result"
    }
   ],
   "source": [
    "mylist3"
   ]
  },
  {
   "cell_type": "code",
   "execution_count": 37,
   "metadata": {},
   "outputs": [
    {
     "data": {
      "text/plain": [
       "[9, 10]"
      ]
     },
     "execution_count": 37,
     "metadata": {},
     "output_type": "execute_result"
    }
   ],
   "source": [
    "### to extract the \"9\" from the nested list of [9,10] of the list mylist3\n",
    "mylist3[3]"
   ]
  },
  {
   "cell_type": "code",
   "execution_count": 39,
   "metadata": {},
   "outputs": [
    {
     "data": {
      "text/plain": [
       "9"
      ]
     },
     "execution_count": 39,
     "metadata": {},
     "output_type": "execute_result"
    }
   ],
   "source": [
    "mylist3[3][0]"
   ]
  },
  {
   "cell_type": "code",
   "execution_count": 42,
   "metadata": {},
   "outputs": [],
   "source": [
    "mylist30 = [1999.99, 100.9, 'STRING2000',2999, [9, 10], ['a', 'b'], [1, 2, 3], ['h', 'i', 'j']]"
   ]
  },
  {
   "cell_type": "code",
   "execution_count": 44,
   "metadata": {},
   "outputs": [
    {
     "data": {
      "text/plain": [
       "(2999, 9)"
      ]
     },
     "execution_count": 44,
     "metadata": {},
     "output_type": "execute_result"
    }
   ],
   "source": [
    "### exttact 2999 and 9 from mylist 30\n",
    "\n",
    "mylist30[3],mylist30[4][0]"
   ]
  },
  {
   "cell_type": "markdown",
   "metadata": {
    "id": "6RYZaqyAwufv"
   },
   "source": [
    "## 2.4 Mutability in Lists\n",
    "- Lists are mutable\n",
    "-  The elements of the list can be modified, individual elements can be replaced, and the order of elements can be changed even after the list has been created"
   ]
  },
  {
   "cell_type": "code",
   "execution_count": 21,
   "metadata": {
    "colab": {
     "base_uri": "https://localhost:8080/"
    },
    "executionInfo": {
     "elapsed": 385,
     "status": "ok",
     "timestamp": 1637905622367,
     "user": {
      "displayName": "Guzayya Sarkhawas",
      "photoUrl": "https://lh3.googleusercontent.com/a-/AOh14Gh6Y3aTn0cCcUgPIhsH6M4pKaXp98WUI7DjcDkY=s64",
      "userId": "11368096894351094299"
     },
     "user_tz": -330
    },
    "id": "JT6L6fMCYLfI",
    "outputId": "711a86ff-b220-4763-c5af-2d86df878816"
   },
   "outputs": [
    {
     "name": "stdout",
     "output_type": "stream",
     "text": [
      "[1999, 100.9, 'STRING2000', [9, 10], ['a', 'b'], [1, 2, 3], ['h', 'i', 'j']]\n"
     ]
    }
   ],
   "source": [
    "## update value in index 2 (2000) to \"STRING2000\"\n",
    "mylist3[2] = \"STRING2000\"\n",
    "print(mylist3)\n",
    "\n",
    "### LISTS ARE MUTABLE"
   ]
  },
  {
   "cell_type": "code",
   "execution_count": null,
   "metadata": {
    "colab": {
     "base_uri": "https://localhost:8080/"
    },
    "executionInfo": {
     "elapsed": 593,
     "status": "ok",
     "timestamp": 1637905729790,
     "user": {
      "displayName": "Guzayya Sarkhawas",
      "photoUrl": "https://lh3.googleusercontent.com/a-/AOh14Gh6Y3aTn0cCcUgPIhsH6M4pKaXp98WUI7DjcDkY=s64",
      "userId": "11368096894351094299"
     },
     "user_tz": -330
    },
    "id": "u-q4aJ8iyN60",
    "outputId": "010ca4bd-8fbd-4408-bbac-3a50932c3fea"
   },
   "outputs": [
    {
     "name": "stdout",
     "output_type": "stream",
     "text": [
      "['A String', 100.9, 'STRING2000', [9, 10], ['x', 'y'], [1, 2, 3], ['h', 'i', 'j']]\n"
     ]
    }
   ],
   "source": [
    "# update index 4 to different elements\n",
    "mylist3[4] = ['x', 'y']\n",
    "print(mylist3)"
   ]
  },
  {
   "cell_type": "markdown",
   "metadata": {
    "id": "4go1mu-vviA1"
   },
   "source": [
    "## 2.5 List Unpacking\n",
    "- To assign the first, second, and third elements of the list to variables, you may assign individual elements to variables like this:"
   ]
  },
  {
   "cell_type": "code",
   "execution_count": 23,
   "metadata": {
    "id": "T9f2kUOzzX3B"
   },
   "outputs": [],
   "source": [
    "learner = ['python', 'Java', 'Cloud']\n"
   ]
  },
  {
   "cell_type": "code",
   "execution_count": 25,
   "metadata": {},
   "outputs": [
    {
     "name": "stdout",
     "output_type": "stream",
     "text": [
      "python Java Cloud\n"
     ]
    }
   ],
   "source": [
    "tech_1 = learner[0]\n",
    "tech_2 = learner[1]\n",
    "tech_3 = learner[2]\n",
    "print(tech_1,tech_2,tech_3)"
   ]
  },
  {
   "cell_type": "markdown",
   "metadata": {
    "id": "0zSmmNcaz1hg"
   },
   "source": [
    "- However, Python provides a better way to do this. It’s called sequence unpacking.\n",
    "- Basically, we can assign elements of a list (and also a tuple) to multiple variables"
   ]
  },
  {
   "cell_type": "code",
   "execution_count": 29,
   "metadata": {
    "id": "polnVyYHvmMP"
   },
   "outputs": [],
   "source": [
    "tech_1, tech_2, tech_3 = learner"
   ]
  },
  {
   "cell_type": "code",
   "execution_count": 27,
   "metadata": {
    "colab": {
     "base_uri": "https://localhost:8080/"
    },
    "executionInfo": {
     "elapsed": 383,
     "status": "ok",
     "timestamp": 1637906060952,
     "user": {
      "displayName": "Guzayya Sarkhawas",
      "photoUrl": "https://lh3.googleusercontent.com/a-/AOh14Gh6Y3aTn0cCcUgPIhsH6M4pKaXp98WUI7DjcDkY=s64",
      "userId": "11368096894351094299"
     },
     "user_tz": -330
    },
    "id": "JeB-biMvzwZ7",
    "outputId": "1c465b9a-676b-4dc2-cba4-39b3fa4deb77"
   },
   "outputs": [
    {
     "name": "stdout",
     "output_type": "stream",
     "text": [
      "python\n",
      "Java\n",
      "Cloud\n"
     ]
    }
   ],
   "source": [
    "print(tech_1)\n",
    "print(tech_2)\n",
    "print(tech_3)"
   ]
  },
  {
   "cell_type": "markdown",
   "metadata": {
    "id": "aYlvF_3WYLfJ"
   },
   "source": [
    "## 2.6 Built in methods in list\n",
    "- To know all the built-in methods in a list use tab key after the list name\n",
    "- mylist12.\"hit tab key\"\n",
    "- List methods are :\n",
    "  - append()\n",
    "  - extend()\n",
    "  - insert()\n",
    "  - remove()\n",
    "  - count()\n",
    "  - sort()\n",
    "  - reverse() and many more"
   ]
  },
  {
   "cell_type": "code",
   "execution_count": null,
   "metadata": {},
   "outputs": [],
   "source": [
    "### how to get the list of all available built in methods for a list\n",
    "\n",
    "mylist30."
   ]
  },
  {
   "cell_type": "markdown",
   "metadata": {
    "id": "SCp-n9QMwdjB"
   },
   "source": [
    "###### Consider a list for performing all above methods"
   ]
  },
  {
   "cell_type": "code",
   "execution_count": 55,
   "metadata": {},
   "outputs": [
    {
     "data": {
      "text/plain": [
       "'ABC'"
      ]
     },
     "execution_count": 55,
     "metadata": {},
     "output_type": "execute_result"
    }
   ],
   "source": [
    "mystring =  \"abc\"\n",
    "mystring.upper()"
   ]
  },
  {
   "cell_type": "code",
   "execution_count": 56,
   "metadata": {},
   "outputs": [
    {
     "data": {
      "text/plain": [
       "'abc'"
      ]
     },
     "execution_count": 56,
     "metadata": {},
     "output_type": "execute_result"
    }
   ],
   "source": [
    "mystring"
   ]
  },
  {
   "cell_type": "code",
   "execution_count": 58,
   "metadata": {
    "colab": {
     "base_uri": "https://localhost:8080/"
    },
    "executionInfo": {
     "elapsed": 392,
     "status": "ok",
     "timestamp": 1637905228747,
     "user": {
      "displayName": "Guzayya Sarkhawas",
      "photoUrl": "https://lh3.googleusercontent.com/a-/AOh14Gh6Y3aTn0cCcUgPIhsH6M4pKaXp98WUI7DjcDkY=s64",
      "userId": "11368096894351094299"
     },
     "user_tz": -330
    },
    "id": "ioIQDDcWYLfK",
    "outputId": "ba7e8f52-507e-4ea6-d27d-a1b16f3d7c65"
   },
   "outputs": [
    {
     "name": "stdout",
     "output_type": "stream",
     "text": [
      "[1, 2, 3, 4, 5, 6, 9]\n"
     ]
    }
   ],
   "source": [
    "mylist12 = [1,2,3,4,5,6,9]\n",
    "print(mylist12)"
   ]
  },
  {
   "cell_type": "markdown",
   "metadata": {
    "id": "E9tfOcsL1zsg"
   },
   "source": [
    "### append() method\n",
    "- The append() method appends an element to the end of the list"
   ]
  },
  {
   "cell_type": "code",
   "execution_count": 49,
   "metadata": {
    "colab": {
     "base_uri": "https://localhost:8080/"
    },
    "executionInfo": {
     "elapsed": 393,
     "status": "ok",
     "timestamp": 1637907266767,
     "user": {
      "displayName": "Guzayya Sarkhawas",
      "photoUrl": "https://lh3.googleusercontent.com/a-/AOh14Gh6Y3aTn0cCcUgPIhsH6M4pKaXp98WUI7DjcDkY=s64",
      "userId": "11368096894351094299"
     },
     "user_tz": -330
    },
    "id": "ujVRtTnRYLfL",
    "outputId": "9fb537f7-1201-4113-d932-672e12b0eb4c"
   },
   "outputs": [
    {
     "name": "stdout",
     "output_type": "stream",
     "text": [
      "[1, 2, 3, 4, 5, 6, 9, 9289]\n"
     ]
    }
   ],
   "source": [
    "### append an item to the list\n",
    "mylist12.append(9289)\n",
    "print(mylist12)"
   ]
  },
  {
   "cell_type": "code",
   "execution_count": 50,
   "metadata": {},
   "outputs": [
    {
     "data": {
      "text/plain": [
       "[1, 2, 3, 4, 5, 6, 9, 9289]"
      ]
     },
     "execution_count": 50,
     "metadata": {},
     "output_type": "execute_result"
    }
   ],
   "source": [
    "mylist12"
   ]
  },
  {
   "cell_type": "markdown",
   "metadata": {
    "id": "I2c67K6R2-RS"
   },
   "source": [
    "### extend() method\n",
    "- The extend() method adds the specified list elements (or any iterable) to the end of the current list"
   ]
  },
  {
   "cell_type": "code",
   "execution_count": null,
   "metadata": {
    "colab": {
     "base_uri": "https://localhost:8080/"
    },
    "executionInfo": {
     "elapsed": 365,
     "status": "ok",
     "timestamp": 1637907382184,
     "user": {
      "displayName": "Guzayya Sarkhawas",
      "photoUrl": "https://lh3.googleusercontent.com/a-/AOh14Gh6Y3aTn0cCcUgPIhsH6M4pKaXp98WUI7DjcDkY=s64",
      "userId": "11368096894351094299"
     },
     "user_tz": -330
    },
    "id": "Mo0WU0Yx3SPK",
    "outputId": "52e6b38b-3df4-42cc-c91c-43fb917a2eb2"
   },
   "outputs": [
    {
     "data": {
      "text/plain": [
       "['d', 'd', 'f', 'a', 'e', 'd', 'c', 'b', 'a', 'c', 'f']"
      ]
     },
     "execution_count": 57,
     "metadata": {},
     "output_type": "execute_result"
    }
   ],
   "source": [
    "mylist13.extend(['c','f'])\n",
    "mylist13"
   ]
  },
  {
   "cell_type": "markdown",
   "metadata": {
    "id": "azK9ThYi2o5c"
   },
   "source": [
    "### insert() method\n",
    "- The insert() method inserts the specified value at the specified position"
   ]
  },
  {
   "cell_type": "code",
   "execution_count": 59,
   "metadata": {},
   "outputs": [
    {
     "data": {
      "text/plain": [
       "[1, 2, 3, 4, 5, 6, 9]"
      ]
     },
     "execution_count": 59,
     "metadata": {},
     "output_type": "execute_result"
    }
   ],
   "source": [
    "mylist12"
   ]
  },
  {
   "cell_type": "code",
   "execution_count": 61,
   "metadata": {
    "colab": {
     "base_uri": "https://localhost:8080/"
    },
    "executionInfo": {
     "elapsed": 347,
     "status": "ok",
     "timestamp": 1637907293067,
     "user": {
      "displayName": "Guzayya Sarkhawas",
      "photoUrl": "https://lh3.googleusercontent.com/a-/AOh14Gh6Y3aTn0cCcUgPIhsH6M4pKaXp98WUI7DjcDkY=s64",
      "userId": "11368096894351094299"
     },
     "user_tz": -330
    },
    "id": "5PRIvKY3YLfN",
    "outputId": "3eda71ae-f53d-4678-b3ce-d413cbcc2ab8"
   },
   "outputs": [
    {
     "name": "stdout",
     "output_type": "stream",
     "text": [
      "[1, 2, 'newstr', 3, 4, 5, 6, 9]\n"
     ]
    }
   ],
   "source": [
    "### insert into a list\n",
    "mylist12.insert(2,'newstr')\n",
    "print(mylist12)"
   ]
  },
  {
   "cell_type": "markdown",
   "metadata": {
    "id": "MZ8-MWnq6inM"
   },
   "source": [
    "### remove() method\n",
    "- The remove() method removes the first occurrence of the element with the specified value"
   ]
  },
  {
   "cell_type": "code",
   "execution_count": 63,
   "metadata": {
    "id": "5E6zY7nJ6omc"
   },
   "outputs": [],
   "source": [
    "mylist12.remove('newstr')"
   ]
  },
  {
   "cell_type": "code",
   "execution_count": 65,
   "metadata": {
    "colab": {
     "base_uri": "https://localhost:8080/"
    },
    "executionInfo": {
     "elapsed": 407,
     "status": "ok",
     "timestamp": 1637907952820,
     "user": {
      "displayName": "Guzayya Sarkhawas",
      "photoUrl": "https://lh3.googleusercontent.com/a-/AOh14Gh6Y3aTn0cCcUgPIhsH6M4pKaXp98WUI7DjcDkY=s64",
      "userId": "11368096894351094299"
     },
     "user_tz": -330
    },
    "id": "bdxqEwpG6udO",
    "outputId": "50edd008-6b3f-46be-a8e9-f240b7784ab1"
   },
   "outputs": [],
   "source": [
    "mylist12 = [1, 2, 3, 4,500, 5, 6, 9,500]"
   ]
  },
  {
   "cell_type": "markdown",
   "metadata": {
    "id": "ztdyAw0m3Voc"
   },
   "source": [
    "### count() method\n",
    "- The count() method returns the number of elements with the specified value"
   ]
  },
  {
   "cell_type": "code",
   "execution_count": 66,
   "metadata": {
    "colab": {
     "base_uri": "https://localhost:8080/"
    },
    "executionInfo": {
     "elapsed": 356,
     "status": "ok",
     "timestamp": 1637907391475,
     "user": {
      "displayName": "Guzayya Sarkhawas",
      "photoUrl": "https://lh3.googleusercontent.com/a-/AOh14Gh6Y3aTn0cCcUgPIhsH6M4pKaXp98WUI7DjcDkY=s64",
      "userId": "11368096894351094299"
     },
     "user_tz": -330
    },
    "id": "KqRFk2oS32n_",
    "outputId": "ee7e6f76-5911-4c52-bdbf-b5649155f83b"
   },
   "outputs": [
    {
     "data": {
      "text/plain": [
       "2"
      ]
     },
     "execution_count": 66,
     "metadata": {},
     "output_type": "execute_result"
    }
   ],
   "source": [
    "mylist12.count(500)"
   ]
  },
  {
   "cell_type": "code",
   "execution_count": null,
   "metadata": {
    "colab": {
     "base_uri": "https://localhost:8080/"
    },
    "executionInfo": {
     "elapsed": 378,
     "status": "ok",
     "timestamp": 1637907406688,
     "user": {
      "displayName": "Guzayya Sarkhawas",
      "photoUrl": "https://lh3.googleusercontent.com/a-/AOh14Gh6Y3aTn0cCcUgPIhsH6M4pKaXp98WUI7DjcDkY=s64",
      "userId": "11368096894351094299"
     },
     "user_tz": -330
    },
    "id": "e2o4ggnL43PT",
    "outputId": "a8e324a0-917d-4804-aea1-d63820f162d5"
   },
   "outputs": [
    {
     "data": {
      "text/plain": [
       "3"
      ]
     },
     "execution_count": 59,
     "metadata": {},
     "output_type": "execute_result"
    }
   ],
   "source": [
    "mylist13.count('d')"
   ]
  },
  {
   "cell_type": "markdown",
   "metadata": {
    "id": "cah3QjxJ7ARv"
   },
   "source": [
    "### sort() method\n",
    "- The sort() method sorts the list ascending by default"
   ]
  },
  {
   "cell_type": "code",
   "execution_count": 67,
   "metadata": {
    "colab": {
     "base_uri": "https://localhost:8080/"
    },
    "executionInfo": {
     "elapsed": 569,
     "status": "ok",
     "timestamp": 1637908120228,
     "user": {
      "displayName": "Guzayya Sarkhawas",
      "photoUrl": "https://lh3.googleusercontent.com/a-/AOh14Gh6Y3aTn0cCcUgPIhsH6M4pKaXp98WUI7DjcDkY=s64",
      "userId": "11368096894351094299"
     },
     "user_tz": -330
    },
    "id": "ItcZDvXo7jg3",
    "outputId": "beb65c6d-711a-4e6e-9270-585e6b71a215"
   },
   "outputs": [],
   "source": [
    "mylist12.sort()"
   ]
  },
  {
   "cell_type": "code",
   "execution_count": 68,
   "metadata": {},
   "outputs": [
    {
     "data": {
      "text/plain": [
       "[1, 2, 3, 4, 5, 6, 9, 500, 500]"
      ]
     },
     "execution_count": 68,
     "metadata": {},
     "output_type": "execute_result"
    }
   ],
   "source": [
    "mylist12"
   ]
  },
  {
   "cell_type": "markdown",
   "metadata": {
    "id": "-nMuUi8e7qT8"
   },
   "source": [
    "### Sorting w.r.t specified function criteria\n",
    "- We can also make a function to decide the sorting criteria(s)\n",
    "- Syntax is : list.sort(reverse=True|False, key=myFunc)"
   ]
  },
  {
   "cell_type": "code",
   "execution_count": null,
   "metadata": {
    "colab": {
     "base_uri": "https://localhost:8080/"
    },
    "executionInfo": {
     "elapsed": 594,
     "status": "ok",
     "timestamp": 1637908386090,
     "user": {
      "displayName": "Guzayya Sarkhawas",
      "photoUrl": "https://lh3.googleusercontent.com/a-/AOh14Gh6Y3aTn0cCcUgPIhsH6M4pKaXp98WUI7DjcDkY=s64",
      "userId": "11368096894351094299"
     },
     "user_tz": -330
    },
    "id": "wWALiNzf7ql1",
    "outputId": "651374ce-5c3b-48b7-d06d-bfec81b83d60"
   },
   "outputs": [
    {
     "data": {
      "text/plain": [
       "['a', 'c', 'f', 'aa', 'dd', 'aaaa']"
      ]
     },
     "execution_count": 76,
     "metadata": {},
     "output_type": "execute_result"
    }
   ],
   "source": [
    "def len_function(q):\n",
    "  return len(q)\n",
    "\n",
    "mylist14 = ['aaaa', 'aa', 'a', 'c', 'dd', 'f']\n",
    "mylist14.sort(key = len_function)\n",
    "mylist14"
   ]
  },
  {
   "cell_type": "markdown",
   "metadata": {
    "id": "SmfO2bP4YLfP"
   },
   "source": [
    "---"
   ]
  },
  {
   "cell_type": "markdown",
   "metadata": {
    "id": "gtRTEkQL2f3B"
   },
   "source": [
    "### reverse() method\n",
    "- The reverse() method reverses the sorting order of the elements"
   ]
  },
  {
   "cell_type": "code",
   "execution_count": null,
   "metadata": {
    "colab": {
     "base_uri": "https://localhost:8080/"
    },
    "executionInfo": {
     "elapsed": 428,
     "status": "ok",
     "timestamp": 1637907283214,
     "user": {
      "displayName": "Guzayya Sarkhawas",
      "photoUrl": "https://lh3.googleusercontent.com/a-/AOh14Gh6Y3aTn0cCcUgPIhsH6M4pKaXp98WUI7DjcDkY=s64",
      "userId": "11368096894351094299"
     },
     "user_tz": -330
    },
    "id": "e29Y_kORYLfM",
    "outputId": "6cc673f3-a817-4971-fb26-66ec13da0757"
   },
   "outputs": [
    {
     "name": "stdout",
     "output_type": "stream",
     "text": [
      "['a', 'b', 'c', 'd', 'e', 'a', 'd', 'd']\n",
      "['d', 'd', 'a', 'e', 'd', 'c', 'b', 'a']\n"
     ]
    }
   ],
   "source": [
    "### reverse\n",
    "mylist13 = ['a','b','c','d','e','a','d','d']\n",
    "print(mylist13)\n",
    "mylist13.reverse()\n",
    "print(mylist13)"
   ]
  },
  {
   "cell_type": "markdown",
   "metadata": {
    "id": "nMly9RCw-5_j"
   },
   "source": [
    "# 3. Tuples in Python\n",
    "- Python object\n",
    "- Similar to lists - i.e - it can hold any data type\n",
    "- Tuples are immutable like strings\n",
    "- Tuples are represented by ()"
   ]
  },
  {
   "cell_type": "markdown",
   "metadata": {},
   "source": [
    "##  Difference between List and Tuple\n",
    "\n",
    "- LISTS                                                     TUPLES\n",
    "-  MUTABLE                                                  IMMUTABLE\n",
    "-  []                                                        () \n",
    "-  ITEMS need not be related                                Better in explaining relationships\n",
    "\n",
    "\n"
   ]
  },
  {
   "cell_type": "code",
   "execution_count": null,
   "metadata": {},
   "outputs": [],
   "source": [
    "### longitude and lattitude\n",
    "### x y coordinates \n",
    "\n"
   ]
  },
  {
   "cell_type": "markdown",
   "metadata": {
    "id": "UL2-fUBO--tu"
   },
   "source": [
    "## 3.1 Tuple Examples"
   ]
  },
  {
   "cell_type": "code",
   "execution_count": 69,
   "metadata": {
    "colab": {
     "base_uri": "https://localhost:8080/"
    },
    "executionInfo": {
     "elapsed": 371,
     "status": "ok",
     "timestamp": 1637909064322,
     "user": {
      "displayName": "Guzayya Sarkhawas",
      "photoUrl": "https://lh3.googleusercontent.com/a-/AOh14Gh6Y3aTn0cCcUgPIhsH6M4pKaXp98WUI7DjcDkY=s64",
      "userId": "11368096894351094299"
     },
     "user_tz": -330
    },
    "id": "0gg0pEAD_Nf8",
    "outputId": "66a50fa3-756d-42c6-ba7b-d0d644a5aa7f"
   },
   "outputs": [
    {
     "name": "stdout",
     "output_type": "stream",
     "text": [
      "(1, 2, 3)\n",
      "<class 'tuple'>\n"
     ]
    }
   ],
   "source": [
    "### create a tuple using numbers\n",
    "mytup0 = (1,2,3)\n",
    "print(mytup0)\n",
    "print(type(mytup0))"
   ]
  },
  {
   "cell_type": "code",
   "execution_count": null,
   "metadata": {
    "colab": {
     "base_uri": "https://localhost:8080/"
    },
    "executionInfo": {
     "elapsed": 396,
     "status": "ok",
     "timestamp": 1637909076123,
     "user": {
      "displayName": "Guzayya Sarkhawas",
      "photoUrl": "https://lh3.googleusercontent.com/a-/AOh14Gh6Y3aTn0cCcUgPIhsH6M4pKaXp98WUI7DjcDkY=s64",
      "userId": "11368096894351094299"
     },
     "user_tz": -330
    },
    "id": "UbuliPAu_Qn0",
    "outputId": "600b3a45-fd78-4f6d-eeda-50d410aeacee"
   },
   "outputs": [
    {
     "name": "stdout",
     "output_type": "stream",
     "text": [
      "('a', 'b', 'c')\n"
     ]
    }
   ],
   "source": [
    "### create a tuple using strings\n",
    "mytup1 = ('a','b','c')\n",
    "print(mytup1)"
   ]
  },
  {
   "cell_type": "code",
   "execution_count": 71,
   "metadata": {
    "colab": {
     "base_uri": "https://localhost:8080/"
    },
    "executionInfo": {
     "elapsed": 420,
     "status": "ok",
     "timestamp": 1637909087170,
     "user": {
      "displayName": "Guzayya Sarkhawas",
      "photoUrl": "https://lh3.googleusercontent.com/a-/AOh14Gh6Y3aTn0cCcUgPIhsH6M4pKaXp98WUI7DjcDkY=s64",
      "userId": "11368096894351094299"
     },
     "user_tz": -330
    },
    "id": "_RZy-Zle_SRb",
    "outputId": "31480681-f3ac-42d9-9a09-5db1f97044cb"
   },
   "outputs": [
    {
     "name": "stdout",
     "output_type": "stream",
     "text": [
      "('a', 'A', 'STRNG', 1299, 1200.99)\n"
     ]
    }
   ],
   "source": [
    "### create a tuple using mixed data types\n",
    "mytup2 = ('a', 'A','STRNG',1299, 1200.99)\n",
    "print(mytup2)\n"
   ]
  },
  {
   "cell_type": "code",
   "execution_count": 72,
   "metadata": {},
   "outputs": [],
   "source": [
    "## \n",
    "mytup2 = ('a', 'A',1299,1299, 1200.99)"
   ]
  },
  {
   "cell_type": "code",
   "execution_count": 75,
   "metadata": {
    "colab": {
     "base_uri": "https://localhost:8080/"
    },
    "executionInfo": {
     "elapsed": 493,
     "status": "ok",
     "timestamp": 1637909103170,
     "user": {
      "displayName": "Guzayya Sarkhawas",
      "photoUrl": "https://lh3.googleusercontent.com/a-/AOh14Gh6Y3aTn0cCcUgPIhsH6M4pKaXp98WUI7DjcDkY=s64",
      "userId": "11368096894351094299"
     },
     "user_tz": -330
    },
    "id": "C0r-o4Jo_XXy",
    "outputId": "9b13c6d6-47c1-45c7-ff35-c0a9a0bf4304"
   },
   "outputs": [
    {
     "name": "stdout",
     "output_type": "stream",
     "text": [
      "((1, 2, 3), 199, 'a', 200.88, 'string', ('a', 'b'))\n"
     ]
    }
   ],
   "source": [
    "### create tuple within a tuple\n",
    "mytup3=((1,2,3),199,'a',200.88,'string',('a','b'))\n",
    "print(mytup3)"
   ]
  },
  {
   "cell_type": "code",
   "execution_count": 76,
   "metadata": {
    "colab": {
     "base_uri": "https://localhost:8080/"
    },
    "executionInfo": {
     "elapsed": 653,
     "status": "ok",
     "timestamp": 1637909130810,
     "user": {
      "displayName": "Guzayya Sarkhawas",
      "photoUrl": "https://lh3.googleusercontent.com/a-/AOh14Gh6Y3aTn0cCcUgPIhsH6M4pKaXp98WUI7DjcDkY=s64",
      "userId": "11368096894351094299"
     },
     "user_tz": -330
    },
    "id": "FjgRuaW__coE",
    "outputId": "5a39b3f8-beea-429c-8999-7f9fd75214a6"
   },
   "outputs": [
    {
     "name": "stdout",
     "output_type": "stream",
     "text": [
      "((1, 2, 3), 199, 'a', 200.88, 'string', ('a', 'b'), [199, 299], ['IAM A LIST', 'Y'])\n"
     ]
    }
   ],
   "source": [
    "### create list  within a tuple\n",
    "mytup4=((1,2,3),199,'a',200.88,'string',('a','b'),[199,299],[\"IAM A LIST\",'Y'])\n",
    "print(mytup4)\n"
   ]
  },
  {
   "cell_type": "code",
   "execution_count": null,
   "metadata": {
    "colab": {
     "base_uri": "https://localhost:8080/"
    },
    "executionInfo": {
     "elapsed": 504,
     "status": "ok",
     "timestamp": 1637909165382,
     "user": {
      "displayName": "Guzayya Sarkhawas",
      "photoUrl": "https://lh3.googleusercontent.com/a-/AOh14Gh6Y3aTn0cCcUgPIhsH6M4pKaXp98WUI7DjcDkY=s64",
      "userId": "11368096894351094299"
     },
     "user_tz": -330
    },
    "id": "sS74H78Q_mDF",
    "outputId": "3bdbfbd8-557e-4dbd-dffc-59c608a12bbd"
   },
   "outputs": [
    {
     "data": {
      "text/plain": [
       "8"
      ]
     },
     "execution_count": 83,
     "metadata": {},
     "output_type": "execute_result"
    }
   ],
   "source": [
    "### length of a tuple\n",
    "len(mytup4)"
   ]
  },
  {
   "cell_type": "code",
   "execution_count": 77,
   "metadata": {
    "colab": {
     "base_uri": "https://localhost:8080/"
    },
    "executionInfo": {
     "elapsed": 406,
     "status": "ok",
     "timestamp": 1637909175987,
     "user": {
      "displayName": "Guzayya Sarkhawas",
      "photoUrl": "https://lh3.googleusercontent.com/a-/AOh14Gh6Y3aTn0cCcUgPIhsH6M4pKaXp98WUI7DjcDkY=s64",
      "userId": "11368096894351094299"
     },
     "user_tz": -330
    },
    "id": "6yjbVSlm_pN5",
    "outputId": "911f0287-b9ed-4967-cc63-0a971cb8c89f"
   },
   "outputs": [
    {
     "data": {
      "text/plain": [
       "((1, 2, 3),\n",
       " 199,\n",
       " 'a',\n",
       " 200.88,\n",
       " 'string',\n",
       " ('a', 'b'),\n",
       " [199, 299],\n",
       " ['IAM A LIST', 'Y'])"
      ]
     },
     "execution_count": 77,
     "metadata": {},
     "output_type": "execute_result"
    }
   ],
   "source": [
    "mytup4"
   ]
  },
  {
   "cell_type": "code",
   "execution_count": null,
   "metadata": {
    "colab": {
     "base_uri": "https://localhost:8080/"
    },
    "executionInfo": {
     "elapsed": 426,
     "status": "ok",
     "timestamp": 1637909190483,
     "user": {
      "displayName": "Guzayya Sarkhawas",
      "photoUrl": "https://lh3.googleusercontent.com/a-/AOh14Gh6Y3aTn0cCcUgPIhsH6M4pKaXp98WUI7DjcDkY=s64",
      "userId": "11368096894351094299"
     },
     "user_tz": -330
    },
    "id": "Ob4Yz2cq_swl",
    "outputId": "aa6bd3f0-f98e-475a-8ee2-c09973d2be08"
   },
   "outputs": [
    {
     "data": {
      "text/plain": [
       "[199, 299, 'pop']"
      ]
     },
     "execution_count": 85,
     "metadata": {},
     "output_type": "execute_result"
    }
   ],
   "source": [
    "mytup4[6]"
   ]
  },
  {
   "cell_type": "markdown",
   "metadata": {
    "id": "MHGrNC4ZAQR0"
   },
   "source": [
    "## 3.2 Tuple indexing and slicing"
   ]
  },
  {
   "cell_type": "code",
   "execution_count": 78,
   "metadata": {
    "colab": {
     "base_uri": "https://localhost:8080/"
    },
    "executionInfo": {
     "elapsed": 386,
     "status": "ok",
     "timestamp": 1637909351341,
     "user": {
      "displayName": "Guzayya Sarkhawas",
      "photoUrl": "https://lh3.googleusercontent.com/a-/AOh14Gh6Y3aTn0cCcUgPIhsH6M4pKaXp98WUI7DjcDkY=s64",
      "userId": "11368096894351094299"
     },
     "user_tz": -330
    },
    "id": "-QN-42Y3ASfZ",
    "outputId": "f7c67418-1891-4e6a-9cc9-0de410678283"
   },
   "outputs": [
    {
     "name": "stdout",
     "output_type": "stream",
     "text": [
      "((1, 2, 3), 199, 'a', 200.88, 'string', ('a', 'b'), [199, 299], ['IAM A LIST', 'Y'])\n"
     ]
    }
   ],
   "source": [
    "print(mytup4)"
   ]
  },
  {
   "cell_type": "code",
   "execution_count": 79,
   "metadata": {
    "colab": {
     "base_uri": "https://localhost:8080/"
    },
    "executionInfo": {
     "elapsed": 598,
     "status": "ok",
     "timestamp": 1637909364848,
     "user": {
      "displayName": "Guzayya Sarkhawas",
      "photoUrl": "https://lh3.googleusercontent.com/a-/AOh14Gh6Y3aTn0cCcUgPIhsH6M4pKaXp98WUI7DjcDkY=s64",
      "userId": "11368096894351094299"
     },
     "user_tz": -330
    },
    "id": "5qoJ1WkWAXO6",
    "outputId": "15e1d515-147f-4cb0-9628-d47c660bcf4e"
   },
   "outputs": [
    {
     "name": "stdout",
     "output_type": "stream",
     "text": [
      "(1, 2, 3)\n",
      "['IAM A LIST', 'Y']\n",
      "['IAM A LIST', 'Y']\n"
     ]
    }
   ],
   "source": [
    "## grab the first and last element in a tuple\n",
    "print(mytup4[0])\n",
    "print(mytup4[-1])\n",
    "print(mytup4[7])"
   ]
  },
  {
   "cell_type": "code",
   "execution_count": null,
   "metadata": {
    "colab": {
     "base_uri": "https://localhost:8080/"
    },
    "executionInfo": {
     "elapsed": 391,
     "status": "ok",
     "timestamp": 1637909377923,
     "user": {
      "displayName": "Guzayya Sarkhawas",
      "photoUrl": "https://lh3.googleusercontent.com/a-/AOh14Gh6Y3aTn0cCcUgPIhsH6M4pKaXp98WUI7DjcDkY=s64",
      "userId": "11368096894351094299"
     },
     "user_tz": -330
    },
    "id": "_0az03jmAah_",
    "outputId": "8eb0c953-dc38-48bf-af3f-fb5ce8fb4858"
   },
   "outputs": [
    {
     "name": "stdout",
     "output_type": "stream",
     "text": [
      "199\n"
     ]
    }
   ],
   "source": [
    "### grab a specific element in a list within a tuple\n",
    "print(mytup4[6][0])"
   ]
  },
  {
   "cell_type": "code",
   "execution_count": 80,
   "metadata": {
    "colab": {
     "base_uri": "https://localhost:8080/"
    },
    "executionInfo": {
     "elapsed": 567,
     "status": "ok",
     "timestamp": 1637909418459,
     "user": {
      "displayName": "Guzayya Sarkhawas",
      "photoUrl": "https://lh3.googleusercontent.com/a-/AOh14Gh6Y3aTn0cCcUgPIhsH6M4pKaXp98WUI7DjcDkY=s64",
      "userId": "11368096894351094299"
     },
     "user_tz": -330
    },
    "id": "2hGTa1FlAkdx",
    "outputId": "dedd19a9-ab08-4171-b112-ed02723e82c0"
   },
   "outputs": [
    {
     "name": "stdout",
     "output_type": "stream",
     "text": [
      "('a', 200.88, 'string', ('a', 'b'), [199, 299], ['IAM A LIST', 'Y'])\n"
     ]
    }
   ],
   "source": [
    "### get all the elements from index 2 \n",
    "print(mytup4[2:])"
   ]
  },
  {
   "cell_type": "code",
   "execution_count": null,
   "metadata": {
    "colab": {
     "base_uri": "https://localhost:8080/"
    },
    "executionInfo": {
     "elapsed": 599,
     "status": "ok",
     "timestamp": 1637909429768,
     "user": {
      "displayName": "Guzayya Sarkhawas",
      "photoUrl": "https://lh3.googleusercontent.com/a-/AOh14Gh6Y3aTn0cCcUgPIhsH6M4pKaXp98WUI7DjcDkY=s64",
      "userId": "11368096894351094299"
     },
     "user_tz": -330
    },
    "id": "Hi1FYxy_AnLl",
    "outputId": "1bdc2aab-746a-4465-9d76-94b26f667c41"
   },
   "outputs": [
    {
     "name": "stdout",
     "output_type": "stream",
     "text": [
      "((1, 2, 3), 199, 'a', 200.88, 'string', ('a', 'b'), [199, 299, 'pop'], [1999, 'IAM A LIST', 'Y'])\n",
      "((1, 2, 3), 199, 'a', 200.88, 'string', ('a', 'b'))\n"
     ]
    }
   ],
   "source": [
    "### get all the elements from indeex 0 till index 5\n",
    "print(mytup4)\n",
    "print(mytup4[0:6])"
   ]
  },
  {
   "cell_type": "markdown",
   "metadata": {
    "id": "Y8WD9PLyA_YT"
   },
   "source": [
    "## 3.3 Immutability in Tuples"
   ]
  },
  {
   "cell_type": "code",
   "execution_count": 82,
   "metadata": {
    "colab": {
     "base_uri": "https://localhost:8080/"
    },
    "executionInfo": {
     "elapsed": 375,
     "status": "error",
     "timestamp": 1637909551453,
     "user": {
      "displayName": "Guzayya Sarkhawas",
      "photoUrl": "https://lh3.googleusercontent.com/a-/AOh14Gh6Y3aTn0cCcUgPIhsH6M4pKaXp98WUI7DjcDkY=s64",
      "userId": "11368096894351094299"
     },
     "user_tz": -330
    },
    "id": "YgyjrHvkBE75",
    "outputId": "0ae5596b-2002-47ca-fef1-0d6935f9a8b2"
   },
   "outputs": [
    {
     "data": {
      "text/plain": [
       "[199, 299]"
      ]
     },
     "execution_count": 82,
     "metadata": {},
     "output_type": "execute_result"
    }
   ],
   "source": [
    "### TUPLE IMMUTABILITY CHECK\n",
    "mytup4[6]  "
   ]
  },
  {
   "cell_type": "code",
   "execution_count": 83,
   "metadata": {},
   "outputs": [
    {
     "ename": "TypeError",
     "evalue": "'tuple' object does not support item assignment",
     "output_type": "error",
     "traceback": [
      "\u001b[1;31m---------------------------------------------------------------------------\u001b[0m",
      "\u001b[1;31mTypeError\u001b[0m                                 Traceback (most recent call last)",
      "\u001b[1;32m<ipython-input-83-fc41057f2f5e>\u001b[0m in \u001b[0;36m<module>\u001b[1;34m\u001b[0m\n\u001b[1;32m----> 1\u001b[1;33m \u001b[0mmytup4\u001b[0m\u001b[1;33m[\u001b[0m\u001b[1;36m6\u001b[0m\u001b[1;33m]\u001b[0m \u001b[1;33m=\u001b[0m \u001b[1;33m[\u001b[0m\u001b[1;34m'o'\u001b[0m\u001b[1;33m,\u001b[0m\u001b[1;34m'p'\u001b[0m\u001b[1;33m]\u001b[0m\u001b[1;33m\u001b[0m\u001b[1;33m\u001b[0m\u001b[0m\n\u001b[0m",
      "\u001b[1;31mTypeError\u001b[0m: 'tuple' object does not support item assignment"
     ]
    }
   ],
   "source": [
    "mytup4[6] = ['o','p']"
   ]
  },
  {
   "cell_type": "markdown",
   "metadata": {
    "id": "Ff6PsrwLBU3W"
   },
   "source": [
    "### Since tuples are immutable,changing the individual items in tuple is not possible. but changing whole tuple is"
   ]
  },
  {
   "cell_type": "code",
   "execution_count": 86,
   "metadata": {},
   "outputs": [
    {
     "data": {
      "text/plain": [
       "199"
      ]
     },
     "execution_count": 86,
     "metadata": {},
     "output_type": "execute_result"
    }
   ],
   "source": [
    "### to extract 199 from list [199,299] in index6\n",
    "mytup4[6]\n",
    "\n",
    "mytup4[6][0]"
   ]
  },
  {
   "cell_type": "code",
   "execution_count": 87,
   "metadata": {},
   "outputs": [
    {
     "name": "stdout",
     "output_type": "stream",
     "text": [
      "((1, 2, 3), 199, 'a', 200.88, 'string', ('a', 'b'), [899, 299], ['IAM A LIST', 'Y'])\n"
     ]
    }
   ],
   "source": [
    "### change 199 to 899 ?  is it possible \n",
    "mytup4[6][0] = 899\n",
    "print(mytup4)"
   ]
  },
  {
   "cell_type": "code",
   "execution_count": null,
   "metadata": {},
   "outputs": [],
   "source": []
  },
  {
   "cell_type": "code",
   "execution_count": null,
   "metadata": {},
   "outputs": [],
   "source": []
  },
  {
   "cell_type": "code",
   "execution_count": null,
   "metadata": {
    "colab": {
     "base_uri": "https://localhost:8080/"
    },
    "executionInfo": {
     "elapsed": 402,
     "status": "ok",
     "timestamp": 1637909638917,
     "user": {
      "displayName": "Guzayya Sarkhawas",
      "photoUrl": "https://lh3.googleusercontent.com/a-/AOh14Gh6Y3aTn0cCcUgPIhsH6M4pKaXp98WUI7DjcDkY=s64",
      "userId": "11368096894351094299"
     },
     "user_tz": -330
    },
    "id": "GDwDb9oOBXsl",
    "outputId": "f1b0aa07-fb49-4efb-db7c-8061d8e425c0"
   },
   "outputs": [
    {
     "data": {
      "text/plain": [
       "((100, 200, 300), 1990, 'ac', 2009.88, ('x', 'y'), ['IAM A LIST', 'Y'])"
      ]
     },
     "execution_count": 96,
     "metadata": {},
     "output_type": "execute_result"
    }
   ],
   "source": [
    "### this is possible\n",
    "my_tuple7= ((100, 200, 300),1990, 'ac', 2009.88,('x', 'y'),['IAM A LIST', 'Y'])\n",
    "my_tuple7"
   ]
  },
  {
   "cell_type": "code",
   "execution_count": null,
   "metadata": {
    "colab": {
     "base_uri": "https://localhost:8080/"
    },
    "executionInfo": {
     "elapsed": 428,
     "status": "ok",
     "timestamp": 1637909654679,
     "user": {
      "displayName": "Guzayya Sarkhawas",
      "photoUrl": "https://lh3.googleusercontent.com/a-/AOh14Gh6Y3aTn0cCcUgPIhsH6M4pKaXp98WUI7DjcDkY=s64",
      "userId": "11368096894351094299"
     },
     "user_tz": -330
    },
    "id": "MlQti0X-BeGE",
    "outputId": "d402ac82-9dca-4c1d-ad06-bd52a47caa1a"
   },
   "outputs": [
    {
     "name": "stdout",
     "output_type": "stream",
     "text": [
      "<class 'list'>\n",
      "[(100, 200, 300), 1990, 'ac', 2009.88, ('x', 'y'), ['IAM A LIST', 'Y'], 10000]\n",
      "<class 'tuple'>\n",
      "((100, 200, 300), 1990, 'ac', 2009.88, ('x', 'y'), ['IAM A LIST', 'Y'], 10000)\n"
     ]
    }
   ],
   "source": [
    "### this is also possible - by converting a tuple to list, add a value and then reconveert back to tuple\n",
    "\n",
    "my_list_test=list(my_tuple7)\n",
    "my_list_test.append(10000)\n",
    "print(type(my_list_test))\n",
    "print(my_list_test)\n",
    "my_list_test_tuple = tuple(my_list_test)  ### convert into a tuple\n",
    "print(type(my_list_test_tuple))\n",
    "print(my_list_test_tuple)\n"
   ]
  },
  {
   "cell_type": "markdown",
   "metadata": {
    "id": "JJIIEus4Bnw4"
   },
   "source": [
    "## 3.4 Tuple Unpacking\n",
    "- Similar to list, tuple unpacking is also possible"
   ]
  },
  {
   "cell_type": "code",
   "execution_count": null,
   "metadata": {
    "id": "4tN1x0ELB9-2"
   },
   "outputs": [],
   "source": [
    "learner = ['python', 'Java', 'Cloud']\n",
    "(tech_1, tech_2, tech_3) = learner"
   ]
  },
  {
   "cell_type": "code",
   "execution_count": null,
   "metadata": {
    "colab": {
     "base_uri": "https://localhost:8080/"
    },
    "executionInfo": {
     "elapsed": 419,
     "status": "ok",
     "timestamp": 1637909904003,
     "user": {
      "displayName": "Guzayya Sarkhawas",
      "photoUrl": "https://lh3.googleusercontent.com/a-/AOh14Gh6Y3aTn0cCcUgPIhsH6M4pKaXp98WUI7DjcDkY=s64",
      "userId": "11368096894351094299"
     },
     "user_tz": -330
    },
    "id": "8LEmhcEFCV4g",
    "outputId": "bc542fb6-0fc0-4ad5-e5c5-07e505099f78"
   },
   "outputs": [
    {
     "name": "stdout",
     "output_type": "stream",
     "text": [
      "python\n",
      "Java\n",
      "Cloud\n"
     ]
    }
   ],
   "source": [
    "print(tech_1)\n",
    "print(tech_2)\n",
    "print(tech_3)"
   ]
  },
  {
   "cell_type": "markdown",
   "metadata": {
    "id": "YlXWOxRvCerC"
   },
   "source": [
    "## 3.5 Build in methods in Tuple\n",
    "- Python has two built-in methods that you can use on tuples\n",
    "  - count()\n",
    "  - index()"
   ]
  },
  {
   "cell_type": "markdown",
   "metadata": {
    "id": "Mk7QZWcICw0f"
   },
   "source": [
    "### count() method\n",
    "- The count() method returns the number of times a specified value appears in the tuple"
   ]
  },
  {
   "cell_type": "code",
   "execution_count": 88,
   "metadata": {
    "colab": {
     "base_uri": "https://localhost:8080/"
    },
    "executionInfo": {
     "elapsed": 455,
     "status": "ok",
     "timestamp": 1637910159862,
     "user": {
      "displayName": "Guzayya Sarkhawas",
      "photoUrl": "https://lh3.googleusercontent.com/a-/AOh14Gh6Y3aTn0cCcUgPIhsH6M4pKaXp98WUI7DjcDkY=s64",
      "userId": "11368096894351094299"
     },
     "user_tz": -330
    },
    "id": "Dq3MzWt4DP_T",
    "outputId": "4e5202f6-eb43-44fe-a9fb-f190e69d1d9f"
   },
   "outputs": [
    {
     "data": {
      "text/plain": [
       "((1, 2, 3),\n",
       " 199,\n",
       " 'a',\n",
       " 200.88,\n",
       " 'string',\n",
       " ('a', 'b'),\n",
       " [899, 299],\n",
       " ['IAM A LIST', 'Y'])"
      ]
     },
     "execution_count": 88,
     "metadata": {},
     "output_type": "execute_result"
    }
   ],
   "source": [
    "mytup4"
   ]
  },
  {
   "cell_type": "code",
   "execution_count": 89,
   "metadata": {
    "colab": {
     "base_uri": "https://localhost:8080/"
    },
    "executionInfo": {
     "elapsed": 429,
     "status": "ok",
     "timestamp": 1637910176575,
     "user": {
      "displayName": "Guzayya Sarkhawas",
      "photoUrl": "https://lh3.googleusercontent.com/a-/AOh14Gh6Y3aTn0cCcUgPIhsH6M4pKaXp98WUI7DjcDkY=s64",
      "userId": "11368096894351094299"
     },
     "user_tz": -330
    },
    "id": "DUEbm0i7C1as",
    "outputId": "18a2a8d7-a3eb-4ff4-cfe6-4f44691de16a"
   },
   "outputs": [
    {
     "data": {
      "text/plain": [
       "1"
      ]
     },
     "execution_count": 89,
     "metadata": {},
     "output_type": "execute_result"
    }
   ],
   "source": [
    "mytup4.count('a')"
   ]
  },
  {
   "cell_type": "code",
   "execution_count": null,
   "metadata": {
    "colab": {
     "base_uri": "https://localhost:8080/"
    },
    "executionInfo": {
     "elapsed": 437,
     "status": "ok",
     "timestamp": 1637910310246,
     "user": {
      "displayName": "Guzayya Sarkhawas",
      "photoUrl": "https://lh3.googleusercontent.com/a-/AOh14Gh6Y3aTn0cCcUgPIhsH6M4pKaXp98WUI7DjcDkY=s64",
      "userId": "11368096894351094299"
     },
     "user_tz": -330
    },
    "id": "i_QFTXihDttx",
    "outputId": "135218f6-bce1-4c39-9145-f72924ea4f79"
   },
   "outputs": [
    {
     "data": {
      "text/plain": [
       "('!', '#', '@', '@', '_', '!', '!')"
      ]
     },
     "execution_count": 103,
     "metadata": {},
     "output_type": "execute_result"
    }
   ],
   "source": [
    "mytup5 = ('!', '#', '@', '@', '_', '!', '!')\n",
    "mytup5"
   ]
  },
  {
   "cell_type": "code",
   "execution_count": null,
   "metadata": {
    "colab": {
     "base_uri": "https://localhost:8080/"
    },
    "executionInfo": {
     "elapsed": 419,
     "status": "ok",
     "timestamp": 1637910332256,
     "user": {
      "displayName": "Guzayya Sarkhawas",
      "photoUrl": "https://lh3.googleusercontent.com/a-/AOh14Gh6Y3aTn0cCcUgPIhsH6M4pKaXp98WUI7DjcDkY=s64",
      "userId": "11368096894351094299"
     },
     "user_tz": -330
    },
    "id": "JJ_2vCf6D_rb",
    "outputId": "31bbc2a3-5d38-4f75-90f7-3e5c9b6b9341"
   },
   "outputs": [
    {
     "data": {
      "text/plain": [
       "3"
      ]
     },
     "execution_count": 105,
     "metadata": {},
     "output_type": "execute_result"
    }
   ],
   "source": [
    "mytup5.count('!')"
   ]
  },
  {
   "cell_type": "code",
   "execution_count": 94,
   "metadata": {
    "colab": {
     "base_uri": "https://localhost:8080/"
    },
    "executionInfo": {
     "elapsed": 471,
     "status": "ok",
     "timestamp": 1637910524479,
     "user": {
      "displayName": "Guzayya Sarkhawas",
      "photoUrl": "https://lh3.googleusercontent.com/a-/AOh14Gh6Y3aTn0cCcUgPIhsH6M4pKaXp98WUI7DjcDkY=s64",
      "userId": "11368096894351094299"
     },
     "user_tz": -330
    },
    "id": "HuuhYfHJEx3w",
    "outputId": "91d1d8ea-7852-4c2b-b3b2-b17911c0629b"
   },
   "outputs": [
    {
     "data": {
      "text/plain": [
       "2"
      ]
     },
     "execution_count": 94,
     "metadata": {},
     "output_type": "execute_result"
    }
   ],
   "source": [
    "my_tuple7 = ((1, 2, 3), 199, 'a', 200.88, 'string', ('a', 'b'), [199, 299], ['IAM A LIST', 'Y'],[199,299])\n",
    "my_tuple7.count([199,299])"
   ]
  },
  {
   "cell_type": "code",
   "execution_count": 100,
   "metadata": {},
   "outputs": [
    {
     "data": {
      "text/plain": [
       "2"
      ]
     },
     "execution_count": 100,
     "metadata": {},
     "output_type": "execute_result"
    }
   ],
   "source": [
    "my_tuple8 = ((1, 2, 3), 199, 'a', 200.88, 'string', ('a', 'b'), (199, 299), ['IAM A LIST', 'Y'],(199,299))\n",
    "my_tuple8.count((199,299))"
   ]
  },
  {
   "cell_type": "code",
   "execution_count": 102,
   "metadata": {},
   "outputs": [
    {
     "data": {
      "text/plain": [
       "(100, 120, 120, 100, 120, 60)"
      ]
     },
     "execution_count": 102,
     "metadata": {},
     "output_type": "execute_result"
    }
   ],
   "source": [
    "###  storing = daily salary at a week level\n",
    "\n",
    "week_tup = (100,120,120,100,120,60)\n",
    "week_tup"
   ]
  },
  {
   "cell_type": "markdown",
   "metadata": {
    "id": "9kZek1ubERG-"
   },
   "source": [
    "### index() method\n",
    "- The index() method finds the first occurrence of the specified value\n",
    "- The index() method raises an exception if the value is not found"
   ]
  },
  {
   "cell_type": "code",
   "execution_count": 93,
   "metadata": {
    "colab": {
     "base_uri": "https://localhost:8080/"
    },
    "executionInfo": {
     "elapsed": 447,
     "status": "ok",
     "timestamp": 1637910441820,
     "user": {
      "displayName": "Guzayya Sarkhawas",
      "photoUrl": "https://lh3.googleusercontent.com/a-/AOh14Gh6Y3aTn0cCcUgPIhsH6M4pKaXp98WUI7DjcDkY=s64",
      "userId": "11368096894351094299"
     },
     "user_tz": -330
    },
    "id": "03xF-dkHEcIq",
    "outputId": "84ed0c41-0965-43fe-f9b3-0720a5a7ae89"
   },
   "outputs": [
    {
     "data": {
      "text/plain": [
       "6"
      ]
     },
     "execution_count": 93,
     "metadata": {},
     "output_type": "execute_result"
    }
   ],
   "source": [
    "my_tuple7.index([199,299])"
   ]
  },
  {
   "cell_type": "code",
   "execution_count": null,
   "metadata": {
    "colab": {
     "base_uri": "https://localhost:8080/"
    },
    "executionInfo": {
     "elapsed": 8,
     "status": "error",
     "timestamp": 1637910486775,
     "user": {
      "displayName": "Guzayya Sarkhawas",
      "photoUrl": "https://lh3.googleusercontent.com/a-/AOh14Gh6Y3aTn0cCcUgPIhsH6M4pKaXp98WUI7DjcDkY=s64",
      "userId": "11368096894351094299"
     },
     "user_tz": -330
    },
    "id": "tBs-cj2SEnLi",
    "outputId": "9219f635-b452-4d5e-901c-faf1cbdd9bff"
   },
   "outputs": [
    {
     "ename": "ValueError",
     "evalue": "ignored",
     "output_type": "error",
     "traceback": [
      "\u001b[0;31m---------------------------------------------------------------------------\u001b[0m",
      "\u001b[0;31mValueError\u001b[0m                                Traceback (most recent call last)",
      "\u001b[0;32m<ipython-input-107-45817f0c2aa4>\u001b[0m in \u001b[0;36m<module>\u001b[0;34m()\u001b[0m\n\u001b[0;32m----> 1\u001b[0;31m \u001b[0mmytup5\u001b[0m\u001b[0;34m.\u001b[0m\u001b[0mindex\u001b[0m\u001b[0;34m(\u001b[0m\u001b[0;34m'*'\u001b[0m\u001b[0;34m)\u001b[0m\u001b[0;34m\u001b[0m\u001b[0;34m\u001b[0m\u001b[0m\n\u001b[0m",
      "\u001b[0;31mValueError\u001b[0m: tuple.index(x): x not in tuple"
     ]
    }
   ],
   "source": [
    "mytup5.index('*')"
   ]
  },
  {
   "cell_type": "code",
   "execution_count": null,
   "metadata": {
    "colab": {
     "base_uri": "https://localhost:8080/"
    },
    "executionInfo": {
     "elapsed": 509,
     "status": "ok",
     "timestamp": 1637910561246,
     "user": {
      "displayName": "Guzayya Sarkhawas",
      "photoUrl": "https://lh3.googleusercontent.com/a-/AOh14Gh6Y3aTn0cCcUgPIhsH6M4pKaXp98WUI7DjcDkY=s64",
      "userId": "11368096894351094299"
     },
     "user_tz": -330
    },
    "id": "7s3ZOtZWE6wT",
    "outputId": "902e0f11-9d66-44d4-9a94-d508fceff8ad"
   },
   "outputs": [
    {
     "data": {
      "text/plain": [
       "6"
      ]
     },
     "execution_count": 109,
     "metadata": {},
     "output_type": "execute_result"
    }
   ],
   "source": [
    "my_tuple7.index([199,299])"
   ]
  },
  {
   "cell_type": "markdown",
   "metadata": {
    "id": "aVDRB6znFD7J"
   },
   "source": [
    "## 3.6 Tuple to List conversion \n",
    "### FORCE TYPE CONVERSION\n",
    "- Creates a list off of the tuple"
   ]
  },
  {
   "cell_type": "code",
   "execution_count": 109,
   "metadata": {
    "colab": {
     "base_uri": "https://localhost:8080/"
    },
    "executionInfo": {
     "elapsed": 468,
     "status": "ok",
     "timestamp": 1637910651834,
     "user": {
      "displayName": "Guzayya Sarkhawas",
      "photoUrl": "https://lh3.googleusercontent.com/a-/AOh14Gh6Y3aTn0cCcUgPIhsH6M4pKaXp98WUI7DjcDkY=s64",
      "userId": "11368096894351094299"
     },
     "user_tz": -330
    },
    "id": "F7SshovhFLIf",
    "outputId": "74263c12-dcbd-4d99-8c3f-4e8f04dcfeec"
   },
   "outputs": [
    {
     "data": {
      "text/plain": [
       "[(1, 2, 3),\n",
       " 199,\n",
       " 'a',\n",
       " 200.88,\n",
       " 'string',\n",
       " ('a', 'b'),\n",
       " [199, 299],\n",
       " ['IAM A LIST', 'Y'],\n",
       " [199, 299]]"
      ]
     },
     "execution_count": 109,
     "metadata": {},
     "output_type": "execute_result"
    }
   ],
   "source": [
    "list(my_tuple7)"
   ]
  },
  {
   "cell_type": "code",
   "execution_count": 112,
   "metadata": {},
   "outputs": [
    {
     "data": {
      "text/plain": [
       "list"
      ]
     },
     "execution_count": 112,
     "metadata": {},
     "output_type": "execute_result"
    }
   ],
   "source": [
    "my_list3 = [1,2,3]\n",
    "type(my_list3)"
   ]
  },
  {
   "cell_type": "code",
   "execution_count": 116,
   "metadata": {},
   "outputs": [
    {
     "data": {
      "text/plain": [
       "(1, 2, 3)"
      ]
     },
     "execution_count": 116,
     "metadata": {},
     "output_type": "execute_result"
    }
   ],
   "source": [
    "tuple(my_list3)"
   ]
  },
  {
   "cell_type": "code",
   "execution_count": 118,
   "metadata": {},
   "outputs": [
    {
     "name": "stdout",
     "output_type": "stream",
     "text": [
      "(1, 2, 3)\n",
      "<class 'tuple'>\n"
     ]
    }
   ],
   "source": [
    "my_list3 = tuple(my_list3)\n",
    "print(my_list3)\n",
    "print(type(my_list3))"
   ]
  },
  {
   "cell_type": "code",
   "execution_count": 115,
   "metadata": {},
   "outputs": [
    {
     "data": {
      "text/plain": [
       "list"
      ]
     },
     "execution_count": 115,
     "metadata": {},
     "output_type": "execute_result"
    }
   ],
   "source": [
    "type(my_list3)"
   ]
  },
  {
   "cell_type": "code",
   "execution_count": 107,
   "metadata": {},
   "outputs": [
    {
     "data": {
      "text/plain": [
       "list"
      ]
     },
     "execution_count": 107,
     "metadata": {},
     "output_type": "execute_result"
    }
   ],
   "source": [
    "type(list(my_tuple7))"
   ]
  },
  {
   "cell_type": "code",
   "execution_count": 108,
   "metadata": {},
   "outputs": [
    {
     "data": {
      "text/plain": [
       "tuple"
      ]
     },
     "execution_count": 108,
     "metadata": {},
     "output_type": "execute_result"
    }
   ],
   "source": [
    "type(my_tuple7)"
   ]
  },
  {
   "cell_type": "code",
   "execution_count": null,
   "metadata": {},
   "outputs": [],
   "source": []
  },
  {
   "cell_type": "markdown",
   "metadata": {
    "id": "9k2irPuRYLfQ"
   },
   "source": [
    "# 4. Dictionary in Python"
   ]
  },
  {
   "cell_type": "markdown",
   "metadata": {
    "id": "KPNFJC9TYLfQ"
   },
   "source": [
    "- Python objects that are represented in the form of Key and value pairs\n",
    "- Dictionary helps to create our own user defined indexes in the form of \"Keys\"\n",
    "- Every Key will have a value\n",
    "- Dictionary can have strings, numeric, float, lists, tuples, dictionaries as values\n",
    "- Dictionary is mutable on the whole but the Key of a dictionary is always IMMUTABLE\n",
    "- Syntax of dictionary is \n",
    "        mydict1 = {'keyname':value, 'keyname2':value2, 'keyname3':value3....}\n",
    "        "
   ]
  },
  {
   "cell_type": "markdown",
   "metadata": {
    "id": "7oNKTmdnG278"
   },
   "source": [
    "## 4.1 Dictionary Examples\n",
    "\n",
    "#### Rules\n",
    "\n",
    " - Key & Value Pairs\n",
    " - Keys should be of immutable data types\n",
    " - values can be of immutable of mutable data types\n",
    " - When you create a dictionary with duplicate keys, the dictionary automatically removes the duplicate "
   ]
  },
  {
   "cell_type": "code",
   "execution_count": 120,
   "metadata": {
    "colab": {
     "base_uri": "https://localhost:8080/"
    },
    "executionInfo": {
     "elapsed": 1208,
     "status": "ok",
     "timestamp": 1637984917029,
     "user": {
      "displayName": "Guzayya Sarkhawas",
      "photoUrl": "https://lh3.googleusercontent.com/a-/AOh14Gh6Y3aTn0cCcUgPIhsH6M4pKaXp98WUI7DjcDkY=s64",
      "userId": "11368096894351094299"
     },
     "user_tz": -330
    },
    "id": "cpLLl30SYLfQ",
    "outputId": "92bff9db-43cc-43e3-c904-52d30e4a085d"
   },
   "outputs": [
    {
     "name": "stdout",
     "output_type": "stream",
     "text": [
      "\n",
      "\n",
      "{'k1': 100, 'k2': 'str', 'k3': 199.99, 'k4': '0'}\n",
      "\n",
      "\n",
      "<class 'dict'>\n",
      "\n",
      "\n",
      "4\n"
     ]
    }
   ],
   "source": [
    "### create first dictionary\n",
    "mydict0 =  {'k1':100,'k2':'str','k3':199.99,'k4':'0'}\n",
    "print('\\n')\n",
    "print(mydict0)\n",
    "print('\\n')\n",
    "print(type(mydict0))\n",
    "print('\\n')\n",
    "print(len(mydict0))"
   ]
  },
  {
   "cell_type": "code",
   "execution_count": 125,
   "metadata": {},
   "outputs": [],
   "source": [
    "### create dictionary with duplicate key\n",
    "### create first dictionary\n",
    "mydict00 =  {'k1':100,'k2':'str','k3':199.99,'k4':'0','k1':[120,'a']}\n"
   ]
  },
  {
   "cell_type": "code",
   "execution_count": 126,
   "metadata": {},
   "outputs": [
    {
     "name": "stdout",
     "output_type": "stream",
     "text": [
      "{'k1': [120, 'a'], 'k2': 'str', 'k3': 199.99, 'k4': '0'}\n"
     ]
    }
   ],
   "source": [
    "print(mydict00)"
   ]
  },
  {
   "cell_type": "code",
   "execution_count": null,
   "metadata": {
    "colab": {
     "base_uri": "https://localhost:8080/"
    },
    "executionInfo": {
     "elapsed": 775,
     "status": "ok",
     "timestamp": 1637984922625,
     "user": {
      "displayName": "Guzayya Sarkhawas",
      "photoUrl": "https://lh3.googleusercontent.com/a-/AOh14Gh6Y3aTn0cCcUgPIhsH6M4pKaXp98WUI7DjcDkY=s64",
      "userId": "11368096894351094299"
     },
     "user_tz": -330
    },
    "id": "P-BL9FY1YLfR",
    "outputId": "2243b345-2f06-4785-e437-6156a7ec8f50"
   },
   "outputs": [
    {
     "name": "stdout",
     "output_type": "stream",
     "text": [
      "\n",
      "\n",
      "{'listkey1': [1, 2, 3], 'tupkey2': (1, 2, 3), 'numkey': 1000, 'strkey': 'i am a string'}\n",
      "\n",
      "\n",
      "<class 'dict'>\n",
      "\n",
      "\n",
      "4\n"
     ]
    }
   ],
   "source": [
    "### dictionaries with lists and tuples\n",
    "mydict1= {'listkey1' : [1,2,3],  'tupkey2' : (1,2,3), 'numkey':1000, 'strkey':'i am a string' }\n",
    "print('\\n')\n",
    "print(mydict1)\n",
    "print('\\n')\n",
    "print(type(mydict1))\n",
    "print('\\n')\n",
    "print(len(mydict1))"
   ]
  },
  {
   "cell_type": "code",
   "execution_count": null,
   "metadata": {
    "colab": {
     "base_uri": "https://localhost:8080/"
    },
    "executionInfo": {
     "elapsed": 807,
     "status": "ok",
     "timestamp": 1637984929203,
     "user": {
      "displayName": "Guzayya Sarkhawas",
      "photoUrl": "https://lh3.googleusercontent.com/a-/AOh14Gh6Y3aTn0cCcUgPIhsH6M4pKaXp98WUI7DjcDkY=s64",
      "userId": "11368096894351094299"
     },
     "user_tz": -330
    },
    "id": "A7vzsnSbYLfS",
    "outputId": "c1cd5aad-7828-44e8-eb79-03d4b1717c18"
   },
   "outputs": [
    {
     "name": "stdout",
     "output_type": "stream",
     "text": [
      "{'listkey1': [1, 2, 3], 'tupkey2': (1, 2, 3), 'dictkey': {'k1': 1990, 'k2': 'a', 'k3': [1, 2, 3]}, 'strkey': 'i am a string'}\n",
      "<class 'dict'>\n",
      "4\n"
     ]
    }
   ],
   "source": [
    "### dictionaries with lists, tuples, dictionary\n",
    "mydict2= {'listkey1' : [1,2,3],  'tupkey2' : (1,2,3), 'dictkey':{'k1':1990,'k2':'a','k3':[1,2,3]}, 'strkey':'i am a string' }\n",
    "print(mydict2)\n",
    "print(type(mydict2))\n",
    "print(len(mydict2))"
   ]
  },
  {
   "cell_type": "code",
   "execution_count": null,
   "metadata": {
    "colab": {
     "base_uri": "https://localhost:8080/",
     "height": 165
    },
    "executionInfo": {
     "elapsed": 428,
     "status": "error",
     "timestamp": 1637984962778,
     "user": {
      "displayName": "Guzayya Sarkhawas",
      "photoUrl": "https://lh3.googleusercontent.com/a-/AOh14Gh6Y3aTn0cCcUgPIhsH6M4pKaXp98WUI7DjcDkY=s64",
      "userId": "11368096894351094299"
     },
     "user_tz": -330
    },
    "id": "kN0u0J-RYLfT",
    "outputId": "a15b6d43-c680-41dc-8039-b4d56d1b5573"
   },
   "outputs": [
    {
     "ename": "KeyError",
     "evalue": "ignored",
     "output_type": "error",
     "traceback": [
      "\u001b[0;31m---------------------------------------------------------------------------\u001b[0m",
      "\u001b[0;31mKeyError\u001b[0m                                  Traceback (most recent call last)",
      "\u001b[0;32m<ipython-input-4-56578174be1e>\u001b[0m in \u001b[0;36m<module>\u001b[0;34m()\u001b[0m\n\u001b[0;32m----> 1\u001b[0;31m \u001b[0mmydict2\u001b[0m\u001b[0;34m[\u001b[0m\u001b[0;36m2\u001b[0m\u001b[0;34m]\u001b[0m\u001b[0;34m\u001b[0m\u001b[0;34m\u001b[0m\u001b[0m\n\u001b[0m",
      "\u001b[0;31mKeyError\u001b[0m: 2"
     ]
    }
   ],
   "source": [
    "mydict2[2]"
   ]
  },
  {
   "cell_type": "code",
   "execution_count": null,
   "metadata": {
    "colab": {
     "base_uri": "https://localhost:8080/"
    },
    "executionInfo": {
     "elapsed": 398,
     "status": "ok",
     "timestamp": 1637985376632,
     "user": {
      "displayName": "Guzayya Sarkhawas",
      "photoUrl": "https://lh3.googleusercontent.com/a-/AOh14Gh6Y3aTn0cCcUgPIhsH6M4pKaXp98WUI7DjcDkY=s64",
      "userId": "11368096894351094299"
     },
     "user_tz": -330
    },
    "id": "84pBcBRdYLfT",
    "outputId": "a8b7d4e2-abfe-47ec-ace4-7e2ca33bcf17"
   },
   "outputs": [
    {
     "data": {
      "text/plain": [
       "{'k1': 1990, 'k2': 'a', 'k3': [1, 2, 3]}"
      ]
     },
     "execution_count": 5,
     "metadata": {},
     "output_type": "execute_result"
    }
   ],
   "source": [
    "### call the dictionary using keyvalue\n",
    "mydict2['dictkey']"
   ]
  },
  {
   "cell_type": "code",
   "execution_count": 141,
   "metadata": {
    "colab": {
     "base_uri": "https://localhost:8080/"
    },
    "executionInfo": {
     "elapsed": 383,
     "status": "ok",
     "timestamp": 1637985389722,
     "user": {
      "displayName": "Guzayya Sarkhawas",
      "photoUrl": "https://lh3.googleusercontent.com/a-/AOh14Gh6Y3aTn0cCcUgPIhsH6M4pKaXp98WUI7DjcDkY=s64",
      "userId": "11368096894351094299"
     },
     "user_tz": -330
    },
    "id": "YKA9HETnYLfU",
    "outputId": "907e06be-f167-4dbd-e053-d4b1174fdc86"
   },
   "outputs": [
    {
     "name": "stdout",
     "output_type": "stream",
     "text": [
      "{'key1': [1, 2, 3], 'key2': [10, 2, 3], 'key3': {'k1': 1990, 'k2': 'a', 'k3': [1, 2, 3]}, 'key4': 'i am a string'}\n"
     ]
    }
   ],
   "source": [
    "### having the same key names with multiple elements will result in one key being retained\n",
    "mydict2= {'key1' : [1,2,3],  'key2' : [10,2,3], 'key3':{'k1':1990,'k2':'a','k3':[1,2,3]}, 'key4':'i am a string' }\n",
    "print(mydict2)"
   ]
  },
  {
   "cell_type": "code",
   "execution_count": 142,
   "metadata": {},
   "outputs": [
    {
     "data": {
      "text/plain": [
       "4"
      ]
     },
     "execution_count": 142,
     "metadata": {},
     "output_type": "execute_result"
    }
   ],
   "source": [
    "len(mydict2)"
   ]
  },
  {
   "cell_type": "code",
   "execution_count": 144,
   "metadata": {},
   "outputs": [
    {
     "data": {
      "text/plain": [
       "[1, 2, 3]"
      ]
     },
     "execution_count": 144,
     "metadata": {},
     "output_type": "execute_result"
    }
   ],
   "source": [
    "mydict2['key1']"
   ]
  },
  {
   "cell_type": "code",
   "execution_count": 147,
   "metadata": {},
   "outputs": [
    {
     "data": {
      "text/plain": [
       "[2, 3]"
      ]
     },
     "execution_count": 147,
     "metadata": {},
     "output_type": "execute_result"
    }
   ],
   "source": [
    "mydict2['key1'][1]\n",
    "mydict2['key1'][1:3]"
   ]
  },
  {
   "cell_type": "code",
   "execution_count": 150,
   "metadata": {},
   "outputs": [
    {
     "data": {
      "text/plain": [
       "{'k1': 1990, 'k2': 'a', 'k3': [1, 2, 3]}"
      ]
     },
     "execution_count": 150,
     "metadata": {},
     "output_type": "execute_result"
    }
   ],
   "source": [
    "mydict2['key3']"
   ]
  },
  {
   "cell_type": "code",
   "execution_count": 158,
   "metadata": {},
   "outputs": [
    {
     "data": {
      "text/plain": [
       "(1990, 'a')"
      ]
     },
     "execution_count": 158,
     "metadata": {},
     "output_type": "execute_result"
    }
   ],
   "source": [
    "mydict2['key3']['k1'],mydict2['key3']['k2']"
   ]
  },
  {
   "cell_type": "code",
   "execution_count": 157,
   "metadata": {},
   "outputs": [
    {
     "data": {
      "text/plain": [
       "'a'"
      ]
     },
     "execution_count": 157,
     "metadata": {},
     "output_type": "execute_result"
    }
   ],
   "source": [
    "mydict2['key3']['k2']"
   ]
  },
  {
   "cell_type": "code",
   "execution_count": 160,
   "metadata": {},
   "outputs": [
    {
     "ename": "KeyError",
     "evalue": "0",
     "output_type": "error",
     "traceback": [
      "\u001b[1;31m---------------------------------------------------------------------------\u001b[0m",
      "\u001b[1;31mKeyError\u001b[0m                                  Traceback (most recent call last)",
      "\u001b[1;32m<ipython-input-160-778d1be03dd8>\u001b[0m in \u001b[0;36m<module>\u001b[1;34m\u001b[0m\n\u001b[0;32m      1\u001b[0m \u001b[1;31m### no indexes in a dictionary\u001b[0m\u001b[1;33m\u001b[0m\u001b[1;33m\u001b[0m\u001b[1;33m\u001b[0m\u001b[0m\n\u001b[1;32m----> 2\u001b[1;33m \u001b[0mmydict2\u001b[0m\u001b[1;33m[\u001b[0m\u001b[1;36m0\u001b[0m\u001b[1;33m]\u001b[0m\u001b[1;33m\u001b[0m\u001b[1;33m\u001b[0m\u001b[0m\n\u001b[0m",
      "\u001b[1;31mKeyError\u001b[0m: 0"
     ]
    }
   ],
   "source": [
    "### no indexes in a dictionary\n",
    "mydict2[0]"
   ]
  },
  {
   "cell_type": "code",
   "execution_count": 163,
   "metadata": {},
   "outputs": [
    {
     "data": {
      "text/plain": [
       "[1, 2, 3]"
      ]
     },
     "execution_count": 163,
     "metadata": {},
     "output_type": "execute_result"
    }
   ],
   "source": [
    "mydict2['key1'] "
   ]
  },
  {
   "cell_type": "code",
   "execution_count": 165,
   "metadata": {},
   "outputs": [],
   "source": [
    "mydict2['key1'] = (100,200)"
   ]
  },
  {
   "cell_type": "code",
   "execution_count": 166,
   "metadata": {},
   "outputs": [
    {
     "data": {
      "text/plain": [
       "{'key1': (100, 200),\n",
       " 'key2': [10, 2, 3],\n",
       " 'key3': {'k1': 1990, 'k2': 'a', 'k3': [1, 2, 3]},\n",
       " 'key4': 'i am a string'}"
      ]
     },
     "execution_count": 166,
     "metadata": {},
     "output_type": "execute_result"
    }
   ],
   "source": [
    "mydict2"
   ]
  },
  {
   "cell_type": "code",
   "execution_count": null,
   "metadata": {
    "colab": {
     "base_uri": "https://localhost:8080/"
    },
    "executionInfo": {
     "elapsed": 351,
     "status": "ok",
     "timestamp": 1637985838926,
     "user": {
      "displayName": "Guzayya Sarkhawas",
      "photoUrl": "https://lh3.googleusercontent.com/a-/AOh14Gh6Y3aTn0cCcUgPIhsH6M4pKaXp98WUI7DjcDkY=s64",
      "userId": "11368096894351094299"
     },
     "user_tz": -330
    },
    "id": "ZviKlRIlYLfY",
    "outputId": "0d4e07fd-b182-4c49-b4d9-f7d9ca357e0e"
   },
   "outputs": [
    {
     "name": "stdout",
     "output_type": "stream",
     "text": [
      "[1, 2, 3]\n",
      "2\n"
     ]
    }
   ],
   "source": [
    "### keys in dictionaries can be numbers\n",
    "mydict3= {1000 : [1,2,3],  2000 : (1,2,3)}\n",
    "print(mydict3[1000])\n",
    "print(mydict3[1000][1])"
   ]
  },
  {
   "cell_type": "code",
   "execution_count": null,
   "metadata": {
    "colab": {
     "base_uri": "https://localhost:8080/",
     "height": 130
    },
    "executionInfo": {
     "elapsed": 384,
     "status": "error",
     "timestamp": 1637985842979,
     "user": {
      "displayName": "Guzayya Sarkhawas",
      "photoUrl": "https://lh3.googleusercontent.com/a-/AOh14Gh6Y3aTn0cCcUgPIhsH6M4pKaXp98WUI7DjcDkY=s64",
      "userId": "11368096894351094299"
     },
     "user_tz": -330
    },
    "id": "ph_FRqPIYLfY",
    "outputId": "d2ea422e-d354-4dac-fc43-7d4163e23a72"
   },
   "outputs": [
    {
     "ename": "SyntaxError",
     "evalue": "ignored",
     "output_type": "error",
     "traceback": [
      "\u001b[0;36m  File \u001b[0;32m\"<ipython-input-11-fc775eac570a>\"\u001b[0;36m, line \u001b[0;32m2\u001b[0m\n\u001b[0;31m    mydict3= {$$$ : [1,2,3],  2000 : (1,2,3)}\u001b[0m\n\u001b[0m              ^\u001b[0m\n\u001b[0;31mSyntaxError\u001b[0m\u001b[0;31m:\u001b[0m invalid syntax\n"
     ]
    }
   ],
   "source": [
    "### special chars are not allowed while defining a dictionary key\n",
    "mydict3= {$$$ : [1,2,3],  2000 : (1,2,3)}\n"
   ]
  },
  {
   "cell_type": "markdown",
   "metadata": {
    "id": "LyMpP_OukxkM"
   },
   "source": [
    "### DICTIONARIES CANNOT HAVE A MUTABLE OBJECT AS KEY"
   ]
  },
  {
   "cell_type": "code",
   "execution_count": 159,
   "metadata": {
    "colab": {
     "base_uri": "https://localhost:8080/",
     "height": 182
    },
    "executionInfo": {
     "elapsed": 389,
     "status": "error",
     "timestamp": 1637986025776,
     "user": {
      "displayName": "Guzayya Sarkhawas",
      "photoUrl": "https://lh3.googleusercontent.com/a-/AOh14Gh6Y3aTn0cCcUgPIhsH6M4pKaXp98WUI7DjcDkY=s64",
      "userId": "11368096894351094299"
     },
     "user_tz": -330
    },
    "id": "REcb-W03YLfa",
    "outputId": "8a2449c2-52da-416f-c45d-bced4c0e7652"
   },
   "outputs": [
    {
     "ename": "TypeError",
     "evalue": "unhashable type: 'list'",
     "output_type": "error",
     "traceback": [
      "\u001b[1;31m---------------------------------------------------------------------------\u001b[0m",
      "\u001b[1;31mTypeError\u001b[0m                                 Traceback (most recent call last)",
      "\u001b[1;32m<ipython-input-159-b45536ccc91b>\u001b[0m in \u001b[0;36m<module>\u001b[1;34m\u001b[0m\n\u001b[0;32m      1\u001b[0m \u001b[1;31m### IN THIS CASE THERE IS A LIST [1,1] as a key AND RESULTS IN ERROR\u001b[0m\u001b[1;33m\u001b[0m\u001b[1;33m\u001b[0m\u001b[1;33m\u001b[0m\u001b[0m\n\u001b[1;32m----> 2\u001b[1;33m \u001b[0mmydict7\u001b[0m \u001b[1;33m=\u001b[0m \u001b[1;33m{\u001b[0m\u001b[1;33m[\u001b[0m\u001b[1;36m1\u001b[0m\u001b[1;33m,\u001b[0m \u001b[1;36m1\u001b[0m\u001b[1;33m]\u001b[0m\u001b[1;33m:\u001b[0m \u001b[1;34m'a'\u001b[0m\u001b[1;33m,\u001b[0m \u001b[1;33m(\u001b[0m\u001b[1;36m1\u001b[0m\u001b[1;33m,\u001b[0m \u001b[1;36m2\u001b[0m\u001b[1;33m)\u001b[0m\u001b[1;33m:\u001b[0m \u001b[1;34m'b'\u001b[0m\u001b[1;33m,\u001b[0m \u001b[1;33m(\u001b[0m\u001b[1;36m2\u001b[0m\u001b[1;33m,\u001b[0m \u001b[1;36m1\u001b[0m\u001b[1;33m)\u001b[0m\u001b[1;33m:\u001b[0m \u001b[1;34m'c'\u001b[0m\u001b[1;33m,\u001b[0m \u001b[1;33m(\u001b[0m\u001b[1;36m2\u001b[0m\u001b[1;33m,\u001b[0m \u001b[1;36m2\u001b[0m\u001b[1;33m)\u001b[0m\u001b[1;33m:\u001b[0m \u001b[1;34m'd'\u001b[0m\u001b[1;33m}\u001b[0m   \u001b[1;31m### this is NOT accepted\u001b[0m\u001b[1;33m\u001b[0m\u001b[1;33m\u001b[0m\u001b[0m\n\u001b[0m",
      "\u001b[1;31mTypeError\u001b[0m: unhashable type: 'list'"
     ]
    }
   ],
   "source": [
    "### IN THIS CASE THERE IS A LIST [1,1] as a key AND RESULTS IN ERROR\n",
    "mydict7 = {[1, 1]: 'a', (1, 2): 'b', (2, 1): 'c', (2, 2): 'd'}   ### this is NOT accepted\n"
   ]
  },
  {
   "cell_type": "code",
   "execution_count": null,
   "metadata": {},
   "outputs": [],
   "source": [
    "mydict770 = {{'k1': 1}: 'a', (1, 2): 'b', (2, 1): 'c', (2, 2): 'd'}   ### this is NOT accepted\n"
   ]
  },
  {
   "cell_type": "code",
   "execution_count": 130,
   "metadata": {
    "colab": {
     "base_uri": "https://localhost:8080/",
     "height": 182
    },
    "executionInfo": {
     "elapsed": 501,
     "status": "error",
     "timestamp": 1637986033980,
     "user": {
      "displayName": "Guzayya Sarkhawas",
      "photoUrl": "https://lh3.googleusercontent.com/a-/AOh14Gh6Y3aTn0cCcUgPIhsH6M4pKaXp98WUI7DjcDkY=s64",
      "userId": "11368096894351094299"
     },
     "user_tz": -330
    },
    "id": "xKreigOvYLfb",
    "outputId": "18d1f2b2-eb65-42e3-b2a9-60d9e9cb745c"
   },
   "outputs": [
    {
     "ename": "TypeError",
     "evalue": "unhashable type: 'dict'",
     "output_type": "error",
     "traceback": [
      "\u001b[1;31m---------------------------------------------------------------------------\u001b[0m",
      "\u001b[1;31mTypeError\u001b[0m                                 Traceback (most recent call last)",
      "\u001b[1;32m<ipython-input-130-83129df9eb81>\u001b[0m in \u001b[0;36m<module>\u001b[1;34m\u001b[0m\n\u001b[0;32m      1\u001b[0m \u001b[1;31m### even a dictionary will not work as a key -- as dictionary is mutable\u001b[0m\u001b[1;33m\u001b[0m\u001b[1;33m\u001b[0m\u001b[1;33m\u001b[0m\u001b[0m\n\u001b[1;32m----> 2\u001b[1;33m \u001b[0mmydict8\u001b[0m \u001b[1;33m=\u001b[0m \u001b[1;33m{\u001b[0m\u001b[1;33m{\u001b[0m\u001b[1;34m'k1'\u001b[0m\u001b[1;33m:\u001b[0m \u001b[1;36m1\u001b[0m\u001b[1;33m}\u001b[0m\u001b[1;33m:\u001b[0m \u001b[1;34m'a'\u001b[0m\u001b[1;33m,\u001b[0m \u001b[1;33m(\u001b[0m\u001b[1;36m1\u001b[0m\u001b[1;33m,\u001b[0m \u001b[1;36m2\u001b[0m\u001b[1;33m)\u001b[0m\u001b[1;33m:\u001b[0m \u001b[1;34m'b'\u001b[0m\u001b[1;33m,\u001b[0m \u001b[1;33m(\u001b[0m\u001b[1;36m2\u001b[0m\u001b[1;33m,\u001b[0m \u001b[1;36m1\u001b[0m\u001b[1;33m)\u001b[0m\u001b[1;33m:\u001b[0m \u001b[1;34m'c'\u001b[0m\u001b[1;33m,\u001b[0m \u001b[1;33m(\u001b[0m\u001b[1;36m2\u001b[0m\u001b[1;33m,\u001b[0m \u001b[1;36m2\u001b[0m\u001b[1;33m)\u001b[0m\u001b[1;33m:\u001b[0m \u001b[1;34m'd'\u001b[0m\u001b[1;33m}\u001b[0m   \u001b[1;31m### this is NOT accepted\u001b[0m\u001b[1;33m\u001b[0m\u001b[1;33m\u001b[0m\u001b[0m\n\u001b[0m",
      "\u001b[1;31mTypeError\u001b[0m: unhashable type: 'dict'"
     ]
    }
   ],
   "source": [
    "### even a dictionary will not work as a key -- as dictionary is mutable\n",
    "mydict8 = {{'k1': 1}: 'a', (1, 2): 'b', (2, 1): 'c', (2, 2): 'd'}   ### this is NOT accepted\n"
   ]
  },
  {
   "cell_type": "markdown",
   "metadata": {
    "id": "CfXp5Dh_YLfV"
   },
   "source": [
    "## 4.2 Indexing, Slicing in Dictionaries"
   ]
  },
  {
   "cell_type": "code",
   "execution_count": null,
   "metadata": {
    "colab": {
     "base_uri": "https://localhost:8080/"
    },
    "executionInfo": {
     "elapsed": 431,
     "status": "ok",
     "timestamp": 1637985827224,
     "user": {
      "displayName": "Guzayya Sarkhawas",
      "photoUrl": "https://lh3.googleusercontent.com/a-/AOh14Gh6Y3aTn0cCcUgPIhsH6M4pKaXp98WUI7DjcDkY=s64",
      "userId": "11368096894351094299"
     },
     "user_tz": -330
    },
    "id": "VzsXPm5sYLfW",
    "outputId": "713dba11-2552-40d3-9045-11da93467c14"
   },
   "outputs": [
    {
     "name": "stdout",
     "output_type": "stream",
     "text": [
      "{'listkey1': [10, 2, 3], 'dictkey': {'k1': 1990, 'k2': 'a', 'k3': [1, 2, 3]}, 'strkey': 'i am a string'}\n"
     ]
    }
   ],
   "source": [
    "print(mydict2)"
   ]
  },
  {
   "cell_type": "code",
   "execution_count": null,
   "metadata": {
    "colab": {
     "base_uri": "https://localhost:8080/"
    },
    "executionInfo": {
     "elapsed": 376,
     "status": "ok",
     "timestamp": 1637985831399,
     "user": {
      "displayName": "Guzayya Sarkhawas",
      "photoUrl": "https://lh3.googleusercontent.com/a-/AOh14Gh6Y3aTn0cCcUgPIhsH6M4pKaXp98WUI7DjcDkY=s64",
      "userId": "11368096894351094299"
     },
     "user_tz": -330
    },
    "id": "SzNJr6UDYLfX",
    "outputId": "7cce1600-4569-47f3-a9ab-2797302a3973"
   },
   "outputs": [
    {
     "data": {
      "text/plain": [
       "1990"
      ]
     },
     "execution_count": 8,
     "metadata": {},
     "output_type": "execute_result"
    }
   ],
   "source": [
    "### to grab the first element of the key \"dictkey\"\n",
    "mydict2['dictkey']['k1']"
   ]
  },
  {
   "cell_type": "markdown",
   "metadata": {
    "id": "U-4AhjSQk7nW"
   },
   "source": [
    "### SLICING OR SLICE NOTATION DOES NOT WORK"
   ]
  },
  {
   "cell_type": "code",
   "execution_count": null,
   "metadata": {
    "colab": {
     "base_uri": "https://localhost:8080/",
     "height": 182
    },
    "executionInfo": {
     "elapsed": 418,
     "status": "error",
     "timestamp": 1637986037670,
     "user": {
      "displayName": "Guzayya Sarkhawas",
      "photoUrl": "https://lh3.googleusercontent.com/a-/AOh14Gh6Y3aTn0cCcUgPIhsH6M4pKaXp98WUI7DjcDkY=s64",
      "userId": "11368096894351094299"
     },
     "user_tz": -330
    },
    "id": "Z9987_0xYLfb",
    "outputId": "2d7d015c-924a-4d6b-ec58-036ac22b172d"
   },
   "outputs": [
    {
     "ename": "KeyError",
     "evalue": "ignored",
     "output_type": "error",
     "traceback": [
      "\u001b[0;31m---------------------------------------------------------------------------\u001b[0m",
      "\u001b[0;31mKeyError\u001b[0m                                  Traceback (most recent call last)",
      "\u001b[0;32m<ipython-input-18-35b3ce61906c>\u001b[0m in \u001b[0;36m<module>\u001b[0;34m()\u001b[0m\n\u001b[1;32m      1\u001b[0m \u001b[0mmydict9\u001b[0m \u001b[0;34m=\u001b[0m  \u001b[0;34m{\u001b[0m\u001b[0;36m0\u001b[0m\u001b[0;34m:\u001b[0m \u001b[0;34m'a'\u001b[0m\u001b[0;34m,\u001b[0m \u001b[0;36m1\u001b[0m\u001b[0;34m:\u001b[0m \u001b[0;34m'b'\u001b[0m\u001b[0;34m,\u001b[0m \u001b[0;36m2\u001b[0m\u001b[0;34m:\u001b[0m \u001b[0;34m'c'\u001b[0m\u001b[0;34m,\u001b[0m \u001b[0;36m3\u001b[0m\u001b[0;34m:\u001b[0m \u001b[0;34m'd'\u001b[0m\u001b[0;34m}\u001b[0m\u001b[0;34m\u001b[0m\u001b[0;34m\u001b[0m\u001b[0m\n\u001b[0;32m----> 2\u001b[0;31m \u001b[0mprint\u001b[0m\u001b[0;34m(\u001b[0m\u001b[0mmydict9\u001b[0m\u001b[0;34m[\u001b[0m\u001b[0;34m-\u001b[0m\u001b[0;36m1\u001b[0m\u001b[0;34m]\u001b[0m\u001b[0;34m)\u001b[0m\u001b[0;34m\u001b[0m\u001b[0;34m\u001b[0m\u001b[0m\n\u001b[0m",
      "\u001b[0;31mKeyError\u001b[0m: -1"
     ]
    }
   ],
   "source": [
    "mydict9 =  {0: 'a', 1: 'b', 2: 'c', 3: 'd'}\n",
    "print(mydict9[-1])"
   ]
  },
  {
   "cell_type": "code",
   "execution_count": null,
   "metadata": {
    "colab": {
     "base_uri": "https://localhost:8080/",
     "height": 182
    },
    "executionInfo": {
     "elapsed": 433,
     "status": "error",
     "timestamp": 1637986045437,
     "user": {
      "displayName": "Guzayya Sarkhawas",
      "photoUrl": "https://lh3.googleusercontent.com/a-/AOh14Gh6Y3aTn0cCcUgPIhsH6M4pKaXp98WUI7DjcDkY=s64",
      "userId": "11368096894351094299"
     },
     "user_tz": -330
    },
    "id": "y84T7MBbYLfc",
    "outputId": "89aa56d0-a53c-4745-c052-d8cff2167abf"
   },
   "outputs": [
    {
     "ename": "TypeError",
     "evalue": "ignored",
     "output_type": "error",
     "traceback": [
      "\u001b[0;31m---------------------------------------------------------------------------\u001b[0m",
      "\u001b[0;31mTypeError\u001b[0m                                 Traceback (most recent call last)",
      "\u001b[0;32m<ipython-input-19-5eab023a279c>\u001b[0m in \u001b[0;36m<module>\u001b[0;34m()\u001b[0m\n\u001b[1;32m      1\u001b[0m \u001b[0;31m### SLICING OR SLICE NOTATION DOES NOT WORK\u001b[0m\u001b[0;34m\u001b[0m\u001b[0;34m\u001b[0m\u001b[0;34m\u001b[0m\u001b[0m\n\u001b[0;32m----> 2\u001b[0;31m \u001b[0mprint\u001b[0m\u001b[0;34m(\u001b[0m\u001b[0mmydict9\u001b[0m\u001b[0;34m[\u001b[0m\u001b[0;36m0\u001b[0m\u001b[0;34m:\u001b[0m\u001b[0;36m2\u001b[0m\u001b[0;34m]\u001b[0m\u001b[0;34m)\u001b[0m     \u001b[0;31m#### NOT ACCEPTABLE\u001b[0m\u001b[0;34m\u001b[0m\u001b[0;34m\u001b[0m\u001b[0m\n\u001b[0m",
      "\u001b[0;31mTypeError\u001b[0m: unhashable type: 'slice'"
     ]
    }
   ],
   "source": [
    "print(mydict9[0:2])     #### NOT ACCEPTABLE\n"
   ]
  },
  {
   "cell_type": "markdown",
   "metadata": {
    "id": "gJ0hrHYMk_ZX"
   },
   "source": [
    "## 4.3 Methods in dictionaries\n",
    "- Python has various methods to work in dictionaries:\n",
    "  - keys()\n",
    "  - values()\n",
    "  - items()\n",
    "  - get()\n",
    "  - update() and many more\n"
   ]
  },
  {
   "cell_type": "code",
   "execution_count": 167,
   "metadata": {
    "id": "7ZpsugEvYLfc"
   },
   "outputs": [],
   "source": [
    "mydict10 = {'key1':123,'key2':[12,23,33],'key3':['item0','item1','item2'],'key4':{'sk1':1,'sk2':2}}"
   ]
  },
  {
   "cell_type": "markdown",
   "metadata": {
    "id": "g92NjthMmFvb"
   },
   "source": [
    "### keys() method\n",
    "- The keys() method returns a view object\n",
    "- The view object contains the keys of the dictionary, as a list\n",
    "- The view object will reflect any changes done to the dictionary"
   ]
  },
  {
   "cell_type": "code",
   "execution_count": 169,
   "metadata": {
    "colab": {
     "base_uri": "https://localhost:8080/"
    },
    "executionInfo": {
     "elapsed": 374,
     "status": "ok",
     "timestamp": 1637986100977,
     "user": {
      "displayName": "Guzayya Sarkhawas",
      "photoUrl": "https://lh3.googleusercontent.com/a-/AOh14Gh6Y3aTn0cCcUgPIhsH6M4pKaXp98WUI7DjcDkY=s64",
      "userId": "11368096894351094299"
     },
     "user_tz": -330
    },
    "id": "RjNeKHIbYLfc",
    "outputId": "61453367-51e8-4fdc-ba4e-85455e50e90c"
   },
   "outputs": [
    {
     "data": {
      "text/plain": [
       "dict_keys(['key1', 'key2', 'key3', 'key4'])"
      ]
     },
     "execution_count": 169,
     "metadata": {},
     "output_type": "execute_result"
    }
   ],
   "source": [
    "### to get the keys in a dictionary\n",
    "mydict10.keys()"
   ]
  },
  {
   "cell_type": "markdown",
   "metadata": {
    "id": "kpcPiiWiuH2m"
   },
   "source": [
    "### values() method\n",
    "- The values() method returns a view object\n",
    "- The view object contains the values of the dictionary, as a list\n",
    "- The view object will reflect any changes done to the dictionary\n",
    "\n"
   ]
  },
  {
   "cell_type": "code",
   "execution_count": 175,
   "metadata": {},
   "outputs": [
    {
     "data": {
      "text/plain": [
       "{'key1': 123,\n",
       " 'key2': [12, 23, 33],\n",
       " 'key3': ['item0', 'item1', 'item2'],\n",
       " 'key4': {'sk1': 1, 'sk2': 2},\n",
       " 'key0': [22, 23],\n",
       " 'key5': {'sk3': 10, 'sk4': 20}}"
      ]
     },
     "execution_count": 175,
     "metadata": {},
     "output_type": "execute_result"
    }
   ],
   "source": [
    "mydict10"
   ]
  },
  {
   "cell_type": "code",
   "execution_count": 177,
   "metadata": {},
   "outputs": [
    {
     "data": {
      "text/plain": [
       "dict_items([('key1', 123), ('key2', [12, 23, 33]), ('key3', ['item0', 'item1', 'item2']), ('key4', {'sk1': 1, 'sk2': 2}), ('key0', [22, 23]), ('key5', {'sk3': 10, 'sk4': 20})])"
      ]
     },
     "execution_count": 177,
     "metadata": {},
     "output_type": "execute_result"
    }
   ],
   "source": [
    "mydict10.items()"
   ]
  },
  {
   "cell_type": "code",
   "execution_count": 179,
   "metadata": {},
   "outputs": [
    {
     "data": {
      "text/plain": [
       "dict_keys(['key1', 'key2', 'key3', 'key4', 'key0', 'key5'])"
      ]
     },
     "execution_count": 179,
     "metadata": {},
     "output_type": "execute_result"
    }
   ],
   "source": [
    "mydict10.keys()"
   ]
  },
  {
   "cell_type": "code",
   "execution_count": 180,
   "metadata": {},
   "outputs": [
    {
     "data": {
      "text/plain": [
       "dict_values([123, [12, 23, 33], ['item0', 'item1', 'item2'], {'sk1': 1, 'sk2': 2}, [22, 23], {'sk3': 10, 'sk4': 20}])"
      ]
     },
     "execution_count": 180,
     "metadata": {},
     "output_type": "execute_result"
    }
   ],
   "source": [
    "mydict10.values()"
   ]
  },
  {
   "cell_type": "code",
   "execution_count": 170,
   "metadata": {
    "colab": {
     "base_uri": "https://localhost:8080/"
    },
    "executionInfo": {
     "elapsed": 1684,
     "status": "ok",
     "timestamp": 1637988558224,
     "user": {
      "displayName": "Guzayya Sarkhawas",
      "photoUrl": "https://lh3.googleusercontent.com/a-/AOh14Gh6Y3aTn0cCcUgPIhsH6M4pKaXp98WUI7DjcDkY=s64",
      "userId": "11368096894351094299"
     },
     "user_tz": -330
    },
    "id": "br_ImWAVYLfe",
    "outputId": "9a6ccd22-dce6-4976-d0ee-82b2af860fbb"
   },
   "outputs": [
    {
     "data": {
      "text/plain": [
       "dict_values([123, [12, 23, 33], ['item0', 'item1', 'item2'], {'sk1': 1, 'sk2': 2}])"
      ]
     },
     "execution_count": 170,
     "metadata": {},
     "output_type": "execute_result"
    }
   ],
   "source": [
    "### to get the values in a dictionary\n",
    "mydict10.values()"
   ]
  },
  {
   "cell_type": "markdown",
   "metadata": {
    "id": "LJlxlaF2ufuS"
   },
   "source": [
    "### items() method\n",
    "- The items() method returns a view object\n",
    "- The view object contains the key-value pairs of the dictionary, as tuples in a list\n",
    "- The view object will reflect any changes done to the dictionary"
   ]
  },
  {
   "cell_type": "code",
   "execution_count": 171,
   "metadata": {
    "colab": {
     "base_uri": "https://localhost:8080/"
    },
    "executionInfo": {
     "elapsed": 456,
     "status": "ok",
     "timestamp": 1637988661767,
     "user": {
      "displayName": "Guzayya Sarkhawas",
      "photoUrl": "https://lh3.googleusercontent.com/a-/AOh14Gh6Y3aTn0cCcUgPIhsH6M4pKaXp98WUI7DjcDkY=s64",
      "userId": "11368096894351094299"
     },
     "user_tz": -330
    },
    "id": "A3JZBewKYLff",
    "outputId": "c045e9f1-1fee-47ca-bab8-162980adf3b0"
   },
   "outputs": [
    {
     "data": {
      "text/plain": [
       "dict_items([('key1', 123), ('key2', [12, 23, 33]), ('key3', ['item0', 'item1', 'item2']), ('key4', {'sk1': 1, 'sk2': 2})])"
      ]
     },
     "execution_count": 171,
     "metadata": {},
     "output_type": "execute_result"
    }
   ],
   "source": [
    "### to get the items(key and value) in a dictionary\n",
    "mydict10.items()"
   ]
  },
  {
   "cell_type": "markdown",
   "metadata": {
    "id": "0KTAsY0qvL4d"
   },
   "source": [
    "### get() method\n",
    "- The get() method returns the value of the item with the specified key"
   ]
  },
  {
   "cell_type": "code",
   "execution_count": 182,
   "metadata": {
    "colab": {
     "base_uri": "https://localhost:8080/"
    },
    "executionInfo": {
     "elapsed": 398,
     "status": "ok",
     "timestamp": 1637988782736,
     "user": {
      "displayName": "Guzayya Sarkhawas",
      "photoUrl": "https://lh3.googleusercontent.com/a-/AOh14Gh6Y3aTn0cCcUgPIhsH6M4pKaXp98WUI7DjcDkY=s64",
      "userId": "11368096894351094299"
     },
     "user_tz": -330
    },
    "id": "hXjblMunvQm0",
    "outputId": "65fcc611-781e-4fdf-c965-ca5344985ce0"
   },
   "outputs": [
    {
     "data": {
      "text/plain": [
       "[12, 23, 33]"
      ]
     },
     "execution_count": 182,
     "metadata": {},
     "output_type": "execute_result"
    }
   ],
   "source": [
    "mydict10.get('key2')"
   ]
  },
  {
   "cell_type": "code",
   "execution_count": 183,
   "metadata": {},
   "outputs": [
    {
     "data": {
      "text/plain": [
       "[12, 23, 33]"
      ]
     },
     "execution_count": 183,
     "metadata": {},
     "output_type": "execute_result"
    }
   ],
   "source": [
    "mydict10['key2']"
   ]
  },
  {
   "cell_type": "markdown",
   "metadata": {
    "id": "53o-jqhmxv_W"
   },
   "source": [
    "### update() method\n",
    "- Dictionaries are mutable (only the keys are immutable)\n",
    "- Changing a value of a given key\n",
    "- The update() method inserts the specified items to the dictionary\n",
    "- The specified items can be a dictionary, or an iterable object with key value pairs\n",
    "\n"
   ]
  },
  {
   "cell_type": "code",
   "execution_count": 184,
   "metadata": {},
   "outputs": [
    {
     "data": {
      "text/plain": [
       "{'key1': 123,\n",
       " 'key2': [12, 23, 33],\n",
       " 'key3': ['item0', 'item1', 'item2'],\n",
       " 'key4': {'sk1': 1, 'sk2': 2},\n",
       " 'key0': [22, 23],\n",
       " 'key5': {'sk3': 10, 'sk4': 20}}"
      ]
     },
     "execution_count": 184,
     "metadata": {},
     "output_type": "execute_result"
    }
   ],
   "source": [
    "mydict10"
   ]
  },
  {
   "cell_type": "code",
   "execution_count": 186,
   "metadata": {
    "colab": {
     "base_uri": "https://localhost:8080/"
    },
    "executionInfo": {
     "elapsed": 411,
     "status": "ok",
     "timestamp": 1637989746386,
     "user": {
      "displayName": "Guzayya Sarkhawas",
      "photoUrl": "https://lh3.googleusercontent.com/a-/AOh14Gh6Y3aTn0cCcUgPIhsH6M4pKaXp98WUI7DjcDkY=s64",
      "userId": "11368096894351094299"
     },
     "user_tz": -330
    },
    "id": "0DktMQDXyBrW",
    "outputId": "33975cec-7853-4824-fc12-87243a449a93"
   },
   "outputs": [
    {
     "data": {
      "text/plain": [
       "{'key1': 123,\n",
       " 'key2': [12, 23, 33],\n",
       " 'key3': ['item0', 'item1', 'item2'],\n",
       " 'key4': {'sk1': 1, 'sk2': 2},\n",
       " 'key0': [100, 'abc'],\n",
       " 'key5': {'CHG': 10, 'sk4': 20}}"
      ]
     },
     "execution_count": 186,
     "metadata": {},
     "output_type": "execute_result"
    }
   ],
   "source": [
    "mydict10.update({'key0':[100, \"abc\"], 'key5': {'CHG': 10, 'sk4': 20} })\n",
    "mydict10"
   ]
  },
  {
   "cell_type": "code",
   "execution_count": 188,
   "metadata": {},
   "outputs": [
    {
     "data": {
      "text/plain": [
       "{'key1': 123,\n",
       " 'key2': [12, 23, 33],\n",
       " 'key3': ['item0', 'item1', 'item2'],\n",
       " 'key4': {'sk1': 1, 'sk2': 2},\n",
       " 'key0': [100, 'abc'],\n",
       " 'key5': {'CHG': 10, 'sk4': 20},\n",
       " 'key10': [100, 'abc']}"
      ]
     },
     "execution_count": 188,
     "metadata": {},
     "output_type": "execute_result"
    }
   ],
   "source": [
    "mydict10.update({'key10':[100, \"abc\"]})\n",
    "mydict10"
   ]
  },
  {
   "cell_type": "code",
   "execution_count": 190,
   "metadata": {},
   "outputs": [
    {
     "data": {
      "text/plain": [
       "{'key1': 123,\n",
       " 'key2': [12, 23, 33],\n",
       " 'key3': ['item0', 'item1', 'item2'],\n",
       " 'key4': {'sk1': 1, 'sk2': 2},\n",
       " 'key0': [100, 'abc'],\n",
       " 'key5': {'CHG': 10, 'sk4': 20},\n",
       " 'key10': [100, 'abc', 299.99]}"
      ]
     },
     "execution_count": 190,
     "metadata": {},
     "output_type": "execute_result"
    }
   ],
   "source": [
    "mydict10.update({'key10':[100, \"abc\",299.99]})\n",
    "mydict10"
   ]
  },
  {
   "cell_type": "code",
   "execution_count": 192,
   "metadata": {},
   "outputs": [],
   "source": [
    "mydict10['key10'] = [100,200]"
   ]
  },
  {
   "cell_type": "code",
   "execution_count": 193,
   "metadata": {},
   "outputs": [
    {
     "data": {
      "text/plain": [
       "{'key1': 123,\n",
       " 'key2': [12, 23, 33],\n",
       " 'key3': ['item0', 'item1', 'item2'],\n",
       " 'key4': {'sk1': 1, 'sk2': 2},\n",
       " 'key0': [100, 'abc'],\n",
       " 'key5': {'CHG': 10, 'sk4': 20},\n",
       " 'key10': [100, 200]}"
      ]
     },
     "execution_count": 193,
     "metadata": {},
     "output_type": "execute_result"
    }
   ],
   "source": [
    "mydict10"
   ]
  },
  {
   "cell_type": "markdown",
   "metadata": {
    "id": "9gl3AeP-YLfv"
   },
   "source": [
    "---"
   ]
  },
  {
   "cell_type": "markdown",
   "metadata": {
    "id": "P1-6oQqf2KgQ"
   },
   "source": [
    "# 5. Sets in Python\n",
    "- An unordered collection data type\n",
    "- Iterable and mutable\n",
    "- Do not allow duplicate elements\n",
    "-  Since sets are unordered, we cannot access items using indexes like we do in lists\n",
    "-  Python’s Set class represents the mathematical notion of a set\n",
    "- The major advantage of using a set, as opposed to a list, is that it has a highly optimized method for checking whether a specific element is contained in the set"
   ]
  },
  {
   "cell_type": "markdown",
   "metadata": {
    "id": "bb9uJ97z2Q3T"
   },
   "source": [
    "## 5.1 Sets Examples"
   ]
  },
  {
   "cell_type": "code",
   "execution_count": null,
   "metadata": {
    "colab": {
     "base_uri": "https://localhost:8080/"
    },
    "executionInfo": {
     "elapsed": 392,
     "status": "ok",
     "timestamp": 1637991049113,
     "user": {
      "displayName": "Guzayya Sarkhawas",
      "photoUrl": "https://lh3.googleusercontent.com/a-/AOh14Gh6Y3aTn0cCcUgPIhsH6M4pKaXp98WUI7DjcDkY=s64",
      "userId": "11368096894351094299"
     },
     "user_tz": -330
    },
    "id": "4zM7BfBZ2OH-",
    "outputId": "fddb9a6d-92f1-4c4f-ae46-78d82710aa84"
   },
   "outputs": [
    {
     "data": {
      "text/plain": [
       "{11, 22, 33}"
      ]
     },
     "execution_count": 48,
     "metadata": {},
     "output_type": "execute_result"
    }
   ],
   "source": [
    "# We can create sets using set() in build function or putting elements in {}\n",
    "new_set = {11, 22, 33}\n",
    "new_set"
   ]
  },
  {
   "cell_type": "code",
   "execution_count": null,
   "metadata": {
    "colab": {
     "base_uri": "https://localhost:8080/"
    },
    "executionInfo": {
     "elapsed": 383,
     "status": "ok",
     "timestamp": 1637991055985,
     "user": {
      "displayName": "Guzayya Sarkhawas",
      "photoUrl": "https://lh3.googleusercontent.com/a-/AOh14Gh6Y3aTn0cCcUgPIhsH6M4pKaXp98WUI7DjcDkY=s64",
      "userId": "11368096894351094299"
     },
     "user_tz": -330
    },
    "id": "NLXInTjk3-Jc",
    "outputId": "bcac047e-458c-4144-ca76-340f0b2f388e"
   },
   "outputs": [
    {
     "data": {
      "text/plain": [
       "set"
      ]
     },
     "execution_count": 49,
     "metadata": {},
     "output_type": "execute_result"
    }
   ],
   "source": [
    "type(new_set)"
   ]
  },
  {
   "cell_type": "code",
   "execution_count": null,
   "metadata": {
    "colab": {
     "base_uri": "https://localhost:8080/"
    },
    "executionInfo": {
     "elapsed": 371,
     "status": "ok",
     "timestamp": 1637991260991,
     "user": {
      "displayName": "Guzayya Sarkhawas",
      "photoUrl": "https://lh3.googleusercontent.com/a-/AOh14Gh6Y3aTn0cCcUgPIhsH6M4pKaXp98WUI7DjcDkY=s64",
      "userId": "11368096894351094299"
     },
     "user_tz": -330
    },
    "id": "X6vyaQiN4SeH",
    "outputId": "948c244c-5bc0-491b-f8bb-3f45715166cc"
   },
   "outputs": [
    {
     "data": {
      "text/plain": [
       "3"
      ]
     },
     "execution_count": 53,
     "metadata": {},
     "output_type": "execute_result"
    }
   ],
   "source": [
    "# check the length of set\n",
    "len(new_set)"
   ]
  },
  {
   "cell_type": "code",
   "execution_count": null,
   "metadata": {
    "colab": {
     "base_uri": "https://localhost:8080/"
    },
    "executionInfo": {
     "elapsed": 389,
     "status": "ok",
     "timestamp": 1637991084102,
     "user": {
      "displayName": "Guzayya Sarkhawas",
      "photoUrl": "https://lh3.googleusercontent.com/a-/AOh14Gh6Y3aTn0cCcUgPIhsH6M4pKaXp98WUI7DjcDkY=s64",
      "userId": "11368096894351094299"
     },
     "user_tz": -330
    },
    "id": "wOcwqez13_6H",
    "outputId": "ba1fb64a-7b04-49bb-969d-5d4b6e6550a7"
   },
   "outputs": [
    {
     "data": {
      "text/plain": [
       "{13, 14, 16, 45}"
      ]
     },
     "execution_count": 50,
     "metadata": {},
     "output_type": "execute_result"
    }
   ],
   "source": [
    "new_set1 = set([13, 14, 16, 45])\n",
    "new_set1"
   ]
  },
  {
   "cell_type": "code",
   "execution_count": null,
   "metadata": {
    "colab": {
     "base_uri": "https://localhost:8080/"
    },
    "executionInfo": {
     "elapsed": 363,
     "status": "ok",
     "timestamp": 1637991147342,
     "user": {
      "displayName": "Guzayya Sarkhawas",
      "photoUrl": "https://lh3.googleusercontent.com/a-/AOh14Gh6Y3aTn0cCcUgPIhsH6M4pKaXp98WUI7DjcDkY=s64",
      "userId": "11368096894351094299"
     },
     "user_tz": -330
    },
    "id": "1km3XNib4Gwg",
    "outputId": "e4a80275-fbf4-4a7e-a6ab-69e284889238"
   },
   "outputs": [
    {
     "data": {
      "text/plain": [
       "{1, 3, 5, 10}"
      ]
     },
     "execution_count": 52,
     "metadata": {},
     "output_type": "execute_result"
    }
   ],
   "source": [
    "# set does not allow duplicate values\n",
    "new_set2 = set([1, 3, 3, 5, 10])\n",
    "new_set2   # returns only unique values"
   ]
  },
  {
   "cell_type": "code",
   "execution_count": null,
   "metadata": {
    "colab": {
     "base_uri": "https://localhost:8080/"
    },
    "executionInfo": {
     "elapsed": 381,
     "status": "ok",
     "timestamp": 1637991343255,
     "user": {
      "displayName": "Guzayya Sarkhawas",
      "photoUrl": "https://lh3.googleusercontent.com/a-/AOh14Gh6Y3aTn0cCcUgPIhsH6M4pKaXp98WUI7DjcDkY=s64",
      "userId": "11368096894351094299"
     },
     "user_tz": -330
    },
    "id": "-Quw4k_T4x9R",
    "outputId": "ce5a20d8-90d6-48df-e68c-4a91bd580298"
   },
   "outputs": [
    {
     "data": {
      "text/plain": [
       "{4, 40, 'ABC', 'Male', True}"
      ]
     },
     "execution_count": 54,
     "metadata": {},
     "output_type": "execute_result"
    }
   ],
   "source": [
    "# set can have different data types\n",
    "set1 = {\"ABC\", 4, True, 40, \"Male\"}\n",
    "set1"
   ]
  },
  {
   "cell_type": "markdown",
   "metadata": {
    "id": "91hD-OP55H5t"
   },
   "source": [
    "## 5.2 Frozen Set\n",
    "- Frozen sets are a native data type in Python that have the qualities of sets including class methods — but are immutable like tuples\n",
    "- To use a frozen set, call the function frozenset() and pass an iterable as the argument\n",
    "- If you pass a set to the function, it will return the same set, which is now immutable"
   ]
  },
  {
   "cell_type": "code",
   "execution_count": null,
   "metadata": {
    "colab": {
     "base_uri": "https://localhost:8080/"
    },
    "executionInfo": {
     "elapsed": 379,
     "status": "ok",
     "timestamp": 1637991695020,
     "user": {
      "displayName": "Guzayya Sarkhawas",
      "photoUrl": "https://lh3.googleusercontent.com/a-/AOh14Gh6Y3aTn0cCcUgPIhsH6M4pKaXp98WUI7DjcDkY=s64",
      "userId": "11368096894351094299"
     },
     "user_tz": -330
    },
    "id": "N8wu8Tyi5F8q",
    "outputId": "a93684df-0786-4d82-e118-21707a84a2ea"
   },
   "outputs": [
    {
     "name": "stdout",
     "output_type": "stream",
     "text": [
      "frozenset Object is : frozenset({1, 2, 3, 4, 5, 6, 7, 8, 9}) \n"
     ]
    }
   ],
   "source": [
    "numbers = (1, 2, 3, 4, 5, 6, 7, 8, 9)\n",
    " \n",
    "# Lets convert tuple to frozenset\n",
    "frozen_numbers = frozenset(numbers)\n",
    "print(f\"frozenset Object is : {frozen_numbers} \")"
   ]
  },
  {
   "cell_type": "code",
   "execution_count": null,
   "metadata": {
    "colab": {
     "base_uri": "https://localhost:8080/"
    },
    "executionInfo": {
     "elapsed": 393,
     "status": "ok",
     "timestamp": 1637991820354,
     "user": {
      "displayName": "Guzayya Sarkhawas",
      "photoUrl": "https://lh3.googleusercontent.com/a-/AOh14Gh6Y3aTn0cCcUgPIhsH6M4pKaXp98WUI7DjcDkY=s64",
      "userId": "11368096894351094299"
     },
     "user_tz": -330
    },
    "id": "jiIUM-b56b6y",
    "outputId": "beefbe46-c408-4f56-eb6c-f16938d9a9d1"
   },
   "outputs": [
    {
     "name": "stdout",
     "output_type": "stream",
     "text": [
      "The frozen set is: frozenset({'college', 'name', 'sex', 'address', 'age'}) \n"
     ]
    }
   ],
   "source": [
    "professor = {\"name\": \"Raj\", \"age\": 42, \"sex\": \"Male\",\n",
    "           \"college\": \"NIT Aurangabad\", \"address\": \"Aurangabad\"}\n",
    " \n",
    "# Lets make keys of dictionary as frozenset\n",
    "frozen_keys = frozenset(professor)\n",
    "print(f\"The frozen set is: {frozen_keys} \")"
   ]
  },
  {
   "cell_type": "markdown",
   "metadata": {
    "id": "See62X-q7D_e"
   },
   "source": [
    "### Frozenset object is immuable, throws error if trying to change value"
   ]
  },
  {
   "cell_type": "code",
   "execution_count": null,
   "metadata": {
    "colab": {
     "base_uri": "https://localhost:8080/",
     "height": 200
    },
    "executionInfo": {
     "elapsed": 388,
     "status": "error",
     "timestamp": 1637991972438,
     "user": {
      "displayName": "Guzayya Sarkhawas",
      "photoUrl": "https://lh3.googleusercontent.com/a-/AOh14Gh6Y3aTn0cCcUgPIhsH6M4pKaXp98WUI7DjcDkY=s64",
      "userId": "11368096894351094299"
     },
     "user_tz": -330
    },
    "id": "eDc5eCkR66f3",
    "outputId": "dab260b1-0ad3-4a11-f7fa-460d646381d0"
   },
   "outputs": [
    {
     "ename": "TypeError",
     "evalue": "ignored",
     "output_type": "error",
     "traceback": [
      "\u001b[0;31m---------------------------------------------------------------------------\u001b[0m",
      "\u001b[0;31mTypeError\u001b[0m                                 Traceback (most recent call last)",
      "\u001b[0;32m<ipython-input-57-7f2ecc8bcc59>\u001b[0m in \u001b[0;36m<module>\u001b[0;34m()\u001b[0m\n\u001b[1;32m      4\u001b[0m \u001b[0;34m\u001b[0m\u001b[0m\n\u001b[1;32m      5\u001b[0m \u001b[0;31m# throws error for:\u001b[0m\u001b[0;34m\u001b[0m\u001b[0;34m\u001b[0m\u001b[0;34m\u001b[0m\u001b[0m\n\u001b[0;32m----> 6\u001b[0;31m \u001b[0mfrozen_languages\u001b[0m\u001b[0;34m[\u001b[0m\u001b[0;36m1\u001b[0m\u001b[0;34m]\u001b[0m \u001b[0;34m=\u001b[0m \u001b[0;34m\"C\"\u001b[0m\u001b[0;34m\u001b[0m\u001b[0;34m\u001b[0m\u001b[0m\n\u001b[0m",
      "\u001b[0;31mTypeError\u001b[0m: 'frozenset' object does not support item assignment"
     ]
    }
   ],
   "source": [
    "languages = [\"Python\", \"Java\", \"C++\"]\n",
    "\n",
    "frozen_languages = frozenset(languages)\n",
    "\n",
    "# throws error for:\n",
    "frozen_languages[1] = \"C\""
   ]
  },
  {
   "cell_type": "markdown",
   "metadata": {
    "id": "hoi3wusz7o_o"
   },
   "source": [
    "## 5.3 Set methods in Python\n",
    "- add()\n",
    "- union()\n",
    "- intersection()\n",
    "- difference() and more"
   ]
  },
  {
   "cell_type": "markdown",
   "metadata": {
    "id": "e3mD9HZl8CxB"
   },
   "source": [
    "### add() method\n",
    "- The add() method adds an element to the set\n",
    "- If the element already exists, the add() method does not add the element"
   ]
  },
  {
   "cell_type": "code",
   "execution_count": null,
   "metadata": {
    "colab": {
     "base_uri": "https://localhost:8080/"
    },
    "executionInfo": {
     "elapsed": 636,
     "status": "ok",
     "timestamp": 1637992228502,
     "user": {
      "displayName": "Guzayya Sarkhawas",
      "photoUrl": "https://lh3.googleusercontent.com/a-/AOh14Gh6Y3aTn0cCcUgPIhsH6M4pKaXp98WUI7DjcDkY=s64",
      "userId": "11368096894351094299"
     },
     "user_tz": -330
    },
    "id": "R-dIZHRt7fpp",
    "outputId": "164fd2e0-4381-42f4-a5bc-5f3088d2b702"
   },
   "outputs": [
    {
     "data": {
      "text/plain": [
       "{11, 22, 33}"
      ]
     },
     "execution_count": 58,
     "metadata": {},
     "output_type": "execute_result"
    }
   ],
   "source": [
    "new_set"
   ]
  },
  {
   "cell_type": "code",
   "execution_count": null,
   "metadata": {
    "id": "kYUePl9p8eFy"
   },
   "outputs": [],
   "source": [
    "new_set.add(44)"
   ]
  },
  {
   "cell_type": "code",
   "execution_count": null,
   "metadata": {
    "colab": {
     "base_uri": "https://localhost:8080/"
    },
    "executionInfo": {
     "elapsed": 383,
     "status": "ok",
     "timestamp": 1637992243940,
     "user": {
      "displayName": "Guzayya Sarkhawas",
      "photoUrl": "https://lh3.googleusercontent.com/a-/AOh14Gh6Y3aTn0cCcUgPIhsH6M4pKaXp98WUI7DjcDkY=s64",
      "userId": "11368096894351094299"
     },
     "user_tz": -330
    },
    "id": "hUGnwXE68gjc",
    "outputId": "426cf4b4-0eb4-426d-e08a-51527794cb07"
   },
   "outputs": [
    {
     "data": {
      "text/plain": [
       "{11, 22, 33, 44}"
      ]
     },
     "execution_count": 60,
     "metadata": {},
     "output_type": "execute_result"
    }
   ],
   "source": [
    "new_set"
   ]
  },
  {
   "cell_type": "code",
   "execution_count": null,
   "metadata": {
    "colab": {
     "base_uri": "https://localhost:8080/"
    },
    "executionInfo": {
     "elapsed": 366,
     "status": "ok",
     "timestamp": 1637992256984,
     "user": {
      "displayName": "Guzayya Sarkhawas",
      "photoUrl": "https://lh3.googleusercontent.com/a-/AOh14Gh6Y3aTn0cCcUgPIhsH6M4pKaXp98WUI7DjcDkY=s64",
      "userId": "11368096894351094299"
     },
     "user_tz": -330
    },
    "id": "sBE5AcNq8h8Q",
    "outputId": "f506943a-ef34-4343-df79-e54d94f2c105"
   },
   "outputs": [
    {
     "data": {
      "text/plain": [
       "{11, 22, 33, 44}"
      ]
     },
     "execution_count": 61,
     "metadata": {},
     "output_type": "execute_result"
    }
   ],
   "source": [
    "new_set.add(11)\n",
    "new_set  # does not add if already present in set"
   ]
  },
  {
   "cell_type": "markdown",
   "metadata": {
    "id": "rllFfFjU8qKf"
   },
   "source": [
    "### union() method\n",
    "- The union() method returns a set that contains all items from the original set, and all items from the specified set(s)\n",
    "- We can specify as many sets you want, separated by commas\n",
    "- It does not have to be a set, it can be any iterable object\n",
    "- If an item is present in more than one set, the result will contain only one appearance of this item"
   ]
  },
  {
   "cell_type": "code",
   "execution_count": null,
   "metadata": {
    "colab": {
     "base_uri": "https://localhost:8080/"
    },
    "executionInfo": {
     "elapsed": 364,
     "status": "ok",
     "timestamp": 1637992532314,
     "user": {
      "displayName": "Guzayya Sarkhawas",
      "photoUrl": "https://lh3.googleusercontent.com/a-/AOh14Gh6Y3aTn0cCcUgPIhsH6M4pKaXp98WUI7DjcDkY=s64",
      "userId": "11368096894351094299"
     },
     "user_tz": -330
    },
    "id": "JwgJeLgY8lH_",
    "outputId": "1f37eaba-1a24-4a83-eb71-27d0896c0350"
   },
   "outputs": [
    {
     "name": "stdout",
     "output_type": "stream",
     "text": [
      "{'data', 'Python', 'NLP', 'Ensemble'}\n"
     ]
    }
   ],
   "source": [
    "# Union of sets \n",
    "new_set4 = {\"Python\", \"data\"}   \n",
    "ml = {\"Linear regression\", \"KNN\"} \n",
    "dl = {\"Ensemble\", \"NLP\"} \n",
    "language = {\"Python\", \"R\"} \n",
    "data_science = new_set4.union(dl)\n",
    "print(data_science) "
   ]
  },
  {
   "cell_type": "markdown",
   "metadata": {
    "id": "L3R-VSnY9p33"
   },
   "source": [
    "### intersection() method\n",
    "- The intersection() method returns a set that contains the similarity between two or more sets\n",
    "- The returned set contains only items that exist in both sets, or in all sets if the comparison is done with more than two set"
   ]
  },
  {
   "cell_type": "code",
   "execution_count": null,
   "metadata": {
    "colab": {
     "base_uri": "https://localhost:8080/"
    },
    "executionInfo": {
     "elapsed": 374,
     "status": "ok",
     "timestamp": 1637992704366,
     "user": {
      "displayName": "Guzayya Sarkhawas",
      "photoUrl": "https://lh3.googleusercontent.com/a-/AOh14Gh6Y3aTn0cCcUgPIhsH6M4pKaXp98WUI7DjcDkY=s64",
      "userId": "11368096894351094299"
     },
     "user_tz": -330
    },
    "id": "ag5kM6VM9igM",
    "outputId": "c167ff73-be16-46b8-9f42-80fab889d59e"
   },
   "outputs": [
    {
     "name": "stdout",
     "output_type": "stream",
     "text": [
      "Intersection using intersection() function\n",
      "{3, 4}\n",
      "\n",
      "Intersection using '&' operator\n",
      "{3, 4}\n"
     ]
    }
   ],
   "source": [
    "set1 = set() \n",
    "set2 = set() \n",
    "  \n",
    "for i in range(5): \n",
    "    set1.add(i) \n",
    "for i in range(3,9): \n",
    "    set2.add(i) \n",
    "\n",
    "set3 = set1.intersection(set2) \n",
    "  \n",
    "print(\"Intersection using intersection() function\") \n",
    "print(set3) \n",
    "  \n",
    "# Intersection using \"&\" operator \n",
    "set3 = set1 & set2 \n",
    "  \n",
    "print(\"\\nIntersection using '&' operator\") \n",
    "print(set3) "
   ]
  },
  {
   "cell_type": "markdown",
   "metadata": {
    "id": "0GqyznC3-YLO"
   },
   "source": [
    "### difference() method\n",
    "- The difference() method returns a set that contains the difference between two sets\n",
    "- The returned set contains items that exist only in the first set, and not in both sets"
   ]
  },
  {
   "cell_type": "code",
   "execution_count": null,
   "metadata": {
    "colab": {
     "base_uri": "https://localhost:8080/"
    },
    "executionInfo": {
     "elapsed": 391,
     "status": "ok",
     "timestamp": 1637992761402,
     "user": {
      "displayName": "Guzayya Sarkhawas",
      "photoUrl": "https://lh3.googleusercontent.com/a-/AOh14Gh6Y3aTn0cCcUgPIhsH6M4pKaXp98WUI7DjcDkY=s64",
      "userId": "11368096894351094299"
     },
     "user_tz": -330
    },
    "id": "xG0lqa5J-SWT",
    "outputId": "b8f47860-c184-4f2c-fb47-a6b3cd7469e1"
   },
   "outputs": [
    {
     "name": "stdout",
     "output_type": "stream",
     "text": [
      "Set 1: {0, 1, 2, 3, 4}\n",
      "Set 2: {3, 4, 5, 6, 7, 8}\n",
      "Two sets using difference() function\n",
      "{0, 1, 2}\n",
      "Two sets using '-' operator\n",
      "{0, 1, 2}\n"
     ]
    }
   ],
   "source": [
    "set1 = set() \n",
    "set2 = set() \n",
    "  \n",
    "for i in range(5): \n",
    "    set1.add(i) \n",
    "for i in range(3,9): \n",
    "    set2.add(i) \n",
    "    \n",
    "\n",
    "print(\"Set 1:\", set1)\n",
    "print(\"Set 2:\", set2)\n",
    "  \n",
    "# Difference of two sets \n",
    "# using difference() function \n",
    "set3 = set1.difference(set2) \n",
    "  \n",
    "print(\"Two sets using difference() function\") \n",
    "print(set3) \n",
    "  \n",
    "# Difference of two sets \n",
    "# using '-' operator \n",
    "set3 = set1 - set2 \n",
    "  \n",
    "print(\"Two sets using '-' operator\") \n",
    "print(set3) "
   ]
  },
  {
   "cell_type": "markdown",
   "metadata": {
    "id": "wyYnVj39AFHp"
   },
   "source": [
    "# 6. Comprehensions in Python\n",
    "- A short and concise way to construct new sequences (such as lists, set, dictionary etc.) using sequences which have been already defined\n",
    "- List comprehension\n",
    "- List comprehension syntax: output_list = [output_exp for var in input_list if (var satisfies this condition)]\n",
    "- Dictionary comprehension\n",
    "- Dictionary comprehension syntax: output_dict = { key: value for (key, value) in Iterable if (key, value satisfy this condition)}\n",
    "- Set comprehension"
   ]
  },
  {
   "cell_type": "markdown",
   "metadata": {
    "id": "JGxkPdYOA2Gv"
   },
   "source": [
    "### List comprehension"
   ]
  },
  {
   "cell_type": "code",
   "execution_count": null,
   "metadata": {
    "colab": {
     "base_uri": "https://localhost:8080/"
    },
    "executionInfo": {
     "elapsed": 417,
     "status": "ok",
     "timestamp": 1637993388616,
     "user": {
      "displayName": "Guzayya Sarkhawas",
      "photoUrl": "https://lh3.googleusercontent.com/a-/AOh14Gh6Y3aTn0cCcUgPIhsH6M4pKaXp98WUI7DjcDkY=s64",
      "userId": "11368096894351094299"
     },
     "user_tz": -330
    },
    "id": "IOZjOSU_-5v4",
    "outputId": "75582966-5df4-4794-ba9b-1b86f7da24bd"
   },
   "outputs": [
    {
     "name": "stdout",
     "output_type": "stream",
     "text": [
      "result : [2, 4, 4, 6]\n"
     ]
    }
   ],
   "source": [
    "list_1 = [1, 2, 3, 4, 4, 5, 6, 7, 7]\n",
    "list_output = []\n",
    "  \n",
    "for value in list_1:\n",
    "    if value % 2 == 0:\n",
    "        list_output.append(value)\n",
    "  \n",
    "print(\"result :\", list_output)"
   ]
  },
  {
   "cell_type": "code",
   "execution_count": null,
   "metadata": {
    "colab": {
     "base_uri": "https://localhost:8080/"
    },
    "executionInfo": {
     "elapsed": 381,
     "status": "ok",
     "timestamp": 1637993401520,
     "user": {
      "displayName": "Guzayya Sarkhawas",
      "photoUrl": "https://lh3.googleusercontent.com/a-/AOh14Gh6Y3aTn0cCcUgPIhsH6M4pKaXp98WUI7DjcDkY=s64",
      "userId": "11368096894351094299"
     },
     "user_tz": -330
    },
    "id": "wcTlmYznA5YM",
    "outputId": "a2e35cee-b811-428e-ab77-466c1c252ac6"
   },
   "outputs": [
    {
     "name": "stdout",
     "output_type": "stream",
     "text": [
      "result : [2, 4, 4, 6]\n"
     ]
    }
   ],
   "source": [
    "list_1 = [1, 2, 3, 4, 4, 5, 6, 7, 7]\n",
    "  \n",
    "comprehension_list = [value for value in list_1 if value % 2 == 0]\n",
    "  \n",
    "print(\"result :\", comprehension_list)"
   ]
  },
  {
   "cell_type": "markdown",
   "metadata": {
    "id": "JIY8hcZkA_GM"
   },
   "source": [
    "### Dictionary comprehension"
   ]
  },
  {
   "cell_type": "code",
   "execution_count": null,
   "metadata": {
    "colab": {
     "base_uri": "https://localhost:8080/"
    },
    "executionInfo": {
     "elapsed": 382,
     "status": "ok",
     "timestamp": 1637993424058,
     "user": {
      "displayName": "Guzayya Sarkhawas",
      "photoUrl": "https://lh3.googleusercontent.com/a-/AOh14Gh6Y3aTn0cCcUgPIhsH6M4pKaXp98WUI7DjcDkY=s64",
      "userId": "11368096894351094299"
     },
     "user_tz": -330
    },
    "id": "sXyIaDSLA8iB",
    "outputId": "a405503a-5aed-44c5-ccec-258607703a06"
   },
   "outputs": [
    {
     "name": "stdout",
     "output_type": "stream",
     "text": [
      "result : {1: 1, 3: 27, 5: 125, 7: 343}\n"
     ]
    }
   ],
   "source": [
    "list_1 = [1,2,3,4,5,6,7]\n",
    "  \n",
    "comprehension_dict = {value:value ** 3 for value in list_1 if value % 2 != 0}\n",
    "  \n",
    "print(\"result :\", comprehension_dict)"
   ]
  },
  {
   "cell_type": "markdown",
   "metadata": {
    "id": "FJz5H3CbBCs4"
   },
   "source": [
    "### Set comprehension"
   ]
  },
  {
   "cell_type": "code",
   "execution_count": null,
   "metadata": {
    "colab": {
     "base_uri": "https://localhost:8080/"
    },
    "executionInfo": {
     "elapsed": 397,
     "status": "ok",
     "timestamp": 1637993443022,
     "user": {
      "displayName": "Guzayya Sarkhawas",
      "photoUrl": "https://lh3.googleusercontent.com/a-/AOh14Gh6Y3aTn0cCcUgPIhsH6M4pKaXp98WUI7DjcDkY=s64",
      "userId": "11368096894351094299"
     },
     "user_tz": -330
    },
    "id": "9L0s6H1RBCDo",
    "outputId": "d6c49342-cc9c-4a24-9e65-97177346e4ec"
   },
   "outputs": [
    {
     "name": "stdout",
     "output_type": "stream",
     "text": [
      "result : {2, 4, 6}\n"
     ]
    }
   ],
   "source": [
    "list_1 = [1, 2, 3, 4, 4, 5, 6, 6, 6, 7, 7]\n",
    "  \n",
    "comprehension_set = {value for value in list_1 if value % 2 == 0}\n",
    "  \n",
    "print(\"result :\", comprehension_set)"
   ]
  }
 ],
 "metadata": {
  "colab": {
   "name": "1. Python-Data Structures.ipynb",
   "provenance": [
    {
     "file_id": "1XlRNQPleRB0T0TZJVqYOadmMImBRP9Or",
     "timestamp": 1637900597553
    }
   ]
  },
  "kernelspec": {
   "display_name": "Python 3",
   "language": "python",
   "name": "python3"
  },
  "language_info": {
   "codemirror_mode": {
    "name": "ipython",
    "version": 3
   },
   "file_extension": ".py",
   "mimetype": "text/x-python",
   "name": "python",
   "nbconvert_exporter": "python",
   "pygments_lexer": "ipython3",
   "version": "3.8.8"
  }
 },
 "nbformat": 4,
 "nbformat_minor": 1
}
