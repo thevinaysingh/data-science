{
 "cells": [
  {
   "cell_type": "markdown",
   "metadata": {
    "id": "94LN95jPcv2X"
   },
   "source": [
    "# Learning Objective\n",
    "\n",
    "- Python Basics :- Comments, Variables, Data Types\n",
    "- Operators:- Arithmetic, assigment, logical, relational\n",
    "- Common Packages:- numpy, pandas, seaborn\n"
   ]
  },
  {
   "cell_type": "markdown",
   "metadata": {
    "id": "35Gi2tFPERsh"
   },
   "source": [
    "# Variables and Operators"
   ]
  },
  {
   "cell_type": "markdown",
   "metadata": {
    "id": "l66WH9-6KumW"
   },
   "source": [
    "Variable name is known as identifier. There are few rules that you have to follow while naming the variables in Python."
   ]
  },
  {
   "cell_type": "markdown",
   "metadata": {
    "id": "B0-GoCXuK1eK"
   },
   "source": [
    "Variables are used to store data, they take memory space based on the type of value we assigning to them. Creating variables in Python is simple, you just have write the variable name on the left side of = and the value on the right side, as shown below. You do not have to explicitly mention the type of the variable, python infer the type based on the value we are assigning."
   ]
  },
  {
   "cell_type": "markdown",
   "metadata": {
    "id": "Es9Oh05JLq9c"
   },
   "source": [
    "- The name of the variable cannot have special characters such as %, $, # etc, they can only have alphanumeric characters and underscore (A to Z, a to z, 0-9 or _ ).\n",
    "- Variable name is case sensitive in Python which means num and NUM are two different variables in python."
   ]
  },
  {
   "cell_type": "markdown",
   "metadata": {
    "id": "AKWcclQLMGkM"
   },
   "source": [
    "### Operators in python\n",
    "\n",
    "The operator can be defined as a symbol which is responsible for a particular operation between two operands. Operators are the pillars of a program on which the logic is built in a specific programming language. Python provides a variety of operators, which are described as follows.\n",
    "\n",
    "- Arithmetic operators\n",
    "- Comparison operators\n",
    "- Assignment Operators\n",
    "- Logical Operators\n",
    "- Bitwise Operators\n"
   ]
  },
  {
   "cell_type": "markdown",
   "metadata": {
    "id": "Ud-MHnBBdvKk"
   },
   "source": [
    "### Let's see few examples"
   ]
  },
  {
   "cell_type": "code",
   "execution_count": 1,
   "metadata": {
    "colab": {
     "base_uri": "https://localhost:8080/"
    },
    "executionInfo": {
     "elapsed": 412,
     "status": "ok",
     "timestamp": 1637390944907,
     "user": {
      "displayName": "Guzayya Sarkhawas",
      "photoUrl": "https://lh3.googleusercontent.com/a-/AOh14Gh6Y3aTn0cCcUgPIhsH6M4pKaXp98WUI7DjcDkY=s64",
      "userId": "11368096894351094299"
     },
     "user_tz": -330
    },
    "id": "yjyPGZ-rKt3D",
    "outputId": "5df4ded1-6e2f-4477-9b55-6c9c46fb0163"
   },
   "outputs": [
    {
     "name": "stdout",
     "output_type": "stream",
     "text": [
      "100\n",
      "GreatLearning\n",
      "<class 'int'>\n",
      "<class 'str'>\n"
     ]
    }
   ],
   "source": [
    "num = 100\n",
    "x = \"GreatLearning\"\n",
    "print(num)\n",
    "print(x)\n",
    "print(type(num))\n",
    "print((type(x)))"
   ]
  },
  {
   "cell_type": "code",
   "execution_count": null,
   "metadata": {
    "colab": {
     "base_uri": "https://localhost:8080/"
    },
    "executionInfo": {
     "elapsed": 404,
     "status": "ok",
     "timestamp": 1637390942093,
     "user": {
      "displayName": "Guzayya Sarkhawas",
      "photoUrl": "https://lh3.googleusercontent.com/a-/AOh14Gh6Y3aTn0cCcUgPIhsH6M4pKaXp98WUI7DjcDkY=s64",
      "userId": "11368096894351094299"
     },
     "user_tz": -330
    },
    "id": "mpyS42nNLQ75",
    "outputId": "54455548-3dae-416e-dc27-3316f66de217"
   },
   "outputs": [
    {
     "name": "stdout",
     "output_type": "stream",
     "text": [
      "30\n",
      "Hello World\n"
     ]
    }
   ],
   "source": [
    "x = 10\n",
    "y = 20\n",
    "print(x + y)\n",
    "\n",
    "p = \"Hello\"\n",
    "q = \"World\"\n",
    "print(p + \" \" + q)"
   ]
  },
  {
   "cell_type": "code",
   "execution_count": 2,
   "metadata": {
    "colab": {
     "base_uri": "https://localhost:8080/",
     "height": 130
    },
    "executionInfo": {
     "elapsed": 570,
     "status": "error",
     "timestamp": 1637390938187,
     "user": {
      "displayName": "Guzayya Sarkhawas",
      "photoUrl": "https://lh3.googleusercontent.com/a-/AOh14Gh6Y3aTn0cCcUgPIhsH6M4pKaXp98WUI7DjcDkY=s64",
      "userId": "11368096894351094299"
     },
     "user_tz": -330
    },
    "id": "Ew1gBr4NHIXh",
    "outputId": "7e964fa5-0dc0-46e5-a1a6-ecc632631d02"
   },
   "outputs": [
    {
     "ename": "SyntaxError",
     "evalue": "invalid syntax (826926076.py, line 2)",
     "output_type": "error",
     "traceback": [
      "\u001b[0;36m  File \u001b[0;32m\"/var/folders/7p/sbv15dnj4nl14hnxcdbv_81w0000gn/T/ipykernel_6859/826926076.py\"\u001b[0;36m, line \u001b[0;32m2\u001b[0m\n\u001b[0;31m    x = y+= 2\u001b[0m\n\u001b[0m         ^\u001b[0m\n\u001b[0;31mSyntaxError\u001b[0m\u001b[0;31m:\u001b[0m invalid syntax\n"
     ]
    }
   ],
   "source": [
    "y = 10\n",
    "x = y+= 2\n",
    "print(x)"
   ]
  },
  {
   "cell_type": "markdown",
   "metadata": {
    "id": "fYU7wNR-9fkW"
   },
   "source": [
    "### Problem Statement 1 : what will be the remainder if you divide 1345 by 4"
   ]
  },
  {
   "cell_type": "code",
   "execution_count": 3,
   "metadata": {
    "id": "TVtk8tbS0oIz"
   },
   "outputs": [
    {
     "name": "stdout",
     "output_type": "stream",
     "text": [
      "1\n"
     ]
    }
   ],
   "source": [
    "remainder = 1345 % 4\n",
    "print(remainder)"
   ]
  },
  {
   "cell_type": "markdown",
   "metadata": {
    "id": "eGM9MFwr8k9t"
   },
   "source": [
    "### Problem Statement 2 : Calculate the simple interest for a given principal amount of 1000/- with an interest rate of 5% for 10 years."
   ]
  },
  {
   "cell_type": "code",
   "execution_count": 4,
   "metadata": {
    "id": "laZxlmdp0pHK"
   },
   "outputs": [
    {
     "name": "stdout",
     "output_type": "stream",
     "text": [
      "500.0\n"
     ]
    }
   ],
   "source": [
    "def calculate_simple_interest(principal, rate, time):\n",
    "    return (principal * rate * time) / 100\n",
    "\n",
    "print(calculate_simple_interest(principal = 1000, rate = 5, time = 10))"
   ]
  },
  {
   "cell_type": "markdown",
   "metadata": {
    "id": "nzdNRxeLGOXE"
   },
   "source": [
    "### Problem Statement 3 : Take an integer input from the user and print its cube root."
   ]
  },
  {
   "cell_type": "code",
   "execution_count": 5,
   "metadata": {
    "id": "nyZcJIcx0qCB"
   },
   "outputs": [
    {
     "name": "stdout",
     "output_type": "stream",
     "text": [
      "27\n",
      "3.0\n"
     ]
    }
   ],
   "source": [
    "num = int(input())\n",
    "cube_root = num**(1/3)\n",
    "print(cube_root)"
   ]
  },
  {
   "cell_type": "markdown",
   "metadata": {
    "id": "PsxO9YrBDU-U"
   },
   "source": [
    "### Problem Statement 4 : Write a program to swap the values of variables without using any arithmetic operators.\n",
    "- Given a=10, b=20        \n",
    "- Expected o/p:- a=20,b=10"
   ]
  },
  {
   "cell_type": "code",
   "execution_count": 6,
   "metadata": {
    "id": "3yJj0mef0rIR"
   },
   "outputs": [
    {
     "name": "stdout",
     "output_type": "stream",
     "text": [
      "20 10\n"
     ]
    }
   ],
   "source": [
    "a = 10\n",
    "b = 20\n",
    "\n",
    "a,b = b,a\n",
    "\n",
    "print(a,b)"
   ]
  },
  {
   "cell_type": "markdown",
   "metadata": {
    "id": "rJfP2EacHSP7"
   },
   "source": [
    "### Problem Statement 5 : What will be the boolean value for the below expression given a = 10 and b = 20 ?\n",
    "z = a > b / a++ + a-- + b+1 - b+5\n",
    "(Hint : use BODMAS rule)"
   ]
  },
  {
   "cell_type": "code",
   "execution_count": 8,
   "metadata": {
    "id": "ML6_7aA90sKA"
   },
   "outputs": [
    {
     "name": "stdout",
     "output_type": "stream",
     "text": [
      "expected False False\n"
     ]
    }
   ],
   "source": [
    "z = a > b / a++ + a-- + b+1 - b+5\n",
    "print('expected False', z)"
   ]
  },
  {
   "cell_type": "markdown",
   "metadata": {
    "id": "T09CiWyzJJgJ"
   },
   "source": [
    "### Problem Statement 6 : Take a three-digit number as an input from user and check if it is divisible by 3 without using loops.\n"
   ]
  },
  {
   "cell_type": "code",
   "execution_count": 10,
   "metadata": {
    "id": "nf6oDl5e0uZa"
   },
   "outputs": [
    {
     "name": "stdout",
     "output_type": "stream",
     "text": [
      "34\n",
      "is_divisible_by_3 False\n"
     ]
    }
   ],
   "source": [
    "num_input = input().split()\n",
    "sum_of_digits = sum(list(map(int, num_input)))\n",
    "\n",
    "is_divisible_by_3 = sum_of_digits % 3 == 0\n",
    "\n",
    "print('is_divisible_by_3', is_divisible_by_3)"
   ]
  },
  {
   "cell_type": "code",
   "execution_count": null,
   "metadata": {
    "id": "bx-SSiiS0ubp"
   },
   "outputs": [],
   "source": []
  },
  {
   "cell_type": "markdown",
   "metadata": {
    "id": "s8yy-xgp_6Dg"
   },
   "source": [
    "### Problem Statement 7 : Write a code to calculate perimeter of a square (take input for side of square from user)"
   ]
  },
  {
   "cell_type": "code",
   "execution_count": 11,
   "metadata": {
    "id": "p3RV1G0J0vXp"
   },
   "outputs": [
    {
     "name": "stdout",
     "output_type": "stream",
     "text": [
      "4\n",
      "square_perimeter 16\n"
     ]
    }
   ],
   "source": [
    "square_side_input = int(input())\n",
    "square_perimeter = 4 * square_side_input\n",
    "print('square_perimeter', square_perimeter)"
   ]
  },
  {
   "cell_type": "markdown",
   "metadata": {
    "id": "PHXa_eByAaK4"
   },
   "source": [
    "### Problem Statement 8 : Using first 3 consecutive multiples of 50, perform the following operation using \"and\" & \"or\" logical operators : \n",
    "(c1>>2 and c2<<3 or c3>>1)"
   ]
  },
  {
   "cell_type": "code",
   "execution_count": 13,
   "metadata": {
    "id": "JS3MYXDJ0wqy"
   },
   "outputs": [
    {
     "name": "stdout",
     "output_type": "stream",
     "text": [
      "0\n",
      "40\n",
      "5\n",
      "5\n"
     ]
    }
   ],
   "source": [
    "c1 = 2\n",
    "c2 = 5\n",
    "c3 = 10\n",
    "print(c1>>2)\n",
    "print(c2<<3)\n",
    "print(c3>>1)\n",
    "print((c1>>2 and c2<<3 or c3>>1))\n"
   ]
  },
  {
   "cell_type": "markdown",
   "metadata": {
    "id": "JUemcAw1craj"
   },
   "source": [
    "### Problem statement 9 : How long distance an object has moved in a time interval [0,t] if it starts out with a velocity of 2 m/s and undergoes constant acceleration of 0.2 m/s2.\n",
    "- Define the appropriate variables.\n",
    "- Compute the distance using formula dis = vel * (time) + 0.5*acc*(square of time)\n",
    "- Print the data type of distance"
   ]
  },
  {
   "cell_type": "code",
   "execution_count": null,
   "metadata": {
    "id": "sQqCjC790xwx"
   },
   "outputs": [],
   "source": [
    "vel = 2\n",
    "time "
   ]
  },
  {
   "cell_type": "code",
   "execution_count": null,
   "metadata": {
    "id": "RaNIwMHp0xzC"
   },
   "outputs": [],
   "source": []
  },
  {
   "cell_type": "markdown",
   "metadata": {
    "id": "xZkF1Phvcral"
   },
   "source": [
    "### Problem statement 10 : You are given two points X (5, 3) and Y(3, -2). Calculate the Euclidean distance between these two points.\n",
    "- Define appropriate variables\n",
    "- Compute the distance"
   ]
  },
  {
   "cell_type": "code",
   "execution_count": null,
   "metadata": {
    "id": "WC6zRRGl0yqo"
   },
   "outputs": [],
   "source": []
  },
  {
   "cell_type": "code",
   "execution_count": null,
   "metadata": {
    "id": "SvaUjSkl0ysv"
   },
   "outputs": [],
   "source": []
  },
  {
   "cell_type": "markdown",
   "metadata": {
    "id": "ujAinA7zPXeO"
   },
   "source": [
    "# String\n",
    "Python string is the collection of the characters surrounded by single quotes, double quotes, or triple quotes. The computer does not understand the characters; internally, it stores manipulated character as the combination of the 0's and 1's.\n",
    "\n",
    "- Each character is encoded in the ASCII or Unicode character. \n",
    "- we can say that Python strings are also called the collection of Unicode characters."
   ]
  },
  {
   "cell_type": "code",
   "execution_count": null,
   "metadata": {
    "colab": {
     "base_uri": "https://localhost:8080/"
    },
    "executionInfo": {
     "elapsed": 398,
     "status": "ok",
     "timestamp": 1637394689256,
     "user": {
      "displayName": "Guzayya Sarkhawas",
      "photoUrl": "https://lh3.googleusercontent.com/a-/AOh14Gh6Y3aTn0cCcUgPIhsH6M4pKaXp98WUI7DjcDkY=s64",
      "userId": "11368096894351094299"
     },
     "user_tz": -330
    },
    "id": "DpZpas_pObAu",
    "outputId": "d478cc41-86e0-496d-e9ca-d1ec454ea35e"
   },
   "outputs": [
    {
     "name": "stdout",
     "output_type": "stream",
     "text": [
      "I am happy to study at greatlearning.\n"
     ]
    }
   ],
   "source": [
    "st='''I am happy to study at greatlearning.'''\n",
    "print(st[::])"
   ]
  },
  {
   "cell_type": "code",
   "execution_count": null,
   "metadata": {
    "colab": {
     "base_uri": "https://localhost:8080/"
    },
    "executionInfo": {
     "elapsed": 449,
     "status": "ok",
     "timestamp": 1637394652444,
     "user": {
      "displayName": "Guzayya Sarkhawas",
      "photoUrl": "https://lh3.googleusercontent.com/a-/AOh14Gh6Y3aTn0cCcUgPIhsH6M4pKaXp98WUI7DjcDkY=s64",
      "userId": "11368096894351094299"
     },
     "user_tz": -330
    },
    "id": "gN5_3v-pNskY",
    "outputId": "b1d97fc5-5cfb-40ce-eda8-029c9ab31102"
   },
   "outputs": [
    {
     "name": "stdout",
     "output_type": "stream",
     "text": [
      "learning\n"
     ]
    }
   ],
   "source": [
    "st='greatlearning'\n",
    "print(st[5:])"
   ]
  },
  {
   "cell_type": "code",
   "execution_count": null,
   "metadata": {
    "colab": {
     "base_uri": "https://localhost:8080/"
    },
    "executionInfo": {
     "elapsed": 4,
     "status": "ok",
     "timestamp": 1637394691048,
     "user": {
      "displayName": "Guzayya Sarkhawas",
      "photoUrl": "https://lh3.googleusercontent.com/a-/AOh14Gh6Y3aTn0cCcUgPIhsH6M4pKaXp98WUI7DjcDkY=s64",
      "userId": "11368096894351094299"
     },
     "user_tz": -330
    },
    "id": "I2hGD0xnOm1L",
    "outputId": "5c6fb8f8-84c4-452f-f768-b92f3aa5034c"
   },
   "outputs": [
    {
     "name": "stdout",
     "output_type": "stream",
     "text": [
      "Ia ap osuya ralann.\n"
     ]
    }
   ],
   "source": [
    "st='''I am happy to study at greatlearning.'''\n",
    "print(st[::2])"
   ]
  },
  {
   "cell_type": "markdown",
   "metadata": {
    "id": "dHakUGHjQBUj"
   },
   "source": [
    "### Problem Statement 1 : Reverse the given string in a single line:\n",
    "\"Great Learning\" \n",
    "- (Hint : use negative indexing)"
   ]
  },
  {
   "cell_type": "code",
   "execution_count": 15,
   "metadata": {
    "id": "MLilLb5w00MZ"
   },
   "outputs": [
    {
     "name": "stdout",
     "output_type": "stream",
     "text": [
      "gninraeL taerG\n"
     ]
    }
   ],
   "source": [
    "print(\"Great Learning\"[::-1])"
   ]
  },
  {
   "cell_type": "markdown",
   "metadata": {
    "id": "Puuxv57yQJVe"
   },
   "source": [
    "### Problem Statement 2 : Perform the following slicing operations for the given input string:\n",
    "\"Great Learning\""
   ]
  },
  {
   "cell_type": "code",
   "execution_count": null,
   "metadata": {
    "id": "XyP24PT401JQ"
   },
   "outputs": [],
   "source": []
  },
  {
   "cell_type": "markdown",
   "metadata": {
    "id": "AeZ_brbeWEFb"
   },
   "source": [
    "### Problem Statement 3 : Combine the below two strings using new string formatting approach called \"f-string:\"\n",
    "- string1 = \"Hello\"\n",
    "- string2 =\"Great Learning Learners\"\n",
    "- Note : Python 3.6 added a new string formatting approach called formatted string literals or “f-strings”. This new way of formatting strings lets you use embedded Python expressions inside string constants."
   ]
  },
  {
   "cell_type": "code",
   "execution_count": 1,
   "metadata": {
    "id": "owbm2XUl02cA"
   },
   "outputs": [
    {
     "name": "stdout",
     "output_type": "stream",
     "text": [
      "Hello Great Learning Learners\n"
     ]
    }
   ],
   "source": [
    "string1 = \"Hello\"\n",
    "string2 =\"Great Learning Learners\"\n",
    "print(f\"{string1} {string2}\")"
   ]
  },
  {
   "cell_type": "markdown",
   "metadata": {
    "id": "rMSDLY3ZOvHf"
   },
   "source": [
    "### Problem statement 4 : Sort the given input string in alphabetical order:**bold text**\n",
    "\"HaPPy learninG happY\""
   ]
  },
  {
   "cell_type": "code",
   "execution_count": 23,
   "metadata": {
    "id": "PFlkEVkF03bp"
   },
   "outputs": [
    {
     "name": "stdout",
     "output_type": "stream",
     "text": [
      "HaPPy happY learninG\n"
     ]
    }
   ],
   "source": [
    "string3 = \"HaPPy learninG happY\"\n",
    "string3_array = string3.split(' ')\n",
    "string3_array.sort()\n",
    "print(\" \".join(string3_array))"
   ]
  },
  {
   "cell_type": "markdown",
   "metadata": {
    "id": "pz-MbzAccra6"
   },
   "source": [
    "### Problem statement 5 : Remove all control characters from a given string:\n",
    "\"Great\\0\\r Le\\bar\\tni\\0ng\\f\""
   ]
  },
  {
   "cell_type": "code",
   "execution_count": null,
   "metadata": {
    "id": "c5J_6nIk04ha"
   },
   "outputs": [],
   "source": []
  },
  {
   "cell_type": "code",
   "execution_count": null,
   "metadata": {
    "id": "u0fC0O8N04jo"
   },
   "outputs": [],
   "source": []
  },
  {
   "cell_type": "markdown",
   "metadata": {
    "id": "o-Eo-30ccra7"
   },
   "source": [
    "translate() returns a string that is modified string of given string according to given translation mappings."
   ]
  },
  {
   "cell_type": "markdown",
   "metadata": {
    "id": "SnDs-9n2DKQK"
   },
   "source": [
    "# Packages"
   ]
  },
  {
   "cell_type": "markdown",
   "metadata": {
    "id": "DIkyMxikcraz"
   },
   "source": [
    "### Problem statement 1 :  Calculate Probability density function(PDF) and Cummulative distribution function(CDF) for a given random number."
   ]
  },
  {
   "cell_type": "markdown",
   "metadata": {
    "id": "g5NnGMiHcra0"
   },
   "source": [
    "The probability distribution function or PDF computes the likelihood of a single point in the distribution and the cumulative distribution function or CDF computes the likelihood of an interval of the distribution."
   ]
  },
  {
   "cell_type": "markdown",
   "metadata": {
    "id": "UODEAZjacra0"
   },
   "source": [
    "#### PDF"
   ]
  },
  {
   "cell_type": "code",
   "execution_count": null,
   "metadata": {
    "id": "A778W2eR09UI"
   },
   "outputs": [],
   "source": []
  },
  {
   "cell_type": "markdown",
   "metadata": {
    "id": "qHrtNl8icra1"
   },
   "source": [
    "#### CDF"
   ]
  },
  {
   "cell_type": "code",
   "execution_count": null,
   "metadata": {
    "id": "tRDoUryH085p"
   },
   "outputs": [],
   "source": []
  },
  {
   "cell_type": "markdown",
   "metadata": {
    "id": "Ra0WKOIfcra1"
   },
   "source": [
    "### Problem statement 2 : Given a list of numbers, calculate its mean, variance, geometric mean."
   ]
  },
  {
   "cell_type": "code",
   "execution_count": null,
   "metadata": {
    "id": "x-1Rhg0r0_ZB"
   },
   "outputs": [],
   "source": []
  },
  {
   "cell_type": "markdown",
   "metadata": {
    "id": "Mj-fnZneDMao"
   },
   "source": [
    "## Let's take a simple case study in order to understand different python packages such as numpy, pandas, matplotlib, seaborn, scikit learn etc."
   ]
  },
  {
   "cell_type": "markdown",
   "metadata": {
    "id": "3Rn0Y3Gocra7"
   },
   "source": [
    "#### Import libraries"
   ]
  },
  {
   "cell_type": "code",
   "execution_count": null,
   "metadata": {
    "id": "2V9QtRba1Cmi"
   },
   "outputs": [],
   "source": []
  },
  {
   "cell_type": "markdown",
   "metadata": {
    "id": "Zx1n0rJpcra8"
   },
   "source": [
    "#### Create dataframe using Pandas"
   ]
  },
  {
   "cell_type": "code",
   "execution_count": 6,
   "metadata": {
    "id": "p78mvp3h4zjH"
   },
   "outputs": [
    {
     "name": "stdout",
     "output_type": "stream",
     "text": [
      "                   0\n",
      "Texas       39613467\n",
      "Washington  38737711\n",
      "New York    32345411\n",
      "Hawaii      45323321\n",
      "Florida     20944987\n",
      "California  20299981\n"
     ]
    }
   ],
   "source": [
    "import pandas as pd\n",
    "\n",
    "states_US = [\"Texas\", \"Washington\", \"New York\", \"Hawaii\", \"Florida\", \"California\"]\n",
    "population = [39613467, 38737711, 32345411, 45323321, 20944987, 20299981]\n",
    "\n",
    "# Create dataframe\n",
    "dataframe = pd.DataFrame(data=population, index=states_US)\n",
    "print(dataframe)"
   ]
  },
  {
   "cell_type": "markdown",
   "metadata": {
    "id": "oGfI9e3Hcra8"
   },
   "source": [
    "#### Calculate the mean, variance and percentiles of population feature using NumPy build in functions"
   ]
  },
  {
   "cell_type": "code",
   "execution_count": null,
   "metadata": {
    "id": "L8KCSMPi43_n"
   },
   "outputs": [],
   "source": []
  },
  {
   "cell_type": "code",
   "execution_count": null,
   "metadata": {
    "id": "XQ4vWtvw44Pv"
   },
   "outputs": [],
   "source": []
  },
  {
   "cell_type": "markdown",
   "metadata": {
    "id": "FfAnfzp3cra9"
   },
   "source": [
    "#### Check these statistics of data using Pandas describe() function."
   ]
  },
  {
   "cell_type": "code",
   "execution_count": null,
   "metadata": {
    "id": "ZN7U9K8E46rP"
   },
   "outputs": [],
   "source": []
  },
  {
   "cell_type": "markdown",
   "metadata": {
    "id": "Uwgrs19hcra_"
   },
   "source": [
    "## Happy Learning :)"
   ]
  }
 ],
 "metadata": {
  "colab": {
   "collapsed_sections": [],
   "name": "Week_1_Question_Notebook.ipynb",
   "provenance": []
  },
  "kernelspec": {
   "display_name": "Python 3 (ipykernel)",
   "language": "python",
   "name": "python3"
  },
  "language_info": {
   "codemirror_mode": {
    "name": "ipython",
    "version": 3
   },
   "file_extension": ".py",
   "mimetype": "text/x-python",
   "name": "python",
   "nbconvert_exporter": "python",
   "pygments_lexer": "ipython3",
   "version": "3.9.7"
  }
 },
 "nbformat": 4,
 "nbformat_minor": 1
}
