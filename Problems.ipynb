{
 "cells": [
  {
   "cell_type": "code",
   "execution_count": 29,
   "id": "dbff8123",
   "metadata": {},
   "outputs": [
    {
     "name": "stdout",
     "output_type": "stream",
     "text": [
      "python\n"
     ]
    }
   ],
   "source": [
    "test_dict = {'test' : {'Andrew' : 15, 'Eddy' : 40},\n",
    "             'now' : {'Andrew' : 27, 'Eddy' : 16},\n",
    "             'python' : {'Andrew' : 30, 'Eddy' : 28}}\n",
    "k = 'Eddy'\n",
    "\n",
    "\n",
    "key2 = lambda sub: test_dict[sub][key]\n",
    "key_max = [key2(sub) for sub in test_dict.keys()]\n",
    "maxxxx = max(test_dict, key = lambda sub:test_dict[sub][k])\n",
    "print(maxxxx)"
   ]
  },
  {
   "cell_type": "code",
   "execution_count": null,
   "id": "bf84a060",
   "metadata": {},
   "outputs": [],
   "source": []
  }
 ],
 "metadata": {
  "kernelspec": {
   "display_name": "Python 3 (ipykernel)",
   "language": "python",
   "name": "python3"
  },
  "language_info": {
   "codemirror_mode": {
    "name": "ipython",
    "version": 3
   },
   "file_extension": ".py",
   "mimetype": "text/x-python",
   "name": "python",
   "nbconvert_exporter": "python",
   "pygments_lexer": "ipython3",
   "version": "3.9.8"
  }
 },
 "nbformat": 4,
 "nbformat_minor": 5
}
