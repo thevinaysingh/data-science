{
 "cells": [
  {
   "cell_type": "markdown",
   "metadata": {
    "id": "SjcpG42Lxd5d"
   },
   "source": [
    "# Agenda\n",
    "- Numpy\n",
    "  - Arrays\n",
    "  - Arrays Vs Lists\n",
    "  - Array indexing and slicing\n",
    "  - Array operations and functions\n",
    "- Pandas\n",
    "  - Series\n",
    "    - Creation\n",
    "    - Indexing\n",
    "    - Functions\n",
    "  - Dataframe\n",
    "    - Creation\n",
    "    - Indexing\n",
    "    - Functions"
   ]
  },
  {
   "cell_type": "markdown",
   "metadata": {
    "id": "D0d9N9NwKSu3"
   },
   "source": [
    "# 1. Numpy\n",
    "- It is the fundamental package for scientific computing with Python\n",
    "- It provides a high-performance multidimensional array object, and tools for working with these arrays\n",
    "- It has important features as :\n",
    "  - A powerful N-dimensional array object\n",
    "  - Sophisticated (broadcasting) functions\n",
    "  - Useful linear algebra, Fourier transform, and random number capabilities\n",
    "- Arbitrary data-types can be defined using Numpy which allows NumPy to seamlessly and speedily integrate with a wide variety of databases\n",
    "- NumPy is used to work with arrays. The array object in NumPy is called ndarray"
   ]
  },
  {
   "cell_type": "markdown",
   "metadata": {
    "id": "MHRQc0wa-c2U"
   },
   "source": [
    "## Why do we need Numpy Arrays\n",
    "- With numpy arrays, mathematical operations are executed more efficiently and with less code compared to Python’s built-in data structures. \n",
    "- Hence, numpy arrays are very useful when working with a lasrge data.\n",
    "\n",
    "## Advantages over Python lists\n",
    "- Fast computation\n",
    "- Consumes less memory\n",
    "\n",
    "## Differences between Numpy Array and Lists\n",
    " - Arrays are homogeneous whereas Lists can be homogeneous or heterogeneous\n",
    " - Element wise operation is possible in arrays but not possible in lists\n",
    " - Arrays are very useful for multi-dimensional data. "
   ]
  },
  {
   "cell_type": "markdown",
   "metadata": {
    "id": "RZi6nK3K-sXp"
   },
   "source": [
    "## 1.1 Numpy array creation\n",
    "\n",
    "NumPy arrays are the one of the most widely used data structuring techniques by Data Scientists. \n",
    "\n",
    "Numpy arrays are of two types: Vectors and Matrices. \n",
    "\n",
    "Vectors are 1-dimensional arrays and matrices are 2-dimensional arrays(A Matrix can still possess a single row or a column).\n",
    "\n",
    "We shall begin our learning with how to create NumPy Arrays.\n",
    "- Numpy arrays can be created using different functions :\n",
    "  - array()\n",
    "  - arange()\n",
    "  - linspace()\n",
    "  - empty()\n",
    "  - eye(), ones(), zeros(), identity() and many more"
   ]
  },
  {
   "cell_type": "markdown",
   "metadata": {
    "id": "pEEG5_yKIDzg"
   },
   "source": [
    "### np.array()\n",
    "- We can create a NumPy ndarray object by using the array() function\n",
    "- 0-D array - or Scalars, are the elements in an array. Each value in an array is a 0-D array\n",
    "- 1-D array - An array that has 0-D arrays as its elements is called uni-dimensional or 1-D array\n",
    "- 2-D array - An array that has 1-D arrays as its elements is called a 2-D array. These are often used to represent matrix\n",
    "- 3-D - An array that has 2-D arrays (matrices) as its elements is called 3-D array. These are often used to represent a 3rd order tensor"
   ]
  },
  {
   "cell_type": "code",
   "execution_count": null,
   "metadata": {
    "colab": {
     "base_uri": "https://localhost:8080/"
    },
    "executionInfo": {
     "elapsed": 374,
     "status": "ok",
     "timestamp": 1638447994076,
     "user": {
      "displayName": "Guzayya Sarkhawas",
      "photoUrl": "https://lh3.googleusercontent.com/a-/AOh14Gh6Y3aTn0cCcUgPIhsH6M4pKaXp98WUI7DjcDkY=s64",
      "userId": "11368096894351094299"
     },
     "user_tz": -330
    },
    "id": "hWSZhiJ7-Ylz",
    "outputId": "af52f13e-87c5-441d-dee3-a16024b48a48"
   },
   "outputs": [
    {
     "name": "stdout",
     "output_type": "stream",
     "text": [
      " \n",
      "Array : 40 \n",
      " Type of array : <class 'numpy.ndarray'> \n",
      " Array dimension : 0\n",
      " \n",
      "Array : [20 40 60 80] \n",
      " Type of array : <class 'numpy.ndarray'> \n",
      " Array dimension : 1\n",
      " \n",
      "Array : [[20 40]\n",
      " [60 80]] \n",
      " Type of array : <class 'numpy.ndarray'> \n",
      " Array dimension : 2\n",
      " \n",
      "Array : [[[20 40]\n",
      "  [60 80]]] \n",
      " Type of array : <class 'numpy.ndarray'> \n",
      " Array dimension : 3\n"
     ]
    }
   ],
   "source": [
    "import numpy as np\n",
    "\n",
    "# 0-D array\n",
    "new_array = np.array(40)\n",
    "print(f\" \\nArray : {new_array} \")\n",
    "print(f\" Type of array : {type(new_array)} \")\n",
    "print(f\" Array dimension : {new_array.ndim}\") # array dimension can be checked using ndim\n",
    "\n",
    "#1-D array\n",
    "new_array = np.array([20,40,60,80])\n",
    "print(f\" \\nArray : {new_array} \")\n",
    "print(f\" Type of array : {type(new_array)} \")\n",
    "print(f\" Array dimension : {new_array.ndim}\")\n",
    "\n",
    "#2-D array\n",
    "new_array = np.array([[20,40], [60,80]])\n",
    "print(f\" \\nArray : {new_array} \")\n",
    "print(f\" Type of array : {type(new_array)} \")\n",
    "print(f\" Array dimension : {new_array.ndim}\")  \n",
    "\n",
    "#3-D array\n",
    "new_array = np.array([[[20,40] ,[60,80]]])\n",
    "print(f\" \\nArray : {new_array} \")\n",
    "print(f\" Type of array : {type(new_array)} \")\n",
    "print(f\" Array dimension : {new_array.ndim}\")"
   ]
  },
  {
   "cell_type": "markdown",
   "metadata": {
    "id": "6g_fvKSBJlAK"
   },
   "source": [
    "### np.arange()\n",
    "- The arange() function is one of the Numpy's most used method for creating an array within a specified range\n",
    "- Syntax : np.arange(start, end, step, dtype)"
   ]
  },
  {
   "cell_type": "code",
   "execution_count": null,
   "metadata": {
    "colab": {
     "base_uri": "https://localhost:8080/"
    },
    "executionInfo": {
     "elapsed": 388,
     "status": "ok",
     "timestamp": 1638364969914,
     "user": {
      "displayName": "Guzayya Sarkhawas",
      "photoUrl": "https://lh3.googleusercontent.com/a-/AOh14Gh6Y3aTn0cCcUgPIhsH6M4pKaXp98WUI7DjcDkY=s64",
      "userId": "11368096894351094299"
     },
     "user_tz": -330
    },
    "id": "l1Cscq8j_wAL",
    "outputId": "89ebcb0a-7db3-4182-a8e1-cd2590e4d212"
   },
   "outputs": [
    {
     "name": "stdout",
     "output_type": "stream",
     "text": [
      "First array : [ 0  2  4  6  8 10]\n",
      "Second Array : [ 50  54  58  62  66  70  74  78  82  86  90  94  98 102 106 110 114 118]\n"
     ]
    }
   ],
   "source": [
    "# creating an array starting from 0 ending with 10 \n",
    "# and increasing with a step of 2\n",
    "arange_array = np.arange(0,11,2)   # writing 11 instead of 10 since range is exclusive\n",
    "print(f\"First array : {arange_array}\")\n",
    "\n",
    "# array starting from 50 going till 120 with step of 4\n",
    "\n",
    "arr = np.arange(50,121,4)\n",
    "print(f\"Second Array : {arr}\")"
   ]
  },
  {
   "cell_type": "markdown",
   "metadata": {
    "id": "RCPaYvCZKdq-"
   },
   "source": [
    "### np.linspace()\n",
    "- Like arange() function, linspace() function can also be used to create Numpy array but with more discipline\n",
    "- Syntax : linspace(start_index, end_index, num_of_elements)\n",
    "- linspace() function takes arguments: start index, end index and the number of elements to be outputted. These number of elements would be linearly spaced in the range mentioned"
   ]
  },
  {
   "cell_type": "code",
   "execution_count": null,
   "metadata": {
    "colab": {
     "base_uri": "https://localhost:8080/"
    },
    "executionInfo": {
     "elapsed": 394,
     "status": "ok",
     "timestamp": 1638365275025,
     "user": {
      "displayName": "Guzayya Sarkhawas",
      "photoUrl": "https://lh3.googleusercontent.com/a-/AOh14Gh6Y3aTn0cCcUgPIhsH6M4pKaXp98WUI7DjcDkY=s64",
      "userId": "11368096894351094299"
     },
     "user_tz": -330
    },
    "id": "dz6f2HZ-KA7N",
    "outputId": "b2a70ef4-ef18-45f2-d3f9-e319e258c28c"
   },
   "outputs": [
    {
     "name": "stdout",
     "output_type": "stream",
     "text": [
      "First Array : [15.         21.66666667 28.33333333 35.         41.66666667 48.33333333\n",
      " 55.         61.66666667 68.33333333 75.        ]\n",
      "Second Array : [ 50.          52.08333333  54.16666667  56.25        58.33333333\n",
      "  60.41666667  62.5         64.58333333  66.66666667  68.75\n",
      "  70.83333333  72.91666667  75.          77.08333333  79.16666667\n",
      "  81.25        83.33333333  85.41666667  87.5         89.58333333\n",
      "  91.66666667  93.75        95.83333333  97.91666667 100.        ]\n"
     ]
    }
   ],
   "source": [
    "# range 15, 75 spaced appropriately.\n",
    "arr = np.linspace(15, 75, 10)     \n",
    "print(f\"First Array : {arr}\")\n",
    "\n",
    "# properly spaced array of 25 elements\n",
    "arr1 = np.linspace(50,100,25)   \n",
    "print(f\"Second Array : {arr1}\")"
   ]
  },
  {
   "cell_type": "markdown",
   "metadata": {
    "id": "yyG1NCP-NjvQ"
   },
   "source": [
    "## 1.2 Numpy indexing and slicing\n",
    "- Contents of ndarray object can be accessed and modified by indexing or slicing, just like Python's in-built container objects\n",
    "  - Field access\n",
    "  - Basic slicing\n",
    "  - Advance indexing\n",
    "    - Integer indexing\n",
    "    - Boolean indexing"
   ]
  },
  {
   "cell_type": "markdown",
   "metadata": {
    "id": "lzd9EWOTOeem"
   },
   "source": [
    "### Field access\n",
    "- Field access in python means taking elements from one given index to another given index\n",
    "- If we don't pass start its considered 0\n",
    "- If we don't pass end its considered length of array in that dimension\n",
    "- If we don't pass step its considered 1"
   ]
  },
  {
   "cell_type": "code",
   "execution_count": null,
   "metadata": {
    "colab": {
     "base_uri": "https://localhost:8080/"
    },
    "executionInfo": {
     "elapsed": 673,
     "status": "ok",
     "timestamp": 1638366121871,
     "user": {
      "displayName": "Guzayya Sarkhawas",
      "photoUrl": "https://lh3.googleusercontent.com/a-/AOh14Gh6Y3aTn0cCcUgPIhsH6M4pKaXp98WUI7DjcDkY=s64",
      "userId": "11368096894351094299"
     },
     "user_tz": -330
    },
    "id": "slRA3_NSOckn",
    "outputId": "07300797-e604-44c9-cf95-c6238d69b26b"
   },
   "outputs": [
    {
     "data": {
      "text/plain": [
       "array([ 4, 40,  3, 30])"
      ]
     },
     "execution_count": 8,
     "metadata": {},
     "output_type": "execute_result"
    }
   ],
   "source": [
    "new_array = np.array([1,10,20,2,30,3,40,4,50,5])  # 1-D array created\n",
    "new_array[-3:3:-1]                              #(start,end,step)"
   ]
  },
  {
   "cell_type": "code",
   "execution_count": null,
   "metadata": {
    "colab": {
     "base_uri": "https://localhost:8080/"
    },
    "executionInfo": {
     "elapsed": 384,
     "status": "ok",
     "timestamp": 1638366236121,
     "user": {
      "displayName": "Guzayya Sarkhawas",
      "photoUrl": "https://lh3.googleusercontent.com/a-/AOh14Gh6Y3aTn0cCcUgPIhsH6M4pKaXp98WUI7DjcDkY=s64",
      "userId": "11368096894351094299"
     },
     "user_tz": -330
    },
    "id": "Y652yBTMOwqY",
    "outputId": "d1720c89-3d60-4dbc-a3ea-6f792c95f300"
   },
   "outputs": [
    {
     "data": {
      "text/plain": [
       "(2, 3, 1)"
      ]
     },
     "execution_count": 9,
     "metadata": {},
     "output_type": "execute_result"
    }
   ],
   "source": [
    "new_array = np.array([[[1],[2],[3]], [[4],[5],[6]]])\n",
    "new_array.shape  # creating a 3-D array"
   ]
  },
  {
   "cell_type": "code",
   "execution_count": null,
   "metadata": {
    "colab": {
     "base_uri": "https://localhost:8080/"
    },
    "executionInfo": {
     "elapsed": 406,
     "status": "ok",
     "timestamp": 1638366352421,
     "user": {
      "displayName": "Guzayya Sarkhawas",
      "photoUrl": "https://lh3.googleusercontent.com/a-/AOh14Gh6Y3aTn0cCcUgPIhsH6M4pKaXp98WUI7DjcDkY=s64",
      "userId": "11368096894351094299"
     },
     "user_tz": -330
    },
    "id": "MmHAUmABPhpH",
    "outputId": "2c9f1447-2463-4186-f3af-c09fc2067bb0"
   },
   "outputs": [
    {
     "data": {
      "text/plain": [
       "array([[[4],\n",
       "        [5],\n",
       "        [6]]])"
      ]
     },
     "execution_count": 11,
     "metadata": {},
     "output_type": "execute_result"
    }
   ],
   "source": [
    "new_array[1:2]"
   ]
  },
  {
   "cell_type": "markdown",
   "metadata": {
    "id": "34rPgfVPPr2s"
   },
   "source": [
    "### Slicing\n",
    "- Syntax - slice(start, end, step)"
   ]
  },
  {
   "cell_type": "code",
   "execution_count": null,
   "metadata": {
    "colab": {
     "base_uri": "https://localhost:8080/"
    },
    "executionInfo": {
     "elapsed": 1221,
     "status": "ok",
     "timestamp": 1638427889733,
     "user": {
      "displayName": "Guzayya Sarkhawas",
      "photoUrl": "https://lh3.googleusercontent.com/a-/AOh14Gh6Y3aTn0cCcUgPIhsH6M4pKaXp98WUI7DjcDkY=s64",
      "userId": "11368096894351094299"
     },
     "user_tz": -330
    },
    "id": "_JcQulmJPpAq",
    "outputId": "e93e7829-c160-4ffd-cb27-c97b0cf7f619"
   },
   "outputs": [
    {
     "data": {
      "text/plain": [
       "array([1, 3, 5])"
      ]
     },
     "execution_count": 3,
     "metadata": {},
     "output_type": "execute_result"
    }
   ],
   "source": [
    "new_array = np.arange(8)\n",
    "new_array[slice(1,6,2)]"
   ]
  },
  {
   "cell_type": "markdown",
   "metadata": {
    "id": "1pqIHFBYQBdk"
   },
   "source": [
    "### Advance indexing - integer\n",
    "- This mechanism helps in selecting any arbitrary item in an array based on its Ndimensional index\n",
    "- Each integer array represents the number of indexes into that dimension"
   ]
  },
  {
   "cell_type": "code",
   "execution_count": null,
   "metadata": {
    "colab": {
     "base_uri": "https://localhost:8080/"
    },
    "executionInfo": {
     "elapsed": 512,
     "status": "ok",
     "timestamp": 1638366491793,
     "user": {
      "displayName": "Guzayya Sarkhawas",
      "photoUrl": "https://lh3.googleusercontent.com/a-/AOh14Gh6Y3aTn0cCcUgPIhsH6M4pKaXp98WUI7DjcDkY=s64",
      "userId": "11368096894351094299"
     },
     "user_tz": -330
    },
    "id": "19e2Urn7Pufv",
    "outputId": "6eaa9642-63bf-43a2-faca-032be9455ab4"
   },
   "outputs": [
    {
     "data": {
      "text/plain": [
       "array([10,  4,  5])"
      ]
     },
     "execution_count": 13,
     "metadata": {},
     "output_type": "execute_result"
    }
   ],
   "source": [
    "new_array = np.array([[10, 2], [6, 4], [5, 1]]) \n",
    "integer_indexing = new_array[[0,1,2], [0,1,0]] # row index represents row numbers, column index represents elements to be chosen\n",
    "integer_indexing"
   ]
  },
  {
   "cell_type": "markdown",
   "metadata": {
    "id": "csHd-9Z-QP6m"
   },
   "source": [
    "### Advance indexing - boolean\n",
    "- This type of advanced indexing is used when the resultant object is meant to be the result of Boolean operations, such as comparison operators"
   ]
  },
  {
   "cell_type": "code",
   "execution_count": null,
   "metadata": {
    "colab": {
     "base_uri": "https://localhost:8080/"
    },
    "executionInfo": {
     "elapsed": 405,
     "status": "ok",
     "timestamp": 1638366541454,
     "user": {
      "displayName": "Guzayya Sarkhawas",
      "photoUrl": "https://lh3.googleusercontent.com/a-/AOh14Gh6Y3aTn0cCcUgPIhsH6M4pKaXp98WUI7DjcDkY=s64",
      "userId": "11368096894351094299"
     },
     "user_tz": -330
    },
    "id": "CPyNAg3ZQVsi",
    "outputId": "c0988549-0389-44d5-85f3-e3db33f61b89"
   },
   "outputs": [
    {
     "data": {
      "text/plain": [
       "array([10,  6])"
      ]
     },
     "execution_count": 14,
     "metadata": {},
     "output_type": "execute_result"
    }
   ],
   "source": [
    "new_array[new_array > 5]"
   ]
  },
  {
   "cell_type": "markdown",
   "metadata": {
    "id": "5oB8yE2K-xBR"
   },
   "source": [
    "## 1.3 Numpy Operations/Functions\n",
    "- Array manipulation functions\n",
    "- Binary functions\n",
    "- String functions\n",
    "- Arithmetic functions\n",
    "- Statistical functions"
   ]
  },
  {
   "cell_type": "markdown",
   "metadata": {
    "id": "FGf3JMC__QFi"
   },
   "source": [
    "### 1.3.1 Array manipulation functions\n",
    "- The Array manipulation functions of NumPy module helps us to perform changes in the array elements\n",
    "- reshape()\n",
    "- concatenate()\n",
    "- sort()\n"
   ]
  },
  {
   "cell_type": "markdown",
   "metadata": {
    "id": "o67sFyBy_fhC"
   },
   "source": [
    "#### reshape() function"
   ]
  },
  {
   "cell_type": "code",
   "execution_count": null,
   "metadata": {
    "colab": {
     "base_uri": "https://localhost:8080/"
    },
    "executionInfo": {
     "elapsed": 343,
     "status": "ok",
     "timestamp": 1638429354003,
     "user": {
      "displayName": "Guzayya Sarkhawas",
      "photoUrl": "https://lh3.googleusercontent.com/a-/AOh14Gh6Y3aTn0cCcUgPIhsH6M4pKaXp98WUI7DjcDkY=s64",
      "userId": "11368096894351094299"
     },
     "user_tz": -330
    },
    "id": "UIT_3MiF_Hwr",
    "outputId": "b8465578-900c-47ab-ab61-085e5473b653"
   },
   "outputs": [
    {
     "name": "stdout",
     "output_type": "stream",
     "text": [
      "Elements of an array1:\n",
      " : [0 1 2 3]\n",
      "Elements of an array2:\n",
      " : [4 5 6 7]\n",
      "Reshaped array with 2x2 dimensions:\n",
      " : [[0 1]\n",
      " [2 3]]\n",
      "Reshaped array with 2x2 dimensions:\n",
      " : [[4 5]\n",
      " [6 7]]\n"
     ]
    }
   ],
   "source": [
    "arr1 = np.arange(4)\n",
    "print(f'Elements of an array1:\\n : {arr1}')\n",
    " \n",
    "arr2 = np.arange(4,8)\n",
    "print(f'Elements of an array2:\\n : {arr2}')\n",
    " \n",
    "res1 = arr1.reshape(2,2)\n",
    "print(f'Reshaped array with 2x2 dimensions:\\n : {res1}')\n",
    " \n",
    "res2 = arr2.reshape(2,2)\n",
    "print(f'Reshaped array with 2x2 dimensions:\\n : {res2}')"
   ]
  },
  {
   "cell_type": "markdown",
   "metadata": {
    "id": "Rn0ptgp2ACAF"
   },
   "source": [
    "#### concatenate() function"
   ]
  },
  {
   "cell_type": "code",
   "execution_count": null,
   "metadata": {
    "colab": {
     "base_uri": "https://localhost:8080/"
    },
    "executionInfo": {
     "elapsed": 350,
     "status": "ok",
     "timestamp": 1638429474462,
     "user": {
      "displayName": "Guzayya Sarkhawas",
      "photoUrl": "https://lh3.googleusercontent.com/a-/AOh14Gh6Y3aTn0cCcUgPIhsH6M4pKaXp98WUI7DjcDkY=s64",
      "userId": "11368096894351094299"
     },
     "user_tz": -330
    },
    "id": "Ahczl1lc_6Cn",
    "outputId": "0211c3cc-f9f3-4e74-a9e2-62583344c245"
   },
   "outputs": [
    {
     "name": "stdout",
     "output_type": "stream",
     "text": [
      "Concatenation two arrays:\n",
      "\n",
      "[0 1 2 3 4 5 6 7]\n"
     ]
    }
   ],
   "source": [
    "print(\"Concatenation two arrays:\\n\")\n",
    "concat = np.concatenate((arr1,arr2))\n",
    "print(concat)"
   ]
  },
  {
   "cell_type": "markdown",
   "metadata": {
    "id": "3Qj-8N5rGxM5"
   },
   "source": [
    "#### sort() function"
   ]
  },
  {
   "cell_type": "code",
   "execution_count": null,
   "metadata": {
    "colab": {
     "base_uri": "https://localhost:8080/"
    },
    "executionInfo": {
     "elapsed": 423,
     "status": "ok",
     "timestamp": 1638448001164,
     "user": {
      "displayName": "Guzayya Sarkhawas",
      "photoUrl": "https://lh3.googleusercontent.com/a-/AOh14Gh6Y3aTn0cCcUgPIhsH6M4pKaXp98WUI7DjcDkY=s64",
      "userId": "11368096894351094299"
     },
     "user_tz": -330
    },
    "id": "epJ1rCvxG0-C",
    "outputId": "32d6e83a-90d8-4972-b2fb-50332c832b51"
   },
   "outputs": [
    {
     "name": "stdout",
     "output_type": "stream",
     "text": [
      "Before sorting : [20  4 10  8] \n",
      "After sorting : [ 4  8 10 20] \n"
     ]
    }
   ],
   "source": [
    "number_array = np.array([20,4,10,8])\n",
    "print(f\"Before sorting : {number_array} \")\n",
    "sorted_array = np.sort(number_array, kind='quick sort')\n",
    "print(f\"After sorting : {sorted_array} \")"
   ]
  },
  {
   "cell_type": "markdown",
   "metadata": {
    "id": "uUJTFRkoEIEd"
   },
   "source": [
    "### 1.3.2 Arithmetic functions\n",
    "- numpy.add()\n",
    "- numpy.subtract()\n",
    "- numpy.multiply()\n",
    "- numpy.divide()\n",
    "- numpy.mod()\n",
    "- numpy.power()"
   ]
  },
  {
   "cell_type": "code",
   "execution_count": null,
   "metadata": {
    "colab": {
     "base_uri": "https://localhost:8080/"
    },
    "executionInfo": {
     "elapsed": 362,
     "status": "ok",
     "timestamp": 1638430761574,
     "user": {
      "displayName": "Guzayya Sarkhawas",
      "photoUrl": "https://lh3.googleusercontent.com/a-/AOh14Gh6Y3aTn0cCcUgPIhsH6M4pKaXp98WUI7DjcDkY=s64",
      "userId": "11368096894351094299"
     },
     "user_tz": -330
    },
    "id": "5rmbA7ApDO3k",
    "outputId": "c156f2b2-f073-4598-a1a7-77a131959332"
   },
   "outputs": [
    {
     "name": "stdout",
     "output_type": "stream",
     "text": [
      "Elements of array 'x': [0 1 2 3]\n",
      "Elements of array 'y': [4 5 6 7]\n",
      "Addition of x and y: [ 4  6  8 10]\n",
      "Subtraction of x and y: [-4 -4 -4 -4]\n",
      "Multiplication of x and y: [ 0  5 12 21]\n",
      "Division of x and y: [0.         0.2        0.33333333 0.42857143]\n",
      "Remainder array of x and y: [0 1 2 3]\n",
      "Power value of x^y:\n",
      " [   0    1   64 2187]\n"
     ]
    }
   ],
   "source": [
    "x = np.arange(4) \n",
    "print(f\"Elements of array 'x': {x}\")\n",
    " \n",
    "y = np.arange(4,8) \n",
    "print(f\"Elements of array 'y': {y}\")\n",
    " \n",
    "add = np.add(x,y)\n",
    "print(f\"Addition of x and y: {add}\")\n",
    " \n",
    "subtract = np.subtract(x,y)\n",
    "print(f\"Subtraction of x and y: {subtract}\")\n",
    " \n",
    "mul = np.multiply(x,y)\n",
    "print(f\"Multiplication of x and y: {mul}\")\n",
    " \n",
    "div = np.divide(x,y)\n",
    "print(f\"Division of x and y: {div}\")\n",
    " \n",
    "mod = np.mod(x,y)\n",
    "print(f\"Remainder array of x and y: {mod}\")\n",
    " \n",
    "pwr = np.power(x,y)\n",
    "print(\"Power value of x^y:\\n\",pwr)\n"
   ]
  },
  {
   "cell_type": "markdown",
   "metadata": {
    "id": "711fdsvvAh8R"
   },
   "source": [
    "### 1.3.3 String functions\n",
    "- With NumPy String functions, we can manipulate the string values contained in an array\n",
    "- numpy.char.add()\n",
    "- numpy.char.capitalize()\n",
    "- numpy.char.lower()\n",
    "- numpy.char.upper()\n",
    "- numpy.char.replace()"
   ]
  },
  {
   "cell_type": "code",
   "execution_count": null,
   "metadata": {
    "colab": {
     "base_uri": "https://localhost:8080/"
    },
    "executionInfo": {
     "elapsed": 345,
     "status": "ok",
     "timestamp": 1638429940242,
     "user": {
      "displayName": "Guzayya Sarkhawas",
      "photoUrl": "https://lh3.googleusercontent.com/a-/AOh14Gh6Y3aTn0cCcUgPIhsH6M4pKaXp98WUI7DjcDkY=s64",
      "userId": "11368096894351094299"
     },
     "user_tz": -330
    },
    "id": "4I5CZjR6AMgm",
    "outputId": "fd9034ca-0ae0-4fb3-fdf7-5b1c943fd80f"
   },
   "outputs": [
    {
     "name": "stdout",
     "output_type": "stream",
     "text": [
      "Concatenating two strings:\n",
      " : ['Python JournalDev']\n"
     ]
    }
   ],
   "source": [
    "res =  np.char.add(['Python'],[' JournalDev'])\n",
    " \n",
    "print(f\"Concatenating two strings:\\n : {res}\")"
   ]
  },
  {
   "cell_type": "code",
   "execution_count": null,
   "metadata": {
    "colab": {
     "base_uri": "https://localhost:8080/"
    },
    "executionInfo": {
     "elapsed": 371,
     "status": "ok",
     "timestamp": 1638430054500,
     "user": {
      "displayName": "Guzayya Sarkhawas",
      "photoUrl": "https://lh3.googleusercontent.com/a-/AOh14Gh6Y3aTn0cCcUgPIhsH6M4pKaXp98WUI7DjcDkY=s64",
      "userId": "11368096894351094299"
     },
     "user_tz": -330
    },
    "id": "PIsX27Z3CKtb",
    "outputId": "a2ed7cae-35b0-4714-d6da-9e59f6422f55"
   },
   "outputs": [
    {
     "name": "stdout",
     "output_type": "stream",
     "text": [
      "Capitalizing the string : Python data\n"
     ]
    }
   ],
   "source": [
    "print(f\"Capitalizing the string : {np.char.capitalize('python data')}\")"
   ]
  },
  {
   "cell_type": "code",
   "execution_count": null,
   "metadata": {
    "colab": {
     "base_uri": "https://localhost:8080/"
    },
    "executionInfo": {
     "elapsed": 356,
     "status": "ok",
     "timestamp": 1638430138271,
     "user": {
      "displayName": "Guzayya Sarkhawas",
      "photoUrl": "https://lh3.googleusercontent.com/a-/AOh14Gh6Y3aTn0cCcUgPIhsH6M4pKaXp98WUI7DjcDkY=s64",
      "userId": "11368096894351094299"
     },
     "user_tz": -330
    },
    "id": "aZ4xpFZ2CnKa",
    "outputId": "6cab960c-b938-45ea-b905-929cc4f3d4be"
   },
   "outputs": [
    {
     "name": "stdout",
     "output_type": "stream",
     "text": [
      "Converting to lower case : python\n"
     ]
    }
   ],
   "source": [
    "print(f\"Converting to lower case : {np.char.lower('PYTHON')}\")"
   ]
  },
  {
   "cell_type": "code",
   "execution_count": null,
   "metadata": {
    "colab": {
     "base_uri": "https://localhost:8080/"
    },
    "executionInfo": {
     "elapsed": 350,
     "status": "ok",
     "timestamp": 1638430168847,
     "user": {
      "displayName": "Guzayya Sarkhawas",
      "photoUrl": "https://lh3.googleusercontent.com/a-/AOh14Gh6Y3aTn0cCcUgPIhsH6M4pKaXp98WUI7DjcDkY=s64",
      "userId": "11368096894351094299"
     },
     "user_tz": -330
    },
    "id": "0O0FTi7sCwyd",
    "outputId": "e1707b7a-6009-4601-b6b4-209ecccfe64f"
   },
   "outputs": [
    {
     "name": "stdout",
     "output_type": "stream",
     "text": [
      "Converting to UPPER case : PYTHON\n"
     ]
    }
   ],
   "source": [
    "print(f\"Converting to UPPER case : {np.char.upper('python')}\")"
   ]
  },
  {
   "cell_type": "code",
   "execution_count": null,
   "metadata": {
    "colab": {
     "base_uri": "https://localhost:8080/"
    },
    "executionInfo": {
     "elapsed": 348,
     "status": "ok",
     "timestamp": 1638430242140,
     "user": {
      "displayName": "Guzayya Sarkhawas",
      "photoUrl": "https://lh3.googleusercontent.com/a-/AOh14Gh6Y3aTn0cCcUgPIhsH6M4pKaXp98WUI7DjcDkY=s64",
      "userId": "11368096894351094299"
     },
     "user_tz": -330
    },
    "id": "WkwjcxtJCz-e",
    "outputId": "03129c74-67f8-4f74-a8b7-c5c07bf0b40c"
   },
   "outputs": [
    {
     "name": "stdout",
     "output_type": "stream",
     "text": [
      "Replacing string within a string : Python Tutorials with GreatLearning\n"
     ]
    }
   ],
   "source": [
    "print(f\"Replacing string within a string : {np.char.replace ('Python Tutorials with GL', 'GL', 'GreatLearning')}\")"
   ]
  },
  {
   "cell_type": "markdown",
   "metadata": {
    "id": "zFiLoB-tHNaa"
   },
   "source": [
    "### 1.3.4 Binary functions\n",
    "- numpy.bitwise_and()\n",
    "- numpy.bitwise_or()\n",
    "- numpy.bitwise_xor()\n",
    "- numpy.invert()\n",
    "- numpy.left_shift()\n",
    "- numpy.right_shift()"
   ]
  },
  {
   "cell_type": "markdown",
   "metadata": {
    "id": "SBDIxMexqozo"
   },
   "source": [
    "#### numpy.bitwise_and()"
   ]
  },
  {
   "cell_type": "code",
   "execution_count": null,
   "metadata": {
    "colab": {
     "base_uri": "https://localhost:8080/"
    },
    "executionInfo": {
     "elapsed": 457,
     "status": "ok",
     "timestamp": 1638507971703,
     "user": {
      "displayName": "Guzayya Sarkhawas",
      "photoUrl": "https://lh3.googleusercontent.com/a-/AOh14Gh6Y3aTn0cCcUgPIhsH6M4pKaXp98WUI7DjcDkY=s64",
      "userId": "11368096894351094299"
     },
     "user_tz": -330
    },
    "id": "IGFdljIRqrkc",
    "outputId": "4cbd325e-7a04-4309-d3a2-ad2a67aedc8e"
   },
   "outputs": [
    {
     "name": "stdout",
     "output_type": "stream",
     "text": [
      "Input  number1 : 10\n",
      "Input  number2 : 11\n",
      "bitwise_and of 10 and 11 : 10\n"
     ]
    }
   ],
   "source": [
    "import numpy as np\n",
    "in_num1 = 10\n",
    "in_num2 = 11\n",
    " \n",
    "print (f\"Input  number1 : {in_num1}\")\n",
    "print (f\"Input  number2 : {in_num2}\") \n",
    "   \n",
    "out_num = np.bitwise_and(in_num1, in_num2) \n",
    "print (f\"bitwise_and of 10 and 11 : {out_num}\") "
   ]
  },
  {
   "cell_type": "markdown",
   "metadata": {
    "id": "yU0mXMfYr9vq"
   },
   "source": [
    "#### numpy.bitwise_or()"
   ]
  },
  {
   "cell_type": "code",
   "execution_count": null,
   "metadata": {
    "colab": {
     "base_uri": "https://localhost:8080/"
    },
    "executionInfo": {
     "elapsed": 492,
     "status": "ok",
     "timestamp": 1638508032543,
     "user": {
      "displayName": "Guzayya Sarkhawas",
      "photoUrl": "https://lh3.googleusercontent.com/a-/AOh14Gh6Y3aTn0cCcUgPIhsH6M4pKaXp98WUI7DjcDkY=s64",
      "userId": "11368096894351094299"
     },
     "user_tz": -330
    },
    "id": "Q62SW3JFr_s_",
    "outputId": "79575528-4d21-47d4-f45b-00d90c25e5d1"
   },
   "outputs": [
    {
     "name": "stdout",
     "output_type": "stream",
     "text": [
      "bitwise_or of 10 and 11 : 11\n"
     ]
    }
   ],
   "source": [
    "out_num = np.bitwise_or(in_num1, in_num2) \n",
    "print (f\"bitwise_or of 10 and 11 : {out_num}\")"
   ]
  },
  {
   "cell_type": "markdown",
   "metadata": {
    "id": "3ug4PVxOFcsS"
   },
   "source": [
    "### 1.3.5 Statistical functions\n",
    "- NumPy Statistical functions are very helpful in the domain of data mining and analysis of the huge amount of traits in the data\n",
    "- numpy.median()\n",
    "- numpy.mean()\n",
    "- numpy.average()\n",
    "- numpy.std()"
   ]
  },
  {
   "cell_type": "code",
   "execution_count": null,
   "metadata": {
    "colab": {
     "base_uri": "https://localhost:8080/"
    },
    "executionInfo": {
     "elapsed": 359,
     "status": "ok",
     "timestamp": 1638430954558,
     "user": {
      "displayName": "Guzayya Sarkhawas",
      "photoUrl": "https://lh3.googleusercontent.com/a-/AOh14Gh6Y3aTn0cCcUgPIhsH6M4pKaXp98WUI7DjcDkY=s64",
      "userId": "11368096894351094299"
     },
     "user_tz": -330
    },
    "id": "p9gQiC_iFV6Y",
    "outputId": "bf848720-453c-4bbc-9852-4b2b6555d61e"
   },
   "outputs": [
    {
     "name": "stdout",
     "output_type": "stream",
     "text": [
      "Median value of array: 25.0\n",
      "Mean value of array: 29.0\n",
      "Average value of array: 29.0\n",
      "Standard deviation value of array: 20.2895703913776\n"
     ]
    }
   ],
   "source": [
    "x = np.array([10,20,30,4,50,60]) \n",
    " \n",
    "med = np.median(x)\n",
    "print(f\"Median value of array: {med}\")\n",
    " \n",
    "mean = np.mean(x)\n",
    "print(f\"Mean value of array: {mean}\")\n",
    " \n",
    "avg = np.average(x)\n",
    "print(f\"Average value of array: {avg}\")\n",
    " \n",
    "std = np.std(x)\n",
    "print(f\"Standard deviation value of array: {std}\")"
   ]
  },
  {
   "cell_type": "markdown",
   "metadata": {
    "id": "jgFEjEr3wjuV"
   },
   "source": [
    "## 1.4 Numpy Selection techniques\n",
    "- numpy.select()\n",
    "- numpy.where()\n",
    "- numpy.choose()\n",
    "- numpy.random.choice()"
   ]
  },
  {
   "cell_type": "markdown",
   "metadata": {
    "id": "9BjWI-eNw2zw"
   },
   "source": [
    "### numpy.select()\n",
    "- Return an array drawn from elements in choicelist, depending on conditions\n",
    "- Syntax : numpy.select(condlist, choicelist, default=0)"
   ]
  },
  {
   "cell_type": "code",
   "execution_count": null,
   "metadata": {
    "id": "SX6YYxT9xHje"
   },
   "outputs": [],
   "source": [
    "# create an array\n",
    "arr = np.arange(20)"
   ]
  },
  {
   "cell_type": "code",
   "execution_count": null,
   "metadata": {
    "colab": {
     "base_uri": "https://localhost:8080/"
    },
    "executionInfo": {
     "elapsed": 463,
     "status": "ok",
     "timestamp": 1638509393127,
     "user": {
      "displayName": "Guzayya Sarkhawas",
      "photoUrl": "https://lh3.googleusercontent.com/a-/AOh14Gh6Y3aTn0cCcUgPIhsH6M4pKaXp98WUI7DjcDkY=s64",
      "userId": "11368096894351094299"
     },
     "user_tz": -330
    },
    "id": "F0ItxlmXxO7f",
    "outputId": "80a25d51-ef2f-4397-e00f-7350673d28f9"
   },
   "outputs": [
    {
     "data": {
      "text/plain": [
       "array([  0,   1,   2,   3,   4,   0,   0,   0,  64,  81, 100, 121, 144,\n",
       "       169, 196, 225, 256, 289, 324, 361])"
      ]
     },
     "execution_count": 8,
     "metadata": {},
     "output_type": "execute_result"
    }
   ],
   "source": [
    "np.select(condlist= [arr<5, arr>7], choicelist= [arr, arr**2])"
   ]
  },
  {
   "cell_type": "markdown",
   "metadata": {
    "id": "tOe350KnxU5M"
   },
   "source": [
    "### numpy.where()\n",
    "- Return elements chosen from x or y depending on condition\n",
    "- Syntax : numpy.where(condition[, x, y])"
   ]
  },
  {
   "cell_type": "code",
   "execution_count": null,
   "metadata": {
    "colab": {
     "base_uri": "https://localhost:8080/"
    },
    "executionInfo": {
     "elapsed": 425,
     "status": "ok",
     "timestamp": 1638509611898,
     "user": {
      "displayName": "Guzayya Sarkhawas",
      "photoUrl": "https://lh3.googleusercontent.com/a-/AOh14Gh6Y3aTn0cCcUgPIhsH6M4pKaXp98WUI7DjcDkY=s64",
      "userId": "11368096894351094299"
     },
     "user_tz": -330
    },
    "id": "hASEilvSyGUv",
    "outputId": "1662c8c8-ab38-4b8e-cbab-624bb4ef4682"
   },
   "outputs": [
    {
     "data": {
      "text/plain": [
       "array([ 0,  1,  2,  3,  4,  5, 12, 14, 16, 18, 20, 22, 24, 26, 28, 30, 32,\n",
       "       34, 36, 38])"
      ]
     },
     "execution_count": 9,
     "metadata": {},
     "output_type": "execute_result"
    }
   ],
   "source": [
    "np.where(arr < 6, arr, 2*arr)"
   ]
  },
  {
   "cell_type": "markdown",
   "metadata": {
    "id": "nyYsXssJyJRX"
   },
   "source": [
    "### numpy.choose()\n",
    "- Construct an array from an index array and a list of arrays to choose from\n",
    "- Syntax : numpy.choose(a, choices, out=None, mode='raise')"
   ]
  },
  {
   "cell_type": "code",
   "execution_count": null,
   "metadata": {
    "colab": {
     "base_uri": "https://localhost:8080/"
    },
    "executionInfo": {
     "elapsed": 424,
     "status": "ok",
     "timestamp": 1638509674563,
     "user": {
      "displayName": "Guzayya Sarkhawas",
      "photoUrl": "https://lh3.googleusercontent.com/a-/AOh14Gh6Y3aTn0cCcUgPIhsH6M4pKaXp98WUI7DjcDkY=s64",
      "userId": "11368096894351094299"
     },
     "user_tz": -330
    },
    "id": "TZIZWLC_yVRb",
    "outputId": "c7ebfee5-b919-44f8-89ef-dd3b019bb27b"
   },
   "outputs": [
    {
     "data": {
      "text/plain": [
       "array([50, 61, 30,  9])"
      ]
     },
     "execution_count": 10,
     "metadata": {},
     "output_type": "execute_result"
    }
   ],
   "source": [
    "choices = [[0, 1, 10, 9], [10, 20, 30, 40],\n",
    "  [50, 51, 52, 53], [60, 61, 62, 63]]\n",
    "np.choose([2,3,1,0], choices)"
   ]
  },
  {
   "cell_type": "markdown",
   "metadata": {
    "id": "qF-jRJdayaBe"
   },
   "source": [
    "### numpy.random.choice()\n",
    "- Generates a random sample from a given 1-D array\n",
    "- Syntax : random.choice(a, size=None, replace=True, p=None)"
   ]
  },
  {
   "cell_type": "code",
   "execution_count": null,
   "metadata": {
    "colab": {
     "base_uri": "https://localhost:8080/"
    },
    "executionInfo": {
     "elapsed": 523,
     "status": "ok",
     "timestamp": 1638509704251,
     "user": {
      "displayName": "Guzayya Sarkhawas",
      "photoUrl": "https://lh3.googleusercontent.com/a-/AOh14Gh6Y3aTn0cCcUgPIhsH6M4pKaXp98WUI7DjcDkY=s64",
      "userId": "11368096894351094299"
     },
     "user_tz": -330
    },
    "id": "e5B4atUnyeFH",
    "outputId": "10b679ca-bbca-452e-8db3-f5f4d5165327"
   },
   "outputs": [
    {
     "data": {
      "text/plain": [
       "array([16,  4, 12,  0])"
      ]
     },
     "execution_count": 11,
     "metadata": {},
     "output_type": "execute_result"
    }
   ],
   "source": [
    "np.random.choice(20,4)"
   ]
  }
 ],
 "metadata": {
  "colab": {
   "name": "Numpy.ipynb",
   "provenance": []
  },
  "kernelspec": {
   "display_name": "Python 3 (ipykernel)",
   "language": "python",
   "name": "python3"
  },
  "language_info": {
   "codemirror_mode": {
    "name": "ipython",
    "version": 3
   },
   "file_extension": ".py",
   "mimetype": "text/x-python",
   "name": "python",
   "nbconvert_exporter": "python",
   "pygments_lexer": "ipython3",
   "version": "3.9.7"
  }
 },
 "nbformat": 4,
 "nbformat_minor": 1
}
