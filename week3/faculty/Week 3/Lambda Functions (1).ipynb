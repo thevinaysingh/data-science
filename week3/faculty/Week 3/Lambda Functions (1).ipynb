{
 "cells": [
  {
   "cell_type": "markdown",
   "metadata": {
    "id": "Jb6MTdCIZOth"
   },
   "source": [
    "# 1. Agenda\n",
    "\n",
    "- Lambda functions\n",
    "- Smart coding of functions"
   ]
  },
  {
   "cell_type": "markdown",
   "metadata": {
    "id": "GmjWEwXJXSLB"
   },
   "source": [
    "Use of Functions\n",
    " - repeatability of code\n",
    " - reusability of code\n",
    " - readability of code\n",
    " \n",
    " eg -\n",
    "    - let us say, your program reads date from a file and converts date to julian date (YYDDD)\n",
    "    - print the date into an output files\n",
    "    - for every record read from the file, program will convert the date to julian date\n",
    "    - the program will then print the julian date into an output file\n",
    "    \n",
    "    in the example, \"converting the date\", is a repeatable task \n",
    "    such repeatable tasks can be formed as a function\n",
    "    \n",
    "    python has a lot of built in functions which examplify repeatability and reusability and readability\n",
    "    print()\n",
    "    type()\n",
    "    len()\n",
    "    input()\n",
    "    \n",
    "    methods are within a function \n",
    "    string.upper()\n",
    "    string.lower()\n",
    "    list.append()\n",
    "    string.split()"
   ]
  },
  {
   "cell_type": "markdown",
   "metadata": {
    "id": "XnlOfJnxCkFB"
   },
   "source": [
    "# 2. Lambda function\n",
    "- Lambda functions are anonymous function means that the function is without a name\n",
    "- lambda keyword is used to define an anonymous function in Python\n",
    "- Syntax :\n",
    "  - lambda arguments: expression\n",
    "- This function can have any number of arguments but only one expression, which is evaluated and returned\n",
    "- One is free to use lambda functions wherever function objects are required\n",
    "- They are syntactically restricted to a single expression"
   ]
  },
  {
   "cell_type": "code",
   "execution_count": null,
   "metadata": {
    "colab": {
     "base_uri": "https://localhost:8080/"
    },
    "executionInfo": {
     "elapsed": 410,
     "status": "ok",
     "timestamp": 1638180210167,
     "user": {
      "displayName": "Guzayya Sarkhawas",
      "photoUrl": "https://lh3.googleusercontent.com/a-/AOh14Gh6Y3aTn0cCcUgPIhsH6M4pKaXp98WUI7DjcDkY=s64",
      "userId": "11368096894351094299"
     },
     "user_tz": -330
    },
    "id": "-k8PQf9GJPZZ",
    "outputId": "c13a557a-be48-4ed8-abbc-c0d1f24094c2"
   },
   "outputs": [
    {
     "name": "stdout",
     "output_type": "stream",
     "text": [
      "<function <lambda> at 0x7fc2f29f9c20>\n"
     ]
    }
   ],
   "source": [
    "string ='GreatLearning'\n",
    " \n",
    "# lambda returns a function object\n",
    "print(lambda string : string)"
   ]
  },
  {
   "cell_type": "markdown",
   "metadata": {
    "id": "WGklgTpfJU4B"
   },
   "source": [
    "###### NOTE : In this above example, the lambda is not being called by the print function but simply returning the function object and the memory location where it is stored. So, to make the print to print the string first we need to call the lambda so that the string will get pass the print."
   ]
  },
  {
   "cell_type": "code",
   "execution_count": null,
   "metadata": {
    "colab": {
     "base_uri": "https://localhost:8080/"
    },
    "executionInfo": {
     "elapsed": 424,
     "status": "ok",
     "timestamp": 1638180232557,
     "user": {
      "displayName": "Guzayya Sarkhawas",
      "photoUrl": "https://lh3.googleusercontent.com/a-/AOh14Gh6Y3aTn0cCcUgPIhsH6M4pKaXp98WUI7DjcDkY=s64",
      "userId": "11368096894351094299"
     },
     "user_tz": -330
    },
    "id": "WgL0ZFDSJd66",
    "outputId": "accd5864-019a-4baa-cb53-40e0c742583d"
   },
   "outputs": [
    {
     "name": "stdout",
     "output_type": "stream",
     "text": [
      "GreatLearning\n"
     ]
    }
   ],
   "source": [
    "x ='GreatLearning'\n",
    "(lambda x : print(x))(x)"
   ]
  },
  {
   "cell_type": "markdown",
   "metadata": {
    "id": "69lJjxeCJx_3"
   },
   "source": [
    "### 2.2.1 Lambda function with list comprehension"
   ]
  },
  {
   "cell_type": "code",
   "execution_count": null,
   "metadata": {
    "colab": {
     "base_uri": "https://localhost:8080/"
    },
    "executionInfo": {
     "elapsed": 573,
     "status": "ok",
     "timestamp": 1638180383692,
     "user": {
      "displayName": "Guzayya Sarkhawas",
      "photoUrl": "https://lh3.googleusercontent.com/a-/AOh14Gh6Y3aTn0cCcUgPIhsH6M4pKaXp98WUI7DjcDkY=s64",
      "userId": "11368096894351094299"
     },
     "user_tz": -330
    },
    "id": "WD8-zZp0JsR5",
    "outputId": "d0667d86-2d53-47a6-b84b-f9df08afef34"
   },
   "outputs": [
    {
     "name": "stdout",
     "output_type": "stream",
     "text": [
      "10\n",
      "20\n",
      "30\n",
      "40\n",
      "50\n",
      "60\n",
      "70\n",
      "80\n",
      "90\n",
      "100\n"
     ]
    }
   ],
   "source": [
    "tables = [lambda x=x: x*10 for x in range(1, 11)]\n",
    " \n",
    "for table in tables:\n",
    "    print(table())"
   ]
  },
  {
   "cell_type": "code",
   "execution_count": null,
   "metadata": {
    "colab": {
     "base_uri": "https://localhost:8080/"
    },
    "executionInfo": {
     "elapsed": 396,
     "status": "ok",
     "timestamp": 1638180418330,
     "user": {
      "displayName": "Guzayya Sarkhawas",
      "photoUrl": "https://lh3.googleusercontent.com/a-/AOh14Gh6Y3aTn0cCcUgPIhsH6M4pKaXp98WUI7DjcDkY=s64",
      "userId": "11368096894351094299"
     },
     "user_tz": -330
    },
    "id": "fePktnNDKPZH",
    "outputId": "e1318ab7-77d3-45f0-9b0b-21b4aec8fc2b"
   },
   "outputs": [
    {
     "name": "stdout",
     "output_type": "stream",
     "text": [
      "[3, 16, 9]\n"
     ]
    }
   ],
   "source": [
    "List1 = [[2, 3, 4], [1, 4, 16, 64], [3, 6, 9, 12]]\n",
    " \n",
    "# Sort each sublist\n",
    "sortedList = lambda x: (sorted(i) for i in x)\n",
    " \n",
    "# Get the second largest element\n",
    "secondLargest = lambda x, f : [y[len(y)-2] for y in f(x)]\n",
    "result = secondLargest(List1, sortedList)\n",
    " \n",
    "print(result)"
   ]
  },
  {
   "cell_type": "markdown",
   "metadata": {
    "id": "n4hYUaV3Kus5"
   },
   "source": [
    "### 2.2.2 Lambda function with filter()"
   ]
  },
  {
   "cell_type": "code",
   "execution_count": null,
   "metadata": {
    "colab": {
     "base_uri": "https://localhost:8080/"
    },
    "executionInfo": {
     "elapsed": 402,
     "status": "ok",
     "timestamp": 1638180588240,
     "user": {
      "displayName": "Guzayya Sarkhawas",
      "photoUrl": "https://lh3.googleusercontent.com/a-/AOh14Gh6Y3aTn0cCcUgPIhsH6M4pKaXp98WUI7DjcDkY=s64",
      "userId": "11368096894351094299"
     },
     "user_tz": -330
    },
    "id": "x2csaXvLK0Dh",
    "outputId": "3fb9695f-6cdd-404c-c581-ff0e027176f3"
   },
   "outputs": [
    {
     "name": "stdout",
     "output_type": "stream",
     "text": [
      "[5, 7, 97, 77, 23, 73, 61]\n"
     ]
    }
   ],
   "source": [
    "list2 = [5, 7, 22, 97, 54, 62, 77, 23, 73, 61]\n",
    " \n",
    "odd_list = list(filter(lambda x: (x % 2 != 0) , list2))\n",
    "print(odd_list)"
   ]
  },
  {
   "cell_type": "code",
   "execution_count": null,
   "metadata": {
    "colab": {
     "base_uri": "https://localhost:8080/"
    },
    "executionInfo": {
     "elapsed": 393,
     "status": "ok",
     "timestamp": 1638180628152,
     "user": {
      "displayName": "Guzayya Sarkhawas",
      "photoUrl": "https://lh3.googleusercontent.com/a-/AOh14Gh6Y3aTn0cCcUgPIhsH6M4pKaXp98WUI7DjcDkY=s64",
      "userId": "11368096894351094299"
     },
     "user_tz": -330
    },
    "id": "uD-MsqSwLBOl",
    "outputId": "abf3a58a-38e5-483c-8d9f-c27ec7fe7c87"
   },
   "outputs": [
    {
     "name": "stdout",
     "output_type": "stream",
     "text": [
      "[90, 59, 21, 60]\n"
     ]
    }
   ],
   "source": [
    "ages = [13, 90, 17, 59, 21, 60, 5]\n",
    " \n",
    "adults = list(filter(lambda age: age > 18, ages))\n",
    " \n",
    "print(adults)"
   ]
  },
  {
   "cell_type": "markdown",
   "metadata": {
    "id": "hSOWV3UaLPT6"
   },
   "source": [
    "### 2.2.3 Lambda function with map()"
   ]
  },
  {
   "cell_type": "code",
   "execution_count": null,
   "metadata": {
    "colab": {
     "base_uri": "https://localhost:8080/"
    },
    "executionInfo": {
     "elapsed": 400,
     "status": "ok",
     "timestamp": 1638180694954,
     "user": {
      "displayName": "Guzayya Sarkhawas",
      "photoUrl": "https://lh3.googleusercontent.com/a-/AOh14Gh6Y3aTn0cCcUgPIhsH6M4pKaXp98WUI7DjcDkY=s64",
      "userId": "11368096894351094299"
     },
     "user_tz": -330
    },
    "id": "JgTTWN0dLTem",
    "outputId": "d83143e6-f36c-4da5-fa9c-39d9d00b5769"
   },
   "outputs": [
    {
     "name": "stdout",
     "output_type": "stream",
     "text": [
      "[10, 14, 44, 194, 108, 124, 154, 46, 146, 122]\n"
     ]
    }
   ],
   "source": [
    "list3 = [5, 7, 22, 97, 54, 62, 77, 23, 73, 61]\n",
    " \n",
    "final_list = list(map(lambda x: x*2, list3))\n",
    "print(final_list)"
   ]
  },
  {
   "cell_type": "markdown",
   "metadata": {
    "id": "YMLfRaHdXSL5"
   },
   "source": [
    "# 3. Smart coding of functions"
   ]
  },
  {
   "cell_type": "markdown",
   "metadata": {
    "id": "b0UWOfhq1gDh"
   },
   "source": [
    "## 3.1 Using enumerate()\n",
    "- Return an enumerate object\n",
    "- Takes only iterables as input\n",
    "- Returns a tuple containing an index and the values obtained from iterating over iterable"
   ]
  },
  {
   "cell_type": "code",
   "execution_count": null,
   "metadata": {
    "colab": {
     "base_uri": "https://localhost:8080/"
    },
    "executionInfo": {
     "elapsed": 375,
     "status": "ok",
     "timestamp": 1638175170347,
     "user": {
      "displayName": "Guzayya Sarkhawas",
      "photoUrl": "https://lh3.googleusercontent.com/a-/AOh14Gh6Y3aTn0cCcUgPIhsH6M4pKaXp98WUI7DjcDkY=s64",
      "userId": "11368096894351094299"
     },
     "user_tz": -330
    },
    "id": "s-7U0rLi2SQC",
    "outputId": "d45b5555-00af-408f-c0e3-fa6ac5fc2eb0"
   },
   "outputs": [
    {
     "name": "stdout",
     "output_type": "stream",
     "text": [
      "index: 0, character: a\n",
      "index: 1, character: b\n",
      "index: 2, character: c\n"
     ]
    }
   ],
   "source": [
    "for index, char in enumerate(['a', 'b', 'c']):\n",
    "    print(f'index: {index}, character: {char}')"
   ]
  },
  {
   "cell_type": "code",
   "execution_count": null,
   "metadata": {
    "colab": {
     "base_uri": "https://localhost:8080/"
    },
    "executionInfo": {
     "elapsed": 378,
     "status": "ok",
     "timestamp": 1638175184793,
     "user": {
      "displayName": "Guzayya Sarkhawas",
      "photoUrl": "https://lh3.googleusercontent.com/a-/AOh14Gh6Y3aTn0cCcUgPIhsH6M4pKaXp98WUI7DjcDkY=s64",
      "userId": "11368096894351094299"
     },
     "user_tz": -330
    },
    "id": "wnaXuu2Y2Wn7",
    "outputId": "bb960f65-90ab-411f-807b-d8787662ba6e"
   },
   "outputs": [
    {
     "data": {
      "text/plain": [
       "[(0, 'a'), (1, 'b'), (2, 'c')]"
      ]
     },
     "execution_count": 99,
     "metadata": {},
     "output_type": "execute_result"
    }
   ],
   "source": [
    "list(enumerate(['a', 'b', 'c']))"
   ]
  },
  {
   "cell_type": "markdown",
   "metadata": {
    "id": "8hfsp3tp2afk"
   },
   "source": [
    "## 3.2 Using filter()\n",
    "- Takes 2 aprameters namely function and iterable\n",
    "- Construct an iterator from those elements of iterable for which function returns true\n",
    "- filter(function, iterable) is equivalent to the generator expression (item for item in iterable if function(item)) if function is not None and (item for item in iterable if item) if function is None."
   ]
  },
  {
   "cell_type": "code",
   "execution_count": null,
   "metadata": {
    "colab": {
     "base_uri": "https://localhost:8080/"
    },
    "executionInfo": {
     "elapsed": 414,
     "status": "ok",
     "timestamp": 1638175448854,
     "user": {
      "displayName": "Guzayya Sarkhawas",
      "photoUrl": "https://lh3.googleusercontent.com/a-/AOh14Gh6Y3aTn0cCcUgPIhsH6M4pKaXp98WUI7DjcDkY=s64",
      "userId": "11368096894351094299"
     },
     "user_tz": -330
    },
    "id": "3z1oSK4O3Piq",
    "outputId": "b6bd2032-a489-4e97-e5ce-384bedf00c34"
   },
   "outputs": [
    {
     "data": {
      "text/plain": [
       "[2, 4, 6, 8]"
      ]
     },
     "execution_count": 100,
     "metadata": {},
     "output_type": "execute_result"
    }
   ],
   "source": [
    "def even_number(number):\n",
    "    if number % 2 == 0:\n",
    "        return True\n",
    "    return False\n",
    "f_even = filter(even_number, [1,2,3,4,5,6,7,8])\n",
    "list(f_even)"
   ]
  },
  {
   "cell_type": "code",
   "execution_count": null,
   "metadata": {
    "colab": {
     "base_uri": "https://localhost:8080/"
    },
    "executionInfo": {
     "elapsed": 362,
     "status": "ok",
     "timestamp": 1638175688113,
     "user": {
      "displayName": "Guzayya Sarkhawas",
      "photoUrl": "https://lh3.googleusercontent.com/a-/AOh14Gh6Y3aTn0cCcUgPIhsH6M4pKaXp98WUI7DjcDkY=s64",
      "userId": "11368096894351094299"
     },
     "user_tz": -330
    },
    "id": "s8zvjuAq3bAI",
    "outputId": "a14bd5dc-5985-40a1-b044-09aeefacba45"
   },
   "outputs": [
    {
     "name": "stdout",
     "output_type": "stream",
     "text": [
      "The filtered letters are:\n",
      "a\n",
      "e\n",
      "o\n",
      "u\n"
     ]
    }
   ],
   "source": [
    "# function to filter vowels\n",
    "def vowel_fun(variable):\n",
    "    letters = ['a', 'e', 'i', 'o', 'u']\n",
    "    if (variable in letters):\n",
    "        return True\n",
    "    else:\n",
    "        return False\n",
    "\n",
    "sequence = ['a', 'b', 'e', 'j', 'k', 's', 'o', 'u']\n",
    "  \n",
    "# using filter function\n",
    "filtered = filter(vowel_fun, sequence)\n",
    "  \n",
    "print(f'The filtered letters are:')\n",
    "for s in filtered:\n",
    "    print(s)"
   ]
  },
  {
   "cell_type": "markdown",
   "metadata": {
    "id": "eL_x1j_4Azx7"
   },
   "source": [
    "## 3.3 Using map()\n",
    "- Returns a map object(which is an iterator) of the results after applying the given function to each item of a given iterable (list, tuple etc.)\n",
    "- Syntax : map(function, iterable)"
   ]
  },
  {
   "cell_type": "code",
   "execution_count": null,
   "metadata": {
    "colab": {
     "base_uri": "https://localhost:8080/"
    },
    "executionInfo": {
     "elapsed": 374,
     "status": "ok",
     "timestamp": 1638178180799,
     "user": {
      "displayName": "Guzayya Sarkhawas",
      "photoUrl": "https://lh3.googleusercontent.com/a-/AOh14Gh6Y3aTn0cCcUgPIhsH6M4pKaXp98WUI7DjcDkY=s64",
      "userId": "11368096894351094299"
     },
     "user_tz": -330
    },
    "id": "uPlOSTC_BoLR",
    "outputId": "b3978cf0-a086-4d8a-ec4a-158c7054732f"
   },
   "outputs": [
    {
     "name": "stdout",
     "output_type": "stream",
     "text": [
      "[2, 4, 6, 8]\n"
     ]
    }
   ],
   "source": [
    "def adding(n):\n",
    "    return n + n\n",
    "\n",
    "numbers = (1, 2, 3, 4)\n",
    "result = map(adding, numbers)\n",
    "print(list(result))"
   ]
  },
  {
   "cell_type": "code",
   "execution_count": null,
   "metadata": {
    "colab": {
     "base_uri": "https://localhost:8080/"
    },
    "executionInfo": {
     "elapsed": 735,
     "status": "ok",
     "timestamp": 1638178272778,
     "user": {
      "displayName": "Guzayya Sarkhawas",
      "photoUrl": "https://lh3.googleusercontent.com/a-/AOh14Gh6Y3aTn0cCcUgPIhsH6M4pKaXp98WUI7DjcDkY=s64",
      "userId": "11368096894351094299"
     },
     "user_tz": -330
    },
    "id": "3a4lscgOB8Mq",
    "outputId": "df31b90b-70b6-4b50-f210-8f716452985a"
   },
   "outputs": [
    {
     "name": "stdout",
     "output_type": "stream",
     "text": [
      "[['p', 'y', 't', 'h', 'o', 'n'], ['j', 'a', 'v', 'a'], ['g', 'o']]\n"
     ]
    }
   ],
   "source": [
    "l = ['python', 'java', 'go']\n",
    "  \n",
    "# map() can list out the list of strings individually\n",
    "test = list(map(list, l))\n",
    "print(test)"
   ]
  },
  {
   "cell_type": "markdown",
   "metadata": {
    "id": "Gxj3-0J65cux"
   },
   "source": [
    "## 3.4 Using zip()\n",
    "- Iterate over several iterables in parallel, producing tuples with an item from each one\n",
    "- It is created for easily iterating the elements from two lists correspondingly"
   ]
  },
  {
   "cell_type": "code",
   "execution_count": null,
   "metadata": {
    "colab": {
     "base_uri": "https://localhost:8080/"
    },
    "executionInfo": {
     "elapsed": 367,
     "status": "ok",
     "timestamp": 1638176082975,
     "user": {
      "displayName": "Guzayya Sarkhawas",
      "photoUrl": "https://lh3.googleusercontent.com/a-/AOh14Gh6Y3aTn0cCcUgPIhsH6M4pKaXp98WUI7DjcDkY=s64",
      "userId": "11368096894351094299"
     },
     "user_tz": -330
    },
    "id": "Kj4rjXNR5xqa",
    "outputId": "ab825628-748e-4328-f3e1-157e0fbec118"
   },
   "outputs": [
    {
     "name": "stdout",
     "output_type": "stream",
     "text": [
      "1 a\n",
      "2 b\n",
      "3 c\n"
     ]
    }
   ],
   "source": [
    "for num, letter in zip([1, 2, 3], ['a', 'b', 'c']):\n",
    "    print(num, letter)"
   ]
  },
  {
   "cell_type": "code",
   "execution_count": null,
   "metadata": {
    "colab": {
     "base_uri": "https://localhost:8080/"
    },
    "executionInfo": {
     "elapsed": 398,
     "status": "ok",
     "timestamp": 1638176223521,
     "user": {
      "displayName": "Guzayya Sarkhawas",
      "photoUrl": "https://lh3.googleusercontent.com/a-/AOh14Gh6Y3aTn0cCcUgPIhsH6M4pKaXp98WUI7DjcDkY=s64",
      "userId": "11368096894351094299"
     },
     "user_tz": -330
    },
    "id": "2LfHoWBz52wA",
    "outputId": "84174ff1-bdee-446e-f728-6cbf42522385"
   },
   "outputs": [
    {
     "name": "stdout",
     "output_type": "stream",
     "text": [
      "0 Python 30\n",
      "1 Java 50\n",
      "2 C++ 45\n"
     ]
    }
   ],
   "source": [
    "names = ['Python', 'Java', 'C++']\n",
    "since = [30, 50, 45]\n",
    " \n",
    "for i, (name, ava_since) in enumerate(zip(names, since)):\n",
    "    print(i, name, ava_since)"
   ]
  },
  {
   "cell_type": "markdown",
   "metadata": {
    "id": "vGOhIMlDixQ6"
   },
   "source": [
    "## 3.5 Using 'in' & 'not in' operator\n",
    "- The 'in' operator is used to check if a value exists in a sequence or not\n",
    "- Evaluates to true if it finds a variable in the specified sequence and false otherwise"
   ]
  },
  {
   "cell_type": "code",
   "execution_count": null,
   "metadata": {
    "id": "Zrh7LCZPXSL6"
   },
   "outputs": [],
   "source": [
    "### to smart code a function \n",
    "### IN operator is used to check the existence of a value in an object\n",
    "def word_check_smart(myword):\n",
    "    return 'python' in myword.lower() and 'tensorflow' not in myword.lower()"
   ]
  },
  {
   "cell_type": "code",
   "execution_count": null,
   "metadata": {
    "colab": {
     "base_uri": "https://localhost:8080/"
    },
    "executionInfo": {
     "elapsed": 3,
     "status": "ok",
     "timestamp": 1638170128512,
     "user": {
      "displayName": "Guzayya Sarkhawas",
      "photoUrl": "https://lh3.googleusercontent.com/a-/AOh14Gh6Y3aTn0cCcUgPIhsH6M4pKaXp98WUI7DjcDkY=s64",
      "userId": "11368096894351094299"
     },
     "user_tz": -330
    },
    "id": "q2m1u4TnXSL7",
    "outputId": "8e95f629-0ee0-4efc-de18-6dbdf6c1efff"
   },
   "outputs": [
    {
     "name": "stdout",
     "output_type": "stream",
     "text": [
      "False\n"
     ]
    }
   ],
   "source": [
    "print(word_check_smart(\"python is an object oriented language but tensorflow is a tool\"))"
   ]
  },
  {
   "cell_type": "code",
   "execution_count": null,
   "metadata": {
    "colab": {
     "base_uri": "https://localhost:8080/"
    },
    "executionInfo": {
     "elapsed": 581,
     "status": "ok",
     "timestamp": 1638170131096,
     "user": {
      "displayName": "Guzayya Sarkhawas",
      "photoUrl": "https://lh3.googleusercontent.com/a-/AOh14Gh6Y3aTn0cCcUgPIhsH6M4pKaXp98WUI7DjcDkY=s64",
      "userId": "11368096894351094299"
     },
     "user_tz": -330
    },
    "id": "q3w8laSbXSL7",
    "outputId": "88354433-2870-4dc7-e8a1-a4ec42adbd25"
   },
   "outputs": [
    {
     "name": "stdout",
     "output_type": "stream",
     "text": [
      "True\n"
     ]
    }
   ],
   "source": [
    "print(word_check_smart(\"python is an object oriented language but caffee is a tool\"))"
   ]
  },
  {
   "cell_type": "code",
   "execution_count": null,
   "metadata": {
    "colab": {
     "base_uri": "https://localhost:8080/"
    },
    "executionInfo": {
     "elapsed": 389,
     "status": "ok",
     "timestamp": 1638170136660,
     "user": {
      "displayName": "Guzayya Sarkhawas",
      "photoUrl": "https://lh3.googleusercontent.com/a-/AOh14Gh6Y3aTn0cCcUgPIhsH6M4pKaXp98WUI7DjcDkY=s64",
      "userId": "11368096894351094299"
     },
     "user_tz": -330
    },
    "id": "fDvbHC_bXSL8",
    "outputId": "520d2093-d99b-459e-b524-ca1d9cc59084"
   },
   "outputs": [
    {
     "name": "stdout",
     "output_type": "stream",
     "text": [
      "True\n"
     ]
    }
   ],
   "source": [
    "print(word_check_smart(\"PYTHON is an object oriented language\"))"
   ]
  },
  {
   "cell_type": "code",
   "execution_count": null,
   "metadata": {
    "colab": {
     "base_uri": "https://localhost:8080/"
    },
    "executionInfo": {
     "elapsed": 378,
     "status": "ok",
     "timestamp": 1638170140050,
     "user": {
      "displayName": "Guzayya Sarkhawas",
      "photoUrl": "https://lh3.googleusercontent.com/a-/AOh14Gh6Y3aTn0cCcUgPIhsH6M4pKaXp98WUI7DjcDkY=s64",
      "userId": "11368096894351094299"
     },
     "user_tz": -330
    },
    "id": "a8p6BQ1pXSL9",
    "outputId": "2d073ab4-1881-4ce1-89b8-2abdbaf5198b"
   },
   "outputs": [
    {
     "name": "stdout",
     "output_type": "stream",
     "text": [
      "False\n"
     ]
    }
   ],
   "source": [
    "print(word_check_smart(\"is an object oriented language\"))"
   ]
  }
 ],
 "metadata": {
  "colab": {
   "name": "Lambda Functions.ipynb",
   "provenance": []
  },
  "kernelspec": {
   "display_name": "Python 3 (ipykernel)",
   "language": "python",
   "name": "python3"
  },
  "language_info": {
   "codemirror_mode": {
    "name": "ipython",
    "version": 3
   },
   "file_extension": ".py",
   "mimetype": "text/x-python",
   "name": "python",
   "nbconvert_exporter": "python",
   "pygments_lexer": "ipython3",
   "version": "3.9.7"
  }
 },
 "nbformat": 4,
 "nbformat_minor": 1
}
