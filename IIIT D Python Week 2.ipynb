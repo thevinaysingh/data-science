{
 "cells": [
  {
   "cell_type": "markdown",
   "id": "e8d32abe",
   "metadata": {
    "id": "e8d32abe"
   },
   "source": [
    "# Table of Content\n",
    "\n",
    "- List\n",
    "- Tuple\n",
    "- Tuple Vs List\n",
    "- Why do we use tuple?\n",
    "- Dictionary\n",
    "- Set\n",
    "- List Comprehensions \n",
    "- Conditional statements\n",
    "- Looping statements\n",
    "- Function"
   ]
  },
  {
   "cell_type": "markdown",
   "id": "de091c97",
   "metadata": {
    "id": "de091c97"
   },
   "source": [
    "## List"
   ]
  },
  {
   "cell_type": "code",
   "execution_count": null,
   "id": "b9f2ad81",
   "metadata": {
    "id": "b9f2ad81",
    "outputId": "b4c20048-ef36-4b94-ee61-afe062e9428a"
   },
   "outputs": [
    {
     "name": "stdout",
     "output_type": "stream",
     "text": [
      "List 1: [1, 'a#', 'Python', 0]\n",
      "\n",
      "List 2: [1, 'Variable', 'This is a string', 3]\n"
     ]
    }
   ],
   "source": [
    "# List declaration - 1\n",
    "List_1  = [1, \"a#\" , \"Python\" , 2-2] # syntax\n",
    "print(\"List 1:\",List_1) \n",
    "\n",
    "# List declaration - 2\n",
    "a = \"Variable\"\n",
    "\n",
    "string1 = \"This is a string\"\n",
    "\n",
    "operation = int(18-12/3)    # type casting\n",
    "\n",
    "List_2  = [1, a , string1 , int(operation/4)]   \n",
    "\n",
    "print(\"\\nList 2:\",List_2) "
   ]
  },
  {
   "cell_type": "markdown",
   "id": "cd8bc514",
   "metadata": {
    "id": "cd8bc514"
   },
   "source": [
    "### List methods"
   ]
  },
  {
   "cell_type": "markdown",
   "id": "e01bad03",
   "metadata": {
    "id": "e01bad03"
   },
   "source": [
    "### Below examples explain append , extend, pop, insert, count, etc."
   ]
  },
  {
   "cell_type": "code",
   "execution_count": null,
   "id": "42c5d927",
   "metadata": {
    "id": "42c5d927",
    "outputId": "6798d6c0-f411-4b98-b504-ad9d37dcce23",
    "scrolled": true
   },
   "outputs": [
    {
     "name": "stdout",
     "output_type": "stream",
     "text": [
      "[1, 'a#', 'python', 0]\n",
      "[1, 'a#', 'python', 0, 6]\n",
      "[1, 'a#', 'python', 0, 6, 2, 'python 3.8 current version', 4]\n",
      "[1, 'a#', 'python', 0, 6, 2, 'python 3.8 current version']\n",
      "[1, 3, 'a#', 'python', 0, 6, 2, 'python 3.8 current version']\n",
      "1\n",
      "1\n",
      "3\n",
      "a#\n",
      "python\n",
      "0\n",
      "6\n",
      "2\n",
      "python 3.8 current version\n"
     ]
    }
   ],
   "source": [
    "# Declaring a list \n",
    "List1  = [1, \"a#\" , \"python\" , 2-2] \n",
    "print(List1) \n",
    "  \n",
    "# add 6 to the above list \n",
    "List1.append(6) \n",
    "print(List1)\n",
    "\n",
    "List1.extend([2,\"python 3.8 current version\", 4])\n",
    "print(List1)\n",
    "  \n",
    "#pop method deletes the last element\n",
    "List1.pop() \n",
    "print(List1)\n",
    "\n",
    "#insert method\n",
    "List1.insert(1,3)\n",
    "print(List1)\n",
    "\n",
    "# count() method counts the number of time specified element occurs in list\n",
    "counts = List1.count(\"python\")\n",
    "print(counts)\n",
    "\n",
    "#another way to print list elements\n",
    "for i in range(len(List1)):    \n",
    "    print(List1[i])"
   ]
  },
  {
   "cell_type": "markdown",
   "id": "304736fb",
   "metadata": {
    "id": "304736fb"
   },
   "source": [
    "### List unpacking"
   ]
  },
  {
   "cell_type": "code",
   "execution_count": null,
   "id": "0b9ff3d0",
   "metadata": {
    "id": "0b9ff3d0",
    "outputId": "963dccf1-4634-4408-ac7a-be500678dedf"
   },
   "outputs": [
    {
     "name": "stdout",
     "output_type": "stream",
     "text": [
      "python\n",
      "Java\n",
      "Cloud\n"
     ]
    }
   ],
   "source": [
    "learner = ['python', 'Java', 'Cloud']\n",
    "tech_1, tech_2, tech_3 = learner\n",
    "print(tech_1)\n",
    "print(tech_2)\n",
    "print(tech_3)"
   ]
  },
  {
   "cell_type": "markdown",
   "id": "2f5b376d",
   "metadata": {
    "id": "2f5b376d"
   },
   "source": [
    "## Tuple"
   ]
  },
  {
   "cell_type": "code",
   "execution_count": null,
   "id": "e0e27458",
   "metadata": {
    "id": "e0e27458",
    "outputId": "aa21dbd9-ee32-47a0-b61c-c5f92c606955"
   },
   "outputs": [
    {
     "name": "stdout",
     "output_type": "stream",
     "text": [
      "(1, '#$a', 'Python', 3)\n",
      "\n",
      " #$a\n"
     ]
    }
   ],
   "source": [
    "# Create a new tuple \n",
    "new_tuple = (1, \"#$a\", \"Python\", 1+2) \n",
    "print(new_tuple)\n",
    "print(\"\\n\",new_tuple[1])"
   ]
  },
  {
   "cell_type": "code",
   "execution_count": null,
   "id": "a2692546",
   "metadata": {
    "id": "a2692546",
    "outputId": "b545e88d-899c-4972-abde-9ffdf30d6291"
   },
   "outputs": [
    {
     "name": "stdout",
     "output_type": "stream",
     "text": [
      "<class 'tuple'>\n"
     ]
    }
   ],
   "source": [
    "python = ('p','y','t','h','o','n')\n",
    "print(type(python))"
   ]
  },
  {
   "cell_type": "markdown",
   "id": "b94c1b78",
   "metadata": {
    "id": "b94c1b78"
   },
   "source": [
    "Tuple cannot be changes. The below code will give error, soplease don't be alarmed :)"
   ]
  },
  {
   "cell_type": "code",
   "execution_count": null,
   "id": "f484811a",
   "metadata": {
    "id": "f484811a",
    "outputId": "95b8e1c0-c49e-4169-9148-dcb4eb1f21f0",
    "scrolled": true
   },
   "outputs": [
    {
     "ename": "NameError",
     "evalue": "name 'new_tuple' is not defined",
     "output_type": "error",
     "traceback": [
      "\u001b[1;31m---------------------------------------------------------------------------\u001b[0m",
      "\u001b[1;31mNameError\u001b[0m                                 Traceback (most recent call last)",
      "\u001b[1;32mC:\\Users\\GUZAYY~1\\AppData\\Local\\Temp/ipykernel_16088/541825983.py\u001b[0m in \u001b[0;36m<module>\u001b[1;34m\u001b[0m\n\u001b[1;32m----> 1\u001b[1;33m \u001b[0mnew_tuple\u001b[0m\u001b[1;33m[\u001b[0m\u001b[1;36m1\u001b[0m\u001b[1;33m]\u001b[0m \u001b[1;33m=\u001b[0m \u001b[1;36m0\u001b[0m\u001b[1;33m\u001b[0m\u001b[1;33m\u001b[0m\u001b[0m\n\u001b[0m",
      "\u001b[1;31mNameError\u001b[0m: name 'new_tuple' is not defined"
     ]
    }
   ],
   "source": [
    "new_tuple[1] = 0"
   ]
  },
  {
   "cell_type": "markdown",
   "id": "509ea884",
   "metadata": {
    "id": "509ea884"
   },
   "source": [
    "### Tuple methods (index, count)"
   ]
  },
  {
   "cell_type": "code",
   "execution_count": null,
   "id": "9b947458",
   "metadata": {
    "id": "9b947458",
    "outputId": "466f4587-0103-4bec-d28b-fa30198ccedb"
   },
   "outputs": [
    {
     "name": "stdout",
     "output_type": "stream",
     "text": [
      "2\n"
     ]
    }
   ],
   "source": [
    "new_tuple = (1, \"#$a\", \"Python\")\n",
    "print(new_tuple.index(\"Python\"))"
   ]
  },
  {
   "cell_type": "code",
   "execution_count": null,
   "id": "30ae4c2d",
   "metadata": {
    "id": "30ae4c2d",
    "outputId": "3f3365c3-caba-4fb3-c4b4-c16d2d2c8108"
   },
   "outputs": [
    {
     "name": "stdout",
     "output_type": "stream",
     "text": [
      "4\n"
     ]
    }
   ],
   "source": [
    "new_tuple = (1, \"#$a\", \"Python\", 1 , 1, 3.5, 1)\n",
    "print(new_tuple.count(1))"
   ]
  },
  {
   "cell_type": "markdown",
   "id": "41760416",
   "metadata": {
    "id": "41760416"
   },
   "source": [
    "### tuple unpacking is also possible"
   ]
  },
  {
   "cell_type": "code",
   "execution_count": null,
   "id": "0c80bd5d",
   "metadata": {
    "id": "0c80bd5d",
    "outputId": "092ba434-9597-43a0-9bec-abb46fd4bbac"
   },
   "outputs": [
    {
     "name": "stdout",
     "output_type": "stream",
     "text": [
      "1\n",
      "#$a\n",
      "Python\n"
     ]
    }
   ],
   "source": [
    "new_tuple = (1, \"#$a\", \"Python\")\n",
    "a, b, c = new_tuple\n",
    "print(a)\n",
    "print(b)\n",
    "print(c)"
   ]
  },
  {
   "cell_type": "markdown",
   "id": "7300fb7e",
   "metadata": {
    "id": "7300fb7e"
   },
   "source": [
    "## Tuple vs List"
   ]
  },
  {
   "cell_type": "code",
   "execution_count": null,
   "id": "f7e08019",
   "metadata": {
    "id": "f7e08019",
    "outputId": "76887307-eb24-48b1-96e8-5fc738b2c201"
   },
   "outputs": [
    {
     "ename": "AttributeError",
     "evalue": "'tuple' object has no attribute 'append'",
     "output_type": "error",
     "traceback": [
      "\u001b[1;31m---------------------------------------------------------------------------\u001b[0m",
      "\u001b[1;31mAttributeError\u001b[0m                            Traceback (most recent call last)",
      "\u001b[1;32mC:\\Users\\GUZAYY~1\\AppData\\Local\\Temp/ipykernel_25580/78823784.py\u001b[0m in \u001b[0;36m<module>\u001b[1;34m\u001b[0m\n\u001b[0;32m      3\u001b[0m \u001b[1;33m\u001b[0m\u001b[0m\n\u001b[0;32m      4\u001b[0m \u001b[1;31m#new number appended onto tuple, it throws error as below\u001b[0m\u001b[1;33m\u001b[0m\u001b[1;33m\u001b[0m\u001b[1;33m\u001b[0m\u001b[0m\n\u001b[1;32m----> 5\u001b[1;33m \u001b[0mnew_tuple\u001b[0m\u001b[1;33m.\u001b[0m\u001b[0mappend\u001b[0m\u001b[1;33m(\u001b[0m\u001b[1;36m6\u001b[0m\u001b[1;33m)\u001b[0m\u001b[1;33m\u001b[0m\u001b[1;33m\u001b[0m\u001b[0m\n\u001b[0m",
      "\u001b[1;31mAttributeError\u001b[0m: 'tuple' object has no attribute 'append'"
     ]
    }
   ],
   "source": [
    "new_tuple = (1,2,3,4,5)\n",
    "new_list = [1,2,3,4,5]\n",
    "\n",
    "#new number appended onto tuple, it throws error as below\n",
    "new_tuple.append(6)"
   ]
  },
  {
   "cell_type": "markdown",
   "id": "eee41acd",
   "metadata": {
    "id": "eee41acd"
   },
   "source": [
    "## Tuples are immutable, use case?"
   ]
  },
  {
   "cell_type": "markdown",
   "id": "e74f2131",
   "metadata": {
    "id": "e74f2131"
   },
   "source": [
    "Faster than list"
   ]
  },
  {
   "cell_type": "markdown",
   "id": "67663c47",
   "metadata": {
    "id": "67663c47"
   },
   "source": [
    "Time taken by tuple"
   ]
  },
  {
   "cell_type": "code",
   "execution_count": null,
   "id": "6ca35a2d",
   "metadata": {
    "id": "6ca35a2d",
    "outputId": "8136e72d-570c-4fe0-85c4-f520f7880152"
   },
   "outputs": [
    {
     "data": {
      "text/plain": [
       "0.0023130999998102197"
      ]
     },
     "execution_count": 10,
     "metadata": {},
     "output_type": "execute_result"
    }
   ],
   "source": [
    "import timeit\n",
    "timeit.timeit('num_list=(1,2,3,4,5,6,7,8,9)', number=100000)"
   ]
  },
  {
   "cell_type": "markdown",
   "id": "5be29165",
   "metadata": {
    "id": "5be29165"
   },
   "source": [
    "Time taken by list"
   ]
  },
  {
   "cell_type": "code",
   "execution_count": null,
   "id": "b08f4555",
   "metadata": {
    "id": "b08f4555",
    "outputId": "6d90cfbf-25a9-4ecd-d362-4f0e3f3b0c21"
   },
   "outputs": [
    {
     "data": {
      "text/plain": [
       "0.009613400000489492"
      ]
     },
     "execution_count": 11,
     "metadata": {},
     "output_type": "execute_result"
    }
   ],
   "source": [
    "import timeit\n",
    "timeit.timeit('num_list=[1,2,3,4,5,6,7,8,9]', number=100000)"
   ]
  },
  {
   "cell_type": "markdown",
   "id": "002079a6",
   "metadata": {
    "id": "002079a6"
   },
   "source": [
    "## Dictionary"
   ]
  },
  {
   "cell_type": "code",
   "execution_count": null,
   "id": "b26067dc",
   "metadata": {
    "id": "b26067dc",
    "outputId": "7d6f85f5-0ae9-43a3-ff10-d66bd8b305e9"
   },
   "outputs": [
    {
     "name": "stdout",
     "output_type": "stream",
     "text": [
      "0 One 1\n",
      "1 2 2\n",
      "2 B 3.5\n",
      "False\n",
      "{'One': 1, 'B': 3.5}\n",
      "False\n"
     ]
    }
   ],
   "source": [
    "dictionary = {'One': 1, '2': 2, 'B': 3.5}\n",
    "\n",
    "#looping over dictionary  \n",
    "for key, value in enumerate(dictionary): \n",
    "    print(key, value , dictionary[value]) \n",
    "\n",
    "# whether key present? \n",
    "print('\\nB' in dictionary) \n",
    "  \n",
    "# delete key-value pair \n",
    "del dictionary['2']\n",
    "print(dictionary)\n",
    "  \n",
    "# whether deleted? \n",
    "print(\"\\n2\" in dictionary)"
   ]
  },
  {
   "cell_type": "code",
   "execution_count": null,
   "id": "51341545",
   "metadata": {
    "id": "51341545",
    "outputId": "5c2dce2b-49fb-4c78-a664-565d4736deaf",
    "scrolled": true
   },
   "outputs": [
    {
     "name": "stdout",
     "output_type": "stream",
     "text": [
      "Jill\n",
      "26\n"
     ]
    }
   ],
   "source": [
    "my_dict = {'name': 'Jill', 'age': 26}\n",
    "print(my_dict['name'])\n",
    "print(my_dict.get('age'))"
   ]
  },
  {
   "cell_type": "markdown",
   "id": "d93e85b2",
   "metadata": {
    "id": "d93e85b2"
   },
   "source": [
    "### Dictionary methods"
   ]
  },
  {
   "cell_type": "code",
   "execution_count": null,
   "id": "a0bff15f",
   "metadata": {
    "id": "a0bff15f",
    "outputId": "a7f35f79-8bfb-4729-8d08-daf01cd94810",
    "scrolled": true
   },
   "outputs": [
    {
     "name": "stdout",
     "output_type": "stream",
     "text": [
      "None\n"
     ]
    },
    {
     "ename": "KeyError",
     "evalue": "'address'",
     "output_type": "error",
     "traceback": [
      "\u001b[1;31m---------------------------------------------------------------------------\u001b[0m",
      "\u001b[1;31mKeyError\u001b[0m                                  Traceback (most recent call last)",
      "\u001b[1;32mC:\\Users\\GUZAYY~1\\AppData\\Local\\Temp/ipykernel_25580/2830648822.py\u001b[0m in \u001b[0;36m<module>\u001b[1;34m\u001b[0m\n\u001b[0;32m      1\u001b[0m \u001b[1;31m# Error is thrown when key does not exists\u001b[0m\u001b[1;33m\u001b[0m\u001b[1;33m\u001b[0m\u001b[1;33m\u001b[0m\u001b[0m\n\u001b[0;32m      2\u001b[0m \u001b[0mprint\u001b[0m\u001b[1;33m(\u001b[0m\u001b[0mmy_dict\u001b[0m\u001b[1;33m.\u001b[0m\u001b[0mget\u001b[0m\u001b[1;33m(\u001b[0m\u001b[1;34m'address'\u001b[0m\u001b[1;33m)\u001b[0m\u001b[1;33m)\u001b[0m\u001b[1;33m\u001b[0m\u001b[1;33m\u001b[0m\u001b[0m\n\u001b[1;32m----> 3\u001b[1;33m \u001b[0mprint\u001b[0m\u001b[1;33m(\u001b[0m\u001b[0mmy_dict\u001b[0m\u001b[1;33m[\u001b[0m\u001b[1;34m'address'\u001b[0m\u001b[1;33m]\u001b[0m\u001b[1;33m)\u001b[0m\u001b[1;33m\u001b[0m\u001b[1;33m\u001b[0m\u001b[0m\n\u001b[0m",
      "\u001b[1;31mKeyError\u001b[0m: 'address'"
     ]
    }
   ],
   "source": [
    "# Error is thrown when key does not exists\n",
    "print(my_dict.get('address'))\n",
    "print(my_dict['address'])"
   ]
  },
  {
   "cell_type": "code",
   "execution_count": null,
   "id": "457397f8",
   "metadata": {
    "id": "457397f8",
    "outputId": "744d7528-9778-462f-aad6-c32d9907b743"
   },
   "outputs": [
    {
     "name": "stdout",
     "output_type": "stream",
     "text": [
      "16\n",
      "{1: 1, 2: 4, 3: 9, 5: 25}\n",
      "(5, 25)\n",
      "{1: 1, 2: 4, 3: 9}\n",
      "{}\n"
     ]
    },
    {
     "ename": "NameError",
     "evalue": "name 'num_squares' is not defined",
     "output_type": "error",
     "traceback": [
      "\u001b[1;31m---------------------------------------------------------------------------\u001b[0m",
      "\u001b[1;31mNameError\u001b[0m                                 Traceback (most recent call last)",
      "\u001b[1;32mC:\\Users\\GUZAYY~1\\AppData\\Local\\Temp/ipykernel_16088/318038421.py\u001b[0m in \u001b[0;36m<module>\u001b[1;34m\u001b[0m\n\u001b[0;32m     18\u001b[0m \u001b[1;33m\u001b[0m\u001b[0m\n\u001b[0;32m     19\u001b[0m \u001b[1;31m# Throws Error that it is not defined\u001b[0m\u001b[1;33m\u001b[0m\u001b[1;33m\u001b[0m\u001b[1;33m\u001b[0m\u001b[0m\n\u001b[1;32m---> 20\u001b[1;33m \u001b[0mprint\u001b[0m\u001b[1;33m(\u001b[0m\u001b[0mnum_squares\u001b[0m\u001b[1;33m)\u001b[0m\u001b[1;33m\u001b[0m\u001b[1;33m\u001b[0m\u001b[0m\n\u001b[0m",
      "\u001b[1;31mNameError\u001b[0m: name 'num_squares' is not defined"
     ]
    }
   ],
   "source": [
    "# Removing elements from a dictionary\n",
    "num_squares = {1: 1, 2: 4, 3: 9, 4: 16, 5: 25}\n",
    "\n",
    "# remove a particular item, returns its value\n",
    "print(num_squares.pop(4))\n",
    "print(num_squares)\n",
    "\n",
    "# remove an arbitrary item, return (key,value)\n",
    "print(num_squares.popitem())\n",
    "print(num_squares)\n",
    "\n",
    "# remove all items\n",
    "num_squares.clear()\n",
    "print(num_squares)\n",
    "\n",
    "# delete the dictionary itself\n",
    "del num_squares\n",
    "\n",
    "# Throws Error that it is not defined\n",
    "print(num_squares)"
   ]
  },
  {
   "cell_type": "markdown",
   "id": "6b655150",
   "metadata": {
    "id": "6b655150"
   },
   "source": [
    "## Set"
   ]
  },
  {
   "cell_type": "code",
   "execution_count": null,
   "id": "c50d9cb6",
   "metadata": {
    "id": "c50d9cb6",
    "outputId": "88f20ab1-e8bb-4a5e-bbca-2c9969fd3c52"
   },
   "outputs": [
    {
     "data": {
      "text/plain": [
       "{1, 3, 'A'}"
      ]
     },
     "execution_count": 12,
     "metadata": {},
     "output_type": "execute_result"
    }
   ],
   "source": [
    "# create a set\n",
    "Set = set([1, 'A', 3])\n",
    "Set"
   ]
  },
  {
   "cell_type": "code",
   "execution_count": null,
   "id": "1c5c938a",
   "metadata": {
    "id": "1c5c938a",
    "outputId": "8ce786ae-fc20-454b-a30f-e7b9a73f8e3c"
   },
   "outputs": [
    {
     "name": "stdout",
     "output_type": "stream",
     "text": [
      "\n",
      "Set1 =  {1, 3, 5}\n",
      "\n",
      "Set2 =  {17, 13, 15}\n"
     ]
    }
   ],
   "source": [
    "# Creating two sets \n",
    "set1 = set() \n",
    "set2 = set() \n",
    "   \n",
    "# Adding elements to set1 \n",
    "for i in range(1, 6,2): \n",
    "    set1.add(i) \n",
    "\n",
    "# Adding elements to set2 \n",
    "for i in range(13,19,2): \n",
    "    set2.add(i) \n",
    "\n",
    "print(\"\\nSet1 = \", set1) \n",
    "print(\"\\nSet2 = \", set2) "
   ]
  },
  {
   "cell_type": "markdown",
   "id": "e87ce2ad",
   "metadata": {
    "id": "e87ce2ad"
   },
   "source": [
    "### Normal vs Frozen Set"
   ]
  },
  {
   "cell_type": "code",
   "execution_count": null,
   "id": "bc93d1cc",
   "metadata": {
    "id": "bc93d1cc",
    "outputId": "dce3a1b2-88aa-4f01-81b8-8126b5194e5e"
   },
   "outputs": [
    {
     "name": "stdout",
     "output_type": "stream",
     "text": [
      "Normal Set\n",
      "{'a', 'c', 'b'}\n",
      "\n",
      "Frozen Set\n",
      "frozenset({'g', 'e', 'f'})\n"
     ]
    }
   ],
   "source": [
    "# Same as {\"a\", \"b\",\"c\"} \n",
    "normal_set = set([\"a\", \"b\",\"c\"]) \n",
    "  \n",
    "print(\"Normal Set\") \n",
    "print(normal_set) \n",
    "  \n",
    "# A frozen set \n",
    "frozen_set = frozenset([\"e\", \"f\", \"g\"]) \n",
    "  \n",
    "print(\"\\nFrozen Set\") \n",
    "print(frozen_set)"
   ]
  },
  {
   "cell_type": "code",
   "execution_count": null,
   "id": "15385a99",
   "metadata": {
    "id": "15385a99",
    "outputId": "8e0a2d7b-3a4f-47d5-ced9-e694d4264800"
   },
   "outputs": [
    {
     "ename": "AttributeError",
     "evalue": "'frozenset' object has no attribute 'add'",
     "output_type": "error",
     "traceback": [
      "\u001b[1;31m---------------------------------------------------------------------------\u001b[0m",
      "\u001b[1;31mAttributeError\u001b[0m                            Traceback (most recent call last)",
      "\u001b[1;32mC:\\Users\\GUZAYY~1\\AppData\\Local\\Temp/ipykernel_16088/3770674450.py\u001b[0m in \u001b[0;36m<module>\u001b[1;34m\u001b[0m\n\u001b[0;32m      1\u001b[0m \u001b[1;31m#  Check: add element to a frozen set. The below code will give error, soplease don't be alarmed :)\u001b[0m\u001b[1;33m\u001b[0m\u001b[1;33m\u001b[0m\u001b[1;33m\u001b[0m\u001b[0m\n\u001b[1;32m----> 2\u001b[1;33m \u001b[0mfrozen_set\u001b[0m\u001b[1;33m.\u001b[0m\u001b[0madd\u001b[0m\u001b[1;33m(\u001b[0m\u001b[1;34m\"h\"\u001b[0m\u001b[1;33m)\u001b[0m\u001b[1;33m\u001b[0m\u001b[1;33m\u001b[0m\u001b[0m\n\u001b[0m",
      "\u001b[1;31mAttributeError\u001b[0m: 'frozenset' object has no attribute 'add'"
     ]
    }
   ],
   "source": [
    "#  Check: add element to a frozen set. The below code will give error, soplease don't be alarmed :)\n",
    "frozen_set.add(\"h\")"
   ]
  },
  {
   "cell_type": "code",
   "execution_count": null,
   "id": "31702683",
   "metadata": {
    "id": "31702683",
    "outputId": "f1645c5d-4411-4916-8772-a76205585e9c"
   },
   "outputs": [
    {
     "name": "stdout",
     "output_type": "stream",
     "text": [
      "{'data', 'Python'}\n",
      "\n",
      "Set after adding element: {'data', 2, 1, 3, 4, 'Python', 'science', 5}\n"
     ]
    }
   ],
   "source": [
    "# Add elements to set \n",
    "new_set = {\"Python\", \"data\"} \n",
    "print(new_set)\n",
    "\n",
    "new_set.add(\"science\") \n",
    "  \n",
    "# Adding elements to the set using iterator \n",
    "for i in range(1, 6):  \n",
    "    new_set.add(i)  \n",
    "  \n",
    "print(\"\\nSet after adding element:\", end = \" \") \n",
    "print(new_set)"
   ]
  },
  {
   "cell_type": "markdown",
   "id": "af42156a",
   "metadata": {
    "id": "af42156a"
   },
   "source": [
    "### Set methods"
   ]
  },
  {
   "cell_type": "code",
   "execution_count": null,
   "id": "8fdb83f4",
   "metadata": {
    "id": "8fdb83f4",
    "outputId": "6c04d73f-9894-4768-fb0a-f5d2e162eea5"
   },
   "outputs": [
    {
     "name": "stdout",
     "output_type": "stream",
     "text": [
      "{'data', 2, 1, 3, 4, 'Python', 'science', 5, 'Ensemble', 'NLP'}\n"
     ]
    }
   ],
   "source": [
    "# Union of sets \n",
    "  \n",
    "ml = {\"Linear regression\", \"KNN\"} \n",
    "dl = {\"Ensemble\", \"NLP\"} \n",
    "language = {\"Python\", \"R\"} \n",
    "data_science = new_set.union(dl)\n",
    "print(data_science) "
   ]
  },
  {
   "cell_type": "code",
   "execution_count": null,
   "id": "be7fa1c7",
   "metadata": {
    "id": "be7fa1c7",
    "outputId": "062e35c2-7d11-4be0-93ff-d838c43d642f"
   },
   "outputs": [
    {
     "name": "stdout",
     "output_type": "stream",
     "text": [
      "Intersection using intersection() function\n",
      "{3, 4}\n",
      "\n",
      "Intersection using '&' operator\n",
      "{3, 4}\n"
     ]
    }
   ],
   "source": [
    "# Intersection of sets \n",
    "  \n",
    "set1 = set() \n",
    "set2 = set() \n",
    "  \n",
    "for i in range(5): \n",
    "    set1.add(i) \n",
    "for i in range(3,9): \n",
    "    set2.add(i) \n",
    "\n",
    "set3 = set1.intersection(set2) \n",
    "  \n",
    "print(\"Intersection using intersection() function\") \n",
    "print(set3) \n",
    "  \n",
    "# Intersection using \"&\" operator \n",
    "set3 = set1 & set2 \n",
    "  \n",
    "print(\"\\nIntersection using '&' operator\") \n",
    "print(set3) "
   ]
  },
  {
   "cell_type": "code",
   "execution_count": null,
   "id": "7f69266e",
   "metadata": {
    "id": "7f69266e",
    "outputId": "4a8538c2-1beb-4b82-c7eb-938e7dc472bb"
   },
   "outputs": [
    {
     "name": "stdout",
     "output_type": "stream",
     "text": [
      "Set 1: {0, 1, 2, 3, 4}\n",
      "Set 2: {3, 4, 5, 6, 7, 8}\n",
      "Two sets using difference() function\n",
      "{0, 1, 2}\n",
      "Two sets using '-' operator\n",
      "{0, 1, 2}\n"
     ]
    }
   ],
   "source": [
    "# difference of two sets \n",
    "  \n",
    "set1 = set() \n",
    "set2 = set() \n",
    "  \n",
    "for i in range(5): \n",
    "    set1.add(i) \n",
    "for i in range(3,9): \n",
    "    set2.add(i) \n",
    "    \n",
    "\n",
    "print(\"Set 1:\", set1)\n",
    "print(\"Set 2:\", set2)\n",
    "  \n",
    "# Difference of two sets \n",
    "# using difference() function \n",
    "set3 = set1.difference(set2) \n",
    "  \n",
    "print(\"Two sets using difference() function\") \n",
    "print(set3) \n",
    "  \n",
    "# Difference of two sets \n",
    "# using '-' operator \n",
    "set3 = set1 - set2 \n",
    "  \n",
    "print(\"Two sets using '-' operator\") \n",
    "print(set3) "
   ]
  },
  {
   "cell_type": "code",
   "execution_count": null,
   "id": "c34f3a42",
   "metadata": {
    "id": "c34f3a42",
    "outputId": "25854465-0853-404d-d396-a4201b5be2c3"
   },
   "outputs": [
    {
     "name": "stdout",
     "output_type": "stream",
     "text": [
      "Initial set\n",
      "{1, 2, 3, 4, 5, 6}\n",
      "set()\n"
     ]
    }
   ],
   "source": [
    "# clearing a set \n",
    "  \n",
    "new_set = {1,2,3,4,5,6} \n",
    "  \n",
    "print(\"Initial set\") \n",
    "print(new_set) \n",
    "  \n",
    "new_set.clear() # clears all elements \n",
    "print(new_set) "
   ]
  },
  {
   "cell_type": "markdown",
   "id": "a794d84b",
   "metadata": {
    "id": "a794d84b"
   },
   "source": [
    "## Comprehensions in Python"
   ]
  },
  {
   "cell_type": "markdown",
   "id": "7bff2e6c",
   "metadata": {
    "id": "7bff2e6c"
   },
   "source": [
    "### List Comprehension"
   ]
  },
  {
   "cell_type": "code",
   "execution_count": null,
   "id": "0cc3f21f",
   "metadata": {
    "id": "0cc3f21f",
    "outputId": "c1adbdcc-1cd4-421b-97da-f3d4a7ece09c"
   },
   "outputs": [
    {
     "name": "stdout",
     "output_type": "stream",
     "text": [
      "result : [2, 4, 4, 6]\n"
     ]
    }
   ],
   "source": [
    "list_1 = [1, 2, 3, 4, 4, 5, 6, 7, 7]\n",
    "list_output = []\n",
    "  \n",
    "for value in list_1:\n",
    "    if value % 2 == 0:\n",
    "        list_output.append(value)\n",
    "  \n",
    "print(\"result :\", list_output)"
   ]
  },
  {
   "cell_type": "code",
   "execution_count": null,
   "id": "0a933b4a",
   "metadata": {
    "id": "0a933b4a",
    "outputId": "ef146244-8cb9-40a5-c2ee-2b7b952dea64"
   },
   "outputs": [
    {
     "name": "stdout",
     "output_type": "stream",
     "text": [
      "result : [2, 4, 4, 6]\n"
     ]
    }
   ],
   "source": [
    "list_1 = [1, 2, 3, 4, 4, 5, 6, 7, 7]\n",
    "  \n",
    "comprehension_list = [value for value in list_1 if value % 2 == 0]\n",
    "  \n",
    "print(\"result :\", comprehension_list)"
   ]
  },
  {
   "cell_type": "markdown",
   "id": "9eddc645",
   "metadata": {
    "id": "9eddc645"
   },
   "source": [
    "### Dictionary Comprehension"
   ]
  },
  {
   "cell_type": "code",
   "execution_count": null,
   "id": "5f400850",
   "metadata": {
    "id": "5f400850",
    "outputId": "830c2bac-92e1-4008-8764-781cfd41e621"
   },
   "outputs": [
    {
     "name": "stdout",
     "output_type": "stream",
     "text": [
      "result : {1: 1, 3: 27, 5: 125, 7: 343}\n"
     ]
    }
   ],
   "source": [
    "list_1 = [1,2,3,4,5,6,7]\n",
    "  \n",
    "comprehension_dict = {value:value ** 3 for value in list_1 if value % 2 != 0}\n",
    "  \n",
    "print(\"result :\", comprehension_dict)"
   ]
  },
  {
   "cell_type": "markdown",
   "id": "cc041181",
   "metadata": {
    "id": "cc041181"
   },
   "source": [
    "### Set Comprehension"
   ]
  },
  {
   "cell_type": "code",
   "execution_count": null,
   "id": "9a64a6c7",
   "metadata": {
    "id": "9a64a6c7",
    "outputId": "3d620219-028e-4671-cbff-53b842271c15"
   },
   "outputs": [
    {
     "name": "stdout",
     "output_type": "stream",
     "text": [
      "result : {2, 4, 6}\n"
     ]
    }
   ],
   "source": [
    "list_1 = [1, 2, 3, 4, 4, 5, 6, 6, 6, 7, 7]\n",
    "  \n",
    "comprehension_set = {value for value in list_1 if value % 2 == 0}\n",
    "  \n",
    "print(\"result :\", comprehension_set)"
   ]
  },
  {
   "cell_type": "markdown",
   "id": "0cd2a099",
   "metadata": {
    "id": "0cd2a099"
   },
   "source": [
    "## Conditional Statements (if, if else, if elif else)"
   ]
  },
  {
   "cell_type": "markdown",
   "id": "bff953e6",
   "metadata": {
    "id": "bff953e6"
   },
   "source": [
    "### If statement is execute only if its True"
   ]
  },
  {
   "cell_type": "code",
   "execution_count": null,
   "id": "85963de5",
   "metadata": {
    "id": "85963de5",
    "outputId": "7d695a8d-013d-4ff2-cf65-fe7eb65e4202"
   },
   "outputs": [
    {
     "name": "stdout",
     "output_type": "stream",
     "text": [
      "Above if statement is False\n"
     ]
    }
   ],
   "source": [
    "if 'java' in ['Cloud', 'C++', 'python']:\n",
    "    print('Hello')\n",
    "    print('Evryone')\n",
    "    print('**********')\n",
    "    print('Bye')\n",
    "print('Above if statement is False')"
   ]
  },
  {
   "cell_type": "markdown",
   "id": "c9a61912",
   "metadata": {
    "id": "c9a61912"
   },
   "source": [
    "### Indentation is very impotant in Python"
   ]
  },
  {
   "cell_type": "code",
   "execution_count": null,
   "id": "e62389e7",
   "metadata": {
    "id": "e62389e7",
    "outputId": "9a882861-b8c0-45b3-d01c-f7a0705b13ad"
   },
   "outputs": [
    {
     "name": "stdout",
     "output_type": "stream",
     "text": [
      "Inside outer if statement\n",
      "Hello everyone\n",
      "less than condition true\n",
      "Bye\n",
      "End statement\n"
     ]
    }
   ],
   "source": [
    "if 'Python' in ['Java', 'C++', 'Cloud', 'Python']:       \n",
    "    print('Inside outer if statement')     \n",
    "\n",
    "    if 10 > 20:                          \n",
    "        print('greater than condition true')       \n",
    "\n",
    "    print('Hello everyone')  \n",
    "\n",
    "    if 10 < 20:                           \n",
    "        print('less than condition true')       \n",
    "\n",
    "    print('Bye')      \n",
    "print('End statement')      "
   ]
  },
  {
   "cell_type": "markdown",
   "id": "0afdfd24",
   "metadata": {
    "id": "0afdfd24"
   },
   "source": [
    "### if, else statements"
   ]
  },
  {
   "cell_type": "code",
   "execution_count": null,
   "id": "682d11f0",
   "metadata": {
    "id": "682d11f0",
    "outputId": "675da9e4-7301-4872-ab0d-422272d90e97"
   },
   "outputs": [
    {
     "name": "stdout",
     "output_type": "stream",
     "text": [
      "(if block)\n",
      "small number\n"
     ]
    }
   ],
   "source": [
    "num = 20\n",
    "\n",
    "if num < 50:\n",
    "    print('(if block)')\n",
    "    print('small number')\n",
    "else:\n",
    "    print('(else block)')\n",
    "    print('large number')"
   ]
  },
  {
   "cell_type": "markdown",
   "id": "f758f5fc",
   "metadata": {
    "id": "f758f5fc"
   },
   "source": [
    "### if, elif, else statements"
   ]
  },
  {
   "cell_type": "code",
   "execution_count": null,
   "id": "290f8ee5",
   "metadata": {
    "id": "290f8ee5",
    "outputId": "46873559-19ef-4a01-9c33-0d7c5b55829c"
   },
   "outputs": [
    {
     "name": "stdout",
     "output_type": "stream",
     "text": [
      "Hello Jack\n"
     ]
    }
   ],
   "source": [
    "name = 'Jack'\n",
    "if name == 'Jill':\n",
    "    print('Hello Jill')\n",
    "elif name == 'Xylo':\n",
    "    print('Hello Xylo')\n",
    "elif name == 'Jack':\n",
    "    print('Hello Jack')\n",
    "elif name == 'Arvind':\n",
    "    print('Hello Arvind')\n",
    "else:\n",
    "    print(\"Pardon me, who you are!\")"
   ]
  },
  {
   "cell_type": "markdown",
   "id": "6f85b7ff",
   "metadata": {
    "id": "6f85b7ff"
   },
   "source": [
    "### One liner if, elif, else statements"
   ]
  },
  {
   "cell_type": "code",
   "execution_count": null,
   "id": "6b4f31ed",
   "metadata": {
    "id": "6b4f31ed",
    "outputId": "fb0d7e57-66da-4b57-d863-942cc6dde486"
   },
   "outputs": [
    {
     "name": "stdout",
     "output_type": "stream",
     "text": [
      "python-version\n",
      "3.8\n"
     ]
    }
   ],
   "source": [
    "num = 2\n",
    "if num == 1: print('my'); print('python'); print('version')\n",
    "elif num == 2: print('python-version'); print('3.8')\n",
    "else: print('version'); print('mismatch')"
   ]
  },
  {
   "cell_type": "markdown",
   "id": "fc8b5f01",
   "metadata": {
    "id": "fc8b5f01"
   },
   "source": [
    "### Conditional Expressions (Python's ternary operator)"
   ]
  },
  {
   "cell_type": "markdown",
   "id": "5050e8d3",
   "metadata": {
    "id": "5050e8d3"
   },
   "source": [
    "#### conditional expression is shorter and arguably more readable "
   ]
  },
  {
   "cell_type": "code",
   "execution_count": null,
   "id": "5134c28c",
   "metadata": {
    "id": "5134c28c",
    "outputId": "96504a0d-12eb-46d3-873f-315b937c8e39"
   },
   "outputs": [
    {
     "name": "stdout",
     "output_type": "stream",
     "text": [
      "minor\n"
     ]
    },
    {
     "data": {
      "text/plain": [
       "'no'"
      ]
     },
     "execution_count": 33,
     "metadata": {},
     "output_type": "execute_result"
    }
   ],
   "source": [
    "age = 12\n",
    "marry = 'minor' if age < 21 else 'adult'\n",
    "print(marry)\n",
    "\n",
    "'yes' if ('python' in ['current', 'version', '3.8']) else 'no'"
   ]
  },
  {
   "cell_type": "markdown",
   "id": "f5ab8c0b",
   "metadata": {
    "id": "f5ab8c0b"
   },
   "source": [
    "## Loops in Python"
   ]
  },
  {
   "cell_type": "markdown",
   "id": "23f73190",
   "metadata": {
    "id": "23f73190"
   },
   "source": [
    "### While loop"
   ]
  },
  {
   "cell_type": "code",
   "execution_count": null,
   "id": "f9945e23",
   "metadata": {
    "id": "f9945e23",
    "outputId": "69be2dca-2078-46df-e52b-4393c37631be"
   },
   "outputs": [
    {
     "name": "stdout",
     "output_type": "stream",
     "text": [
      "Please enter number:3\n",
      "sum is: 6\n"
     ]
    }
   ],
   "source": [
    "#input from user\n",
    "input_num = int(input(\"Please enter number:\"))\n",
    "sum = 0\n",
    "num = 1\n",
    "\n",
    "while num <= input_num:\n",
    "    sum = sum + num\n",
    "    num+=1   \n",
    "\n",
    "print(f\"sum is: {sum}\")"
   ]
  },
  {
   "cell_type": "code",
   "execution_count": null,
   "id": "b2479822",
   "metadata": {
    "id": "b2479822",
    "outputId": "16f2a8a3-35b5-4ed8-f189-c723955e2185"
   },
   "outputs": [
    {
     "name": "stdout",
     "output_type": "stream",
     "text": [
      "Inside while loop\n",
      "Inside while loop\n",
      "Inside while loop\n",
      "Inside else\n"
     ]
    }
   ],
   "source": [
    "count = 0\n",
    "\n",
    "while count < 3:\n",
    "    print(\"Inside while loop\")\n",
    "    count = count + 1\n",
    "else:\n",
    "    print(\"Inside else\")"
   ]
  },
  {
   "cell_type": "markdown",
   "id": "ab3fc024",
   "metadata": {
    "id": "ab3fc024"
   },
   "source": [
    "### For loop"
   ]
  },
  {
   "cell_type": "code",
   "execution_count": null,
   "id": "c9cc6ca5",
   "metadata": {
    "id": "c9cc6ca5",
    "outputId": "95cc5480-3c6f-44b2-f51c-dc9d5d7f7f73"
   },
   "outputs": [
    {
     "name": "stdout",
     "output_type": "stream",
     "text": [
      " R \n",
      " Python \n",
      " Scala \n",
      " Java \n",
      " C++ \n"
     ]
    }
   ],
   "source": [
    "languages = ['R', 'Python',  'Scala', 'Java', 'C++']\n",
    "\n",
    "for index in range(len(languages)):\n",
    "    print(f' {languages[index]} ')"
   ]
  },
  {
   "cell_type": "code",
   "execution_count": null,
   "id": "29cee38a",
   "metadata": {
    "id": "29cee38a",
    "outputId": "66863aad-f51c-4f9b-c01f-6bef120c7281"
   },
   "outputs": [
    {
     "name": "stdout",
     "output_type": "stream",
     "text": [
      "------list-----\n",
      "python\n",
      "for\n",
      "greatlearners\n",
      "\n",
      " ------tuple------\n",
      "python\n",
      "for\n",
      "greatlearners\n",
      "\n",
      "------dictionary-----\n",
      "key1 value1\n",
      "key2 value2\n"
     ]
    }
   ],
   "source": [
    "print(\"------list-----\")\n",
    "list1 = [\"python\", \"for\", \"greatlearners\"]\n",
    "for value in list1:\n",
    "    print(value)\n",
    "\n",
    "print(\"\\n ------tuple------\")\n",
    "tuple1 = (\"python\", \"for\", \"greatlearners\")\n",
    "for value in tuple1:\n",
    "    print(value)\n",
    "\n",
    "print(\"\\n------dictionary-----\")\n",
    "dictionary1 = dict()\n",
    "dictionary1['key1'] = 'value1'\n",
    "dictionary1['key2'] = 'value2'\n",
    "for value in dictionary1:\n",
    "    print(\"% s % s\" % (value, dictionary1[value]))"
   ]
  },
  {
   "cell_type": "markdown",
   "id": "e3ac7adb",
   "metadata": {
    "id": "e3ac7adb"
   },
   "source": [
    "### For loop is faster than while loop"
   ]
  },
  {
   "cell_type": "code",
   "execution_count": null,
   "id": "04be4ea4",
   "metadata": {
    "id": "04be4ea4",
    "outputId": "901d8ae3-a677-4227-e220-4eeee52f7717"
   },
   "outputs": [
    {
     "data": {
      "text/plain": [
       "25.817050999999992"
      ]
     },
     "execution_count": 17,
     "metadata": {},
     "output_type": "execute_result"
    }
   ],
   "source": [
    "import timeit\n",
    "\n",
    "def for_execution():\n",
    "    for number in range(1000) :  \n",
    "        sum = 3 + 4\n",
    "        \n",
    "timeit.timeit(for_execution)\n"
   ]
  },
  {
   "cell_type": "code",
   "execution_count": null,
   "id": "9446b67a",
   "metadata": {
    "id": "9446b67a",
    "outputId": "110b4163-8098-45ef-a369-db4fcc658f09"
   },
   "outputs": [
    {
     "data": {
      "text/plain": [
       "97.3201004"
      ]
     },
     "execution_count": 18,
     "metadata": {},
     "output_type": "execute_result"
    }
   ],
   "source": [
    "def while_execution():\n",
    "    count = 0\n",
    "    while count<1000:\n",
    "        sum = 3 + 4\n",
    "        count+=1\n",
    "        \n",
    "timeit.timeit(while_execution)"
   ]
  },
  {
   "cell_type": "markdown",
   "id": "bd5f9426",
   "metadata": {
    "id": "bd5f9426"
   },
   "source": [
    "## Python Functions"
   ]
  },
  {
   "cell_type": "markdown",
   "id": "434f03db",
   "metadata": {
    "id": "434f03db"
   },
   "source": [
    "### Built- in functions"
   ]
  },
  {
   "cell_type": "markdown",
   "id": "fa4e4921",
   "metadata": {
    "id": "fa4e4921"
   },
   "source": [
    "| Function | Description |\n",
    "| --- | --- |\n",
    "| abs() | Returns the absolute value of a number |\n",
    "| all() | Returns True if all items in an iterable object are true |\n",
    "| any() | Returns True if any item in an iterable object is true |\n",
    "| ascii() | Returns a readable version of an object. Replaces none-ascii characters with escape character |\n",
    "| bin() | Returns the binary version of a number |\n",
    "| bool() | Returns the boolean value of the specified object |\n",
    "| bytearray() | Returns an array of bytes |\n",
    "| bytes() | Returns a bytes object |\n",
    "| callable() | Returns True if the specified object is callable, otherwise False |\n",
    "| chr() | Returns a character from the specified Unicode code |\n",
    "| classmethod() | Converts a method into a class method |\n",
    "| compile() | Returns the specified source as an object, ready to be executed |\n",
    "| complex() | Returns a complex number |\n",
    "| delattr() | Deletes the specified attribute (property or method) from the specified object |\n",
    "| dict() | Returns a dictionary (Array) |\n",
    "| dir() | Returns a list of the specified object's properties and methods |\n",
    "| divmod() | Returns the quotient and the remainder when argument1 is divided by argument2 |\n",
    "| enumerate() | Takes a collection (e.g. a tuple) and returns it as an enumerate object|\n",
    "| eval() | Evaluates and executes an expression |\n",
    "| exec() | Executes the specified code (or object) |\n",
    "| filter() | Use a filter function to exclude items in an iterable object |"
   ]
  },
  {
   "cell_type": "markdown",
   "id": "3c93edb5",
   "metadata": {
    "id": "3c93edb5"
   },
   "source": [
    "### User-defined Funtions"
   ]
  },
  {
   "cell_type": "markdown",
   "id": "e6e2c34b",
   "metadata": {
    "id": "e6e2c34b"
   },
   "source": [
    "### Function without arguments"
   ]
  },
  {
   "cell_type": "code",
   "execution_count": null,
   "id": "ae82fa19",
   "metadata": {
    "id": "ae82fa19",
    "outputId": "85f0e2a9-5292-4256-a7fe-4e8e78930714"
   },
   "outputs": [
    {
     "name": "stdout",
     "output_type": "stream",
     "text": [
      "Welcome to GreatLearning\n"
     ]
    }
   ],
   "source": [
    "def user_defined():\n",
    "    print(\"Welcome to GreatLearning\")\n",
    "         \n",
    "#calling function\n",
    "user_defined()"
   ]
  },
  {
   "cell_type": "markdown",
   "id": "eb6b29ca",
   "metadata": {
    "id": "eb6b29ca"
   },
   "source": [
    "### Function with arguments"
   ]
  },
  {
   "cell_type": "code",
   "execution_count": null,
   "id": "f83b18ed",
   "metadata": {
    "id": "f83b18ed",
    "outputId": "14699e39-ce3b-412d-f7e4-a69714e87d97"
   },
   "outputs": [
    {
     "name": "stdout",
     "output_type": "stream",
     "text": [
      "Given number is even\n",
      "Given number is odd\n"
     ]
    }
   ],
   "source": [
    "def finding_even_number(num):\n",
    "    if (num % 2 == 0):\n",
    "        print(\"Given number is even\")\n",
    "    else:\n",
    "        print(\"Given number is odd\")\n",
    "        \n",
    "finding_even_number(2)\n",
    "finding_even_number(3)"
   ]
  },
  {
   "cell_type": "markdown",
   "id": "0a1cf4f2",
   "metadata": {
    "id": "0a1cf4f2"
   },
   "source": [
    "### Function with keyword arguments"
   ]
  },
  {
   "cell_type": "code",
   "execution_count": null,
   "id": "e6ecd555",
   "metadata": {
    "id": "e6ecd555",
    "outputId": "78f0cec7-da3c-476e-c473-3610cc4b4a99"
   },
   "outputs": [
    {
     "name": "stdout",
     "output_type": "stream",
     "text": [
      "Learner1 Greatlearning\n",
      "Greatlearning Learner2\n"
     ]
    }
   ],
   "source": [
    "def student_name(firstname, lastname):\n",
    "    print(firstname, lastname)\n",
    "\n",
    "# Keyword arguments\n",
    "student_name(firstname='Learner1', lastname='Greatlearning')\n",
    "student_name(lastname='Learner2', firstname='Greatlearning')"
   ]
  },
  {
   "cell_type": "markdown",
   "id": "4667e10e",
   "metadata": {
    "id": "4667e10e"
   },
   "source": [
    "### Function with variable length keyword arguments"
   ]
  },
  {
   "cell_type": "code",
   "execution_count": null,
   "id": "63008316",
   "metadata": {
    "id": "63008316",
    "outputId": "5139f976-a090-4679-f009-0a0569f19809"
   },
   "outputs": [
    {
     "name": "stdout",
     "output_type": "stream",
     "text": [
      "first == Happy\n",
      "middle == learning\n",
      "last == GreatLearning\n"
     ]
    }
   ],
   "source": [
    "def variable_length_function(**kwargs):\n",
    "    for key, value in kwargs.items():\n",
    "        print(\"%s == %s\" % (key, value))\n",
    "\n",
    "variable_length_function(first='Happy', middle='learning', last='GreatLearning')"
   ]
  },
  {
   "cell_type": "markdown",
   "id": "a32e59cb",
   "metadata": {
    "id": "a32e59cb"
   },
   "source": [
    "### Happy Learning :)"
   ]
  }
 ],
 "metadata": {
  "colab": {
   "collapsed_sections": [
    "de091c97",
    "2f5b376d",
    "41760416",
    "7300fb7e",
    "eee41acd",
    "002079a6",
    "d93e85b2",
    "6b655150",
    "e87ce2ad",
    "af42156a",
    "a794d84b",
    "7bff2e6c",
    "9eddc645",
    "cc041181",
    "0cd2a099",
    "bff953e6",
    "c9a61912",
    "0afdfd24",
    "f758f5fc",
    "6f85b7ff",
    "fc8b5f01",
    "5050e8d3",
    "bd5f9426",
    "434f03db",
    "3c93edb5",
    "e6e2c34b",
    "eb6b29ca",
    "0a1cf4f2",
    "4667e10e",
    "a32e59cb"
   ],
   "name": "IIT D Python Week 2.ipynb",
   "provenance": []
  },
  "kernelspec": {
   "display_name": "Python 3 (ipykernel)",
   "language": "python",
   "name": "python3"
  },
  "language_info": {
   "codemirror_mode": {
    "name": "ipython",
    "version": 3
   },
   "file_extension": ".py",
   "mimetype": "text/x-python",
   "name": "python",
   "nbconvert_exporter": "python",
   "pygments_lexer": "ipython3",
   "version": "3.9.7"
  }
 },
 "nbformat": 4,
 "nbformat_minor": 5
}
