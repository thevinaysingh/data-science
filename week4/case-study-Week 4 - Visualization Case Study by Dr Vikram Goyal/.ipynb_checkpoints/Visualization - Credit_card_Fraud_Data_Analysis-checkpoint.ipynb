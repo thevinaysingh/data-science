{
 "cells": [
  {
   "cell_type": "markdown",
   "metadata": {
    "id": "vp5xY5B8YeL5"
   },
   "source": [
    "- - - - - - - - - - - - - - - - - - - - - - - - - - - - - - - - - - - - - - - - - - - - - - \n",
    "\n",
    "![alt text](https://drive.google.com/uc?export=view&id=1UXScsVx_Wni_JuDdB8LeTnM6jsPfIwkW)\n",
    "\n",
    "- - - - - - - - - - - - - - - - - - - - - - - - - - - - - - - - - - - - - - - - - - - - - - "
   ]
  },
  {
   "cell_type": "markdown",
   "metadata": {
    "id": "sNY-r-_VYeMC"
   },
   "source": [
    "      © Great Learning. Proprietary content. All Rights Reserved. Unauthorised use or distribution prohibited  "
   ]
  },
  {
   "cell_type": "markdown",
   "metadata": {
    "id": "jPDF2jibYeMD"
   },
   "source": [
    "- - - - - - - - - - - - - - - - - - - - - - - - - - - - - - - - - - - - - - - - - - - - -\n",
    "\n",
    "# Visualization\n",
    "## Build an extensive visualization around the dataset \n",
    "\n",
    "- - - - - - - - - - - - - - - - - - - - - - - - - - - - - - - - - - - - - - - - - - - - - -"
   ]
  },
  {
   "cell_type": "markdown",
   "metadata": {
    "id": "ZNchnRo1YeMH"
   },
   "source": [
    "- - - - - - - - - - - - - - - - - - - - - - - - - - - - - - - - - - - - - - - - - - - - - -\n",
    "\n",
    "## Code Structure\n",
    "\n",
    "1. Import Data\n",
    "\n",
    "2. Explore Data\n",
    "\n",
    "3. Univariate Analysis \n",
    "\n",
    "     - Continuos features using displot and boxplot\n",
    "     \n",
    "     - Categorical features using countplot and pie plot\n",
    "\n",
    "\n",
    "4. Bivariate Analysis\n",
    "\n",
    "     - Two continuous variables using scatter plot\n",
    "     \n",
    "     - Continuos + Categorical using boxplots, voilin plots, stripplot() and swarmplot() \n",
    "\n",
    "\n",
    "5. Multivariate Analysis using plots\n",
    "\n",
    "     - Catplot\n",
    "     \n",
    "     - Heatmap\n",
    "     \n",
    "     - Pairplot\n",
    "     \n",
    "     - Plotly\n",
    "  \n",
    "  \n",
    "6. Conclusion\n",
    "\n",
    "- - - - - - - - - - - - - - - - - - - - - - - - - - - - - - - - - - - - - - - - - - - - - -"
   ]
  },
  {
   "cell_type": "markdown",
   "metadata": {
    "id": "MHekEEVSYeMG"
   },
   "source": [
    "- - - - - - - - - - - - - - - - - - - - - - - - - - - - - - - - - - - - - - - - - - - - - -\n",
    "\n",
    "## Dataset\n",
    "\n",
    "1.Month: transaction month\n",
    "\n",
    "2.Date: transaction date\n",
    "\n",
    "3.Day: transaction day\n",
    "\n",
    "4.Time: transaction time\n",
    "\n",
    "5.Origin_City: city where the customer is registered from\n",
    "\n",
    "6.Destination_City: city where the transaction is generated\n",
    "\n",
    "7.Transaction_Type: method of payment (Point of sales or internet)\n",
    "\n",
    "8.Type: Valid transaction or raud transaction\n",
    "\n",
    "9.Amount: transaction amount\n",
    "\n",
    "- - - - - - - - - - - - - - - - - - - - - - - - - - - - - - - - - - - - - - - - - - - - - -"
   ]
  },
  {
   "cell_type": "markdown",
   "metadata": {
    "id": "z-YJ2TshYeMI"
   },
   "source": [
    "- - - - - - - - - - - - - - - - - - - - - - - - - - - - - - - - - - - - - - - - - - - - - -\n",
    "\n",
    "## 1. Import Data\n",
    "\n",
    "- - - - - - - - - - - - - - - - - - - - - - - - - - - - - - - - - - - - - - - - - - - - - -"
   ]
  },
  {
   "cell_type": "code",
   "execution_count": null,
   "metadata": {
    "id": "HCNU2FN5YeML"
   },
   "outputs": [],
   "source": [
    "# Standrd Library\n",
    "import pandas as pd\n",
    "import numpy as np\n",
    "import seaborn as sns\n",
    "from matplotlib.pyplot import figure\n",
    "\n",
    "sns.set(rc={'figure.figsize':(14,8)})\n",
    "\n",
    "import matplotlib.pyplot as plt\n",
    "%matplotlib inline\n",
    "\n",
    "import warnings\n",
    "warnings.filterwarnings('ignore')"
   ]
  },
  {
   "cell_type": "code",
   "execution_count": null,
   "metadata": {
    "id": "PIFg44FnBu1k"
   },
   "outputs": [],
   "source": [
    "# Training dataset\n",
    "DB = pd.read_excel(\"Credi_Card_Fraud.xlsx\",sheet_name='Original')"
   ]
  },
  {
   "cell_type": "markdown",
   "metadata": {
    "id": "qlIygvTqYeMN"
   },
   "source": [
    "- - - - - - - - - - - - - - - - - - - - - - - - - - - - - - - - - - - - - - - - - - - - - -\n",
    "\n",
    "## 2. Explore Data\n",
    "\n",
    "- - - - - - - - - - - - - - - - - - - - - - - - - - - - - - - - - - - - - - - - - - - - - -"
   ]
  },
  {
   "cell_type": "code",
   "execution_count": null,
   "metadata": {
    "id": "ktW87fZ0YeMP",
    "outputId": "e95d77ca-b882-4af2-db02-add2ae6fc25d"
   },
   "outputs": [
    {
     "data": {
      "text/html": [
       "<div>\n",
       "<style scoped>\n",
       "    .dataframe tbody tr th:only-of-type {\n",
       "        vertical-align: middle;\n",
       "    }\n",
       "\n",
       "    .dataframe tbody tr th {\n",
       "        vertical-align: top;\n",
       "    }\n",
       "\n",
       "    .dataframe thead th {\n",
       "        text-align: right;\n",
       "    }\n",
       "</style>\n",
       "<table border=\"1\" class=\"dataframe\">\n",
       "  <thead>\n",
       "    <tr style=\"text-align: right;\">\n",
       "      <th></th>\n",
       "      <th>Card_ID</th>\n",
       "      <th>Limit</th>\n",
       "      <th>Year</th>\n",
       "      <th>Month</th>\n",
       "      <th>Date</th>\n",
       "      <th>Time</th>\n",
       "      <th>Origin</th>\n",
       "      <th>Transaction</th>\n",
       "      <th>Transaction_Type</th>\n",
       "      <th>Amount</th>\n",
       "      <th>Type</th>\n",
       "    </tr>\n",
       "  </thead>\n",
       "  <tbody>\n",
       "    <tr>\n",
       "      <th>0</th>\n",
       "      <td>1</td>\n",
       "      <td>500000</td>\n",
       "      <td>2016</td>\n",
       "      <td>Jun</td>\n",
       "      <td>26</td>\n",
       "      <td>19</td>\n",
       "      <td>Bangalore, India</td>\n",
       "      <td>Bangalore, India</td>\n",
       "      <td>POS</td>\n",
       "      <td>25000</td>\n",
       "      <td>Normal</td>\n",
       "    </tr>\n",
       "    <tr>\n",
       "      <th>1</th>\n",
       "      <td>1</td>\n",
       "      <td>500000</td>\n",
       "      <td>2016</td>\n",
       "      <td>Oct</td>\n",
       "      <td>20</td>\n",
       "      <td>18</td>\n",
       "      <td>Bangalore, India</td>\n",
       "      <td>Bangalore, India</td>\n",
       "      <td>POS</td>\n",
       "      <td>300</td>\n",
       "      <td>Normal</td>\n",
       "    </tr>\n",
       "    <tr>\n",
       "      <th>2</th>\n",
       "      <td>1</td>\n",
       "      <td>500000</td>\n",
       "      <td>2016</td>\n",
       "      <td>Jul</td>\n",
       "      <td>15</td>\n",
       "      <td>7</td>\n",
       "      <td>Bangalore, India</td>\n",
       "      <td>London, UK</td>\n",
       "      <td>POS</td>\n",
       "      <td>45000</td>\n",
       "      <td>Normal</td>\n",
       "    </tr>\n",
       "    <tr>\n",
       "      <th>3</th>\n",
       "      <td>1</td>\n",
       "      <td>500000</td>\n",
       "      <td>2016</td>\n",
       "      <td>Dec</td>\n",
       "      <td>17</td>\n",
       "      <td>15</td>\n",
       "      <td>Bangalore, India</td>\n",
       "      <td>London, UK</td>\n",
       "      <td>POS</td>\n",
       "      <td>670</td>\n",
       "      <td>Normal</td>\n",
       "    </tr>\n",
       "    <tr>\n",
       "      <th>4</th>\n",
       "      <td>1</td>\n",
       "      <td>500000</td>\n",
       "      <td>2016</td>\n",
       "      <td>Sep</td>\n",
       "      <td>7</td>\n",
       "      <td>17</td>\n",
       "      <td>Bangalore, India</td>\n",
       "      <td>Bangalore, India</td>\n",
       "      <td>POS</td>\n",
       "      <td>4543</td>\n",
       "      <td>Normal</td>\n",
       "    </tr>\n",
       "  </tbody>\n",
       "</table>\n",
       "</div>"
      ],
      "text/plain": [
       "   Card_ID   Limit  Year Month  Date  Time            Origin  \\\n",
       "0        1  500000  2016   Jun    26    19  Bangalore, India   \n",
       "1        1  500000  2016   Oct    20    18  Bangalore, India   \n",
       "2        1  500000  2016   Jul    15     7  Bangalore, India   \n",
       "3        1  500000  2016   Dec    17    15  Bangalore, India   \n",
       "4        1  500000  2016   Sep     7    17  Bangalore, India   \n",
       "\n",
       "        Transaction Transaction_Type  Amount    Type  \n",
       "0  Bangalore, India              POS   25000  Normal  \n",
       "1  Bangalore, India              POS     300  Normal  \n",
       "2        London, UK              POS   45000  Normal  \n",
       "3        London, UK              POS     670  Normal  \n",
       "4  Bangalore, India              POS    4543  Normal  "
      ]
     },
     "execution_count": 34,
     "metadata": {},
     "output_type": "execute_result"
    }
   ],
   "source": [
    "DB.head() "
   ]
  },
  {
   "cell_type": "code",
   "execution_count": null,
   "metadata": {
    "id": "39Q5fNldBu1w",
    "outputId": "8b49701d-bf20-4f6f-94de-0e89d52a08ca"
   },
   "outputs": [
    {
     "name": "stdout",
     "output_type": "stream",
     "text": [
      "<class 'pandas.core.frame.DataFrame'>\n",
      "RangeIndex: 106 entries, 0 to 105\n",
      "Data columns (total 11 columns):\n",
      " #   Column            Non-Null Count  Dtype \n",
      "---  ------            --------------  ----- \n",
      " 0   Card_ID           106 non-null    int64 \n",
      " 1   Limit             106 non-null    int64 \n",
      " 2   Year              106 non-null    int64 \n",
      " 3   Month             106 non-null    object\n",
      " 4   Date              106 non-null    int64 \n",
      " 5   Time              106 non-null    int64 \n",
      " 6   Origin            106 non-null    object\n",
      " 7   Transaction       106 non-null    object\n",
      " 8   Transaction_Type  106 non-null    object\n",
      " 9   Amount            106 non-null    int64 \n",
      " 10  Type              106 non-null    object\n",
      "dtypes: int64(6), object(5)\n",
      "memory usage: 9.2+ KB\n"
     ]
    }
   ],
   "source": [
    "DB.info()"
   ]
  },
  {
   "cell_type": "markdown",
   "metadata": {
    "id": "7ts5__3uBu1y"
   },
   "source": [
    "- There are 106 entries and 11 columns\n",
    "- We can drop Card_ID as it is an unique identifier\n",
    "- There are a few object type columns\n",
    "- There are no null values"
   ]
  },
  {
   "cell_type": "code",
   "execution_count": null,
   "metadata": {
    "id": "63dku3bQBu14"
   },
   "outputs": [],
   "source": [
    "# Remove first column\n",
    "DB=DB.iloc[:,1:] "
   ]
  },
  {
   "cell_type": "code",
   "execution_count": null,
   "metadata": {
    "id": "RlobdZhVYeMR",
    "outputId": "8637905f-3be3-4201-8639-a40390e1a17b"
   },
   "outputs": [
    {
     "data": {
      "text/html": [
       "<div>\n",
       "<style scoped>\n",
       "    .dataframe tbody tr th:only-of-type {\n",
       "        vertical-align: middle;\n",
       "    }\n",
       "\n",
       "    .dataframe tbody tr th {\n",
       "        vertical-align: top;\n",
       "    }\n",
       "\n",
       "    .dataframe thead th {\n",
       "        text-align: right;\n",
       "    }\n",
       "</style>\n",
       "<table border=\"1\" class=\"dataframe\">\n",
       "  <thead>\n",
       "    <tr style=\"text-align: right;\">\n",
       "      <th></th>\n",
       "      <th>Limit</th>\n",
       "      <th>Year</th>\n",
       "      <th>Date</th>\n",
       "      <th>Time</th>\n",
       "      <th>Amount</th>\n",
       "    </tr>\n",
       "  </thead>\n",
       "  <tbody>\n",
       "    <tr>\n",
       "      <th>count</th>\n",
       "      <td>106.000000</td>\n",
       "      <td>106.0</td>\n",
       "      <td>106.000000</td>\n",
       "      <td>106.000000</td>\n",
       "      <td>106.000000</td>\n",
       "    </tr>\n",
       "    <tr>\n",
       "      <th>mean</th>\n",
       "      <td>254481.132075</td>\n",
       "      <td>2016.0</td>\n",
       "      <td>15.009434</td>\n",
       "      <td>12.669811</td>\n",
       "      <td>17255.301887</td>\n",
       "    </tr>\n",
       "    <tr>\n",
       "      <th>std</th>\n",
       "      <td>166861.689582</td>\n",
       "      <td>0.0</td>\n",
       "      <td>8.462236</td>\n",
       "      <td>7.077424</td>\n",
       "      <td>34962.028891</td>\n",
       "    </tr>\n",
       "    <tr>\n",
       "      <th>min</th>\n",
       "      <td>25000.000000</td>\n",
       "      <td>2016.0</td>\n",
       "      <td>1.000000</td>\n",
       "      <td>1.000000</td>\n",
       "      <td>50.000000</td>\n",
       "    </tr>\n",
       "    <tr>\n",
       "      <th>25%</th>\n",
       "      <td>100000.000000</td>\n",
       "      <td>2016.0</td>\n",
       "      <td>8.000000</td>\n",
       "      <td>7.000000</td>\n",
       "      <td>894.250000</td>\n",
       "    </tr>\n",
       "    <tr>\n",
       "      <th>50%</th>\n",
       "      <td>225000.000000</td>\n",
       "      <td>2016.0</td>\n",
       "      <td>15.000000</td>\n",
       "      <td>12.500000</td>\n",
       "      <td>4000.000000</td>\n",
       "    </tr>\n",
       "    <tr>\n",
       "      <th>75%</th>\n",
       "      <td>350000.000000</td>\n",
       "      <td>2016.0</td>\n",
       "      <td>20.750000</td>\n",
       "      <td>19.000000</td>\n",
       "      <td>12000.000000</td>\n",
       "    </tr>\n",
       "    <tr>\n",
       "      <th>max</th>\n",
       "      <td>500000.000000</td>\n",
       "      <td>2016.0</td>\n",
       "      <td>31.000000</td>\n",
       "      <td>24.000000</td>\n",
       "      <td>175600.000000</td>\n",
       "    </tr>\n",
       "  </tbody>\n",
       "</table>\n",
       "</div>"
      ],
      "text/plain": [
       "               Limit    Year        Date        Time         Amount\n",
       "count     106.000000   106.0  106.000000  106.000000     106.000000\n",
       "mean   254481.132075  2016.0   15.009434   12.669811   17255.301887\n",
       "std    166861.689582     0.0    8.462236    7.077424   34962.028891\n",
       "min     25000.000000  2016.0    1.000000    1.000000      50.000000\n",
       "25%    100000.000000  2016.0    8.000000    7.000000     894.250000\n",
       "50%    225000.000000  2016.0   15.000000   12.500000    4000.000000\n",
       "75%    350000.000000  2016.0   20.750000   19.000000   12000.000000\n",
       "max    500000.000000  2016.0   31.000000   24.000000  175600.000000"
      ]
     },
     "execution_count": 48,
     "metadata": {},
     "output_type": "execute_result"
    }
   ],
   "source": [
    "# Check the statistical summary of the data\n",
    "DB.describe()"
   ]
  },
  {
   "cell_type": "code",
   "execution_count": null,
   "metadata": {
    "id": "5sMYu-2YBu16",
    "outputId": "762306cb-2bba-4105-a27c-8b560903ce23"
   },
   "outputs": [
    {
     "data": {
      "text/html": [
       "<div>\n",
       "<style scoped>\n",
       "    .dataframe tbody tr th:only-of-type {\n",
       "        vertical-align: middle;\n",
       "    }\n",
       "\n",
       "    .dataframe tbody tr th {\n",
       "        vertical-align: top;\n",
       "    }\n",
       "\n",
       "    .dataframe thead th {\n",
       "        text-align: right;\n",
       "    }\n",
       "</style>\n",
       "<table border=\"1\" class=\"dataframe\">\n",
       "  <thead>\n",
       "    <tr style=\"text-align: right;\">\n",
       "      <th></th>\n",
       "      <th>count</th>\n",
       "      <th>unique</th>\n",
       "      <th>top</th>\n",
       "      <th>freq</th>\n",
       "    </tr>\n",
       "  </thead>\n",
       "  <tbody>\n",
       "    <tr>\n",
       "      <th>Month</th>\n",
       "      <td>106</td>\n",
       "      <td>12</td>\n",
       "      <td>Oct</td>\n",
       "      <td>15</td>\n",
       "    </tr>\n",
       "    <tr>\n",
       "      <th>Origin</th>\n",
       "      <td>106</td>\n",
       "      <td>7</td>\n",
       "      <td>Mumbai, India</td>\n",
       "      <td>32</td>\n",
       "    </tr>\n",
       "    <tr>\n",
       "      <th>Transaction</th>\n",
       "      <td>106</td>\n",
       "      <td>17</td>\n",
       "      <td>Mumbai, India</td>\n",
       "      <td>27</td>\n",
       "    </tr>\n",
       "    <tr>\n",
       "      <th>Transaction_Type</th>\n",
       "      <td>106</td>\n",
       "      <td>2</td>\n",
       "      <td>POS</td>\n",
       "      <td>73</td>\n",
       "    </tr>\n",
       "    <tr>\n",
       "      <th>Type</th>\n",
       "      <td>106</td>\n",
       "      <td>2</td>\n",
       "      <td>Normal</td>\n",
       "      <td>72</td>\n",
       "    </tr>\n",
       "  </tbody>\n",
       "</table>\n",
       "</div>"
      ],
      "text/plain": [
       "                 count unique            top freq\n",
       "Month              106     12            Oct   15\n",
       "Origin             106      7  Mumbai, India   32\n",
       "Transaction        106     17  Mumbai, India   27\n",
       "Transaction_Type   106      2            POS   73\n",
       "Type               106      2         Normal   72"
      ]
     },
     "execution_count": 38,
     "metadata": {},
     "output_type": "execute_result"
    }
   ],
   "source": [
    "# Check the statistical summary of the data\n",
    "DB.describe(include = 'O').T "
   ]
  },
  {
   "cell_type": "markdown",
   "metadata": {
    "id": "On7ISHQLBu17"
   },
   "source": [
    "Inferences\n",
    "- Limit ranges from 25k to 500k\n",
    "- This data belongs to only one year that is 2016. It can be utilised to understand the trend of 2016.\n",
    "- Date ranges from 1 to 31 and month has 12 unique values. So, this data seems correct and does not have any invalid values.\n",
    "- Most of the transactions seem to originate from Mumbai and transferred  to Mumbai location\n",
    "- There are two type of transactions- Normal and Fraud"
   ]
  },
  {
   "cell_type": "markdown",
   "metadata": {
    "id": "345_-JVeYeMU"
   },
   "source": [
    "- - - - - - - - - - - - - - - - - - - - - - - - - - - - - - - - - - - - - - - - - - - - - -\n",
    "\n",
    "## 3. Univariate Analysis\n",
    "\n",
    "- - - - - - - - - - - - - - - - - - - - - - - - - - - - - - - - - - - - - - - - - - - - - -"
   ]
  },
  {
   "cell_type": "markdown",
   "metadata": {
    "id": "86hTtHlVBu1_"
   },
   "source": [
    "### Let's analyse a continuos numerical feature \"Amount\"  using multiple plots"
   ]
  },
  {
   "cell_type": "code",
   "execution_count": null,
   "metadata": {
    "id": "NEilwGsDBu2A",
    "outputId": "252b9c4f-7f89-4d7d-a7d5-7a8e9a611bf0"
   },
   "outputs": [
    {
     "data": {
      "text/plain": [
       "<matplotlib.axes._subplots.AxesSubplot at 0x167fd518be0>"
      ]
     },
     "execution_count": 40,
     "metadata": {},
     "output_type": "execute_result"
    },
    {
     "data": {
      "image/png": "[encoded data removed]",
      "text/plain": [
       "<Figure size 432x288 with 1 Axes>"
      ]
     },
     "metadata": {
      "needs_background": "light"
     },
     "output_type": "display_data"
    }
   ],
   "source": [
    "sns.distplot(DB['Amount'])"
   ]
  },
  {
   "cell_type": "code",
   "execution_count": null,
   "metadata": {
    "id": "1JzgoAEUBu2B",
    "outputId": "3f52386e-b3f7-41ad-d77a-14d09479db7d"
   },
   "outputs": [
    {
     "data": {
      "text/plain": [
       "<matplotlib.axes._subplots.AxesSubplot at 0x1678041bb80>"
      ]
     },
     "execution_count": 41,
     "metadata": {},
     "output_type": "execute_result"
    },
    {
     "data": {
      "image/png": "[encoded data removed]",
      "text/plain": [
       "<Figure size 432x288 with 1 Axes>"
      ]
     },
     "metadata": {
      "needs_background": "light"
     },
     "output_type": "display_data"
    }
   ],
   "source": [
    "sns.boxplot(DB['Amount'])"
   ]
  },
  {
   "cell_type": "code",
   "execution_count": null,
   "metadata": {
    "id": "IqVj0kL8YeMV",
    "outputId": "91309f6c-430a-4891-ca9c-050481d42fc2",
    "scrolled": false
   },
   "outputs": [
    {
     "data": {
      "application/vnd.plotly.v1+json": {
       "config": {
        "plotlyServerURL": "https://plot.ly"
       },
       "data": [
        {
         "alignmentgroup": "True",
         "bingroup": "x",
         "hovertemplate": "Amount=%{x}<br>count=%{y}<extra></extra>",
         "legendgroup": "",
         "marker": {
          "color": "#636efa"
         },
         "name": "",
         "offsetgroup": "",
         "orientation": "v",
         "showlegend": false,
         "type": "histogram",
         "x": [
          25000,
          300,
          45000,
          670,
          4543,
          11000,
          130000,
          132,
          1200,
          1340,
          1356,
          1200,
          11000,
          50000,
          10543,
          140,
          15000,
          994,
          800,
          50,
          120,
          140,
          1200,
          1987,
          987,
          4000,
          1200,
          112,
          12000,
          4509,
          4000,
          543,
          9875,
          12567,
          150000,
          907,
          345,
          5000,
          75000,
          24000,
          12000,
          175600,
          890,
          567,
          8954,
          9056,
          5000,
          23467,
          1000,
          10000,
          45000,
          25000,
          300,
          45000,
          670,
          4543,
          11000,
          130000,
          132,
          1200,
          1340,
          1356,
          1200,
          11000,
          50000,
          10543,
          140,
          15000,
          994,
          800,
          50,
          120,
          140,
          1200,
          1987,
          987,
          4000,
          1200,
          112,
          12000,
          4509,
          4000,
          543,
          9875,
          12567,
          150000,
          907,
          345,
          5000,
          75000,
          24000,
          23467,
          1000,
          10000,
          45000,
          25000,
          300,
          45000,
          670,
          4543,
          11000,
          130000,
          132,
          1200,
          1340,
          1356
         ],
         "xaxis": "x",
         "yaxis": "y"
        }
       ],
       "layout": {
        "barmode": "relative",
        "legend": {
         "tracegroupgap": 0
        },
        "margin": {
         "t": 60
        },
        "template": {
         "data": {
          "bar": [
           {
            "error_x": {
             "color": "#2a3f5f"
            },
            "error_y": {
             "color": "#2a3f5f"
            },
            "marker": {
             "line": {
              "color": "#E5ECF6",
              "width": 0.5
             }
            },
            "type": "bar"
           }
          ],
          "barpolar": [
           {
            "marker": {
             "line": {
              "color": "#E5ECF6",
              "width": 0.5
             }
            },
            "type": "barpolar"
           }
          ],
          "carpet": [
           {
            "aaxis": {
             "endlinecolor": "#2a3f5f",
             "gridcolor": "white",
             "linecolor": "white",
             "minorgridcolor": "white",
             "startlinecolor": "#2a3f5f"
            },
            "baxis": {
             "endlinecolor": "#2a3f5f",
             "gridcolor": "white",
             "linecolor": "white",
             "minorgridcolor": "white",
             "startlinecolor": "#2a3f5f"
            },
            "type": "carpet"
           }
          ],
          "choropleth": [
           {
            "colorbar": {
             "outlinewidth": 0,
             "ticks": ""
            },
            "type": "choropleth"
           }
          ],
          "contour": [
           {
            "colorbar": {
             "outlinewidth": 0,
             "ticks": ""
            },
            "colorscale": [
             [
              0,
              "#0d0887"
             ],
             [
              0.1111111111111111,
              "#46039f"
             ],
             [
              0.2222222222222222,
              "#7201a8"
             ],
             [
              0.3333333333333333,
              "#9c179e"
             ],
             [
              0.4444444444444444,
              "#bd3786"
             ],
             [
              0.5555555555555556,
              "#d8576b"
             ],
             [
              0.6666666666666666,
              "#ed7953"
             ],
             [
              0.7777777777777778,
              "#fb9f3a"
             ],
             [
              0.8888888888888888,
              "#fdca26"
             ],
             [
              1,
              "#f0f921"
             ]
            ],
            "type": "contour"
           }
          ],
          "contourcarpet": [
           {
            "colorbar": {
             "outlinewidth": 0,
             "ticks": ""
            },
            "type": "contourcarpet"
           }
          ],
          "heatmap": [
           {
            "colorbar": {
             "outlinewidth": 0,
             "ticks": ""
            },
            "colorscale": [
             [
              0,
              "#0d0887"
             ],
             [
              0.1111111111111111,
              "#46039f"
             ],
             [
              0.2222222222222222,
              "#7201a8"
             ],
             [
              0.3333333333333333,
              "#9c179e"
             ],
             [
              0.4444444444444444,
              "#bd3786"
             ],
             [
              0.5555555555555556,
              "#d8576b"
             ],
             [
              0.6666666666666666,
              "#ed7953"
             ],
             [
              0.7777777777777778,
              "#fb9f3a"
             ],
             [
              0.8888888888888888,
              "#fdca26"
             ],
             [
              1,
              "#f0f921"
             ]
            ],
            "type": "heatmap"
           }
          ],
          "heatmapgl": [
           {
            "colorbar": {
             "outlinewidth": 0,
             "ticks": ""
            },
            "colorscale": [
             [
              0,
              "#0d0887"
             ],
             [
              0.1111111111111111,
              "#46039f"
             ],
             [
              0.2222222222222222,
              "#7201a8"
             ],
             [
              0.3333333333333333,
              "#9c179e"
             ],
             [
              0.4444444444444444,
              "#bd3786"
             ],
             [
              0.5555555555555556,
              "#d8576b"
             ],
             [
              0.6666666666666666,
              "#ed7953"
             ],
             [
              0.7777777777777778,
              "#fb9f3a"
             ],
             [
              0.8888888888888888,
              "#fdca26"
             ],
             [
              1,
              "#f0f921"
             ]
            ],
            "type": "heatmapgl"
           }
          ],
          "histogram": [
           {
            "marker": {
             "colorbar": {
              "outlinewidth": 0,
              "ticks": ""
             }
            },
            "type": "histogram"
           }
          ],
          "histogram2d": [
           {
            "colorbar": {
             "outlinewidth": 0,
             "ticks": ""
            },
            "colorscale": [
             [
              0,
              "#0d0887"
             ],
             [
              0.1111111111111111,
              "#46039f"
             ],
             [
              0.2222222222222222,
              "#7201a8"
             ],
             [
              0.3333333333333333,
              "#9c179e"
             ],
             [
              0.4444444444444444,
              "#bd3786"
             ],
             [
              0.5555555555555556,
              "#d8576b"
             ],
             [
              0.6666666666666666,
              "#ed7953"
             ],
             [
              0.7777777777777778,
              "#fb9f3a"
             ],
             [
              0.8888888888888888,
              "#fdca26"
             ],
             [
              1,
              "#f0f921"
             ]
            ],
            "type": "histogram2d"
           }
          ],
          "histogram2dcontour": [
           {
            "colorbar": {
             "outlinewidth": 0,
             "ticks": ""
            },
            "colorscale": [
             [
              0,
              "#0d0887"
             ],
             [
              0.1111111111111111,
              "#46039f"
             ],
             [
              0.2222222222222222,
              "#7201a8"
             ],
             [
              0.3333333333333333,
              "#9c179e"
             ],
             [
              0.4444444444444444,
              "#bd3786"
             ],
             [
              0.5555555555555556,
              "#d8576b"
             ],
             [
              0.6666666666666666,
              "#ed7953"
             ],
             [
              0.7777777777777778,
              "#fb9f3a"
             ],
             [
              0.8888888888888888,
              "#fdca26"
             ],
             [
              1,
              "#f0f921"
             ]
            ],
            "type": "histogram2dcontour"
           }
          ],
          "mesh3d": [
           {
            "colorbar": {
             "outlinewidth": 0,
             "ticks": ""
            },
            "type": "mesh3d"
           }
          ],
          "parcoords": [
           {
            "line": {
             "colorbar": {
              "outlinewidth": 0,
              "ticks": ""
             }
            },
            "type": "parcoords"
           }
          ],
          "pie": [
           {
            "automargin": true,
            "type": "pie"
           }
          ],
          "scatter": [
           {
            "marker": {
             "colorbar": {
              "outlinewidth": 0,
              "ticks": ""
             }
            },
            "type": "scatter"
           }
          ],
          "scatter3d": [
           {
            "line": {
             "colorbar": {
              "outlinewidth": 0,
              "ticks": ""
             }
            },
            "marker": {
             "colorbar": {
              "outlinewidth": 0,
              "ticks": ""
             }
            },
            "type": "scatter3d"
           }
          ],
          "scattercarpet": [
           {
            "marker": {
             "colorbar": {
              "outlinewidth": 0,
              "ticks": ""
             }
            },
            "type": "scattercarpet"
           }
          ],
          "scattergeo": [
           {
            "marker": {
             "colorbar": {
              "outlinewidth": 0,
              "ticks": ""
             }
            },
            "type": "scattergeo"
           }
          ],
          "scattergl": [
           {
            "marker": {
             "colorbar": {
              "outlinewidth": 0,
              "ticks": ""
             }
            },
            "type": "scattergl"
           }
          ],
          "scattermapbox": [
           {
            "marker": {
             "colorbar": {
              "outlinewidth": 0,
              "ticks": ""
             }
            },
            "type": "scattermapbox"
           }
          ],
          "scatterpolar": [
           {
            "marker": {
             "colorbar": {
              "outlinewidth": 0,
              "ticks": ""
             }
            },
            "type": "scatterpolar"
           }
          ],
          "scatterpolargl": [
           {
            "marker": {
             "colorbar": {
              "outlinewidth": 0,
              "ticks": ""
             }
            },
            "type": "scatterpolargl"
           }
          ],
          "scatterternary": [
           {
            "marker": {
             "colorbar": {
              "outlinewidth": 0,
              "ticks": ""
             }
            },
            "type": "scatterternary"
           }
          ],
          "surface": [
           {
            "colorbar": {
             "outlinewidth": 0,
             "ticks": ""
            },
            "colorscale": [
             [
              0,
              "#0d0887"
             ],
             [
              0.1111111111111111,
              "#46039f"
             ],
             [
              0.2222222222222222,
              "#7201a8"
             ],
             [
              0.3333333333333333,
              "#9c179e"
             ],
             [
              0.4444444444444444,
              "#bd3786"
             ],
             [
              0.5555555555555556,
              "#d8576b"
             ],
             [
              0.6666666666666666,
              "#ed7953"
             ],
             [
              0.7777777777777778,
              "#fb9f3a"
             ],
             [
              0.8888888888888888,
              "#fdca26"
             ],
             [
              1,
              "#f0f921"
             ]
            ],
            "type": "surface"
           }
          ],
          "table": [
           {
            "cells": {
             "fill": {
              "color": "#EBF0F8"
             },
             "line": {
              "color": "white"
             }
            },
            "header": {
             "fill": {
              "color": "#C8D4E3"
             },
             "line": {
              "color": "white"
             }
            },
            "type": "table"
           }
          ]
         },
         "layout": {
          "annotationdefaults": {
           "arrowcolor": "#2a3f5f",
           "arrowhead": 0,
           "arrowwidth": 1
          },
          "autotypenumbers": "strict",
          "coloraxis": {
           "colorbar": {
            "outlinewidth": 0,
            "ticks": ""
           }
          },
          "colorscale": {
           "diverging": [
            [
             0,
             "#8e0152"
            ],
            [
             0.1,
             "#c51b7d"
            ],
            [
             0.2,
             "#de77ae"
            ],
            [
             0.3,
             "#f1b6da"
            ],
            [
             0.4,
             "#fde0ef"
            ],
            [
             0.5,
             "#f7f7f7"
            ],
            [
             0.6,
             "#e6f5d0"
            ],
            [
             0.7,
             "#b8e186"
            ],
            [
             0.8,
             "#7fbc41"
            ],
            [
             0.9,
             "#4d9221"
            ],
            [
             1,
             "#276419"
            ]
           ],
           "sequential": [
            [
             0,
             "#0d0887"
            ],
            [
             0.1111111111111111,
             "#46039f"
            ],
            [
             0.2222222222222222,
             "#7201a8"
            ],
            [
             0.3333333333333333,
             "#9c179e"
            ],
            [
             0.4444444444444444,
             "#bd3786"
            ],
            [
             0.5555555555555556,
             "#d8576b"
            ],
            [
             0.6666666666666666,
             "#ed7953"
            ],
            [
             0.7777777777777778,
             "#fb9f3a"
            ],
            [
             0.8888888888888888,
             "#fdca26"
            ],
            [
             1,
             "#f0f921"
            ]
           ],
           "sequentialminus": [
            [
             0,
             "#0d0887"
            ],
            [
             0.1111111111111111,
             "#46039f"
            ],
            [
             0.2222222222222222,
             "#7201a8"
            ],
            [
             0.3333333333333333,
             "#9c179e"
            ],
            [
             0.4444444444444444,
             "#bd3786"
            ],
            [
             0.5555555555555556,
             "#d8576b"
            ],
            [
             0.6666666666666666,
             "#ed7953"
            ],
            [
             0.7777777777777778,
             "#fb9f3a"
            ],
            [
             0.8888888888888888,
             "#fdca26"
            ],
            [
             1,
             "#f0f921"
            ]
           ]
          },
          "colorway": [
           "#636efa",
           "#EF553B",
           "#00cc96",
           "#ab63fa",
           "#FFA15A",
           "#19d3f3",
           "#FF6692",
           "#B6E880",
           "#FF97FF",
           "#FECB52"
          ],
          "font": {
           "color": "#2a3f5f"
          },
          "geo": {
           "bgcolor": "white",
           "lakecolor": "white",
           "landcolor": "#E5ECF6",
           "showlakes": true,
           "showland": true,
           "subunitcolor": "white"
          },
          "hoverlabel": {
           "align": "left"
          },
          "hovermode": "closest",
          "mapbox": {
           "style": "light"
          },
          "paper_bgcolor": "white",
          "plot_bgcolor": "#E5ECF6",
          "polar": {
           "angularaxis": {
            "gridcolor": "white",
            "linecolor": "white",
            "ticks": ""
           },
           "bgcolor": "#E5ECF6",
           "radialaxis": {
            "gridcolor": "white",
            "linecolor": "white",
            "ticks": ""
           }
          },
          "scene": {
           "xaxis": {
            "backgroundcolor": "#E5ECF6",
            "gridcolor": "white",
            "gridwidth": 2,
            "linecolor": "white",
            "showbackground": true,
            "ticks": "",
            "zerolinecolor": "white"
           },
           "yaxis": {
            "backgroundcolor": "#E5ECF6",
            "gridcolor": "white",
            "gridwidth": 2,
            "linecolor": "white",
            "showbackground": true,
            "ticks": "",
            "zerolinecolor": "white"
           },
           "zaxis": {
            "backgroundcolor": "#E5ECF6",
            "gridcolor": "white",
            "gridwidth": 2,
            "linecolor": "white",
            "showbackground": true,
            "ticks": "",
            "zerolinecolor": "white"
           }
          },
          "shapedefaults": {
           "line": {
            "color": "#2a3f5f"
           }
          },
          "ternary": {
           "aaxis": {
            "gridcolor": "white",
            "linecolor": "white",
            "ticks": ""
           },
           "baxis": {
            "gridcolor": "white",
            "linecolor": "white",
            "ticks": ""
           },
           "bgcolor": "#E5ECF6",
           "caxis": {
            "gridcolor": "white",
            "linecolor": "white",
            "ticks": ""
           }
          },
          "title": {
           "x": 0.05
          },
          "xaxis": {
           "automargin": true,
           "gridcolor": "white",
           "linecolor": "white",
           "ticks": "",
           "title": {
            "standoff": 15
           },
           "zerolinecolor": "white",
           "zerolinewidth": 2
          },
          "yaxis": {
           "automargin": true,
           "gridcolor": "white",
           "linecolor": "white",
           "ticks": "",
           "title": {
            "standoff": 15
           },
           "zerolinecolor": "white",
           "zerolinewidth": 2
          }
         }
        },
        "xaxis": {
         "anchor": "y",
         "domain": [
          0,
          1
         ],
         "title": {
          "text": "Amount"
         }
        },
        "yaxis": {
         "anchor": "x",
         "domain": [
          0,
          1
         ],
         "title": {
          "text": "count"
         }
        }
       }
      },
      "text/html": [
       "<div>                            <div id=\"216f4317-9055-4f4c-b34c-8e715e49233e\" class=\"plotly-graph-div\" style=\"height:525px; width:100%;\"></div>            <script type=\"text/javascript\">                require([\"plotly\"], function(Plotly) {                    window.PLOTLYENV=window.PLOTLYENV || {};                                    if (document.getElementById(\"216f4317-9055-4f4c-b34c-8e715e49233e\")) {                    Plotly.newPlot(                        \"216f4317-9055-4f4c-b34c-8e715e49233e\",                        [{\"alignmentgroup\": \"True\", \"bingroup\": \"x\", \"hovertemplate\": \"Amount=%{x}<br>count=%{y}<extra></extra>\", \"legendgroup\": \"\", \"marker\": {\"color\": \"#636efa\"}, \"name\": \"\", \"offsetgroup\": \"\", \"orientation\": \"v\", \"showlegend\": false, \"type\": \"histogram\", \"x\": [25000, 300, 45000, 670, 4543, 11000, 130000, 132, 1200, 1340, 1356, 1200, 11000, 50000, 10543, 140, 15000, 994, 800, 50, 120, 140, 1200, 1987, 987, 4000, 1200, 112, 12000, 4509, 4000, 543, 9875, 12567, 150000, 907, 345, 5000, 75000, 24000, 12000, 175600, 890, 567, 8954, 9056, 5000, 23467, 1000, 10000, 45000, 25000, 300, 45000, 670, 4543, 11000, 130000, 132, 1200, 1340, 1356, 1200, 11000, 50000, 10543, 140, 15000, 994, 800, 50, 120, 140, 1200, 1987, 987, 4000, 1200, 112, 12000, 4509, 4000, 543, 9875, 12567, 150000, 907, 345, 5000, 75000, 24000, 23467, 1000, 10000, 45000, 25000, 300, 45000, 670, 4543, 11000, 130000, 132, 1200, 1340, 1356], \"xaxis\": \"x\", \"yaxis\": \"y\"}],                        {\"barmode\": \"relative\", \"legend\": {\"tracegroupgap\": 0}, \"margin\": {\"t\": 60}, \"template\": {\"data\": {\"bar\": [{\"error_x\": {\"color\": \"#2a3f5f\"}, \"error_y\": {\"color\": \"#2a3f5f\"}, \"marker\": {\"line\": {\"color\": \"#E5ECF6\", \"width\": 0.5}}, \"type\": \"bar\"}], \"barpolar\": [{\"marker\": {\"line\": {\"color\": \"#E5ECF6\", \"width\": 0.5}}, \"type\": \"barpolar\"}], \"carpet\": [{\"aaxis\": {\"endlinecolor\": \"#2a3f5f\", \"gridcolor\": \"white\", \"linecolor\": \"white\", \"minorgridcolor\": \"white\", \"startlinecolor\": \"#2a3f5f\"}, \"baxis\": {\"endlinecolor\": \"#2a3f5f\", \"gridcolor\": \"white\", \"linecolor\": \"white\", \"minorgridcolor\": \"white\", \"startlinecolor\": \"#2a3f5f\"}, \"type\": \"carpet\"}], \"choropleth\": [{\"colorbar\": {\"outlinewidth\": 0, \"ticks\": \"\"}, \"type\": \"choropleth\"}], \"contour\": [{\"colorbar\": {\"outlinewidth\": 0, \"ticks\": \"\"}, \"colorscale\": [[0.0, \"#0d0887\"], [0.1111111111111111, \"#46039f\"], [0.2222222222222222, \"#7201a8\"], [0.3333333333333333, \"#9c179e\"], [0.4444444444444444, \"#bd3786\"], [0.5555555555555556, \"#d8576b\"], [0.6666666666666666, \"#ed7953\"], [0.7777777777777778, \"#fb9f3a\"], [0.8888888888888888, \"#fdca26\"], [1.0, \"#f0f921\"]], \"type\": \"contour\"}], \"contourcarpet\": [{\"colorbar\": {\"outlinewidth\": 0, \"ticks\": \"\"}, \"type\": \"contourcarpet\"}], \"heatmap\": [{\"colorbar\": {\"outlinewidth\": 0, \"ticks\": \"\"}, \"colorscale\": [[0.0, \"#0d0887\"], [0.1111111111111111, \"#46039f\"], [0.2222222222222222, \"#7201a8\"], [0.3333333333333333, \"#9c179e\"], [0.4444444444444444, \"#bd3786\"], [0.5555555555555556, \"#d8576b\"], [0.6666666666666666, \"#ed7953\"], [0.7777777777777778, \"#fb9f3a\"], [0.8888888888888888, \"#fdca26\"], [1.0, \"#f0f921\"]], \"type\": \"heatmap\"}], \"heatmapgl\": [{\"colorbar\": {\"outlinewidth\": 0, \"ticks\": \"\"}, \"colorscale\": [[0.0, \"#0d0887\"], [0.1111111111111111, \"#46039f\"], [0.2222222222222222, \"#7201a8\"], [0.3333333333333333, \"#9c179e\"], [0.4444444444444444, \"#bd3786\"], [0.5555555555555556, \"#d8576b\"], [0.6666666666666666, \"#ed7953\"], [0.7777777777777778, \"#fb9f3a\"], [0.8888888888888888, \"#fdca26\"], [1.0, \"#f0f921\"]], \"type\": \"heatmapgl\"}], \"histogram\": [{\"marker\": {\"colorbar\": {\"outlinewidth\": 0, \"ticks\": \"\"}}, \"type\": \"histogram\"}], \"histogram2d\": [{\"colorbar\": {\"outlinewidth\": 0, \"ticks\": \"\"}, \"colorscale\": [[0.0, \"#0d0887\"], [0.1111111111111111, \"#46039f\"], [0.2222222222222222, \"#7201a8\"], [0.3333333333333333, \"#9c179e\"], [0.4444444444444444, \"#bd3786\"], [0.5555555555555556, \"#d8576b\"], [0.6666666666666666, \"#ed7953\"], [0.7777777777777778, \"#fb9f3a\"], [0.8888888888888888, \"#fdca26\"], [1.0, \"#f0f921\"]], \"type\": \"histogram2d\"}], \"histogram2dcontour\": [{\"colorbar\": {\"outlinewidth\": 0, \"ticks\": \"\"}, \"colorscale\": [[0.0, \"#0d0887\"], [0.1111111111111111, \"#46039f\"], [0.2222222222222222, \"#7201a8\"], [0.3333333333333333, \"#9c179e\"], [0.4444444444444444, \"#bd3786\"], [0.5555555555555556, \"#d8576b\"], [0.6666666666666666, \"#ed7953\"], [0.7777777777777778, \"#fb9f3a\"], [0.8888888888888888, \"#fdca26\"], [1.0, \"#f0f921\"]], \"type\": \"histogram2dcontour\"}], \"mesh3d\": [{\"colorbar\": {\"outlinewidth\": 0, \"ticks\": \"\"}, \"type\": \"mesh3d\"}], \"parcoords\": [{\"line\": {\"colorbar\": {\"outlinewidth\": 0, \"ticks\": \"\"}}, \"type\": \"parcoords\"}], \"pie\": [{\"automargin\": true, \"type\": \"pie\"}], \"scatter\": [{\"marker\": {\"colorbar\": {\"outlinewidth\": 0, \"ticks\": \"\"}}, \"type\": \"scatter\"}], \"scatter3d\": [{\"line\": {\"colorbar\": {\"outlinewidth\": 0, \"ticks\": \"\"}}, \"marker\": {\"colorbar\": {\"outlinewidth\": 0, \"ticks\": \"\"}}, \"type\": \"scatter3d\"}], \"scattercarpet\": [{\"marker\": {\"colorbar\": {\"outlinewidth\": 0, \"ticks\": \"\"}}, \"type\": \"scattercarpet\"}], \"scattergeo\": [{\"marker\": {\"colorbar\": {\"outlinewidth\": 0, \"ticks\": \"\"}}, \"type\": \"scattergeo\"}], \"scattergl\": [{\"marker\": {\"colorbar\": {\"outlinewidth\": 0, \"ticks\": \"\"}}, \"type\": \"scattergl\"}], \"scattermapbox\": [{\"marker\": {\"colorbar\": {\"outlinewidth\": 0, \"ticks\": \"\"}}, \"type\": \"scattermapbox\"}], \"scatterpolar\": [{\"marker\": {\"colorbar\": {\"outlinewidth\": 0, \"ticks\": \"\"}}, \"type\": \"scatterpolar\"}], \"scatterpolargl\": [{\"marker\": {\"colorbar\": {\"outlinewidth\": 0, \"ticks\": \"\"}}, \"type\": \"scatterpolargl\"}], \"scatterternary\": [{\"marker\": {\"colorbar\": {\"outlinewidth\": 0, \"ticks\": \"\"}}, \"type\": \"scatterternary\"}], \"surface\": [{\"colorbar\": {\"outlinewidth\": 0, \"ticks\": \"\"}, \"colorscale\": [[0.0, \"#0d0887\"], [0.1111111111111111, \"#46039f\"], [0.2222222222222222, \"#7201a8\"], [0.3333333333333333, \"#9c179e\"], [0.4444444444444444, \"#bd3786\"], [0.5555555555555556, \"#d8576b\"], [0.6666666666666666, \"#ed7953\"], [0.7777777777777778, \"#fb9f3a\"], [0.8888888888888888, \"#fdca26\"], [1.0, \"#f0f921\"]], \"type\": \"surface\"}], \"table\": [{\"cells\": {\"fill\": {\"color\": \"#EBF0F8\"}, \"line\": {\"color\": \"white\"}}, \"header\": {\"fill\": {\"color\": \"#C8D4E3\"}, \"line\": {\"color\": \"white\"}}, \"type\": \"table\"}]}, \"layout\": {\"annotationdefaults\": {\"arrowcolor\": \"#2a3f5f\", \"arrowhead\": 0, \"arrowwidth\": 1}, \"autotypenumbers\": \"strict\", \"coloraxis\": {\"colorbar\": {\"outlinewidth\": 0, \"ticks\": \"\"}}, \"colorscale\": {\"diverging\": [[0, \"#8e0152\"], [0.1, \"#c51b7d\"], [0.2, \"#de77ae\"], [0.3, \"#f1b6da\"], [0.4, \"#fde0ef\"], [0.5, \"#f7f7f7\"], [0.6, \"#e6f5d0\"], [0.7, \"#b8e186\"], [0.8, \"#7fbc41\"], [0.9, \"#4d9221\"], [1, \"#276419\"]], \"sequential\": [[0.0, \"#0d0887\"], [0.1111111111111111, \"#46039f\"], [0.2222222222222222, \"#7201a8\"], [0.3333333333333333, \"#9c179e\"], [0.4444444444444444, \"#bd3786\"], [0.5555555555555556, \"#d8576b\"], [0.6666666666666666, \"#ed7953\"], [0.7777777777777778, \"#fb9f3a\"], [0.8888888888888888, \"#fdca26\"], [1.0, \"#f0f921\"]], \"sequentialminus\": [[0.0, \"#0d0887\"], [0.1111111111111111, \"#46039f\"], [0.2222222222222222, \"#7201a8\"], [0.3333333333333333, \"#9c179e\"], [0.4444444444444444, \"#bd3786\"], [0.5555555555555556, \"#d8576b\"], [0.6666666666666666, \"#ed7953\"], [0.7777777777777778, \"#fb9f3a\"], [0.8888888888888888, \"#fdca26\"], [1.0, \"#f0f921\"]]}, \"colorway\": [\"#636efa\", \"#EF553B\", \"#00cc96\", \"#ab63fa\", \"#FFA15A\", \"#19d3f3\", \"#FF6692\", \"#B6E880\", \"#FF97FF\", \"#FECB52\"], \"font\": {\"color\": \"#2a3f5f\"}, \"geo\": {\"bgcolor\": \"white\", \"lakecolor\": \"white\", \"landcolor\": \"#E5ECF6\", \"showlakes\": true, \"showland\": true, \"subunitcolor\": \"white\"}, \"hoverlabel\": {\"align\": \"left\"}, \"hovermode\": \"closest\", \"mapbox\": {\"style\": \"light\"}, \"paper_bgcolor\": \"white\", \"plot_bgcolor\": \"#E5ECF6\", \"polar\": {\"angularaxis\": {\"gridcolor\": \"white\", \"linecolor\": \"white\", \"ticks\": \"\"}, \"bgcolor\": \"#E5ECF6\", \"radialaxis\": {\"gridcolor\": \"white\", \"linecolor\": \"white\", \"ticks\": \"\"}}, \"scene\": {\"xaxis\": {\"backgroundcolor\": \"#E5ECF6\", \"gridcolor\": \"white\", \"gridwidth\": 2, \"linecolor\": \"white\", \"showbackground\": true, \"ticks\": \"\", \"zerolinecolor\": \"white\"}, \"yaxis\": {\"backgroundcolor\": \"#E5ECF6\", \"gridcolor\": \"white\", \"gridwidth\": 2, \"linecolor\": \"white\", \"showbackground\": true, \"ticks\": \"\", \"zerolinecolor\": \"white\"}, \"zaxis\": {\"backgroundcolor\": \"#E5ECF6\", \"gridcolor\": \"white\", \"gridwidth\": 2, \"linecolor\": \"white\", \"showbackground\": true, \"ticks\": \"\", \"zerolinecolor\": \"white\"}}, \"shapedefaults\": {\"line\": {\"color\": \"#2a3f5f\"}}, \"ternary\": {\"aaxis\": {\"gridcolor\": \"white\", \"linecolor\": \"white\", \"ticks\": \"\"}, \"baxis\": {\"gridcolor\": \"white\", \"linecolor\": \"white\", \"ticks\": \"\"}, \"bgcolor\": \"#E5ECF6\", \"caxis\": {\"gridcolor\": \"white\", \"linecolor\": \"white\", \"ticks\": \"\"}}, \"title\": {\"x\": 0.05}, \"xaxis\": {\"automargin\": true, \"gridcolor\": \"white\", \"linecolor\": \"white\", \"ticks\": \"\", \"title\": {\"standoff\": 15}, \"zerolinecolor\": \"white\", \"zerolinewidth\": 2}, \"yaxis\": {\"automargin\": true, \"gridcolor\": \"white\", \"linecolor\": \"white\", \"ticks\": \"\", \"title\": {\"standoff\": 15}, \"zerolinecolor\": \"white\", \"zerolinewidth\": 2}}}, \"xaxis\": {\"anchor\": \"y\", \"domain\": [0.0, 1.0], \"title\": {\"text\": \"Amount\"}}, \"yaxis\": {\"anchor\": \"x\", \"domain\": [0.0, 1.0], \"title\": {\"text\": \"count\"}}},                        {\"responsive\": true}                    ).then(function(){\n",
       "                            \n",
       "var gd = document.getElementById('216f4317-9055-4f4c-b34c-8e715e49233e');\n",
       "var x = new MutationObserver(function (mutations, observer) {{\n",
       "        var display = window.getComputedStyle(gd).display;\n",
       "        if (!display || display === 'none') {{\n",
       "            console.log([gd, 'removed!']);\n",
       "            Plotly.purge(gd);\n",
       "            observer.disconnect();\n",
       "        }}\n",
       "}});\n",
       "\n",
       "// Listen for the removal of the full notebook cells\n",
       "var notebookContainer = gd.closest('#notebook-container');\n",
       "if (notebookContainer) {{\n",
       "    x.observe(notebookContainer, {childList: true});\n",
       "}}\n",
       "\n",
       "// Listen for the clearing of the current output cell\n",
       "var outputEl = gd.closest('.output');\n",
       "if (outputEl) {{\n",
       "    x.observe(outputEl, {childList: true});\n",
       "}}\n",
       "\n",
       "                        })                };                });            </script>        </div>"
      ]
     },
     "metadata": {},
     "output_type": "display_data"
    }
   ],
   "source": [
    "# P - Histogram\n",
    "\n",
    "import plotly.express as px\n",
    "\n",
    "x = DB['Amount']   # Run through all variables on by one\n",
    "\n",
    "fig = px.histogram(DB,x)\n",
    "fig.show()"
   ]
  },
  {
   "cell_type": "markdown",
   "metadata": {
    "id": "TMjR49UcBu2C"
   },
   "source": [
    "- We can see that the plot is skewed towards right \n",
    "- There are many instances having the amount less than 20k\n",
    "- There are very few instances having amount more than 120K (We should analyse them closely)"
   ]
  },
  {
   "cell_type": "code",
   "execution_count": null,
   "metadata": {
    "id": "n38oSEM5Bu2D",
    "outputId": "df1727ab-f6a9-49b9-8fce-ba01d5bb709b"
   },
   "outputs": [
    {
     "data": {
      "text/html": [
       "<div>\n",
       "<style scoped>\n",
       "    .dataframe tbody tr th:only-of-type {\n",
       "        vertical-align: middle;\n",
       "    }\n",
       "\n",
       "    .dataframe tbody tr th {\n",
       "        vertical-align: top;\n",
       "    }\n",
       "\n",
       "    .dataframe thead th {\n",
       "        text-align: right;\n",
       "    }\n",
       "</style>\n",
       "<table border=\"1\" class=\"dataframe\">\n",
       "  <thead>\n",
       "    <tr style=\"text-align: right;\">\n",
       "      <th></th>\n",
       "      <th>Limit</th>\n",
       "      <th>Year</th>\n",
       "      <th>Month</th>\n",
       "      <th>Date</th>\n",
       "      <th>Time</th>\n",
       "      <th>Origin</th>\n",
       "      <th>Transaction</th>\n",
       "      <th>Transaction_Type</th>\n",
       "      <th>Amount</th>\n",
       "      <th>Type</th>\n",
       "    </tr>\n",
       "  </thead>\n",
       "  <tbody>\n",
       "    <tr>\n",
       "      <th>6</th>\n",
       "      <td>500000</td>\n",
       "      <td>2016</td>\n",
       "      <td>May</td>\n",
       "      <td>24</td>\n",
       "      <td>21</td>\n",
       "      <td>Bangalore, India</td>\n",
       "      <td>Moscow, Russia</td>\n",
       "      <td>Internet</td>\n",
       "      <td>130000</td>\n",
       "      <td>Fraud</td>\n",
       "    </tr>\n",
       "    <tr>\n",
       "      <th>34</th>\n",
       "      <td>350000</td>\n",
       "      <td>2016</td>\n",
       "      <td>Oct</td>\n",
       "      <td>16</td>\n",
       "      <td>5</td>\n",
       "      <td>Mumbai, India</td>\n",
       "      <td>Budapest, Hungary</td>\n",
       "      <td>Internet</td>\n",
       "      <td>150000</td>\n",
       "      <td>Fraud</td>\n",
       "    </tr>\n",
       "    <tr>\n",
       "      <th>41</th>\n",
       "      <td>225000</td>\n",
       "      <td>2016</td>\n",
       "      <td>Feb</td>\n",
       "      <td>19</td>\n",
       "      <td>22</td>\n",
       "      <td>Delhi, India</td>\n",
       "      <td>Delhi, India</td>\n",
       "      <td>POS</td>\n",
       "      <td>175600</td>\n",
       "      <td>Fraud</td>\n",
       "    </tr>\n",
       "    <tr>\n",
       "      <th>57</th>\n",
       "      <td>500000</td>\n",
       "      <td>2016</td>\n",
       "      <td>Jul</td>\n",
       "      <td>6</td>\n",
       "      <td>17</td>\n",
       "      <td>Ahmedabad, India</td>\n",
       "      <td>Paris, France</td>\n",
       "      <td>POS</td>\n",
       "      <td>130000</td>\n",
       "      <td>Normal</td>\n",
       "    </tr>\n",
       "    <tr>\n",
       "      <th>85</th>\n",
       "      <td>350000</td>\n",
       "      <td>2016</td>\n",
       "      <td>Nov</td>\n",
       "      <td>8</td>\n",
       "      <td>1</td>\n",
       "      <td>Chennai, India</td>\n",
       "      <td>Delhi, India</td>\n",
       "      <td>POS</td>\n",
       "      <td>150000</td>\n",
       "      <td>Normal</td>\n",
       "    </tr>\n",
       "    <tr>\n",
       "      <th>101</th>\n",
       "      <td>225000</td>\n",
       "      <td>2016</td>\n",
       "      <td>May</td>\n",
       "      <td>20</td>\n",
       "      <td>9</td>\n",
       "      <td>Delhi, India</td>\n",
       "      <td>Delhi, India</td>\n",
       "      <td>POS</td>\n",
       "      <td>130000</td>\n",
       "      <td>Normal</td>\n",
       "    </tr>\n",
       "  </tbody>\n",
       "</table>\n",
       "</div>"
      ],
      "text/plain": [
       "      Limit  Year Month  Date  Time            Origin        Transaction  \\\n",
       "6    500000  2016   May    24    21  Bangalore, India     Moscow, Russia   \n",
       "34   350000  2016   Oct    16     5     Mumbai, India  Budapest, Hungary   \n",
       "41   225000  2016   Feb    19    22      Delhi, India       Delhi, India   \n",
       "57   500000  2016   Jul     6    17  Ahmedabad, India      Paris, France   \n",
       "85   350000  2016   Nov     8     1    Chennai, India       Delhi, India   \n",
       "101  225000  2016   May    20     9      Delhi, India       Delhi, India   \n",
       "\n",
       "    Transaction_Type  Amount    Type  \n",
       "6           Internet  130000   Fraud  \n",
       "34          Internet  150000   Fraud  \n",
       "41               POS  175600   Fraud  \n",
       "57               POS  130000  Normal  \n",
       "85               POS  150000  Normal  \n",
       "101              POS  130000  Normal  "
      ]
     },
     "execution_count": 43,
     "metadata": {},
     "output_type": "execute_result"
    }
   ],
   "source": [
    "DB[DB['Amount']>100000]"
   ]
  },
  {
   "cell_type": "markdown",
   "metadata": {
    "id": "KbaGV1tHBu2E"
   },
   "source": [
    "### Let's analyze the \"Date\" column using multiple plots"
   ]
  },
  {
   "cell_type": "code",
   "execution_count": null,
   "metadata": {
    "id": "42eoJ_j-YeMU",
    "outputId": "b5f934f1-b8ee-4ba9-cfbb-c09fa36571a3"
   },
   "outputs": [
    {
     "data": {
      "image/png": "[encoded data removed]",
      "text/plain": [
       "<Figure size 1080x216 with 1 Axes>"
      ]
     },
     "metadata": {
      "needs_background": "light"
     },
     "output_type": "display_data"
    }
   ],
   "source": [
    "import matplotlib.pyplot as plt\n",
    "\n",
    "x = DB['Date']   # Run through all variables on by one\n",
    "\n",
    "\n",
    "fig, ax = plt.subplots(figsize=(15,3))\n",
    "ax.hist(x,\n",
    "        bins=500,         # Try different ranges from 5 t 1000\n",
    "        cumulative=None,  # Try: False\n",
    "        histtype='bar',   # Try: 'bar', 'barstacked', 'step', 'stepfilled'\n",
    "        orientation='vertical',   # Try: horizontal\n",
    "        log=False,\n",
    "        color='b',\n",
    "        label=None,\n",
    "        stacked=False)\n",
    "ax.set_title(\"Univariate Analysis\")\n",
    "ax.set_xlabel('Variable')\n",
    "ax.set_ylabel('Frequency')\n",
    "plt.show()"
   ]
  },
  {
   "cell_type": "code",
   "execution_count": null,
   "metadata": {
    "id": "atiLY4stBu2F",
    "outputId": "182de118-88c9-4e00-fe99-8d6b0830b26b"
   },
   "outputs": [
    {
     "data": {
      "text/plain": [
       "<matplotlib.axes._subplots.AxesSubplot at 0x167fd4f6130>"
      ]
     },
     "execution_count": 26,
     "metadata": {},
     "output_type": "execute_result"
    },
    {
     "data": {
      "image/png": "[encoded data removed]",
      "text/plain": [
       "<Figure size 432x288 with 1 Axes>"
      ]
     },
     "metadata": {
      "needs_background": "light"
     },
     "output_type": "display_data"
    }
   ],
   "source": [
    "sns.distplot(DB['Date'])"
   ]
  },
  {
   "cell_type": "code",
   "execution_count": null,
   "metadata": {
    "id": "qlmXa6YqBu2Y",
    "outputId": "0a0ff3ea-85d9-4b75-a7a6-53dc706c9e73"
   },
   "outputs": [
    {
     "data": {
      "text/plain": [
       "<matplotlib.axes._subplots.AxesSubplot at 0x167fd81de80>"
      ]
     },
     "execution_count": 31,
     "metadata": {},
     "output_type": "execute_result"
    },
    {
     "data": {
      "image/png": "[encoded data removed]",
      "text/plain": [
       "<Figure size 432x288 with 1 Axes>"
      ]
     },
     "metadata": {
      "needs_background": "light"
     },
     "output_type": "display_data"
    }
   ],
   "source": [
    "sns.countplot(DB['Date'])"
   ]
  },
  {
   "cell_type": "markdown",
   "metadata": {
    "id": "ZuTaBSAJBu2Z"
   },
   "source": [
    "- All the plots have similar visuals but some information is prominant in certain plots.\n",
    "- We can clearly see that there are no transctions on the 18th and 28th using histgram and countplot wherease distplot shows the overall shape\n",
    "- Since date is a discrete feature, a countplot or histogram would be more suitable"
   ]
  },
  {
   "cell_type": "markdown",
   "metadata": {
    "id": "mrsu6FJVBu2b"
   },
   "source": [
    "### Let's analyze a categorical feature \"Type\""
   ]
  },
  {
   "cell_type": "code",
   "execution_count": null,
   "metadata": {
    "id": "1B8OW136Bu2c",
    "outputId": "5544d6b9-d5fd-4a72-b2eb-aecf8979164a"
   },
   "outputs": [
    {
     "data": {
      "text/plain": [
       "<matplotlib.axes._subplots.AxesSubplot at 0x1678052e8e0>"
      ]
     },
     "execution_count": 44,
     "metadata": {},
     "output_type": "execute_result"
    },
    {
     "data": {
      "image/png": "[encoded data removed]",
      "text/plain": [
       "<Figure size 432x288 with 1 Axes>"
      ]
     },
     "metadata": {
      "needs_background": "light"
     },
     "output_type": "display_data"
    }
   ],
   "source": [
    "sns.countplot( DB['Type'])"
   ]
  },
  {
   "cell_type": "code",
   "execution_count": null,
   "metadata": {
    "id": "1mRLdN99Bu2c",
    "outputId": "59443513-b3fc-479a-9600-2dba21e3b561"
   },
   "outputs": [
    {
     "data": {
      "text/plain": [
       "<matplotlib.axes._subplots.AxesSubplot at 0x1678064ca60>"
      ]
     },
     "execution_count": 47,
     "metadata": {},
     "output_type": "execute_result"
    },
    {
     "data": {
      "image/png": "[encoded data removed]",
      "text/plain": [
       "<Figure size 432x288 with 1 Axes>"
      ]
     },
     "metadata": {},
     "output_type": "display_data"
    }
   ],
   "source": [
    "DB['Type'].value_counts().plot(kind='pie', autopct=\"%.1f%%\")"
   ]
  },
  {
   "cell_type": "markdown",
   "metadata": {
    "id": "RbHdH-zCBu2c"
   },
   "source": [
    "- We can see that almost 68% of the data is of normal type\n",
    "- Similarly we can analyse other categorical features as well"
   ]
  },
  {
   "cell_type": "markdown",
   "metadata": {
    "id": "y6OSapx_Bu2d"
   },
   "source": [
    "## 4. Bivariate Analysis"
   ]
  },
  {
   "cell_type": "markdown",
   "metadata": {
    "id": "NFGxm_EdBu2d"
   },
   "source": [
    "### Let's analyse two numerical features:- Limit Vs amount and Limit Vs Date"
   ]
  },
  {
   "cell_type": "code",
   "execution_count": null,
   "metadata": {
    "id": "JRQJLlJpBu2e",
    "outputId": "fc06254c-6c50-41fc-a5c6-e201d0aa10cb"
   },
   "outputs": [
    {
     "data": {
      "text/plain": [
       "<matplotlib.axes._subplots.AxesSubplot at 0x1678052e910>"
      ]
     },
     "execution_count": 52,
     "metadata": {},
     "output_type": "execute_result"
    },
    {
     "data": {
      "image/png": "[encoded data removed]",
      "text/plain": [
       "<Figure size 432x288 with 1 Axes>"
      ]
     },
     "metadata": {
      "needs_background": "light"
     },
     "output_type": "display_data"
    }
   ],
   "source": [
    "sns.scatterplot(DB['Amount'], DB['Limit'])"
   ]
  },
  {
   "cell_type": "markdown",
   "metadata": {
    "id": "VGznewlFBu2f"
   },
   "source": [
    "- We do not see a trend here\n",
    "- But for the higher amount, the limit is on the higher side"
   ]
  },
  {
   "cell_type": "code",
   "execution_count": null,
   "metadata": {
    "id": "HcxcQPz2Bu2h",
    "outputId": "008056db-efd4-43a9-c03d-a59c7de4718b"
   },
   "outputs": [
    {
     "data": {
      "image/png": "[encoded data removed]",
      "text/plain": [
       "<Figure size 432.125x360 with 1 Axes>"
      ]
     },
     "metadata": {
      "needs_background": "light"
     },
     "output_type": "display_data"
    }
   ],
   "source": [
    "sns.relplot(x=\"Date\", y=\"Amount\", hue=\"Type\", data=DB);"
   ]
  },
  {
   "cell_type": "markdown",
   "metadata": {
    "id": "FyB3DUlVBu2i"
   },
   "source": [
    "- There's is no linear relationship between amount and date. \n",
    "- However, the amount is on lower side during the beginning and ending of the month"
   ]
  },
  {
   "cell_type": "markdown",
   "metadata": {
    "id": "zu6qWubjBu2i"
   },
   "source": [
    "### Let's analyse a categorical feature and a numerical feature:- Type Vs Amount and Amount Vs Origin"
   ]
  },
  {
   "cell_type": "code",
   "execution_count": null,
   "metadata": {
    "id": "a-Ky_3MNBu2i",
    "outputId": "58a5855a-5a68-4fc5-9e75-12e137195266"
   },
   "outputs": [
    {
     "data": {
      "text/plain": [
       "<matplotlib.axes._subplots.AxesSubplot at 0x16783530b20>"
      ]
     },
     "execution_count": 86,
     "metadata": {},
     "output_type": "execute_result"
    },
    {
     "data": {
      "image/png": "[encoded data removed]",
      "text/plain": [
       "<Figure size 432x288 with 1 Axes>"
      ]
     },
     "metadata": {
      "needs_background": "light"
     },
     "output_type": "display_data"
    }
   ],
   "source": [
    "sns.boxplot(DB['Type'], DB['Amount'])"
   ]
  },
  {
   "cell_type": "markdown",
   "metadata": {
    "id": "uOQ0x_duBu2j"
   },
   "source": [
    "- Fraudulent transactions seem to have comparatively higher mean amount"
   ]
  },
  {
   "cell_type": "code",
   "execution_count": null,
   "metadata": {
    "id": "84gDn6F5YeMx",
    "outputId": "0f421e6a-443b-43b9-ddd5-1f54146dd72f"
   },
   "outputs": [
    {
     "data": {
      "text/plain": [
       "Type\n",
       "Normal    12879.875000\n",
       "Fraud     26520.911765\n",
       "Name: Amount, dtype: float64"
      ]
     },
     "execution_count": 145,
     "metadata": {},
     "output_type": "execute_result"
    }
   ],
   "source": [
    "# Verifying the above plot using numbers \n",
    "Group=DB.groupby(['Type'])['Amount'].mean().sort_values(ascending=True)\n",
    "Group"
   ]
  },
  {
   "cell_type": "code",
   "execution_count": null,
   "metadata": {
    "id": "2TUeECGlBu2k",
    "outputId": "eeb9aee2-be0b-4ba9-e9f2-3d13f01cfc61"
   },
   "outputs": [
    {
     "data": {
      "text/plain": [
       "<matplotlib.axes._subplots.AxesSubplot at 0x16785a00340>"
      ]
     },
     "execution_count": 102,
     "metadata": {},
     "output_type": "execute_result"
    },
    {
     "data": {
      "image/png": "[encoded data removed]",
      "text/plain": [
       "<Figure size 1008x576 with 1 Axes>"
      ]
     },
     "metadata": {},
     "output_type": "display_data"
    }
   ],
   "source": [
    "from matplotlib import pyplot\n",
    "fig, ax = pyplot.subplots(figsize=(14,8))\n",
    "sns.boxplot(DB['Origin'], DB['Amount'],width=0.5,ax = ax )"
   ]
  },
  {
   "cell_type": "markdown",
   "metadata": {
    "id": "yVoIV4yTBu2k"
   },
   "source": [
    "- Some cities like Delhi and Ahmedabad have higher mean amount"
   ]
  },
  {
   "cell_type": "markdown",
   "metadata": {
    "id": "ZQb6Vo8uBu2o"
   },
   "source": [
    "### Let's analyse two categorical features:-  Type Vs Origin"
   ]
  },
  {
   "cell_type": "code",
   "execution_count": null,
   "metadata": {
    "id": "34lv19ldBu2o",
    "outputId": "2ea1be9e-77c7-471a-a82a-c9bd657ef824"
   },
   "outputs": [
    {
     "data": {
      "text/html": [
       "<div>\n",
       "<style scoped>\n",
       "    .dataframe tbody tr th:only-of-type {\n",
       "        vertical-align: middle;\n",
       "    }\n",
       "\n",
       "    .dataframe tbody tr th {\n",
       "        vertical-align: top;\n",
       "    }\n",
       "\n",
       "    .dataframe thead th {\n",
       "        text-align: right;\n",
       "    }\n",
       "</style>\n",
       "<table border=\"1\" class=\"dataframe\">\n",
       "  <thead>\n",
       "    <tr style=\"text-align: right;\">\n",
       "      <th>Type</th>\n",
       "      <th>Fraud</th>\n",
       "      <th>Normal</th>\n",
       "    </tr>\n",
       "    <tr>\n",
       "      <th>Origin</th>\n",
       "      <th></th>\n",
       "      <th></th>\n",
       "    </tr>\n",
       "  </thead>\n",
       "  <tbody>\n",
       "    <tr>\n",
       "      <th>Ahmedabad, India</th>\n",
       "      <td>1</td>\n",
       "      <td>7</td>\n",
       "    </tr>\n",
       "    <tr>\n",
       "      <th>Bangalore, India</th>\n",
       "      <td>4</td>\n",
       "      <td>8</td>\n",
       "    </tr>\n",
       "    <tr>\n",
       "      <th>Chennai, India</th>\n",
       "      <td>1</td>\n",
       "      <td>8</td>\n",
       "    </tr>\n",
       "    <tr>\n",
       "      <th>Delhi, India</th>\n",
       "      <td>7</td>\n",
       "      <td>14</td>\n",
       "    </tr>\n",
       "    <tr>\n",
       "      <th>Hyderabad, India</th>\n",
       "      <td>4</td>\n",
       "      <td>12</td>\n",
       "    </tr>\n",
       "    <tr>\n",
       "      <th>Mumbai, India</th>\n",
       "      <td>16</td>\n",
       "      <td>16</td>\n",
       "    </tr>\n",
       "    <tr>\n",
       "      <th>Pune, India</th>\n",
       "      <td>1</td>\n",
       "      <td>7</td>\n",
       "    </tr>\n",
       "  </tbody>\n",
       "</table>\n",
       "</div>"
      ],
      "text/plain": [
       "Type              Fraud  Normal\n",
       "Origin                         \n",
       "Ahmedabad, India      1       7\n",
       "Bangalore, India      4       8\n",
       "Chennai, India        1       8\n",
       "Delhi, India          7      14\n",
       "Hyderabad, India      4      12\n",
       "Mumbai, India        16      16\n",
       "Pune, India           1       7"
      ]
     },
     "execution_count": 89,
     "metadata": {},
     "output_type": "execute_result"
    }
   ],
   "source": [
    "pd.crosstab(DB['Origin'], DB['Type'])"
   ]
  },
  {
   "cell_type": "markdown",
   "metadata": {
    "id": "C-CYKhLNBu2o"
   },
   "source": [
    "- The ratio of normal vs fraud is very high in th ecase of Mumbai"
   ]
  },
  {
   "cell_type": "markdown",
   "metadata": {
    "id": "f2Bl2XDhYeMf"
   },
   "source": [
    "## 4. Multivariate Analysis"
   ]
  },
  {
   "cell_type": "markdown",
   "metadata": {
    "id": "pyMlNwAuBu2p"
   },
   "source": [
    "### Catplot"
   ]
  },
  {
   "cell_type": "code",
   "execution_count": null,
   "metadata": {
    "id": "TE2SKCuYBu2p",
    "outputId": "c1127d04-9dbf-4fe9-fe01-3e91308fd817"
   },
   "outputs": [
    {
     "data": {
      "text/plain": [
       "<seaborn.axisgrid.FacetGrid at 0x1678364c2b0>"
      ]
     },
     "execution_count": 90,
     "metadata": {},
     "output_type": "execute_result"
    },
    {
     "data": {
      "image/png": "[encoded data removed]",
      "text/plain": [
       "<Figure size 463.3x360 with 1 Axes>"
      ]
     },
     "metadata": {
      "needs_background": "light"
     },
     "output_type": "display_data"
    }
   ],
   "source": [
    "# Use catplot and add hue \n",
    "sns.catplot(x=\"Type\", y=\"Amount\", hue=\"Transaction_Type\",\n",
    "            kind=\"swarm\", data=DB)"
   ]
  },
  {
   "cell_type": "markdown",
   "metadata": {
    "id": "eDxO0H3-Bu2p"
   },
   "source": [
    "- We can see that there are more instances of normal transactions\n",
    "- Amount is comparatively higher in the case of fraudulent transactions\n",
    "- Internet is used often for fraudulent transactions"
   ]
  },
  {
   "cell_type": "code",
   "execution_count": null,
   "metadata": {
    "id": "soPHq1YLBu2q",
    "outputId": "817b6702-89a4-4796-d36f-629ce45de47d"
   },
   "outputs": [
    {
     "data": {
      "text/plain": [
       "<seaborn.axisgrid.FacetGrid at 0x167833040a0>"
      ]
     },
     "execution_count": 99,
     "metadata": {},
     "output_type": "execute_result"
    },
    {
     "data": {
      "image/png": "[encoded data removed]",
      "text/plain": [
       "<Figure size 975.35x360 with 1 Axes>"
      ]
     },
     "metadata": {},
     "output_type": "display_data"
    }
   ],
   "source": [
    "sns.catplot(x=\"Origin\", y=\"Amount\", hue=\"Type\", kind=\"box\", data = DB, aspect=20/8)"
   ]
  },
  {
   "cell_type": "markdown",
   "metadata": {
    "id": "ZIUoByyTBu2q"
   },
   "source": [
    "- Chennai, Pune, and Ahmedabad have the least amount of fraudulent transactions\n",
    "- Surprisingly, the amount for fraudulent transactions in Hyderabad is significantly higher than the normal transactions"
   ]
  },
  {
   "cell_type": "code",
   "execution_count": null,
   "metadata": {
    "id": "18-ZwEhtBu2r",
    "outputId": "fa140f6c-5385-4274-9b31-dca6f4501619"
   },
   "outputs": [
    {
     "data": {
      "text/plain": [
       "<seaborn.axisgrid.FacetGrid at 0x1678592e5b0>"
      ]
     },
     "execution_count": 105,
     "metadata": {},
     "output_type": "execute_result"
    },
    {
     "data": {
      "image/png": "[encoded data removed]",
      "text/plain": [
       "<Figure size 975.35x360 with 1 Axes>"
      ]
     },
     "metadata": {},
     "output_type": "display_data"
    }
   ],
   "source": [
    "sns.catplot(x=\"Month\", y=\"Amount\", hue=\"Type\", kind=\"box\", data=DB, aspect=20/8)"
   ]
  },
  {
   "cell_type": "markdown",
   "metadata": {
    "id": "s7NUw4PYBu2r"
   },
   "source": [
    "- Some months like Oct, Jul, Dec, May, Feb, and March have higher amount in fraudulent transactions\n",
    "- Some months like Sep, Jan, and April have negligible any fraudulent amount"
   ]
  },
  {
   "cell_type": "code",
   "execution_count": null,
   "metadata": {
    "id": "U6_DCqFuBu2r",
    "outputId": "75ad00f1-e34f-44eb-905a-8ff50ded9dd3"
   },
   "outputs": [
    {
     "data": {
      "text/plain": [
       "Month  Type  \n",
       "Apr    Normal     76697\n",
       "Aug    Fraud      12567\n",
       "       Normal     13194\n",
       "Dec    Fraud      95907\n",
       "       Normal     47472\n",
       "Feb    Fraud     193662\n",
       "       Normal      6901\n",
       "Jan    Normal     11213\n",
       "Jul    Fraud      77000\n",
       "       Normal    231875\n",
       "Jun    Fraud      36543\n",
       "       Normal     96828\n",
       "Mar    Fraud      96452\n",
       "       Normal     15852\n",
       "May    Fraud     140994\n",
       "       Normal    188574\n",
       "Nov    Fraud      12543\n",
       "       Normal    174923\n",
       "Oct    Fraud     236043\n",
       "       Normal     30576\n",
       "Sep    Normal     33246\n",
       "Name: Amount, dtype: int64"
      ]
     },
     "execution_count": 143,
     "metadata": {},
     "output_type": "execute_result"
    }
   ],
   "source": [
    "#Verifying above data using numbers\n",
    "Group=DB.groupby(['Month','Type'])['Amount'].sum()\n",
    "Group"
   ]
  },
  {
   "cell_type": "markdown",
   "metadata": {
    "id": "BRoXsRuHBu2s"
   },
   "source": [
    "### Heatmap"
   ]
  },
  {
   "cell_type": "code",
   "execution_count": null,
   "metadata": {
    "id": "CGjNxi12Bu2t",
    "outputId": "efa14f8e-a6c0-4357-c77a-5e695e8b88f1"
   },
   "outputs": [
    {
     "data": {
      "text/plain": [
       "<matplotlib.axes._subplots.AxesSubplot at 0x16785900a00>"
      ]
     },
     "execution_count": 109,
     "metadata": {},
     "output_type": "execute_result"
    },
    {
     "data": {
      "image/png": "[encoded data removed]",
      "text/plain": [
       "<Figure size 432x288 with 2 Axes>"
      ]
     },
     "metadata": {
      "needs_background": "light"
     },
     "output_type": "display_data"
    }
   ],
   "source": [
    "sns.heatmap(DB.corr(), annot=True, cmap='Blues')"
   ]
  },
  {
   "cell_type": "markdown",
   "metadata": {
    "id": "_tUjsYKBBu2t"
   },
   "source": [
    "- We do not see much correlation among the features"
   ]
  },
  {
   "cell_type": "markdown",
   "metadata": {
    "id": "NB_aUx9pBu2u"
   },
   "source": [
    "### Pairplot"
   ]
  },
  {
   "cell_type": "code",
   "execution_count": null,
   "metadata": {
    "id": "6lLWaUiYBu2u",
    "outputId": "53006f7d-149c-40ed-eb78-72f1b442fdca"
   },
   "outputs": [
    {
     "data": {
      "text/plain": [
       "<seaborn.axisgrid.PairGrid at 0x16788e9ef40>"
      ]
     },
     "execution_count": 128,
     "metadata": {},
     "output_type": "execute_result"
    },
    {
     "data": {
      "image/png": "[encoded data removed]",
      "text/plain": [
       "<Figure size 795.35x720 with 20 Axes>"
      ]
     },
     "metadata": {
      "needs_background": "light"
     },
     "output_type": "display_data"
    }
   ],
   "source": [
    "sns.pairplot(DB.drop([\"Year\"], axis=1), hue='Type', diag_kind='kde')"
   ]
  },
  {
   "cell_type": "markdown",
   "metadata": {
    "id": "Xyx7ChbgBu2v"
   },
   "source": [
    "### Plotly"
   ]
  },
  {
   "cell_type": "code",
   "execution_count": null,
   "metadata": {
    "id": "drXy_x1MYeMf",
    "outputId": "18085429-2298-4229-c312-1584dbb511eb",
    "scrolled": true
   },
   "outputs": [
    {
     "data": {
      "application/vnd.plotly.v1+json": {
       "config": {
        "plotlyServerURL": "https://plot.ly"
       },
       "data": [
        {
         "hovertemplate": "color=Normal<br>animation_frame=Jun<br>x=%{x}<br>index=%{y}<extra></extra>",
         "legendgroup": "Normal",
         "marker": {
          "color": "#636efa",
          "symbol": "circle"
         },
         "mode": "markers",
         "name": "Normal",
         "orientation": "h",
         "showlegend": true,
         "type": "scatter",
         "x": [
          25000,
          1356,
          140,
          345,
          45000,
          987,
          24000
         ],
         "xaxis": "x",
         "y": [
          0,
          10,
          15,
          36,
          53,
          75,
          90
         ],
         "yaxis": "y"
        },
        {
         "hovertemplate": "color=Fraud<br>animation_frame=Jun<br>x=%{x}<br>index=%{y}<extra></extra>",
         "legendgroup": "Fraud",
         "marker": {
          "color": "#EF553B",
          "symbol": "circle"
         },
         "mode": "markers",
         "name": "Fraud",
         "orientation": "h",
         "showlegend": true,
         "type": "scatter",
         "x": [
          15000,
          10543,
          11000
         ],
         "xaxis": "x",
         "y": [
          16,
          65,
          100
         ],
         "yaxis": "y"
        }
       ],
       "frames": [
        {
         "data": [
          {
           "hovertemplate": "color=Normal<br>animation_frame=Jun<br>x=%{x}<br>index=%{y}<extra></extra>",
           "legendgroup": "Normal",
           "marker": {
            "color": "#636efa",
            "symbol": "circle"
           },
           "mode": "markers",
           "name": "Normal",
           "orientation": "h",
           "showlegend": true,
           "type": "scatter",
           "x": [
            25000,
            1356,
            140,
            345,
            45000,
            987,
            24000
           ],
           "xaxis": "x",
           "y": [
            0,
            10,
            15,
            36,
            53,
            75,
            90
           ],
           "yaxis": "y"
          },
          {
           "hovertemplate": "color=Fraud<br>animation_frame=Jun<br>x=%{x}<br>index=%{y}<extra></extra>",
           "legendgroup": "Fraud",
           "marker": {
            "color": "#EF553B",
            "symbol": "circle"
           },
           "mode": "markers",
           "name": "Fraud",
           "orientation": "h",
           "showlegend": true,
           "type": "scatter",
           "x": [
            15000,
            10543,
            11000
           ],
           "xaxis": "x",
           "y": [
            16,
            65,
            100
           ],
           "yaxis": "y"
          }
         ],
         "name": "Jun"
        },
        {
         "data": [
          {
           "hovertemplate": "color=Normal<br>animation_frame=Oct<br>x=%{x}<br>index=%{y}<extra></extra>",
           "legendgroup": "Normal",
           "marker": {
            "color": "#636efa",
            "symbol": "circle"
           },
           "mode": "markers",
           "name": "Normal",
           "orientation": "h",
           "showlegend": true,
           "type": "scatter",
           "x": [
            300,
            1200,
            1987,
            9056,
            132,
            15000,
            1200,
            345,
            1356
           ],
           "xaxis": "x",
           "y": [
            1,
            22,
            23,
            45,
            58,
            67,
            77,
            87,
            105
           ],
           "yaxis": "y"
          },
          {
           "hovertemplate": "color=Fraud<br>animation_frame=Oct<br>x=%{x}<br>index=%{y}<extra></extra>",
           "legendgroup": "Fraud",
           "marker": {
            "color": "#EF553B",
            "symbol": "circle"
           },
           "mode": "markers",
           "name": "Fraud",
           "orientation": "h",
           "showlegend": true,
           "type": "scatter",
           "x": [
            150000,
            75000,
            5000,
            4543,
            1200,
            300
           ],
           "xaxis": "x",
           "y": [
            34,
            38,
            46,
            55,
            59,
            96
           ],
           "yaxis": "y"
          }
         ],
         "name": "Oct"
        },
        {
         "data": [
          {
           "hovertemplate": "color=Normal<br>animation_frame=Jul<br>x=%{x}<br>index=%{y}<extra></extra>",
           "legendgroup": "Normal",
           "marker": {
            "color": "#636efa",
            "symbol": "circle"
           },
           "mode": "markers",
           "name": "Normal",
           "orientation": "h",
           "showlegend": true,
           "type": "scatter",
           "x": [
            45000,
            9875,
            12000,
            130000,
            10000,
            25000
           ],
           "xaxis": "x",
           "y": [
            2,
            32,
            40,
            57,
            93,
            95
           ],
           "yaxis": "y"
          },
          {
           "hovertemplate": "color=Fraud<br>animation_frame=Jul<br>x=%{x}<br>index=%{y}<extra></extra>",
           "legendgroup": "Fraud",
           "marker": {
            "color": "#EF553B",
            "symbol": "circle"
           },
           "mode": "markers",
           "name": "Fraud",
           "orientation": "h",
           "showlegend": true,
           "type": "scatter",
           "x": [
            1000,
            75000,
            1000
           ],
           "xaxis": "x",
           "y": [
            48,
            89,
            92
           ],
           "yaxis": "y"
          }
         ],
         "name": "Jul"
        },
        {
         "data": [
          {
           "hovertemplate": "color=Normal<br>animation_frame=Dec<br>x=%{x}<br>index=%{y}<extra></extra>",
           "legendgroup": "Normal",
           "marker": {
            "color": "#636efa",
            "symbol": "circle"
           },
           "mode": "markers",
           "name": "Normal",
           "orientation": "h",
           "showlegend": true,
           "type": "scatter",
           "x": [
            670,
            1340,
            112,
            300,
            50,
            45000
           ],
           "xaxis": "x",
           "y": [
            3,
            9,
            27,
            52,
            70,
            97
           ],
           "yaxis": "y"
          },
          {
           "hovertemplate": "color=Fraud<br>animation_frame=Dec<br>x=%{x}<br>index=%{y}<extra></extra>",
           "legendgroup": "Fraud",
           "marker": {
            "color": "#EF553B",
            "symbol": "circle"
           },
           "mode": "markers",
           "name": "Fraud",
           "orientation": "h",
           "showlegend": true,
           "type": "scatter",
           "x": [
            50000,
            45000,
            907
           ],
           "xaxis": "x",
           "y": [
            13,
            50,
            86
           ],
           "yaxis": "y"
          }
         ],
         "name": "Dec"
        },
        {
         "data": [
          {
           "hovertemplate": "color=Normal<br>animation_frame=Sep<br>x=%{x}<br>index=%{y}<extra></extra>",
           "legendgroup": "Normal",
           "marker": {
            "color": "#636efa",
            "symbol": "circle"
           },
           "mode": "markers",
           "name": "Normal",
           "orientation": "h",
           "showlegend": true,
           "type": "scatter",
           "x": [
            4543,
            1200,
            10543,
            50,
            120,
            8954,
            1340,
            1987,
            4509
           ],
           "xaxis": "x",
           "y": [
            4,
            8,
            14,
            19,
            20,
            44,
            60,
            74,
            80
           ],
           "yaxis": "y"
          }
         ],
         "name": "Sep"
        },
        {
         "data": [
          {
           "hovertemplate": "color=Normal<br>animation_frame=Nov<br>x=%{x}<br>index=%{y}<extra></extra>",
           "legendgroup": "Normal",
           "marker": {
            "color": "#636efa",
            "symbol": "circle"
           },
           "mode": "markers",
           "name": "Normal",
           "orientation": "h",
           "showlegend": true,
           "type": "scatter",
           "x": [
            11000,
            12567,
            1356,
            150000
           ],
           "xaxis": "x",
           "y": [
            5,
            33,
            61,
            85
           ],
           "yaxis": "y"
          },
          {
           "hovertemplate": "color=Fraud<br>animation_frame=Nov<br>x=%{x}<br>index=%{y}<extra></extra>",
           "legendgroup": "Fraud",
           "marker": {
            "color": "#EF553B",
            "symbol": "circle"
           },
           "mode": "markers",
           "name": "Fraud",
           "orientation": "h",
           "showlegend": true,
           "type": "scatter",
           "x": [
            12000,
            543
           ],
           "xaxis": "x",
           "y": [
            28,
            82
           ],
           "yaxis": "y"
          }
         ],
         "name": "Nov"
        },
        {
         "data": [
          {
           "hovertemplate": "color=Normal<br>animation_frame=May<br>x=%{x}<br>index=%{y}<extra></extra>",
           "legendgroup": "Normal",
           "marker": {
            "color": "#636efa",
            "symbol": "circle"
           },
           "mode": "markers",
           "name": "Normal",
           "orientation": "h",
           "showlegend": true,
           "type": "scatter",
           "x": [
            1200,
            4000,
            24000,
            567,
            4000,
            23467,
            130000,
            1340
           ],
           "xaxis": "x",
           "y": [
            26,
            30,
            39,
            43,
            81,
            91,
            101,
            104
           ],
           "yaxis": "y"
          },
          {
           "hovertemplate": "color=Fraud<br>animation_frame=May<br>x=%{x}<br>index=%{y}<extra></extra>",
           "legendgroup": "Fraud",
           "marker": {
            "color": "#EF553B",
            "symbol": "circle"
           },
           "mode": "markers",
           "name": "Fraud",
           "orientation": "h",
           "showlegend": true,
           "type": "scatter",
           "x": [
            130000,
            132,
            987,
            9875
           ],
           "xaxis": "x",
           "y": [
            6,
            7,
            24,
            83
           ],
           "yaxis": "y"
          }
         ],
         "name": "May"
        },
        {
         "data": [
          {
           "hovertemplate": "color=Normal<br>animation_frame=Jan<br>x=%{x}<br>index=%{y}<extra></extra>",
           "legendgroup": "Normal",
           "marker": {
            "color": "#636efa",
            "symbol": "circle"
           },
           "mode": "markers",
           "name": "Normal",
           "orientation": "h",
           "showlegend": true,
           "type": "scatter",
           "x": [
            1200,
            800,
            4000,
            670,
            4543
           ],
           "xaxis": "x",
           "y": [
            11,
            18,
            76,
            98,
            99
           ],
           "yaxis": "y"
          }
         ],
         "name": "Jan"
        },
        {
         "data": [
          {
           "hovertemplate": "color=Normal<br>animation_frame=Apr<br>x=%{x}<br>index=%{y}<extra></extra>",
           "legendgroup": "Normal",
           "marker": {
            "color": "#636efa",
            "symbol": "circle"
           },
           "mode": "markers",
           "name": "Normal",
           "orientation": "h",
           "showlegend": true,
           "type": "scatter",
           "x": [
            11000,
            4000,
            890,
            23467,
            25000,
            11000,
            1200,
            140
           ],
           "xaxis": "x",
           "y": [
            12,
            25,
            42,
            47,
            51,
            56,
            62,
            66
           ],
           "yaxis": "y"
          }
         ],
         "name": "Apr"
        },
        {
         "data": [
          {
           "hovertemplate": "color=Normal<br>animation_frame=Feb<br>x=%{x}<br>index=%{y}<extra></extra>",
           "legendgroup": "Normal",
           "marker": {
            "color": "#636efa",
            "symbol": "circle"
           },
           "mode": "markers",
           "name": "Normal",
           "orientation": "h",
           "showlegend": true,
           "type": "scatter",
           "x": [
            994,
            907,
            5000
           ],
           "xaxis": "x",
           "y": [
            17,
            35,
            88
           ],
           "yaxis": "y"
          },
          {
           "hovertemplate": "color=Fraud<br>animation_frame=Feb<br>x=%{x}<br>index=%{y}<extra></extra>",
           "legendgroup": "Fraud",
           "marker": {
            "color": "#EF553B",
            "symbol": "circle"
           },
           "mode": "markers",
           "name": "Fraud",
           "orientation": "h",
           "showlegend": true,
           "type": "scatter",
           "x": [
            5000,
            175600,
            670,
            120,
            140,
            12000,
            132
           ],
           "xaxis": "x",
           "y": [
            37,
            41,
            54,
            71,
            72,
            79,
            102
           ],
           "yaxis": "y"
          }
         ],
         "name": "Feb"
        },
        {
         "data": [
          {
           "hovertemplate": "color=Normal<br>animation_frame=Mar<br>x=%{x}<br>index=%{y}<extra></extra>",
           "legendgroup": "Normal",
           "marker": {
            "color": "#636efa",
            "symbol": "circle"
           },
           "mode": "markers",
           "name": "Normal",
           "orientation": "h",
           "showlegend": true,
           "type": "scatter",
           "x": [
            4509,
            543,
            10000,
            800
           ],
           "xaxis": "x",
           "y": [
            29,
            31,
            49,
            69
           ],
           "yaxis": "y"
          },
          {
           "hovertemplate": "color=Fraud<br>animation_frame=Mar<br>x=%{x}<br>index=%{y}<extra></extra>",
           "legendgroup": "Fraud",
           "marker": {
            "color": "#EF553B",
            "symbol": "circle"
           },
           "mode": "markers",
           "name": "Fraud",
           "orientation": "h",
           "showlegend": true,
           "type": "scatter",
           "x": [
            140,
            50000,
            1200,
            112,
            45000
           ],
           "xaxis": "x",
           "y": [
            21,
            64,
            73,
            78,
            94
           ],
           "yaxis": "y"
          }
         ],
         "name": "Mar"
        },
        {
         "data": [
          {
           "hovertemplate": "color=Normal<br>animation_frame=Aug<br>x=%{x}<br>index=%{y}<extra></extra>",
           "legendgroup": "Normal",
           "marker": {
            "color": "#636efa",
            "symbol": "circle"
           },
           "mode": "markers",
           "name": "Normal",
           "orientation": "h",
           "showlegend": true,
           "type": "scatter",
           "x": [
            11000,
            994,
            1200
           ],
           "xaxis": "x",
           "y": [
            63,
            68,
            103
           ],
           "yaxis": "y"
          },
          {
           "hovertemplate": "color=Fraud<br>animation_frame=Aug<br>x=%{x}<br>index=%{y}<extra></extra>",
           "legendgroup": "Fraud",
           "marker": {
            "color": "#EF553B",
            "symbol": "circle"
           },
           "mode": "markers",
           "name": "Fraud",
           "orientation": "h",
           "showlegend": true,
           "type": "scatter",
           "x": [
            12567
           ],
           "xaxis": "x",
           "y": [
            84
           ],
           "yaxis": "y"
          }
         ],
         "name": "Aug"
        }
       ],
       "layout": {
        "legend": {
         "title": {
          "text": "color"
         },
         "tracegroupgap": 0
        },
        "margin": {
         "t": 60
        },
        "sliders": [
         {
          "active": 0,
          "currentvalue": {
           "prefix": "animation_frame="
          },
          "len": 0.9,
          "pad": {
           "b": 10,
           "t": 60
          },
          "steps": [
           {
            "args": [
             [
              "Jun"
             ],
             {
              "frame": {
               "duration": 0,
               "redraw": false
              },
              "fromcurrent": true,
              "mode": "immediate",
              "transition": {
               "duration": 0,
               "easing": "linear"
              }
             }
            ],
            "label": "Jun",
            "method": "animate"
           },
           {
            "args": [
             [
              "Oct"
             ],
             {
              "frame": {
               "duration": 0,
               "redraw": false
              },
              "fromcurrent": true,
              "mode": "immediate",
              "transition": {
               "duration": 0,
               "easing": "linear"
              }
             }
            ],
            "label": "Oct",
            "method": "animate"
           },
           {
            "args": [
             [
              "Jul"
             ],
             {
              "frame": {
               "duration": 0,
               "redraw": false
              },
              "fromcurrent": true,
              "mode": "immediate",
              "transition": {
               "duration": 0,
               "easing": "linear"
              }
             }
            ],
            "label": "Jul",
            "method": "animate"
           },
           {
            "args": [
             [
              "Dec"
             ],
             {
              "frame": {
               "duration": 0,
               "redraw": false
              },
              "fromcurrent": true,
              "mode": "immediate",
              "transition": {
               "duration": 0,
               "easing": "linear"
              }
             }
            ],
            "label": "Dec",
            "method": "animate"
           },
           {
            "args": [
             [
              "Sep"
             ],
             {
              "frame": {
               "duration": 0,
               "redraw": false
              },
              "fromcurrent": true,
              "mode": "immediate",
              "transition": {
               "duration": 0,
               "easing": "linear"
              }
             }
            ],
            "label": "Sep",
            "method": "animate"
           },
           {
            "args": [
             [
              "Nov"
             ],
             {
              "frame": {
               "duration": 0,
               "redraw": false
              },
              "fromcurrent": true,
              "mode": "immediate",
              "transition": {
               "duration": 0,
               "easing": "linear"
              }
             }
            ],
            "label": "Nov",
            "method": "animate"
           },
           {
            "args": [
             [
              "May"
             ],
             {
              "frame": {
               "duration": 0,
               "redraw": false
              },
              "fromcurrent": true,
              "mode": "immediate",
              "transition": {
               "duration": 0,
               "easing": "linear"
              }
             }
            ],
            "label": "May",
            "method": "animate"
           },
           {
            "args": [
             [
              "Jan"
             ],
             {
              "frame": {
               "duration": 0,
               "redraw": false
              },
              "fromcurrent": true,
              "mode": "immediate",
              "transition": {
               "duration": 0,
               "easing": "linear"
              }
             }
            ],
            "label": "Jan",
            "method": "animate"
           },
           {
            "args": [
             [
              "Apr"
             ],
             {
              "frame": {
               "duration": 0,
               "redraw": false
              },
              "fromcurrent": true,
              "mode": "immediate",
              "transition": {
               "duration": 0,
               "easing": "linear"
              }
             }
            ],
            "label": "Apr",
            "method": "animate"
           },
           {
            "args": [
             [
              "Feb"
             ],
             {
              "frame": {
               "duration": 0,
               "redraw": false
              },
              "fromcurrent": true,
              "mode": "immediate",
              "transition": {
               "duration": 0,
               "easing": "linear"
              }
             }
            ],
            "label": "Feb",
            "method": "animate"
           },
           {
            "args": [
             [
              "Mar"
             ],
             {
              "frame": {
               "duration": 0,
               "redraw": false
              },
              "fromcurrent": true,
              "mode": "immediate",
              "transition": {
               "duration": 0,
               "easing": "linear"
              }
             }
            ],
            "label": "Mar",
            "method": "animate"
           },
           {
            "args": [
             [
              "Aug"
             ],
             {
              "frame": {
               "duration": 0,
               "redraw": false
              },
              "fromcurrent": true,
              "mode": "immediate",
              "transition": {
               "duration": 0,
               "easing": "linear"
              }
             }
            ],
            "label": "Aug",
            "method": "animate"
           }
          ],
          "x": 0.1,
          "xanchor": "left",
          "y": 0,
          "yanchor": "top"
         }
        ],
        "template": {
         "data": {
          "bar": [
           {
            "error_x": {
             "color": "#2a3f5f"
            },
            "error_y": {
             "color": "#2a3f5f"
            },
            "marker": {
             "line": {
              "color": "#E5ECF6",
              "width": 0.5
             }
            },
            "type": "bar"
           }
          ],
          "barpolar": [
           {
            "marker": {
             "line": {
              "color": "#E5ECF6",
              "width": 0.5
             }
            },
            "type": "barpolar"
           }
          ],
          "carpet": [
           {
            "aaxis": {
             "endlinecolor": "#2a3f5f",
             "gridcolor": "white",
             "linecolor": "white",
             "minorgridcolor": "white",
             "startlinecolor": "#2a3f5f"
            },
            "baxis": {
             "endlinecolor": "#2a3f5f",
             "gridcolor": "white",
             "linecolor": "white",
             "minorgridcolor": "white",
             "startlinecolor": "#2a3f5f"
            },
            "type": "carpet"
           }
          ],
          "choropleth": [
           {
            "colorbar": {
             "outlinewidth": 0,
             "ticks": ""
            },
            "type": "choropleth"
           }
          ],
          "contour": [
           {
            "colorbar": {
             "outlinewidth": 0,
             "ticks": ""
            },
            "colorscale": [
             [
              0,
              "#0d0887"
             ],
             [
              0.1111111111111111,
              "#46039f"
             ],
             [
              0.2222222222222222,
              "#7201a8"
             ],
             [
              0.3333333333333333,
              "#9c179e"
             ],
             [
              0.4444444444444444,
              "#bd3786"
             ],
             [
              0.5555555555555556,
              "#d8576b"
             ],
             [
              0.6666666666666666,
              "#ed7953"
             ],
             [
              0.7777777777777778,
              "#fb9f3a"
             ],
             [
              0.8888888888888888,
              "#fdca26"
             ],
             [
              1,
              "#f0f921"
             ]
            ],
            "type": "contour"
           }
          ],
          "contourcarpet": [
           {
            "colorbar": {
             "outlinewidth": 0,
             "ticks": ""
            },
            "type": "contourcarpet"
           }
          ],
          "heatmap": [
           {
            "colorbar": {
             "outlinewidth": 0,
             "ticks": ""
            },
            "colorscale": [
             [
              0,
              "#0d0887"
             ],
             [
              0.1111111111111111,
              "#46039f"
             ],
             [
              0.2222222222222222,
              "#7201a8"
             ],
             [
              0.3333333333333333,
              "#9c179e"
             ],
             [
              0.4444444444444444,
              "#bd3786"
             ],
             [
              0.5555555555555556,
              "#d8576b"
             ],
             [
              0.6666666666666666,
              "#ed7953"
             ],
             [
              0.7777777777777778,
              "#fb9f3a"
             ],
             [
              0.8888888888888888,
              "#fdca26"
             ],
             [
              1,
              "#f0f921"
             ]
            ],
            "type": "heatmap"
           }
          ],
          "heatmapgl": [
           {
            "colorbar": {
             "outlinewidth": 0,
             "ticks": ""
            },
            "colorscale": [
             [
              0,
              "#0d0887"
             ],
             [
              0.1111111111111111,
              "#46039f"
             ],
             [
              0.2222222222222222,
              "#7201a8"
             ],
             [
              0.3333333333333333,
              "#9c179e"
             ],
             [
              0.4444444444444444,
              "#bd3786"
             ],
             [
              0.5555555555555556,
              "#d8576b"
             ],
             [
              0.6666666666666666,
              "#ed7953"
             ],
             [
              0.7777777777777778,
              "#fb9f3a"
             ],
             [
              0.8888888888888888,
              "#fdca26"
             ],
             [
              1,
              "#f0f921"
             ]
            ],
            "type": "heatmapgl"
           }
          ],
          "histogram": [
           {
            "marker": {
             "colorbar": {
              "outlinewidth": 0,
              "ticks": ""
             }
            },
            "type": "histogram"
           }
          ],
          "histogram2d": [
           {
            "colorbar": {
             "outlinewidth": 0,
             "ticks": ""
            },
            "colorscale": [
             [
              0,
              "#0d0887"
             ],
             [
              0.1111111111111111,
              "#46039f"
             ],
             [
              0.2222222222222222,
              "#7201a8"
             ],
             [
              0.3333333333333333,
              "#9c179e"
             ],
             [
              0.4444444444444444,
              "#bd3786"
             ],
             [
              0.5555555555555556,
              "#d8576b"
             ],
             [
              0.6666666666666666,
              "#ed7953"
             ],
             [
              0.7777777777777778,
              "#fb9f3a"
             ],
             [
              0.8888888888888888,
              "#fdca26"
             ],
             [
              1,
              "#f0f921"
             ]
            ],
            "type": "histogram2d"
           }
          ],
          "histogram2dcontour": [
           {
            "colorbar": {
             "outlinewidth": 0,
             "ticks": ""
            },
            "colorscale": [
             [
              0,
              "#0d0887"
             ],
             [
              0.1111111111111111,
              "#46039f"
             ],
             [
              0.2222222222222222,
              "#7201a8"
             ],
             [
              0.3333333333333333,
              "#9c179e"
             ],
             [
              0.4444444444444444,
              "#bd3786"
             ],
             [
              0.5555555555555556,
              "#d8576b"
             ],
             [
              0.6666666666666666,
              "#ed7953"
             ],
             [
              0.7777777777777778,
              "#fb9f3a"
             ],
             [
              0.8888888888888888,
              "#fdca26"
             ],
             [
              1,
              "#f0f921"
             ]
            ],
            "type": "histogram2dcontour"
           }
          ],
          "mesh3d": [
           {
            "colorbar": {
             "outlinewidth": 0,
             "ticks": ""
            },
            "type": "mesh3d"
           }
          ],
          "parcoords": [
           {
            "line": {
             "colorbar": {
              "outlinewidth": 0,
              "ticks": ""
             }
            },
            "type": "parcoords"
           }
          ],
          "pie": [
           {
            "automargin": true,
            "type": "pie"
           }
          ],
          "scatter": [
           {
            "marker": {
             "colorbar": {
              "outlinewidth": 0,
              "ticks": ""
             }
            },
            "type": "scatter"
           }
          ],
          "scatter3d": [
           {
            "line": {
             "colorbar": {
              "outlinewidth": 0,
              "ticks": ""
             }
            },
            "marker": {
             "colorbar": {
              "outlinewidth": 0,
              "ticks": ""
             }
            },
            "type": "scatter3d"
           }
          ],
          "scattercarpet": [
           {
            "marker": {
             "colorbar": {
              "outlinewidth": 0,
              "ticks": ""
             }
            },
            "type": "scattercarpet"
           }
          ],
          "scattergeo": [
           {
            "marker": {
             "colorbar": {
              "outlinewidth": 0,
              "ticks": ""
             }
            },
            "type": "scattergeo"
           }
          ],
          "scattergl": [
           {
            "marker": {
             "colorbar": {
              "outlinewidth": 0,
              "ticks": ""
             }
            },
            "type": "scattergl"
           }
          ],
          "scattermapbox": [
           {
            "marker": {
             "colorbar": {
              "outlinewidth": 0,
              "ticks": ""
             }
            },
            "type": "scattermapbox"
           }
          ],
          "scatterpolar": [
           {
            "marker": {
             "colorbar": {
              "outlinewidth": 0,
              "ticks": ""
             }
            },
            "type": "scatterpolar"
           }
          ],
          "scatterpolargl": [
           {
            "marker": {
             "colorbar": {
              "outlinewidth": 0,
              "ticks": ""
             }
            },
            "type": "scatterpolargl"
           }
          ],
          "scatterternary": [
           {
            "marker": {
             "colorbar": {
              "outlinewidth": 0,
              "ticks": ""
             }
            },
            "type": "scatterternary"
           }
          ],
          "surface": [
           {
            "colorbar": {
             "outlinewidth": 0,
             "ticks": ""
            },
            "colorscale": [
             [
              0,
              "#0d0887"
             ],
             [
              0.1111111111111111,
              "#46039f"
             ],
             [
              0.2222222222222222,
              "#7201a8"
             ],
             [
              0.3333333333333333,
              "#9c179e"
             ],
             [
              0.4444444444444444,
              "#bd3786"
             ],
             [
              0.5555555555555556,
              "#d8576b"
             ],
             [
              0.6666666666666666,
              "#ed7953"
             ],
             [
              0.7777777777777778,
              "#fb9f3a"
             ],
             [
              0.8888888888888888,
              "#fdca26"
             ],
             [
              1,
              "#f0f921"
             ]
            ],
            "type": "surface"
           }
          ],
          "table": [
           {
            "cells": {
             "fill": {
              "color": "#EBF0F8"
             },
             "line": {
              "color": "white"
             }
            },
            "header": {
             "fill": {
              "color": "#C8D4E3"
             },
             "line": {
              "color": "white"
             }
            },
            "type": "table"
           }
          ]
         },
         "layout": {
          "annotationdefaults": {
           "arrowcolor": "#2a3f5f",
           "arrowhead": 0,
           "arrowwidth": 1
          },
          "autotypenumbers": "strict",
          "coloraxis": {
           "colorbar": {
            "outlinewidth": 0,
            "ticks": ""
           }
          },
          "colorscale": {
           "diverging": [
            [
             0,
             "#8e0152"
            ],
            [
             0.1,
             "#c51b7d"
            ],
            [
             0.2,
             "#de77ae"
            ],
            [
             0.3,
             "#f1b6da"
            ],
            [
             0.4,
             "#fde0ef"
            ],
            [
             0.5,
             "#f7f7f7"
            ],
            [
             0.6,
             "#e6f5d0"
            ],
            [
             0.7,
             "#b8e186"
            ],
            [
             0.8,
             "#7fbc41"
            ],
            [
             0.9,
             "#4d9221"
            ],
            [
             1,
             "#276419"
            ]
           ],
           "sequential": [
            [
             0,
             "#0d0887"
            ],
            [
             0.1111111111111111,
             "#46039f"
            ],
            [
             0.2222222222222222,
             "#7201a8"
            ],
            [
             0.3333333333333333,
             "#9c179e"
            ],
            [
             0.4444444444444444,
             "#bd3786"
            ],
            [
             0.5555555555555556,
             "#d8576b"
            ],
            [
             0.6666666666666666,
             "#ed7953"
            ],
            [
             0.7777777777777778,
             "#fb9f3a"
            ],
            [
             0.8888888888888888,
             "#fdca26"
            ],
            [
             1,
             "#f0f921"
            ]
           ],
           "sequentialminus": [
            [
             0,
             "#0d0887"
            ],
            [
             0.1111111111111111,
             "#46039f"
            ],
            [
             0.2222222222222222,
             "#7201a8"
            ],
            [
             0.3333333333333333,
             "#9c179e"
            ],
            [
             0.4444444444444444,
             "#bd3786"
            ],
            [
             0.5555555555555556,
             "#d8576b"
            ],
            [
             0.6666666666666666,
             "#ed7953"
            ],
            [
             0.7777777777777778,
             "#fb9f3a"
            ],
            [
             0.8888888888888888,
             "#fdca26"
            ],
            [
             1,
             "#f0f921"
            ]
           ]
          },
          "colorway": [
           "#636efa",
           "#EF553B",
           "#00cc96",
           "#ab63fa",
           "#FFA15A",
           "#19d3f3",
           "#FF6692",
           "#B6E880",
           "#FF97FF",
           "#FECB52"
          ],
          "font": {
           "color": "#2a3f5f"
          },
          "geo": {
           "bgcolor": "white",
           "lakecolor": "white",
           "landcolor": "#E5ECF6",
           "showlakes": true,
           "showland": true,
           "subunitcolor": "white"
          },
          "hoverlabel": {
           "align": "left"
          },
          "hovermode": "closest",
          "mapbox": {
           "style": "light"
          },
          "paper_bgcolor": "white",
          "plot_bgcolor": "#E5ECF6",
          "polar": {
           "angularaxis": {
            "gridcolor": "white",
            "linecolor": "white",
            "ticks": ""
           },
           "bgcolor": "#E5ECF6",
           "radialaxis": {
            "gridcolor": "white",
            "linecolor": "white",
            "ticks": ""
           }
          },
          "scene": {
           "xaxis": {
            "backgroundcolor": "#E5ECF6",
            "gridcolor": "white",
            "gridwidth": 2,
            "linecolor": "white",
            "showbackground": true,
            "ticks": "",
            "zerolinecolor": "white"
           },
           "yaxis": {
            "backgroundcolor": "#E5ECF6",
            "gridcolor": "white",
            "gridwidth": 2,
            "linecolor": "white",
            "showbackground": true,
            "ticks": "",
            "zerolinecolor": "white"
           },
           "zaxis": {
            "backgroundcolor": "#E5ECF6",
            "gridcolor": "white",
            "gridwidth": 2,
            "linecolor": "white",
            "showbackground": true,
            "ticks": "",
            "zerolinecolor": "white"
           }
          },
          "shapedefaults": {
           "line": {
            "color": "#2a3f5f"
           }
          },
          "ternary": {
           "aaxis": {
            "gridcolor": "white",
            "linecolor": "white",
            "ticks": ""
           },
           "baxis": {
            "gridcolor": "white",
            "linecolor": "white",
            "ticks": ""
           },
           "bgcolor": "#E5ECF6",
           "caxis": {
            "gridcolor": "white",
            "linecolor": "white",
            "ticks": ""
           }
          },
          "title": {
           "x": 0.05
          },
          "xaxis": {
           "automargin": true,
           "gridcolor": "white",
           "linecolor": "white",
           "ticks": "",
           "title": {
            "standoff": 15
           },
           "zerolinecolor": "white",
           "zerolinewidth": 2
          },
          "yaxis": {
           "automargin": true,
           "gridcolor": "white",
           "linecolor": "white",
           "ticks": "",
           "title": {
            "standoff": 15
           },
           "zerolinecolor": "white",
           "zerolinewidth": 2
          }
         }
        },
        "updatemenus": [
         {
          "buttons": [
           {
            "args": [
             null,
             {
              "frame": {
               "duration": 500,
               "redraw": false
              },
              "fromcurrent": true,
              "mode": "immediate",
              "transition": {
               "duration": 500,
               "easing": "linear"
              }
             }
            ],
            "label": "&#9654;",
            "method": "animate"
           },
           {
            "args": [
             [
              null
             ],
             {
              "frame": {
               "duration": 0,
               "redraw": false
              },
              "fromcurrent": true,
              "mode": "immediate",
              "transition": {
               "duration": 0,
               "easing": "linear"
              }
             }
            ],
            "label": "&#9724;",
            "method": "animate"
           }
          ],
          "direction": "left",
          "pad": {
           "r": 10,
           "t": 70
          },
          "showactive": false,
          "type": "buttons",
          "x": 0.1,
          "xanchor": "right",
          "y": 0,
          "yanchor": "top"
         }
        ],
        "xaxis": {
         "anchor": "y",
         "domain": [
          0,
          1
         ],
         "title": {
          "text": "x"
         }
        },
        "yaxis": {
         "anchor": "x",
         "domain": [
          0,
          1
         ],
         "title": {
          "text": "index"
         }
        }
       }
      },
      "text/html": [
       "<div>                            <div id=\"75256965-89ce-45d1-ae88-badbfcf33234\" class=\"plotly-graph-div\" style=\"height:525px; width:100%;\"></div>            <script type=\"text/javascript\">                require([\"plotly\"], function(Plotly) {                    window.PLOTLYENV=window.PLOTLYENV || {};                                    if (document.getElementById(\"75256965-89ce-45d1-ae88-badbfcf33234\")) {                    Plotly.newPlot(                        \"75256965-89ce-45d1-ae88-badbfcf33234\",                        [{\"hovertemplate\": \"color=Normal<br>animation_frame=Jun<br>x=%{x}<br>index=%{y}<extra></extra>\", \"legendgroup\": \"Normal\", \"marker\": {\"color\": \"#636efa\", \"symbol\": \"circle\"}, \"mode\": \"markers\", \"name\": \"Normal\", \"orientation\": \"h\", \"showlegend\": true, \"type\": \"scatter\", \"x\": [25000, 1356, 140, 345, 45000, 987, 24000], \"xaxis\": \"x\", \"y\": [0, 10, 15, 36, 53, 75, 90], \"yaxis\": \"y\"}, {\"hovertemplate\": \"color=Fraud<br>animation_frame=Jun<br>x=%{x}<br>index=%{y}<extra></extra>\", \"legendgroup\": \"Fraud\", \"marker\": {\"color\": \"#EF553B\", \"symbol\": \"circle\"}, \"mode\": \"markers\", \"name\": \"Fraud\", \"orientation\": \"h\", \"showlegend\": true, \"type\": \"scatter\", \"x\": [15000, 10543, 11000], \"xaxis\": \"x\", \"y\": [16, 65, 100], \"yaxis\": \"y\"}],                        {\"legend\": {\"title\": {\"text\": \"color\"}, \"tracegroupgap\": 0}, \"margin\": {\"t\": 60}, \"sliders\": [{\"active\": 0, \"currentvalue\": {\"prefix\": \"animation_frame=\"}, \"len\": 0.9, \"pad\": {\"b\": 10, \"t\": 60}, \"steps\": [{\"args\": [[\"Jun\"], {\"frame\": {\"duration\": 0, \"redraw\": false}, \"fromcurrent\": true, \"mode\": \"immediate\", \"transition\": {\"duration\": 0, \"easing\": \"linear\"}}], \"label\": \"Jun\", \"method\": \"animate\"}, {\"args\": [[\"Oct\"], {\"frame\": {\"duration\": 0, \"redraw\": false}, \"fromcurrent\": true, \"mode\": \"immediate\", \"transition\": {\"duration\": 0, \"easing\": \"linear\"}}], \"label\": \"Oct\", \"method\": \"animate\"}, {\"args\": [[\"Jul\"], {\"frame\": {\"duration\": 0, \"redraw\": false}, \"fromcurrent\": true, \"mode\": \"immediate\", \"transition\": {\"duration\": 0, \"easing\": \"linear\"}}], \"label\": \"Jul\", \"method\": \"animate\"}, {\"args\": [[\"Dec\"], {\"frame\": {\"duration\": 0, \"redraw\": false}, \"fromcurrent\": true, \"mode\": \"immediate\", \"transition\": {\"duration\": 0, \"easing\": \"linear\"}}], \"label\": \"Dec\", \"method\": \"animate\"}, {\"args\": [[\"Sep\"], {\"frame\": {\"duration\": 0, \"redraw\": false}, \"fromcurrent\": true, \"mode\": \"immediate\", \"transition\": {\"duration\": 0, \"easing\": \"linear\"}}], \"label\": \"Sep\", \"method\": \"animate\"}, {\"args\": [[\"Nov\"], {\"frame\": {\"duration\": 0, \"redraw\": false}, \"fromcurrent\": true, \"mode\": \"immediate\", \"transition\": {\"duration\": 0, \"easing\": \"linear\"}}], \"label\": \"Nov\", \"method\": \"animate\"}, {\"args\": [[\"May\"], {\"frame\": {\"duration\": 0, \"redraw\": false}, \"fromcurrent\": true, \"mode\": \"immediate\", \"transition\": {\"duration\": 0, \"easing\": \"linear\"}}], \"label\": \"May\", \"method\": \"animate\"}, {\"args\": [[\"Jan\"], {\"frame\": {\"duration\": 0, \"redraw\": false}, \"fromcurrent\": true, \"mode\": \"immediate\", \"transition\": {\"duration\": 0, \"easing\": \"linear\"}}], \"label\": \"Jan\", \"method\": \"animate\"}, {\"args\": [[\"Apr\"], {\"frame\": {\"duration\": 0, \"redraw\": false}, \"fromcurrent\": true, \"mode\": \"immediate\", \"transition\": {\"duration\": 0, \"easing\": \"linear\"}}], \"label\": \"Apr\", \"method\": \"animate\"}, {\"args\": [[\"Feb\"], {\"frame\": {\"duration\": 0, \"redraw\": false}, \"fromcurrent\": true, \"mode\": \"immediate\", \"transition\": {\"duration\": 0, \"easing\": \"linear\"}}], \"label\": \"Feb\", \"method\": \"animate\"}, {\"args\": [[\"Mar\"], {\"frame\": {\"duration\": 0, \"redraw\": false}, \"fromcurrent\": true, \"mode\": \"immediate\", \"transition\": {\"duration\": 0, \"easing\": \"linear\"}}], \"label\": \"Mar\", \"method\": \"animate\"}, {\"args\": [[\"Aug\"], {\"frame\": {\"duration\": 0, \"redraw\": false}, \"fromcurrent\": true, \"mode\": \"immediate\", \"transition\": {\"duration\": 0, \"easing\": \"linear\"}}], \"label\": \"Aug\", \"method\": \"animate\"}], \"x\": 0.1, \"xanchor\": \"left\", \"y\": 0, \"yanchor\": \"top\"}], \"template\": {\"data\": {\"bar\": [{\"error_x\": {\"color\": \"#2a3f5f\"}, \"error_y\": {\"color\": \"#2a3f5f\"}, \"marker\": {\"line\": {\"color\": \"#E5ECF6\", \"width\": 0.5}}, \"type\": \"bar\"}], \"barpolar\": [{\"marker\": {\"line\": {\"color\": \"#E5ECF6\", \"width\": 0.5}}, \"type\": \"barpolar\"}], \"carpet\": [{\"aaxis\": {\"endlinecolor\": \"#2a3f5f\", \"gridcolor\": \"white\", \"linecolor\": \"white\", \"minorgridcolor\": \"white\", \"startlinecolor\": \"#2a3f5f\"}, \"baxis\": {\"endlinecolor\": \"#2a3f5f\", \"gridcolor\": \"white\", \"linecolor\": \"white\", \"minorgridcolor\": \"white\", \"startlinecolor\": \"#2a3f5f\"}, \"type\": \"carpet\"}], \"choropleth\": [{\"colorbar\": {\"outlinewidth\": 0, \"ticks\": \"\"}, \"type\": \"choropleth\"}], \"contour\": [{\"colorbar\": {\"outlinewidth\": 0, \"ticks\": \"\"}, \"colorscale\": [[0.0, \"#0d0887\"], [0.1111111111111111, \"#46039f\"], [0.2222222222222222, \"#7201a8\"], [0.3333333333333333, \"#9c179e\"], [0.4444444444444444, \"#bd3786\"], [0.5555555555555556, \"#d8576b\"], [0.6666666666666666, \"#ed7953\"], [0.7777777777777778, \"#fb9f3a\"], [0.8888888888888888, \"#fdca26\"], [1.0, \"#f0f921\"]], \"type\": \"contour\"}], \"contourcarpet\": [{\"colorbar\": {\"outlinewidth\": 0, \"ticks\": \"\"}, \"type\": \"contourcarpet\"}], \"heatmap\": [{\"colorbar\": {\"outlinewidth\": 0, \"ticks\": \"\"}, \"colorscale\": [[0.0, \"#0d0887\"], [0.1111111111111111, \"#46039f\"], [0.2222222222222222, \"#7201a8\"], [0.3333333333333333, \"#9c179e\"], [0.4444444444444444, \"#bd3786\"], [0.5555555555555556, \"#d8576b\"], [0.6666666666666666, \"#ed7953\"], [0.7777777777777778, \"#fb9f3a\"], [0.8888888888888888, \"#fdca26\"], [1.0, \"#f0f921\"]], \"type\": \"heatmap\"}], \"heatmapgl\": [{\"colorbar\": {\"outlinewidth\": 0, \"ticks\": \"\"}, \"colorscale\": [[0.0, \"#0d0887\"], [0.1111111111111111, \"#46039f\"], [0.2222222222222222, \"#7201a8\"], [0.3333333333333333, \"#9c179e\"], [0.4444444444444444, \"#bd3786\"], [0.5555555555555556, \"#d8576b\"], [0.6666666666666666, \"#ed7953\"], [0.7777777777777778, \"#fb9f3a\"], [0.8888888888888888, \"#fdca26\"], [1.0, \"#f0f921\"]], \"type\": \"heatmapgl\"}], \"histogram\": [{\"marker\": {\"colorbar\": {\"outlinewidth\": 0, \"ticks\": \"\"}}, \"type\": \"histogram\"}], \"histogram2d\": [{\"colorbar\": {\"outlinewidth\": 0, \"ticks\": \"\"}, \"colorscale\": [[0.0, \"#0d0887\"], [0.1111111111111111, \"#46039f\"], [0.2222222222222222, \"#7201a8\"], [0.3333333333333333, \"#9c179e\"], [0.4444444444444444, \"#bd3786\"], [0.5555555555555556, \"#d8576b\"], [0.6666666666666666, \"#ed7953\"], [0.7777777777777778, \"#fb9f3a\"], [0.8888888888888888, \"#fdca26\"], [1.0, \"#f0f921\"]], \"type\": \"histogram2d\"}], \"histogram2dcontour\": [{\"colorbar\": {\"outlinewidth\": 0, \"ticks\": \"\"}, \"colorscale\": [[0.0, \"#0d0887\"], [0.1111111111111111, \"#46039f\"], [0.2222222222222222, \"#7201a8\"], [0.3333333333333333, \"#9c179e\"], [0.4444444444444444, \"#bd3786\"], [0.5555555555555556, \"#d8576b\"], [0.6666666666666666, \"#ed7953\"], [0.7777777777777778, \"#fb9f3a\"], [0.8888888888888888, \"#fdca26\"], [1.0, \"#f0f921\"]], \"type\": \"histogram2dcontour\"}], \"mesh3d\": [{\"colorbar\": {\"outlinewidth\": 0, \"ticks\": \"\"}, \"type\": \"mesh3d\"}], \"parcoords\": [{\"line\": {\"colorbar\": {\"outlinewidth\": 0, \"ticks\": \"\"}}, \"type\": \"parcoords\"}], \"pie\": [{\"automargin\": true, \"type\": \"pie\"}], \"scatter\": [{\"marker\": {\"colorbar\": {\"outlinewidth\": 0, \"ticks\": \"\"}}, \"type\": \"scatter\"}], \"scatter3d\": [{\"line\": {\"colorbar\": {\"outlinewidth\": 0, \"ticks\": \"\"}}, \"marker\": {\"colorbar\": {\"outlinewidth\": 0, \"ticks\": \"\"}}, \"type\": \"scatter3d\"}], \"scattercarpet\": [{\"marker\": {\"colorbar\": {\"outlinewidth\": 0, \"ticks\": \"\"}}, \"type\": \"scattercarpet\"}], \"scattergeo\": [{\"marker\": {\"colorbar\": {\"outlinewidth\": 0, \"ticks\": \"\"}}, \"type\": \"scattergeo\"}], \"scattergl\": [{\"marker\": {\"colorbar\": {\"outlinewidth\": 0, \"ticks\": \"\"}}, \"type\": \"scattergl\"}], \"scattermapbox\": [{\"marker\": {\"colorbar\": {\"outlinewidth\": 0, \"ticks\": \"\"}}, \"type\": \"scattermapbox\"}], \"scatterpolar\": [{\"marker\": {\"colorbar\": {\"outlinewidth\": 0, \"ticks\": \"\"}}, \"type\": \"scatterpolar\"}], \"scatterpolargl\": [{\"marker\": {\"colorbar\": {\"outlinewidth\": 0, \"ticks\": \"\"}}, \"type\": \"scatterpolargl\"}], \"scatterternary\": [{\"marker\": {\"colorbar\": {\"outlinewidth\": 0, \"ticks\": \"\"}}, \"type\": \"scatterternary\"}], \"surface\": [{\"colorbar\": {\"outlinewidth\": 0, \"ticks\": \"\"}, \"colorscale\": [[0.0, \"#0d0887\"], [0.1111111111111111, \"#46039f\"], [0.2222222222222222, \"#7201a8\"], [0.3333333333333333, \"#9c179e\"], [0.4444444444444444, \"#bd3786\"], [0.5555555555555556, \"#d8576b\"], [0.6666666666666666, \"#ed7953\"], [0.7777777777777778, \"#fb9f3a\"], [0.8888888888888888, \"#fdca26\"], [1.0, \"#f0f921\"]], \"type\": \"surface\"}], \"table\": [{\"cells\": {\"fill\": {\"color\": \"#EBF0F8\"}, \"line\": {\"color\": \"white\"}}, \"header\": {\"fill\": {\"color\": \"#C8D4E3\"}, \"line\": {\"color\": \"white\"}}, \"type\": \"table\"}]}, \"layout\": {\"annotationdefaults\": {\"arrowcolor\": \"#2a3f5f\", \"arrowhead\": 0, \"arrowwidth\": 1}, \"autotypenumbers\": \"strict\", \"coloraxis\": {\"colorbar\": {\"outlinewidth\": 0, \"ticks\": \"\"}}, \"colorscale\": {\"diverging\": [[0, \"#8e0152\"], [0.1, \"#c51b7d\"], [0.2, \"#de77ae\"], [0.3, \"#f1b6da\"], [0.4, \"#fde0ef\"], [0.5, \"#f7f7f7\"], [0.6, \"#e6f5d0\"], [0.7, \"#b8e186\"], [0.8, \"#7fbc41\"], [0.9, \"#4d9221\"], [1, \"#276419\"]], \"sequential\": [[0.0, \"#0d0887\"], [0.1111111111111111, \"#46039f\"], [0.2222222222222222, \"#7201a8\"], [0.3333333333333333, \"#9c179e\"], [0.4444444444444444, \"#bd3786\"], [0.5555555555555556, \"#d8576b\"], [0.6666666666666666, \"#ed7953\"], [0.7777777777777778, \"#fb9f3a\"], [0.8888888888888888, \"#fdca26\"], [1.0, \"#f0f921\"]], \"sequentialminus\": [[0.0, \"#0d0887\"], [0.1111111111111111, \"#46039f\"], [0.2222222222222222, \"#7201a8\"], [0.3333333333333333, \"#9c179e\"], [0.4444444444444444, \"#bd3786\"], [0.5555555555555556, \"#d8576b\"], [0.6666666666666666, \"#ed7953\"], [0.7777777777777778, \"#fb9f3a\"], [0.8888888888888888, \"#fdca26\"], [1.0, \"#f0f921\"]]}, \"colorway\": [\"#636efa\", \"#EF553B\", \"#00cc96\", \"#ab63fa\", \"#FFA15A\", \"#19d3f3\", \"#FF6692\", \"#B6E880\", \"#FF97FF\", \"#FECB52\"], \"font\": {\"color\": \"#2a3f5f\"}, \"geo\": {\"bgcolor\": \"white\", \"lakecolor\": \"white\", \"landcolor\": \"#E5ECF6\", \"showlakes\": true, \"showland\": true, \"subunitcolor\": \"white\"}, \"hoverlabel\": {\"align\": \"left\"}, \"hovermode\": \"closest\", \"mapbox\": {\"style\": \"light\"}, \"paper_bgcolor\": \"white\", \"plot_bgcolor\": \"#E5ECF6\", \"polar\": {\"angularaxis\": {\"gridcolor\": \"white\", \"linecolor\": \"white\", \"ticks\": \"\"}, \"bgcolor\": \"#E5ECF6\", \"radialaxis\": {\"gridcolor\": \"white\", \"linecolor\": \"white\", \"ticks\": \"\"}}, \"scene\": {\"xaxis\": {\"backgroundcolor\": \"#E5ECF6\", \"gridcolor\": \"white\", \"gridwidth\": 2, \"linecolor\": \"white\", \"showbackground\": true, \"ticks\": \"\", \"zerolinecolor\": \"white\"}, \"yaxis\": {\"backgroundcolor\": \"#E5ECF6\", \"gridcolor\": \"white\", \"gridwidth\": 2, \"linecolor\": \"white\", \"showbackground\": true, \"ticks\": \"\", \"zerolinecolor\": \"white\"}, \"zaxis\": {\"backgroundcolor\": \"#E5ECF6\", \"gridcolor\": \"white\", \"gridwidth\": 2, \"linecolor\": \"white\", \"showbackground\": true, \"ticks\": \"\", \"zerolinecolor\": \"white\"}}, \"shapedefaults\": {\"line\": {\"color\": \"#2a3f5f\"}}, \"ternary\": {\"aaxis\": {\"gridcolor\": \"white\", \"linecolor\": \"white\", \"ticks\": \"\"}, \"baxis\": {\"gridcolor\": \"white\", \"linecolor\": \"white\", \"ticks\": \"\"}, \"bgcolor\": \"#E5ECF6\", \"caxis\": {\"gridcolor\": \"white\", \"linecolor\": \"white\", \"ticks\": \"\"}}, \"title\": {\"x\": 0.05}, \"xaxis\": {\"automargin\": true, \"gridcolor\": \"white\", \"linecolor\": \"white\", \"ticks\": \"\", \"title\": {\"standoff\": 15}, \"zerolinecolor\": \"white\", \"zerolinewidth\": 2}, \"yaxis\": {\"automargin\": true, \"gridcolor\": \"white\", \"linecolor\": \"white\", \"ticks\": \"\", \"title\": {\"standoff\": 15}, \"zerolinecolor\": \"white\", \"zerolinewidth\": 2}}}, \"updatemenus\": [{\"buttons\": [{\"args\": [null, {\"frame\": {\"duration\": 500, \"redraw\": false}, \"fromcurrent\": true, \"mode\": \"immediate\", \"transition\": {\"duration\": 500, \"easing\": \"linear\"}}], \"label\": \"&#9654;\", \"method\": \"animate\"}, {\"args\": [[null], {\"frame\": {\"duration\": 0, \"redraw\": false}, \"fromcurrent\": true, \"mode\": \"immediate\", \"transition\": {\"duration\": 0, \"easing\": \"linear\"}}], \"label\": \"&#9724;\", \"method\": \"animate\"}], \"direction\": \"left\", \"pad\": {\"r\": 10, \"t\": 70}, \"showactive\": false, \"type\": \"buttons\", \"x\": 0.1, \"xanchor\": \"right\", \"y\": 0, \"yanchor\": \"top\"}], \"xaxis\": {\"anchor\": \"y\", \"domain\": [0.0, 1.0], \"title\": {\"text\": \"x\"}}, \"yaxis\": {\"anchor\": \"x\", \"domain\": [0.0, 1.0], \"title\": {\"text\": \"index\"}}},                        {\"responsive\": true}                    ).then(function(){\n",
       "                            Plotly.addFrames('75256965-89ce-45d1-ae88-badbfcf33234', [{\"data\": [{\"hovertemplate\": \"color=Normal<br>animation_frame=Jun<br>x=%{x}<br>index=%{y}<extra></extra>\", \"legendgroup\": \"Normal\", \"marker\": {\"color\": \"#636efa\", \"symbol\": \"circle\"}, \"mode\": \"markers\", \"name\": \"Normal\", \"orientation\": \"h\", \"showlegend\": true, \"x\": [25000, 1356, 140, 345, 45000, 987, 24000], \"xaxis\": \"x\", \"y\": [0, 10, 15, 36, 53, 75, 90], \"yaxis\": \"y\", \"type\": \"scatter\"}, {\"hovertemplate\": \"color=Fraud<br>animation_frame=Jun<br>x=%{x}<br>index=%{y}<extra></extra>\", \"legendgroup\": \"Fraud\", \"marker\": {\"color\": \"#EF553B\", \"symbol\": \"circle\"}, \"mode\": \"markers\", \"name\": \"Fraud\", \"orientation\": \"h\", \"showlegend\": true, \"x\": [15000, 10543, 11000], \"xaxis\": \"x\", \"y\": [16, 65, 100], \"yaxis\": \"y\", \"type\": \"scatter\"}], \"name\": \"Jun\"}, {\"data\": [{\"hovertemplate\": \"color=Normal<br>animation_frame=Oct<br>x=%{x}<br>index=%{y}<extra></extra>\", \"legendgroup\": \"Normal\", \"marker\": {\"color\": \"#636efa\", \"symbol\": \"circle\"}, \"mode\": \"markers\", \"name\": \"Normal\", \"orientation\": \"h\", \"showlegend\": true, \"x\": [300, 1200, 1987, 9056, 132, 15000, 1200, 345, 1356], \"xaxis\": \"x\", \"y\": [1, 22, 23, 45, 58, 67, 77, 87, 105], \"yaxis\": \"y\", \"type\": \"scatter\"}, {\"hovertemplate\": \"color=Fraud<br>animation_frame=Oct<br>x=%{x}<br>index=%{y}<extra></extra>\", \"legendgroup\": \"Fraud\", \"marker\": {\"color\": \"#EF553B\", \"symbol\": \"circle\"}, \"mode\": \"markers\", \"name\": \"Fraud\", \"orientation\": \"h\", \"showlegend\": true, \"x\": [150000, 75000, 5000, 4543, 1200, 300], \"xaxis\": \"x\", \"y\": [34, 38, 46, 55, 59, 96], \"yaxis\": \"y\", \"type\": \"scatter\"}], \"name\": \"Oct\"}, {\"data\": [{\"hovertemplate\": \"color=Normal<br>animation_frame=Jul<br>x=%{x}<br>index=%{y}<extra></extra>\", \"legendgroup\": \"Normal\", \"marker\": {\"color\": \"#636efa\", \"symbol\": \"circle\"}, \"mode\": \"markers\", \"name\": \"Normal\", \"orientation\": \"h\", \"showlegend\": true, \"x\": [45000, 9875, 12000, 130000, 10000, 25000], \"xaxis\": \"x\", \"y\": [2, 32, 40, 57, 93, 95], \"yaxis\": \"y\", \"type\": \"scatter\"}, {\"hovertemplate\": \"color=Fraud<br>animation_frame=Jul<br>x=%{x}<br>index=%{y}<extra></extra>\", \"legendgroup\": \"Fraud\", \"marker\": {\"color\": \"#EF553B\", \"symbol\": \"circle\"}, \"mode\": \"markers\", \"name\": \"Fraud\", \"orientation\": \"h\", \"showlegend\": true, \"x\": [1000, 75000, 1000], \"xaxis\": \"x\", \"y\": [48, 89, 92], \"yaxis\": \"y\", \"type\": \"scatter\"}], \"name\": \"Jul\"}, {\"data\": [{\"hovertemplate\": \"color=Normal<br>animation_frame=Dec<br>x=%{x}<br>index=%{y}<extra></extra>\", \"legendgroup\": \"Normal\", \"marker\": {\"color\": \"#636efa\", \"symbol\": \"circle\"}, \"mode\": \"markers\", \"name\": \"Normal\", \"orientation\": \"h\", \"showlegend\": true, \"x\": [670, 1340, 112, 300, 50, 45000], \"xaxis\": \"x\", \"y\": [3, 9, 27, 52, 70, 97], \"yaxis\": \"y\", \"type\": \"scatter\"}, {\"hovertemplate\": \"color=Fraud<br>animation_frame=Dec<br>x=%{x}<br>index=%{y}<extra></extra>\", \"legendgroup\": \"Fraud\", \"marker\": {\"color\": \"#EF553B\", \"symbol\": \"circle\"}, \"mode\": \"markers\", \"name\": \"Fraud\", \"orientation\": \"h\", \"showlegend\": true, \"x\": [50000, 45000, 907], \"xaxis\": \"x\", \"y\": [13, 50, 86], \"yaxis\": \"y\", \"type\": \"scatter\"}], \"name\": \"Dec\"}, {\"data\": [{\"hovertemplate\": \"color=Normal<br>animation_frame=Sep<br>x=%{x}<br>index=%{y}<extra></extra>\", \"legendgroup\": \"Normal\", \"marker\": {\"color\": \"#636efa\", \"symbol\": \"circle\"}, \"mode\": \"markers\", \"name\": \"Normal\", \"orientation\": \"h\", \"showlegend\": true, \"x\": [4543, 1200, 10543, 50, 120, 8954, 1340, 1987, 4509], \"xaxis\": \"x\", \"y\": [4, 8, 14, 19, 20, 44, 60, 74, 80], \"yaxis\": \"y\", \"type\": \"scatter\"}], \"name\": \"Sep\"}, {\"data\": [{\"hovertemplate\": \"color=Normal<br>animation_frame=Nov<br>x=%{x}<br>index=%{y}<extra></extra>\", \"legendgroup\": \"Normal\", \"marker\": {\"color\": \"#636efa\", \"symbol\": \"circle\"}, \"mode\": \"markers\", \"name\": \"Normal\", \"orientation\": \"h\", \"showlegend\": true, \"x\": [11000, 12567, 1356, 150000], \"xaxis\": \"x\", \"y\": [5, 33, 61, 85], \"yaxis\": \"y\", \"type\": \"scatter\"}, {\"hovertemplate\": \"color=Fraud<br>animation_frame=Nov<br>x=%{x}<br>index=%{y}<extra></extra>\", \"legendgroup\": \"Fraud\", \"marker\": {\"color\": \"#EF553B\", \"symbol\": \"circle\"}, \"mode\": \"markers\", \"name\": \"Fraud\", \"orientation\": \"h\", \"showlegend\": true, \"x\": [12000, 543], \"xaxis\": \"x\", \"y\": [28, 82], \"yaxis\": \"y\", \"type\": \"scatter\"}], \"name\": \"Nov\"}, {\"data\": [{\"hovertemplate\": \"color=Normal<br>animation_frame=May<br>x=%{x}<br>index=%{y}<extra></extra>\", \"legendgroup\": \"Normal\", \"marker\": {\"color\": \"#636efa\", \"symbol\": \"circle\"}, \"mode\": \"markers\", \"name\": \"Normal\", \"orientation\": \"h\", \"showlegend\": true, \"x\": [1200, 4000, 24000, 567, 4000, 23467, 130000, 1340], \"xaxis\": \"x\", \"y\": [26, 30, 39, 43, 81, 91, 101, 104], \"yaxis\": \"y\", \"type\": \"scatter\"}, {\"hovertemplate\": \"color=Fraud<br>animation_frame=May<br>x=%{x}<br>index=%{y}<extra></extra>\", \"legendgroup\": \"Fraud\", \"marker\": {\"color\": \"#EF553B\", \"symbol\": \"circle\"}, \"mode\": \"markers\", \"name\": \"Fraud\", \"orientation\": \"h\", \"showlegend\": true, \"x\": [130000, 132, 987, 9875], \"xaxis\": \"x\", \"y\": [6, 7, 24, 83], \"yaxis\": \"y\", \"type\": \"scatter\"}], \"name\": \"May\"}, {\"data\": [{\"hovertemplate\": \"color=Normal<br>animation_frame=Jan<br>x=%{x}<br>index=%{y}<extra></extra>\", \"legendgroup\": \"Normal\", \"marker\": {\"color\": \"#636efa\", \"symbol\": \"circle\"}, \"mode\": \"markers\", \"name\": \"Normal\", \"orientation\": \"h\", \"showlegend\": true, \"x\": [1200, 800, 4000, 670, 4543], \"xaxis\": \"x\", \"y\": [11, 18, 76, 98, 99], \"yaxis\": \"y\", \"type\": \"scatter\"}], \"name\": \"Jan\"}, {\"data\": [{\"hovertemplate\": \"color=Normal<br>animation_frame=Apr<br>x=%{x}<br>index=%{y}<extra></extra>\", \"legendgroup\": \"Normal\", \"marker\": {\"color\": \"#636efa\", \"symbol\": \"circle\"}, \"mode\": \"markers\", \"name\": \"Normal\", \"orientation\": \"h\", \"showlegend\": true, \"x\": [11000, 4000, 890, 23467, 25000, 11000, 1200, 140], \"xaxis\": \"x\", \"y\": [12, 25, 42, 47, 51, 56, 62, 66], \"yaxis\": \"y\", \"type\": \"scatter\"}], \"name\": \"Apr\"}, {\"data\": [{\"hovertemplate\": \"color=Normal<br>animation_frame=Feb<br>x=%{x}<br>index=%{y}<extra></extra>\", \"legendgroup\": \"Normal\", \"marker\": {\"color\": \"#636efa\", \"symbol\": \"circle\"}, \"mode\": \"markers\", \"name\": \"Normal\", \"orientation\": \"h\", \"showlegend\": true, \"x\": [994, 907, 5000], \"xaxis\": \"x\", \"y\": [17, 35, 88], \"yaxis\": \"y\", \"type\": \"scatter\"}, {\"hovertemplate\": \"color=Fraud<br>animation_frame=Feb<br>x=%{x}<br>index=%{y}<extra></extra>\", \"legendgroup\": \"Fraud\", \"marker\": {\"color\": \"#EF553B\", \"symbol\": \"circle\"}, \"mode\": \"markers\", \"name\": \"Fraud\", \"orientation\": \"h\", \"showlegend\": true, \"x\": [5000, 175600, 670, 120, 140, 12000, 132], \"xaxis\": \"x\", \"y\": [37, 41, 54, 71, 72, 79, 102], \"yaxis\": \"y\", \"type\": \"scatter\"}], \"name\": \"Feb\"}, {\"data\": [{\"hovertemplate\": \"color=Normal<br>animation_frame=Mar<br>x=%{x}<br>index=%{y}<extra></extra>\", \"legendgroup\": \"Normal\", \"marker\": {\"color\": \"#636efa\", \"symbol\": \"circle\"}, \"mode\": \"markers\", \"name\": \"Normal\", \"orientation\": \"h\", \"showlegend\": true, \"x\": [4509, 543, 10000, 800], \"xaxis\": \"x\", \"y\": [29, 31, 49, 69], \"yaxis\": \"y\", \"type\": \"scatter\"}, {\"hovertemplate\": \"color=Fraud<br>animation_frame=Mar<br>x=%{x}<br>index=%{y}<extra></extra>\", \"legendgroup\": \"Fraud\", \"marker\": {\"color\": \"#EF553B\", \"symbol\": \"circle\"}, \"mode\": \"markers\", \"name\": \"Fraud\", \"orientation\": \"h\", \"showlegend\": true, \"x\": [140, 50000, 1200, 112, 45000], \"xaxis\": \"x\", \"y\": [21, 64, 73, 78, 94], \"yaxis\": \"y\", \"type\": \"scatter\"}], \"name\": \"Mar\"}, {\"data\": [{\"hovertemplate\": \"color=Normal<br>animation_frame=Aug<br>x=%{x}<br>index=%{y}<extra></extra>\", \"legendgroup\": \"Normal\", \"marker\": {\"color\": \"#636efa\", \"symbol\": \"circle\"}, \"mode\": \"markers\", \"name\": \"Normal\", \"orientation\": \"h\", \"showlegend\": true, \"x\": [11000, 994, 1200], \"xaxis\": \"x\", \"y\": [63, 68, 103], \"yaxis\": \"y\", \"type\": \"scatter\"}, {\"hovertemplate\": \"color=Fraud<br>animation_frame=Aug<br>x=%{x}<br>index=%{y}<extra></extra>\", \"legendgroup\": \"Fraud\", \"marker\": {\"color\": \"#EF553B\", \"symbol\": \"circle\"}, \"mode\": \"markers\", \"name\": \"Fraud\", \"orientation\": \"h\", \"showlegend\": true, \"x\": [12567], \"xaxis\": \"x\", \"y\": [84], \"yaxis\": \"y\", \"type\": \"scatter\"}], \"name\": \"Aug\"}]);\n",
       "                        }).then(function(){\n",
       "                            \n",
       "var gd = document.getElementById('75256965-89ce-45d1-ae88-badbfcf33234');\n",
       "var x = new MutationObserver(function (mutations, observer) {{\n",
       "        var display = window.getComputedStyle(gd).display;\n",
       "        if (!display || display === 'none') {{\n",
       "            console.log([gd, 'removed!']);\n",
       "            Plotly.purge(gd);\n",
       "            observer.disconnect();\n",
       "        }}\n",
       "}});\n",
       "\n",
       "// Listen for the removal of the full notebook cells\n",
       "var notebookContainer = gd.closest('#notebook-container');\n",
       "if (notebookContainer) {{\n",
       "    x.observe(notebookContainer, {childList: true});\n",
       "}}\n",
       "\n",
       "// Listen for the clearing of the current output cell\n",
       "var outputEl = gd.closest('.output');\n",
       "if (outputEl) {{\n",
       "    x.observe(outputEl, {childList: true});\n",
       "}}\n",
       "\n",
       "                        })                };                });            </script>        </div>"
      ]
     },
     "metadata": {},
     "output_type": "display_data"
    }
   ],
   "source": [
    "# P - Scatter\n",
    "import plotly.express as px\n",
    "fig = px.scatter(DB['Date'],DB['Amount'],color=DB['Type'],animation_frame=DB['Month'])\n",
    "fig.show()"
   ]
  },
  {
   "cell_type": "code",
   "execution_count": null,
   "metadata": {
    "id": "dbdV60BfYeMg",
    "outputId": "ad4d09ca-2cd8-4b38-9ac6-4f9f13309df0"
   },
   "outputs": [
    {
     "data": {
      "application/vnd.plotly.v1+json": {
       "config": {
        "plotlyServerURL": "https://plot.ly"
       },
       "data": [
        {
         "hovertemplate": "Type=Normal<br>Month=Jun<br>Origin=%{x}<br>Amount=%{marker.size}<extra></extra>",
         "legendgroup": "Normal",
         "marker": {
          "color": "#636efa",
          "size": [
           25000,
           1356,
           140,
           345,
           45000,
           987,
           24000
          ],
          "sizemode": "area",
          "sizeref": 439,
          "symbol": "circle"
         },
         "mode": "markers",
         "name": "Normal",
         "orientation": "v",
         "showlegend": true,
         "type": "scatter",
         "x": [
          "Bangalore, India",
          "Hyderabad, India",
          "Hyderabad, India",
          "Mumbai, India",
          "Ahmedabad, India",
          "Pune, India",
          "Chennai, India"
         ],
         "xaxis": "x",
         "y": [
          25000,
          1356,
          140,
          345,
          45000,
          987,
          24000
         ],
         "yaxis": "y"
        },
        {
         "hovertemplate": "Type=Fraud<br>Month=Jun<br>Origin=%{x}<br>Amount=%{marker.size}<extra></extra>",
         "legendgroup": "Fraud",
         "marker": {
          "color": "#EF553B",
          "size": [
           15000,
           10543,
           11000
          ],
          "sizemode": "area",
          "sizeref": 439,
          "symbol": "circle"
         },
         "mode": "markers",
         "name": "Fraud",
         "orientation": "v",
         "showlegend": true,
         "type": "scatter",
         "x": [
          "Hyderabad, India",
          "Hyderabad, India",
          "Delhi, India"
         ],
         "xaxis": "x",
         "y": [
          15000,
          10543,
          11000
         ],
         "yaxis": "y"
        }
       ],
       "frames": [
        {
         "data": [
          {
           "hovertemplate": "Type=Normal<br>Month=Jun<br>Origin=%{x}<br>Amount=%{marker.size}<extra></extra>",
           "legendgroup": "Normal",
           "marker": {
            "color": "#636efa",
            "size": [
             25000,
             1356,
             140,
             345,
             45000,
             987,
             24000
            ],
            "sizemode": "area",
            "sizeref": 439,
            "symbol": "circle"
           },
           "mode": "markers",
           "name": "Normal",
           "orientation": "v",
           "showlegend": true,
           "type": "scatter",
           "x": [
            "Bangalore, India",
            "Hyderabad, India",
            "Hyderabad, India",
            "Mumbai, India",
            "Ahmedabad, India",
            "Pune, India",
            "Chennai, India"
           ],
           "xaxis": "x",
           "y": [
            25000,
            1356,
            140,
            345,
            45000,
            987,
            24000
           ],
           "yaxis": "y"
          },
          {
           "hovertemplate": "Type=Fraud<br>Month=Jun<br>Origin=%{x}<br>Amount=%{marker.size}<extra></extra>",
           "legendgroup": "Fraud",
           "marker": {
            "color": "#EF553B",
            "size": [
             15000,
             10543,
             11000
            ],
            "sizemode": "area",
            "sizeref": 439,
            "symbol": "circle"
           },
           "mode": "markers",
           "name": "Fraud",
           "orientation": "v",
           "showlegend": true,
           "type": "scatter",
           "x": [
            "Hyderabad, India",
            "Hyderabad, India",
            "Delhi, India"
           ],
           "xaxis": "x",
           "y": [
            15000,
            10543,
            11000
           ],
           "yaxis": "y"
          }
         ],
         "name": "Jun"
        },
        {
         "data": [
          {
           "hovertemplate": "Type=Normal<br>Month=Oct<br>Origin=%{x}<br>Amount=%{marker.size}<extra></extra>",
           "legendgroup": "Normal",
           "marker": {
            "color": "#636efa",
            "size": [
             300,
             1200,
             1987,
             9056,
             132,
             15000,
             1200,
             345,
             1356
            ],
            "sizemode": "area",
            "sizeref": 439,
            "symbol": "circle"
           },
           "mode": "markers",
           "name": "Normal",
           "orientation": "v",
           "showlegend": true,
           "type": "scatter",
           "x": [
            "Bangalore, India",
            "Mumbai, India",
            "Mumbai, India",
            "Delhi, India",
            "Ahmedabad, India",
            "Pune, India",
            "Chennai, India",
            "Chennai, India",
            "Delhi, India"
           ],
           "xaxis": "x",
           "y": [
            300,
            1200,
            1987,
            9056,
            132,
            15000,
            1200,
            345,
            1356
           ],
           "yaxis": "y"
          },
          {
           "hovertemplate": "Type=Fraud<br>Month=Oct<br>Origin=%{x}<br>Amount=%{marker.size}<extra></extra>",
           "legendgroup": "Fraud",
           "marker": {
            "color": "#EF553B",
            "size": [
             150000,
             75000,
             5000,
             4543,
             1200,
             300
            ],
            "sizemode": "area",
            "sizeref": 439,
            "symbol": "circle"
           },
           "mode": "markers",
           "name": "Fraud",
           "orientation": "v",
           "showlegend": true,
           "type": "scatter",
           "x": [
            "Mumbai, India",
            "Mumbai, India",
            "Delhi, India",
            "Ahmedabad, India",
            "Bangalore, India",
            "Delhi, India"
           ],
           "xaxis": "x",
           "y": [
            150000,
            75000,
            5000,
            4543,
            1200,
            300
           ],
           "yaxis": "y"
          }
         ],
         "name": "Oct"
        },
        {
         "data": [
          {
           "hovertemplate": "Type=Normal<br>Month=Jul<br>Origin=%{x}<br>Amount=%{marker.size}<extra></extra>",
           "legendgroup": "Normal",
           "marker": {
            "color": "#636efa",
            "size": [
             45000,
             9875,
             12000,
             130000,
             10000,
             25000
            ],
            "sizemode": "area",
            "sizeref": 439,
            "symbol": "circle"
           },
           "mode": "markers",
           "name": "Normal",
           "orientation": "v",
           "showlegend": true,
           "type": "scatter",
           "x": [
            "Bangalore, India",
            "Mumbai, India",
            "Mumbai, India",
            "Ahmedabad, India",
            "Mumbai, India",
            "Delhi, India"
           ],
           "xaxis": "x",
           "y": [
            45000,
            9875,
            12000,
            130000,
            10000,
            25000
           ],
           "yaxis": "y"
          },
          {
           "hovertemplate": "Type=Fraud<br>Month=Jul<br>Origin=%{x}<br>Amount=%{marker.size}<extra></extra>",
           "legendgroup": "Fraud",
           "marker": {
            "color": "#EF553B",
            "size": [
             1000,
             75000,
             1000
            ],
            "sizemode": "area",
            "sizeref": 439,
            "symbol": "circle"
           },
           "mode": "markers",
           "name": "Fraud",
           "orientation": "v",
           "showlegend": true,
           "type": "scatter",
           "x": [
            "Delhi, India",
            "Mumbai, India",
            "Mumbai, India"
           ],
           "xaxis": "x",
           "y": [
            1000,
            75000,
            1000
           ],
           "yaxis": "y"
          }
         ],
         "name": "Jul"
        },
        {
         "data": [
          {
           "hovertemplate": "Type=Normal<br>Month=Dec<br>Origin=%{x}<br>Amount=%{marker.size}<extra></extra>",
           "legendgroup": "Normal",
           "marker": {
            "color": "#636efa",
            "size": [
             670,
             1340,
             112,
             300,
             50,
             45000
            ],
            "sizemode": "area",
            "sizeref": 439,
            "symbol": "circle"
           },
           "mode": "markers",
           "name": "Normal",
           "orientation": "v",
           "showlegend": true,
           "type": "scatter",
           "x": [
            "Bangalore, India",
            "Bangalore, India",
            "Mumbai, India",
            "Ahmedabad, India",
            "Pune, India",
            "Delhi, India"
           ],
           "xaxis": "x",
           "y": [
            670,
            1340,
            112,
            300,
            50,
            45000
           ],
           "yaxis": "y"
          },
          {
           "hovertemplate": "Type=Fraud<br>Month=Dec<br>Origin=%{x}<br>Amount=%{marker.size}<extra></extra>",
           "legendgroup": "Fraud",
           "marker": {
            "color": "#EF553B",
            "size": [
             50000,
             45000,
             907
            ],
            "sizemode": "area",
            "sizeref": 439,
            "symbol": "circle"
           },
           "mode": "markers",
           "name": "Fraud",
           "orientation": "v",
           "showlegend": true,
           "type": "scatter",
           "x": [
            "Hyderabad, India",
            "Delhi, India",
            "Mumbai, India"
           ],
           "xaxis": "x",
           "y": [
            50000,
            45000,
            907
           ],
           "yaxis": "y"
          }
         ],
         "name": "Dec"
        },
        {
         "data": [
          {
           "hovertemplate": "Type=Normal<br>Month=Sep<br>Origin=%{x}<br>Amount=%{marker.size}<extra></extra>",
           "legendgroup": "Normal",
           "marker": {
            "color": "#636efa",
            "size": [
             4543,
             1200,
             10543,
             50,
             120,
             8954,
             1340,
             1987,
             4509
            ],
            "sizemode": "area",
            "sizeref": 439,
            "symbol": "circle"
           },
           "mode": "markers",
           "name": "Normal",
           "orientation": "v",
           "showlegend": true,
           "type": "scatter",
           "x": [
            "Bangalore, India",
            "Bangalore, India",
            "Hyderabad, India",
            "Hyderabad, India",
            "Mumbai, India",
            "Delhi, India",
            "Ahmedabad, India",
            "Pune, India",
            "Chennai, India"
           ],
           "xaxis": "x",
           "y": [
            4543,
            1200,
            10543,
            50,
            120,
            8954,
            1340,
            1987,
            4509
           ],
           "yaxis": "y"
          }
         ],
         "name": "Sep"
        },
        {
         "data": [
          {
           "hovertemplate": "Type=Normal<br>Month=Nov<br>Origin=%{x}<br>Amount=%{marker.size}<extra></extra>",
           "legendgroup": "Normal",
           "marker": {
            "color": "#636efa",
            "size": [
             11000,
             12567,
             1356,
             150000
            ],
            "sizemode": "area",
            "sizeref": 439,
            "symbol": "circle"
           },
           "mode": "markers",
           "name": "Normal",
           "orientation": "v",
           "showlegend": true,
           "type": "scatter",
           "x": [
            "Bangalore, India",
            "Mumbai, India",
            "Hyderabad, India",
            "Chennai, India"
           ],
           "xaxis": "x",
           "y": [
            11000,
            12567,
            1356,
            150000
           ],
           "yaxis": "y"
          },
          {
           "hovertemplate": "Type=Fraud<br>Month=Nov<br>Origin=%{x}<br>Amount=%{marker.size}<extra></extra>",
           "legendgroup": "Fraud",
           "marker": {
            "color": "#EF553B",
            "size": [
             12000,
             543
            ],
            "sizemode": "area",
            "sizeref": 439,
            "symbol": "circle"
           },
           "mode": "markers",
           "name": "Fraud",
           "orientation": "v",
           "showlegend": true,
           "type": "scatter",
           "x": [
            "Mumbai, India",
            "Chennai, India"
           ],
           "xaxis": "x",
           "y": [
            12000,
            543
           ],
           "yaxis": "y"
          }
         ],
         "name": "Nov"
        },
        {
         "data": [
          {
           "hovertemplate": "Type=Normal<br>Month=May<br>Origin=%{x}<br>Amount=%{marker.size}<extra></extra>",
           "legendgroup": "Normal",
           "marker": {
            "color": "#636efa",
            "size": [
             1200,
             4000,
             24000,
             567,
             4000,
             23467,
             130000,
             1340
            ],
            "sizemode": "area",
            "sizeref": 439,
            "symbol": "circle"
           },
           "mode": "markers",
           "name": "Normal",
           "orientation": "v",
           "showlegend": true,
           "type": "scatter",
           "x": [
            "Mumbai, India",
            "Mumbai, India",
            "Mumbai, India",
            "Delhi, India",
            "Chennai, India",
            "Chennai, India",
            "Delhi, India",
            "Delhi, India"
           ],
           "xaxis": "x",
           "y": [
            1200,
            4000,
            24000,
            567,
            4000,
            23467,
            130000,
            1340
           ],
           "yaxis": "y"
          },
          {
           "hovertemplate": "Type=Fraud<br>Month=May<br>Origin=%{x}<br>Amount=%{marker.size}<extra></extra>",
           "legendgroup": "Fraud",
           "marker": {
            "color": "#EF553B",
            "size": [
             130000,
             132,
             987,
             9875
            ],
            "sizemode": "area",
            "sizeref": 439,
            "symbol": "circle"
           },
           "mode": "markers",
           "name": "Fraud",
           "orientation": "v",
           "showlegend": true,
           "type": "scatter",
           "x": [
            "Bangalore, India",
            "Bangalore, India",
            "Mumbai, India",
            "Mumbai, India"
           ],
           "xaxis": "x",
           "y": [
            130000,
            132,
            987,
            9875
           ],
           "yaxis": "y"
          }
         ],
         "name": "May"
        },
        {
         "data": [
          {
           "hovertemplate": "Type=Normal<br>Month=Jan<br>Origin=%{x}<br>Amount=%{marker.size}<extra></extra>",
           "legendgroup": "Normal",
           "marker": {
            "color": "#636efa",
            "size": [
             1200,
             800,
             4000,
             670,
             4543
            ],
            "sizemode": "area",
            "sizeref": 439,
            "symbol": "circle"
           },
           "mode": "markers",
           "name": "Normal",
           "orientation": "v",
           "showlegend": true,
           "type": "scatter",
           "x": [
            "Hyderabad, India",
            "Hyderabad, India",
            "Pune, India",
            "Delhi, India",
            "Delhi, India"
           ],
           "xaxis": "x",
           "y": [
            1200,
            800,
            4000,
            670,
            4543
           ],
           "yaxis": "y"
          }
         ],
         "name": "Jan"
        },
        {
         "data": [
          {
           "hovertemplate": "Type=Normal<br>Month=Apr<br>Origin=%{x}<br>Amount=%{marker.size}<extra></extra>",
           "legendgroup": "Normal",
           "marker": {
            "color": "#636efa",
            "size": [
             11000,
             4000,
             890,
             23467,
             25000,
             11000,
             1200,
             140
            ],
            "sizemode": "area",
            "sizeref": 439,
            "symbol": "circle"
           },
           "mode": "markers",
           "name": "Normal",
           "orientation": "v",
           "showlegend": true,
           "type": "scatter",
           "x": [
            "Hyderabad, India",
            "Mumbai, India",
            "Delhi, India",
            "Delhi, India",
            "Ahmedabad, India",
            "Ahmedabad, India",
            "Hyderabad, India",
            "Hyderabad, India"
           ],
           "xaxis": "x",
           "y": [
            11000,
            4000,
            890,
            23467,
            25000,
            11000,
            1200,
            140
           ],
           "yaxis": "y"
          }
         ],
         "name": "Apr"
        },
        {
         "data": [
          {
           "hovertemplate": "Type=Normal<br>Month=Feb<br>Origin=%{x}<br>Amount=%{marker.size}<extra></extra>",
           "legendgroup": "Normal",
           "marker": {
            "color": "#636efa",
            "size": [
             994,
             907,
             5000
            ],
            "sizemode": "area",
            "sizeref": 439,
            "symbol": "circle"
           },
           "mode": "markers",
           "name": "Normal",
           "orientation": "v",
           "showlegend": true,
           "type": "scatter",
           "x": [
            "Hyderabad, India",
            "Mumbai, India",
            "Chennai, India"
           ],
           "xaxis": "x",
           "y": [
            994,
            907,
            5000
           ],
           "yaxis": "y"
          },
          {
           "hovertemplate": "Type=Fraud<br>Month=Feb<br>Origin=%{x}<br>Amount=%{marker.size}<extra></extra>",
           "legendgroup": "Fraud",
           "marker": {
            "color": "#EF553B",
            "size": [
             5000,
             175600,
             670,
             120,
             140,
             12000,
             132
            ],
            "sizemode": "area",
            "sizeref": 439,
            "symbol": "circle"
           },
           "mode": "markers",
           "name": "Fraud",
           "orientation": "v",
           "showlegend": true,
           "type": "scatter",
           "x": [
            "Mumbai, India",
            "Delhi, India",
            "Bangalore, India",
            "Mumbai, India",
            "Mumbai, India",
            "Mumbai, India",
            "Delhi, India"
           ],
           "xaxis": "x",
           "y": [
            5000,
            175600,
            670,
            120,
            140,
            12000,
            132
           ],
           "yaxis": "y"
          }
         ],
         "name": "Feb"
        },
        {
         "data": [
          {
           "hovertemplate": "Type=Normal<br>Month=Mar<br>Origin=%{x}<br>Amount=%{marker.size}<extra></extra>",
           "legendgroup": "Normal",
           "marker": {
            "color": "#636efa",
            "size": [
             4509,
             543,
             10000,
             800
            ],
            "sizemode": "area",
            "sizeref": 439,
            "symbol": "circle"
           },
           "mode": "markers",
           "name": "Normal",
           "orientation": "v",
           "showlegend": true,
           "type": "scatter",
           "x": [
            "Mumbai, India",
            "Mumbai, India",
            "Delhi, India",
            "Pune, India"
           ],
           "xaxis": "x",
           "y": [
            4509,
            543,
            10000,
            800
           ],
           "yaxis": "y"
          },
          {
           "hovertemplate": "Type=Fraud<br>Month=Mar<br>Origin=%{x}<br>Amount=%{marker.size}<extra></extra>",
           "legendgroup": "Fraud",
           "marker": {
            "color": "#EF553B",
            "size": [
             140,
             50000,
             1200,
             112,
             45000
            ],
            "sizemode": "area",
            "sizeref": 439,
            "symbol": "circle"
           },
           "mode": "markers",
           "name": "Fraud",
           "orientation": "v",
           "showlegend": true,
           "type": "scatter",
           "x": [
            "Mumbai, India",
            "Hyderabad, India",
            "Pune, India",
            "Mumbai, India",
            "Mumbai, India"
           ],
           "xaxis": "x",
           "y": [
            140,
            50000,
            1200,
            112,
            45000
           ],
           "yaxis": "y"
          }
         ],
         "name": "Mar"
        },
        {
         "data": [
          {
           "hovertemplate": "Type=Normal<br>Month=Aug<br>Origin=%{x}<br>Amount=%{marker.size}<extra></extra>",
           "legendgroup": "Normal",
           "marker": {
            "color": "#636efa",
            "size": [
             11000,
             994,
             1200
            ],
            "sizemode": "area",
            "sizeref": 439,
            "symbol": "circle"
           },
           "mode": "markers",
           "name": "Normal",
           "orientation": "v",
           "showlegend": true,
           "type": "scatter",
           "x": [
            "Hyderabad, India",
            "Pune, India",
            "Delhi, India"
           ],
           "xaxis": "x",
           "y": [
            11000,
            994,
            1200
           ],
           "yaxis": "y"
          },
          {
           "hovertemplate": "Type=Fraud<br>Month=Aug<br>Origin=%{x}<br>Amount=%{marker.size}<extra></extra>",
           "legendgroup": "Fraud",
           "marker": {
            "color": "#EF553B",
            "size": [
             12567
            ],
            "sizemode": "area",
            "sizeref": 439,
            "symbol": "circle"
           },
           "mode": "markers",
           "name": "Fraud",
           "orientation": "v",
           "showlegend": true,
           "type": "scatter",
           "x": [
            "Mumbai, India"
           ],
           "xaxis": "x",
           "y": [
            12567
           ],
           "yaxis": "y"
          }
         ],
         "name": "Aug"
        }
       ],
       "layout": {
        "legend": {
         "itemsizing": "constant",
         "title": {
          "text": "Type"
         },
         "tracegroupgap": 0
        },
        "margin": {
         "t": 60
        },
        "sliders": [
         {
          "active": 0,
          "currentvalue": {
           "prefix": "Month="
          },
          "len": 0.9,
          "pad": {
           "b": 10,
           "t": 60
          },
          "steps": [
           {
            "args": [
             [
              "Jun"
             ],
             {
              "frame": {
               "duration": 0,
               "redraw": false
              },
              "fromcurrent": true,
              "mode": "immediate",
              "transition": {
               "duration": 0,
               "easing": "linear"
              }
             }
            ],
            "label": "Jun",
            "method": "animate"
           },
           {
            "args": [
             [
              "Oct"
             ],
             {
              "frame": {
               "duration": 0,
               "redraw": false
              },
              "fromcurrent": true,
              "mode": "immediate",
              "transition": {
               "duration": 0,
               "easing": "linear"
              }
             }
            ],
            "label": "Oct",
            "method": "animate"
           },
           {
            "args": [
             [
              "Jul"
             ],
             {
              "frame": {
               "duration": 0,
               "redraw": false
              },
              "fromcurrent": true,
              "mode": "immediate",
              "transition": {
               "duration": 0,
               "easing": "linear"
              }
             }
            ],
            "label": "Jul",
            "method": "animate"
           },
           {
            "args": [
             [
              "Dec"
             ],
             {
              "frame": {
               "duration": 0,
               "redraw": false
              },
              "fromcurrent": true,
              "mode": "immediate",
              "transition": {
               "duration": 0,
               "easing": "linear"
              }
             }
            ],
            "label": "Dec",
            "method": "animate"
           },
           {
            "args": [
             [
              "Sep"
             ],
             {
              "frame": {
               "duration": 0,
               "redraw": false
              },
              "fromcurrent": true,
              "mode": "immediate",
              "transition": {
               "duration": 0,
               "easing": "linear"
              }
             }
            ],
            "label": "Sep",
            "method": "animate"
           },
           {
            "args": [
             [
              "Nov"
             ],
             {
              "frame": {
               "duration": 0,
               "redraw": false
              },
              "fromcurrent": true,
              "mode": "immediate",
              "transition": {
               "duration": 0,
               "easing": "linear"
              }
             }
            ],
            "label": "Nov",
            "method": "animate"
           },
           {
            "args": [
             [
              "May"
             ],
             {
              "frame": {
               "duration": 0,
               "redraw": false
              },
              "fromcurrent": true,
              "mode": "immediate",
              "transition": {
               "duration": 0,
               "easing": "linear"
              }
             }
            ],
            "label": "May",
            "method": "animate"
           },
           {
            "args": [
             [
              "Jan"
             ],
             {
              "frame": {
               "duration": 0,
               "redraw": false
              },
              "fromcurrent": true,
              "mode": "immediate",
              "transition": {
               "duration": 0,
               "easing": "linear"
              }
             }
            ],
            "label": "Jan",
            "method": "animate"
           },
           {
            "args": [
             [
              "Apr"
             ],
             {
              "frame": {
               "duration": 0,
               "redraw": false
              },
              "fromcurrent": true,
              "mode": "immediate",
              "transition": {
               "duration": 0,
               "easing": "linear"
              }
             }
            ],
            "label": "Apr",
            "method": "animate"
           },
           {
            "args": [
             [
              "Feb"
             ],
             {
              "frame": {
               "duration": 0,
               "redraw": false
              },
              "fromcurrent": true,
              "mode": "immediate",
              "transition": {
               "duration": 0,
               "easing": "linear"
              }
             }
            ],
            "label": "Feb",
            "method": "animate"
           },
           {
            "args": [
             [
              "Mar"
             ],
             {
              "frame": {
               "duration": 0,
               "redraw": false
              },
              "fromcurrent": true,
              "mode": "immediate",
              "transition": {
               "duration": 0,
               "easing": "linear"
              }
             }
            ],
            "label": "Mar",
            "method": "animate"
           },
           {
            "args": [
             [
              "Aug"
             ],
             {
              "frame": {
               "duration": 0,
               "redraw": false
              },
              "fromcurrent": true,
              "mode": "immediate",
              "transition": {
               "duration": 0,
               "easing": "linear"
              }
             }
            ],
            "label": "Aug",
            "method": "animate"
           }
          ],
          "x": 0.1,
          "xanchor": "left",
          "y": 0,
          "yanchor": "top"
         }
        ],
        "template": {
         "data": {
          "bar": [
           {
            "error_x": {
             "color": "#2a3f5f"
            },
            "error_y": {
             "color": "#2a3f5f"
            },
            "marker": {
             "line": {
              "color": "#E5ECF6",
              "width": 0.5
             }
            },
            "type": "bar"
           }
          ],
          "barpolar": [
           {
            "marker": {
             "line": {
              "color": "#E5ECF6",
              "width": 0.5
             }
            },
            "type": "barpolar"
           }
          ],
          "carpet": [
           {
            "aaxis": {
             "endlinecolor": "#2a3f5f",
             "gridcolor": "white",
             "linecolor": "white",
             "minorgridcolor": "white",
             "startlinecolor": "#2a3f5f"
            },
            "baxis": {
             "endlinecolor": "#2a3f5f",
             "gridcolor": "white",
             "linecolor": "white",
             "minorgridcolor": "white",
             "startlinecolor": "#2a3f5f"
            },
            "type": "carpet"
           }
          ],
          "choropleth": [
           {
            "colorbar": {
             "outlinewidth": 0,
             "ticks": ""
            },
            "type": "choropleth"
           }
          ],
          "contour": [
           {
            "colorbar": {
             "outlinewidth": 0,
             "ticks": ""
            },
            "colorscale": [
             [
              0,
              "#0d0887"
             ],
             [
              0.1111111111111111,
              "#46039f"
             ],
             [
              0.2222222222222222,
              "#7201a8"
             ],
             [
              0.3333333333333333,
              "#9c179e"
             ],
             [
              0.4444444444444444,
              "#bd3786"
             ],
             [
              0.5555555555555556,
              "#d8576b"
             ],
             [
              0.6666666666666666,
              "#ed7953"
             ],
             [
              0.7777777777777778,
              "#fb9f3a"
             ],
             [
              0.8888888888888888,
              "#fdca26"
             ],
             [
              1,
              "#f0f921"
             ]
            ],
            "type": "contour"
           }
          ],
          "contourcarpet": [
           {
            "colorbar": {
             "outlinewidth": 0,
             "ticks": ""
            },
            "type": "contourcarpet"
           }
          ],
          "heatmap": [
           {
            "colorbar": {
             "outlinewidth": 0,
             "ticks": ""
            },
            "colorscale": [
             [
              0,
              "#0d0887"
             ],
             [
              0.1111111111111111,
              "#46039f"
             ],
             [
              0.2222222222222222,
              "#7201a8"
             ],
             [
              0.3333333333333333,
              "#9c179e"
             ],
             [
              0.4444444444444444,
              "#bd3786"
             ],
             [
              0.5555555555555556,
              "#d8576b"
             ],
             [
              0.6666666666666666,
              "#ed7953"
             ],
             [
              0.7777777777777778,
              "#fb9f3a"
             ],
             [
              0.8888888888888888,
              "#fdca26"
             ],
             [
              1,
              "#f0f921"
             ]
            ],
            "type": "heatmap"
           }
          ],
          "heatmapgl": [
           {
            "colorbar": {
             "outlinewidth": 0,
             "ticks": ""
            },
            "colorscale": [
             [
              0,
              "#0d0887"
             ],
             [
              0.1111111111111111,
              "#46039f"
             ],
             [
              0.2222222222222222,
              "#7201a8"
             ],
             [
              0.3333333333333333,
              "#9c179e"
             ],
             [
              0.4444444444444444,
              "#bd3786"
             ],
             [
              0.5555555555555556,
              "#d8576b"
             ],
             [
              0.6666666666666666,
              "#ed7953"
             ],
             [
              0.7777777777777778,
              "#fb9f3a"
             ],
             [
              0.8888888888888888,
              "#fdca26"
             ],
             [
              1,
              "#f0f921"
             ]
            ],
            "type": "heatmapgl"
           }
          ],
          "histogram": [
           {
            "marker": {
             "colorbar": {
              "outlinewidth": 0,
              "ticks": ""
             }
            },
            "type": "histogram"
           }
          ],
          "histogram2d": [
           {
            "colorbar": {
             "outlinewidth": 0,
             "ticks": ""
            },
            "colorscale": [
             [
              0,
              "#0d0887"
             ],
             [
              0.1111111111111111,
              "#46039f"
             ],
             [
              0.2222222222222222,
              "#7201a8"
             ],
             [
              0.3333333333333333,
              "#9c179e"
             ],
             [
              0.4444444444444444,
              "#bd3786"
             ],
             [
              0.5555555555555556,
              "#d8576b"
             ],
             [
              0.6666666666666666,
              "#ed7953"
             ],
             [
              0.7777777777777778,
              "#fb9f3a"
             ],
             [
              0.8888888888888888,
              "#fdca26"
             ],
             [
              1,
              "#f0f921"
             ]
            ],
            "type": "histogram2d"
           }
          ],
          "histogram2dcontour": [
           {
            "colorbar": {
             "outlinewidth": 0,
             "ticks": ""
            },
            "colorscale": [
             [
              0,
              "#0d0887"
             ],
             [
              0.1111111111111111,
              "#46039f"
             ],
             [
              0.2222222222222222,
              "#7201a8"
             ],
             [
              0.3333333333333333,
              "#9c179e"
             ],
             [
              0.4444444444444444,
              "#bd3786"
             ],
             [
              0.5555555555555556,
              "#d8576b"
             ],
             [
              0.6666666666666666,
              "#ed7953"
             ],
             [
              0.7777777777777778,
              "#fb9f3a"
             ],
             [
              0.8888888888888888,
              "#fdca26"
             ],
             [
              1,
              "#f0f921"
             ]
            ],
            "type": "histogram2dcontour"
           }
          ],
          "mesh3d": [
           {
            "colorbar": {
             "outlinewidth": 0,
             "ticks": ""
            },
            "type": "mesh3d"
           }
          ],
          "parcoords": [
           {
            "line": {
             "colorbar": {
              "outlinewidth": 0,
              "ticks": ""
             }
            },
            "type": "parcoords"
           }
          ],
          "pie": [
           {
            "automargin": true,
            "type": "pie"
           }
          ],
          "scatter": [
           {
            "marker": {
             "colorbar": {
              "outlinewidth": 0,
              "ticks": ""
             }
            },
            "type": "scatter"
           }
          ],
          "scatter3d": [
           {
            "line": {
             "colorbar": {
              "outlinewidth": 0,
              "ticks": ""
             }
            },
            "marker": {
             "colorbar": {
              "outlinewidth": 0,
              "ticks": ""
             }
            },
            "type": "scatter3d"
           }
          ],
          "scattercarpet": [
           {
            "marker": {
             "colorbar": {
              "outlinewidth": 0,
              "ticks": ""
             }
            },
            "type": "scattercarpet"
           }
          ],
          "scattergeo": [
           {
            "marker": {
             "colorbar": {
              "outlinewidth": 0,
              "ticks": ""
             }
            },
            "type": "scattergeo"
           }
          ],
          "scattergl": [
           {
            "marker": {
             "colorbar": {
              "outlinewidth": 0,
              "ticks": ""
             }
            },
            "type": "scattergl"
           }
          ],
          "scattermapbox": [
           {
            "marker": {
             "colorbar": {
              "outlinewidth": 0,
              "ticks": ""
             }
            },
            "type": "scattermapbox"
           }
          ],
          "scatterpolar": [
           {
            "marker": {
             "colorbar": {
              "outlinewidth": 0,
              "ticks": ""
             }
            },
            "type": "scatterpolar"
           }
          ],
          "scatterpolargl": [
           {
            "marker": {
             "colorbar": {
              "outlinewidth": 0,
              "ticks": ""
             }
            },
            "type": "scatterpolargl"
           }
          ],
          "scatterternary": [
           {
            "marker": {
             "colorbar": {
              "outlinewidth": 0,
              "ticks": ""
             }
            },
            "type": "scatterternary"
           }
          ],
          "surface": [
           {
            "colorbar": {
             "outlinewidth": 0,
             "ticks": ""
            },
            "colorscale": [
             [
              0,
              "#0d0887"
             ],
             [
              0.1111111111111111,
              "#46039f"
             ],
             [
              0.2222222222222222,
              "#7201a8"
             ],
             [
              0.3333333333333333,
              "#9c179e"
             ],
             [
              0.4444444444444444,
              "#bd3786"
             ],
             [
              0.5555555555555556,
              "#d8576b"
             ],
             [
              0.6666666666666666,
              "#ed7953"
             ],
             [
              0.7777777777777778,
              "#fb9f3a"
             ],
             [
              0.8888888888888888,
              "#fdca26"
             ],
             [
              1,
              "#f0f921"
             ]
            ],
            "type": "surface"
           }
          ],
          "table": [
           {
            "cells": {
             "fill": {
              "color": "#EBF0F8"
             },
             "line": {
              "color": "white"
             }
            },
            "header": {
             "fill": {
              "color": "#C8D4E3"
             },
             "line": {
              "color": "white"
             }
            },
            "type": "table"
           }
          ]
         },
         "layout": {
          "annotationdefaults": {
           "arrowcolor": "#2a3f5f",
           "arrowhead": 0,
           "arrowwidth": 1
          },
          "autotypenumbers": "strict",
          "coloraxis": {
           "colorbar": {
            "outlinewidth": 0,
            "ticks": ""
           }
          },
          "colorscale": {
           "diverging": [
            [
             0,
             "#8e0152"
            ],
            [
             0.1,
             "#c51b7d"
            ],
            [
             0.2,
             "#de77ae"
            ],
            [
             0.3,
             "#f1b6da"
            ],
            [
             0.4,
             "#fde0ef"
            ],
            [
             0.5,
             "#f7f7f7"
            ],
            [
             0.6,
             "#e6f5d0"
            ],
            [
             0.7,
             "#b8e186"
            ],
            [
             0.8,
             "#7fbc41"
            ],
            [
             0.9,
             "#4d9221"
            ],
            [
             1,
             "#276419"
            ]
           ],
           "sequential": [
            [
             0,
             "#0d0887"
            ],
            [
             0.1111111111111111,
             "#46039f"
            ],
            [
             0.2222222222222222,
             "#7201a8"
            ],
            [
             0.3333333333333333,
             "#9c179e"
            ],
            [
             0.4444444444444444,
             "#bd3786"
            ],
            [
             0.5555555555555556,
             "#d8576b"
            ],
            [
             0.6666666666666666,
             "#ed7953"
            ],
            [
             0.7777777777777778,
             "#fb9f3a"
            ],
            [
             0.8888888888888888,
             "#fdca26"
            ],
            [
             1,
             "#f0f921"
            ]
           ],
           "sequentialminus": [
            [
             0,
             "#0d0887"
            ],
            [
             0.1111111111111111,
             "#46039f"
            ],
            [
             0.2222222222222222,
             "#7201a8"
            ],
            [
             0.3333333333333333,
             "#9c179e"
            ],
            [
             0.4444444444444444,
             "#bd3786"
            ],
            [
             0.5555555555555556,
             "#d8576b"
            ],
            [
             0.6666666666666666,
             "#ed7953"
            ],
            [
             0.7777777777777778,
             "#fb9f3a"
            ],
            [
             0.8888888888888888,
             "#fdca26"
            ],
            [
             1,
             "#f0f921"
            ]
           ]
          },
          "colorway": [
           "#636efa",
           "#EF553B",
           "#00cc96",
           "#ab63fa",
           "#FFA15A",
           "#19d3f3",
           "#FF6692",
           "#B6E880",
           "#FF97FF",
           "#FECB52"
          ],
          "font": {
           "color": "#2a3f5f"
          },
          "geo": {
           "bgcolor": "white",
           "lakecolor": "white",
           "landcolor": "#E5ECF6",
           "showlakes": true,
           "showland": true,
           "subunitcolor": "white"
          },
          "hoverlabel": {
           "align": "left"
          },
          "hovermode": "closest",
          "mapbox": {
           "style": "light"
          },
          "paper_bgcolor": "white",
          "plot_bgcolor": "#E5ECF6",
          "polar": {
           "angularaxis": {
            "gridcolor": "white",
            "linecolor": "white",
            "ticks": ""
           },
           "bgcolor": "#E5ECF6",
           "radialaxis": {
            "gridcolor": "white",
            "linecolor": "white",
            "ticks": ""
           }
          },
          "scene": {
           "xaxis": {
            "backgroundcolor": "#E5ECF6",
            "gridcolor": "white",
            "gridwidth": 2,
            "linecolor": "white",
            "showbackground": true,
            "ticks": "",
            "zerolinecolor": "white"
           },
           "yaxis": {
            "backgroundcolor": "#E5ECF6",
            "gridcolor": "white",
            "gridwidth": 2,
            "linecolor": "white",
            "showbackground": true,
            "ticks": "",
            "zerolinecolor": "white"
           },
           "zaxis": {
            "backgroundcolor": "#E5ECF6",
            "gridcolor": "white",
            "gridwidth": 2,
            "linecolor": "white",
            "showbackground": true,
            "ticks": "",
            "zerolinecolor": "white"
           }
          },
          "shapedefaults": {
           "line": {
            "color": "#2a3f5f"
           }
          },
          "ternary": {
           "aaxis": {
            "gridcolor": "white",
            "linecolor": "white",
            "ticks": ""
           },
           "baxis": {
            "gridcolor": "white",
            "linecolor": "white",
            "ticks": ""
           },
           "bgcolor": "#E5ECF6",
           "caxis": {
            "gridcolor": "white",
            "linecolor": "white",
            "ticks": ""
           }
          },
          "title": {
           "x": 0.05
          },
          "xaxis": {
           "automargin": true,
           "gridcolor": "white",
           "linecolor": "white",
           "ticks": "",
           "title": {
            "standoff": 15
           },
           "zerolinecolor": "white",
           "zerolinewidth": 2
          },
          "yaxis": {
           "automargin": true,
           "gridcolor": "white",
           "linecolor": "white",
           "ticks": "",
           "title": {
            "standoff": 15
           },
           "zerolinecolor": "white",
           "zerolinewidth": 2
          }
         }
        },
        "updatemenus": [
         {
          "buttons": [
           {
            "args": [
             null,
             {
              "frame": {
               "duration": 500,
               "redraw": false
              },
              "fromcurrent": true,
              "mode": "immediate",
              "transition": {
               "duration": 500,
               "easing": "linear"
              }
             }
            ],
            "label": "&#9654;",
            "method": "animate"
           },
           {
            "args": [
             [
              null
             ],
             {
              "frame": {
               "duration": 0,
               "redraw": false
              },
              "fromcurrent": true,
              "mode": "immediate",
              "transition": {
               "duration": 0,
               "easing": "linear"
              }
             }
            ],
            "label": "&#9724;",
            "method": "animate"
           }
          ],
          "direction": "left",
          "pad": {
           "r": 10,
           "t": 70
          },
          "showactive": false,
          "type": "buttons",
          "x": 0.1,
          "xanchor": "right",
          "y": 0,
          "yanchor": "top"
         }
        ],
        "xaxis": {
         "anchor": "y",
         "domain": [
          0,
          1
         ],
         "title": {
          "text": "Origin"
         }
        },
        "yaxis": {
         "anchor": "x",
         "domain": [
          0,
          1
         ],
         "title": {
          "text": "Amount"
         }
        }
       }
      },
      "text/html": [
       "<div>                            <div id=\"835bdc01-2b2f-4bf0-b83b-6f9e18950a47\" class=\"plotly-graph-div\" style=\"height:525px; width:100%;\"></div>            <script type=\"text/javascript\">                require([\"plotly\"], function(Plotly) {                    window.PLOTLYENV=window.PLOTLYENV || {};                                    if (document.getElementById(\"835bdc01-2b2f-4bf0-b83b-6f9e18950a47\")) {                    Plotly.newPlot(                        \"835bdc01-2b2f-4bf0-b83b-6f9e18950a47\",                        [{\"hovertemplate\": \"Type=Normal<br>Month=Jun<br>Origin=%{x}<br>Amount=%{marker.size}<extra></extra>\", \"legendgroup\": \"Normal\", \"marker\": {\"color\": \"#636efa\", \"size\": [25000, 1356, 140, 345, 45000, 987, 24000], \"sizemode\": \"area\", \"sizeref\": 439.0, \"symbol\": \"circle\"}, \"mode\": \"markers\", \"name\": \"Normal\", \"orientation\": \"v\", \"showlegend\": true, \"type\": \"scatter\", \"x\": [\"Bangalore, India\", \"Hyderabad, India\", \"Hyderabad, India\", \"Mumbai, India\", \"Ahmedabad, India\", \"Pune, India\", \"Chennai, India\"], \"xaxis\": \"x\", \"y\": [25000, 1356, 140, 345, 45000, 987, 24000], \"yaxis\": \"y\"}, {\"hovertemplate\": \"Type=Fraud<br>Month=Jun<br>Origin=%{x}<br>Amount=%{marker.size}<extra></extra>\", \"legendgroup\": \"Fraud\", \"marker\": {\"color\": \"#EF553B\", \"size\": [15000, 10543, 11000], \"sizemode\": \"area\", \"sizeref\": 439.0, \"symbol\": \"circle\"}, \"mode\": \"markers\", \"name\": \"Fraud\", \"orientation\": \"v\", \"showlegend\": true, \"type\": \"scatter\", \"x\": [\"Hyderabad, India\", \"Hyderabad, India\", \"Delhi, India\"], \"xaxis\": \"x\", \"y\": [15000, 10543, 11000], \"yaxis\": \"y\"}],                        {\"legend\": {\"itemsizing\": \"constant\", \"title\": {\"text\": \"Type\"}, \"tracegroupgap\": 0}, \"margin\": {\"t\": 60}, \"sliders\": [{\"active\": 0, \"currentvalue\": {\"prefix\": \"Month=\"}, \"len\": 0.9, \"pad\": {\"b\": 10, \"t\": 60}, \"steps\": [{\"args\": [[\"Jun\"], {\"frame\": {\"duration\": 0, \"redraw\": false}, \"fromcurrent\": true, \"mode\": \"immediate\", \"transition\": {\"duration\": 0, \"easing\": \"linear\"}}], \"label\": \"Jun\", \"method\": \"animate\"}, {\"args\": [[\"Oct\"], {\"frame\": {\"duration\": 0, \"redraw\": false}, \"fromcurrent\": true, \"mode\": \"immediate\", \"transition\": {\"duration\": 0, \"easing\": \"linear\"}}], \"label\": \"Oct\", \"method\": \"animate\"}, {\"args\": [[\"Jul\"], {\"frame\": {\"duration\": 0, \"redraw\": false}, \"fromcurrent\": true, \"mode\": \"immediate\", \"transition\": {\"duration\": 0, \"easing\": \"linear\"}}], \"label\": \"Jul\", \"method\": \"animate\"}, {\"args\": [[\"Dec\"], {\"frame\": {\"duration\": 0, \"redraw\": false}, \"fromcurrent\": true, \"mode\": \"immediate\", \"transition\": {\"duration\": 0, \"easing\": \"linear\"}}], \"label\": \"Dec\", \"method\": \"animate\"}, {\"args\": [[\"Sep\"], {\"frame\": {\"duration\": 0, \"redraw\": false}, \"fromcurrent\": true, \"mode\": \"immediate\", \"transition\": {\"duration\": 0, \"easing\": \"linear\"}}], \"label\": \"Sep\", \"method\": \"animate\"}, {\"args\": [[\"Nov\"], {\"frame\": {\"duration\": 0, \"redraw\": false}, \"fromcurrent\": true, \"mode\": \"immediate\", \"transition\": {\"duration\": 0, \"easing\": \"linear\"}}], \"label\": \"Nov\", \"method\": \"animate\"}, {\"args\": [[\"May\"], {\"frame\": {\"duration\": 0, \"redraw\": false}, \"fromcurrent\": true, \"mode\": \"immediate\", \"transition\": {\"duration\": 0, \"easing\": \"linear\"}}], \"label\": \"May\", \"method\": \"animate\"}, {\"args\": [[\"Jan\"], {\"frame\": {\"duration\": 0, \"redraw\": false}, \"fromcurrent\": true, \"mode\": \"immediate\", \"transition\": {\"duration\": 0, \"easing\": \"linear\"}}], \"label\": \"Jan\", \"method\": \"animate\"}, {\"args\": [[\"Apr\"], {\"frame\": {\"duration\": 0, \"redraw\": false}, \"fromcurrent\": true, \"mode\": \"immediate\", \"transition\": {\"duration\": 0, \"easing\": \"linear\"}}], \"label\": \"Apr\", \"method\": \"animate\"}, {\"args\": [[\"Feb\"], {\"frame\": {\"duration\": 0, \"redraw\": false}, \"fromcurrent\": true, \"mode\": \"immediate\", \"transition\": {\"duration\": 0, \"easing\": \"linear\"}}], \"label\": \"Feb\", \"method\": \"animate\"}, {\"args\": [[\"Mar\"], {\"frame\": {\"duration\": 0, \"redraw\": false}, \"fromcurrent\": true, \"mode\": \"immediate\", \"transition\": {\"duration\": 0, \"easing\": \"linear\"}}], \"label\": \"Mar\", \"method\": \"animate\"}, {\"args\": [[\"Aug\"], {\"frame\": {\"duration\": 0, \"redraw\": false}, \"fromcurrent\": true, \"mode\": \"immediate\", \"transition\": {\"duration\": 0, \"easing\": \"linear\"}}], \"label\": \"Aug\", \"method\": \"animate\"}], \"x\": 0.1, \"xanchor\": \"left\", \"y\": 0, \"yanchor\": \"top\"}], \"template\": {\"data\": {\"bar\": [{\"error_x\": {\"color\": \"#2a3f5f\"}, \"error_y\": {\"color\": \"#2a3f5f\"}, \"marker\": {\"line\": {\"color\": \"#E5ECF6\", \"width\": 0.5}}, \"type\": \"bar\"}], \"barpolar\": [{\"marker\": {\"line\": {\"color\": \"#E5ECF6\", \"width\": 0.5}}, \"type\": \"barpolar\"}], \"carpet\": [{\"aaxis\": {\"endlinecolor\": \"#2a3f5f\", \"gridcolor\": \"white\", \"linecolor\": \"white\", \"minorgridcolor\": \"white\", \"startlinecolor\": \"#2a3f5f\"}, \"baxis\": {\"endlinecolor\": \"#2a3f5f\", \"gridcolor\": \"white\", \"linecolor\": \"white\", \"minorgridcolor\": \"white\", \"startlinecolor\": \"#2a3f5f\"}, \"type\": \"carpet\"}], \"choropleth\": [{\"colorbar\": {\"outlinewidth\": 0, \"ticks\": \"\"}, \"type\": \"choropleth\"}], \"contour\": [{\"colorbar\": {\"outlinewidth\": 0, \"ticks\": \"\"}, \"colorscale\": [[0.0, \"#0d0887\"], [0.1111111111111111, \"#46039f\"], [0.2222222222222222, \"#7201a8\"], [0.3333333333333333, \"#9c179e\"], [0.4444444444444444, \"#bd3786\"], [0.5555555555555556, \"#d8576b\"], [0.6666666666666666, \"#ed7953\"], [0.7777777777777778, \"#fb9f3a\"], [0.8888888888888888, \"#fdca26\"], [1.0, \"#f0f921\"]], \"type\": \"contour\"}], \"contourcarpet\": [{\"colorbar\": {\"outlinewidth\": 0, \"ticks\": \"\"}, \"type\": \"contourcarpet\"}], \"heatmap\": [{\"colorbar\": {\"outlinewidth\": 0, \"ticks\": \"\"}, \"colorscale\": [[0.0, \"#0d0887\"], [0.1111111111111111, \"#46039f\"], [0.2222222222222222, \"#7201a8\"], [0.3333333333333333, \"#9c179e\"], [0.4444444444444444, \"#bd3786\"], [0.5555555555555556, \"#d8576b\"], [0.6666666666666666, \"#ed7953\"], [0.7777777777777778, \"#fb9f3a\"], [0.8888888888888888, \"#fdca26\"], [1.0, \"#f0f921\"]], \"type\": \"heatmap\"}], \"heatmapgl\": [{\"colorbar\": {\"outlinewidth\": 0, \"ticks\": \"\"}, \"colorscale\": [[0.0, \"#0d0887\"], [0.1111111111111111, \"#46039f\"], [0.2222222222222222, \"#7201a8\"], [0.3333333333333333, \"#9c179e\"], [0.4444444444444444, \"#bd3786\"], [0.5555555555555556, \"#d8576b\"], [0.6666666666666666, \"#ed7953\"], [0.7777777777777778, \"#fb9f3a\"], [0.8888888888888888, \"#fdca26\"], [1.0, \"#f0f921\"]], \"type\": \"heatmapgl\"}], \"histogram\": [{\"marker\": {\"colorbar\": {\"outlinewidth\": 0, \"ticks\": \"\"}}, \"type\": \"histogram\"}], \"histogram2d\": [{\"colorbar\": {\"outlinewidth\": 0, \"ticks\": \"\"}, \"colorscale\": [[0.0, \"#0d0887\"], [0.1111111111111111, \"#46039f\"], [0.2222222222222222, \"#7201a8\"], [0.3333333333333333, \"#9c179e\"], [0.4444444444444444, \"#bd3786\"], [0.5555555555555556, \"#d8576b\"], [0.6666666666666666, \"#ed7953\"], [0.7777777777777778, \"#fb9f3a\"], [0.8888888888888888, \"#fdca26\"], [1.0, \"#f0f921\"]], \"type\": \"histogram2d\"}], \"histogram2dcontour\": [{\"colorbar\": {\"outlinewidth\": 0, \"ticks\": \"\"}, \"colorscale\": [[0.0, \"#0d0887\"], [0.1111111111111111, \"#46039f\"], [0.2222222222222222, \"#7201a8\"], [0.3333333333333333, \"#9c179e\"], [0.4444444444444444, \"#bd3786\"], [0.5555555555555556, \"#d8576b\"], [0.6666666666666666, \"#ed7953\"], [0.7777777777777778, \"#fb9f3a\"], [0.8888888888888888, \"#fdca26\"], [1.0, \"#f0f921\"]], \"type\": \"histogram2dcontour\"}], \"mesh3d\": [{\"colorbar\": {\"outlinewidth\": 0, \"ticks\": \"\"}, \"type\": \"mesh3d\"}], \"parcoords\": [{\"line\": {\"colorbar\": {\"outlinewidth\": 0, \"ticks\": \"\"}}, \"type\": \"parcoords\"}], \"pie\": [{\"automargin\": true, \"type\": \"pie\"}], \"scatter\": [{\"marker\": {\"colorbar\": {\"outlinewidth\": 0, \"ticks\": \"\"}}, \"type\": \"scatter\"}], \"scatter3d\": [{\"line\": {\"colorbar\": {\"outlinewidth\": 0, \"ticks\": \"\"}}, \"marker\": {\"colorbar\": {\"outlinewidth\": 0, \"ticks\": \"\"}}, \"type\": \"scatter3d\"}], \"scattercarpet\": [{\"marker\": {\"colorbar\": {\"outlinewidth\": 0, \"ticks\": \"\"}}, \"type\": \"scattercarpet\"}], \"scattergeo\": [{\"marker\": {\"colorbar\": {\"outlinewidth\": 0, \"ticks\": \"\"}}, \"type\": \"scattergeo\"}], \"scattergl\": [{\"marker\": {\"colorbar\": {\"outlinewidth\": 0, \"ticks\": \"\"}}, \"type\": \"scattergl\"}], \"scattermapbox\": [{\"marker\": {\"colorbar\": {\"outlinewidth\": 0, \"ticks\": \"\"}}, \"type\": \"scattermapbox\"}], \"scatterpolar\": [{\"marker\": {\"colorbar\": {\"outlinewidth\": 0, \"ticks\": \"\"}}, \"type\": \"scatterpolar\"}], \"scatterpolargl\": [{\"marker\": {\"colorbar\": {\"outlinewidth\": 0, \"ticks\": \"\"}}, \"type\": \"scatterpolargl\"}], \"scatterternary\": [{\"marker\": {\"colorbar\": {\"outlinewidth\": 0, \"ticks\": \"\"}}, \"type\": \"scatterternary\"}], \"surface\": [{\"colorbar\": {\"outlinewidth\": 0, \"ticks\": \"\"}, \"colorscale\": [[0.0, \"#0d0887\"], [0.1111111111111111, \"#46039f\"], [0.2222222222222222, \"#7201a8\"], [0.3333333333333333, \"#9c179e\"], [0.4444444444444444, \"#bd3786\"], [0.5555555555555556, \"#d8576b\"], [0.6666666666666666, \"#ed7953\"], [0.7777777777777778, \"#fb9f3a\"], [0.8888888888888888, \"#fdca26\"], [1.0, \"#f0f921\"]], \"type\": \"surface\"}], \"table\": [{\"cells\": {\"fill\": {\"color\": \"#EBF0F8\"}, \"line\": {\"color\": \"white\"}}, \"header\": {\"fill\": {\"color\": \"#C8D4E3\"}, \"line\": {\"color\": \"white\"}}, \"type\": \"table\"}]}, \"layout\": {\"annotationdefaults\": {\"arrowcolor\": \"#2a3f5f\", \"arrowhead\": 0, \"arrowwidth\": 1}, \"autotypenumbers\": \"strict\", \"coloraxis\": {\"colorbar\": {\"outlinewidth\": 0, \"ticks\": \"\"}}, \"colorscale\": {\"diverging\": [[0, \"#8e0152\"], [0.1, \"#c51b7d\"], [0.2, \"#de77ae\"], [0.3, \"#f1b6da\"], [0.4, \"#fde0ef\"], [0.5, \"#f7f7f7\"], [0.6, \"#e6f5d0\"], [0.7, \"#b8e186\"], [0.8, \"#7fbc41\"], [0.9, \"#4d9221\"], [1, \"#276419\"]], \"sequential\": [[0.0, \"#0d0887\"], [0.1111111111111111, \"#46039f\"], [0.2222222222222222, \"#7201a8\"], [0.3333333333333333, \"#9c179e\"], [0.4444444444444444, \"#bd3786\"], [0.5555555555555556, \"#d8576b\"], [0.6666666666666666, \"#ed7953\"], [0.7777777777777778, \"#fb9f3a\"], [0.8888888888888888, \"#fdca26\"], [1.0, \"#f0f921\"]], \"sequentialminus\": [[0.0, \"#0d0887\"], [0.1111111111111111, \"#46039f\"], [0.2222222222222222, \"#7201a8\"], [0.3333333333333333, \"#9c179e\"], [0.4444444444444444, \"#bd3786\"], [0.5555555555555556, \"#d8576b\"], [0.6666666666666666, \"#ed7953\"], [0.7777777777777778, \"#fb9f3a\"], [0.8888888888888888, \"#fdca26\"], [1.0, \"#f0f921\"]]}, \"colorway\": [\"#636efa\", \"#EF553B\", \"#00cc96\", \"#ab63fa\", \"#FFA15A\", \"#19d3f3\", \"#FF6692\", \"#B6E880\", \"#FF97FF\", \"#FECB52\"], \"font\": {\"color\": \"#2a3f5f\"}, \"geo\": {\"bgcolor\": \"white\", \"lakecolor\": \"white\", \"landcolor\": \"#E5ECF6\", \"showlakes\": true, \"showland\": true, \"subunitcolor\": \"white\"}, \"hoverlabel\": {\"align\": \"left\"}, \"hovermode\": \"closest\", \"mapbox\": {\"style\": \"light\"}, \"paper_bgcolor\": \"white\", \"plot_bgcolor\": \"#E5ECF6\", \"polar\": {\"angularaxis\": {\"gridcolor\": \"white\", \"linecolor\": \"white\", \"ticks\": \"\"}, \"bgcolor\": \"#E5ECF6\", \"radialaxis\": {\"gridcolor\": \"white\", \"linecolor\": \"white\", \"ticks\": \"\"}}, \"scene\": {\"xaxis\": {\"backgroundcolor\": \"#E5ECF6\", \"gridcolor\": \"white\", \"gridwidth\": 2, \"linecolor\": \"white\", \"showbackground\": true, \"ticks\": \"\", \"zerolinecolor\": \"white\"}, \"yaxis\": {\"backgroundcolor\": \"#E5ECF6\", \"gridcolor\": \"white\", \"gridwidth\": 2, \"linecolor\": \"white\", \"showbackground\": true, \"ticks\": \"\", \"zerolinecolor\": \"white\"}, \"zaxis\": {\"backgroundcolor\": \"#E5ECF6\", \"gridcolor\": \"white\", \"gridwidth\": 2, \"linecolor\": \"white\", \"showbackground\": true, \"ticks\": \"\", \"zerolinecolor\": \"white\"}}, \"shapedefaults\": {\"line\": {\"color\": \"#2a3f5f\"}}, \"ternary\": {\"aaxis\": {\"gridcolor\": \"white\", \"linecolor\": \"white\", \"ticks\": \"\"}, \"baxis\": {\"gridcolor\": \"white\", \"linecolor\": \"white\", \"ticks\": \"\"}, \"bgcolor\": \"#E5ECF6\", \"caxis\": {\"gridcolor\": \"white\", \"linecolor\": \"white\", \"ticks\": \"\"}}, \"title\": {\"x\": 0.05}, \"xaxis\": {\"automargin\": true, \"gridcolor\": \"white\", \"linecolor\": \"white\", \"ticks\": \"\", \"title\": {\"standoff\": 15}, \"zerolinecolor\": \"white\", \"zerolinewidth\": 2}, \"yaxis\": {\"automargin\": true, \"gridcolor\": \"white\", \"linecolor\": \"white\", \"ticks\": \"\", \"title\": {\"standoff\": 15}, \"zerolinecolor\": \"white\", \"zerolinewidth\": 2}}}, \"updatemenus\": [{\"buttons\": [{\"args\": [null, {\"frame\": {\"duration\": 500, \"redraw\": false}, \"fromcurrent\": true, \"mode\": \"immediate\", \"transition\": {\"duration\": 500, \"easing\": \"linear\"}}], \"label\": \"&#9654;\", \"method\": \"animate\"}, {\"args\": [[null], {\"frame\": {\"duration\": 0, \"redraw\": false}, \"fromcurrent\": true, \"mode\": \"immediate\", \"transition\": {\"duration\": 0, \"easing\": \"linear\"}}], \"label\": \"&#9724;\", \"method\": \"animate\"}], \"direction\": \"left\", \"pad\": {\"r\": 10, \"t\": 70}, \"showactive\": false, \"type\": \"buttons\", \"x\": 0.1, \"xanchor\": \"right\", \"y\": 0, \"yanchor\": \"top\"}], \"xaxis\": {\"anchor\": \"y\", \"domain\": [0.0, 1.0], \"title\": {\"text\": \"Origin\"}}, \"yaxis\": {\"anchor\": \"x\", \"domain\": [0.0, 1.0], \"title\": {\"text\": \"Amount\"}}},                        {\"responsive\": true}                    ).then(function(){\n",
       "                            Plotly.addFrames('835bdc01-2b2f-4bf0-b83b-6f9e18950a47', [{\"data\": [{\"hovertemplate\": \"Type=Normal<br>Month=Jun<br>Origin=%{x}<br>Amount=%{marker.size}<extra></extra>\", \"legendgroup\": \"Normal\", \"marker\": {\"color\": \"#636efa\", \"size\": [25000, 1356, 140, 345, 45000, 987, 24000], \"sizemode\": \"area\", \"sizeref\": 439.0, \"symbol\": \"circle\"}, \"mode\": \"markers\", \"name\": \"Normal\", \"orientation\": \"v\", \"showlegend\": true, \"x\": [\"Bangalore, India\", \"Hyderabad, India\", \"Hyderabad, India\", \"Mumbai, India\", \"Ahmedabad, India\", \"Pune, India\", \"Chennai, India\"], \"xaxis\": \"x\", \"y\": [25000, 1356, 140, 345, 45000, 987, 24000], \"yaxis\": \"y\", \"type\": \"scatter\"}, {\"hovertemplate\": \"Type=Fraud<br>Month=Jun<br>Origin=%{x}<br>Amount=%{marker.size}<extra></extra>\", \"legendgroup\": \"Fraud\", \"marker\": {\"color\": \"#EF553B\", \"size\": [15000, 10543, 11000], \"sizemode\": \"area\", \"sizeref\": 439.0, \"symbol\": \"circle\"}, \"mode\": \"markers\", \"name\": \"Fraud\", \"orientation\": \"v\", \"showlegend\": true, \"x\": [\"Hyderabad, India\", \"Hyderabad, India\", \"Delhi, India\"], \"xaxis\": \"x\", \"y\": [15000, 10543, 11000], \"yaxis\": \"y\", \"type\": \"scatter\"}], \"name\": \"Jun\"}, {\"data\": [{\"hovertemplate\": \"Type=Normal<br>Month=Oct<br>Origin=%{x}<br>Amount=%{marker.size}<extra></extra>\", \"legendgroup\": \"Normal\", \"marker\": {\"color\": \"#636efa\", \"size\": [300, 1200, 1987, 9056, 132, 15000, 1200, 345, 1356], \"sizemode\": \"area\", \"sizeref\": 439.0, \"symbol\": \"circle\"}, \"mode\": \"markers\", \"name\": \"Normal\", \"orientation\": \"v\", \"showlegend\": true, \"x\": [\"Bangalore, India\", \"Mumbai, India\", \"Mumbai, India\", \"Delhi, India\", \"Ahmedabad, India\", \"Pune, India\", \"Chennai, India\", \"Chennai, India\", \"Delhi, India\"], \"xaxis\": \"x\", \"y\": [300, 1200, 1987, 9056, 132, 15000, 1200, 345, 1356], \"yaxis\": \"y\", \"type\": \"scatter\"}, {\"hovertemplate\": \"Type=Fraud<br>Month=Oct<br>Origin=%{x}<br>Amount=%{marker.size}<extra></extra>\", \"legendgroup\": \"Fraud\", \"marker\": {\"color\": \"#EF553B\", \"size\": [150000, 75000, 5000, 4543, 1200, 300], \"sizemode\": \"area\", \"sizeref\": 439.0, \"symbol\": \"circle\"}, \"mode\": \"markers\", \"name\": \"Fraud\", \"orientation\": \"v\", \"showlegend\": true, \"x\": [\"Mumbai, India\", \"Mumbai, India\", \"Delhi, India\", \"Ahmedabad, India\", \"Bangalore, India\", \"Delhi, India\"], \"xaxis\": \"x\", \"y\": [150000, 75000, 5000, 4543, 1200, 300], \"yaxis\": \"y\", \"type\": \"scatter\"}], \"name\": \"Oct\"}, {\"data\": [{\"hovertemplate\": \"Type=Normal<br>Month=Jul<br>Origin=%{x}<br>Amount=%{marker.size}<extra></extra>\", \"legendgroup\": \"Normal\", \"marker\": {\"color\": \"#636efa\", \"size\": [45000, 9875, 12000, 130000, 10000, 25000], \"sizemode\": \"area\", \"sizeref\": 439.0, \"symbol\": \"circle\"}, \"mode\": \"markers\", \"name\": \"Normal\", \"orientation\": \"v\", \"showlegend\": true, \"x\": [\"Bangalore, India\", \"Mumbai, India\", \"Mumbai, India\", \"Ahmedabad, India\", \"Mumbai, India\", \"Delhi, India\"], \"xaxis\": \"x\", \"y\": [45000, 9875, 12000, 130000, 10000, 25000], \"yaxis\": \"y\", \"type\": \"scatter\"}, {\"hovertemplate\": \"Type=Fraud<br>Month=Jul<br>Origin=%{x}<br>Amount=%{marker.size}<extra></extra>\", \"legendgroup\": \"Fraud\", \"marker\": {\"color\": \"#EF553B\", \"size\": [1000, 75000, 1000], \"sizemode\": \"area\", \"sizeref\": 439.0, \"symbol\": \"circle\"}, \"mode\": \"markers\", \"name\": \"Fraud\", \"orientation\": \"v\", \"showlegend\": true, \"x\": [\"Delhi, India\", \"Mumbai, India\", \"Mumbai, India\"], \"xaxis\": \"x\", \"y\": [1000, 75000, 1000], \"yaxis\": \"y\", \"type\": \"scatter\"}], \"name\": \"Jul\"}, {\"data\": [{\"hovertemplate\": \"Type=Normal<br>Month=Dec<br>Origin=%{x}<br>Amount=%{marker.size}<extra></extra>\", \"legendgroup\": \"Normal\", \"marker\": {\"color\": \"#636efa\", \"size\": [670, 1340, 112, 300, 50, 45000], \"sizemode\": \"area\", \"sizeref\": 439.0, \"symbol\": \"circle\"}, \"mode\": \"markers\", \"name\": \"Normal\", \"orientation\": \"v\", \"showlegend\": true, \"x\": [\"Bangalore, India\", \"Bangalore, India\", \"Mumbai, India\", \"Ahmedabad, India\", \"Pune, India\", \"Delhi, India\"], \"xaxis\": \"x\", \"y\": [670, 1340, 112, 300, 50, 45000], \"yaxis\": \"y\", \"type\": \"scatter\"}, {\"hovertemplate\": \"Type=Fraud<br>Month=Dec<br>Origin=%{x}<br>Amount=%{marker.size}<extra></extra>\", \"legendgroup\": \"Fraud\", \"marker\": {\"color\": \"#EF553B\", \"size\": [50000, 45000, 907], \"sizemode\": \"area\", \"sizeref\": 439.0, \"symbol\": \"circle\"}, \"mode\": \"markers\", \"name\": \"Fraud\", \"orientation\": \"v\", \"showlegend\": true, \"x\": [\"Hyderabad, India\", \"Delhi, India\", \"Mumbai, India\"], \"xaxis\": \"x\", \"y\": [50000, 45000, 907], \"yaxis\": \"y\", \"type\": \"scatter\"}], \"name\": \"Dec\"}, {\"data\": [{\"hovertemplate\": \"Type=Normal<br>Month=Sep<br>Origin=%{x}<br>Amount=%{marker.size}<extra></extra>\", \"legendgroup\": \"Normal\", \"marker\": {\"color\": \"#636efa\", \"size\": [4543, 1200, 10543, 50, 120, 8954, 1340, 1987, 4509], \"sizemode\": \"area\", \"sizeref\": 439.0, \"symbol\": \"circle\"}, \"mode\": \"markers\", \"name\": \"Normal\", \"orientation\": \"v\", \"showlegend\": true, \"x\": [\"Bangalore, India\", \"Bangalore, India\", \"Hyderabad, India\", \"Hyderabad, India\", \"Mumbai, India\", \"Delhi, India\", \"Ahmedabad, India\", \"Pune, India\", \"Chennai, India\"], \"xaxis\": \"x\", \"y\": [4543, 1200, 10543, 50, 120, 8954, 1340, 1987, 4509], \"yaxis\": \"y\", \"type\": \"scatter\"}], \"name\": \"Sep\"}, {\"data\": [{\"hovertemplate\": \"Type=Normal<br>Month=Nov<br>Origin=%{x}<br>Amount=%{marker.size}<extra></extra>\", \"legendgroup\": \"Normal\", \"marker\": {\"color\": \"#636efa\", \"size\": [11000, 12567, 1356, 150000], \"sizemode\": \"area\", \"sizeref\": 439.0, \"symbol\": \"circle\"}, \"mode\": \"markers\", \"name\": \"Normal\", \"orientation\": \"v\", \"showlegend\": true, \"x\": [\"Bangalore, India\", \"Mumbai, India\", \"Hyderabad, India\", \"Chennai, India\"], \"xaxis\": \"x\", \"y\": [11000, 12567, 1356, 150000], \"yaxis\": \"y\", \"type\": \"scatter\"}, {\"hovertemplate\": \"Type=Fraud<br>Month=Nov<br>Origin=%{x}<br>Amount=%{marker.size}<extra></extra>\", \"legendgroup\": \"Fraud\", \"marker\": {\"color\": \"#EF553B\", \"size\": [12000, 543], \"sizemode\": \"area\", \"sizeref\": 439.0, \"symbol\": \"circle\"}, \"mode\": \"markers\", \"name\": \"Fraud\", \"orientation\": \"v\", \"showlegend\": true, \"x\": [\"Mumbai, India\", \"Chennai, India\"], \"xaxis\": \"x\", \"y\": [12000, 543], \"yaxis\": \"y\", \"type\": \"scatter\"}], \"name\": \"Nov\"}, {\"data\": [{\"hovertemplate\": \"Type=Normal<br>Month=May<br>Origin=%{x}<br>Amount=%{marker.size}<extra></extra>\", \"legendgroup\": \"Normal\", \"marker\": {\"color\": \"#636efa\", \"size\": [1200, 4000, 24000, 567, 4000, 23467, 130000, 1340], \"sizemode\": \"area\", \"sizeref\": 439.0, \"symbol\": \"circle\"}, \"mode\": \"markers\", \"name\": \"Normal\", \"orientation\": \"v\", \"showlegend\": true, \"x\": [\"Mumbai, India\", \"Mumbai, India\", \"Mumbai, India\", \"Delhi, India\", \"Chennai, India\", \"Chennai, India\", \"Delhi, India\", \"Delhi, India\"], \"xaxis\": \"x\", \"y\": [1200, 4000, 24000, 567, 4000, 23467, 130000, 1340], \"yaxis\": \"y\", \"type\": \"scatter\"}, {\"hovertemplate\": \"Type=Fraud<br>Month=May<br>Origin=%{x}<br>Amount=%{marker.size}<extra></extra>\", \"legendgroup\": \"Fraud\", \"marker\": {\"color\": \"#EF553B\", \"size\": [130000, 132, 987, 9875], \"sizemode\": \"area\", \"sizeref\": 439.0, \"symbol\": \"circle\"}, \"mode\": \"markers\", \"name\": \"Fraud\", \"orientation\": \"v\", \"showlegend\": true, \"x\": [\"Bangalore, India\", \"Bangalore, India\", \"Mumbai, India\", \"Mumbai, India\"], \"xaxis\": \"x\", \"y\": [130000, 132, 987, 9875], \"yaxis\": \"y\", \"type\": \"scatter\"}], \"name\": \"May\"}, {\"data\": [{\"hovertemplate\": \"Type=Normal<br>Month=Jan<br>Origin=%{x}<br>Amount=%{marker.size}<extra></extra>\", \"legendgroup\": \"Normal\", \"marker\": {\"color\": \"#636efa\", \"size\": [1200, 800, 4000, 670, 4543], \"sizemode\": \"area\", \"sizeref\": 439.0, \"symbol\": \"circle\"}, \"mode\": \"markers\", \"name\": \"Normal\", \"orientation\": \"v\", \"showlegend\": true, \"x\": [\"Hyderabad, India\", \"Hyderabad, India\", \"Pune, India\", \"Delhi, India\", \"Delhi, India\"], \"xaxis\": \"x\", \"y\": [1200, 800, 4000, 670, 4543], \"yaxis\": \"y\", \"type\": \"scatter\"}], \"name\": \"Jan\"}, {\"data\": [{\"hovertemplate\": \"Type=Normal<br>Month=Apr<br>Origin=%{x}<br>Amount=%{marker.size}<extra></extra>\", \"legendgroup\": \"Normal\", \"marker\": {\"color\": \"#636efa\", \"size\": [11000, 4000, 890, 23467, 25000, 11000, 1200, 140], \"sizemode\": \"area\", \"sizeref\": 439.0, \"symbol\": \"circle\"}, \"mode\": \"markers\", \"name\": \"Normal\", \"orientation\": \"v\", \"showlegend\": true, \"x\": [\"Hyderabad, India\", \"Mumbai, India\", \"Delhi, India\", \"Delhi, India\", \"Ahmedabad, India\", \"Ahmedabad, India\", \"Hyderabad, India\", \"Hyderabad, India\"], \"xaxis\": \"x\", \"y\": [11000, 4000, 890, 23467, 25000, 11000, 1200, 140], \"yaxis\": \"y\", \"type\": \"scatter\"}], \"name\": \"Apr\"}, {\"data\": [{\"hovertemplate\": \"Type=Normal<br>Month=Feb<br>Origin=%{x}<br>Amount=%{marker.size}<extra></extra>\", \"legendgroup\": \"Normal\", \"marker\": {\"color\": \"#636efa\", \"size\": [994, 907, 5000], \"sizemode\": \"area\", \"sizeref\": 439.0, \"symbol\": \"circle\"}, \"mode\": \"markers\", \"name\": \"Normal\", \"orientation\": \"v\", \"showlegend\": true, \"x\": [\"Hyderabad, India\", \"Mumbai, India\", \"Chennai, India\"], \"xaxis\": \"x\", \"y\": [994, 907, 5000], \"yaxis\": \"y\", \"type\": \"scatter\"}, {\"hovertemplate\": \"Type=Fraud<br>Month=Feb<br>Origin=%{x}<br>Amount=%{marker.size}<extra></extra>\", \"legendgroup\": \"Fraud\", \"marker\": {\"color\": \"#EF553B\", \"size\": [5000, 175600, 670, 120, 140, 12000, 132], \"sizemode\": \"area\", \"sizeref\": 439.0, \"symbol\": \"circle\"}, \"mode\": \"markers\", \"name\": \"Fraud\", \"orientation\": \"v\", \"showlegend\": true, \"x\": [\"Mumbai, India\", \"Delhi, India\", \"Bangalore, India\", \"Mumbai, India\", \"Mumbai, India\", \"Mumbai, India\", \"Delhi, India\"], \"xaxis\": \"x\", \"y\": [5000, 175600, 670, 120, 140, 12000, 132], \"yaxis\": \"y\", \"type\": \"scatter\"}], \"name\": \"Feb\"}, {\"data\": [{\"hovertemplate\": \"Type=Normal<br>Month=Mar<br>Origin=%{x}<br>Amount=%{marker.size}<extra></extra>\", \"legendgroup\": \"Normal\", \"marker\": {\"color\": \"#636efa\", \"size\": [4509, 543, 10000, 800], \"sizemode\": \"area\", \"sizeref\": 439.0, \"symbol\": \"circle\"}, \"mode\": \"markers\", \"name\": \"Normal\", \"orientation\": \"v\", \"showlegend\": true, \"x\": [\"Mumbai, India\", \"Mumbai, India\", \"Delhi, India\", \"Pune, India\"], \"xaxis\": \"x\", \"y\": [4509, 543, 10000, 800], \"yaxis\": \"y\", \"type\": \"scatter\"}, {\"hovertemplate\": \"Type=Fraud<br>Month=Mar<br>Origin=%{x}<br>Amount=%{marker.size}<extra></extra>\", \"legendgroup\": \"Fraud\", \"marker\": {\"color\": \"#EF553B\", \"size\": [140, 50000, 1200, 112, 45000], \"sizemode\": \"area\", \"sizeref\": 439.0, \"symbol\": \"circle\"}, \"mode\": \"markers\", \"name\": \"Fraud\", \"orientation\": \"v\", \"showlegend\": true, \"x\": [\"Mumbai, India\", \"Hyderabad, India\", \"Pune, India\", \"Mumbai, India\", \"Mumbai, India\"], \"xaxis\": \"x\", \"y\": [140, 50000, 1200, 112, 45000], \"yaxis\": \"y\", \"type\": \"scatter\"}], \"name\": \"Mar\"}, {\"data\": [{\"hovertemplate\": \"Type=Normal<br>Month=Aug<br>Origin=%{x}<br>Amount=%{marker.size}<extra></extra>\", \"legendgroup\": \"Normal\", \"marker\": {\"color\": \"#636efa\", \"size\": [11000, 994, 1200], \"sizemode\": \"area\", \"sizeref\": 439.0, \"symbol\": \"circle\"}, \"mode\": \"markers\", \"name\": \"Normal\", \"orientation\": \"v\", \"showlegend\": true, \"x\": [\"Hyderabad, India\", \"Pune, India\", \"Delhi, India\"], \"xaxis\": \"x\", \"y\": [11000, 994, 1200], \"yaxis\": \"y\", \"type\": \"scatter\"}, {\"hovertemplate\": \"Type=Fraud<br>Month=Aug<br>Origin=%{x}<br>Amount=%{marker.size}<extra></extra>\", \"legendgroup\": \"Fraud\", \"marker\": {\"color\": \"#EF553B\", \"size\": [12567], \"sizemode\": \"area\", \"sizeref\": 439.0, \"symbol\": \"circle\"}, \"mode\": \"markers\", \"name\": \"Fraud\", \"orientation\": \"v\", \"showlegend\": true, \"x\": [\"Mumbai, India\"], \"xaxis\": \"x\", \"y\": [12567], \"yaxis\": \"y\", \"type\": \"scatter\"}], \"name\": \"Aug\"}]);\n",
       "                        }).then(function(){\n",
       "                            \n",
       "var gd = document.getElementById('835bdc01-2b2f-4bf0-b83b-6f9e18950a47');\n",
       "var x = new MutationObserver(function (mutations, observer) {{\n",
       "        var display = window.getComputedStyle(gd).display;\n",
       "        if (!display || display === 'none') {{\n",
       "            console.log([gd, 'removed!']);\n",
       "            Plotly.purge(gd);\n",
       "            observer.disconnect();\n",
       "        }}\n",
       "}});\n",
       "\n",
       "// Listen for the removal of the full notebook cells\n",
       "var notebookContainer = gd.closest('#notebook-container');\n",
       "if (notebookContainer) {{\n",
       "    x.observe(notebookContainer, {childList: true});\n",
       "}}\n",
       "\n",
       "// Listen for the clearing of the current output cell\n",
       "var outputEl = gd.closest('.output');\n",
       "if (outputEl) {{\n",
       "    x.observe(outputEl, {childList: true});\n",
       "}}\n",
       "\n",
       "                        })                };                });            </script>        </div>"
      ]
     },
     "metadata": {},
     "output_type": "display_data"
    }
   ],
   "source": [
    "# P - Scatter + bubbles\n",
    "import plotly.express as px\n",
    "\n",
    "fig = px.scatter(DB, DB['Origin'],DB['Amount'], color=DB['Type'],size=DB['Amount'],animation_frame=DB['Month'])\n",
    "fig.show()"
   ]
  },
  {
   "cell_type": "markdown",
   "metadata": {
    "id": "PRgOduAfYeM1"
   },
   "source": [
    "- - - - - - - - - - - - - - - - - - - - - - - - - - - - - - - - - - - - - - - - - - - - - -\n",
    "\n",
    "## 6. Conclusion\n",
    "\n",
    "- - - - - - - - - - - - - - - - - - - - - - - - - - - - - - - - - - - - - - - - - - - - - -"
   ]
  },
  {
   "cell_type": "markdown",
   "metadata": {
    "id": "wb7nmMnjYeM1"
   },
   "source": [
    "- Visualization is a wonderful way to derive inferences about the data distribution and patterns.\n",
    "- We can use multiple plots but using an appropriate plot depending on the feature type make the difference.\n",
    "- When there are a huge number of features, we can avoid redundant univariate analysis for various features.\n",
    "- Understanding the plots and deriving inferences make the plots more important."
   ]
  },
  {
   "cell_type": "markdown",
   "metadata": {
    "id": "IEXGdNRTYeM2"
   },
   "source": [
    "\n",
    "- - - - - - - - - - - - - - - - - - - - - - - - - - - - - - - - - - - - - - - - - - - - - - "
   ]
  },
  {
   "cell_type": "markdown",
   "metadata": {
    "id": "nHqUsi2TYeM2"
   },
   "source": [
    "     © Great Learning. Proprietary content. All Rights Reserved. Unauthorised use or distribution prohibited "
   ]
  }
 ],
 "metadata": {
  "colab": {
   "name": "Visualization - Credit_card_Fraud_Data_Analysis.ipynb",
   "provenance": []
  },
  "kernelspec": {
   "display_name": "Python 3 (ipykernel)",
   "language": "python",
   "name": "python3"
  },
  "language_info": {
   "codemirror_mode": {
    "name": "ipython",
    "version": 3
   },
   "file_extension": ".py",
   "mimetype": "text/x-python",
   "name": "python",
   "nbconvert_exporter": "python",
   "pygments_lexer": "ipython3",
   "version": "3.9.7"
  }
 },
 "nbformat": 4,
 "nbformat_minor": 1
}
