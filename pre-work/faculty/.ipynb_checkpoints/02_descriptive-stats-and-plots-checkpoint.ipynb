{
 "cells": [
  {
   "cell_type": "markdown",
   "metadata": {
    "id": "t2Y01gkHIZRP"
   },
   "source": [
    "# 1. Objective\n",
    "\n",
    "To introduce the methods to describe and visualize variation in data"
   ]
  },
  {
   "cell_type": "markdown",
   "metadata": {
    "id": "--xP5NUJIba8"
   },
   "source": [
    "## 1.1 Preliminaries"
   ]
  },
  {
   "cell_type": "code",
   "execution_count": 1,
   "metadata": {
    "executionInfo": {
     "elapsed": 588,
     "status": "ok",
     "timestamp": 1636805031255,
     "user": {
      "displayName": "Pavankumar Gurazada",
      "photoUrl": "https://lh3.googleusercontent.com/a/default-user=s64",
      "userId": "18187825277142859249"
     },
     "user_tz": -330
    },
    "id": "XFI5vxha9QB_"
   },
   "outputs": [],
   "source": [
    "import pandas as pd\n",
    "import numpy as np\n",
    "\n",
    "import scipy.stats as stats\n",
    "\n",
    "import matplotlib.pyplot as plt"
   ]
  },
  {
   "cell_type": "markdown",
   "metadata": {
    "id": "BDOgbqFchg_-"
   },
   "source": [
    "# 2. Central Tendency & Variation"
   ]
  },
  {
   "cell_type": "markdown",
   "metadata": {
    "id": "8j3Tu-cv4KSg"
   },
   "source": [
    "Let us assume that we are placing a machine learning model that demonstrated 80% accuracy during the development phase into production. We want to track its accuracy before a complete rollout. We test the model for 2 weeks running it on 100 samples randomly drawn from each day's data. The accuracy data is presented below."
   ]
  },
  {
   "cell_type": "code",
   "execution_count": 2,
   "metadata": {
    "cellView": "form",
    "executionInfo": {
     "elapsed": 89,
     "status": "ok",
     "timestamp": 1636805032167,
     "user": {
      "displayName": "Pavankumar Gurazada",
      "photoUrl": "https://lh3.googleusercontent.com/a/default-user=s64",
      "userId": "18187825277142859249"
     },
     "user_tz": -330
    },
    "id": "r5HWy5UWr5Kf"
   },
   "outputs": [],
   "source": [
    "#@title Data from a model tested for two weeks on samples of live data\n",
    "model_accuracy_data = np.random.normal(loc=0.8, scale=0.1, size=14)\n",
    "model_accuracy_production = pd.Series(model_accuracy_data, \n",
    "                                      name='accuracy_in_production',\n",
    "                                      index=['day_'+ str(i+1) for i in range(14)])"
   ]
  },
  {
   "cell_type": "code",
   "execution_count": 3,
   "metadata": {
    "colab": {
     "base_uri": "https://localhost:8080/"
    },
    "executionInfo": {
     "elapsed": 207,
     "status": "ok",
     "timestamp": 1636805032288,
     "user": {
      "displayName": "Pavankumar Gurazada",
      "photoUrl": "https://lh3.googleusercontent.com/a/default-user=s64",
      "userId": "18187825277142859249"
     },
     "user_tz": -330
    },
    "id": "5qQbsClSsIGS",
    "outputId": "0a7f89a6-e63e-4451-cf46-397dad2633bc"
   },
   "outputs": [
    {
     "data": {
      "text/plain": [
       "day_1     0.763057\n",
       "day_2     0.781210\n",
       "day_3     0.979077\n",
       "day_4     0.690438\n",
       "day_5     0.750227\n",
       "day_6     0.816643\n",
       "day_7     0.759625\n",
       "day_8     0.752060\n",
       "day_9     0.951562\n",
       "day_10    0.765744\n",
       "day_11    0.702244\n",
       "day_12    0.738435\n",
       "day_13    0.784944\n",
       "day_14    0.720259\n",
       "Name: accuracy_in_production, dtype: float64"
      ]
     },
     "execution_count": 3,
     "metadata": {},
     "output_type": "execute_result"
    }
   ],
   "source": [
    "model_accuracy_production"
   ]
  },
  {
   "cell_type": "markdown",
   "metadata": {
    "id": "pbruxv3f6SLr"
   },
   "source": [
    "The number of predictions per day is constant, but there is variation in accuracy due to the randomness associated with the model performance."
   ]
  },
  {
   "cell_type": "code",
   "execution_count": 4,
   "metadata": {
    "colab": {
     "base_uri": "https://localhost:8080/"
    },
    "executionInfo": {
     "elapsed": 202,
     "status": "ok",
     "timestamp": 1636805032289,
     "user": {
      "displayName": "Pavankumar Gurazada",
      "photoUrl": "https://lh3.googleusercontent.com/a/default-user=s64",
      "userId": "18187825277142859249"
     },
     "user_tz": -330
    },
    "id": "WrbWEKi65HCm",
    "outputId": "1b5fa1d2-ae5f-40ad-dcf3-656183e0ce8d"
   },
   "outputs": [
    {
     "data": {
      "text/plain": [
       "0.6904378564633136"
      ]
     },
     "execution_count": 4,
     "metadata": {},
     "output_type": "execute_result"
    }
   ],
   "source": [
    "model_accuracy_production.min()"
   ]
  },
  {
   "cell_type": "code",
   "execution_count": 5,
   "metadata": {
    "colab": {
     "base_uri": "https://localhost:8080/"
    },
    "executionInfo": {
     "elapsed": 200,
     "status": "ok",
     "timestamp": 1636805032291,
     "user": {
      "displayName": "Pavankumar Gurazada",
      "photoUrl": "https://lh3.googleusercontent.com/a/default-user=s64",
      "userId": "18187825277142859249"
     },
     "user_tz": -330
    },
    "id": "x0eQjQDH6fGX",
    "outputId": "82427c50-5522-4d23-c91a-b87f63aa985d"
   },
   "outputs": [
    {
     "data": {
      "text/plain": [
       "0.9790765264567556"
      ]
     },
     "execution_count": 5,
     "metadata": {},
     "output_type": "execute_result"
    }
   ],
   "source": [
    "model_accuracy_production.max()"
   ]
  },
  {
   "cell_type": "markdown",
   "metadata": {
    "id": "QLw3cYXghkuW"
   },
   "source": [
    "## 2.1 Mean and Median\n",
    "\n",
    "The mean is the average of all the observations in the sample.\n",
    "The median is the point that divides all observations in the sample into two equal halves, that is, 50% of the data lies below this value.\n",
    "\n",
    "The mean is sensitive to extraordinarily high or low observations, while the median is relatively robust to such outliers.\n",
    "\n",
    " For a sample of observations $X = \\{x_1, x_2, \\ldots, x_n\\}$, the sample mean is \n",
    "\n",
    " $$\n",
    "\\bar{x} = \\dfrac{x_1 + x_2 + \\ldots + x_n}{n}\n",
    " $$\n"
   ]
  },
  {
   "cell_type": "code",
   "execution_count": 6,
   "metadata": {
    "colab": {
     "base_uri": "https://localhost:8080/"
    },
    "executionInfo": {
     "elapsed": 198,
     "status": "ok",
     "timestamp": 1636805032297,
     "user": {
      "displayName": "Pavankumar Gurazada",
      "photoUrl": "https://lh3.googleusercontent.com/a/default-user=s64",
      "userId": "18187825277142859249"
     },
     "user_tz": -330
    },
    "id": "FcpKU8XQ43NB",
    "outputId": "93b2c909-44b0-4352-981c-008d3a2a2bfb"
   },
   "outputs": [
    {
     "data": {
      "text/plain": [
       "0.7825374789985704"
      ]
     },
     "execution_count": 6,
     "metadata": {},
     "output_type": "execute_result"
    }
   ],
   "source": [
    "model_accuracy_production.mean()"
   ]
  },
  {
   "cell_type": "code",
   "execution_count": 7,
   "metadata": {
    "colab": {
     "base_uri": "https://localhost:8080/"
    },
    "executionInfo": {
     "elapsed": 197,
     "status": "ok",
     "timestamp": 1636805032304,
     "user": {
      "displayName": "Pavankumar Gurazada",
      "photoUrl": "https://lh3.googleusercontent.com/a/default-user=s64",
      "userId": "18187825277142859249"
     },
     "user_tz": -330
    },
    "id": "dziT9FC5s6HI",
    "outputId": "58ce47cd-5e1a-4dfe-d663-9b105876b331"
   },
   "outputs": [
    {
     "data": {
      "text/plain": [
       "0.7613409624616461"
      ]
     },
     "execution_count": 7,
     "metadata": {},
     "output_type": "execute_result"
    }
   ],
   "source": [
    "model_accuracy_production.median()"
   ]
  },
  {
   "cell_type": "markdown",
   "metadata": {
    "id": "kCdw1DoAh3-p"
   },
   "source": [
    "## 2.2 Quartiles\n",
    "\n",
    "Quartiles divide the observations in the sample to four equal parts - 25% ($Q_1$), 50% ($Q_2$ = median), 75% ($Q_3$).\n"
   ]
  },
  {
   "cell_type": "code",
   "execution_count": 8,
   "metadata": {
    "colab": {
     "base_uri": "https://localhost:8080/"
    },
    "executionInfo": {
     "elapsed": 198,
     "status": "ok",
     "timestamp": 1636805032308,
     "user": {
      "displayName": "Pavankumar Gurazada",
      "photoUrl": "https://lh3.googleusercontent.com/a/default-user=s64",
      "userId": "18187825277142859249"
     },
     "user_tz": -330
    },
    "id": "nKWqjDuDtT15",
    "outputId": "15ec0012-9766-4eed-d113-916f7a589f41"
   },
   "outputs": [
    {
     "data": {
      "text/plain": [
       "0.7413833127275411"
      ]
     },
     "execution_count": 8,
     "metadata": {},
     "output_type": "execute_result"
    }
   ],
   "source": [
    "model_accuracy_production.quantile(0.25)"
   ]
  },
  {
   "cell_type": "code",
   "execution_count": 9,
   "metadata": {
    "colab": {
     "base_uri": "https://localhost:8080/"
    },
    "executionInfo": {
     "elapsed": 196,
     "status": "ok",
     "timestamp": 1636805032309,
     "user": {
      "displayName": "Pavankumar Gurazada",
      "photoUrl": "https://lh3.googleusercontent.com/a/default-user=s64",
      "userId": "18187825277142859249"
     },
     "user_tz": -330
    },
    "id": "Y37XkGcGtX-x",
    "outputId": "6102bef9-c9a1-41b0-832e-c88509ea7110"
   },
   "outputs": [
    {
     "data": {
      "text/plain": [
       "0.7840104097878517"
      ]
     },
     "execution_count": 9,
     "metadata": {},
     "output_type": "execute_result"
    }
   ],
   "source": [
    "model_accuracy_production.quantile(0.75)"
   ]
  },
  {
   "cell_type": "markdown",
   "metadata": {
    "id": "Pe3a4SZSh2nk"
   },
   "source": [
    "## 2.3 Standard Deviation\n",
    "\n",
    "The standard deviation indicates on an average how far the observations in the sample are from the sample mean. For the sample $X$, the standard deviation $s_X$ is:\n",
    "\n",
    "$$\n",
    "s_X = \\sqrt{\\dfrac{\\Sigma_i^n(x_i - \\bar{x})^2}{n}}\n",
    "$$\n"
   ]
  },
  {
   "cell_type": "code",
   "execution_count": 10,
   "metadata": {
    "colab": {
     "base_uri": "https://localhost:8080/"
    },
    "executionInfo": {
     "elapsed": 209,
     "status": "ok",
     "timestamp": 1636805032325,
     "user": {
      "displayName": "Pavankumar Gurazada",
      "photoUrl": "https://lh3.googleusercontent.com/a/default-user=s64",
      "userId": "18187825277142859249"
     },
     "user_tz": -330
    },
    "id": "d3nS4poqsywu",
    "outputId": "7bfe5725-c337-4f65-dfc7-fb8e3fd778af"
   },
   "outputs": [
    {
     "data": {
      "text/plain": [
       "0.08425231522697807"
      ]
     },
     "execution_count": 10,
     "metadata": {},
     "output_type": "execute_result"
    }
   ],
   "source": [
    "model_accuracy_production.std()"
   ]
  },
  {
   "cell_type": "markdown",
   "metadata": {
    "id": "ZoFSwPcUKJpL"
   },
   "source": [
    "## 2.4 Descriptive statistics"
   ]
  },
  {
   "cell_type": "markdown",
   "metadata": {
    "id": "Um1auO2QKRLw"
   },
   "source": [
    "Put together these different measures give an idea of the variation around the mean in the data."
   ]
  },
  {
   "cell_type": "code",
   "execution_count": 11,
   "metadata": {
    "colab": {
     "base_uri": "https://localhost:8080/"
    },
    "executionInfo": {
     "elapsed": 208,
     "status": "ok",
     "timestamp": 1636805032332,
     "user": {
      "displayName": "Pavankumar Gurazada",
      "photoUrl": "https://lh3.googleusercontent.com/a/default-user=s64",
      "userId": "18187825277142859249"
     },
     "user_tz": -330
    },
    "id": "U5bm9WYlKJCY",
    "outputId": "770a02bd-d420-42b2-965f-0d1266ce1945"
   },
   "outputs": [
    {
     "data": {
      "text/plain": [
       "count    14.000000\n",
       "mean      0.782537\n",
       "std       0.084252\n",
       "min       0.690438\n",
       "25%       0.741383\n",
       "50%       0.761341\n",
       "75%       0.784010\n",
       "max       0.979077\n",
       "Name: accuracy_in_production, dtype: float64"
      ]
     },
     "execution_count": 11,
     "metadata": {},
     "output_type": "execute_result"
    }
   ],
   "source": [
    "model_accuracy_production.describe()"
   ]
  },
  {
   "cell_type": "markdown",
   "metadata": {
    "id": "dmJ-7q_4h9VJ"
   },
   "source": [
    "# 3. Plotting variation"
   ]
  },
  {
   "cell_type": "markdown",
   "metadata": {
    "id": "gomfKBYdwFvk"
   },
   "source": [
    "## 3.1 Box plot"
   ]
  },
  {
   "cell_type": "markdown",
   "metadata": {
    "id": "lEVjwTm-LaGq"
   },
   "source": [
    "A good way to visually represent all the measures we discussed in section 2 against the descriptive statistics is a box plot"
   ]
  },
  {
   "cell_type": "markdown",
   "metadata": {
    "id": "p3pgq13gMMrZ"
   },
   "source": [
    "\n",
    "\n",
    "<img src=\"https://matplotlib.org/stable/_images/boxplot_explanation.png\" width=\"500\" />"
   ]
  },
  {
   "cell_type": "code",
   "execution_count": 12,
   "metadata": {
    "colab": {
     "base_uri": "https://localhost:8080/",
     "height": 228
    },
    "executionInfo": {
     "elapsed": 204,
     "status": "ok",
     "timestamp": 1636805032333,
     "user": {
      "displayName": "Pavankumar Gurazada",
      "photoUrl": "https://lh3.googleusercontent.com/a/default-user=s64",
      "userId": "18187825277142859249"
     },
     "user_tz": -330
    },
    "id": "dtld_aO2hkIb",
    "outputId": "da46e27e-adaf-4552-e765-fee0db554009"
   },
   "outputs": [
    {
     "data": {
      "text/plain": [
       "<matplotlib.axes._subplots.AxesSubplot at 0x7f8986035a10>"
      ]
     },
     "execution_count": 12,
     "metadata": {},
     "output_type": "execute_result"
    },
    {
     "data": {
      "image/png": "[encoded data removed]",
      "text/plain": [
       "<Figure size 864x216 with 1 Axes>"
      ]
     },
     "metadata": {
      "needs_background": "light"
     },
     "output_type": "display_data"
    }
   ],
   "source": [
    "model_accuracy_production.plot.box(vert=False, \n",
    "                                   figsize=(12, 3))"
   ]
  },
  {
   "cell_type": "markdown",
   "metadata": {
    "id": "jZIQB2K3wHqX"
   },
   "source": [
    "## 3.2 Histogram"
   ]
  },
  {
   "cell_type": "code",
   "execution_count": 13,
   "metadata": {
    "colab": {
     "base_uri": "https://localhost:8080/",
     "height": 228
    },
    "executionInfo": {
     "elapsed": 574,
     "status": "ok",
     "timestamp": 1636805032708,
     "user": {
      "displayName": "Pavankumar Gurazada",
      "photoUrl": "https://lh3.googleusercontent.com/a/default-user=s64",
      "userId": "18187825277142859249"
     },
     "user_tz": -330
    },
    "id": "OM3KtmhTv-oS",
    "outputId": "2206593c-58cc-4aac-a6f6-e068a305c3ad"
   },
   "outputs": [
    {
     "data": {
      "text/plain": [
       "<matplotlib.axes._subplots.AxesSubplot at 0x7f8985f988d0>"
      ]
     },
     "execution_count": 13,
     "metadata": {},
     "output_type": "execute_result"
    },
    {
     "data": {
      "image/png": "[encoded data removed]",
      "text/plain": [
       "<Figure size 864x216 with 1 Axes>"
      ]
     },
     "metadata": {
      "needs_background": "light"
     },
     "output_type": "display_data"
    }
   ],
   "source": [
    "model_accuracy_production.plot.hist(figsize=(12, 3))"
   ]
  },
  {
   "cell_type": "markdown",
   "metadata": {
    "id": "-R68xT0YOh1h"
   },
   "source": [
    "# 4. Case Study - Project Hulk"
   ]
  },
  {
   "cell_type": "markdown",
   "metadata": {
    "id": "cuyWW84sxCBc"
   },
   "source": [
    "Hotstar's dev team organize 'game day' simulations to test the load on their streaming service. During these periods the pattern of match watching viewers is replicated and the infrastructure is put to the test. They refer to this as [Project Hulk](https://www.slideshare.net/AWSUsersGroupBengalu/scaling-hotstarcom-for-10-million-concurrent-viewers). "
   ]
  },
  {
   "cell_type": "code",
   "execution_count": 17,
   "metadata": {
    "cellView": "form",
    "colab": {
     "base_uri": "https://localhost:8080/",
     "height": 337
    },
    "executionInfo": {
     "elapsed": 805,
     "status": "ok",
     "timestamp": 1636805099831,
     "user": {
      "displayName": "Pavankumar Gurazada",
      "photoUrl": "https://lh3.googleusercontent.com/a/default-user=s64",
      "userId": "18187825277142859249"
     },
     "user_tz": -330
    },
    "id": "_nbmFov0tcTb",
    "outputId": "fb719856-570d-4265-f998-6471c31d77a1"
   },
   "outputs": [
    {
     "data": {
      "text/plain": [
       "<matplotlib.axes._subplots.AxesSubplot at 0x7f897c2f5f10>"
      ]
     },
     "execution_count": 17,
     "metadata": {},
     "output_type": "execute_result"
    },
    {
     "data": {
      "image/png": "[encoded data removed]",
      "text/plain": [
       "<Figure size 1296x360 with 1 Axes>"
      ]
     },
     "metadata": {
      "needs_background": "light"
     },
     "output_type": "display_data"
    }
   ],
   "source": [
    "#@title Data with concurrent users streaming an IPL match\n",
    "from sklearn.datasets import make_blobs\n",
    "from sklearn.mixture import GaussianMixture\n",
    "\n",
    "time_index= pd.date_range(start='2021-10-11 14:00:00',\n",
    "                          periods=180,\n",
    "                          freq='T')\n",
    "\n",
    "X, y_true = make_blobs(n_samples=(50, 50, 20, 60), \n",
    "                       n_features=1,\n",
    "                       centers=None,\n",
    "                       center_box=[3, 30],\n",
    "                       cluster_std=1.0, \n",
    "                       random_state=20130810)\n",
    "\n",
    "learner_gmm = GaussianMixture(n_components=4).fit(X)\n",
    "\n",
    "concurrent_users_per_minute = pd.Series(learner_gmm.sample(time_index.size)[0].flatten(),\n",
    "                                        index=time_index,\n",
    "                                        name='concurrent_users_per_minute')\n",
    "\n",
    "concurrent_users_per_minute.plot(figsize=(18, 5))"
   ]
  },
  {
   "cell_type": "markdown",
   "metadata": {
    "id": "M1GExz6Eu5K3"
   },
   "source": [
    "Planning for the 'game day' simulation will need us to establish the stress points pattern accounting for the stretch that might happen during peak times."
   ]
  },
  {
   "cell_type": "code",
   "execution_count": 18,
   "metadata": {
    "cellView": "form",
    "colab": {
     "base_uri": "https://localhost:8080/",
     "height": 336
    },
    "executionInfo": {
     "elapsed": 2038,
     "status": "ok",
     "timestamp": 1636805190571,
     "user": {
      "displayName": "Pavankumar Gurazada",
      "photoUrl": "https://lh3.googleusercontent.com/a/default-user=s64",
      "userId": "18187825277142859249"
     },
     "user_tz": -330
    },
    "id": "cHhmE_T7tNjR",
    "outputId": "924a66d1-c9ab-450c-9bda-be6aacc73eb3"
   },
   "outputs": [
    {
     "data": {
      "image/png": "[encoded data removed]",
      "text/plain": [
       "<Figure size 1296x360 with 1 Axes>"
      ]
     },
     "metadata": {
      "needs_background": "light"
     },
     "output_type": "display_data"
    }
   ],
   "source": [
    "#@title Create Bollinger Bounds using the mean and standard deviation\n",
    "# Assuming roughly 5 minutes per over\n",
    "concurrent_users_per_minute_ma_5 = (concurrent_users_per_minute.rolling(window=5)\n",
    "                                                               .mean())\n",
    "\n",
    "concurrent_users_per_minute_sd_5 = (concurrent_users_per_minute.rolling(window=5)\n",
    "                                                               .std())\n",
    "\n",
    "concurrent_users_per_minute_lb = concurrent_users_per_minute_ma_5 - 2 * concurrent_users_per_minute_sd_5\n",
    "concurrent_users_per_minute_ub = concurrent_users_per_minute_ma_5 + 2 * concurrent_users_per_minute_sd_5\n",
    "\n",
    "plt.figure(figsize=(18, 5))\n",
    "\n",
    "plt.plot(time_index, concurrent_users_per_minute)\n",
    "plt.plot(time_index,\n",
    "         concurrent_users_per_minute_lb,\n",
    "         alpha=0.3)\n",
    "plt.plot(time_index,\n",
    "         concurrent_users_per_minute_ub,\n",
    "         alpha=0.3)\n",
    "plt.fill_between(time_index, \n",
    "                 concurrent_users_per_minute_ub, \n",
    "                 concurrent_users_per_minute_lb, \n",
    "                 color='grey', alpha=0.1)\n",
    "\n",
    "plt.title('Upper and lower bounds for the stress test');"
   ]
  },
  {
   "cell_type": "markdown",
   "metadata": {
    "id": "St2cLgIme4cf"
   },
   "source": [
    "# Summary\n",
    "\n",
    "1. The mean estimates the center of a numeric variable, while the standard deviation estimates the dispersion of individual values around the center\n",
    "\n",
    "2. The mean and standard devition are heavily influenced by outliers, so in such cases, the median & IQR might be better estimates of the center and the variation"
   ]
  }
 ],
 "metadata": {
  "colab": {
   "authorship_tag": "ABX9TyNqaD/pHe4dpsxiBqmSKP23",
   "collapsed_sections": [],
   "name": "02_descriptive-stats-and-plots.ipynb",
   "provenance": []
  },
  "kernelspec": {
   "display_name": "Python 3 (ipykernel)",
   "language": "python",
   "name": "python3"
  },
  "language_info": {
   "codemirror_mode": {
    "name": "ipython",
    "version": 3
   },
   "file_extension": ".py",
   "mimetype": "text/x-python",
   "name": "python",
   "nbconvert_exporter": "python",
   "pygments_lexer": "ipython3",
   "version": "3.9.7"
  }
 },
 "nbformat": 4,
 "nbformat_minor": 1
}
