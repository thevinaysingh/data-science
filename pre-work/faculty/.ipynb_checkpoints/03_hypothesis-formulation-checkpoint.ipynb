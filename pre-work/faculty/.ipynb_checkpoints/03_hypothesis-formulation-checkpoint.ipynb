{
 "cells": [
  {
   "cell_type": "markdown",
   "metadata": {
    "id": "eqnNw70JiOlp"
   },
   "source": [
    "# 1. Objective\n",
    "\n",
    "To introduce the notion of random samples and hypothesis testing"
   ]
  },
  {
   "cell_type": "markdown",
   "metadata": {
    "id": "BUXCtOz7iQ_y"
   },
   "source": [
    "## 1.1 Preliminaries"
   ]
  },
  {
   "cell_type": "code",
   "execution_count": 1,
   "metadata": {
    "executionInfo": {
     "elapsed": 590,
     "status": "ok",
     "timestamp": 1637485776816,
     "user": {
      "displayName": "Pavankumar Gurazada",
      "photoUrl": "https://lh3.googleusercontent.com/a/default-user=s64",
      "userId": "18187825277142859249"
     },
     "user_tz": -330
    },
    "id": "jY14IIifiKn7"
   },
   "outputs": [],
   "source": [
    "import pandas as pd\n",
    "import numpy as np\n",
    "\n",
    "import scipy.stats as st\n",
    "\n",
    "import altair as alt"
   ]
  },
  {
   "cell_type": "markdown",
   "metadata": {
    "id": "cmTCnSXOicnz"
   },
   "source": [
    "# 2. Random samples"
   ]
  },
  {
   "cell_type": "markdown",
   "metadata": {
    "id": "wD75X4QR1Y4-"
   },
   "source": [
    "The focus of descriptive statistics is in describing a sample of data. However, when we want to ascertain if the characteristics of a sample hold in the larger population from which this sample was drawn, randomness becomes important.\n"
   ]
  },
  {
   "cell_type": "markdown",
   "metadata": {
    "id": "Gz04lKORWCVx"
   },
   "source": [
    "Imagine that you are a part of Google Pay's development team, and you have rolled out a new feature recently. You want to understand if the feature rolled out was perceived to lead to a better user experience compared with your competitor PhonePe. You want to take a sample of existing customers and push a survey to them comparing your app with PhonePe."
   ]
  },
  {
   "cell_type": "code",
   "execution_count": null,
   "metadata": {
    "cellView": "form",
    "colab": {
     "base_uri": "https://localhost:8080/",
     "height": 468
    },
    "executionInfo": {
     "elapsed": 523,
     "status": "ok",
     "timestamp": 1636797567653,
     "user": {
      "displayName": "Pavankumar Gurazada",
      "photoUrl": "https://lh3.googleusercontent.com/a/default-user=s64",
      "userId": "18187825277142859249"
     },
     "user_tz": -330
    },
    "id": "doOhyeWORfjr",
    "outputId": "92220dfb-9dda-476f-8446-6e8649d3d63c"
   },
   "outputs": [
    {
     "data": {
      "text/html": [
       "\n",
       "<div id=\"altair-viz-e5fe6f84378c4b65bbf9c2b53d49e030\"></div>\n",
       "<script type=\"text/javascript\">\n",
       "  (function(spec, embedOpt){\n",
       "    let outputDiv = document.currentScript.previousElementSibling;\n",
       "    if (outputDiv.id !== \"altair-viz-e5fe6f84378c4b65bbf9c2b53d49e030\") {\n",
       "      outputDiv = document.getElementById(\"altair-viz-e5fe6f84378c4b65bbf9c2b53d49e030\");\n",
       "    }\n",
       "    const paths = {\n",
       "      \"vega\": \"https://cdn.jsdelivr.net/npm//vega@5?noext\",\n",
       "      \"vega-lib\": \"https://cdn.jsdelivr.net/npm//vega-lib?noext\",\n",
       "      \"vega-lite\": \"https://cdn.jsdelivr.net/npm//vega-lite@4.8.1?noext\",\n",
       "      \"vega-embed\": \"https://cdn.jsdelivr.net/npm//vega-embed@6?noext\",\n",
       "    };\n",
       "\n",
       "    function loadScript(lib) {\n",
       "      return new Promise(function(resolve, reject) {\n",
       "        var s = document.createElement('script');\n",
       "        s.src = paths[lib];\n",
       "        s.async = true;\n",
       "        s.onload = () => resolve(paths[lib]);\n",
       "        s.onerror = () => reject(`Error loading script: ${paths[lib]}`);\n",
       "        document.getElementsByTagName(\"head\")[0].appendChild(s);\n",
       "      });\n",
       "    }\n",
       "\n",
       "    function showError(err) {\n",
       "      outputDiv.innerHTML = `<div class=\"error\" style=\"color:red;\">${err}</div>`;\n",
       "      throw err;\n",
       "    }\n",
       "\n",
       "    function displayChart(vegaEmbed) {\n",
       "      vegaEmbed(outputDiv, spec, embedOpt)\n",
       "        .catch(err => showError(`Javascript Error: ${err.message}<br>This usually means there's a typo in your chart specification. See the javascript console for the full traceback.`));\n",
       "    }\n",
       "\n",
       "    if(typeof define === \"function\" && define.amd) {\n",
       "      requirejs.config({paths});\n",
       "      require([\"vega-embed\"], displayChart, err => showError(`Error loading script: ${err.message}`));\n",
       "    } else if (typeof vegaEmbed === \"function\") {\n",
       "      displayChart(vegaEmbed);\n",
       "    } else {\n",
       "      loadScript(\"vega\")\n",
       "        .then(() => loadScript(\"vega-lite\"))\n",
       "        .then(() => loadScript(\"vega-embed\"))\n",
       "        .catch(showError)\n",
       "        .then(() => displayChart(vegaEmbed));\n",
       "    }\n",
       "  })({\"config\": {\"view\": {\"continuousWidth\": 400, \"continuousHeight\": 300}}, \"data\": {\"name\": \"data-300f03c651b126b670ea12a2707a6b79\"}, \"mark\": {\"type\": \"circle\", \"size\": 100}, \"encoding\": {\"x\": {\"type\": \"quantitative\", \"axis\": {\"grid\": false}, \"field\": \"age\"}, \"y\": {\"type\": \"quantitative\", \"axis\": {\"grid\": false}, \"field\": \"avg_income_lakh\"}}, \"height\": 400, \"selection\": {\"selector001\": {\"type\": \"interval\", \"bind\": \"scales\", \"encodings\": [\"x\", \"y\"]}}, \"width\": 600, \"$schema\": \"https://vega.github.io/schema/vega-lite/v4.8.1.json\", \"datasets\": {\"data-300f03c651b126b670ea12a2707a6b79\": [{\"age\": 53, \"avg_income_lakh\": 25, \"preferred_gateway\": \"PhonePe\"}, {\"age\": 25, \"avg_income_lakh\": 37, \"preferred_gateway\": \"PhonePe\"}, {\"age\": 38, \"avg_income_lakh\": 29, \"preferred_gateway\": \"PhonePe\"}, {\"age\": 63, \"avg_income_lakh\": 38, \"preferred_gateway\": \"PhonePe\"}, {\"age\": 33, \"avg_income_lakh\": 32, \"preferred_gateway\": \"Google Pay\"}, {\"age\": 52, \"avg_income_lakh\": 21, \"preferred_gateway\": \"Google Pay\"}, {\"age\": 65, \"avg_income_lakh\": 26, \"preferred_gateway\": \"Google Pay\"}, {\"age\": 58, \"avg_income_lakh\": 20, \"preferred_gateway\": \"Google Pay\"}, {\"age\": 54, \"avg_income_lakh\": 23, \"preferred_gateway\": \"Google Pay\"}, {\"age\": 70, \"avg_income_lakh\": 31, \"preferred_gateway\": \"PhonePe\"}, {\"age\": 66, \"avg_income_lakh\": 35, \"preferred_gateway\": \"PhonePe\"}, {\"age\": 38, \"avg_income_lakh\": 20, \"preferred_gateway\": \"Google Pay\"}, {\"age\": 33, \"avg_income_lakh\": 33, \"preferred_gateway\": \"PhonePe\"}, {\"age\": 30, \"avg_income_lakh\": 34, \"preferred_gateway\": \"Google Pay\"}, {\"age\": 45, \"avg_income_lakh\": 32, \"preferred_gateway\": \"PhonePe\"}, {\"age\": 61, \"avg_income_lakh\": 27, \"preferred_gateway\": \"PhonePe\"}, {\"age\": 28, \"avg_income_lakh\": 26, \"preferred_gateway\": \"Google Pay\"}, {\"age\": 44, \"avg_income_lakh\": 34, \"preferred_gateway\": \"Google Pay\"}, {\"age\": 41, \"avg_income_lakh\": 34, \"preferred_gateway\": \"Google Pay\"}, {\"age\": 52, \"avg_income_lakh\": 31, \"preferred_gateway\": \"Google Pay\"}, {\"age\": 43, \"avg_income_lakh\": 29, \"preferred_gateway\": \"PhonePe\"}, {\"age\": 33, \"avg_income_lakh\": 35, \"preferred_gateway\": \"Google Pay\"}, {\"age\": 53, \"avg_income_lakh\": 20, \"preferred_gateway\": \"PhonePe\"}, {\"age\": 46, \"avg_income_lakh\": 26, \"preferred_gateway\": \"PhonePe\"}, {\"age\": 60, \"avg_income_lakh\": 37, \"preferred_gateway\": \"PhonePe\"}, {\"age\": 69, \"avg_income_lakh\": 37, \"preferred_gateway\": \"PhonePe\"}, {\"age\": 55, \"avg_income_lakh\": 37, \"preferred_gateway\": \"PhonePe\"}, {\"age\": 48, \"avg_income_lakh\": 33, \"preferred_gateway\": \"PhonePe\"}, {\"age\": 37, \"avg_income_lakh\": 29, \"preferred_gateway\": \"PhonePe\"}, {\"age\": 62, \"avg_income_lakh\": 39, \"preferred_gateway\": \"Google Pay\"}, {\"age\": 66, \"avg_income_lakh\": 36, \"preferred_gateway\": \"PhonePe\"}, {\"age\": 31, \"avg_income_lakh\": 31, \"preferred_gateway\": \"PhonePe\"}, {\"age\": 37, \"avg_income_lakh\": 22, \"preferred_gateway\": \"Google Pay\"}, {\"age\": 33, \"avg_income_lakh\": 36, \"preferred_gateway\": \"Google Pay\"}, {\"age\": 39, \"avg_income_lakh\": 31, \"preferred_gateway\": \"Google Pay\"}, {\"age\": 31, \"avg_income_lakh\": 33, \"preferred_gateway\": \"PhonePe\"}, {\"age\": 31, \"avg_income_lakh\": 28, \"preferred_gateway\": \"Google Pay\"}, {\"age\": 59, \"avg_income_lakh\": 37, \"preferred_gateway\": \"PhonePe\"}, {\"age\": 49, \"avg_income_lakh\": 37, \"preferred_gateway\": \"Google Pay\"}, {\"age\": 64, \"avg_income_lakh\": 20, \"preferred_gateway\": \"PhonePe\"}, {\"age\": 65, \"avg_income_lakh\": 23, \"preferred_gateway\": \"Google Pay\"}, {\"age\": 68, \"avg_income_lakh\": 31, \"preferred_gateway\": \"Google Pay\"}, {\"age\": 71, \"avg_income_lakh\": 31, \"preferred_gateway\": \"PhonePe\"}, {\"age\": 44, \"avg_income_lakh\": 21, \"preferred_gateway\": \"PhonePe\"}, {\"age\": 25, \"avg_income_lakh\": 21, \"preferred_gateway\": \"Google Pay\"}, {\"age\": 54, \"avg_income_lakh\": 37, \"preferred_gateway\": \"PhonePe\"}, {\"age\": 61, \"avg_income_lakh\": 39, \"preferred_gateway\": \"PhonePe\"}, {\"age\": 25, \"avg_income_lakh\": 24, \"preferred_gateway\": \"Google Pay\"}, {\"age\": 29, \"avg_income_lakh\": 39, \"preferred_gateway\": \"Google Pay\"}, {\"age\": 69, \"avg_income_lakh\": 39, \"preferred_gateway\": \"Google Pay\"}, {\"age\": 47, \"avg_income_lakh\": 21, \"preferred_gateway\": \"Google Pay\"}, {\"age\": 33, \"avg_income_lakh\": 23, \"preferred_gateway\": \"PhonePe\"}, {\"age\": 71, \"avg_income_lakh\": 26, \"preferred_gateway\": \"Google Pay\"}, {\"age\": 49, \"avg_income_lakh\": 35, \"preferred_gateway\": \"PhonePe\"}, {\"age\": 55, \"avg_income_lakh\": 36, \"preferred_gateway\": \"PhonePe\"}, {\"age\": 48, \"avg_income_lakh\": 38, \"preferred_gateway\": \"Google Pay\"}, {\"age\": 67, \"avg_income_lakh\": 27, \"preferred_gateway\": \"Google Pay\"}, {\"age\": 74, \"avg_income_lakh\": 32, \"preferred_gateway\": \"Google Pay\"}, {\"age\": 39, \"avg_income_lakh\": 20, \"preferred_gateway\": \"Google Pay\"}, {\"age\": 52, \"avg_income_lakh\": 39, \"preferred_gateway\": \"Google Pay\"}, {\"age\": 57, \"avg_income_lakh\": 34, \"preferred_gateway\": \"Google Pay\"}, {\"age\": 69, \"avg_income_lakh\": 38, \"preferred_gateway\": \"PhonePe\"}, {\"age\": 66, \"avg_income_lakh\": 29, \"preferred_gateway\": \"Google Pay\"}, {\"age\": 38, \"avg_income_lakh\": 34, \"preferred_gateway\": \"Google Pay\"}, {\"age\": 46, \"avg_income_lakh\": 38, \"preferred_gateway\": \"Google Pay\"}, {\"age\": 32, \"avg_income_lakh\": 39, \"preferred_gateway\": \"Google Pay\"}, {\"age\": 62, \"avg_income_lakh\": 30, \"preferred_gateway\": \"Google Pay\"}, {\"age\": 66, \"avg_income_lakh\": 28, \"preferred_gateway\": \"Google Pay\"}, {\"age\": 58, \"avg_income_lakh\": 20, \"preferred_gateway\": \"Google Pay\"}, {\"age\": 67, \"avg_income_lakh\": 24, \"preferred_gateway\": \"PhonePe\"}, {\"age\": 54, \"avg_income_lakh\": 38, \"preferred_gateway\": \"PhonePe\"}, {\"age\": 32, \"avg_income_lakh\": 31, \"preferred_gateway\": \"PhonePe\"}, {\"age\": 59, \"avg_income_lakh\": 32, \"preferred_gateway\": \"Google Pay\"}, {\"age\": 48, \"avg_income_lakh\": 27, \"preferred_gateway\": \"PhonePe\"}, {\"age\": 37, \"avg_income_lakh\": 23, \"preferred_gateway\": \"PhonePe\"}, {\"age\": 63, \"avg_income_lakh\": 37, \"preferred_gateway\": \"Google Pay\"}, {\"age\": 35, \"avg_income_lakh\": 37, \"preferred_gateway\": \"PhonePe\"}, {\"age\": 59, \"avg_income_lakh\": 24, \"preferred_gateway\": \"PhonePe\"}, {\"age\": 62, \"avg_income_lakh\": 35, \"preferred_gateway\": \"Google Pay\"}, {\"age\": 28, \"avg_income_lakh\": 32, \"preferred_gateway\": \"PhonePe\"}, {\"age\": 25, \"avg_income_lakh\": 24, \"preferred_gateway\": \"Google Pay\"}, {\"age\": 26, \"avg_income_lakh\": 34, \"preferred_gateway\": \"Google Pay\"}, {\"age\": 34, \"avg_income_lakh\": 29, \"preferred_gateway\": \"Google Pay\"}, {\"age\": 40, \"avg_income_lakh\": 34, \"preferred_gateway\": \"Google Pay\"}, {\"age\": 60, \"avg_income_lakh\": 36, \"preferred_gateway\": \"Google Pay\"}, {\"age\": 27, \"avg_income_lakh\": 30, \"preferred_gateway\": \"Google Pay\"}, {\"age\": 73, \"avg_income_lakh\": 27, \"preferred_gateway\": \"Google Pay\"}, {\"age\": 36, \"avg_income_lakh\": 34, \"preferred_gateway\": \"PhonePe\"}, {\"age\": 56, \"avg_income_lakh\": 38, \"preferred_gateway\": \"PhonePe\"}, {\"age\": 35, \"avg_income_lakh\": 27, \"preferred_gateway\": \"Google Pay\"}, {\"age\": 36, \"avg_income_lakh\": 21, \"preferred_gateway\": \"PhonePe\"}, {\"age\": 35, \"avg_income_lakh\": 32, \"preferred_gateway\": \"Google Pay\"}, {\"age\": 55, \"avg_income_lakh\": 22, \"preferred_gateway\": \"PhonePe\"}, {\"age\": 63, \"avg_income_lakh\": 23, \"preferred_gateway\": \"PhonePe\"}, {\"age\": 43, \"avg_income_lakh\": 33, \"preferred_gateway\": \"Google Pay\"}, {\"age\": 57, \"avg_income_lakh\": 39, \"preferred_gateway\": \"Google Pay\"}, {\"age\": 35, \"avg_income_lakh\": 39, \"preferred_gateway\": \"PhonePe\"}, {\"age\": 53, \"avg_income_lakh\": 33, \"preferred_gateway\": \"PhonePe\"}, {\"age\": 67, \"avg_income_lakh\": 29, \"preferred_gateway\": \"PhonePe\"}, {\"age\": 71, \"avg_income_lakh\": 24, \"preferred_gateway\": \"PhonePe\"}]}}, {\"mode\": \"vega-lite\"});\n",
       "</script>"
      ],
      "text/plain": [
       "alt.Chart(...)"
      ]
     },
     "execution_count": 3,
     "metadata": {},
     "output_type": "execute_result"
    }
   ],
   "source": [
    "#@title Population of customers using both Google Pay & Phone Pe\n",
    "payment_preferences = pd.DataFrame({'age': np.random.choice(range(25, 75), 100),\n",
    "                                    'avg_income_lakh': np.random.choice(range(20, 40), 100),\n",
    "                                    'preferred_gateway': np.random.choice(['Google Pay', 'PhonePe'], 100)})\n",
    "\n",
    "(alt.Chart(payment_preferences)\n",
    "    .encode(alt.X('age:Q',\n",
    "                  axis=alt.Axis(grid=False)), \n",
    "            alt.Y('avg_income_lakh:Q',\n",
    "                  axis=alt.Axis(grid=False)))\n",
    "    .mark_circle(size=100)\n",
    "    .properties(width=600,\n",
    "                height=400)).interactive()"
   ]
  },
  {
   "cell_type": "code",
   "execution_count": null,
   "metadata": {
    "cellView": "form",
    "colab": {
     "base_uri": "https://localhost:8080/",
     "height": 468
    },
    "executionInfo": {
     "elapsed": 421,
     "status": "ok",
     "timestamp": 1636797614757,
     "user": {
      "displayName": "Pavankumar Gurazada",
      "photoUrl": "https://lh3.googleusercontent.com/a/default-user=s64",
      "userId": "18187825277142859249"
     },
     "user_tz": -330
    },
    "id": "L7drSR_qYWiK",
    "outputId": "0bd91339-66aa-4161-d0a7-e1899c9dc599"
   },
   "outputs": [
    {
     "data": {
      "text/html": [
       "\n",
       "<div id=\"altair-viz-b157bc2701d04af4acf4a1aa1d76c288\"></div>\n",
       "<script type=\"text/javascript\">\n",
       "  (function(spec, embedOpt){\n",
       "    let outputDiv = document.currentScript.previousElementSibling;\n",
       "    if (outputDiv.id !== \"altair-viz-b157bc2701d04af4acf4a1aa1d76c288\") {\n",
       "      outputDiv = document.getElementById(\"altair-viz-b157bc2701d04af4acf4a1aa1d76c288\");\n",
       "    }\n",
       "    const paths = {\n",
       "      \"vega\": \"https://cdn.jsdelivr.net/npm//vega@5?noext\",\n",
       "      \"vega-lib\": \"https://cdn.jsdelivr.net/npm//vega-lib?noext\",\n",
       "      \"vega-lite\": \"https://cdn.jsdelivr.net/npm//vega-lite@4.8.1?noext\",\n",
       "      \"vega-embed\": \"https://cdn.jsdelivr.net/npm//vega-embed@6?noext\",\n",
       "    };\n",
       "\n",
       "    function loadScript(lib) {\n",
       "      return new Promise(function(resolve, reject) {\n",
       "        var s = document.createElement('script');\n",
       "        s.src = paths[lib];\n",
       "        s.async = true;\n",
       "        s.onload = () => resolve(paths[lib]);\n",
       "        s.onerror = () => reject(`Error loading script: ${paths[lib]}`);\n",
       "        document.getElementsByTagName(\"head\")[0].appendChild(s);\n",
       "      });\n",
       "    }\n",
       "\n",
       "    function showError(err) {\n",
       "      outputDiv.innerHTML = `<div class=\"error\" style=\"color:red;\">${err}</div>`;\n",
       "      throw err;\n",
       "    }\n",
       "\n",
       "    function displayChart(vegaEmbed) {\n",
       "      vegaEmbed(outputDiv, spec, embedOpt)\n",
       "        .catch(err => showError(`Javascript Error: ${err.message}<br>This usually means there's a typo in your chart specification. See the javascript console for the full traceback.`));\n",
       "    }\n",
       "\n",
       "    if(typeof define === \"function\" && define.amd) {\n",
       "      requirejs.config({paths});\n",
       "      require([\"vega-embed\"], displayChart, err => showError(`Error loading script: ${err.message}`));\n",
       "    } else if (typeof vegaEmbed === \"function\") {\n",
       "      displayChart(vegaEmbed);\n",
       "    } else {\n",
       "      loadScript(\"vega\")\n",
       "        .then(() => loadScript(\"vega-lite\"))\n",
       "        .then(() => loadScript(\"vega-embed\"))\n",
       "        .catch(showError)\n",
       "        .then(() => displayChart(vegaEmbed));\n",
       "    }\n",
       "  })({\"config\": {\"view\": {\"continuousWidth\": 400, \"continuousHeight\": 300}}, \"data\": {\"name\": \"data-dc0cffa5da2fbb6db4966f79dd818cd0\"}, \"mark\": {\"type\": \"circle\", \"size\": 100}, \"encoding\": {\"color\": {\"type\": \"nominal\", \"field\": \"preferred_gateway_extreme\", \"scale\": {\"domain\": [\"PhonePe\", \"Google Pay\"], \"range\": [\"#6739B7\", \"#2DA94F\"]}}, \"x\": {\"type\": \"quantitative\", \"axis\": {\"grid\": false}, \"field\": \"age\"}, \"y\": {\"type\": \"quantitative\", \"axis\": {\"grid\": false}, \"field\": \"avg_income_lakh\"}}, \"height\": 400, \"selection\": {\"selector002\": {\"type\": \"interval\", \"bind\": \"scales\", \"encodings\": [\"x\", \"y\"]}}, \"width\": 600, \"$schema\": \"https://vega.github.io/schema/vega-lite/v4.8.1.json\", \"datasets\": {\"data-dc0cffa5da2fbb6db4966f79dd818cd0\": [{\"age\": 53, \"avg_income_lakh\": 25, \"preferred_gateway\": \"PhonePe\", \"preferred_gateway_extreme\": \"PhonePe\"}, {\"age\": 25, \"avg_income_lakh\": 37, \"preferred_gateway\": \"PhonePe\", \"preferred_gateway_extreme\": \"Google Pay\"}, {\"age\": 38, \"avg_income_lakh\": 29, \"preferred_gateway\": \"PhonePe\", \"preferred_gateway_extreme\": \"Google Pay\"}, {\"age\": 63, \"avg_income_lakh\": 38, \"preferred_gateway\": \"PhonePe\", \"preferred_gateway_extreme\": \"PhonePe\"}, {\"age\": 33, \"avg_income_lakh\": 32, \"preferred_gateway\": \"Google Pay\", \"preferred_gateway_extreme\": \"Google Pay\"}, {\"age\": 52, \"avg_income_lakh\": 21, \"preferred_gateway\": \"Google Pay\", \"preferred_gateway_extreme\": \"PhonePe\"}, {\"age\": 65, \"avg_income_lakh\": 26, \"preferred_gateway\": \"Google Pay\", \"preferred_gateway_extreme\": \"PhonePe\"}, {\"age\": 58, \"avg_income_lakh\": 20, \"preferred_gateway\": \"Google Pay\", \"preferred_gateway_extreme\": \"PhonePe\"}, {\"age\": 54, \"avg_income_lakh\": 23, \"preferred_gateway\": \"Google Pay\", \"preferred_gateway_extreme\": \"PhonePe\"}, {\"age\": 70, \"avg_income_lakh\": 31, \"preferred_gateway\": \"PhonePe\", \"preferred_gateway_extreme\": \"PhonePe\"}, {\"age\": 66, \"avg_income_lakh\": 35, \"preferred_gateway\": \"PhonePe\", \"preferred_gateway_extreme\": \"PhonePe\"}, {\"age\": 38, \"avg_income_lakh\": 20, \"preferred_gateway\": \"Google Pay\", \"preferred_gateway_extreme\": \"Google Pay\"}, {\"age\": 33, \"avg_income_lakh\": 33, \"preferred_gateway\": \"PhonePe\", \"preferred_gateway_extreme\": \"Google Pay\"}, {\"age\": 30, \"avg_income_lakh\": 34, \"preferred_gateway\": \"Google Pay\", \"preferred_gateway_extreme\": \"Google Pay\"}, {\"age\": 45, \"avg_income_lakh\": 32, \"preferred_gateway\": \"PhonePe\", \"preferred_gateway_extreme\": \"PhonePe\"}, {\"age\": 61, \"avg_income_lakh\": 27, \"preferred_gateway\": \"PhonePe\", \"preferred_gateway_extreme\": \"PhonePe\"}, {\"age\": 28, \"avg_income_lakh\": 26, \"preferred_gateway\": \"Google Pay\", \"preferred_gateway_extreme\": \"Google Pay\"}, {\"age\": 44, \"avg_income_lakh\": 34, \"preferred_gateway\": \"Google Pay\", \"preferred_gateway_extreme\": \"Google Pay\"}, {\"age\": 41, \"avg_income_lakh\": 34, \"preferred_gateway\": \"Google Pay\", \"preferred_gateway_extreme\": \"Google Pay\"}, {\"age\": 52, \"avg_income_lakh\": 31, \"preferred_gateway\": \"Google Pay\", \"preferred_gateway_extreme\": \"PhonePe\"}, {\"age\": 43, \"avg_income_lakh\": 29, \"preferred_gateway\": \"PhonePe\", \"preferred_gateway_extreme\": \"Google Pay\"}, {\"age\": 33, \"avg_income_lakh\": 35, \"preferred_gateway\": \"Google Pay\", \"preferred_gateway_extreme\": \"Google Pay\"}, {\"age\": 53, \"avg_income_lakh\": 20, \"preferred_gateway\": \"PhonePe\", \"preferred_gateway_extreme\": \"PhonePe\"}, {\"age\": 46, \"avg_income_lakh\": 26, \"preferred_gateway\": \"PhonePe\", \"preferred_gateway_extreme\": \"PhonePe\"}, {\"age\": 60, \"avg_income_lakh\": 37, \"preferred_gateway\": \"PhonePe\", \"preferred_gateway_extreme\": \"PhonePe\"}, {\"age\": 69, \"avg_income_lakh\": 37, \"preferred_gateway\": \"PhonePe\", \"preferred_gateway_extreme\": \"PhonePe\"}, {\"age\": 55, \"avg_income_lakh\": 37, \"preferred_gateway\": \"PhonePe\", \"preferred_gateway_extreme\": \"PhonePe\"}, {\"age\": 48, \"avg_income_lakh\": 33, \"preferred_gateway\": \"PhonePe\", \"preferred_gateway_extreme\": \"PhonePe\"}, {\"age\": 37, \"avg_income_lakh\": 29, \"preferred_gateway\": \"PhonePe\", \"preferred_gateway_extreme\": \"Google Pay\"}, {\"age\": 62, \"avg_income_lakh\": 39, \"preferred_gateway\": \"Google Pay\", \"preferred_gateway_extreme\": \"PhonePe\"}, {\"age\": 66, \"avg_income_lakh\": 36, \"preferred_gateway\": \"PhonePe\", \"preferred_gateway_extreme\": \"PhonePe\"}, {\"age\": 31, \"avg_income_lakh\": 31, \"preferred_gateway\": \"PhonePe\", \"preferred_gateway_extreme\": \"Google Pay\"}, {\"age\": 37, \"avg_income_lakh\": 22, \"preferred_gateway\": \"Google Pay\", \"preferred_gateway_extreme\": \"Google Pay\"}, {\"age\": 33, \"avg_income_lakh\": 36, \"preferred_gateway\": \"Google Pay\", \"preferred_gateway_extreme\": \"Google Pay\"}, {\"age\": 39, \"avg_income_lakh\": 31, \"preferred_gateway\": \"Google Pay\", \"preferred_gateway_extreme\": \"Google Pay\"}, {\"age\": 31, \"avg_income_lakh\": 33, \"preferred_gateway\": \"PhonePe\", \"preferred_gateway_extreme\": \"Google Pay\"}, {\"age\": 31, \"avg_income_lakh\": 28, \"preferred_gateway\": \"Google Pay\", \"preferred_gateway_extreme\": \"Google Pay\"}, {\"age\": 59, \"avg_income_lakh\": 37, \"preferred_gateway\": \"PhonePe\", \"preferred_gateway_extreme\": \"PhonePe\"}, {\"age\": 49, \"avg_income_lakh\": 37, \"preferred_gateway\": \"Google Pay\", \"preferred_gateway_extreme\": \"PhonePe\"}, {\"age\": 64, \"avg_income_lakh\": 20, \"preferred_gateway\": \"PhonePe\", \"preferred_gateway_extreme\": \"PhonePe\"}, {\"age\": 65, \"avg_income_lakh\": 23, \"preferred_gateway\": \"Google Pay\", \"preferred_gateway_extreme\": \"PhonePe\"}, {\"age\": 68, \"avg_income_lakh\": 31, \"preferred_gateway\": \"Google Pay\", \"preferred_gateway_extreme\": \"PhonePe\"}, {\"age\": 71, \"avg_income_lakh\": 31, \"preferred_gateway\": \"PhonePe\", \"preferred_gateway_extreme\": \"PhonePe\"}, {\"age\": 44, \"avg_income_lakh\": 21, \"preferred_gateway\": \"PhonePe\", \"preferred_gateway_extreme\": \"Google Pay\"}, {\"age\": 25, \"avg_income_lakh\": 21, \"preferred_gateway\": \"Google Pay\", \"preferred_gateway_extreme\": \"Google Pay\"}, {\"age\": 54, \"avg_income_lakh\": 37, \"preferred_gateway\": \"PhonePe\", \"preferred_gateway_extreme\": \"PhonePe\"}, {\"age\": 61, \"avg_income_lakh\": 39, \"preferred_gateway\": \"PhonePe\", \"preferred_gateway_extreme\": \"PhonePe\"}, {\"age\": 25, \"avg_income_lakh\": 24, \"preferred_gateway\": \"Google Pay\", \"preferred_gateway_extreme\": \"Google Pay\"}, {\"age\": 29, \"avg_income_lakh\": 39, \"preferred_gateway\": \"Google Pay\", \"preferred_gateway_extreme\": \"Google Pay\"}, {\"age\": 69, \"avg_income_lakh\": 39, \"preferred_gateway\": \"Google Pay\", \"preferred_gateway_extreme\": \"PhonePe\"}, {\"age\": 47, \"avg_income_lakh\": 21, \"preferred_gateway\": \"Google Pay\", \"preferred_gateway_extreme\": \"PhonePe\"}, {\"age\": 33, \"avg_income_lakh\": 23, \"preferred_gateway\": \"PhonePe\", \"preferred_gateway_extreme\": \"Google Pay\"}, {\"age\": 71, \"avg_income_lakh\": 26, \"preferred_gateway\": \"Google Pay\", \"preferred_gateway_extreme\": \"PhonePe\"}, {\"age\": 49, \"avg_income_lakh\": 35, \"preferred_gateway\": \"PhonePe\", \"preferred_gateway_extreme\": \"PhonePe\"}, {\"age\": 55, \"avg_income_lakh\": 36, \"preferred_gateway\": \"PhonePe\", \"preferred_gateway_extreme\": \"PhonePe\"}, {\"age\": 48, \"avg_income_lakh\": 38, \"preferred_gateway\": \"Google Pay\", \"preferred_gateway_extreme\": \"PhonePe\"}, {\"age\": 67, \"avg_income_lakh\": 27, \"preferred_gateway\": \"Google Pay\", \"preferred_gateway_extreme\": \"PhonePe\"}, {\"age\": 74, \"avg_income_lakh\": 32, \"preferred_gateway\": \"Google Pay\", \"preferred_gateway_extreme\": \"PhonePe\"}, {\"age\": 39, \"avg_income_lakh\": 20, \"preferred_gateway\": \"Google Pay\", \"preferred_gateway_extreme\": \"Google Pay\"}, {\"age\": 52, \"avg_income_lakh\": 39, \"preferred_gateway\": \"Google Pay\", \"preferred_gateway_extreme\": \"PhonePe\"}, {\"age\": 57, \"avg_income_lakh\": 34, \"preferred_gateway\": \"Google Pay\", \"preferred_gateway_extreme\": \"PhonePe\"}, {\"age\": 69, \"avg_income_lakh\": 38, \"preferred_gateway\": \"PhonePe\", \"preferred_gateway_extreme\": \"PhonePe\"}, {\"age\": 66, \"avg_income_lakh\": 29, \"preferred_gateway\": \"Google Pay\", \"preferred_gateway_extreme\": \"PhonePe\"}, {\"age\": 38, \"avg_income_lakh\": 34, \"preferred_gateway\": \"Google Pay\", \"preferred_gateway_extreme\": \"Google Pay\"}, {\"age\": 46, \"avg_income_lakh\": 38, \"preferred_gateway\": \"Google Pay\", \"preferred_gateway_extreme\": \"PhonePe\"}, {\"age\": 32, \"avg_income_lakh\": 39, \"preferred_gateway\": \"Google Pay\", \"preferred_gateway_extreme\": \"Google Pay\"}, {\"age\": 62, \"avg_income_lakh\": 30, \"preferred_gateway\": \"Google Pay\", \"preferred_gateway_extreme\": \"PhonePe\"}, {\"age\": 66, \"avg_income_lakh\": 28, \"preferred_gateway\": \"Google Pay\", \"preferred_gateway_extreme\": \"PhonePe\"}, {\"age\": 58, \"avg_income_lakh\": 20, \"preferred_gateway\": \"Google Pay\", \"preferred_gateway_extreme\": \"PhonePe\"}, {\"age\": 67, \"avg_income_lakh\": 24, \"preferred_gateway\": \"PhonePe\", \"preferred_gateway_extreme\": \"PhonePe\"}, {\"age\": 54, \"avg_income_lakh\": 38, \"preferred_gateway\": \"PhonePe\", \"preferred_gateway_extreme\": \"PhonePe\"}, {\"age\": 32, \"avg_income_lakh\": 31, \"preferred_gateway\": \"PhonePe\", \"preferred_gateway_extreme\": \"Google Pay\"}, {\"age\": 59, \"avg_income_lakh\": 32, \"preferred_gateway\": \"Google Pay\", \"preferred_gateway_extreme\": \"PhonePe\"}, {\"age\": 48, \"avg_income_lakh\": 27, \"preferred_gateway\": \"PhonePe\", \"preferred_gateway_extreme\": \"PhonePe\"}, {\"age\": 37, \"avg_income_lakh\": 23, \"preferred_gateway\": \"PhonePe\", \"preferred_gateway_extreme\": \"Google Pay\"}, {\"age\": 63, \"avg_income_lakh\": 37, \"preferred_gateway\": \"Google Pay\", \"preferred_gateway_extreme\": \"PhonePe\"}, {\"age\": 35, \"avg_income_lakh\": 37, \"preferred_gateway\": \"PhonePe\", \"preferred_gateway_extreme\": \"Google Pay\"}, {\"age\": 59, \"avg_income_lakh\": 24, \"preferred_gateway\": \"PhonePe\", \"preferred_gateway_extreme\": \"PhonePe\"}, {\"age\": 62, \"avg_income_lakh\": 35, \"preferred_gateway\": \"Google Pay\", \"preferred_gateway_extreme\": \"PhonePe\"}, {\"age\": 28, \"avg_income_lakh\": 32, \"preferred_gateway\": \"PhonePe\", \"preferred_gateway_extreme\": \"Google Pay\"}, {\"age\": 25, \"avg_income_lakh\": 24, \"preferred_gateway\": \"Google Pay\", \"preferred_gateway_extreme\": \"Google Pay\"}, {\"age\": 26, \"avg_income_lakh\": 34, \"preferred_gateway\": \"Google Pay\", \"preferred_gateway_extreme\": \"Google Pay\"}, {\"age\": 34, \"avg_income_lakh\": 29, \"preferred_gateway\": \"Google Pay\", \"preferred_gateway_extreme\": \"Google Pay\"}, {\"age\": 40, \"avg_income_lakh\": 34, \"preferred_gateway\": \"Google Pay\", \"preferred_gateway_extreme\": \"Google Pay\"}, {\"age\": 60, \"avg_income_lakh\": 36, \"preferred_gateway\": \"Google Pay\", \"preferred_gateway_extreme\": \"PhonePe\"}, {\"age\": 27, \"avg_income_lakh\": 30, \"preferred_gateway\": \"Google Pay\", \"preferred_gateway_extreme\": \"Google Pay\"}, {\"age\": 73, \"avg_income_lakh\": 27, \"preferred_gateway\": \"Google Pay\", \"preferred_gateway_extreme\": \"PhonePe\"}, {\"age\": 36, \"avg_income_lakh\": 34, \"preferred_gateway\": \"PhonePe\", \"preferred_gateway_extreme\": \"Google Pay\"}, {\"age\": 56, \"avg_income_lakh\": 38, \"preferred_gateway\": \"PhonePe\", \"preferred_gateway_extreme\": \"PhonePe\"}, {\"age\": 35, \"avg_income_lakh\": 27, \"preferred_gateway\": \"Google Pay\", \"preferred_gateway_extreme\": \"Google Pay\"}, {\"age\": 36, \"avg_income_lakh\": 21, \"preferred_gateway\": \"PhonePe\", \"preferred_gateway_extreme\": \"Google Pay\"}, {\"age\": 35, \"avg_income_lakh\": 32, \"preferred_gateway\": \"Google Pay\", \"preferred_gateway_extreme\": \"Google Pay\"}, {\"age\": 55, \"avg_income_lakh\": 22, \"preferred_gateway\": \"PhonePe\", \"preferred_gateway_extreme\": \"PhonePe\"}, {\"age\": 63, \"avg_income_lakh\": 23, \"preferred_gateway\": \"PhonePe\", \"preferred_gateway_extreme\": \"PhonePe\"}, {\"age\": 43, \"avg_income_lakh\": 33, \"preferred_gateway\": \"Google Pay\", \"preferred_gateway_extreme\": \"Google Pay\"}, {\"age\": 57, \"avg_income_lakh\": 39, \"preferred_gateway\": \"Google Pay\", \"preferred_gateway_extreme\": \"PhonePe\"}, {\"age\": 35, \"avg_income_lakh\": 39, \"preferred_gateway\": \"PhonePe\", \"preferred_gateway_extreme\": \"Google Pay\"}, {\"age\": 53, \"avg_income_lakh\": 33, \"preferred_gateway\": \"PhonePe\", \"preferred_gateway_extreme\": \"PhonePe\"}, {\"age\": 67, \"avg_income_lakh\": 29, \"preferred_gateway\": \"PhonePe\", \"preferred_gateway_extreme\": \"PhonePe\"}, {\"age\": 71, \"avg_income_lakh\": 24, \"preferred_gateway\": \"PhonePe\", \"preferred_gateway_extreme\": \"PhonePe\"}]}}, {\"mode\": \"vega-lite\"});\n",
       "</script>"
      ],
      "text/plain": [
       "alt.Chart(...)"
      ]
     },
     "execution_count": 4,
     "metadata": {},
     "output_type": "execute_result"
    }
   ],
   "source": [
    "#@title An extreme scenario\n",
    "payment_preferences['preferred_gateway_extreme'] = np.where(payment_preferences.age < 45,\n",
    "                                                             'Google Pay', 'PhonePe')\n",
    "\n",
    "(alt.Chart(payment_preferences)\n",
    "    .encode(alt.X('age:Q',\n",
    "                  axis=alt.Axis(grid=False)), \n",
    "            alt.Y('avg_income_lakh:Q',\n",
    "                  axis=alt.Axis(grid=False)),\n",
    "            alt.Color('preferred_gateway_extreme',\n",
    "                      scale=alt.Scale(domain=['PhonePe', 'Google Pay'],\n",
    "                                      range=['#6739B7', '#2DA94F'])))\n",
    "    .mark_circle(size=100)\n",
    "    .properties(width=600,\n",
    "                height=400)).interactive()\n"
   ]
  },
  {
   "cell_type": "markdown",
   "metadata": {
    "id": "mnKU_JMZJn8w"
   },
   "source": [
    "The biggest contribution of randomness is to remove the impact of any bias that might interfere with the observed variables of interest in the sample. This is because in a random sample, **every point in the population has equal chance to be included in the sample**."
   ]
  },
  {
   "cell_type": "markdown",
   "metadata": {
    "id": "RjYcXJ7Guh1n"
   },
   "source": [
    "**Challenge:**\n",
    "If you were Google Pay, how would you roll out an in-app popup survey to a random sample of your users?"
   ]
  },
  {
   "cell_type": "code",
   "execution_count": null,
   "metadata": {
    "cellView": "form",
    "colab": {
     "base_uri": "https://localhost:8080/",
     "height": 468
    },
    "executionInfo": {
     "elapsed": 517,
     "status": "ok",
     "timestamp": 1636797643118,
     "user": {
      "displayName": "Pavankumar Gurazada",
      "photoUrl": "https://lh3.googleusercontent.com/a/default-user=s64",
      "userId": "18187825277142859249"
     },
     "user_tz": -330
    },
    "id": "-OHaTI1lST0Q",
    "outputId": "383b7ea9-bff6-456c-f149-eaddf6a10dfe"
   },
   "outputs": [
    {
     "data": {
      "text/html": [
       "\n",
       "<div id=\"altair-viz-6ac18e807e334d25b0478cef5a5114d1\"></div>\n",
       "<script type=\"text/javascript\">\n",
       "  (function(spec, embedOpt){\n",
       "    let outputDiv = document.currentScript.previousElementSibling;\n",
       "    if (outputDiv.id !== \"altair-viz-6ac18e807e334d25b0478cef5a5114d1\") {\n",
       "      outputDiv = document.getElementById(\"altair-viz-6ac18e807e334d25b0478cef5a5114d1\");\n",
       "    }\n",
       "    const paths = {\n",
       "      \"vega\": \"https://cdn.jsdelivr.net/npm//vega@5?noext\",\n",
       "      \"vega-lib\": \"https://cdn.jsdelivr.net/npm//vega-lib?noext\",\n",
       "      \"vega-lite\": \"https://cdn.jsdelivr.net/npm//vega-lite@4.8.1?noext\",\n",
       "      \"vega-embed\": \"https://cdn.jsdelivr.net/npm//vega-embed@6?noext\",\n",
       "    };\n",
       "\n",
       "    function loadScript(lib) {\n",
       "      return new Promise(function(resolve, reject) {\n",
       "        var s = document.createElement('script');\n",
       "        s.src = paths[lib];\n",
       "        s.async = true;\n",
       "        s.onload = () => resolve(paths[lib]);\n",
       "        s.onerror = () => reject(`Error loading script: ${paths[lib]}`);\n",
       "        document.getElementsByTagName(\"head\")[0].appendChild(s);\n",
       "      });\n",
       "    }\n",
       "\n",
       "    function showError(err) {\n",
       "      outputDiv.innerHTML = `<div class=\"error\" style=\"color:red;\">${err}</div>`;\n",
       "      throw err;\n",
       "    }\n",
       "\n",
       "    function displayChart(vegaEmbed) {\n",
       "      vegaEmbed(outputDiv, spec, embedOpt)\n",
       "        .catch(err => showError(`Javascript Error: ${err.message}<br>This usually means there's a typo in your chart specification. See the javascript console for the full traceback.`));\n",
       "    }\n",
       "\n",
       "    if(typeof define === \"function\" && define.amd) {\n",
       "      requirejs.config({paths});\n",
       "      require([\"vega-embed\"], displayChart, err => showError(`Error loading script: ${err.message}`));\n",
       "    } else if (typeof vegaEmbed === \"function\") {\n",
       "      displayChart(vegaEmbed);\n",
       "    } else {\n",
       "      loadScript(\"vega\")\n",
       "        .then(() => loadScript(\"vega-lite\"))\n",
       "        .then(() => loadScript(\"vega-embed\"))\n",
       "        .catch(showError)\n",
       "        .then(() => displayChart(vegaEmbed));\n",
       "    }\n",
       "  })({\"config\": {\"view\": {\"continuousWidth\": 400, \"continuousHeight\": 300}}, \"data\": {\"name\": \"data-dc0cffa5da2fbb6db4966f79dd818cd0\"}, \"mark\": {\"type\": \"circle\", \"size\": 100}, \"encoding\": {\"color\": {\"type\": \"nominal\", \"field\": \"preferred_gateway\", \"scale\": {\"domain\": [\"PhonePe\", \"Google Pay\"], \"range\": [\"#6739B7\", \"#2DA94F\"]}}, \"x\": {\"type\": \"quantitative\", \"axis\": {\"grid\": false}, \"field\": \"age\"}, \"y\": {\"type\": \"quantitative\", \"axis\": {\"grid\": false}, \"field\": \"avg_income_lakh\"}}, \"height\": 400, \"selection\": {\"selector003\": {\"type\": \"interval\", \"bind\": \"scales\", \"encodings\": [\"x\", \"y\"]}}, \"width\": 600, \"$schema\": \"https://vega.github.io/schema/vega-lite/v4.8.1.json\", \"datasets\": {\"data-dc0cffa5da2fbb6db4966f79dd818cd0\": [{\"age\": 53, \"avg_income_lakh\": 25, \"preferred_gateway\": \"PhonePe\", \"preferred_gateway_extreme\": \"PhonePe\"}, {\"age\": 25, \"avg_income_lakh\": 37, \"preferred_gateway\": \"PhonePe\", \"preferred_gateway_extreme\": \"Google Pay\"}, {\"age\": 38, \"avg_income_lakh\": 29, \"preferred_gateway\": \"PhonePe\", \"preferred_gateway_extreme\": \"Google Pay\"}, {\"age\": 63, \"avg_income_lakh\": 38, \"preferred_gateway\": \"PhonePe\", \"preferred_gateway_extreme\": \"PhonePe\"}, {\"age\": 33, \"avg_income_lakh\": 32, \"preferred_gateway\": \"Google Pay\", \"preferred_gateway_extreme\": \"Google Pay\"}, {\"age\": 52, \"avg_income_lakh\": 21, \"preferred_gateway\": \"Google Pay\", \"preferred_gateway_extreme\": \"PhonePe\"}, {\"age\": 65, \"avg_income_lakh\": 26, \"preferred_gateway\": \"Google Pay\", \"preferred_gateway_extreme\": \"PhonePe\"}, {\"age\": 58, \"avg_income_lakh\": 20, \"preferred_gateway\": \"Google Pay\", \"preferred_gateway_extreme\": \"PhonePe\"}, {\"age\": 54, \"avg_income_lakh\": 23, \"preferred_gateway\": \"Google Pay\", \"preferred_gateway_extreme\": \"PhonePe\"}, {\"age\": 70, \"avg_income_lakh\": 31, \"preferred_gateway\": \"PhonePe\", \"preferred_gateway_extreme\": \"PhonePe\"}, {\"age\": 66, \"avg_income_lakh\": 35, \"preferred_gateway\": \"PhonePe\", \"preferred_gateway_extreme\": \"PhonePe\"}, {\"age\": 38, \"avg_income_lakh\": 20, \"preferred_gateway\": \"Google Pay\", \"preferred_gateway_extreme\": \"Google Pay\"}, {\"age\": 33, \"avg_income_lakh\": 33, \"preferred_gateway\": \"PhonePe\", \"preferred_gateway_extreme\": \"Google Pay\"}, {\"age\": 30, \"avg_income_lakh\": 34, \"preferred_gateway\": \"Google Pay\", \"preferred_gateway_extreme\": \"Google Pay\"}, {\"age\": 45, \"avg_income_lakh\": 32, \"preferred_gateway\": \"PhonePe\", \"preferred_gateway_extreme\": \"PhonePe\"}, {\"age\": 61, \"avg_income_lakh\": 27, \"preferred_gateway\": \"PhonePe\", \"preferred_gateway_extreme\": \"PhonePe\"}, {\"age\": 28, \"avg_income_lakh\": 26, \"preferred_gateway\": \"Google Pay\", \"preferred_gateway_extreme\": \"Google Pay\"}, {\"age\": 44, \"avg_income_lakh\": 34, \"preferred_gateway\": \"Google Pay\", \"preferred_gateway_extreme\": \"Google Pay\"}, {\"age\": 41, \"avg_income_lakh\": 34, \"preferred_gateway\": \"Google Pay\", \"preferred_gateway_extreme\": \"Google Pay\"}, {\"age\": 52, \"avg_income_lakh\": 31, \"preferred_gateway\": \"Google Pay\", \"preferred_gateway_extreme\": \"PhonePe\"}, {\"age\": 43, \"avg_income_lakh\": 29, \"preferred_gateway\": \"PhonePe\", \"preferred_gateway_extreme\": \"Google Pay\"}, {\"age\": 33, \"avg_income_lakh\": 35, \"preferred_gateway\": \"Google Pay\", \"preferred_gateway_extreme\": \"Google Pay\"}, {\"age\": 53, \"avg_income_lakh\": 20, \"preferred_gateway\": \"PhonePe\", \"preferred_gateway_extreme\": \"PhonePe\"}, {\"age\": 46, \"avg_income_lakh\": 26, \"preferred_gateway\": \"PhonePe\", \"preferred_gateway_extreme\": \"PhonePe\"}, {\"age\": 60, \"avg_income_lakh\": 37, \"preferred_gateway\": \"PhonePe\", \"preferred_gateway_extreme\": \"PhonePe\"}, {\"age\": 69, \"avg_income_lakh\": 37, \"preferred_gateway\": \"PhonePe\", \"preferred_gateway_extreme\": \"PhonePe\"}, {\"age\": 55, \"avg_income_lakh\": 37, \"preferred_gateway\": \"PhonePe\", \"preferred_gateway_extreme\": \"PhonePe\"}, {\"age\": 48, \"avg_income_lakh\": 33, \"preferred_gateway\": \"PhonePe\", \"preferred_gateway_extreme\": \"PhonePe\"}, {\"age\": 37, \"avg_income_lakh\": 29, \"preferred_gateway\": \"PhonePe\", \"preferred_gateway_extreme\": \"Google Pay\"}, {\"age\": 62, \"avg_income_lakh\": 39, \"preferred_gateway\": \"Google Pay\", \"preferred_gateway_extreme\": \"PhonePe\"}, {\"age\": 66, \"avg_income_lakh\": 36, \"preferred_gateway\": \"PhonePe\", \"preferred_gateway_extreme\": \"PhonePe\"}, {\"age\": 31, \"avg_income_lakh\": 31, \"preferred_gateway\": \"PhonePe\", \"preferred_gateway_extreme\": \"Google Pay\"}, {\"age\": 37, \"avg_income_lakh\": 22, \"preferred_gateway\": \"Google Pay\", \"preferred_gateway_extreme\": \"Google Pay\"}, {\"age\": 33, \"avg_income_lakh\": 36, \"preferred_gateway\": \"Google Pay\", \"preferred_gateway_extreme\": \"Google Pay\"}, {\"age\": 39, \"avg_income_lakh\": 31, \"preferred_gateway\": \"Google Pay\", \"preferred_gateway_extreme\": \"Google Pay\"}, {\"age\": 31, \"avg_income_lakh\": 33, \"preferred_gateway\": \"PhonePe\", \"preferred_gateway_extreme\": \"Google Pay\"}, {\"age\": 31, \"avg_income_lakh\": 28, \"preferred_gateway\": \"Google Pay\", \"preferred_gateway_extreme\": \"Google Pay\"}, {\"age\": 59, \"avg_income_lakh\": 37, \"preferred_gateway\": \"PhonePe\", \"preferred_gateway_extreme\": \"PhonePe\"}, {\"age\": 49, \"avg_income_lakh\": 37, \"preferred_gateway\": \"Google Pay\", \"preferred_gateway_extreme\": \"PhonePe\"}, {\"age\": 64, \"avg_income_lakh\": 20, \"preferred_gateway\": \"PhonePe\", \"preferred_gateway_extreme\": \"PhonePe\"}, {\"age\": 65, \"avg_income_lakh\": 23, \"preferred_gateway\": \"Google Pay\", \"preferred_gateway_extreme\": \"PhonePe\"}, {\"age\": 68, \"avg_income_lakh\": 31, \"preferred_gateway\": \"Google Pay\", \"preferred_gateway_extreme\": \"PhonePe\"}, {\"age\": 71, \"avg_income_lakh\": 31, \"preferred_gateway\": \"PhonePe\", \"preferred_gateway_extreme\": \"PhonePe\"}, {\"age\": 44, \"avg_income_lakh\": 21, \"preferred_gateway\": \"PhonePe\", \"preferred_gateway_extreme\": \"Google Pay\"}, {\"age\": 25, \"avg_income_lakh\": 21, \"preferred_gateway\": \"Google Pay\", \"preferred_gateway_extreme\": \"Google Pay\"}, {\"age\": 54, \"avg_income_lakh\": 37, \"preferred_gateway\": \"PhonePe\", \"preferred_gateway_extreme\": \"PhonePe\"}, {\"age\": 61, \"avg_income_lakh\": 39, \"preferred_gateway\": \"PhonePe\", \"preferred_gateway_extreme\": \"PhonePe\"}, {\"age\": 25, \"avg_income_lakh\": 24, \"preferred_gateway\": \"Google Pay\", \"preferred_gateway_extreme\": \"Google Pay\"}, {\"age\": 29, \"avg_income_lakh\": 39, \"preferred_gateway\": \"Google Pay\", \"preferred_gateway_extreme\": \"Google Pay\"}, {\"age\": 69, \"avg_income_lakh\": 39, \"preferred_gateway\": \"Google Pay\", \"preferred_gateway_extreme\": \"PhonePe\"}, {\"age\": 47, \"avg_income_lakh\": 21, \"preferred_gateway\": \"Google Pay\", \"preferred_gateway_extreme\": \"PhonePe\"}, {\"age\": 33, \"avg_income_lakh\": 23, \"preferred_gateway\": \"PhonePe\", \"preferred_gateway_extreme\": \"Google Pay\"}, {\"age\": 71, \"avg_income_lakh\": 26, \"preferred_gateway\": \"Google Pay\", \"preferred_gateway_extreme\": \"PhonePe\"}, {\"age\": 49, \"avg_income_lakh\": 35, \"preferred_gateway\": \"PhonePe\", \"preferred_gateway_extreme\": \"PhonePe\"}, {\"age\": 55, \"avg_income_lakh\": 36, \"preferred_gateway\": \"PhonePe\", \"preferred_gateway_extreme\": \"PhonePe\"}, {\"age\": 48, \"avg_income_lakh\": 38, \"preferred_gateway\": \"Google Pay\", \"preferred_gateway_extreme\": \"PhonePe\"}, {\"age\": 67, \"avg_income_lakh\": 27, \"preferred_gateway\": \"Google Pay\", \"preferred_gateway_extreme\": \"PhonePe\"}, {\"age\": 74, \"avg_income_lakh\": 32, \"preferred_gateway\": \"Google Pay\", \"preferred_gateway_extreme\": \"PhonePe\"}, {\"age\": 39, \"avg_income_lakh\": 20, \"preferred_gateway\": \"Google Pay\", \"preferred_gateway_extreme\": \"Google Pay\"}, {\"age\": 52, \"avg_income_lakh\": 39, \"preferred_gateway\": \"Google Pay\", \"preferred_gateway_extreme\": \"PhonePe\"}, {\"age\": 57, \"avg_income_lakh\": 34, \"preferred_gateway\": \"Google Pay\", \"preferred_gateway_extreme\": \"PhonePe\"}, {\"age\": 69, \"avg_income_lakh\": 38, \"preferred_gateway\": \"PhonePe\", \"preferred_gateway_extreme\": \"PhonePe\"}, {\"age\": 66, \"avg_income_lakh\": 29, \"preferred_gateway\": \"Google Pay\", \"preferred_gateway_extreme\": \"PhonePe\"}, {\"age\": 38, \"avg_income_lakh\": 34, \"preferred_gateway\": \"Google Pay\", \"preferred_gateway_extreme\": \"Google Pay\"}, {\"age\": 46, \"avg_income_lakh\": 38, \"preferred_gateway\": \"Google Pay\", \"preferred_gateway_extreme\": \"PhonePe\"}, {\"age\": 32, \"avg_income_lakh\": 39, \"preferred_gateway\": \"Google Pay\", \"preferred_gateway_extreme\": \"Google Pay\"}, {\"age\": 62, \"avg_income_lakh\": 30, \"preferred_gateway\": \"Google Pay\", \"preferred_gateway_extreme\": \"PhonePe\"}, {\"age\": 66, \"avg_income_lakh\": 28, \"preferred_gateway\": \"Google Pay\", \"preferred_gateway_extreme\": \"PhonePe\"}, {\"age\": 58, \"avg_income_lakh\": 20, \"preferred_gateway\": \"Google Pay\", \"preferred_gateway_extreme\": \"PhonePe\"}, {\"age\": 67, \"avg_income_lakh\": 24, \"preferred_gateway\": \"PhonePe\", \"preferred_gateway_extreme\": \"PhonePe\"}, {\"age\": 54, \"avg_income_lakh\": 38, \"preferred_gateway\": \"PhonePe\", \"preferred_gateway_extreme\": \"PhonePe\"}, {\"age\": 32, \"avg_income_lakh\": 31, \"preferred_gateway\": \"PhonePe\", \"preferred_gateway_extreme\": \"Google Pay\"}, {\"age\": 59, \"avg_income_lakh\": 32, \"preferred_gateway\": \"Google Pay\", \"preferred_gateway_extreme\": \"PhonePe\"}, {\"age\": 48, \"avg_income_lakh\": 27, \"preferred_gateway\": \"PhonePe\", \"preferred_gateway_extreme\": \"PhonePe\"}, {\"age\": 37, \"avg_income_lakh\": 23, \"preferred_gateway\": \"PhonePe\", \"preferred_gateway_extreme\": \"Google Pay\"}, {\"age\": 63, \"avg_income_lakh\": 37, \"preferred_gateway\": \"Google Pay\", \"preferred_gateway_extreme\": \"PhonePe\"}, {\"age\": 35, \"avg_income_lakh\": 37, \"preferred_gateway\": \"PhonePe\", \"preferred_gateway_extreme\": \"Google Pay\"}, {\"age\": 59, \"avg_income_lakh\": 24, \"preferred_gateway\": \"PhonePe\", \"preferred_gateway_extreme\": \"PhonePe\"}, {\"age\": 62, \"avg_income_lakh\": 35, \"preferred_gateway\": \"Google Pay\", \"preferred_gateway_extreme\": \"PhonePe\"}, {\"age\": 28, \"avg_income_lakh\": 32, \"preferred_gateway\": \"PhonePe\", \"preferred_gateway_extreme\": \"Google Pay\"}, {\"age\": 25, \"avg_income_lakh\": 24, \"preferred_gateway\": \"Google Pay\", \"preferred_gateway_extreme\": \"Google Pay\"}, {\"age\": 26, \"avg_income_lakh\": 34, \"preferred_gateway\": \"Google Pay\", \"preferred_gateway_extreme\": \"Google Pay\"}, {\"age\": 34, \"avg_income_lakh\": 29, \"preferred_gateway\": \"Google Pay\", \"preferred_gateway_extreme\": \"Google Pay\"}, {\"age\": 40, \"avg_income_lakh\": 34, \"preferred_gateway\": \"Google Pay\", \"preferred_gateway_extreme\": \"Google Pay\"}, {\"age\": 60, \"avg_income_lakh\": 36, \"preferred_gateway\": \"Google Pay\", \"preferred_gateway_extreme\": \"PhonePe\"}, {\"age\": 27, \"avg_income_lakh\": 30, \"preferred_gateway\": \"Google Pay\", \"preferred_gateway_extreme\": \"Google Pay\"}, {\"age\": 73, \"avg_income_lakh\": 27, \"preferred_gateway\": \"Google Pay\", \"preferred_gateway_extreme\": \"PhonePe\"}, {\"age\": 36, \"avg_income_lakh\": 34, \"preferred_gateway\": \"PhonePe\", \"preferred_gateway_extreme\": \"Google Pay\"}, {\"age\": 56, \"avg_income_lakh\": 38, \"preferred_gateway\": \"PhonePe\", \"preferred_gateway_extreme\": \"PhonePe\"}, {\"age\": 35, \"avg_income_lakh\": 27, \"preferred_gateway\": \"Google Pay\", \"preferred_gateway_extreme\": \"Google Pay\"}, {\"age\": 36, \"avg_income_lakh\": 21, \"preferred_gateway\": \"PhonePe\", \"preferred_gateway_extreme\": \"Google Pay\"}, {\"age\": 35, \"avg_income_lakh\": 32, \"preferred_gateway\": \"Google Pay\", \"preferred_gateway_extreme\": \"Google Pay\"}, {\"age\": 55, \"avg_income_lakh\": 22, \"preferred_gateway\": \"PhonePe\", \"preferred_gateway_extreme\": \"PhonePe\"}, {\"age\": 63, \"avg_income_lakh\": 23, \"preferred_gateway\": \"PhonePe\", \"preferred_gateway_extreme\": \"PhonePe\"}, {\"age\": 43, \"avg_income_lakh\": 33, \"preferred_gateway\": \"Google Pay\", \"preferred_gateway_extreme\": \"Google Pay\"}, {\"age\": 57, \"avg_income_lakh\": 39, \"preferred_gateway\": \"Google Pay\", \"preferred_gateway_extreme\": \"PhonePe\"}, {\"age\": 35, \"avg_income_lakh\": 39, \"preferred_gateway\": \"PhonePe\", \"preferred_gateway_extreme\": \"Google Pay\"}, {\"age\": 53, \"avg_income_lakh\": 33, \"preferred_gateway\": \"PhonePe\", \"preferred_gateway_extreme\": \"PhonePe\"}, {\"age\": 67, \"avg_income_lakh\": 29, \"preferred_gateway\": \"PhonePe\", \"preferred_gateway_extreme\": \"PhonePe\"}, {\"age\": 71, \"avg_income_lakh\": 24, \"preferred_gateway\": \"PhonePe\", \"preferred_gateway_extreme\": \"PhonePe\"}]}}, {\"mode\": \"vega-lite\"});\n",
       "</script>"
      ],
      "text/plain": [
       "alt.Chart(...)"
      ]
     },
     "execution_count": 5,
     "metadata": {},
     "output_type": "execute_result"
    }
   ],
   "source": [
    "#@title A general scenario\n",
    "(alt.Chart(payment_preferences)\n",
    "    .encode(alt.X('age:Q',\n",
    "                  axis=alt.Axis(grid=False)), \n",
    "            alt.Y('avg_income_lakh:Q',\n",
    "                  axis=alt.Axis(grid=False)),\n",
    "            alt.Color('preferred_gateway',\n",
    "                      scale=alt.Scale(domain=['PhonePe', 'Google Pay'],\n",
    "                                      range=['#6739B7', '#2DA94F'])))\n",
    "    .mark_circle(size=100)\n",
    "    .properties(width=600,\n",
    "                height=400)).interactive()"
   ]
  },
  {
   "cell_type": "markdown",
   "metadata": {
    "id": "h2Cdc4Afw2HX"
   },
   "source": [
    "# 3. Sample-based inference\n"
   ]
  },
  {
   "cell_type": "markdown",
   "metadata": {
    "id": "Zcle7CNBiWjR"
   },
   "source": [
    "## 3.1 Formulating hypotheses"
   ]
  },
  {
   "cell_type": "markdown",
   "metadata": {
    "id": "iadcuPyTlrGF"
   },
   "source": [
    "From a statistical perspective, we want to esure that the inference we make on the sample at hand generalizes to the population, assuming that the data is a random sample.\n",
    "\n",
    "The intuition we have on a variable of interest (e.g., model accuracy in prodution, user rating on app features) is encoded as the alternative hypothesis. \n",
    "\n",
    "For example, in this case, we want to establish that the user experience of Google Pay is better than that of PhonePe. This becomes the alternative hypothesis."
   ]
  },
  {
   "cell_type": "markdown",
   "metadata": {
    "id": "DzxZEghPndBF"
   },
   "source": [
    "\n",
    "Following the tenets of the scientific method, the null hypothesis always encodes a `no difference` scenario. In this example, it means that there is no difference in user experience for Google Pay and PhonePe. Assuming the null hypothesis is true, we choose a random sample and estimate the probability of observing the alternative hypothesis. This probability is called the `p-value`."
   ]
  },
  {
   "cell_type": "markdown",
   "metadata": {
    "id": "8SeuMqNmooHI"
   },
   "source": [
    "It follows from this argument that if the p-value is very less, then there is a rare chance that the alternative hypothesis observed in the random sample **if the null hypothesis is true**. Hence, evidence points us to reject the null hypothesis (*'there is little chance that it is true'*)\n",
    "\n",
    "How less is an acceptable value? The significance level of the test $\\alpha$ encodes this. It is common practise to choose $\\alpha = .05$."
   ]
  },
  {
   "cell_type": "markdown",
   "metadata": {
    "id": "eKXbXk14QrK_"
   },
   "source": [
    "## 3.2 Sampling\n",
    "\n",
    "As section 3.1 indicates, sampling, that is, extracting a subset of a population of interest and observing their characteristics is a crucial step in undertaking *inference*. Here, we infer the parameters of the population from that of the sample.\n",
    "\n",
    "### 3.2.1 Random sampling\n",
    "\n",
    "We saw that for statistical guarantees to kick-in random sampling is necessary. In the context of random sampling, every unit in the population has an equal chance of being included into the sample.\n",
    "\n",
    "\n",
    "### 3.2.2 Sampling variation\n",
    "\n",
    "When we make inferences about the population using the sample, we need guarantees that the sample characteristics will hold even with repeated sampling. The variation we expect to observe in repeated sampling from the population is called sampling variation."
   ]
  },
  {
   "cell_type": "markdown",
   "metadata": {
    "id": "M4STgmImQpbh"
   },
   "source": [
    "## 3.3 The Central Limit Theorem\n",
    "\n",
    "The CLT links the sample mean to the sampling variation expected around the mean by specifying its distribution to be a normal distribution.\n",
    "\n",
    "So, when estimating a population mean, the sample mean becomes the point-estimate and the standard deviation of the sample mean (referred to as the standard error) allows us to specify the *expected* variation around the sample mean.\n",
    "\n",
    "We can also speak of the probability that the sample mean takes a specific value, *given a population mean*."
   ]
  },
  {
   "cell_type": "markdown",
   "metadata": {
    "id": "YDYOuzUQBw4P"
   },
   "source": [
    "## 3.4 A workflow for hypothesis testing"
   ]
  },
  {
   "cell_type": "markdown",
   "metadata": {
    "id": "cmQGBm3-R_7o"
   },
   "source": [
    "**Step 1:** Encode your intuition as the alternative hypothesis\n",
    "\n",
    "**Step 2:** Write down the corresponding null hypothesis (this will always be an equality)\n",
    "\n",
    "**Step 3:** Compute the p-value for your alternative hypothesis. If p-value < 0.05, reject the null hypothesis"
   ]
  },
  {
   "cell_type": "markdown",
   "metadata": {
    "id": "kbOpzGWoHFp9"
   },
   "source": [
    "### 3.4.1 Example 1"
   ]
  },
  {
   "cell_type": "markdown",
   "metadata": {
    "id": "LHTLG-6Fbht5"
   },
   "source": [
    "Google Pay rolled out an important backend update aimed at reducing the latency on payment confirmation. However, they want to understand if this a significant difference from previous versions. The null and alternative hypotheses for this scenario are:"
   ]
  },
  {
   "cell_type": "markdown",
   "metadata": {
    "id": "DYDBl2T3aRXv"
   },
   "source": [
    "\n",
    "$$\n",
    "H_0: \\text{latency after update} = \\text{latency before update} \n",
    "$$\n",
    "$$\n",
    "H_1: \\text{latency after update} < \\text{latency before update} \n",
    "$$"
   ]
  },
  {
   "cell_type": "markdown",
   "metadata": {
    "id": "VsRnbl0JaRXw"
   },
   "source": [
    "\n",
    "Validation of hypotheses requires the creation of appropriate test statistics. When the null hypothesis is true, test statistics have a value of 0 (signifying no difference). \n",
    "\n",
    "A natural test statistic in this case would be the standardized difference in sample means."
   ]
  },
  {
   "cell_type": "markdown",
   "metadata": {
    "id": "_msB3qR2eMm2"
   },
   "source": [
    "Now we collect data to test our hypotheses. In this case, we collect the latency observed on a random sample before the update was rolled out and the latency observed on another random sample after the update was rolled out."
   ]
  },
  {
   "cell_type": "code",
   "execution_count": null,
   "metadata": {
    "cellView": "form",
    "id": "tciTtxVDHG5x"
   },
   "outputs": [],
   "source": [
    "#@title Latency data pre and post update \n",
    "latency_before_update = np.random.normal(loc=1.7, \n",
    "                                         scale=0.3, \n",
    "                                         size=200)\n",
    "\n",
    "latency_after_update = np.random.normal(loc=1.5, \n",
    "                                        scale=0.3, \n",
    "                                        size=200)"
   ]
  },
  {
   "cell_type": "code",
   "execution_count": null,
   "metadata": {
    "colab": {
     "base_uri": "https://localhost:8080/"
    },
    "executionInfo": {
     "elapsed": 543,
     "status": "ok",
     "timestamp": 1636692869363,
     "user": {
      "displayName": "Pavankumar Gurazada",
      "photoUrl": "https://lh3.googleusercontent.com/a/default-user=s64",
      "userId": "18187825277142859249"
     },
     "user_tz": -330
    },
    "id": "kjwjRC6UfhKO",
    "outputId": "cc950c88-4f9a-43b9-d912-fe21ec72bdc1"
   },
   "outputs": [
    {
     "data": {
      "text/plain": [
       "(1.7015616647127434, 0.3042769553997559)"
      ]
     },
     "execution_count": 31,
     "metadata": {},
     "output_type": "execute_result"
    }
   ],
   "source": [
    "(latency_before_update.mean(), latency_before_update.std())"
   ]
  },
  {
   "cell_type": "code",
   "execution_count": null,
   "metadata": {
    "colab": {
     "base_uri": "https://localhost:8080/"
    },
    "executionInfo": {
     "elapsed": 700,
     "status": "ok",
     "timestamp": 1636692879215,
     "user": {
      "displayName": "Pavankumar Gurazada",
      "photoUrl": "https://lh3.googleusercontent.com/a/default-user=s64",
      "userId": "18187825277142859249"
     },
     "user_tz": -330
    },
    "id": "qyDamPYXfin0",
    "outputId": "83c3be59-0420-490d-b476-74fb917fb5c0"
   },
   "outputs": [
    {
     "data": {
      "text/plain": [
       "(1.4682866549947369, 0.29202154893595955)"
      ]
     },
     "execution_count": 32,
     "metadata": {},
     "output_type": "execute_result"
    }
   ],
   "source": [
    "(latency_after_update.mean(), latency_after_update.std())"
   ]
  },
  {
   "cell_type": "markdown",
   "metadata": {
    "id": "w9okw2EqHBzV"
   },
   "source": [
    "### 3.4.2 Example 2"
   ]
  },
  {
   "cell_type": "markdown",
   "metadata": {
    "id": "KH4dTXv_aQqG"
   },
   "source": [
    "A model demonstrated an accuracy of 0.7 during the training phase. Before rolling this model out to production, you want to test if this stated accuracy holds even on live data. So, the first step is to set up the null and alternative hypotheses. "
   ]
  },
  {
   "cell_type": "markdown",
   "metadata": {
    "id": "0_d8NNWXq-kt"
   },
   "source": [
    "\n",
    "$$\n",
    "H_0: \\text{model accuracy} = 0.7 \n",
    "$$\n",
    "$$\n",
    "H_1: \\text{model accuracy} \\neq 0.7 \n",
    "$$"
   ]
  },
  {
   "cell_type": "markdown",
   "metadata": {
    "id": "eBB5MdDvq9Ym"
   },
   "source": [
    "\n",
    "Validation of hypotheses requires the creation of appropriate test statistics. When the null hypothesis is true, test statistics have a value of 0 (signifying no difference). \n",
    "\n",
    "A natural test statistic in this case would be the standardized difference of the sample mean from 0.7."
   ]
  },
  {
   "cell_type": "markdown",
   "metadata": {
    "id": "uuzwXixmbTII"
   },
   "source": [
    "Now, we collect the data and observe the sample statistics. **Ensure that the hypotheses are stated before the sample data is observed**."
   ]
  },
  {
   "cell_type": "code",
   "execution_count": 4,
   "metadata": {
    "cellView": "form",
    "executionInfo": {
     "elapsed": 679,
     "status": "ok",
     "timestamp": 1637485838312,
     "user": {
      "displayName": "Pavankumar Gurazada",
      "photoUrl": "https://lh3.googleusercontent.com/a/default-user=s64",
      "userId": "18187825277142859249"
     },
     "user_tz": -330
    },
    "id": "loWWiH60VyOm"
   },
   "outputs": [],
   "source": [
    "#@title Data from a model tested for 8 weeks = 56 days on random samples of live data\n",
    "model_accuracy_data = np.random.normal(loc=0.65, \n",
    "                                       scale=0.1, \n",
    "                                       size=8*7)\n",
    "model_accuracy_production = pd.Series(model_accuracy_data, \n",
    "                                      name='accuracy_in_production',\n",
    "                                      index=['day_'+ str(i+1) for i in range(8*7)])"
   ]
  },
  {
   "cell_type": "code",
   "execution_count": 5,
   "metadata": {
    "colab": {
     "base_uri": "https://localhost:8080/"
    },
    "executionInfo": {
     "elapsed": 7,
     "status": "ok",
     "timestamp": 1637485839041,
     "user": {
      "displayName": "Pavankumar Gurazada",
      "photoUrl": "https://lh3.googleusercontent.com/a/default-user=s64",
      "userId": "18187825277142859249"
     },
     "user_tz": -330
    },
    "id": "9t9ysbogHEvy",
    "outputId": "f6cdd5e1-8dcb-45e6-e651-265983a78315"
   },
   "outputs": [
    {
     "data": {
      "text/plain": [
       "count    56.000000\n",
       "mean      0.634169\n",
       "std       0.102853\n",
       "min       0.392450\n",
       "25%       0.574229\n",
       "50%       0.632236\n",
       "75%       0.695349\n",
       "max       0.922091\n",
       "Name: accuracy_in_production, dtype: float64"
      ]
     },
     "execution_count": 5,
     "metadata": {},
     "output_type": "execute_result"
    }
   ],
   "source": [
    "model_accuracy_production.describe()"
   ]
  },
  {
   "cell_type": "markdown",
   "metadata": {
    "id": "HZrPBHdDgXq6"
   },
   "source": [
    "### 3.4.3 Example 3"
   ]
  },
  {
   "cell_type": "markdown",
   "metadata": {
    "id": "gC3cxao3gqiE"
   },
   "source": [
    "Google Pay wants to understand if consumers perceive their app to be better than PhonePe in terms of ease of use. In this scenario, the null and alternate hypotheses are:"
   ]
  },
  {
   "cell_type": "markdown",
   "metadata": {
    "id": "ldDD9txBg_-l"
   },
   "source": [
    "\n",
    "$$\n",
    "H_0: \\text{ease of use for Google Pay} = \\text{ease of use for PhonePe} \n",
    "$$\n",
    "$$\n",
    "H_1: \\text{ease of use for Google Pay} > \\text{ease of use for PhonePe} \n",
    "$$"
   ]
  },
  {
   "cell_type": "markdown",
   "metadata": {
    "id": "HVJFehj-hQ_7"
   },
   "source": [
    "To validate the null hypothesis, we will need to collect data on ease of use for Google Pay and PhonePe. One way would be to [survey](https://forms.gle/vmdekzGKejvWFZ7D9) a random sample of users of both apps to rate them on a scale measuring ease of use."
   ]
  },
  {
   "cell_type": "markdown",
   "metadata": {
    "id": "BIXSH54ch0jr"
   },
   "source": [
    "# Summary\n",
    "\n",
    "- Hypothesis testing involves using a randomly drawn sample to infer the characteristis of the population from which this sample was drawn.\n",
    "- Null hypothesis is an equality that represents status quo\n",
    "- Alternative hypothesis represents our intuition of the difference\n",
    "- Once the null and alternative hypotheses are set up, data is collected to test if the null hypothesis can be rejected"
   ]
  }
 ],
 "metadata": {
  "colab": {
   "authorship_tag": "ABX9TyOFB/3PPzuhHFKj64hnWjeg",
   "collapsed_sections": [],
   "name": "03_hypothesis-formulation.ipynb",
   "provenance": []
  },
  "kernelspec": {
   "display_name": "Python 3 (ipykernel)",
   "language": "python",
   "name": "python3"
  },
  "language_info": {
   "codemirror_mode": {
    "name": "ipython",
    "version": 3
   },
   "file_extension": ".py",
   "mimetype": "text/x-python",
   "name": "python",
   "nbconvert_exporter": "python",
   "pygments_lexer": "ipython3",
   "version": "3.9.7"
  }
 },
 "nbformat": 4,
 "nbformat_minor": 1
}
