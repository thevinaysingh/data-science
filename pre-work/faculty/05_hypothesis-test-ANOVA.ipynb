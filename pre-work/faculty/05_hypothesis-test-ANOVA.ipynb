{
 "cells": [
  {
   "cell_type": "markdown",
   "metadata": {
    "id": "OQJsu6-cprfL"
   },
   "source": [
    "# 1. Objective\n",
    "\n",
    "To introduce the notion of ANOVA using the context of experiments"
   ]
  },
  {
   "cell_type": "markdown",
   "metadata": {
    "id": "8JPk2gsipxPV"
   },
   "source": [
    "\n",
    "## 1.1 Preliminaries\n"
   ]
  },
  {
   "cell_type": "code",
   "execution_count": 1,
   "metadata": {
    "executionInfo": {
     "elapsed": 430,
     "status": "ok",
     "timestamp": 1636709810547,
     "user": {
      "displayName": "Pavankumar Gurazada",
      "photoUrl": "https://lh3.googleusercontent.com/a/default-user=s64",
      "userId": "18187825277142859249"
     },
     "user_tz": -330
    },
    "id": "iNVUUbHspnJq"
   },
   "outputs": [],
   "source": [
    "import pandas as pd\n",
    "import numpy as np\n",
    "\n",
    "import scipy.stats as st"
   ]
  },
  {
   "cell_type": "markdown",
   "metadata": {
    "id": "_kfyR2041oF_"
   },
   "source": [
    "# 2.  ANOVA\n",
    "\n",
    "ANOVA allows us to test the difference in mean values of a feature across multiple classes of the outcome. In this way, we can extend the two-sample t-test.\n",
    "\n",
    "However, when there are several groups, pairwise comparisons can become cumbersome. For example, if there are $k$ classes, we need to make $k\\choose 2$ pairwise comparisons. \n"
   ]
  },
  {
   "cell_type": "markdown",
   "metadata": {
    "id": "czf66MKq7isa"
   },
   "source": [
    "\n",
    "## 2.1 The F-statistic\n",
    "\n",
    "To get around this problem, we need a new statistic - F. The F-statistic can be thought of as the ratio of the average distance between centers of the groups (*between groups*) and the average spread of data within the group around each group center (*within groups*). Distances are computed by using the squared differences from the means (global mean and the group mean). Intuitively, when centers are far apart or data is clustered tightly around the group centers the F statistic is high."
   ]
  },
  {
   "cell_type": "markdown",
   "metadata": {
    "id": "iadcuPyTlrGF"
   },
   "source": [
    "## 2.2 Formulating hypotheses\n",
    "\n",
    "An important application of ANOVA is in deciding if the different variations put in production are indeed different in terms of performance. This is usually referred to as A/B testing and is an extenstion of the t-test framework. \n",
    "\n",
    "Formally,\n",
    "\n",
    "$$\n",
    "H_0: \\mu_1 = \\mu_2 = \\mu_3 = \\ldots\n",
    "$$\n",
    "$$\n",
    "H_1: \\text{At least one of the group means is different}\n",
    "$$\n",
    "\n",
    "\n",
    "Under the null hypothesis, the F-statistic is 0. The p-value computed from the F distribution will indicate how likely is it to observe such a statistic if indeed the null hypothesis is true."
   ]
  },
  {
   "cell_type": "markdown",
   "metadata": {
    "id": "D-rq6PO9kEz3"
   },
   "source": [
    "# 3. Example: A/B test"
   ]
  },
  {
   "cell_type": "markdown",
   "metadata": {
    "id": "wjiRy1FHkK8r"
   },
   "source": [
    "Assume that you are looking to replace the current base model in production that is predicting the top three items to be recommended to a user when they log in. The data science team proposes two alternative models that are better in accuracy. However, you want to check if the prediction times of these models is at least on par or better than the model currently in production. If the model takes substantially longer to predict then the higher accuracy might not be of much help.  "
   ]
  },
  {
   "cell_type": "markdown",
   "metadata": {
    "id": "YPuCndy8j_UF"
   },
   "source": [
    "![image.png](data:image/png;base64,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)"
   ]
  },
  {
   "cell_type": "markdown",
   "metadata": {
    "id": "d-WT8UbYlR5Q"
   },
   "source": [
    "The null hypothesis in this case is that there is no different in prediction times between the base model and the two variants A and B. If there is no evidence to reject the null hypothesis then we would have established a difference."
   ]
  },
  {
   "cell_type": "code",
   "execution_count": 11,
   "metadata": {
    "cellView": "form",
    "executionInfo": {
     "elapsed": 514,
     "status": "ok",
     "timestamp": 1636710324045,
     "user": {
      "displayName": "Pavankumar Gurazada",
      "photoUrl": "https://lh3.googleusercontent.com/a/default-user=s64",
      "userId": "18187825277142859249"
     },
     "user_tz": -330
    },
    "id": "QKJRSbFo7j5R"
   },
   "outputs": [],
   "source": [
    "#@title Data on prediction times for current model in production and two variants A & B\n",
    "prediction_times_base_model = np.random.normal(loc=.64, scale=.1, size=669)\n",
    "prediction_times_variantA = np.random.normal(loc=.69, scale=.1, size=771)\n",
    "prediction_times_variantB = np.random.normal(loc=.62, scale=.1, size=634)"
   ]
  },
  {
   "cell_type": "code",
   "execution_count": 10,
   "metadata": {
    "colab": {
     "base_uri": "https://localhost:8080/"
    },
    "executionInfo": {
     "elapsed": 463,
     "status": "ok",
     "timestamp": 1636710293987,
     "user": {
      "displayName": "Pavankumar Gurazada",
      "photoUrl": "https://lh3.googleusercontent.com/a/default-user=s64",
      "userId": "18187825277142859249"
     },
     "user_tz": -330
    },
    "id": "clVO9xichIDw",
    "outputId": "f9492c6a-4a77-46d9-fc5f-30b3dba702d0"
   },
   "outputs": [
    {
     "data": {
      "text/plain": [
       "((669,), 0.6393791323522957, 0.10220127456367599)"
      ]
     },
     "execution_count": 10,
     "metadata": {},
     "output_type": "execute_result"
    }
   ],
   "source": [
    "(prediction_times_base_model.shape, \n",
    " prediction_times_base_model.mean(), \n",
    " prediction_times_base_model.std())"
   ]
  },
  {
   "cell_type": "code",
   "execution_count": 12,
   "metadata": {
    "colab": {
     "base_uri": "https://localhost:8080/"
    },
    "executionInfo": {
     "elapsed": 7,
     "status": "ok",
     "timestamp": 1636710349136,
     "user": {
      "displayName": "Pavankumar Gurazada",
      "photoUrl": "https://lh3.googleusercontent.com/a/default-user=s64",
      "userId": "18187825277142859249"
     },
     "user_tz": -330
    },
    "id": "Ynfp8kaLhWh3",
    "outputId": "96914e2a-6f35-45d1-ae22-e03dd04bf8ea"
   },
   "outputs": [
    {
     "data": {
      "text/plain": [
       "((771,), 0.6826704624935674, 0.09629980636186733)"
      ]
     },
     "execution_count": 12,
     "metadata": {},
     "output_type": "execute_result"
    }
   ],
   "source": [
    "(prediction_times_variantA.shape,\n",
    " prediction_times_variantA.mean(), \n",
    " prediction_times_variantA.std())"
   ]
  },
  {
   "cell_type": "code",
   "execution_count": 13,
   "metadata": {
    "colab": {
     "base_uri": "https://localhost:8080/"
    },
    "executionInfo": {
     "elapsed": 406,
     "status": "ok",
     "timestamp": 1636710371620,
     "user": {
      "displayName": "Pavankumar Gurazada",
      "photoUrl": "https://lh3.googleusercontent.com/a/default-user=s64",
      "userId": "18187825277142859249"
     },
     "user_tz": -330
    },
    "id": "bBIIsfwwhi2U",
    "outputId": "361372a4-3b06-43d1-b864-4730ff9075b1"
   },
   "outputs": [
    {
     "data": {
      "text/plain": [
       "((634,), 0.6264418630279657, 0.09976084562995752)"
      ]
     },
     "execution_count": 13,
     "metadata": {},
     "output_type": "execute_result"
    }
   ],
   "source": [
    "(prediction_times_variantB.shape,\n",
    " prediction_times_variantB.mean(), \n",
    " prediction_times_variantB.std())"
   ]
  },
  {
   "cell_type": "code",
   "execution_count": 15,
   "metadata": {
    "executionInfo": {
     "elapsed": 469,
     "status": "ok",
     "timestamp": 1636710450939,
     "user": {
      "displayName": "Pavankumar Gurazada",
      "photoUrl": "https://lh3.googleusercontent.com/a/default-user=s64",
      "userId": "18187825277142859249"
     },
     "user_tz": -330
    },
    "id": "JjP1hoqShmI8"
   },
   "outputs": [],
   "source": [
    "f_test = st.f_oneway(prediction_times_base_model,\n",
    "                     prediction_times_variantA,\n",
    "                     prediction_times_variantB)"
   ]
  },
  {
   "cell_type": "code",
   "execution_count": 16,
   "metadata": {
    "colab": {
     "base_uri": "https://localhost:8080/"
    },
    "executionInfo": {
     "elapsed": 401,
     "status": "ok",
     "timestamp": 1636710456971,
     "user": {
      "displayName": "Pavankumar Gurazada",
      "photoUrl": "https://lh3.googleusercontent.com/a/default-user=s64",
      "userId": "18187825277142859249"
     },
     "user_tz": -330
    },
    "id": "ruN7h4LLiy4Q",
    "outputId": "9ae4890a-faa3-4800-9c3d-52ae4fa64413"
   },
   "outputs": [
    {
     "data": {
      "text/plain": [
       "2.567432907166552e-26"
      ]
     },
     "execution_count": 16,
     "metadata": {},
     "output_type": "execute_result"
    }
   ],
   "source": [
    "f_test.pvalue"
   ]
  },
  {
   "cell_type": "markdown",
   "metadata": {
    "id": "aSEl2riylChD"
   },
   "source": [
    "**Challenge:**\n",
    "Is running a t-test after observing the results of an ANOVA allowed?"
   ]
  },
  {
   "cell_type": "code",
   "execution_count": 18,
   "metadata": {
    "colab": {
     "base_uri": "https://localhost:8080/"
    },
    "executionInfo": {
     "elapsed": 399,
     "status": "ok",
     "timestamp": 1636710976134,
     "user": {
      "displayName": "Pavankumar Gurazada",
      "photoUrl": "https://lh3.googleusercontent.com/a/default-user=s64",
      "userId": "18187825277142859249"
     },
     "user_tz": -330
    },
    "id": "TyI7caW5i7hH",
    "outputId": "d9b7cbe3-e7d2-4339-80ef-ffeb641f9e01"
   },
   "outputs": [
    {
     "data": {
      "text/plain": [
       "Ttest_indResult(statistic=3.1118047660868733, pvalue=0.0018999533919842936)"
      ]
     },
     "execution_count": 18,
     "metadata": {},
     "output_type": "execute_result"
    }
   ],
   "source": [
    "st.ttest_ind(prediction_times_base_model, prediction_times_variantB)"
   ]
  },
  {
   "cell_type": "markdown",
   "metadata": {
    "id": "CKtAUVuKSBwp"
   },
   "source": [
    "# Summary\n",
    "\n",
    "1. ANOVA extends the t-test for difference in two groups to scenarios where there are multiple groups\n",
    "\n",
    "2. The F statistic used in ANOVA achieves a high value if the group centers are widely separated or if the data is tightly clustered aroung the group centers. Higher the F statistic, the better the feature is (ANOVA would reject the null hypothesis)"
   ]
  }
 ],
 "metadata": {
  "colab": {
   "authorship_tag": "ABX9TyMI6LGiZ0ZQDQbZqysogeeD",
   "collapsed_sections": [],
   "name": "05_hypothesis-test-ANOVA.ipynb",
   "provenance": []
  },
  "kernelspec": {
   "display_name": "Python 3 (ipykernel)",
   "language": "python",
   "name": "python3"
  },
  "language_info": {
   "codemirror_mode": {
    "name": "ipython",
    "version": 3
   },
   "file_extension": ".py",
   "mimetype": "text/x-python",
   "name": "python",
   "nbconvert_exporter": "python",
   "pygments_lexer": "ipython3",
   "version": "3.9.7"
  }
 },
 "nbformat": 4,
 "nbformat_minor": 1
}
