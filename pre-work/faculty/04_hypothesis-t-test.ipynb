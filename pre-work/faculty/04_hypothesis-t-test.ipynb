{
 "cells": [
  {
   "cell_type": "markdown",
   "metadata": {
    "id": "grc5OAcJipE_"
   },
   "source": [
    "# 1. Objective\n",
    "\n",
    "To introduce the t-test to test the validity of null hypotheses involving two samples"
   ]
  },
  {
   "cell_type": "markdown",
   "metadata": {
    "id": "gggj1Crbiq_I"
   },
   "source": [
    "## 1.1 Preliminaries"
   ]
  },
  {
   "cell_type": "code",
   "execution_count": 6,
   "metadata": {
    "executionInfo": {
     "elapsed": 541,
     "status": "ok",
     "timestamp": 1637486191595,
     "user": {
      "displayName": "Pavankumar Gurazada",
      "photoUrl": "https://lh3.googleusercontent.com/a/default-user=s64",
      "userId": "18187825277142859249"
     },
     "user_tz": -330
    },
    "id": "SMDSzzzlijC6"
   },
   "outputs": [],
   "source": [
    "import pandas as pd\n",
    "import numpy as np\n",
    "\n",
    "import scipy.stats as st"
   ]
  },
  {
   "cell_type": "markdown",
   "metadata": {
    "id": "cJMCvZMSivgu"
   },
   "source": [
    "# 2. Testing hypotheses"
   ]
  },
  {
   "cell_type": "markdown",
   "metadata": {
    "id": "kbOpzGWoHFp9"
   },
   "source": [
    "## 2.1 Example 1"
   ]
  },
  {
   "cell_type": "markdown",
   "metadata": {
    "id": "LHTLG-6Fbht5"
   },
   "source": [
    "Google Pay rolled out an important backend update aimed at reducing the latency on payment confirmation. However, they want to understand if this a significant difference from previous versions. The null and alternative hypotheses for this scenario are:"
   ]
  },
  {
   "cell_type": "markdown",
   "metadata": {
    "id": "DYDBl2T3aRXv"
   },
   "source": [
    "\n",
    "$$\n",
    "H_0: \\text{latency after update} = \\text{latency before update} \n",
    "$$\n",
    "$$\n",
    "H_1: \\text{latency after update} < \\text{latency before update} \n",
    "$$"
   ]
  },
  {
   "cell_type": "markdown",
   "metadata": {
    "id": "VsRnbl0JaRXw"
   },
   "source": [
    "\n",
    "Validation of hypotheses requires the creation of appropriate test statistics. When the null hypothesis is true, test statistics have a value of 0 (signifying no difference). \n",
    "\n",
    "A natural test statistic in this case would be the standardized difference in sample means (so we could compare it to a standard t-distribution)."
   ]
  },
  {
   "cell_type": "markdown",
   "metadata": {
    "id": "_msB3qR2eMm2"
   },
   "source": [
    "Now we collect data to test our hypotheses. In this case, we collect the latency observed on a random sample before the update was rolled out and the latency observed on another random sample after the update was rolled out."
   ]
  },
  {
   "cell_type": "code",
   "execution_count": 11,
   "metadata": {
    "cellView": "form",
    "executionInfo": {
     "elapsed": 19,
     "status": "ok",
     "timestamp": 1637486192176,
     "user": {
      "displayName": "Pavankumar Gurazada",
      "photoUrl": "https://lh3.googleusercontent.com/a/default-user=s64",
      "userId": "18187825277142859249"
     },
     "user_tz": -330
    },
    "id": "tciTtxVDHG5x"
   },
   "outputs": [],
   "source": [
    "#@title Latency data pre and post update \n",
    "latency_before_update = np.random.normal(loc=1.7, \n",
    "                                         scale=0.3, \n",
    "                                         size=200)\n",
    "\n",
    "latency_after_update = np.random.normal(loc=1.5, \n",
    "                                        scale=0.3, \n",
    "                                        size=200)"
   ]
  },
  {
   "cell_type": "code",
   "execution_count": 12,
   "metadata": {
    "colab": {
     "base_uri": "https://localhost:8080/"
    },
    "executionInfo": {
     "elapsed": 19,
     "status": "ok",
     "timestamp": 1637486192177,
     "user": {
      "displayName": "Pavankumar Gurazada",
      "photoUrl": "https://lh3.googleusercontent.com/a/default-user=s64",
      "userId": "18187825277142859249"
     },
     "user_tz": -330
    },
    "id": "kjwjRC6UfhKO",
    "outputId": "2f77dd96-3ed2-4164-a444-fa3254d24ca1"
   },
   "outputs": [
    {
     "data": {
      "text/plain": [
       "(1.7091304934719025, 0.2962031812057711)"
      ]
     },
     "execution_count": 12,
     "metadata": {},
     "output_type": "execute_result"
    }
   ],
   "source": [
    "(latency_before_update.mean(), latency_before_update.std())"
   ]
  },
  {
   "cell_type": "code",
   "execution_count": 13,
   "metadata": {
    "colab": {
     "base_uri": "https://localhost:8080/"
    },
    "executionInfo": {
     "elapsed": 17,
     "status": "ok",
     "timestamp": 1637486192177,
     "user": {
      "displayName": "Pavankumar Gurazada",
      "photoUrl": "https://lh3.googleusercontent.com/a/default-user=s64",
      "userId": "18187825277142859249"
     },
     "user_tz": -330
    },
    "id": "qyDamPYXfin0",
    "outputId": "5d605204-2d6e-4ee2-8090-0e0173c5116d"
   },
   "outputs": [
    {
     "data": {
      "text/plain": [
       "(1.4991684270216807, 0.271025206108724)"
      ]
     },
     "execution_count": 13,
     "metadata": {},
     "output_type": "execute_result"
    }
   ],
   "source": [
    "(latency_after_update.mean(), latency_after_update.std())"
   ]
  },
  {
   "cell_type": "code",
   "execution_count": 14,
   "metadata": {
    "executionInfo": {
     "elapsed": 16,
     "status": "ok",
     "timestamp": 1637486192178,
     "user": {
      "displayName": "Pavankumar Gurazada",
      "photoUrl": "https://lh3.googleusercontent.com/a/default-user=s64",
      "userId": "18187825277142859249"
     },
     "user_tz": -330
    },
    "id": "4eIzqJhR3tPf"
   },
   "outputs": [],
   "source": [
    "two_sample_ttest = st.ttest_ind(latency_before_update, latency_after_update,\n",
    "                                equal_var=False)"
   ]
  },
  {
   "cell_type": "code",
   "execution_count": 15,
   "metadata": {
    "colab": {
     "base_uri": "https://localhost:8080/"
    },
    "executionInfo": {
     "elapsed": 16,
     "status": "ok",
     "timestamp": 1637486192179,
     "user": {
      "displayName": "Pavankumar Gurazada",
      "photoUrl": "https://lh3.googleusercontent.com/a/default-user=s64",
      "userId": "18187825277142859249"
     },
     "user_tz": -330
    },
    "id": "7mnHplJT4F8Z",
    "outputId": "4df8dd90-b3ca-4552-8731-a6cc36e49558"
   },
   "outputs": [
    {
     "data": {
      "text/plain": [
       "9.607286083723884e-13"
      ]
     },
     "execution_count": 15,
     "metadata": {},
     "output_type": "execute_result"
    }
   ],
   "source": [
    "two_sample_ttest.pvalue"
   ]
  },
  {
   "cell_type": "markdown",
   "metadata": {
    "id": "w9okw2EqHBzV"
   },
   "source": [
    "## 2.2 Example 2"
   ]
  },
  {
   "cell_type": "markdown",
   "metadata": {
    "id": "KH4dTXv_aQqG"
   },
   "source": [
    "A model demonstrated an accuracy of 0.7 during the training phase. Before rolling this model out to production, you want to test if this stated accuracy holds even on live data. So, the first step is to set up the null and alternative hypotheses. "
   ]
  },
  {
   "cell_type": "markdown",
   "metadata": {
    "id": "0_d8NNWXq-kt"
   },
   "source": [
    "\n",
    "$$\n",
    "H_0: \\text{model accuracy} = 0.7 \n",
    "$$\n",
    "$$\n",
    "H_1: \\text{model accuracy} \\neq 0.7 \n",
    "$$"
   ]
  },
  {
   "cell_type": "markdown",
   "metadata": {
    "id": "eBB5MdDvq9Ym"
   },
   "source": [
    "\n",
    "Validation of hypotheses requires the creation of appropriate test statistics. When the null hypothesis is true, test statistics have a value of 0 (signifying no difference). \n",
    "\n",
    "A natural test statistic in this case would be the standardized difference of the sample mean from 0.7 (so we could compare it to a standard t-distribution)."
   ]
  },
  {
   "cell_type": "markdown",
   "metadata": {
    "id": "uuzwXixmbTII"
   },
   "source": [
    "Now, we collect the data and observe the sample statistics. **Ensure that the hypotheses are stated before the sample data is observed**."
   ]
  },
  {
   "cell_type": "code",
   "execution_count": 7,
   "metadata": {
    "cellView": "form",
    "executionInfo": {
     "elapsed": 24,
     "status": "ok",
     "timestamp": 1637486192173,
     "user": {
      "displayName": "Pavankumar Gurazada",
      "photoUrl": "https://lh3.googleusercontent.com/a/default-user=s64",
      "userId": "18187825277142859249"
     },
     "user_tz": -330
    },
    "id": "loWWiH60VyOm"
   },
   "outputs": [],
   "source": [
    "#@title Data from a model tested for 8 weeks = 56 days on random samples of live data\n",
    "model_accuracy_data = np.random.normal(loc=0.65, \n",
    "                                       scale=0.1, \n",
    "                                       size=8*7)\n",
    "model_accuracy_production = pd.Series(model_accuracy_data, \n",
    "                                      name='accuracy_in_production',\n",
    "                                      index=['day_'+ str(i+1) for i in range(8*7)])"
   ]
  },
  {
   "cell_type": "markdown",
   "metadata": {
    "id": "ra0JWnUNxOkv"
   },
   "source": [
    "We have 56 samples of accuracy here."
   ]
  },
  {
   "cell_type": "code",
   "execution_count": 8,
   "metadata": {
    "colab": {
     "base_uri": "https://localhost:8080/"
    },
    "executionInfo": {
     "elapsed": 24,
     "status": "ok",
     "timestamp": 1637486192174,
     "user": {
      "displayName": "Pavankumar Gurazada",
      "photoUrl": "https://lh3.googleusercontent.com/a/default-user=s64",
      "userId": "18187825277142859249"
     },
     "user_tz": -330
    },
    "id": "9t9ysbogHEvy",
    "outputId": "825307a1-b8fd-4ae9-dfd5-3e9e87811e37"
   },
   "outputs": [
    {
     "data": {
      "text/plain": [
       "count    56.000000\n",
       "mean      0.642556\n",
       "std       0.115290\n",
       "min       0.429578\n",
       "25%       0.552529\n",
       "50%       0.645886\n",
       "75%       0.713281\n",
       "max       0.960680\n",
       "Name: accuracy_in_production, dtype: float64"
      ]
     },
     "execution_count": 8,
     "metadata": {},
     "output_type": "execute_result"
    }
   ],
   "source": [
    "model_accuracy_production.describe()"
   ]
  },
  {
   "cell_type": "code",
   "execution_count": 9,
   "metadata": {
    "executionInfo": {
     "elapsed": 21,
     "status": "ok",
     "timestamp": 1637486192175,
     "user": {
      "displayName": "Pavankumar Gurazada",
      "photoUrl": "https://lh3.googleusercontent.com/a/default-user=s64",
      "userId": "18187825277142859249"
     },
     "user_tz": -330
    },
    "id": "Byp7B2VxzFfc"
   },
   "outputs": [],
   "source": [
    "one_sample_ttest = st.ttest_1samp(model_accuracy_production, 0.7)"
   ]
  },
  {
   "cell_type": "code",
   "execution_count": 10,
   "metadata": {
    "colab": {
     "base_uri": "https://localhost:8080/"
    },
    "executionInfo": {
     "elapsed": 20,
     "status": "ok",
     "timestamp": 1637486192175,
     "user": {
      "displayName": "Pavankumar Gurazada",
      "photoUrl": "https://lh3.googleusercontent.com/a/default-user=s64",
      "userId": "18187825277142859249"
     },
     "user_tz": -330
    },
    "id": "51jbtDK620yd",
    "outputId": "7ae12f5a-c11b-4b61-84e3-76c38afceca7"
   },
   "outputs": [
    {
     "data": {
      "text/plain": [
       "0.0004566864427527832"
      ]
     },
     "execution_count": 10,
     "metadata": {},
     "output_type": "execute_result"
    }
   ],
   "source": [
    "one_sample_ttest.pvalue"
   ]
  },
  {
   "cell_type": "markdown",
   "metadata": {
    "id": "2v-vN_x_14x9"
   },
   "source": [
    "The p-value > .05, hence if the null hypothesis is true, there is substantial probability that the sample will have a mean of 0.664. Hence, given the evidence, we conclude that the accuracy observed in production is 0.7, with the actual value observed is within the realm of sampling variation."
   ]
  },
  {
   "cell_type": "markdown",
   "metadata": {
    "id": "HZrPBHdDgXq6"
   },
   "source": [
    "## 2.3 Example 3"
   ]
  },
  {
   "cell_type": "markdown",
   "metadata": {
    "id": "gC3cxao3gqiE"
   },
   "source": [
    "Google Pay wants to understand if consumers perceive their app to be better than PhonePe in terms of ease of use. In this scenario, the null and alternate hypotheses are:"
   ]
  },
  {
   "cell_type": "markdown",
   "metadata": {
    "id": "ldDD9txBg_-l"
   },
   "source": [
    "\n",
    "$$\n",
    "H_0: \\text{ease of use for Google Pay} = \\text{ease of use for PhonePe} \n",
    "$$\n",
    "$$\n",
    "H_1: \\text{ease of use for Google Pay} > \\text{ease of use for PhonePe} \n",
    "$$"
   ]
  },
  {
   "cell_type": "markdown",
   "metadata": {
    "id": "HVJFehj-hQ_7"
   },
   "source": [
    "To validate the null hypothesis, we will need to collect data on ease of use for Google Pay and PhonePe. One way would be to survey a random sample of users of both apps to rate them on a scale measuring ease of use."
   ]
  },
  {
   "cell_type": "code",
   "execution_count": null,
   "metadata": {
    "id": "nPKQjaKR4u1k"
   },
   "outputs": [],
   "source": [
    "data_df = pd.read_csv('')"
   ]
  },
  {
   "cell_type": "code",
   "execution_count": null,
   "metadata": {
    "executionInfo": {
     "elapsed": 7,
     "status": "aborted",
     "timestamp": 1637486192768,
     "user": {
      "displayName": "Pavankumar Gurazada",
      "photoUrl": "https://lh3.googleusercontent.com/a/default-user=s64",
      "userId": "18187825277142859249"
     },
     "user_tz": -330
    },
    "id": "4ZpmEQ3-40ZT"
   },
   "outputs": [],
   "source": [
    "data_df.head()"
   ]
  },
  {
   "cell_type": "code",
   "execution_count": null,
   "metadata": {
    "executionInfo": {
     "elapsed": 7,
     "status": "aborted",
     "timestamp": 1637486192769,
     "user": {
      "displayName": "Pavankumar Gurazada",
      "photoUrl": "https://lh3.googleusercontent.com/a/default-user=s64",
      "userId": "18187825277142859249"
     },
     "user_tz": -330
    },
    "id": "PxWZKRrn462U"
   },
   "outputs": [],
   "source": [
    "paired_ttest = st.ttest_rel(data_df.gpay_eou, data_df.phonepe_eou)"
   ]
  },
  {
   "cell_type": "code",
   "execution_count": null,
   "metadata": {
    "executionInfo": {
     "elapsed": 8,
     "status": "aborted",
     "timestamp": 1637486192770,
     "user": {
      "displayName": "Pavankumar Gurazada",
      "photoUrl": "https://lh3.googleusercontent.com/a/default-user=s64",
      "userId": "18187825277142859249"
     },
     "user_tz": -330
    },
    "id": "AdJHEKac5Gdt"
   },
   "outputs": [],
   "source": [
    "paired_ttest.pvalue"
   ]
  },
  {
   "cell_type": "markdown",
   "metadata": {
    "id": "BIXSH54ch0jr"
   },
   "source": [
    "# Summary\n",
    "\n",
    "t-tests can be used to validate the comparision between two parameters of interest. It has three flavors - one sample, two sample & paired samples - depending on the way the hypothesis and data collection are set up "
   ]
  }
 ],
 "metadata": {
  "colab": {
   "authorship_tag": "ABX9TyOtJV+gOLLGMjoRg5B/dV7u",
   "collapsed_sections": [],
   "name": "04_hypothesis-t-test.ipynb",
   "provenance": []
  },
  "kernelspec": {
   "display_name": "Python 3 (ipykernel)",
   "language": "python",
   "name": "python3"
  },
  "language_info": {
   "codemirror_mode": {
    "name": "ipython",
    "version": 3
   },
   "file_extension": ".py",
   "mimetype": "text/x-python",
   "name": "python",
   "nbconvert_exporter": "python",
   "pygments_lexer": "ipython3",
   "version": "3.9.7"
  }
 },
 "nbformat": 4,
 "nbformat_minor": 1
}
