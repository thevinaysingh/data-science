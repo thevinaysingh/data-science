{
 "cells": [
  {
   "cell_type": "markdown",
   "id": "2e086100",
   "metadata": {},
   "source": [
    "# Welcome to my first jupyter notebook"
   ]
  },
  {
   "cell_type": "code",
   "execution_count": 1,
   "id": "7f7267fe",
   "metadata": {},
   "outputs": [
    {
     "name": "stdout",
     "output_type": "stream",
     "text": [
      "<function <listcomp>.<lambda> at 0x10eb86d30>\n"
     ]
    }
   ],
   "source": [
    "listss = [lambda a=x : x*x for x in range(10)]\n",
    "print(listss[3])"
   ]
  },
  {
   "cell_type": "code",
   "execution_count": 3,
   "id": "ebabbb08",
   "metadata": {},
   "outputs": [
    {
     "name": "stdout",
     "output_type": "stream",
     "text": [
      "[[[1. 1. 1. 1.]\n",
      "  [1. 1. 1. 1.]\n",
      "  [1. 1. 1. 1.]]\n",
      "\n",
      " [[1. 1. 1. 1.]\n",
      "  [1. 1. 1. 1.]\n",
      "  [1. 1. 1. 1.]]]\n"
     ]
    }
   ],
   "source": [
    "import numpy as np\n",
    "\n",
    "three_d_array = np.ones([2, 3, 4])\n",
    "\n",
    "print(three_d_array)"
   ]
  },
  {
   "cell_type": "code",
   "execution_count": 57,
   "id": "12365f87",
   "metadata": {},
   "outputs": [
    {
     "name": "stdout",
     "output_type": "stream",
     "text": [
      "[ 0  1  2  3  4  5  6  7  8  9 10 11 12 13 14 15 16 17 18 19]\n"
     ]
    }
   ],
   "source": [
    "arange_array = np.arange(20)\n",
    "print(arange_array)"
   ]
  },
  {
   "cell_type": "markdown",
   "id": "da8cf23a",
   "metadata": {},
   "source": [
    "## 1. In Built\n",
    "### Common Funtions and keywords\n",
    "interable objects are\n",
    "- list\n",
    "- tuple\n",
    "- dictionary\n",
    "- set\n",
    "\n",
    "mutable objects\n",
    "- list\n",
    "- dict\n",
    "- set"
   ]
  },
  {
   "cell_type": "code",
   "execution_count": 49,
   "id": "b8d03abb",
   "metadata": {},
   "outputs": [
    {
     "name": "stdout",
     "output_type": "stream",
     "text": [
      "abs function:\n",
      "970\n",
      "\n",
      "all function:\n",
      "True\n",
      "False\n",
      "False\n",
      "False\n",
      "True\n",
      "\n",
      "any function:\n",
      "True\n",
      "False\n",
      "False\n",
      "False\n",
      "True\n",
      "\n",
      "ascii function:\n",
      "'My name is St\\xe5le'\n",
      "\n",
      "assert function:\n",
      "\n",
      "bin function:\n",
      "0b1111\n",
      "\n",
      "chr function:\n",
      "A\n",
      "Z\n",
      "a\n",
      "z\n",
      "\n",
      "del function:\n",
      "['banana', 'cherry']\n",
      "\n",
      "dir function:\n",
      "['__add__', '__class__', '__class_getitem__', '__contains__', '__delattr__', '__delitem__', '__dir__', '__doc__', '__eq__', '__format__', '__ge__', '__getattribute__', '__getitem__', '__gt__', '__hash__', '__iadd__', '__imul__', '__init__', '__init_subclass__', '__iter__', '__le__', '__len__', '__lt__', '__mul__', '__ne__', '__new__', '__reduce__', '__reduce_ex__', '__repr__', '__reversed__', '__rmul__', '__setattr__', '__setitem__', '__sizeof__', '__str__', '__subclasshook__', 'append', 'clear', 'copy', 'count', 'extend', 'index', 'insert', 'pop', 'remove', 'reverse', 'sort']\n",
      "\n",
      "enumerate function:\n",
      "[(0, 'apple'), (1, 'banana'), (2, 'cherry')]\n",
      "\n",
      "eval function:\n",
      "55\n",
      "\n",
      "exec function:\n",
      "John\n",
      "\n",
      "format function:\n",
      "John\n",
      "\n",
      "format function:\n",
      "140467716550976 140467717423552\n",
      "-8984108024858988118 -8984108024858988118\n",
      "\n",
      "isinstance function:\n",
      "True\n",
      "\n",
      "iter function:\n",
      "The list is of type : <class 'list'>\n",
      "The iterator is of type : <class 'list_iterator'>\n",
      "1\n",
      "2\n",
      "3\n",
      "4\n",
      "5\n"
     ]
    }
   ],
   "source": [
    "# abs: used to return the absolute value of a number,\n",
    "print('abs function:')\n",
    "print(abs(10 + 20 - 1000)) # 970\n",
    "\n",
    "# all: returns True if all items in an iterable (list, tuple, dict, set) are true, otherwise it returns False.\n",
    "# For dictionaries the all() function checks the keys, not the values.\n",
    "print('\\nall function:')\n",
    "print(all([10, \"vinay\", True])) # True\n",
    "print(all([0, '', None])) # list > False\n",
    "print(all((0, '', None))) # Tuple > False\n",
    "print(all({0, '', None})) # Set > False\n",
    "mydict = {'key' : \"Apple\", 1 : \"Orange\"}\n",
    "print(all(mydict)) # dict > True\n",
    "\n",
    "# any: returns True if any item in an iterable (list, tuple, dict, set) are true, otherwise it returns False.\n",
    "# For dictionaries the any() function checks the keys, not the values.\n",
    "print('\\nany function:')\n",
    "print(any([10, \"vinay\", True])) # True\n",
    "print(any([0, '', None])) # list > False\n",
    "print(any((0, '', None))) # Tuple > False\n",
    "print(any({0, '', None})) # Set > False\n",
    "mydict = {None : \"Apple\", 1 : \"Orange\"}\n",
    "print(any(mydict)) # dict > True\n",
    "\n",
    "# ascii: returns a readable version of any object (Strings, Tuples, Lists, etc).\n",
    "# function will replace any non-ascii characters with escape characters\n",
    "print('\\nascii function:')\n",
    "print(ascii('My name is Ståle')) # å will be replaced with \\xe5.\n",
    "\n",
    "# assert: The assert keyword is used when debugging code.\n",
    "print('\\nassert function:')\n",
    "assert 20+10 == 30\n",
    "\n",
    "# bin: returns the binary version of a specified integer.\n",
    "print('\\nbin function:')\n",
    "print(bin(15))\n",
    "\n",
    "# chr: function returns the character that represents the specified unicode.\n",
    "print('\\nchr function:')\n",
    "print(chr(65)) # A\n",
    "print(chr(90)) # Z\n",
    "print(chr(97)) # a\n",
    "print(chr(122)) # z\n",
    "\n",
    "# del: The del keyword is used to delete objects. In Python everything is an object,\n",
    "# so the del keyword can also be used to delete variables, lists, or parts of a list etc.\n",
    "print('\\ndel function:')\n",
    "x = \"hello\"\n",
    "x1 = [\"apple\", \"banana\", \"cherry\"]\n",
    "del x1[0]\n",
    "print(x1) # ['banana', 'cherry']\n",
    "\n",
    "\n",
    "# delattr(): function is used to delete an attribute from a class.\n",
    "# It takes two parameters first is an object of the class and\n",
    "# second is an attribute which we want to delete.\n",
    "\n",
    "# dir: function returns all properties and methods of the specified object, without the values.\n",
    "print('\\ndir function:')\n",
    "obj = list()\n",
    "print(dir(obj))\n",
    "\n",
    "# enumerate() function takes a collection (e.g. a tuple) and returns it as an enumerate object.\n",
    "# enumerate() function adds a counter as the key of the enumerate object.\n",
    "print('\\nenumerate function:')\n",
    "x = ('apple', 'banana', 'cherry')\n",
    "y = enumerate(x)\n",
    "print(list(y)) # [(0, 'apple'), (1, 'banana'), (2, 'cherry')]\n",
    "\n",
    "# eval() function evaluates the specified expression,\n",
    "# if the expression is a legal Python statement, it will be executed.\n",
    "print('\\neval function:')\n",
    "x = 'print(55)'\n",
    "eval(x)\n",
    "\n",
    "# exec() function executes the specified Python code.\n",
    "# function accepts large blocks of code, unlike the eval() function which only accepts a single expression\n",
    "print('\\nexec function:')\n",
    "x = 'name = \"John\"\\nprint(name)'\n",
    "exec(x)\n",
    "\n",
    "# format() method formats the specified value(s) and insert them inside the string's placeholder.\n",
    "print('\\nformat function:')\n",
    "x = 'name = \"John\"\\nprint(name)'\n",
    "exec(x)\n",
    "\n",
    "# hash() returns the hash value of an immutable object but not for list, dict, set \n",
    "print('\\nformat function:')\n",
    "obj1 = {'key1': \"vinay\"}\n",
    "obj2 = {'key1': \"vinay\"}\n",
    "print(id(obj1), id(obj2)) # ids are different\n",
    "print(hash(str(obj1)), hash(str(obj2))) # generate same hash\n",
    "\n",
    "# isinstance: function returns True if the specified object is of the specified type, otherwise False.\n",
    "print('\\nisinstance function:')\n",
    "obj3 = {}\n",
    "print(isinstance(obj3, dict))\n",
    "\n",
    "# iter(): method returns the iterator object, it is used to convert an iterable to the iterator.\n",
    "# next() function returns the next item in an iterator.\n",
    "print('\\niter function:')\n",
    "# initializing list\n",
    "lis1 = [1, 2, 3, 4, 5]\n",
    "# printing type\n",
    "print(\"The list is of type : \" + str(type(lis1))) \n",
    "# converting list using iter()\n",
    "lis1 = iter(lis1)\n",
    "# printing type\n",
    "print(\"The iterator is of type : \" + str(type(lis1)))\n",
    "# using next() to print iterator values\n",
    "print(next(lis1))\n",
    "print(next(lis1))\n",
    "print(next(lis1))\n",
    "print(next(lis1))\n",
    "print(next(lis1))\n",
    "\n",
    "# pass: The pass statement is a null statement.\n",
    "def todoFunction():\n",
    "    pass"
   ]
  },
  {
   "cell_type": "markdown",
   "id": "4d08670f",
   "metadata": {},
   "source": [
    "### Serialization and deserialization in python"
   ]
  },
  {
   "cell_type": "code",
   "execution_count": 31,
   "id": "5c10913c",
   "metadata": {},
   "outputs": [
    {
     "name": "stdout",
     "output_type": "stream",
     "text": [
      "{'key1': 'vinay'}\n"
     ]
    }
   ],
   "source": [
    "import json\n",
    "\n",
    "obj1 = {'key1': \"vinay\"}\n",
    "print(json.loads(json.dumps(obj1)))"
   ]
  },
  {
   "cell_type": "markdown",
   "id": "d701c317",
   "metadata": {},
   "source": [
    "### float to integer conversion"
   ]
  },
  {
   "cell_type": "code",
   "execution_count": 58,
   "id": "24130ce4",
   "metadata": {},
   "outputs": [
    {
     "name": "stdout",
     "output_type": "stream",
     "text": [
      "10\n",
      "10\n",
      "10\n",
      "11\n"
     ]
    }
   ],
   "source": [
    "import math\n",
    "\n",
    "i1 = 10.50\n",
    "\n",
    "print(int(i1)) # omit decimal part\n",
    "print(round(i1)) # nearest integer\n",
    "print(math.floor(i1)) # lower interger\n",
    "print(math.ceil(i1)) # upper interger"
   ]
  },
  {
   "cell_type": "markdown",
   "id": "b981bce0",
   "metadata": {},
   "source": [
    "### Set and their functions"
   ]
  },
  {
   "cell_type": "code",
   "execution_count": 66,
   "id": "2618df75",
   "metadata": {},
   "outputs": [
    {
     "name": "stdout",
     "output_type": "stream",
     "text": [
      "set()\n",
      "{1, 3, 5}\n",
      "{1, 3, 5}\n",
      "{'k2', 'k1'}\n"
     ]
    }
   ],
   "source": [
    "set1 = set() # way1\n",
    "set2 = set((1, 3, 5)) #way2 using tuple\n",
    "set3 = set([1, 3, 5]) #way3 using list\n",
    "set4 = set({'k1': '11', 'k2': '45'}) #way4 using dict. set of keys\n",
    "print(set1)\n",
    "print(set2)\n",
    "print(set3)\n",
    "print(set4)"
   ]
  },
  {
   "cell_type": "markdown",
   "id": "aa049bc8",
   "metadata": {},
   "source": [
    "### String and their functions"
   ]
  },
  {
   "cell_type": "code",
   "execution_count": 113,
   "id": "095cf4ea",
   "metadata": {},
   "outputs": [
    {
     "name": "stdout",
     "output_type": "stream",
     "text": [
      "Myself vinay singh\n",
      "myself vinay singh\n",
      "1\n",
      "-1\n",
      "False\n",
      "False\n",
      "False\n",
      "False\n",
      "False\n",
      "False\n",
      "False\n",
      "True\n",
      "False\n",
      "False\n",
      "True\n",
      "False\n",
      "\n",
      "myself vinay singh\n",
      "myself Vinay singh\n",
      "myself vinay singh\n",
      "('myself', ' ', 'Vinay singh')\n",
      "myself_Vinay_singh\n",
      "Myself Vinay Singh\n",
      "['myself', 'Vinay', 'singh']\n",
      "['myself', 'Vinay', 'singh']\n"
     ]
    }
   ],
   "source": [
    "str1 = \"myself Vinay singh\"\n",
    "\n",
    "print(str1.capitalize()) # first char in upper case\n",
    "print(str1.casefold()) # all the characters are lower case\n",
    "print(str1.count(\"V\")) # count the string\n",
    "print(str1.find(\"not\")) # find and return index no or return -1\n",
    "# print(str1.index(\"not\")) # find and return index no or throws exception\n",
    "print(str1.isalpha()) # check if all chars are alphabet. chrs are not alphabet: (space)!#%&? etc.\n",
    "print(str1.isalnum()) # check if all chars are alphabet and int. chrs are not alphanumeric: (space)!#%&? etc.\n",
    "print(str1.isdecimal())\n",
    "print(str1.isdigit())\n",
    "print(str1.isidentifier())\n",
    "print(str1.islower())\n",
    "print(str1.isnumeric())\n",
    "print(str1.isprintable())\n",
    "print(str1.isspace())\n",
    "print(str1.istitle()) # check if first char is in upper case\n",
    "print(str1.isprintable())\n",
    "print(str1.isupper())\n",
    "print(\"\".join([])) # join all items using string\n",
    "print(str1.lower())\n",
    "print(str1.lstrip()) # remove leading spaces or chars whatever passed\n",
    "str1_trans_table = str1.maketrans(\"Vinay\", \"vinay\")\n",
    "print(str1.translate(str1_trans_table)) # replace chars\n",
    "print(str1.partition(\" \")) # return tuple containing three items. first part, separator, last part\n",
    "print(str1.replace(\" \", \"_\"))\n",
    "print(str1.title()) # capitalize start char in each word\n",
    "print(str1.split(' '))\n",
    "print(str1.rsplit(\" \"))"
   ]
  },
  {
   "cell_type": "markdown",
   "id": "4aa6c144",
   "metadata": {},
   "source": [
    "### List helper functions"
   ]
  },
  {
   "cell_type": "code",
   "execution_count": 33,
   "id": "2d3046e8",
   "metadata": {},
   "outputs": [
    {
     "name": "stdout",
     "output_type": "stream",
     "text": [
      "appned:  [1, 'vinay', 5, 6, 'singh', 'name']\n",
      "extend_list: [1, 'vinay', 5, 6, 'singh', 'name', 1, 'vinay', 5, 6, 'singh']\n",
      "insert: [1, 'I am 2nd placed', 'vinay', 5, 6, 'singh', 'name', 1, 'vinay', 5, 6, 'singh']\n",
      "pop: [1, 'I am 2nd placed', 'vinay', 5, 6, 'singh', 'name', 1, 'vinay', 5, 6]\n",
      "remove: [1, 'I am 2nd placed', 'vinay', 5, 'singh', 'name', 1, 'vinay', 5, 6]\n",
      "clear: []\n",
      "sort: ['ABCDE', 'ABCDEF', 'ABCDEFG', 'ABCDEFGH', 'ABCDEFGHI', 'ABCDEFGHIJ', 'ABCDEFGHIJK', 'ABCDEFGHIJKL', 'ABCDEFGHIJKLM', 'ABCDEFGHIJKLMN']\n",
      "index: 1\n",
      "1\n",
      "reverse:  ['singh', 6, 5, 'vinay', 1]\n",
      "copy:  ['singh', 6, 5, 'vinay', 1]\n"
     ]
    }
   ],
   "source": [
    "list_numbers = [i for i in range(20)] # way1\n",
    "list_numbers1 = list([1, \"vinay\", 5, 6, \"singh\"]) # way2\n",
    "list_numbers2 = list((1, \"vinay\", 5, 6, \"singh\")) # way3\n",
    "list_strings = [''.join([chr(j) for j in range(65, i)]) for i in range(70, 80)] #way4\n",
    "\n",
    "#append\n",
    "list_numbers1.append(\"name\")\n",
    "print(\"appned: \", list_numbers1)\n",
    "\n",
    "#insert\n",
    "list_numbers1.insert(1, \"I am 2nd placed\")\n",
    "print(\"insert:\", list_numbers1)\n",
    "\n",
    "#extend\n",
    "list_numbers1.extend(list_numbers2)\n",
    "print(\"extend_list:\", list_numbers1)\n",
    "\n",
    "#pop\n",
    "list_numbers1.pop()\n",
    "print(\"pop:\", list_numbers1)\n",
    "\n",
    "#remove\n",
    "list_numbers1.remove(6)\n",
    "print(\"remove:\", list_numbers1)\n",
    "\n",
    "#clear\n",
    "list_numbers1.clear()\n",
    "print(\"clear:\", list_numbers1)\n",
    "\n",
    "#sort\n",
    "list_strings.sort()\n",
    "print(\"sort:\", list_strings)\n",
    "\n",
    "#index\n",
    "idx = list_numbers2.index(\"vinay\")\n",
    "print(\"index:\", idx)\n",
    "\n",
    "#count\n",
    "print(list_numbers2.count(\"vinay\"))\n",
    "\n",
    "#reverse\n",
    "list_numbers2.reverse()\n",
    "print(\"reverse: \", list_numbers2)\n",
    "\n",
    "#copy\n",
    "copy_list = list_numbers2.copy()\n",
    "copy_list.append(8990)\n",
    "print(\"copy: \", list_numbers2)\n",
    "\n",
    "#slice the array\n"
   ]
  },
  {
   "cell_type": "markdown",
   "id": "77cb8499",
   "metadata": {},
   "source": [
    "### Dictionary and helper functions"
   ]
  },
  {
   "cell_type": "code",
   "execution_count": 141,
   "id": "7e3ed183",
   "metadata": {
    "scrolled": true
   },
   "outputs": [
    {
     "name": "stdout",
     "output_type": "stream",
     "text": [
      "dict_items([('key1', 'val'), ('key_to_delete', 'key_to_delete_value'), (None, 'vinay')])\n",
      "dict_values(['val', 'key_to_delete_value', 'vinay'])\n",
      "dict_keys(['key1', 'key_to_delete', None])\n",
      "val\n",
      "None\n",
      "key_to_delete_value\n",
      "('key1', 'value')\n",
      "{'new_key': 'new value'}\n",
      "{}\n",
      "key3value\n",
      "key3value\n",
      "{'brand': 'Ford', 'model': 'Mustang', 'color': 'White', 'year': 1964}\n",
      "{'brand': 'Ford', 'model': 'Mustang', 'year': 1964, 'd1': {'d1k1': 20}}\n",
      "{'brand': 'Ford', 'model': 'Mustang', 'year': 1964, 'd1': {'d1k1': 20}}\n",
      "{'key1': 0, 'key2': 0, 'key3': 0}\n"
     ]
    }
   ],
   "source": [
    "dict1 = {'key1': \"value\"} # way1\n",
    "dict2 = dict() #way2\n",
    "dict3 = dict({'key1': \"val\", 'key_to_delete': 'key_to_delete_value', None: 'vinay'}) #way3\n",
    "\n",
    "print(dict3.items()) # dict_items([('key1', 'val')]). list of tuple containing key and value\n",
    "print(dict3.values()) # list of values\n",
    "print(dict3.keys()) # list of keys\n",
    "print(dict3['key1']) # access value of a key. throws exception if no key in dict\n",
    "print(dict3.get('wrong_key')) # return None if there is no key\n",
    "print(dict3.pop('key_to_delete')) # delete key-value pair if exist and return value or throws error\n",
    "print(dict1.popitem()) # The popitem() method removes the item that was last inserted into the dictionary\n",
    "dict1['new_key'] = \"new value\"\n",
    "print(dict1)\n",
    "dict1.clear()\n",
    "print(dict1)\n",
    "print(dict1.setdefault(\"key3\", \"key3value\")) # return the value of key if exist or add the key-value pair\n",
    "print(dict1.setdefault(\"key3\", \"key3valuenew\"))\n",
    "car = {\"brand\": \"Ford\",\"model\": \"Mustang\"}\n",
    "car.update({\"color\": \"White\", \"year\": 1964}) # extends the dictionary\n",
    "print(car) # {'brand': 'Ford', 'model': 'Mustang', 'color': 'White', 'year': 1964}\n",
    "\n",
    "#copy: fun creates shallow copy of the dict\n",
    "car1 = {\n",
    "  \"brand\": \"Ford\",\n",
    "  \"model\": \"Mustang\",\n",
    "  \"year\": 1964,\n",
    "  'd1': {\n",
    "      'd1k1': 10\n",
    "  }\n",
    "}\n",
    "car1_copy = car1.copy()\n",
    "car1_copy['d1']['d1k1'] = 20\n",
    "print(car1_copy)\n",
    "print(car1)\n",
    "\n",
    "# fromkeys() method returns a dictionary with the specified keys and the specified value.\n",
    "keys_tuple = ('key1', 'key2', 'key3')\n",
    "keys_value = 0\n",
    "thisdict = dict.fromkeys(keys_tuple, keys_value)\n",
    "print(thisdict) # {'key1': 0, 'key2': 0, 'key3': 0}"
   ]
  },
  {
   "cell_type": "markdown",
   "id": "67b4866c",
   "metadata": {},
   "source": [
    "## 2. Packages and Modules\n",
    "### numpy and its functions"
   ]
  },
  {
   "cell_type": "code",
   "execution_count": 2,
   "id": "e1f3cb21",
   "metadata": {},
   "outputs": [
    {
     "name": "stdout",
     "output_type": "stream",
     "text": [
      "Numpy array type <class 'numpy.ndarray'>\n",
      "Numpy array dim 2\n"
     ]
    }
   ],
   "source": [
    "import numpy as np\n",
    "\n",
    "# way1\n",
    "np_array = np.array([100, 101, 103, 104]) # 1 Dim\n",
    "\n",
    "# way2. Both ways are same and create multi-dimensioanl arrays. 2 Dim\n",
    "np_array2 = np.array([[205, 201, 203, 204], [205, 201, 203, 204], [205, 201, 203, 204], [205, 201, 203, 204]])\n",
    "\n",
    "print('Numpy array type', type(np_array2))\n",
    "print('Numpy array dim', np_array2.ndim)"
   ]
  },
  {
   "cell_type": "code",
   "execution_count": 9,
   "id": "603452b8",
   "metadata": {},
   "outputs": [
    {
     "name": "stdout",
     "output_type": "stream",
     "text": [
      "zeros 2d array [[0 0]\n",
      " [0 0]\n",
      " [0 0]\n",
      " [0 0]\n",
      " [0 0]]\n"
     ]
    }
   ],
   "source": [
    "zeros_array_1d = np.zeros(5, dtype=int)\n",
    "zeros_array_2d = np.zeros((5,2), dtype=int)\n",
    "print('zeros 2d array', zeros_array_2d)"
   ]
  },
  {
   "cell_type": "code",
   "execution_count": 10,
   "id": "6e229254",
   "metadata": {},
   "outputs": [
    {
     "name": "stdout",
     "output_type": "stream",
     "text": [
      "ones 2d array [[1 1]\n",
      " [1 1]\n",
      " [1 1]\n",
      " [1 1]\n",
      " [1 1]]\n"
     ]
    }
   ],
   "source": [
    "ones_array_1d = np.ones(5, dtype=int)\n",
    "ones_array_2d = np.ones((5,2), dtype=int)\n",
    "print('ones 2d array', ones_array_2d)"
   ]
  },
  {
   "cell_type": "code",
   "execution_count": 3,
   "id": "bd30814a",
   "metadata": {},
   "outputs": [
    {
     "data": {
      "text/plain": [
       "array([[ 1.28822975e-231, -3.11108127e+231,  1.48219694e-323],\n",
       "       [ 0.00000000e+000,  0.00000000e+000,  4.17201348e-309]])"
      ]
     },
     "execution_count": 3,
     "metadata": {},
     "output_type": "execute_result"
    }
   ],
   "source": [
    "np.empty((2,3))"
   ]
  },
  {
   "cell_type": "code",
   "execution_count": 6,
   "id": "3613b432",
   "metadata": {},
   "outputs": [
    {
     "data": {
      "text/plain": [
       "array([[1., 0., 0., 0.],\n",
       "       [0., 1., 0., 0.],\n",
       "       [0., 0., 1., 0.],\n",
       "       [0., 0., 0., 1.]])"
      ]
     },
     "execution_count": 6,
     "metadata": {},
     "output_type": "execute_result"
    }
   ],
   "source": [
    "# Create numpy arrays\n",
    "# np.empty((2,3))\n",
    "np.eye(3)\n",
    "np.identity(4)"
   ]
  },
  {
   "cell_type": "markdown",
   "id": "fb5596cc",
   "metadata": {},
   "source": [
    "### pandas and its functions"
   ]
  },
  {
   "cell_type": "code",
   "execution_count": 4,
   "id": "f6a7f39c",
   "metadata": {},
   "outputs": [
    {
     "name": "stdout",
     "output_type": "stream",
     "text": [
      "\n",
      "First dataframe:\n",
      "       col1  col2  col3\n",
      "row1   0.0   0.0   0.0\n",
      "row2   0.0   0.0   0.0\n",
      "row3   0.0   0.0   0.0\n",
      "\n",
      "Second dataframe:\n",
      "       col1  col2  col3\n",
      "row1  42.0  36.0  46.0\n",
      "row2  42.0  36.0  46.0\n",
      "row3  42.0  36.0  46.0\n",
      "\n",
      "Third dataframe:\n",
      "       col1  col2  col3\n",
      "row1   0.0   0.0   0.0\n",
      "row2   0.0   0.0   0.0\n",
      "row3   0.0   0.0   0.0\n",
      "row1  42.0  36.0  46.0\n",
      "row2  42.0  36.0  46.0\n",
      "row3  42.0  36.0  46.0\n"
     ]
    }
   ],
   "source": [
    "import pandas as pd\n",
    "\n",
    "df1 = pd.DataFrame(data=np.zeros((3,3)), columns=['col1', 'col2', 'col3'], index=['row1', 'row2', 'row3'])\n",
    "print('\\nFirst dataframe:\\n', df1)\n",
    "\n",
    "df2 = df1.apply(lambda x: x + np.random.randint(100))\n",
    "print('\\nSecond dataframe:\\n', df2)\n",
    "\n",
    "df3 = df1.append(df2)\n",
    "print('\\nThird dataframe:\\n', df3)"
   ]
  },
  {
   "cell_type": "code",
   "execution_count": 19,
   "id": "3c393b94",
   "metadata": {},
   "outputs": [
    {
     "name": "stdout",
     "output_type": "stream",
     "text": [
      "\n",
      "Value of row1 and col1:\n",
      "       col1\n",
      "row1   0.0\n",
      "row1  42.0\n",
      "\n",
      "Value of 3rd row and 5th row:\n",
      " col1    0.0\n",
      "col2    0.0\n",
      "col3    0.0\n",
      "Name: row1, dtype: float64\n"
     ]
    }
   ],
   "source": [
    "# Pandas indexing: loc. Loc first take rows and then col.\n",
    "# valid syntax is loc[row, col]\n",
    "# valid syntax is loc[list_of_rows, list_of_cols]\n",
    "val_row1_col1 = df3.loc[['row1'], ['col1']]\n",
    "print('\\nValue of row1 and col1:\\n', val_row1_col1)"
   ]
  },
  {
   "cell_type": "code",
   "execution_count": 26,
   "id": "725d1cb1",
   "metadata": {},
   "outputs": [
    {
     "name": "stdout",
     "output_type": "stream",
     "text": [
      "\n",
      "Value of 0th row and 2nd row with col2:\n",
      "       col2\n",
      "row1   0.0\n",
      "row3   0.0\n"
     ]
    }
   ],
   "source": [
    "# Pandas indexing: iloc\n",
    "# valid syntax is loc[row_index, col_index]\n",
    "# valid syntax is loc[list_of_rows_index, list_of_cols_index]\n",
    "val_3rdrow_5throw = df3.iloc[[0,2],[1]]\n",
    "print('\\nValue of 0th row and 2nd row with col2:\\n', val_3rdrow_5throw)"
   ]
  },
  {
   "cell_type": "code",
   "execution_count": 28,
   "id": "edd8e21f",
   "metadata": {},
   "outputs": [
    {
     "data": {
      "text/html": [
       "<div>\n",
       "<style scoped>\n",
       "    .dataframe tbody tr th:only-of-type {\n",
       "        vertical-align: middle;\n",
       "    }\n",
       "\n",
       "    .dataframe tbody tr th {\n",
       "        vertical-align: top;\n",
       "    }\n",
       "\n",
       "    .dataframe thead th {\n",
       "        text-align: right;\n",
       "    }\n",
       "</style>\n",
       "<table border=\"1\" class=\"dataframe\">\n",
       "  <thead>\n",
       "    <tr style=\"text-align: right;\">\n",
       "      <th></th>\n",
       "      <th>emp_ID</th>\n",
       "      <th>employee_name</th>\n",
       "      <th>salary</th>\n",
       "    </tr>\n",
       "  </thead>\n",
       "  <tbody>\n",
       "    <tr>\n",
       "      <th>one</th>\n",
       "      <td>1011</td>\n",
       "      <td>Alex</td>\n",
       "      <td>273805</td>\n",
       "    </tr>\n",
       "    <tr>\n",
       "      <th>two</th>\n",
       "      <td>1012</td>\n",
       "      <td>John</td>\n",
       "      <td>272700</td>\n",
       "    </tr>\n",
       "    <tr>\n",
       "      <th>three</th>\n",
       "      <td>1013</td>\n",
       "      <td>Zender</td>\n",
       "      <td>349700</td>\n",
       "    </tr>\n",
       "    <tr>\n",
       "      <th>four</th>\n",
       "      <td>1014</td>\n",
       "      <td>Alex</td>\n",
       "      <td>734744</td>\n",
       "    </tr>\n",
       "    <tr>\n",
       "      <th>five</th>\n",
       "      <td>1015</td>\n",
       "      <td>Walter</td>\n",
       "      <td>374333</td>\n",
       "    </tr>\n",
       "  </tbody>\n",
       "</table>\n",
       "</div>"
      ],
      "text/plain": [
       "      emp_ID employee_name  salary\n",
       "one     1011          Alex  273805\n",
       "two     1012          John  272700\n",
       "three   1013        Zender  349700\n",
       "four    1014          Alex  734744\n",
       "five    1015        Walter  374333"
      ]
     },
     "execution_count": 28,
     "metadata": {},
     "output_type": "execute_result"
    }
   ],
   "source": [
    "data = {'emp_ID': ['1011', '1012', '1013', '1014', '1015'],\n",
    "\n",
    "                    'employee_name': ['Alex', 'John', 'Zender', 'Alex', 'Walter'],\n",
    "\n",
    "                     'salary': ['273805', '272700', '349700', '734744', '374333']}\n",
    "\n",
    "df = pd.DataFrame(data, index=['one','two','three','four','five'])\n",
    "df"
   ]
  },
  {
   "cell_type": "code",
   "execution_count": 31,
   "id": "67e56255",
   "metadata": {},
   "outputs": [
    {
     "data": {
      "text/plain": [
       "'Alex'"
      ]
     },
     "execution_count": 31,
     "metadata": {},
     "output_type": "execute_result"
    }
   ],
   "source": [
    "# access Alex\n",
    "df.iloc[0,1]"
   ]
  },
  {
   "cell_type": "code",
   "execution_count": 34,
   "id": "366aa144",
   "metadata": {},
   "outputs": [
    {
     "data": {
      "text/html": [
       "<div>\n",
       "<style scoped>\n",
       "    .dataframe tbody tr th:only-of-type {\n",
       "        vertical-align: middle;\n",
       "    }\n",
       "\n",
       "    .dataframe tbody tr th {\n",
       "        vertical-align: top;\n",
       "    }\n",
       "\n",
       "    .dataframe thead th {\n",
       "        text-align: right;\n",
       "    }\n",
       "</style>\n",
       "<table border=\"1\" class=\"dataframe\">\n",
       "  <thead>\n",
       "    <tr style=\"text-align: right;\">\n",
       "      <th></th>\n",
       "      <th>number</th>\n",
       "    </tr>\n",
       "  </thead>\n",
       "  <tbody>\n",
       "    <tr>\n",
       "      <th>0</th>\n",
       "      <td>101</td>\n",
       "    </tr>\n",
       "    <tr>\n",
       "      <th>1</th>\n",
       "      <td>290</td>\n",
       "    </tr>\n",
       "    <tr>\n",
       "      <th>2</th>\n",
       "      <td>389</td>\n",
       "    </tr>\n",
       "    <tr>\n",
       "      <th>3</th>\n",
       "      <td>478</td>\n",
       "    </tr>\n",
       "    <tr>\n",
       "      <th>4</th>\n",
       "      <td>567</td>\n",
       "    </tr>\n",
       "  </tbody>\n",
       "</table>\n",
       "</div>"
      ],
      "text/plain": [
       "   number\n",
       "0     101\n",
       "1     290\n",
       "2     389\n",
       "3     478\n",
       "4     567"
      ]
     },
     "execution_count": 34,
     "metadata": {},
     "output_type": "execute_result"
    }
   ],
   "source": [
    "df = pd.DataFrame({'number': [101, 290, 389, 478, 567]})\n",
    "df"
   ]
  },
  {
   "cell_type": "code",
   "execution_count": 35,
   "id": "e03b05ba",
   "metadata": {},
   "outputs": [
    {
     "data": {
      "text/plain": [
       "0    102\n",
       "1    291\n",
       "2    390\n",
       "3    479\n",
       "4    568\n",
       "Name: number, dtype: int64"
      ]
     },
     "execution_count": 35,
     "metadata": {},
     "output_type": "execute_result"
    }
   ],
   "source": [
    "df[\"number\"].apply(lambda x: x + 1)"
   ]
  }
 ],
 "metadata": {
  "kernelspec": {
   "display_name": "Python 3 (ipykernel)",
   "language": "python",
   "name": "python3"
  },
  "language_info": {
   "codemirror_mode": {
    "name": "ipython",
    "version": 3
   },
   "file_extension": ".py",
   "mimetype": "text/x-python",
   "name": "python",
   "nbconvert_exporter": "python",
   "pygments_lexer": "ipython3",
   "version": "3.9.7"
  }
 },
 "nbformat": 4,
 "nbformat_minor": 5
}
